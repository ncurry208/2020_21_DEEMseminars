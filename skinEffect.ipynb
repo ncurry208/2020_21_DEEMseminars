{
 "cells": [
  {
   "cell_type": "markdown",
   "metadata": {},
   "source": [
    "# Skin effect\n",
    "In the lectures (nugget 13) you looked at AC current in a wire and particularly the skin effect. In the process you saw a full-on (non-examinable) solution. In this worksheet you calculate an approximation for when the skin depth is much less than the radius. This worksheet plots the full on solution allowing you to inspect how well this agrees with the sketches in your approximation.\n",
    "\n",
    "**You need to run all the cells in this section for anything to work.**"
   ]
  },
  {
   "cell_type": "code",
   "execution_count": 1,
   "metadata": {},
   "outputs": [],
   "source": [
    "%matplotlib inline\n",
    "from matplotlib import pyplot\n",
    "import numpy as np\n",
    "import ipywidgets\n",
    "\n",
    "from scipy.special import jv as bessel # renamed Modified Bessel function of the first kind of real order. for clarity"
   ]
  },
  {
   "cell_type": "code",
   "execution_count": 7,
   "metadata": {},
   "outputs": [],
   "source": [
    "def skinDepth(conductivity = 6e7, frequency = 0):\n",
    "    r'''\n",
    "    Calculates the skin depth for a given frequency. sets to infinity if frequency is 0\n",
    "    '''\n",
    "    mu0 = 4 * np.pi * 1e-7\n",
    "    omega = 2 * np.pi * frequency\n",
    "    \n",
    "    if frequency == 0:\n",
    "        delta = np.Inf\n",
    "    else:\n",
    "        delta = np.sqrt(2/(mu0 * conductivity * omega))\n",
    "    return delta\n",
    "\n",
    "def approxJc(x, t, frequency = 0, conductivity  = 6e7):\n",
    "    r''' \n",
    "    Returns the approximate Jc as calculated in the worksheet\n",
    "    '''\n",
    "    delta = skinDepth(conductivity = conductivity, frequency = frequency)\n",
    "    phasefactor = np.exp(- 1j * 2 * np.pi * frequency * t)\n",
    "    \n",
    "    jc =  np.exp(-x / delta) * np.exp( 1j * x / delta)\n",
    "    Jc = np.real(jc * phasefactor)\n",
    "    return Jc\n",
    "\n",
    "def JcFullon(x, t, frequency = 0, conductivity  = 6e7):\n",
    "    r'''\n",
    "    Plots the approximation of Jc from the worksheet\n",
    "    '''\n",
    "    #x = np.arange(0,1,0.001) # distance from centre of the wire forced to be 1 (as normalised to a radius of 1)\n",
    "    a = 1\n",
    "    r = a - x # In the approximation we work with x but for the full solution we use r\n",
    "    \n",
    "    delta = skinDepth(conductivity = conductivity, frequency = frequency)\n",
    "    phasefactor = np.exp(- 1j * 2 * np.pi * frequency * t)\n",
    "    \n",
    "    j0 = bessel(0, (1 + 1j) * 1 / delta) # here j0 = jc(x = 0) as in the worksheet)\n",
    "    Jc_norm = bessel(0, (1 + 1j) * r / delta) * phasefactor / j0 \n",
    "    Jc_norm = np.real(Jc_norm)\n",
    "    return Jc_norm\n",
    "\n",
    "def plotJcFullon(t, frequency = 0, conductivity  = 6e7):\n",
    "    r'''\n",
    "    Plots the approximation of Jc from the worksheet\n",
    "    '''\n",
    "    x = np.arange(0,1,0.0001) # distance from centre of the wire forced to be 1 (as normalised to a radius of 1)\n",
    "    \n",
    "    \n",
    "    fig = pyplot.plot(x, approxJc(x,t, frequency = frequency, conductivity = conductivity))\n",
    "    fig = pyplot.plot(x, JcFullon(x,t, frequency = frequency, conductivity = conductivity))\n",
    "    # formatting the plot\n",
    "    pyplot.ylim(-1.1,1.1)\n",
    "    pyplot.xlim(0,1)\n",
    "    pyplot.xlabel('$x/a$')\n",
    "    pyplot.ylabel('$J_C(r)/J_0$')  \n",
    "    pyplot.legend(['Approximate solution', 'Full on solution'])\n",
    "    \n",
    "\n",
    "def plotJcApprox(t, frequency = 0, conductivity  = 6e7):\n",
    "    r'''\n",
    "    Plots the approximation of Jc from the worksheet\n",
    "    '''\n",
    "    x = np.arange(0,1,0.0001) # distance from centre of the wire forced to be 1 (as normalised to a radius of 1)\n",
    "    \n",
    "    \n",
    "    fig = pyplot.plot(x, approxJc(x,t, frequency = frequency, conductivity = conductivity))\n",
    "    # formatting the plot\n",
    "    pyplot.ylim(-1.1,1.1)\n",
    "    pyplot.xlim(0,0.1)\n",
    "    pyplot.xlabel('$x/a$')\n",
    "    pyplot.ylabel('$J_C(r)/J_0$')  \n",
    "    "
   ]
  },
  {
   "cell_type": "markdown",
   "metadata": {},
   "source": [
    "# Approximation\n",
    "\n",
    "In the worksheet you calculated an approximation for the current density as a function of depth (x). This is plotted in the below function."
   ]
  },
  {
   "cell_type": "code",
   "execution_count": 3,
   "metadata": {},
   "outputs": [
    {
     "data": {
      "application/vnd.jupyter.widget-view+json": {
       "model_id": "fc7cc284173847f3a5f53e033c66be61",
       "version_major": 2,
       "version_minor": 0
      },
      "text/plain": [
       "interactive(children=(FloatSlider(value=0.0, description='t', max=400.0), FloatSlider(value=0.0, description='…"
      ]
     },
     "metadata": {},
     "output_type": "display_data"
    }
   ],
   "source": [
    "ipywidgets.interact(\n",
    "    lambda t, frequency, conductivity: plotJcApprox(t = t, frequency = frequency, conductivity = conductivity),\n",
    "    t=ipywidgets.FloatSlider(min=0, max=400, step=0.1, value=0), #  in seconds \n",
    "    frequency= ipywidgets.FloatSlider(min=0, max=49, step=0.1, value=0.0), # in Hz\n",
    "    conductivity = ipywidgets.FloatSlider(min=1e7, max=1e8, step=1e6, value=6e7), # in Hz\n",
    ");"
   ]
  },
  {
   "cell_type": "markdown",
   "metadata": {},
   "source": [
    "# Comparison to full solution\n",
    "The full on solution uses complex Bessel functions. Working with these is beyond the scope of the course but it is possible to simulate. Below the approximation from the worksheet is overlaid on the full on solution to give you an idea when this approximation breaks down. Note that the scale on the x axis is changed compared to the previous example."
   ]
  },
  {
   "cell_type": "code",
   "execution_count": 4,
   "metadata": {},
   "outputs": [
    {
     "data": {
      "application/vnd.jupyter.widget-view+json": {
       "model_id": "de704b05302b4162a6e3257dbf11eeb4",
       "version_major": 2,
       "version_minor": 0
      },
      "text/plain": [
       "interactive(children=(FloatSlider(value=0.0, description='t', max=50.0), FloatSlider(value=0.0, description='f…"
      ]
     },
     "metadata": {},
     "output_type": "display_data"
    }
   ],
   "source": [
    "ipywidgets.interact(\n",
    "    lambda t, frequency, conductivity: plotJcFullon(t = t, frequency = frequency, conductivity = conductivity),\n",
    "    t=ipywidgets.FloatSlider(min=0, max=50, step=0.1, value=0), #  in seconds \n",
    "    frequency= ipywidgets.FloatSlider(min=0, max=49, step=0.1, value=0.0), # in Hz\n",
    "    conductivity = ipywidgets.FloatSlider(min=1e5, max=1e8, step=1e6, value=6e7), # in Hz\n",
    ");"
   ]
  },
  {
   "cell_type": "markdown",
   "metadata": {},
   "source": [
    "# Kymograph\n",
    "It can be illustrative to show this function as a kymograph with time on the x axis and distance from the surface on the y axis "
   ]
  },
  {
   "cell_type": "code",
   "execution_count": 5,
   "metadata": {},
   "outputs": [],
   "source": [
    "def plotKymograph(frequency = 1, conductivity  = 6e7):\n",
    "    depth = np.arange(0,0.1,0.01)\n",
    "    time = np.arange(0, 10, 0.01)\n",
    "\n",
    "    time, depth = np.meshgrid(time, depth)\n",
    "    Jc = JcFullon(depth, time, frequency = frequency, conductivity  = conductivity)\n",
    "    fig, axes = pyplot.subplots(figsize = [20,10])\n",
    "    cs = axes.contourf(time, depth, Jc, cmap = 'Spectral')\n",
    "    cbar = fig.colorbar(cs)\n",
    "    axes.set_xlabel('time/s')\n",
    "    axes.set_ylabel('depth in wire/a')"
   ]
  },
  {
   "cell_type": "code",
   "execution_count": 6,
   "metadata": {},
   "outputs": [
    {
     "data": {
      "application/vnd.jupyter.widget-view+json": {
       "model_id": "213ded0230b5417199f827869c257c0e",
       "version_major": 2,
       "version_minor": 0
      },
      "text/plain": [
       "interactive(children=(FloatSlider(value=0.0, description='frequency', max=10.0), FloatSlider(value=60000000.0,…"
      ]
     },
     "metadata": {},
     "output_type": "display_data"
    }
   ],
   "source": [
    "ipywidgets.interact(\n",
    "    lambda frequency, conductivity: plotKymograph(frequency = frequency, conductivity = conductivity),\n",
    "    frequency= ipywidgets.FloatSlider(min=0, max=10, step=0.1, value=0.0), # in Hz\n",
    "    conductivity = ipywidgets.FloatSlider(min=1e7, max=1e8, step=1e6, value=6e7), # in Hz\n",
    ");"
   ]
  }
 ],
 "metadata": {
  "kernelspec": {
   "display_name": "Python 3",
   "language": "python",
   "name": "python3"
  },
  "language_info": {
   "codemirror_mode": {
    "name": "ipython",
    "version": 3
   },
   "file_extension": ".py",
   "mimetype": "text/x-python",
   "name": "python",
   "nbconvert_exporter": "python",
   "pygments_lexer": "ipython3",
   "version": "3.7.4"
  },
  "widgets": {
   "application/vnd.jupyter.widget-state+json": {
    "state": {
     "02950504036f49ff9213f6d69f86281a": {
      "model_module": "@jupyter-widgets/base",
      "model_module_version": "1.2.0",
      "model_name": "LayoutModel",
      "state": {}
     },
     "05b9157f80fa434f9da63e889ef6217b": {
      "model_module": "@jupyter-widgets/base",
      "model_module_version": "1.2.0",
      "model_name": "LayoutModel",
      "state": {}
     },
     "0b2673ca2708475a94a3cf48681ac032": {
      "model_module": "@jupyter-widgets/base",
      "model_module_version": "1.2.0",
      "model_name": "LayoutModel",
      "state": {}
     },
     "0d963cd12bd949aaa26e271b34d9a5db": {
      "model_module": "@jupyter-widgets/controls",
      "model_module_version": "1.5.0",
      "model_name": "FloatSliderModel",
      "state": {
       "description": "conductivity",
       "layout": "IPY_MODEL_f84d4a711a924c34a34ded6cec099f5b",
       "max": 100000000,
       "min": 10000000,
       "step": 1000000,
       "style": "IPY_MODEL_91c4e26b62af42c79aa68216473e3061",
       "value": 60000000
      }
     },
     "199d28b315294a749c98ea7711e5dc5e": {
      "model_module": "@jupyter-widgets/base",
      "model_module_version": "1.2.0",
      "model_name": "LayoutModel",
      "state": {}
     },
     "213ded0230b5417199f827869c257c0e": {
      "model_module": "@jupyter-widgets/controls",
      "model_module_version": "1.5.0",
      "model_name": "VBoxModel",
      "state": {
       "_dom_classes": [
        "widget-interact"
       ],
       "children": [
        "IPY_MODEL_d615e179a3184586a7c8a076df9f51af",
        "IPY_MODEL_c7f723b26ead484682258e9f600a3339",
        "IPY_MODEL_5f1a5698876b45dcae4132a3e74f6a67"
       ],
       "layout": "IPY_MODEL_7beef47c817d43d8af5904183fc776a0"
      }
     },
     "221fcc2600a944efa3fbabe628300421": {
      "model_module": "@jupyter-widgets/base",
      "model_module_version": "1.2.0",
      "model_name": "LayoutModel",
      "state": {}
     },
     "24632d4fbbc74d0a814f12594dbfee38": {
      "model_module": "@jupyter-widgets/output",
      "model_module_version": "1.0.0",
      "model_name": "OutputModel",
      "state": {
       "layout": "IPY_MODEL_02950504036f49ff9213f6d69f86281a",
       "outputs": [
        {
         "data": {
          "image/png": "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\n",
          "text/plain": "<Figure size 432x288 with 1 Axes>"
         },
         "metadata": {
          "needs_background": "light"
         },
         "output_type": "display_data"
        }
       ]
      }
     },
     "2ab3e06d968747d7a1407b7a0aa275a0": {
      "model_module": "@jupyter-widgets/controls",
      "model_module_version": "1.5.0",
      "model_name": "SliderStyleModel",
      "state": {
       "description_width": ""
      }
     },
     "4386d73b15914e55b8bdf3e11b79d11b": {
      "model_module": "@jupyter-widgets/base",
      "model_module_version": "1.2.0",
      "model_name": "LayoutModel",
      "state": {}
     },
     "4c403210a2b74450b75e59b9d5dba239": {
      "model_module": "@jupyter-widgets/controls",
      "model_module_version": "1.5.0",
      "model_name": "FloatSliderModel",
      "state": {
       "description": "frequency",
       "layout": "IPY_MODEL_847154c774724d888ed7272bb9566171",
       "max": 49,
       "step": 0.1,
       "style": "IPY_MODEL_6c8eb565d6f8475fbce80fe66989d680"
      }
     },
     "5a3b73cf25ef4cca841e518aa1e6d156": {
      "model_module": "@jupyter-widgets/base",
      "model_module_version": "1.2.0",
      "model_name": "LayoutModel",
      "state": {}
     },
     "5f1a5698876b45dcae4132a3e74f6a67": {
      "model_module": "@jupyter-widgets/output",
      "model_module_version": "1.0.0",
      "model_name": "OutputModel",
      "state": {
       "layout": "IPY_MODEL_0b2673ca2708475a94a3cf48681ac032",
       "outputs": [
        {
         "data": {
          "image/png": "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\n",
          "text/plain": "<Figure size 1440x720 with 2 Axes>"
         },
         "metadata": {
          "needs_background": "light"
         },
         "output_type": "display_data"
        }
       ]
      }
     },
     "67084014b97a49088440ae75e2671775": {
      "model_module": "@jupyter-widgets/base",
      "model_module_version": "1.2.0",
      "model_name": "LayoutModel",
      "state": {}
     },
     "6c8eb565d6f8475fbce80fe66989d680": {
      "model_module": "@jupyter-widgets/controls",
      "model_module_version": "1.5.0",
      "model_name": "SliderStyleModel",
      "state": {
       "description_width": ""
      }
     },
     "759223b749d246278862a92c73bdbe86": {
      "model_module": "@jupyter-widgets/controls",
      "model_module_version": "1.5.0",
      "model_name": "FloatSliderModel",
      "state": {
       "description": "frequency",
       "layout": "IPY_MODEL_221fcc2600a944efa3fbabe628300421",
       "max": 49,
       "step": 0.1,
       "style": "IPY_MODEL_2ab3e06d968747d7a1407b7a0aa275a0"
      }
     },
     "784cf4cb2de8485a97ec606597171651": {
      "model_module": "@jupyter-widgets/controls",
      "model_module_version": "1.5.0",
      "model_name": "FloatSliderModel",
      "state": {
       "description": "t",
       "layout": "IPY_MODEL_05b9157f80fa434f9da63e889ef6217b",
       "max": 50,
       "step": 0.1,
       "style": "IPY_MODEL_85bcf6f11d98401eaac0c09da7fd3117"
      }
     },
     "7beef47c817d43d8af5904183fc776a0": {
      "model_module": "@jupyter-widgets/base",
      "model_module_version": "1.2.0",
      "model_name": "LayoutModel",
      "state": {}
     },
     "847154c774724d888ed7272bb9566171": {
      "model_module": "@jupyter-widgets/base",
      "model_module_version": "1.2.0",
      "model_name": "LayoutModel",
      "state": {}
     },
     "85bcf6f11d98401eaac0c09da7fd3117": {
      "model_module": "@jupyter-widgets/controls",
      "model_module_version": "1.5.0",
      "model_name": "SliderStyleModel",
      "state": {
       "description_width": ""
      }
     },
     "91c4e26b62af42c79aa68216473e3061": {
      "model_module": "@jupyter-widgets/controls",
      "model_module_version": "1.5.0",
      "model_name": "SliderStyleModel",
      "state": {
       "description_width": ""
      }
     },
     "97e576bab1214cedbb84d05c6db2fc48": {
      "model_module": "@jupyter-widgets/controls",
      "model_module_version": "1.5.0",
      "model_name": "SliderStyleModel",
      "state": {
       "description_width": ""
      }
     },
     "aa21e8c571954a2cade68122beaec96a": {
      "model_module": "@jupyter-widgets/controls",
      "model_module_version": "1.5.0",
      "model_name": "FloatSliderModel",
      "state": {
       "description": "conductivity",
       "layout": "IPY_MODEL_ffe0a5b1235149fca218fc4577bb88f2",
       "max": 100000000,
       "min": 100000,
       "step": 1000000,
       "style": "IPY_MODEL_f4255974c3984e33bc5f0376d2e38bc1",
       "value": 60000000
      }
     },
     "b50c280e7081448aaabb286f11723b01": {
      "model_module": "@jupyter-widgets/controls",
      "model_module_version": "1.5.0",
      "model_name": "FloatSliderModel",
      "state": {
       "description": "t",
       "layout": "IPY_MODEL_cd337d9fa2fc4db9aaa564aaf2bd3096",
       "max": 400,
       "step": 0.1,
       "style": "IPY_MODEL_e65cd6ea3cc84a988ec8e4c5b5661771"
      }
     },
     "c7f723b26ead484682258e9f600a3339": {
      "model_module": "@jupyter-widgets/controls",
      "model_module_version": "1.5.0",
      "model_name": "FloatSliderModel",
      "state": {
       "description": "conductivity",
       "layout": "IPY_MODEL_199d28b315294a749c98ea7711e5dc5e",
       "max": 100000000,
       "min": 10000000,
       "step": 1000000,
       "style": "IPY_MODEL_f3c7e7922eeb45af8f7d0ab91e114dd2",
       "value": 60000000
      }
     },
     "cd337d9fa2fc4db9aaa564aaf2bd3096": {
      "model_module": "@jupyter-widgets/base",
      "model_module_version": "1.2.0",
      "model_name": "LayoutModel",
      "state": {}
     },
     "ceff3c87f4394367a158aec4530b9718": {
      "model_module": "@jupyter-widgets/output",
      "model_module_version": "1.0.0",
      "model_name": "OutputModel",
      "state": {
       "layout": "IPY_MODEL_5a3b73cf25ef4cca841e518aa1e6d156",
       "outputs": [
        {
         "data": {
          "image/png": "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\n",
          "text/plain": "<Figure size 432x288 with 1 Axes>"
         },
         "metadata": {
          "needs_background": "light"
         },
         "output_type": "display_data"
        }
       ]
      }
     },
     "d615e179a3184586a7c8a076df9f51af": {
      "model_module": "@jupyter-widgets/controls",
      "model_module_version": "1.5.0",
      "model_name": "FloatSliderModel",
      "state": {
       "description": "frequency",
       "layout": "IPY_MODEL_df45d82475764691a2a10bc47718c268",
       "max": 10,
       "step": 0.1,
       "style": "IPY_MODEL_97e576bab1214cedbb84d05c6db2fc48"
      }
     },
     "de704b05302b4162a6e3257dbf11eeb4": {
      "model_module": "@jupyter-widgets/controls",
      "model_module_version": "1.5.0",
      "model_name": "VBoxModel",
      "state": {
       "_dom_classes": [
        "widget-interact"
       ],
       "children": [
        "IPY_MODEL_784cf4cb2de8485a97ec606597171651",
        "IPY_MODEL_759223b749d246278862a92c73bdbe86",
        "IPY_MODEL_aa21e8c571954a2cade68122beaec96a",
        "IPY_MODEL_24632d4fbbc74d0a814f12594dbfee38"
       ],
       "layout": "IPY_MODEL_4386d73b15914e55b8bdf3e11b79d11b"
      }
     },
     "df45d82475764691a2a10bc47718c268": {
      "model_module": "@jupyter-widgets/base",
      "model_module_version": "1.2.0",
      "model_name": "LayoutModel",
      "state": {}
     },
     "e65cd6ea3cc84a988ec8e4c5b5661771": {
      "model_module": "@jupyter-widgets/controls",
      "model_module_version": "1.5.0",
      "model_name": "SliderStyleModel",
      "state": {
       "description_width": ""
      }
     },
     "f3c7e7922eeb45af8f7d0ab91e114dd2": {
      "model_module": "@jupyter-widgets/controls",
      "model_module_version": "1.5.0",
      "model_name": "SliderStyleModel",
      "state": {
       "description_width": ""
      }
     },
     "f4255974c3984e33bc5f0376d2e38bc1": {
      "model_module": "@jupyter-widgets/controls",
      "model_module_version": "1.5.0",
      "model_name": "SliderStyleModel",
      "state": {
       "description_width": ""
      }
     },
     "f84d4a711a924c34a34ded6cec099f5b": {
      "model_module": "@jupyter-widgets/base",
      "model_module_version": "1.2.0",
      "model_name": "LayoutModel",
      "state": {}
     },
     "fc7cc284173847f3a5f53e033c66be61": {
      "model_module": "@jupyter-widgets/controls",
      "model_module_version": "1.5.0",
      "model_name": "VBoxModel",
      "state": {
       "_dom_classes": [
        "widget-interact"
       ],
       "children": [
        "IPY_MODEL_b50c280e7081448aaabb286f11723b01",
        "IPY_MODEL_4c403210a2b74450b75e59b9d5dba239",
        "IPY_MODEL_0d963cd12bd949aaa26e271b34d9a5db",
        "IPY_MODEL_ceff3c87f4394367a158aec4530b9718"
       ],
       "layout": "IPY_MODEL_67084014b97a49088440ae75e2671775"
      }
     },
     "ffe0a5b1235149fca218fc4577bb88f2": {
      "model_module": "@jupyter-widgets/base",
      "model_module_version": "1.2.0",
      "model_name": "LayoutModel",
      "state": {}
     }
    },
    "version_major": 2,
    "version_minor": 0
   }
  }
 },
 "nbformat": 4,
 "nbformat_minor": 4
}
