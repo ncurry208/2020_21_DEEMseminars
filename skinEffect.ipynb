{
 "cells": [
  {
   "cell_type": "markdown",
   "metadata": {},
   "source": [
    "# Skin effect\n",
    "In the lectures (nugget 8) you looked at AC current in a wire and particularly the skin effect. In the process you saw a full-on (non-examinable) solution. In this worksheet you calculate an approximation for when the skin depth is much less than the radius. This worksheet plots the full on solution allowing you to inspect how well this agrees with the sketches in your approximation.\n",
    "\n",
    "**You need to run all the cells in this section for anything to work.**"
   ]
  },
  {
   "cell_type": "code",
   "execution_count": 1,
   "metadata": {},
   "outputs": [],
   "source": [
    "%matplotlib inline\n",
    "from matplotlib import pyplot\n",
    "import numpy as np\n",
    "import ipywidgets\n",
    "\n",
    "from scipy.special import jv as bessel # renamed Modified Bessel function of the first kind of real order. for clarity"
   ]
  },
  {
   "cell_type": "code",
   "execution_count": 7,
   "metadata": {},
   "outputs": [],
   "source": [
    "def skinDepth(conductivity = 6e7, frequency = 0):\n",
    "    r'''\n",
    "    Calculates the skin depth for a given frequency. sets to infinity if frequency is 0\n",
    "    '''\n",
    "    mu0 = 4 * np.pi * 1e-7\n",
    "    omega = 2 * np.pi * frequency\n",
    "    \n",
    "    if frequency == 0:\n",
    "        delta = np.Inf\n",
    "    else:\n",
    "        delta = np.sqrt(2/(mu0 * conductivity * omega))\n",
    "    return delta\n",
    "\n",
    "def approxJc(x, t, frequency = 0, conductivity  = 6e7):\n",
    "    r''' \n",
    "    Returns the approximate Jc as calculated in the worksheet\n",
    "    '''\n",
    "    delta = skinDepth(conductivity = conductivity, frequency = frequency)\n",
    "    phasefactor = np.exp(- 1j * 2 * np.pi * frequency * t)\n",
    "    \n",
    "    jc =  np.exp(-x / delta) * np.exp( 1j * x / delta)\n",
    "    Jc = np.real(jc * phasefactor)\n",
    "    return Jc\n",
    "\n",
    "def JcFullon(x, t, frequency = 0, conductivity  = 6e7):\n",
    "    r'''\n",
    "    Plots the approximation of Jc from the worksheet\n",
    "    '''\n",
    "    #x = np.arange(0,1,0.001) # distance from centre of the wire forced to be 1 (as normalised to a radius of 1)\n",
    "    a = 1\n",
    "    r = a - x # In the approximation we work with x but for the full solution we use r\n",
    "    \n",
    "    delta = skinDepth(conductivity = conductivity, frequency = frequency)\n",
    "    phasefactor = np.exp(- 1j * 2 * np.pi * frequency * t)\n",
    "    \n",
    "    j0 = bessel(0, (1 + 1j) * 1 / delta) # here j0 = jc(x = 0) as in the worksheet)\n",
    "    Jc_norm = bessel(0, (1 + 1j) * r / delta) * phasefactor / j0 \n",
    "    Jc_norm = np.real(Jc_norm)\n",
    "    return Jc_norm\n",
    "\n",
    "def plotJcFullon(t, frequency = 0, conductivity  = 6e7):\n",
    "    r'''\n",
    "    Plots the approximation of Jc from the worksheet\n",
    "    '''\n",
    "    x = np.arange(0,1,0.0001) # distance from centre of the wire forced to be 1 (as normalised to a radius of 1)\n",
    "    \n",
    "    \n",
    "    fig = pyplot.plot(x, approxJc(x,t, frequency = frequency, conductivity = conductivity))\n",
    "    fig = pyplot.plot(x, JcFullon(x,t, frequency = frequency, conductivity = conductivity))\n",
    "    # formatting the plot\n",
    "    pyplot.ylim(-1.1,1.1)\n",
    "    pyplot.xlim(0,0.1)\n",
    "    pyplot.xlabel('$x/a$')\n",
    "    pyplot.ylabel('$J_C(r)/J_0$')  \n",
    "    pyplot.legend(['Approximate solution', 'Full on solution'])\n",
    "    \n",
    "\n",
    "def plotJcApprox(t, frequency = 0, conductivity  = 6e7):\n",
    "    r'''\n",
    "    Plots the approximation of Jc from the worksheet\n",
    "    '''\n",
    "    x = np.arange(0,1,0.0001) # distance from centre of the wire forced to be 1 (as normalised to a radius of 1)\n",
    "    \n",
    "    \n",
    "    fig = pyplot.plot(x, approxJc(x,t, frequency = frequency, conductivity = conductivity))\n",
    "    # formatting the plot\n",
    "    pyplot.ylim(-1.1,1.1)\n",
    "    pyplot.xlim(0,1)\n",
    "    pyplot.xlabel('$x/a$')\n",
    "    pyplot.ylabel('$J_C(r)/J_0$')  \n",
    "    "
   ]
  },
  {
   "cell_type": "markdown",
   "metadata": {},
   "source": [
    "# Approximation\n",
    "\n",
    "In the worksheet you calculated an approximation for the current density as a function of depth (x). This is plotted in the below function."
   ]
  },
  {
   "cell_type": "code",
   "execution_count": 3,
   "metadata": {},
   "outputs": [
    {
     "data": {
      "application/vnd.jupyter.widget-view+json": {
       "model_id": "86334128f5f84660844a0d1b0f9344a7",
       "version_major": 2,
       "version_minor": 0
      },
      "text/plain": [
       "interactive(children=(FloatSlider(value=0.0, description='t', max=400.0), FloatSlider(value=0.0, description='…"
      ]
     },
     "metadata": {},
     "output_type": "display_data"
    }
   ],
   "source": [
    "ipywidgets.interact(\n",
    "    lambda t, frequency, conductivity: plotJcApprox(t = t, frequency = frequency, conductivity = conductivity),\n",
    "    t=ipywidgets.FloatSlider(min=0, max=400, step=0.1, value=0), #  in seconds \n",
    "    frequency= ipywidgets.FloatSlider(min=0, max=49, step=0.1, value=0.0), # in Hz\n",
    "    conductivity = ipywidgets.FloatSlider(min=1e7, max=1e8, step=1e6, value=6e7), # in Hz\n",
    ");"
   ]
  },
  {
   "cell_type": "markdown",
   "metadata": {},
   "source": [
    "# Comparison to full solution\n",
    "The full on solution uses complex Bessel functions. Working with these is beyond the scope of the course but it is possible to simulate. Below the approximation from the worksheet is overlaid on the full on solution to give you an idea when this approximation breaks down. Note that the scale on the x axis is changed compared to the previous example."
   ]
  },
  {
   "cell_type": "code",
   "execution_count": 12,
   "metadata": {},
   "outputs": [
    {
     "data": {
      "application/vnd.jupyter.widget-view+json": {
       "model_id": "16aa412d17084d13a34907f8b248c88c",
       "version_major": 2,
       "version_minor": 0
      },
      "text/plain": [
       "interactive(children=(FloatSlider(value=0.0, description='t', max=50.0), FloatSlider(value=0.0, description='f…"
      ]
     },
     "metadata": {},
     "output_type": "display_data"
    }
   ],
   "source": [
    "ipywidgets.interact(\n",
    "    lambda t, frequency, conductivity: plotJcFullon(t = t, frequency = frequency, conductivity = conductivity),\n",
    "    t=ipywidgets.FloatSlider(min=0, max=50, step=0.1, value=0), #  in seconds \n",
    "    frequency= ipywidgets.FloatSlider(min=0, max=49, step=0.1, value=0.0), # in Hz\n",
    "    conductivity = ipywidgets.FloatSlider(min=1e5, max=1e8, step=1e6, value=6e7), # in Hz\n",
    ");"
   ]
  },
  {
   "cell_type": "markdown",
   "metadata": {},
   "source": [
    "# Kymograph\n",
    "It can be illustrative to show this function as a kymograph with time on the x axis and distance from the surface on the y axis "
   ]
  },
  {
   "cell_type": "code",
   "execution_count": 9,
   "metadata": {},
   "outputs": [],
   "source": [
    "def plotKymograph(frequency = 1, conductivity  = 6e7):\n",
    "    depth = np.arange(0,0.1,0.01)\n",
    "    time = np.arange(0, 10, 0.01)\n",
    "\n",
    "    time, depth = np.meshgrid(time, depth)\n",
    "    Jc = JcFullon(depth, time, frequency = frequency, conductivity  = conductivity)\n",
    "    fig, axes = pyplot.subplots(figsize = [20,10])\n",
    "    cs = axes.contourf(time, depth, Jc, cmap = 'Spectral')\n",
    "    cbar = fig.colorbar(cs)\n",
    "    axes.set_xlabel('time/s')\n",
    "    axes.set_ylabel('depth in wire/a')"
   ]
  },
  {
   "cell_type": "code",
   "execution_count": 10,
   "metadata": {},
   "outputs": [
    {
     "data": {
      "application/vnd.jupyter.widget-view+json": {
       "model_id": "a3b214ec103c4a9bbec00b55fa1243ef",
       "version_major": 2,
       "version_minor": 0
      },
      "text/plain": [
       "interactive(children=(FloatSlider(value=0.0, description='frequency', max=10.0), FloatSlider(value=60000000.0,…"
      ]
     },
     "metadata": {},
     "output_type": "display_data"
    }
   ],
   "source": [
    "ipywidgets.interact(\n",
    "    lambda frequency, conductivity: plotKymograph(frequency = frequency, conductivity = conductivity),\n",
    "    frequency= ipywidgets.FloatSlider(min=0, max=10, step=0.1, value=0.0), # in Hz\n",
    "    conductivity = ipywidgets.FloatSlider(min=1e7, max=1e8, step=1e6, value=6e7), # in Hz\n",
    ");"
   ]
  },
  {
   "cell_type": "code",
   "execution_count": null,
   "metadata": {},
   "outputs": [],
   "source": []
  }
 ],
 "metadata": {
  "kernelspec": {
   "display_name": "Python 3",
   "language": "python",
   "name": "python3"
  },
  "language_info": {
   "codemirror_mode": {
    "name": "ipython",
    "version": 3
   },
   "file_extension": ".py",
   "mimetype": "text/x-python",
   "name": "python",
   "nbconvert_exporter": "python",
   "pygments_lexer": "ipython3",
   "version": "3.7.4"
  },
  "widgets": {
   "application/vnd.jupyter.widget-state+json": {
    "state": {
     "00adce39903945f7b847916c51810b7d": {
      "model_module": "@jupyter-widgets/controls",
      "model_module_version": "1.5.0",
      "model_name": "FloatSliderModel",
      "state": {
       "description": "frequency",
       "layout": "IPY_MODEL_242ecc64ba864e5eaace81b305794043",
       "max": 49,
       "step": 0.1,
       "style": "IPY_MODEL_f243cb5acbd34069bd4e8e11c6f5e603",
       "value": 49
      }
     },
     "0111c89a4c5640188c674791e69ab0ad": {
      "model_module": "@jupyter-widgets/base",
      "model_module_version": "1.2.0",
      "model_name": "LayoutModel",
      "state": {}
     },
     "04409db397274694b48f65aefd541391": {
      "model_module": "@jupyter-widgets/controls",
      "model_module_version": "1.5.0",
      "model_name": "FloatSliderModel",
      "state": {
       "description": "conductivity",
       "layout": "IPY_MODEL_ee6de84a5158412eae8fb4e32703c684",
       "max": 100000000,
       "min": 10000000,
       "step": 1000000,
       "style": "IPY_MODEL_ec341f3f99204a58b303443dcd6636fa",
       "value": 60000000
      }
     },
     "04f34fc742ef40538feb922f927f37f5": {
      "model_module": "@jupyter-widgets/output",
      "model_module_version": "1.0.0",
      "model_name": "OutputModel",
      "state": {
       "layout": "IPY_MODEL_ed7a0822bf0547a898f6274be281c39f",
       "outputs": [
        {
         "data": {
          "image/png": "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\n",
          "text/plain": "<Figure size 432x288 with 1 Axes>"
         },
         "metadata": {
          "needs_background": "light"
         },
         "output_type": "display_data"
        }
       ]
      }
     },
     "09b300fbbd804301895490cc7534296e": {
      "model_module": "@jupyter-widgets/controls",
      "model_module_version": "1.5.0",
      "model_name": "SliderStyleModel",
      "state": {
       "description_width": ""
      }
     },
     "0bc4238c0d8641f992aacb7980e1c378": {
      "model_module": "@jupyter-widgets/controls",
      "model_module_version": "1.5.0",
      "model_name": "SliderStyleModel",
      "state": {
       "description_width": ""
      }
     },
     "1471075e791341359807cd53c73fcc91": {
      "model_module": "@jupyter-widgets/output",
      "model_module_version": "1.0.0",
      "model_name": "OutputModel",
      "state": {
       "layout": "IPY_MODEL_76ded26cd53f4ecba7878f08ed1a593e",
       "outputs": [
        {
         "data": {
          "image/png": "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\n",
          "text/plain": "<Figure size 432x288 with 1 Axes>"
         },
         "metadata": {
          "needs_background": "light"
         },
         "output_type": "display_data"
        }
       ]
      }
     },
     "16aa412d17084d13a34907f8b248c88c": {
      "model_module": "@jupyter-widgets/controls",
      "model_module_version": "1.5.0",
      "model_name": "VBoxModel",
      "state": {
       "_dom_classes": [
        "widget-interact"
       ],
       "children": [
        "IPY_MODEL_4babc0137f064d3d9b8832cab92782ec",
        "IPY_MODEL_9091fceb1d6b4e20b6853609b3ef79f0",
        "IPY_MODEL_29395cdae5c941fe8ed75baa72153834",
        "IPY_MODEL_93db7fae86bd4868a882c3b1a95d048d"
       ],
       "layout": "IPY_MODEL_e419654b29314e2c931365927c3135ee"
      }
     },
     "182f7de5769a495c8db784484f9e3f5c": {
      "model_module": "@jupyter-widgets/base",
      "model_module_version": "1.2.0",
      "model_name": "LayoutModel",
      "state": {}
     },
     "1992c8a04c934b9abd773a3990e51a3f": {
      "model_module": "@jupyter-widgets/controls",
      "model_module_version": "1.5.0",
      "model_name": "SliderStyleModel",
      "state": {
       "description_width": ""
      }
     },
     "21f74322b399451587e20f24a6962a8c": {
      "model_module": "@jupyter-widgets/output",
      "model_module_version": "1.0.0",
      "model_name": "OutputModel",
      "state": {
       "layout": "IPY_MODEL_efb0c2394c1e4776804783f7ecc523b8",
       "outputs": [
        {
         "data": {
          "image/png": "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\n",
          "text/plain": "<Figure size 432x288 with 1 Axes>"
         },
         "metadata": {
          "needs_background": "light"
         },
         "output_type": "display_data"
        }
       ]
      }
     },
     "23776da8a41c40f287b69ea447c4f56d": {
      "model_module": "@jupyter-widgets/controls",
      "model_module_version": "1.5.0",
      "model_name": "SliderStyleModel",
      "state": {
       "description_width": ""
      }
     },
     "242ecc64ba864e5eaace81b305794043": {
      "model_module": "@jupyter-widgets/base",
      "model_module_version": "1.2.0",
      "model_name": "LayoutModel",
      "state": {}
     },
     "28f5495dcbf3429aa20aa581ea26f423": {
      "model_module": "@jupyter-widgets/controls",
      "model_module_version": "1.5.0",
      "model_name": "FloatSliderModel",
      "state": {
       "description": "conductivity",
       "layout": "IPY_MODEL_0111c89a4c5640188c674791e69ab0ad",
       "max": 100000000,
       "min": 10000000,
       "step": 1000000,
       "style": "IPY_MODEL_23776da8a41c40f287b69ea447c4f56d",
       "value": 10000000
      }
     },
     "29395cdae5c941fe8ed75baa72153834": {
      "model_module": "@jupyter-widgets/controls",
      "model_module_version": "1.5.0",
      "model_name": "FloatSliderModel",
      "state": {
       "description": "conductivity",
       "layout": "IPY_MODEL_341481044d124c3b96bf6c4483cb192e",
       "max": 100000000,
       "min": 100000,
       "step": 1000000,
       "style": "IPY_MODEL_fb99cb50e9bd4efca101529f0bf1c0d1",
       "value": 23100000
      }
     },
     "2deb43d2e9074e398becb62137e9108c": {
      "model_module": "@jupyter-widgets/controls",
      "model_module_version": "1.5.0",
      "model_name": "SliderStyleModel",
      "state": {
       "description_width": ""
      }
     },
     "3142a368ece14970a449c506d8bf9241": {
      "model_module": "@jupyter-widgets/controls",
      "model_module_version": "1.5.0",
      "model_name": "FloatSliderModel",
      "state": {
       "description": "t",
       "layout": "IPY_MODEL_fed413bf867147219fea771c0867a464",
       "max": 50,
       "step": 0.1,
       "style": "IPY_MODEL_9e977b912d334cb1adade6d7cb6f6396",
       "value": 5.4
      }
     },
     "341481044d124c3b96bf6c4483cb192e": {
      "model_module": "@jupyter-widgets/base",
      "model_module_version": "1.2.0",
      "model_name": "LayoutModel",
      "state": {}
     },
     "36c66c696d624668be8370a23348dba7": {
      "model_module": "@jupyter-widgets/controls",
      "model_module_version": "1.5.0",
      "model_name": "VBoxModel",
      "state": {
       "_dom_classes": [
        "widget-interact"
       ],
       "children": [
        "IPY_MODEL_8a6ae4e08e25441ab981a5a39a87a502",
        "IPY_MODEL_6c7199f8d1814ff0ab41bc4bfe00efa3",
        "IPY_MODEL_e61308cfd4ad419890f3b7c6f4821d47"
       ],
       "layout": "IPY_MODEL_d06e7720b6334beda33d9d02eac0d6cf"
      }
     },
     "3b9110e6b34a490081033a539c0adabc": {
      "model_module": "@jupyter-widgets/controls",
      "model_module_version": "1.5.0",
      "model_name": "SliderStyleModel",
      "state": {
       "description_width": ""
      }
     },
     "3d34ad56bd9d47668d45957d00dc8c60": {
      "model_module": "@jupyter-widgets/controls",
      "model_module_version": "1.5.0",
      "model_name": "FloatSliderModel",
      "state": {
       "description": "t",
       "layout": "IPY_MODEL_fe4715e100e54db993098dd88ac1a16e",
       "max": 50,
       "step": 0.1,
       "style": "IPY_MODEL_0bc4238c0d8641f992aacb7980e1c378",
       "value": 50
      }
     },
     "41a24d2b0373487cb7820c2fee627ab7": {
      "model_module": "@jupyter-widgets/controls",
      "model_module_version": "1.5.0",
      "model_name": "SliderStyleModel",
      "state": {
       "description_width": ""
      }
     },
     "4735c49d866548f1a7d424a122479aff": {
      "model_module": "@jupyter-widgets/controls",
      "model_module_version": "1.5.0",
      "model_name": "SliderStyleModel",
      "state": {
       "description_width": ""
      }
     },
     "4babc0137f064d3d9b8832cab92782ec": {
      "model_module": "@jupyter-widgets/controls",
      "model_module_version": "1.5.0",
      "model_name": "FloatSliderModel",
      "state": {
       "description": "t",
       "layout": "IPY_MODEL_182f7de5769a495c8db784484f9e3f5c",
       "max": 50,
       "step": 0.1,
       "style": "IPY_MODEL_41a24d2b0373487cb7820c2fee627ab7",
       "value": 9.4
      }
     },
     "53d86b0a2c3b4ce69b8337fe970ac642": {
      "model_module": "@jupyter-widgets/base",
      "model_module_version": "1.2.0",
      "model_name": "LayoutModel",
      "state": {}
     },
     "55546d36a09b48b29f7362b5b4d51894": {
      "model_module": "@jupyter-widgets/controls",
      "model_module_version": "1.5.0",
      "model_name": "SliderStyleModel",
      "state": {
       "description_width": ""
      }
     },
     "570cf719606d4bb19fa47ccb2fb1d0b2": {
      "model_module": "@jupyter-widgets/output",
      "model_module_version": "1.0.0",
      "model_name": "OutputModel",
      "state": {
       "layout": "IPY_MODEL_ba95329cc52243009b53483006a31be8",
       "outputs": [
        {
         "data": {
          "image/png": "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\n",
          "text/plain": "<Figure size 432x288 with 1 Axes>"
         },
         "metadata": {
          "needs_background": "light"
         },
         "output_type": "display_data"
        }
       ]
      }
     },
     "579e90d8b1fa47e4b97ce60929d6cbaa": {
      "model_module": "@jupyter-widgets/controls",
      "model_module_version": "1.5.0",
      "model_name": "FloatSliderModel",
      "state": {
       "description": "conductivity",
       "layout": "IPY_MODEL_b1785ed6cbe341daa1349844ce7070b3",
       "max": 100000000,
       "min": 10000000,
       "step": 1000000,
       "style": "IPY_MODEL_4735c49d866548f1a7d424a122479aff",
       "value": 10000000
      }
     },
     "5c9b5ec8769449848936c5b800803f46": {
      "model_module": "@jupyter-widgets/base",
      "model_module_version": "1.2.0",
      "model_name": "LayoutModel",
      "state": {}
     },
     "65d14b61eb5a44d2b0e28174fdd47bc3": {
      "model_module": "@jupyter-widgets/base",
      "model_module_version": "1.2.0",
      "model_name": "LayoutModel",
      "state": {}
     },
     "6bedb3e7ea3846aeaaece986cd0a70dc": {
      "model_module": "@jupyter-widgets/base",
      "model_module_version": "1.2.0",
      "model_name": "LayoutModel",
      "state": {}
     },
     "6c7199f8d1814ff0ab41bc4bfe00efa3": {
      "model_module": "@jupyter-widgets/controls",
      "model_module_version": "1.5.0",
      "model_name": "FloatSliderModel",
      "state": {
       "description": "conductivity",
       "layout": "IPY_MODEL_53d86b0a2c3b4ce69b8337fe970ac642",
       "max": 100000000,
       "min": 10000000,
       "step": 1000000,
       "style": "IPY_MODEL_dc1ff3b5c0274e93896ccc9a566fa965",
       "value": 60000000
      }
     },
     "6ebfce73167449079cae7fee7a659cec": {
      "model_module": "@jupyter-widgets/base",
      "model_module_version": "1.2.0",
      "model_name": "LayoutModel",
      "state": {}
     },
     "70c6c094a4cd4f03a9cdf22f652eaa8f": {
      "model_module": "@jupyter-widgets/controls",
      "model_module_version": "1.5.0",
      "model_name": "FloatSliderModel",
      "state": {
       "description": "t",
       "layout": "IPY_MODEL_b6ff0d34fbca4f54ae9b2964c7b7696b",
       "max": 50,
       "step": 0.1,
       "style": "IPY_MODEL_09b300fbbd804301895490cc7534296e",
       "value": 50
      }
     },
     "76ded26cd53f4ecba7878f08ed1a593e": {
      "model_module": "@jupyter-widgets/base",
      "model_module_version": "1.2.0",
      "model_name": "LayoutModel",
      "state": {}
     },
     "800c6e7c3928410b874b5230f7be2a66": {
      "model_module": "@jupyter-widgets/base",
      "model_module_version": "1.2.0",
      "model_name": "LayoutModel",
      "state": {}
     },
     "82c0546b3a394cd0a32694379d82a661": {
      "model_module": "@jupyter-widgets/base",
      "model_module_version": "1.2.0",
      "model_name": "LayoutModel",
      "state": {}
     },
     "849487d6795e4e83bf2bb6b77fce0b28": {
      "model_module": "@jupyter-widgets/base",
      "model_module_version": "1.2.0",
      "model_name": "LayoutModel",
      "state": {}
     },
     "86334128f5f84660844a0d1b0f9344a7": {
      "model_module": "@jupyter-widgets/controls",
      "model_module_version": "1.5.0",
      "model_name": "VBoxModel",
      "state": {
       "_dom_classes": [
        "widget-interact"
       ],
       "children": [
        "IPY_MODEL_901613d90f214f989572ef550340812d",
        "IPY_MODEL_a44985c7547b4be6937781619d3ac3aa",
        "IPY_MODEL_04409db397274694b48f65aefd541391",
        "IPY_MODEL_21f74322b399451587e20f24a6962a8c"
       ],
       "layout": "IPY_MODEL_800c6e7c3928410b874b5230f7be2a66"
      }
     },
     "87ccda5d13ff49a2aa88a7632cbaa4c8": {
      "model_module": "@jupyter-widgets/base",
      "model_module_version": "1.2.0",
      "model_name": "LayoutModel",
      "state": {}
     },
     "8a3f36bee07744e8ba4d825ccc7e7c21": {
      "model_module": "@jupyter-widgets/controls",
      "model_module_version": "1.5.0",
      "model_name": "VBoxModel",
      "state": {
       "_dom_classes": [
        "widget-interact"
       ],
       "children": [
        "IPY_MODEL_3142a368ece14970a449c506d8bf9241",
        "IPY_MODEL_f13e5092ca7f4b5ea58ae41286db2f56",
        "IPY_MODEL_579e90d8b1fa47e4b97ce60929d6cbaa",
        "IPY_MODEL_04f34fc742ef40538feb922f927f37f5"
       ],
       "layout": "IPY_MODEL_6ebfce73167449079cae7fee7a659cec"
      }
     },
     "8a6ae4e08e25441ab981a5a39a87a502": {
      "model_module": "@jupyter-widgets/controls",
      "model_module_version": "1.5.0",
      "model_name": "FloatSliderModel",
      "state": {
       "description": "frequency",
       "layout": "IPY_MODEL_87ccda5d13ff49a2aa88a7632cbaa4c8",
       "max": 10,
       "step": 0.1,
       "style": "IPY_MODEL_55546d36a09b48b29f7362b5b4d51894"
      }
     },
     "8abec9d9b4ac4b1b8384692183840a09": {
      "model_module": "@jupyter-widgets/controls",
      "model_module_version": "1.5.0",
      "model_name": "SliderStyleModel",
      "state": {
       "description_width": ""
      }
     },
     "8fd02d06bf5d4c209f7b744519f6dac1": {
      "model_module": "@jupyter-widgets/base",
      "model_module_version": "1.2.0",
      "model_name": "LayoutModel",
      "state": {}
     },
     "901613d90f214f989572ef550340812d": {
      "model_module": "@jupyter-widgets/controls",
      "model_module_version": "1.5.0",
      "model_name": "FloatSliderModel",
      "state": {
       "description": "t",
       "layout": "IPY_MODEL_a17f184f813b41b3afda818064624a67",
       "max": 400,
       "step": 0.1,
       "style": "IPY_MODEL_df85ca4306a1448990b2ebebd320f834"
      }
     },
     "9091fceb1d6b4e20b6853609b3ef79f0": {
      "model_module": "@jupyter-widgets/controls",
      "model_module_version": "1.5.0",
      "model_name": "FloatSliderModel",
      "state": {
       "description": "frequency",
       "layout": "IPY_MODEL_cea39c1aae854257892b0fe9ef5c641a",
       "max": 49,
       "step": 0.1,
       "style": "IPY_MODEL_b2c598baf18c4d439c7f53058225b152",
       "value": 6.5
      }
     },
     "93db7fae86bd4868a882c3b1a95d048d": {
      "model_module": "@jupyter-widgets/output",
      "model_module_version": "1.0.0",
      "model_name": "OutputModel",
      "state": {
       "layout": "IPY_MODEL_f458fd880a4646db92266117498ff5b0",
       "outputs": [
        {
         "data": {
          "image/png": "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\n",
          "text/plain": "<Figure size 432x288 with 1 Axes>"
         },
         "metadata": {
          "needs_background": "light"
         },
         "output_type": "display_data"
        }
       ]
      }
     },
     "93eec5f993ec4d5ea50b2853be76446c": {
      "model_module": "@jupyter-widgets/base",
      "model_module_version": "1.2.0",
      "model_name": "LayoutModel",
      "state": {}
     },
     "99e643b3a9c241d18c718af0ff71854d": {
      "model_module": "@jupyter-widgets/controls",
      "model_module_version": "1.5.0",
      "model_name": "VBoxModel",
      "state": {
       "_dom_classes": [
        "widget-interact"
       ],
       "children": [
        "IPY_MODEL_3d34ad56bd9d47668d45957d00dc8c60",
        "IPY_MODEL_a41da9f2e5db4df58123740c7cf3dbb2",
        "IPY_MODEL_eef7b36a44344f209dfe817ea4cf6f9d",
        "IPY_MODEL_570cf719606d4bb19fa47ccb2fb1d0b2"
       ],
       "layout": "IPY_MODEL_849487d6795e4e83bf2bb6b77fce0b28"
      }
     },
     "9dc9543e03d34455b064d6906c0e67f7": {
      "model_module": "@jupyter-widgets/output",
      "model_module_version": "1.0.0",
      "model_name": "OutputModel",
      "state": {
       "layout": "IPY_MODEL_bda5ab0214794aa9928e60fa0f4a18c0",
       "outputs": [
        {
         "data": {
          "image/png": "iVBORw0KGgoAAAANSUhEUgAABC8AAAJRCAYAAABlSZ22AAAAOXRFWHRTb2Z0d2FyZQBNYXRwbG90bGliIHZlcnNpb24zLjMuMSwgaHR0cHM6Ly9tYXRwbG90bGliLm9yZy/d3fzzAAAACXBIWXMAAAsTAAALEwEAmpwYAABMEUlEQVR4nO39fbRk510f+H5/blltbNotwLFRS0oQujKgy2BjdNWdOOlAbOdKHrBCDGvJIdjjmVxdXSwC5IUlJnPzOrnDzcyQiRPHigwe7BlAC7AdOtBYNr4QhyQ2EsaWJYRwWyaoLcXCJm432HRb+Ll/nGq5dHReqs6pqr137c9nrbP6VNXetX/n9DnP2fWt3/Psaq0FAAAAoK+e1nUBAAAAADsRXgAAAAC9JrwAAAAAek14AQAAAPSa8AIAAADoNeEFAAAA0GtLDS+q6vqqerCqTlXVbVs8XlX1+snj91bVi6Ye+76quq+q7q+q719mnQAAAMCGqnpzVT1WVfdt8/hOr+V3zAH2amnhRVUdSPKGJDckuSbJq6rqmk2b3ZDk6snHzUneONn365P8P5Jcl+QFSb61qq5eVq0AAADAE348yfU7PL7da/lZcoA9WWbnxXVJTrXWHmqtnU9yZ5IbN21zY5K3tg3vS3JJVV2a5OuSvK+19tnW2uNJ/m2Sb19irQAAAECS1tp7k/z+Dpts91p+lhxgT5YZXlyW5OGp26cn982yzX1JjlfVV1TVM5O8PMkVS6wVAAAAmM12r+VnyQH25KJFPMk2aov72izbtNYeqKr/b5J3J/mDJB9K8viWB6m6ORttKnnGMw9+02VXHdmxqENPf/LtA388VdIf/sGO++ZZX/qkm3984Ivln/38zrs6/nodf/rYez3+k47t+OM+/m7H3uH4sx7b8fdx/B6NPY4//OP3auxxfGO/48907L0ev09jz7oc/4Mf+NgnW2t/YrYKhuc5X/Widv5zZ1dyrLOPnbo/yR9N3XVHa+2OOZ5iu9f7s+QAe7LM8OJ0ntwtcXmSR2bdprX2Y0l+LEmq6v8z2fYpJt/gO5Lk//INX91+5MQ/3LGo40cOPOn24bPnvvhc73/fjvvW0WNPun3m0MEnPn/vI3+8476Ov17Hnz72Xo8/fWzHH/fxdzv2Tsef9diOv/fj92nscXxjv+Ovz/H7PvaN/fh9Gnsc/4vH/7KDf+U/zXTwgTr/ubM5+l0/spJj/dI/fcUftdau3cdTbPda/uJt7t+3ZU4buTvJ1VV1ZVVdnOSmJCc2bXMiyasnK5UeS3KmtfZoklTVcyf//skkfznJTy2xVoA9mecEiu5sPoECAGBftnstP0sOsCdL67xorT1eVbcmuSvJgSRvbq3dX1W3TB6/PcnJbKxncSrJZ5O8duop3lZVX5Hk80le11r7L8uqlXHa/O4LAMAsBNfAuquqn0ryzUmeU1Wnk/y9JE9Pdn4tv10OsIialjltJK21k9n4oqbvu33q85bkddvs++eWWRsAALC+dN3B3rXWXrXL4zu9ln9KDrAIy5w2AjAIs8y7BdaDrjsuMPYDDIvwAgAAAOg14QUwaOYdAwDA+hNeAAAwKIJrgPERXjBIm6+1DgAAwPoSXgCds2gaMAvBNQCMl/ACAICVE1wDsxBcc4HwAtgX844BAIBlE17QmcNnz3VdAgAAAAMgvAAAVkZwvR503QGwasILwLxjAACg14QXAAAjJLgGVkXXHYsgvAAAAAB6TXjBnrhkUX+Yd8y6q6PHui6BCWM/ANAV4QUAwMAIrgEYG+EFAAAA0GvCC+gBi6YBjI+xHxgCUwbpC+HFiFn1F2B8jP3AEFjvCNhMeAEAAAD0mvAC9smiaQDjY+wHgNUSXgAAAKwxUwZZB8ILiEXTAMbI2A8AwyG8AAAAAHpNeDFQLlkEMD7GfgBgrIQXDJ5F0wDGx9gPAOMivABg6Y4fOdB1CQAwSLruYIPwokNW/QUAAIDdCS/oBSu+A4yPsR8AmJXwAgBWSNcdAGMmuGavhBfsm0XTAABge4Jr2D/hBQAwN8E1ALBKwos9suovAABsz5Wm1o/gmi4JL0hi7hkAAAD9JbwAgBmtW9ed4Bpgd8Z+6AfhxRrQvgUAAMA6G3V4YdVfAAAA6L9RhxcAMFS67gDGx9jPmAkvesLcM4DV0HUHMD7Gfhg+4QUAAADQa8ILAOiIrjuA8TH2w94ILwAAAIBeE14sgIVzAAAAYHmEFwDsqI4e67qEJ5w5dLDrEp4guAYAWB3hBQAAwAwE19Ad4cWEhXMAxsfYD9B/feq6A7ojvAAAAEZDcA3DJLwAYKUOnz3XdQkAAAyM8AKAQTLvGABgPIQXAADAUi2q605wDeMlvACgM+YdA/RTny6TDZAILwAAAICeE14AMDOXqwNgv3TdAXux1PCiqq6vqger6lRV3bbF41VVr588fm9VvWjqsR+oqvur6r6q+qmqesYyawUAAAD6aWnhRVUdSPKGJDckuSbJq6rqmk2b3ZDk6snHzUneONn3siR/Pcm1rbWvT3IgyU3LqhWA+Vk0DWAcdN0BfbDMzovrkpxqrT3UWjuf5M4kN27a5sYkb20b3pfkkqq6dPLYRUm+pKouSvLMJI8ssVaAtXb8yIGuSwBgDQiuga4sM7y4LMnDU7dPT+7bdZvW2seT/C9JfjfJo0nOtNbetcRaAQAAgJ5aZnhRW9zXZtmmqr4sG10ZVyY5kuRZVfVXtzxI1c1VdU9V3fOZT31mXwUDjMHhs+ee+NyiaQAADMEyw4vTSa6Yun15njr1Y7ttXprkY62132utfT7J25P8ma0O0lq7o7V2bWvt2md/xbMXVjwAAKwLwTUwdMsML+5OcnVVXVlVF2djwc0Tm7Y5keTVk6uOHMvG9JBHszFd5FhVPbOqKslLkjywxFoBAACAnrpoWU/cWnu8qm5Nclc2rhby5tba/VV1y+Tx25OcTPLyJKeSfDbJayePvb+qfjbJB5I8nuQ3ktyxrFoBhsiiaQDsxGLNwH5U1fVJ/lk2Xs//aGvthzc9/reTfNfk5kVJvi7Jn2it/X5V/U6Ss0n+OMnjrbVr91vP0sKLJGmtncxGQDF93+1Tn7ckr9tm37+X5O8tsz4AABgSwTWwClV1IMkbkrwsG8s93F1VJ1prv3lhm9ba/5zkf55s/21JfqC19vtTT/MtrbVPLqqmZU4bAWDBzhw62HUJAACsv+uSnGqtPdRaO5/kzmxcVGM7r0ryU8ssSHgB0CGLpgGMz7xjv+Aa6MBlSR6eun16ct9TVNUzk1yf5G1Td7ck76qqX6+qmxdR0FKnjQAAAAC985yqumfq9h2ttel1JmuLfdo2z/VtSf79pikjL26tPVJVz03y7qr6rdbae/dTsPACYMWmL1cHAABJcvHhL+TI9Z9bzcH+aT65yyKap5NcMXX78iSPbLPtTdk0ZaS19sjk38eq6h3ZmIayr/DCtBGAPbJoGsD4GPuBkbg7ydVVdWVVXZyNgOLE5o2q6nCSP5/k56bue1ZVHbrweZK/mOS+/Rak8wIAAAB4Qmvt8aq6Ncld2bhU6ptba/dX1S2Txy9cRfTbk7yrtfaHU7s/L8k7qirZyBx+srX2zv3WJLwARs2CmQDj08XYb8ogMDSttZNJTm667/ZNt388yY9vuu+hJC9YdD2mjQD0XB091nUJAADQKeEFwBxcrg4AAFZPeAEMlkXTAABgHIQXAAAMhuAaYJyEFwAAsIMupgxa7wjgyYQXQKdc7QMAANiN8AIYHZerA+iW4BqAeQkvAAAAgF4TXgB7ZtE0AIZC1x3AsAkvAFbg+JEDXZcAsBCCawC6ILyAkTPvGAAA6DvhBTAoXVyuDgAA6JbwAgBgZIbWdSe4BkB4AQNm3jEA9Jf1jgAWR3gBAAAA9JrwAgBgQHTdATBGwgvo2NDmHS/C4bPnui4BgBUz9gOwH8ILAIAVG2NwDQD7IbwAAAAAek14Aftg3jEAAMDyCS8AAOYguAaA1RNeAHM5c+hg1yUAsGLGfgC6Jrxg9CyaBjA+xn4AGBbhBQAAANBrwguAXdTRY12XAAAAoya8gBE6fPZc1yUA7JkFMwFgfIQXDJoTWACYjeB6PrruAPpFeAEAAECvedMS4QWds+I7AAAAOxFeAAArJ7gGAOYhvICBOXPoYNclAADA3ATX7Ifwgn0x9wwAAIBlE14AAHMRXK+erjsAxk54AYzC8SMHui4BAGCwBNd0TXiBuWcdOHz2XNclAAAADIbwAgBGSHDNGOi6gycz9jNkwgsAgBXQdQcAeye8GDhzzwAAAFh3wgsAAICe86YlYye86AFzz4bF5eqArjmBBQDGRngBAAAA9JrwAgA6oOtuWHTdAYtg7Ie9E14AAAAAvSa82CfzjofJ5eoAAACGY6nhRVVdX1UPVtWpqrpti8erql4/efzeqnrR5P6vqaoPTn18pqq+f5m1AgAAAP100bKeuKoOJHlDkpclOZ3k7qo60Vr7zanNbkhy9eTjaJI3JjnaWnswyQunnufjSd6xrFoBYB667oZJ1x2wH8Z+6NYyOy+uS3KqtfZQa+18kjuT3LhpmxuTvLVteF+SS6rq0k3bvCTJR1tr/2lZhVo4BwAAAPprmeHFZUkenrp9enLfvNvclOSnFl4dAKMmuAYAGI5lhhe1xX1tnm2q6uIkr0jyM9sepOrmqrqnqu75zKc+s6dCgX6ro8e6LgGAFTP2swyCaxiuZYYXp5NcMXX78iSPzLnNDUk+0Fr7xHYHaa3d0Vq7trV27bO/4tn7LJkhOHPoYNclAAAAsELLDC/uTnJ1VV056aC4KcmJTducSPLqyVVHjiU501p7dOrxV8WUEQA2sWja+AiuAWDclhZetNYeT3JrkruSPJDkp1tr91fVLVV1y2Szk0keSnIqyZuSfM+F/avqmdm4Usnbl1Uj6+ltv31x1yXAaPn9g2743YPu+P1bHsE105bZeZHW2snW2vNba1e11v7x5L7bW2u3Tz5vrbXXTR7/r1pr90zt+9nW2le01s7s5dhdDyJdH79Lffjau66h6+N3qeuvvevjd83XP96v/22/fXHnX3/Xx+/SmL/2xNff9dff9fFXZbuuu7F8/dsZ+9fPeCw1vOiKX+Duvwe7Hf/w2XMrqmT1+v69Z7l8/2e3boum9SE86FIfvvY+1DBmXX7//d93a8z/910fv2tj//pZrbUML7rW9S9x18ene34GGCM/9/23zOC6D///XdfQ9fEZp3l/7tYtuO5aH37v+1AD4yC8AFbi+JEDXZewdF3/8R778YFxG+sYNNavm+FY545rVkt4ASxcVydSF47b9Yncfo5/9sRHF1jJ8rjaB8CGrv/mAIyF8AJgylDCg504kQZWaacxZ9auu/2MvYsY8xYx9o9h7BVcA10SXjA3lyxiO305gWQ25h0DFxh7Aeg74QWsEeEB++X/H4ZnDO/4rzudH0AfVdX1VfVgVZ2qqtu2ePybq+pMVX1w8vF3Z913L9Y6vDCIs2rCAzD2ritdd8tl7GdVtuq6W4fwZAzrTcEqVdWBJG9IckOSa5K8qqqu2WLTf9dae+Hk4x/Oue9c1jq8YHyEBwCsWtcv2mDonHv1l+B61K5Lcqq19lBr7XySO5PcuIJ9tyW82Ma6D6J9vmTRun/vYRHWddE0v//sheAa6JoQkzV0WZKHp26fnty32Z+uqg9V1S9W1f91zn3nIrxgoQzcQNeMQ9tbVnAtPIDVWNfgmmEy9g/ec6rqnqmPmzc9Xlvs0zbd/kCSP9Vae0GSf57kX8+x79wu2u8TsL23/fbFeeXzz3ddxtzOnvhoDr3iqq7LAGBGizqBNPYDQHcueUZb2evHtyafbK1du8Mmp5NcMXX78iSPTG/QWvvM1Ocnq+pfVtVzZtl3L3RerBnvOMJwuFRp/3S5aF0f3n3qQw2w7oz9bLbXsXfWvzc7dd0Z99nB3Umurqorq+riJDclOTG9QVV9ZVXV5PPrspEvfGqWffdCeLFgi3r3y0BCn9TRY12XAL22qOB4HVb8B2B2zvnpq9ba40luTXJXkgeS/HRr7f6quqWqbpls9h1J7quqDyV5fZKb2oYt991vTaaNbKHvg4hVfwEWr+9j/1AMdcokwLz6FBYbe1mG1trJJCc33Xf71Of/Ism/mHXf/Vq7zos+DSJd872A5bFoWr+MYbwTXLNquu7oOwtGwrisXXgBAADLILh+MuHBevB/wFAIL9iSQQyYhxNYFsHPAMCT6bqDLxJedGSnVX+B1bDi+5N54QiMgbH/yYz9LMIYpm/SPeEFS2MQg9Xx+zYMgmtgkYz9wJgIL+ilri8X2PXxGSfvfsH+GXsZGmM/Y+d3gFkJL2Akjh850HUJvbefP55eMAGMj7GfWei6g8UQXgCDtHnFdyeQAOvP1T4Axkt4AQAQrctj5f8dYBiEF3vgkkUs21hOpDav+D6WrxtgVYYwZdCUPQBmIbwAFsIJJOtOcA1PtZex36VKAdgL4QUAwIIMMcjV9QbbE1xDf4w2vLDqLzzVPCewFk0D6N4QwxIA2IvRhhewbjafwDqhBRiWIXRACK4B6IrwAnpkCCeuMGS67ugjYz8A7E54AQsyxE4Hi6YB7E/fxv791CNEYV0JrmE9CC9gihM3gPEZ29i/zOBaeALAsggvWBt9e/drkerosZUezwkkAADQJ8ILesWL5tlZNA1gvYNr5ufnAYbDeT/zEl6wME4YgGU6c+hg1yWwJE5gAYDdCC8AgD0TXC/PVlMGdd0xNoLrfjL20wXhBU/i3a/VWuerffijBgAALIrwYo14sci6EKLBavmdW611Dq6B4TD2MzTCCwAYMME1LIYXcgyJsZ8xEl70jD+c6+v4kQNdlzAq/qj30+Gz57ouoZeM/cA6M/YDiyC8WCAvlsbFomnrywtJ5mHsB2AvnG/AfIQXAIyeE0hmJbgGEsE1dEF4sYkTWGARnNQAQL8574dhWavw4tN/VF2XwMBY8R1md+bQwa5L2JKgiHkZ+wFgeNYqvABYB2N8J2iMXzPjYLHmcRGmro7vNYyP8AIAANjSMrvuBNfAPIQXAGtole9IefcLYP+G9kLe2A+smvCCwbLiO8D4GPthcYYWmADjJrwAGJHDZ89teb8TWACgrwTXJMILOmbFd9g/rbsMjbEf9m+rsX+7vwfbBdcAQyK8AACADuh6A5jdUsOLqrq+qh6sqlNVddsWj1dVvX7y+L1V9aKpxy6pqp+tqt+qqgeq6k8vs1bYSR091nUJrLk+ncD2qRYAYD3oumO/lhZeVNWBJG9IckOSa5K8qqqu2bTZDUmunnzcnOSNU4/9syTvbK19bZIXJHlgWbUC7IdpGwDjs25jv+Aa6Ltldl5cl+RUa+2h1tr5JHcmuXHTNjcmeWvb8L4kl1TVpVX17CTHk/xYkrTWzrfWPr3EWtkDC+ewToZw0nbm0MGuSwBjPwDQiWWGF5cleXjq9unJfbNs89VJfi/J/15Vv1FVP1pVz1pircCArdu7XwCsxhCCawA2LDO8qC3uazNuc1GSFyV5Y2vtG5P8YZKnrJmRJFV1c1XdU1X3/NGZz+ynXgAWRKDEOrDeEX0wpK47Y//60nVHHywzvDid5Iqp25cneWTGbU4nOd1ae//k/p/NRpjxFK21O1pr17bWrn3G4WcvpPAxsXAOfeHdL1gdYz/rwAtlgHFZZnhxd5Krq+rKqro4yU1JTmza5kSSV0+uOnIsyZnW2qOttf+c5OGq+prJdi9J8ptLrBXYByeQszt89lzXJQD0huAaVkdwzdBdtKwnbq09XlW3JrkryYEkb26t3V9Vt0wevz3JySQvT3IqyWeTvHbqKb43yU9Mgo+HNj0Gczt+5EDXJQDA2hBcz05wDbB/SwsvkqS1djIbAcX0fbdPfd6SvG6bfT+Y5Npl1jd05p6xSN79AhgfYz99cfbER3PoFVd1XQbQY8ucNgIAc/NiameCawBgjIQXHTP3jEXQugswPsZ+GA/BNQgvAGY2pMvV0W+C69Xp+3pHOo0AYDbCC+gJJ7AA0D+CaxZFcA37I7yABdC6CzA+xn4AWB3hxT6Ye7ZedD4AAAyXQBHW29qHFwYxYNrhs+e6LoGBE1yvF8E1MAtjP3Rv7cOL3Zh7th6EVADjY+wHgPEYfXixE+/GrJbvNwCwDLruAIZPeMEg1NFjXZcADMhu78jruusPwTWwKjuN/cai1fL9Zi+EFyyE1l0AAFh/zvvpivCCJ0hA6bszhw52XQIwZdknsLrugCHxoh6WS3gBwKBY8X2xBNcA42PsZ4iEF2tC0gsArCNddySCa0B4AQCDJbgGGB9jP6tSVddX1YNVdaqqbtvi8e+qqnsnH/+hql4w9djvVNWHq+qDVXXPIuoRXvSI9i3GwOXqSPp9tY9Vj8XGfgD4Iusd9UNVHUjyhiQ3JLkmyauq6ppNm30syZ9vrX1Dkn+U5I5Nj39La+2FrbVrF1GT8GJBJKAAAFsTXJP0O7heNcE1A3BdklOttYdaa+eT3JnkxukNWmv/obX2XyY335fk8mUWJLxgZY4fOdB1CQALJbgGANbUZUkenrp9enLfdv67JL84dbsleVdV/XpV3byIgi5axJOsi2UkoG/77YvzyuefX/jzAnRl3RZN8+7XcgmugXUjuGZNPGfTWhR3tNamp33UFvu0rZ6oqr4lG+HFn526+8WttUeq6rlJ3l1Vv9Vae+9+ChZeAAAAoyK4po8OPX2lof8nd1mL4nSSK6ZuX57kkc0bVdU3JPnRJDe01j514f7W2iOTfx+rqndkYxrKvsIL00YARmhd5h179wtgNdat665v1i1M0XW3Fu5OcnVVXVlVFye5KcmJ6Q2q6k8meXuS726t/fbU/c+qqkMXPk/yF5Pct9+CdF4AMztz6GDXJQCwYsZ++kZwDcvXWnu8qm5NcleSA0ne3Fq7v6pumTx+e5K/m+QrkvzLqkqSxyfdHM9L8o7JfRcl+cnW2jv3W5PwAoBOrdu7TYn1joB+6lPX3TqO/bBuWmsnk5zcdN/tU5//tSR/bYv9HkrygkXXY9oIAAAA0GvCC4CB6dO8Y627AONj7Ae6ILyAkTl89lzXJdAzWndh/Rn7ARg64QUzqaPHui4BAGC0Ft11J7gGhkZ4AdCBRS2apnV3/XhBAezG2A+MkfACANiSrjtYrD5d7QNgaIQXPebdNxgHv+sA42PsB5iP8AIG5Myhg12XAAAAsHLCC4A5TS+aZt4xsGyC6/4x9rPOTBmkr4QXAACwi0Vf7QMWTajGuhNejMjxIwe6LgF6ybxjgPEx9gMMi/ACVuzw2XNdl0Cs+M568+4bbM3YDzBcwgtg0LxIg53pumMdGfsBxkd4AXRO6y6w7nTdAcD+CC/WnHcmAJiHMJFV8bMGwDyEF8C+dBGQWfEdYHyM/QDjJryAOZw5dLDrEpbCu18AzENnJ/TbvOsdORdkCIQXAAAAQK8JL4BOuFwdMBS67hbH2A/AXgkvYOC07gIAAOtOeMG21nXum8vVASyXUHX5fI8BGBvhxUDU0WNdl8ASDS0osuI7wP4NbewHgC4JLwCAtafrbv8E1wB0SXgB+6R1F1gWXXf9ZewHgNUSXsBIWfEdAAAYCuEFg7Ksy9WZdwwwPmMc+wXXwLLoSGPZLpp1w6p6bpJnXLjdWvvdpVQEAAAwUqYMwtZ27byoqldU1UeSfCzJv03yO0l+ccl1wcykvADrbauuO2M/AIzLLNNG/lGSY0l+u7V2ZZKXJPn3S61qTR0/cqDrElbOyeVyWPEdAIB1tqzp4gzXLOHF51trn0rytKp6Wmvtl5O8cJYnr6rrq+rBqjpVVbdt8XhV1esnj99bVS+aeux3qurDVfXBqrpn1i+IYRrjvGOAsdtq7Pf3YHuCawDGbJY1Lz5dVV+a5L1JfqKqHkvy+G47VdWBJG9I8rIkp5PcXVUnWmu/ObXZDUmunnwcTfLGyb8XfEtr7ZMzfSUMxuGz57ouoRcsmgbjMMauOwDYjpCavZql8+LGJJ9L8gNJ3pnko0m+bYb9rktyqrX2UGvtfJI7J8+1+bnf2ja8L8klVXXpzNXTC6aGALAbwTUA2xFoMIttOy+q6q5shBW/2Fr7rcndb5njuS9L8vDU7dN5clfFdttcluTRJC3Ju6qqJflXrbU75jg2czJgADAPwfXe6LqDcVjXrjtjP13aadrIa5Jcn+TvV9Xzk7w/G2HGe1prfzDDc9cW97U5tnlxa+2RySVa311Vv9Vae+9TDlJ1c5Kbk+RZz33ODGUBAACM0yrftNR1xyJtO22ktfafW2s/3lq7Kcm1Sd6a5JuS3FVVv1RVP7jLc59OcsXU7cuTPDLrNq21C/8+luQd2ZiGslWdd7TWrm2tXfuMw8/epaT1JAFdPYumAetA1x0AMBSzrHmR1toXWmv/sbX2d1trL05yU5KP77Lb3Umurqorq+riyT4nNm1zIsmrJ1cdOZbkTGvt0ap6VlUdSpKqelaSv5jkvjm+LpbEJYsAGCvBNdA1b1oyZruGF1X1/Kp6T1XdN7n9DUluaa39xE77tdYeT3JrkruSPJDkp1tr91fVLVV1y2Szk0keSnIqyZuSfM/k/ucl+dWq+lCSX0vyC621d87/5Q2Hd7+eyvcEYHurPIEVXAMAXZvlUqlvSvK3k/yrJGmt3VtVP5nkf9xtx9bayWwEFNP33T71eUvyui32eyjJC2aobWXq6LGuS2DBLJoGdE1ICzA+xn7Ym1mmjTyztfZrm+57fBnFDJX2LQAYBsE1wGx03dE3s4QXn6yqqzK5CkhVfUc2LmXKQFn1F2D/BNcAAKszy7SR1yW5I8nXVtXHk3wsyXcttaoOaN8CGJ/dxn5TBgGYJriG7uwYXlTVgST/r9baSydX/Xhaa+3sakqD7VnxHWA+uu4AZiO4hn7aMbxorf1xVX3T5PM/XE1JALA7736Nj+AaWIQxdVwLrlkns0wb+Y2qOpHkZ5I8EWC01t6+tKqW5PiRA12XwBSLpgEAADsRXHPBLOHFlyf5VJK/MHVfSzK48GIdWPUXWCdjeveLDYJrYD903cF47RpetNZeu4pCAICtCa6BdSK4Hh/BNYuwbXhRVT/YWvsnVfXPM7lM6rTW2l9famUAsACmDAIADN9OnRcPTP69ZxWFMCzmngFad8fH2A8Y+1dH1x082bbhRWvt30w+/XettYdWVA8AAMC+6LqD9TPLgp0/XlWXJbk7yXuzEWZ8eLllrTeXLAL6wrzj1TH2A31h7Gceuu7oi6fttkFr7XiSr0vyz5N8WZJfqKrfX3ZhLJ+FcwDGZwxjv7Z2AFg/u3ZeVNWfTfLnJh+XJPn5JP9uuWUBsBsv0ADGx9g/LLruYHFmmTbyb7OxaOf/lORka+38cksCAABgUcbQdcf6myW8+IokL05yPMlfr6ovJPmPrbX/91IrAxgB844BxsfYDzC/XcOL1tqnq+qhJFckuTzJn0ny9GUX1ld9uWSRhXMAVsfYDwDQrVnWvPhokgezsc7F7Ulea+oIgHnHq1BHj3VdAsCTGPsBujHLtJGrW2tfWHolAAAAPaHrDvpllkulCi6WxMI50D3zjlk1Yz90z9jfb7rugK3sGl6sI5csAgAAVkVwDfs3yvCC8TAvdb35/2UegmsAgNlV1fVV9WBVnaqq27Z4vKrq9ZPH762qF826717MsmDnwSSvTPJV09u31v7hIgoYKnPPAABWT3DNPATXsDdVdSDJG5K8LMnpJHdX1YnW2m9ObXZDkqsnH0eTvDHJ0Rn3ndssnRc/l+TGJI8n+cOpD4B9M++YIRFcw2IY+wF677okp1prD02uNnpnNnKBaTcmeWvb8L4kl1TVpTPuO7dZrjZyeWvt+v0eqI/MPQNYvuNHDnRdAgDsmeCakbosycNTt09no7tit20um3Hfuc0SXvyHqvqvWmsf3u/BgPWidRcAABbjwB+3VU51ek5V3TN1+47W2h1Tt2uLfdqm29ttM8u+c5slvPizSf6bqvpYknOTQlpr7Rv2e3Cge1p3GYIzhw4u7Ll03cH+CK6ZRd+67oz98BSfbK1du8Pjp5NcMXX78iSPzLjNxTPsO7dZwosb9nsQAACAeSwyuAbmdneSq6vqyiQfT3JTkr+yaZsTSW6tqjuzMS3kTGvt0ar6vRn2ndu24UVVPbu19pkkZ/d7EAAA+kPXHQA7aa09XlW3JrkryYEkb26t3V9Vt0wevz3JySQvT3IqyWeTvHanffdb006dFz+Z5FuT/HqeOm+lJfnq/R4c2B+tuwAAwDK01k5mI6CYvu/2qc9bktfNuu9+bRtetNa+dfLvlYs8IADjtIgFqKz4DoJrxsfYDyTJ07ouAMZO6y4AsK5WeOUEYM0JLwAAVkxwDQDzEV4AsK06emzhz+lydfSZUAEA+mmWS6Wmqg4ked709q21311WUTAU5h0DjI+xH+YnuAb2a9fwoqq+N8nfS/KJJF+Y3N2SfMMS6wIAADqwjK47gP2apfPi+5J8TWvtU8suBrqgRRh2d+bQwa5LgIUy9sPujP1An8yy5sXDSc4suxDoGye28FQuVwcAQBe27byoqr8x+fShJL9SVb+Q5IlrHbXWfmTJtQEAPIU1J2C1BNdAH+w0beTQ5N/fnXxcPPlINta8gM45gYXdHT9y4Em3LZoGAMDQbBtetNb+QZJU1Xe21n5m+rGq+s5lFwbAYh0+e273jWBFTM0DYB7etGSWNS9+aMb7YE+cwAIALNaFrrsLwbWuO2Dodlrz4oYkL09yWVW9fuqhZyd5fNmFAQAAsD68acl+7LTmxSNJ7knyiiS/PnX/2SQ/sMyiGA7tW7BaFk2jD4z9AMCq7bTmxYeSfKiqfjJJJfnabCzU+WBr7fyK6gMAAKBjgmu6tlPnxQUvS/Kvknw0GyHGlVX1/2yt/eJSK2NltG9B/505dLDrElgzxn4YDl13ALOFFz+S5Ftaa6eSpKquSvILSYQXAHtg0TQAZiG4ZtEE1wzZLFcbeexCcDHxUJLHllQPc9K+BQDQf4JrgP2ZpfPi/qo6meSns7HmxXcmubuq/nKStNbevsT6AEatjh7rugR6SHANMD7GfsZulvDiGUk+keTPT27/XpIvT/Jt2QgzhBf7pH0LxuHw2XNdlwAAAIO0a3jRWnvtKgoBGAKLprEogmsYB8E104z9sHe7rnlRVc+vqvdU1X2T299QVf/DLE9eVddX1YNVdaqqbtvi8aqq108ev7eqXrTp8QNV9RtV9fOzfkGrpn0LAGC9Ca4BujfLgp1vSvJDST6fJK21e5PctNtOVXUgyRuS3JDkmiSvqqprNm12Q5KrJx83J3njpse/L8kDM9QIAABrwXpHAE81S3jxzNbar2267/EZ9rsuyanW2kOttfNJ7kxy46Ztbkzy1rbhfUkuqapLk6SqLk/yXyf50RmOBTAzK76zX7ruAMbH2A/dmiW8+GRVXZWNxTlTVd+R5NEZ9rssycNTt09P7pt1m/8tyQ8m+cIMx9oXc8+A3Zw5dHDP+x4/cmCBlQCwF4JrgGGb5Wojr0tyR5KvraqPJ/lYkr86w361xX1tlm2q6luTPNZa+/Wq+uYdD1J1czamnORZz33ODGUBgOAaYIyM/TBcs1xt5KEkL62qZyV5Wmvt7IzPfTrJFVO3L0/yyIzbfEeSV1TVy7NxqdZnV9X/2Vp7SmjSWrsjG+FKnvP8qzaHIwAAsCf76boDYLG2DS+q6m9sc3+SpLX2I7s8991Jrq6qK5N8PBuLfP6VTducSHJrVd2Z5GiSM621R7OxQOgPTY73zUn+1lbBBTA+VnwnMe8YAGBsduq8ODT592uS/N+yETQkybclee9uT9xae7yqbk1yV5IDSd7cWru/qm6ZPH57kpNJXp7kVJLPJnntXr4IgFkcPnuu6xIA2IMhBtfWO1o8wTWM27bhRWvtHyRJVb0ryYsuTBepqr+f5GdmefLW2slsBBTT990+9XnLxpoaOz3HryT5lVmOB8BwmHcMAMCsZrnayJ9Mcn7q9vkkX7WUaoBRsOI7wPh0NfbruusXwTWwV7NcbeT/SPJrVfWObFwt5NuTvGWpVQHQa1p3AQBYpVmuNvKPq+oXk/y5yV2vba39xnLLAgAA+kRwDXRpls6LtNY+kOQDS64FYFtdXa6ujh7r5LiroHUXAIChmGXNC4AnDHHFdwD2x9i/PgTXwFAJLwAA6CVddwBcILwAGCDzjgEAGBPhBYyQy9UBjI/LVA+f4BoYM+EFQEfMOwYYH2M/wN4IL4C1d/zIga5LABgtXXcALILwAgAAAOg14QUMjMvV9YN5x8AqGfv7wdgP0B3hBQAAa2e7KYPWnAAYJuEFdGCIK76fOXSw6xIWzgksAAAMg/ACAGAFBNcAsHfCC2CQzDsGGB9jP8B4CS9gThZNAwAAWC3hBYzI4bPnui7hSaw5AbB8xn4A1oHwAgBgF7ruAKBbwgtGaYiLpo1VHT3WdQkAAEDHhBfAnlg0DWB8VjX2C64B2Ex4ASNm3jEwJrruAGC4hBcwEGcOHey6BABWbBljv+AagCESXjA4Fk0DAAAYF+EFDNSQ1pw4fuRA1yUAAAADJrwAAHpP192GIQXXALBIwgs6MdZF0w6fPfek2+YdA7CudN0B+yW4ZprwAgBYCcH1BsE1AMxPeAEAAAD0mvAC9si8YwAA2NlYu+7WWVV9eVW9u6o+Mvn3y7bY5oqq+uWqeqCq7q+q75t67O9X1cer6oOTj5fPclzhBQDAjATXAJDbkryntXZ1kvdMbm/2eJK/2Vr7uiTHkryuqq6ZevyfttZeOPk4OctBhRfMbZ0WzjHvGGA26zT2AwD7cmOSt0w+f0uSv7R5g9bao621D0w+P5vkgSSX7eegwguY0ZlDB7suoRN19FjXJQAslOAaAPblea21R5ONkCLJc3fauKq+Ksk3Jnn/1N23VtW9VfXmraadbOWiPRYLAAyMecfzG2twDZDoulu5P/yDVf6tfk5V3TN1+47W2h0XblTVLyX5yi32+zvzHKSqvjTJ25J8f2vtM5O735jkHyVpk3//1yT/7W7PJbwYqXU4gTXvGGB8jP0AsBCfbK1du92DrbWXbvdYVX2iqi5trT1aVZcmeWyb7Z6ejeDiJ1prb5967k9MbfOmJD8/S8GmjTAqh8+e67oEAOg9UwYB2MGJJK+ZfP6aJD+3eYOqqiQ/luSB1tqPbHrs0qmb357kvlkOKrygU+YdA4yPsR9gdXRcswQ/nORlVfWRJC+b3E5VHamqC1cOeXGS707yF7a4JOo/qaoPV9W9Sb4lyQ/MclDTRgCAtabrDgAWp7X2qSQv2eL+R5K8fPL5ryapbfb/7r0cV+fFAFk4B2B8jP0ADJmuO/ZLeMGead8ajuNHDnRdArAmjP0AQBeEFwyGy9UBADAmfem6E1zTB8KLjvRl4RztWwCr05exn3HQdQfAOhFeAMDIDCm41nUHDF1fgmtjP0MnvAAAAAB6TXgxYEOce+ZydQAAAMxLeLEHfVk4B4DxGWJwDcD+GPtBeNG5Ic09AxgzwfXe6boDhsrYD/0x2vCiLwvnwG7q6LGuSwAWTHANMD7Gftif0YYXi6B9CwAA4Kl03bFowgsARkPXHUOh6w4Wx9gP62H04YX2rdm53jKArjuAMTL2Q/dGH14AAAAA/bbU8KKqrq+qB6vqVFXdtsXjVVWvnzx+b1W9aHL/M6rq16rqQ1V1f1X9g2XWCcC46Lqbna47YF0Y+2HYlhZeVNWBJG9IckOSa5K8qqqu2bTZDUmunnzcnOSNk/vPJfkLrbUXJHlhkuuryuRPBuv4kQNdlwCD53J1AONj7O+G4Jo+WmbnxXVJTrXWHmqtnU9yZ5IbN21zY5K3tg3vS3JJVV06uf0Hk22ePvloS6x1NKz6CwAAwNAsM7y4LMnDU7dPT+6baZuqOlBVH0zyWJJ3t9bev7xSARgKi6YBAIzPMsOL2uK+zd0T227TWvvj1toLk1ye5Lqq+votD1J1c1XdU1X3/NGZz+ynXgCWzOXquqHrrhumDMKGRYz9gmtgmeHF6SRXTN2+PMkj827TWvt0kl9Jcv1WB2mt3dFau7a1du0zDj97nyUDsAoWTQOA5RJcs26WGV7cneTqqrqyqi5OclOSE5u2OZHk1ZOrjhxLcqa19mhV/YmquiRJqupLkrw0yW8tsVYAAGCJBNfAfly0rCdurT1eVbcmuSvJgSRvbq3dX1W3TB6/PcnJJC9PcirJZ5O8drL7pUneMrliydOS/HRr7eeXVetQWPUX6AOtuwAArNrSwoskaa2dzEZAMX3f7VOftySv22K/e5N84zJrA2A+LlcHMD7GfqAvljltBNZCHT3WdQmwcFp3h0PXHdAHuu6ArgkvAEbE1T4AoP8E1/BUwosVW+aqv4+880uW9tyzHr/rGhbp0Cuummv7rr/2ro8/dl1//7s+fpe6/trXbewbmmV972ftuhv7/33XX3/Xxx+KC8H1orvuuv7+d338LnX9tXd9fMZp7cKLLn+R/BIzZl3//Hd9/FXSuvtUY/r/36zr8GTM33sY8+9e18cHxmetwovzZ7r/croeyLs+fpe6PoGnO/7fu+V3b3fL7LrrA///3fH7Nx5bBddj/r/v+mvvw+/e2I/P+HT/ah9g4Pbyx3uRrbtOHhi7rn8Huj4+3fD/zm7WPbiGVRNeMArHjxxYyXHGeiIz1q971VyuDuiTC2N/V38Dhvi3Zy/BtbEfYIPwAtZA1yeQfTH2rx9YrUWMOR/6lb2vYdP18QFglYQXc3DJIrazDieQizj+fr4PQ/r697NgpkuVDo+xf7j20nU375Wm2J+ux34AhkN4wVpYh/CA4dP5Aatl7CdZ3dgruAbolvCCJ2hdBQAAduK8n64IL9aEd3xhPn1bNM0fcYbICSxDs3ns73rKJP217lMGjb0M0ejCC5csAhifdR37hQcwbOvw+ye8WT3fc8ZqdOHFsjiBBLrmZGb1jP2wOvtZc2KdjWWx7HUz5q8d9kp4McUg0k919FjXJdAzFk3jAuEBsGzLnDLIMHmzALohvADAC3gABmPW8GCnKYP+7sHwCC+ATuxlwUz6ba/vRDmBZCu67tZTV2O/rrv+WdTYrwsCxkN4AcCeLeqkUYABsFr7GXcFBkAX1jK8MKACzK7vwcGsl6vreuwf8qJ5wLB0Pd6tC2Nv/+i6YydrGV4Ay9XViu8WTXsqJ7CL4QQWdudqH4tl3AGYj/BiE39IluP4kQOdHPeVzz/fyXEZD1e7AFiuPgbXguPlm7XrDhgP4QWMlAUzv0h4wDrwYopZGPthsYy9sDrCiyUwiMH2Fr3iu9+3YdjpcnWsr6667mAWgmuAYRFewAD1ad6xaRMA7EZwPU6C6505/4H5CC96xiAGAIyBcx5YT7ruWBbhBXSkT/OOnUDCuBkDhmHduu6A/fO7yJgIL9bQfgaxRZzAdn38sfFHC2B8Vjllr49X+wD2z3k3QyO8gB4Yyh8PJ7AA+zPddTeUsR9gO960ZJWEF+yqjh7ruoS5rKIToU+tu7BsZw4d7LoEBmBsXWBj+3oZH2M/0DfCC9gnJ7AAwzSmd/0WfbUPAFg14QXECSzAZkPrupv2yuefX8rz6roDgO4ILxi8vXY+9OlqHwBjtpcAWdcbwOINObhm/Qkv6IUxdT5AFw6fPdd1CfAUXYz9gmvGxNhPHznvZ6+EFyNx/MiBpT33Or37ZTAFmM06jf0AzMbYT5eEFyQZ3ov2sc47dqlSgK2t8wm1sR9YpKGd98MFwos1sM4nbADs3W5dd0M7gV1WcD207wMwXs77GTPhRU84cRoPV/sAFsEJbL/4/wBYjrF2XPdZVX15Vb27qj4y+ffLttnud6rqw1X1waq6Z979NxNe0Jl1XTTNCSyLdubQwa5LYEnGGFyv69i/m52C6zH+HMCYLft3fplr3cHEbUne01q7Osl7Jre38y2ttRe21q7d4/5PEF4sgBerAONj7KdP9vPzKDzpJ8E162SswfUauzHJWyafvyXJX1rF/sKLCX+4AcbH2D8frbvA2AmuIUnyvNbao0ky+fe522zXkryrqn69qm7ew/5PctE+CmbExnoCu+wV3z/0KxfnBd98fqnHgHXhBBKAvRBc01d//Olzq+xSec70OhRJ7mit3XHhRlX9UpKv3GK/vzPHMV7cWnukqp6b5N1V9VuttffusV7hxRDU0WNdlwDs0+Gz57ouoZecQAIwD8H16o31TcsR+OSmdSiepLX20u0eq6pPVNWlrbVHq+rSJI9t8xyPTP59rKrekeS6JO9NMtP+m5k2MmLmngGMj7F/fsvuugOAgTmR5DWTz1+T5Oc2b1BVz6qqQxc+T/IXk9w36/5bEV4wOut+qVLvSLAqftaWS9cdDJ+uu63puoPB++EkL6uqjyR52eR2qupIVZ2cbPO8JL9aVR9K8mtJfqG19s6d9t+NaSMAAOzLI+/8khy5/nNdl8EKCK6HSdcdi9Ra+1SSl2xx/yNJXj75/KEkL5hn/93ovBgoc89YBu+EjI//82Ex9u/dunfdwTyM/cAQCS/orUOvuKrrEiBJcubQwa5L2JJ3vwDGx9i/3raaMii4hg3Ciw5p35qfRdP6z0kVAOxM5wPA/IQXK3L8yIGuS4DeG+PJ3Bi/5rETXMOT9XUc7GvXHcBYCS8AYEkE14uh644+0WHIXgiuYf+EF3tk7hkMyzIuV+cEFmCY+trtAXyR4JrNlhpeVNX1VfVgVZ2qqtu2eLyq6vWTx++tqhdN7r+iqn65qh6oqvur6vuWWSerZcV3lmneQMEJLPMQXAOMj7Ef+mFp4UVVHUjyhiQ3JLkmyauq6ppNm92Q5OrJx81J3ji5//Ekf7O19nVJjiV53Rb77pv2LRg2nQ8wHIJrFmWrsX+7vwfL6LqD3ZgyCMuxzM6L65Kcaq091Fo7n+TOJDdu2ubGJG9tG96X5JKqurS19mhr7QNJ0lo7m+SBJJctsVagI33qfOhTLQAAQye4ZpGWGV5cluThqdun89QAYtdtquqrknxjkvcvvkQAxkbXHXSvT2Fxn2pheYz9MHzLDC9qi/vaPNtU1ZcmeVuS72+tfWbLg1TdXFX3VNU9n//cmT0Xu5M6emwpzztEFs5ZP/s5aTNtAwAAWIVlhhenk1wxdfvyJI/Muk1VPT0bwcVPtNbevt1BWmt3tNauba1d+/QvObyQwoF+OXPoYNclzEygwzoSXDPNOAdAF5YZXtyd5OqqurKqLk5yU5ITm7Y5keTVk6uOHEtyprX2aFVVkh9L8kBr7UeWWCMMmhNIxmaVK77rumOdDWGqxJCCa5bL1T66scrg+tArrlrZsRiui5b1xK21x6vq1iR3JTmQ5M2ttfur6pbJ47cnOZnk5UlOJflsktdOdn9xku9O8uGq+uDkvv++tXZyWfWOiYVzAOgrJ7C7E1wDMEZLCy+SZBI2nNx03+1Tn7ckr9tiv1/N1uthwNoZwrtfi+BydVxg0bRuCK6BLg1l7Nd1B/21zGkjAABsYSzBNdAtwTXrZDThxfEjB7ougTWkdRdgfIz9sxtL152fCYDlG014sS6GtuL7K59/vusSduXdL5idRdNYF8Z+mJ2xH+gD4QVAT3gxtXjr0nU3tOB62bzLDQDjI7xg0JzAwvyGsmgaAOyF4BrWk/CiAxbOeTLvNvffmUMHuy4BBs/Y/2TGflgtwTVD501LhBcAADyF4Ho1BHmMiZ939kN4wb5IQGG1LJpGHxj7AWazTl13xn66JrxAAgoA0GOCawDhxdz6tnCOBJRZHT57rusSmDDveHj6NvYvwjKD6yFcJhtgjLxpyZAJLwDopTp6rOsSektwzawE1/0huGa/+j72C65ZNuFFD0hAgUXp+4kNAAzFOnbdwZCNMrxY5MI5XijAuJh3zKIIroFFWafz0XXvujP2w96NMrwAYHwE18BeCa4Buie8iASU/jtz6GDXJQAADI7gGtaH8AIYHYumrc7xIwe6LmFbgmv6TnC9WMZ+EmM/DJnwAgAARsqLeWAohBcA9N7mFd+17gKMj7Efxk14ASty+Oy5rktYCxZNWx/e7WMMjP2LYewflkVNGXSpUmCa8IJtHXrFVV2XAKzQPGGCd78A2AvBNbBXwgtg5SyaNk6LXPEdGB5j/zgZ+4FFEV4AjJR3vwCYx3Zdd7rxgFUQXgAAwEj0LbjuWz1AfwkvAAZoFe9y1dFjSz8GAADMQngBMzhz6GDXJfSGFd+BsTD2f5Gxvx9WPT3D1T6APhFeAHRkSK2yTmABFqPvY7+uO6CvhBcwQlZ8Z1ks2jZ8LpO9voz9AAyZ8AJgD7xIBxgfYz9Ad4QXjMbhs+e6LgE61d7/vq5LAOhc36dtLJqxn1noumMIhBcwMBZNW5wxnMAeP3Kg6xKgU4JrAFgPwgtgkLTuAmMiuN5g7Gcrfi5gHIQX0AGLpgEAy6LrDlhHwos198rnn++6hIU4c+hg1yWwBGOYtrEoY7hUqZ8H1p3geoPfdQD2QngBAAA9NIbgGmBWwguYk3nHG8wvnZ8V32E+uu76x9gPQFeEFzBiWncBAOgTwTXbEV6wMn26XJ15xwxBHT3WdQkM1Lqsd9Qn69R1J7heLV13AIshvICB0roLAACMhfACYAYWTYO90XW3WILr9afrjnXQp7Gf9bG24YU/7gyB1l1YLGM/AMB6WtvwgvW1TvOOARgfwfVw6LoD6A/hBTOx6u9TeYd3eCyaBsMluAaWYZ3CRIs1s+6EFwBLdPzIga5LABZIcA2wOoJrpgkv6ERfFk1bp7QdoO+M/XRB1x3AehBeAEC8oN2KKYOwN7ruGDJjP7upqi+vqndX1Ucm/37ZFtt8TVV9cOrjM1X1/ZPH/n5VfXzqsZfPclzhBYOldRdgfIz9AMPSl647Fuq2JO9prV2d5D2T20/SWnuwtfbC1toLk3xTks8mecfUJv/0wuOttZOzHFR4sYV1ffdtUddbNveMLljxHbq1yLF/Xf/OAsBI3JjkLZPP35LkL+2y/UuSfLS19p/2c1DhBZ1yAgsAbEdwDSS67nroea21R5Nk8u9zd9n+piQ/tem+W6vq3qp681bTTrZy0fx1AgBDsaiuOwDGR9fdan3ubK3y+/Scqrpn6vYdrbU7Ltyoql9K8pVb7Pd35jlIVV2c5BVJfmjq7jcm+UdJ2uTf/zXJf7vbcwkveuzQK65a2nMvYu6ZBJR5DW3F9zp6rOsSYKGM/QCL98g7vyRHrv9c12U8ieCaGXyytXbtdg+21l663WNV9YmqurS19mhVXZrksR2Oc0OSD7TWPjH13E98XlVvSvLzsxRs2ggALIgX9vBUQwuuYd0IrlmCE0leM/n8NUl+bodtX5VNU0YmgccF357kvlkOutTwoqqur6oHq+pUVT1lBdLa8PrJ4/dW1YumHntzVT1WVTN9IetuWZcs0r4FMD7GfgBgH344ycuq6iNJXja5nao6UlVPXDmkqp45efztm/b/J1X14aq6N8m3JPmBWQ66tGkjVXUgyRuyUezpJHdX1YnW2m9ObXZDkqsnH0ezMffl6OSxH0/yL5K8dVk1DpWrfQCMj7EfVsOUQdaV4JpFaa19KhtXENl8/yNJXj51+7NJvmKL7b57L8ddZufFdUlOtdYeaq2dT3JnNi6pMu3GJG9tG96X5JILLSSttfcm+f0l1jd42rcA1s/0ekfL6roDABiaZYYXlyV5eOr26cl9824zSLsFCxfmnklAGQqXq4PlmvXvgeCaVTL2w+pNB9cXuu6M/bDc8KK2uK/tYZudD1J1c1XdU1X3fP5zZ+bZFRiB40cOdF0CPGERi6YBMEzetIT9WWZ4cTrJFVO3L0/yyB622VFr7Y7W2rWttWuf/iWH91ToXs2bgLpkEQCJE1iAMRFcw2IsM7y4O8nVVXVlVV2c5KZsXFJl2okkr55cdeRYkjOttUeXWBOMmsvVweoJrunaGMd+XXcs2rKmbQizYXZLCy9aa48nuTXJXUkeSPLTrbX7q+qWqrplstnJJA8lOZXkTUm+58L+VfVTSf5jkq+pqtNV9d8to869DBhWfAcYH/OOAZjVvMH19GLNwNaWdqnUJGmtncxGQDF93+1Tn7ckr9tm31ctszYAxss7XQDj401LGLZlThvpNXPPAAAAYBhGG17Ma/qSRfN45fPPL7gSxsrl6mDDfqZtCK4ZGmM/7J+xH9aD8ALorTp6rOsSGLm9BtcALJb1hgDhBQArt+5rTui6AxguwTX0k/ACVmiMl6uDRbFoGoyDrrv1ZcFMYD9GFV7Me8kiAJ5qaK27xn66JrgGgP0bVXgBwIZ1n7YBwGINLbgG1o/wAoCVseI7QHe6Cq7HMvZb7wiWS3jRQ94R7SeXq9ub40cOdF3C2vHuFwDszJRBWD/CCwCAbQiuAaAfhBcAHRhih1UXK767XN18dOXQF7ruFq+r329X+wD6QnjBqFjxHQDoyhCDa4C+EF4AjMhYFk2DaYJrABg+4QXAnLTmA4zPkMf+oQXXpgwCWxFe7ODQK67qugQAABbEtA2A4RJeMBhWfF+9Onqs6xKWZognsENdNM3l6gAA2C/hBQBM0XUH9MlQg2vYD29ashXhBTA45h3DeDiBXb2+dt0NeewfI113wKIJL1gpK74DAAAwL+EF0IkhrjkBwP6MdezXdccy6UpiLIQXsOaOHznQdQlrY4zzjl2ujkXQdQcwPsZ+Fk14AcxNwg8wPsZ+1pnFmqH/hBfMzKJp62WsrbsAY6DrbnF03QH0w9qHF698/vmuSwB6xLxjYMwE1wAM1dqHFwDA3um6Yx0IrmE+xn76SHgxMhbOWQ/mHTOPw2fPdV0CACtm7AfWjfACOqJ1F5bHlEHWkeAagDETXkCP1dFjXZfQK2NcNA0WQdddfwiu52fsByARXgAAAKwdwTXrRngBe6B1F4Bl0XUHAE8lvBiQeVb99eKavrLi+3zOHDrYdQnAhL+te2fsn4+xf2+sdwTrTXjBaJl3DAyBy9UBAAgvAIAREVwDwDAJLxikIbXuHj9yoOsSFsaK77A3Fk1jyIz9sHq67uCphBcr5gQWxufw2XNdlwBrYUjBNQCwWMILOqN1F6A/VjUmj2XsX6euO/ZGcM0QDGFMFlxzgfACRsaK7wDjY+yH1dNxDYslvAAAAGBphtDhQf8JL+Zg4Zwv0r4FjIWx/4uM/QBAV4QXMCBWfF+9M4cOdl0CMHLGfqBLgmv6QngxYtq3dldHj3VdAozOoVdc1XUJa83YD7A7XXfQP6MLLyycQ9csmgarZ+xnHoJrdN2xbgTXrIPRhRcAAKsmuAaA/RFeDJS5ZzC7w2fPdV0CLISxH1hXy5gyqOsO1ovwokPatwAAgJ0IrmGD8ALmYMV3YL8E17Aauu7oE2M/7J/wgqdYt8H1+JEDXZcA7IMV3+ma4BoAuie82CPtW8Nl0TSA9Se4hmETXAObjTq8WLcOA1hHLldHnwiuh0twDeyVsR/6YdThBQDL8crnn++6BAB4gjctYfiEFwyKeccwTH26XJ0TWOg/XXfroU9jPzB8wgsAAGDfdN0By7TU8KKqrq+qB6vqVFXdtsXjVVWvnzx+b1W9aNZ9GYc6eqzrEoAeMe94nHTdwbgZ+6Ffquo7q+r+qvpCVV27w3Zbvqavqi+vqndX1Ucm/37ZLMddWnhRVQeSvCHJDUmuSfKqqrpm02Y3JLl68nFzkjfOsS8DZdG08Tl89lzXJQAAMCCC6167L8lfTvLe7TbY5TX9bUne01q7Osl7Jrd3tczOi+uSnGqtPdRaO5/kziQ3btrmxiRvbRvel+SSqrp0xn0BWIFFX67OmhMwDoLrYTP2A9tprT3QWntwl812ek1/Y5K3TD5/S5K/NMtxlxleXJbk4anbpyf3zbLNLPsCAAMxT9edKYMA60HH9ajt9Jr+ea21R5Nk8u9zZ3nCaq0ttMInnrjqO5P831trf21y+7uTXNda+96pbX4hyf/UWvvVye33JPnBJF+9275Tz3FzNqacJMnXZ6OFBYbsOUk+2XURsAB+llkXfpZZF36WGbo/1Vr7E10XsSxV9c5s/J6uwjOS/NHU7Ttaa3dM1fJLSb5yi/3+Tmvt5ybb/EqSv9Vau2fzRjvlAVX16dbaJVPb/pfW2q7rXlw005e1N6eTXDF1+/Ikj8y4zcUz7JskmXyD70iSqrqntbbtgiEwBH6OWRd+llkXfpZZF36Wod9aa9d3XcMFrbWX7vMpdsoDPlFVl7bWHp0sG/HYLE+4zGkjdye5uqqurKqLk9yU5MSmbU4kefXkqiPHkpyZtI3Msi8AAADQPzu9pj+R5DWTz1+T5OdmecKlhRettceT3JrkriQPJPnp1tr9VXVLVd0y2exkkoeSnErypiTfs9O+y6oVAAAA2F1VfXtVnU7yp5P8QlXdNbn/SFWdTHZ9Tf/DSV5WVR9J8rLJ7d2Pu6w1L7pQVTdPz9OBIfJzzLrws8y68LPMuvCzDAzZWoUXAAAAwPpZ5poXAAAAAPu2FuFFVV1fVQ9W1amquq3remAvquqKqvrlqnqgqu6vqu/ruibYq6o6UFW/UVU/33UtsFdVdUlV/WxV/dZkbP7TXdcEe1FVPzA5t7ivqn6qqp7RdU0A8xp8eFFVB5K8IckNSa5J8qqquqbbqmBPHk/yN1trX5fkWJLX+VlmwL4vG4szwZD9syTvbK19bZIXxM80A1RVlyX560muba19fZID2Vj1H2BQBh9eJLkuyanW2kOttfNJ7kxyY8c1wdxaa4+21j4w+fxsNk6SL+u2KphfVV2e5L9O8qNd1wJ7VVXPTnI8yY8lSWvtfGvt050WBXt3UZIvqaqLkjwzySMd1wMwt3UILy5L8vDU7dPxgo+Bq6qvSvKNSd7fcSmwF/9bkh9M8oWO64D9+Ookv5fkf59MgfrRqnpW10XBvFprH0/yvyT53SSPJjnTWntXt1UBzG8dwova4j6XUGGwqupLk7wtyfe31j7TdT0wj6r61iSPtdZ+vetaYJ8uSvKiJG9srX1jkj9MYl0tBqeqviwbXclXJjmS5FlV9Ve7rQpgfusQXpxOcsXU7cujFY6BqqqnZyO4+InW2tu7rgf24MVJXlFVv5ONaXx/oar+z25Lgj05neR0a+1CB9zPZiPMgKF5aZKPtdZ+r7X2+SRvT/JnOq4JYG7rEF7cneTqqrqyqi7OxgJEJzquCeZWVZWNudUPtNZ+pOt6YC9aaz/UWru8tfZV2RiP/3+tNe/wMTittf+c5OGq+prJXS9J8psdlgR79btJjlXVMyfnGi+JxWeBAbqo6wL2q7X2eFXdmuSubKye/ObW2v0dlwV78eIk353kw1X1wcl9/31r7WR3JQGM2vcm+YnJmyMPJXltx/XA3Fpr76+qn03ygWxc2ew3ktzRbVUA86vWLA8BAAAA9Nc6TBsBAAAA1pjwAgAAAOg14QUAAADQa8ILAAAAoNeEFwAAAECvCS8AoENVdUlVfc/k8yOTSxou6rkvrap3Ler5AAC6IrwAgG5dkuR7kqS19khr7TsW+NzXJ7lrgc8HANAJ4QUAdOuHk1xVVR+sqp+pqvuSpKr+m6r611X1b6rqY1V1a1X9jar6jap6X1V9+WS7q6rqnVX161X176rqa6ee+/okvzjpwHjv5Bj3VdWf6+DrBADYM+EFAHTrtiQfba29MMnf3vTY1yf5K0muS/KPk3y2tfaNSf5jkldPtrkjyfe21r4pyd9K8i+TpKoOJPma1tpvTp7jrskxXpDkg0v8egAAFu6irgsAALb1y621s0nOVtWZJP9mcv+Hk3xDVX1pkj+T5Geq6sI+Byf/Hk3y/snndyd5c1U9Pcm/bq19cBXFAwAsis4LAOivc1Off2Hq9hey8QbE05J8urX2wqmPr5tsc0OSdyZJa+29SY4n+XiS/6OqXh0AgAERXgBAt84mObSXHVtrn0nysar6ziSpDS+YPPySJO+Z3P+nkjzWWntTkh9L8qJ9Vw0AsEKmjQBAh1prn6qqfz9ZqPOBPTzFdyV5Y1X9D0menuTOqnokyR9Nwo0k+eYkf7uqPp/kD/LF9TIAAAahWmtd1wAALFBV/dUkl7fWfrjrWgAAFkF4AQAAAPSaNS8AAACAXhNeAAAAAL0mvAAAAAB6TXgBAAAA9JrwAgAAAOg14QUAAADQa8ILAAAAoNf+/wH1jt49bm9eAAAAAElFTkSuQmCC\n",
          "text/plain": "<Figure size 1440x720 with 2 Axes>"
         },
         "metadata": {
          "needs_background": "light"
         },
         "output_type": "display_data"
        }
       ]
      }
     },
     "9e977b912d334cb1adade6d7cb6f6396": {
      "model_module": "@jupyter-widgets/controls",
      "model_module_version": "1.5.0",
      "model_name": "SliderStyleModel",
      "state": {
       "description_width": ""
      }
     },
     "a0a4c63fc40d4c2ea54bc507d453401d": {
      "model_module": "@jupyter-widgets/controls",
      "model_module_version": "1.5.0",
      "model_name": "FloatSliderModel",
      "state": {
       "description": "conductivity",
       "layout": "IPY_MODEL_82c0546b3a394cd0a32694379d82a661",
       "max": 100000000,
       "min": 10000000,
       "step": 1000000,
       "style": "IPY_MODEL_f5202174a8b84c28963c9ed4cb1146a5",
       "value": 60000000
      }
     },
     "a17f184f813b41b3afda818064624a67": {
      "model_module": "@jupyter-widgets/base",
      "model_module_version": "1.2.0",
      "model_name": "LayoutModel",
      "state": {}
     },
     "a3b214ec103c4a9bbec00b55fa1243ef": {
      "model_module": "@jupyter-widgets/controls",
      "model_module_version": "1.5.0",
      "model_name": "VBoxModel",
      "state": {
       "_dom_classes": [
        "widget-interact"
       ],
       "children": [
        "IPY_MODEL_fd1fa22c0bf840f3b6803ebcbd28ff77",
        "IPY_MODEL_28f5495dcbf3429aa20aa581ea26f423",
        "IPY_MODEL_9dc9543e03d34455b064d6906c0e67f7"
       ],
       "layout": "IPY_MODEL_6bedb3e7ea3846aeaaece986cd0a70dc"
      }
     },
     "a41da9f2e5db4df58123740c7cf3dbb2": {
      "model_module": "@jupyter-widgets/controls",
      "model_module_version": "1.5.0",
      "model_name": "FloatSliderModel",
      "state": {
       "description": "frequency",
       "layout": "IPY_MODEL_65d14b61eb5a44d2b0e28174fdd47bc3",
       "max": 49,
       "step": 0.1,
       "style": "IPY_MODEL_2deb43d2e9074e398becb62137e9108c",
       "value": 2.7
      }
     },
     "a44985c7547b4be6937781619d3ac3aa": {
      "model_module": "@jupyter-widgets/controls",
      "model_module_version": "1.5.0",
      "model_name": "FloatSliderModel",
      "state": {
       "description": "frequency",
       "layout": "IPY_MODEL_5c9b5ec8769449848936c5b800803f46",
       "max": 49,
       "step": 0.1,
       "style": "IPY_MODEL_8abec9d9b4ac4b1b8384692183840a09"
      }
     },
     "b1785ed6cbe341daa1349844ce7070b3": {
      "model_module": "@jupyter-widgets/base",
      "model_module_version": "1.2.0",
      "model_name": "LayoutModel",
      "state": {}
     },
     "b2c598baf18c4d439c7f53058225b152": {
      "model_module": "@jupyter-widgets/controls",
      "model_module_version": "1.5.0",
      "model_name": "SliderStyleModel",
      "state": {
       "description_width": ""
      }
     },
     "b6ff0d34fbca4f54ae9b2964c7b7696b": {
      "model_module": "@jupyter-widgets/base",
      "model_module_version": "1.2.0",
      "model_name": "LayoutModel",
      "state": {}
     },
     "ba95329cc52243009b53483006a31be8": {
      "model_module": "@jupyter-widgets/base",
      "model_module_version": "1.2.0",
      "model_name": "LayoutModel",
      "state": {}
     },
     "bda5ab0214794aa9928e60fa0f4a18c0": {
      "model_module": "@jupyter-widgets/base",
      "model_module_version": "1.2.0",
      "model_name": "LayoutModel",
      "state": {}
     },
     "c6ea451893b3463b9d2134b2157f73a4": {
      "model_module": "@jupyter-widgets/base",
      "model_module_version": "1.2.0",
      "model_name": "LayoutModel",
      "state": {}
     },
     "cea39c1aae854257892b0fe9ef5c641a": {
      "model_module": "@jupyter-widgets/base",
      "model_module_version": "1.2.0",
      "model_name": "LayoutModel",
      "state": {}
     },
     "d04c6dc838c54a7d9c44f03252375027": {
      "model_module": "@jupyter-widgets/controls",
      "model_module_version": "1.5.0",
      "model_name": "SliderStyleModel",
      "state": {
       "description_width": ""
      }
     },
     "d06e7720b6334beda33d9d02eac0d6cf": {
      "model_module": "@jupyter-widgets/base",
      "model_module_version": "1.2.0",
      "model_name": "LayoutModel",
      "state": {}
     },
     "dc1ff3b5c0274e93896ccc9a566fa965": {
      "model_module": "@jupyter-widgets/controls",
      "model_module_version": "1.5.0",
      "model_name": "SliderStyleModel",
      "state": {
       "description_width": ""
      }
     },
     "df73e90d62a744cfba714fb12d24a35a": {
      "model_module": "@jupyter-widgets/controls",
      "model_module_version": "1.5.0",
      "model_name": "VBoxModel",
      "state": {
       "_dom_classes": [
        "widget-interact"
       ],
       "children": [
        "IPY_MODEL_70c6c094a4cd4f03a9cdf22f652eaa8f",
        "IPY_MODEL_00adce39903945f7b847916c51810b7d",
        "IPY_MODEL_a0a4c63fc40d4c2ea54bc507d453401d",
        "IPY_MODEL_1471075e791341359807cd53c73fcc91"
       ],
       "layout": "IPY_MODEL_c6ea451893b3463b9d2134b2157f73a4"
      }
     },
     "df85ca4306a1448990b2ebebd320f834": {
      "model_module": "@jupyter-widgets/controls",
      "model_module_version": "1.5.0",
      "model_name": "SliderStyleModel",
      "state": {
       "description_width": ""
      }
     },
     "df93a5f7efa943b8b148ffd3755933d7": {
      "model_module": "@jupyter-widgets/base",
      "model_module_version": "1.2.0",
      "model_name": "LayoutModel",
      "state": {}
     },
     "e419654b29314e2c931365927c3135ee": {
      "model_module": "@jupyter-widgets/base",
      "model_module_version": "1.2.0",
      "model_name": "LayoutModel",
      "state": {}
     },
     "e61308cfd4ad419890f3b7c6f4821d47": {
      "model_module": "@jupyter-widgets/output",
      "model_module_version": "1.0.0",
      "model_name": "OutputModel",
      "state": {
       "layout": "IPY_MODEL_93eec5f993ec4d5ea50b2853be76446c",
       "outputs": [
        {
         "data": {
          "image/png": "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\n",
          "text/plain": "<Figure size 1440x720 with 2 Axes>"
         },
         "metadata": {
          "needs_background": "light"
         },
         "output_type": "display_data"
        }
       ]
      }
     },
     "e87e86853aae4630904a6b1a5ac19ade": {
      "model_module": "@jupyter-widgets/base",
      "model_module_version": "1.2.0",
      "model_name": "LayoutModel",
      "state": {}
     },
     "ec341f3f99204a58b303443dcd6636fa": {
      "model_module": "@jupyter-widgets/controls",
      "model_module_version": "1.5.0",
      "model_name": "SliderStyleModel",
      "state": {
       "description_width": ""
      }
     },
     "ed7a0822bf0547a898f6274be281c39f": {
      "model_module": "@jupyter-widgets/base",
      "model_module_version": "1.2.0",
      "model_name": "LayoutModel",
      "state": {}
     },
     "ee6de84a5158412eae8fb4e32703c684": {
      "model_module": "@jupyter-widgets/base",
      "model_module_version": "1.2.0",
      "model_name": "LayoutModel",
      "state": {}
     },
     "eef7b36a44344f209dfe817ea4cf6f9d": {
      "model_module": "@jupyter-widgets/controls",
      "model_module_version": "1.5.0",
      "model_name": "FloatSliderModel",
      "state": {
       "description": "conductivity",
       "layout": "IPY_MODEL_e87e86853aae4630904a6b1a5ac19ade",
       "max": 100000000,
       "min": 10000000,
       "step": 1000000,
       "style": "IPY_MODEL_d04c6dc838c54a7d9c44f03252375027",
       "value": 10000000
      }
     },
     "efb0c2394c1e4776804783f7ecc523b8": {
      "model_module": "@jupyter-widgets/base",
      "model_module_version": "1.2.0",
      "model_name": "LayoutModel",
      "state": {}
     },
     "f13e5092ca7f4b5ea58ae41286db2f56": {
      "model_module": "@jupyter-widgets/controls",
      "model_module_version": "1.5.0",
      "model_name": "FloatSliderModel",
      "state": {
       "description": "frequency",
       "layout": "IPY_MODEL_df93a5f7efa943b8b148ffd3755933d7",
       "max": 49,
       "step": 0.1,
       "style": "IPY_MODEL_1992c8a04c934b9abd773a3990e51a3f",
       "value": 3.7
      }
     },
     "f243cb5acbd34069bd4e8e11c6f5e603": {
      "model_module": "@jupyter-widgets/controls",
      "model_module_version": "1.5.0",
      "model_name": "SliderStyleModel",
      "state": {
       "description_width": ""
      }
     },
     "f458fd880a4646db92266117498ff5b0": {
      "model_module": "@jupyter-widgets/base",
      "model_module_version": "1.2.0",
      "model_name": "LayoutModel",
      "state": {}
     },
     "f5202174a8b84c28963c9ed4cb1146a5": {
      "model_module": "@jupyter-widgets/controls",
      "model_module_version": "1.5.0",
      "model_name": "SliderStyleModel",
      "state": {
       "description_width": ""
      }
     },
     "fb99cb50e9bd4efca101529f0bf1c0d1": {
      "model_module": "@jupyter-widgets/controls",
      "model_module_version": "1.5.0",
      "model_name": "SliderStyleModel",
      "state": {
       "description_width": ""
      }
     },
     "fd1fa22c0bf840f3b6803ebcbd28ff77": {
      "model_module": "@jupyter-widgets/controls",
      "model_module_version": "1.5.0",
      "model_name": "FloatSliderModel",
      "state": {
       "description": "frequency",
       "layout": "IPY_MODEL_8fd02d06bf5d4c209f7b744519f6dac1",
       "max": 10,
       "step": 0.1,
       "style": "IPY_MODEL_3b9110e6b34a490081033a539c0adabc",
       "value": 2.8
      }
     },
     "fe4715e100e54db993098dd88ac1a16e": {
      "model_module": "@jupyter-widgets/base",
      "model_module_version": "1.2.0",
      "model_name": "LayoutModel",
      "state": {}
     },
     "fed413bf867147219fea771c0867a464": {
      "model_module": "@jupyter-widgets/base",
      "model_module_version": "1.2.0",
      "model_name": "LayoutModel",
      "state": {}
     }
    },
    "version_major": 2,
    "version_minor": 0
   }
  }
 },
 "nbformat": 4,
 "nbformat_minor": 4
}
