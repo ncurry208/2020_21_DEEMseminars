{
 "cells": [
  {
   "cell_type": "code",
   "execution_count": 1,
   "metadata": {},
   "outputs": [],
   "source": [
    "%matplotlib inline\n",
    "from matplotlib import pyplot\n",
    "import numpy as np\n",
    "import ipywidgets\n",
    "\n",
    "from scipy.special import iv as bessel # renamed Modified Bessel function of the first kind of real order. for clarity"
   ]
  },
  {
   "cell_type": "code",
   "execution_count": 30,
   "metadata": {},
   "outputs": [],
   "source": [
    "def plotJc(t=0, delta=1, frequency = 1):\n",
    "    r'''\n",
    "    plots the current density at different depths into wire based on the bessel function (i.e. not the approximation you saw in the seminar)\n",
    "    t =  time point in terms of tau = 2pi/omega\n",
    "    delta = skin depth in terms of radius of the wire\n",
    "    '''\n",
    "    a = 1 # radius of the wire\n",
    "    r = np.arange(0,1,0.001) # distance from centre of the wire\n",
    "    x = a - r\n",
    "    \n",
    "    phasefactor = np.exp(- 1j * t) # am I correct to add a minus sign here?\n",
    "    j0 = bessel(0, (1 + 1j) * (a - 0)/ delta) # here j0 = jc(x = 0) as in the worksheet)\n",
    "    Jc_norm = bessel(0, (1 + 1j) * (a - x) / delta) * phasefactor / j0 # it is more common to calculate Jc in terms of r, except when making the approximation in this worksheet for clarity have written this expression in terms of x\n",
    "    Jc_norm = np.real(Jc_norm)\n",
    "    fig = pyplot.plot(x, Jc_norm)\n",
    "    pyplot.ylim(-1.1,1.1)\n",
    "    pyplot.xlim(0,1)\n",
    "    pyplot.xlabel('$a/\\delta$')\n",
    "    pyplot.ylabel('$J_C(r)/J_0$')    \n",
    "    "
   ]
  },
  {
   "cell_type": "code",
   "execution_count": 31,
   "metadata": {},
   "outputs": [
    {
     "data": {
      "application/vnd.jupyter.widget-view+json": {
       "model_id": "f70180b4751f4917b65bb2f7609c8cf3",
       "version_major": 2,
       "version_minor": 0
      },
      "text/plain": [
       "interactive(children=(FloatSlider(value=0.1, description='t', max=4.0, min=0.1), FloatSlider(value=0.01, descr…"
      ]
     },
     "metadata": {},
     "output_type": "display_data"
    }
   ],
   "source": [
    "ipywidgets.interact(\n",
    "    lambda t, delta: plotJc(t = t, delta = delta),\n",
    "    t=ipywidgets.FloatSlider(min=0, max=4, step=0.1, value=0), # in terms of tau = 2pi/omega\n",
    "    delta= ipywidgets.FloatSlider(min=0.01, max=10, step=0.01, value=0.01), # in terms of a (maximum radius of the wire)\n",
    ");"
   ]
  },
  {
   "cell_type": "code",
   "execution_count": 7,
   "metadata": {},
   "outputs": [
    {
     "data": {
      "text/plain": [
       "0.01"
      ]
     },
     "execution_count": 7,
     "metadata": {},
     "output_type": "execute_result"
    }
   ],
   "source": [
    "delta"
   ]
  },
  {
   "cell_type": "code",
   "execution_count": null,
   "metadata": {},
   "outputs": [],
   "source": []
  }
 ],
 "metadata": {
  "kernelspec": {
   "display_name": "Python 3",
   "language": "python",
   "name": "python3"
  },
  "language_info": {
   "codemirror_mode": {
    "name": "ipython",
    "version": 3
   },
   "file_extension": ".py",
   "mimetype": "text/x-python",
   "name": "python",
   "nbconvert_exporter": "python",
   "pygments_lexer": "ipython3",
   "version": "3.7.4"
  },
  "widgets": {
   "application/vnd.jupyter.widget-state+json": {
    "state": {
     "007db1f44f894f2fa6b59cbd2489facb": {
      "model_module": "@jupyter-widgets/output",
      "model_module_version": "1.0.0",
      "model_name": "OutputModel",
      "state": {
       "layout": "IPY_MODEL_6e8596a379a441bfaf032d7fa9faacde",
       "outputs": [
        {
         "data": {
          "image/png": "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\n",
          "text/plain": "<Figure size 432x288 with 1 Axes>"
         },
         "metadata": {
          "needs_background": "light"
         },
         "output_type": "display_data"
        }
       ]
      }
     },
     "020242f2d0144d91b9c04da55ea05519": {
      "model_module": "@jupyter-widgets/controls",
      "model_module_version": "1.5.0",
      "model_name": "SliderStyleModel",
      "state": {
       "description_width": ""
      }
     },
     "023ac594fd62450892795afbbeff3256": {
      "model_module": "@jupyter-widgets/output",
      "model_module_version": "1.0.0",
      "model_name": "OutputModel",
      "state": {
       "layout": "IPY_MODEL_0bb01a94f7864795a9b1b6194a18df14",
       "outputs": [
        {
         "ename": "ZeroDivisionError",
         "evalue": "complex division by zero",
         "output_type": "error",
         "traceback": [
          "\u001b[1;31m---------------------------------------------------------------------------\u001b[0m",
          "\u001b[1;31mZeroDivisionError\u001b[0m                         Traceback (most recent call last)",
          "\u001b[1;32m~\\AppData\\Local\\Continuum\\anaconda3\\lib\\site-packages\\ipywidgets\\widgets\\interaction.py\u001b[0m in \u001b[0;36mupdate\u001b[1;34m(self, *args)\u001b[0m\n\u001b[0;32m    254\u001b[0m                     \u001b[0mvalue\u001b[0m \u001b[1;33m=\u001b[0m \u001b[0mwidget\u001b[0m\u001b[1;33m.\u001b[0m\u001b[0mget_interact_value\u001b[0m\u001b[1;33m(\u001b[0m\u001b[1;33m)\u001b[0m\u001b[1;33m\u001b[0m\u001b[1;33m\u001b[0m\u001b[0m\n\u001b[0;32m    255\u001b[0m                     \u001b[0mself\u001b[0m\u001b[1;33m.\u001b[0m\u001b[0mkwargs\u001b[0m\u001b[1;33m[\u001b[0m\u001b[0mwidget\u001b[0m\u001b[1;33m.\u001b[0m\u001b[0m_kwarg\u001b[0m\u001b[1;33m]\u001b[0m \u001b[1;33m=\u001b[0m \u001b[0mvalue\u001b[0m\u001b[1;33m\u001b[0m\u001b[1;33m\u001b[0m\u001b[0m\n\u001b[1;32m--> 256\u001b[1;33m                 \u001b[0mself\u001b[0m\u001b[1;33m.\u001b[0m\u001b[0mresult\u001b[0m \u001b[1;33m=\u001b[0m \u001b[0mself\u001b[0m\u001b[1;33m.\u001b[0m\u001b[0mf\u001b[0m\u001b[1;33m(\u001b[0m\u001b[1;33m**\u001b[0m\u001b[0mself\u001b[0m\u001b[1;33m.\u001b[0m\u001b[0mkwargs\u001b[0m\u001b[1;33m)\u001b[0m\u001b[1;33m\u001b[0m\u001b[1;33m\u001b[0m\u001b[0m\n\u001b[0m\u001b[0;32m    257\u001b[0m                 \u001b[0mshow_inline_matplotlib_plots\u001b[0m\u001b[1;33m(\u001b[0m\u001b[1;33m)\u001b[0m\u001b[1;33m\u001b[0m\u001b[1;33m\u001b[0m\u001b[0m\n\u001b[0;32m    258\u001b[0m                 \u001b[1;32mif\u001b[0m \u001b[0mself\u001b[0m\u001b[1;33m.\u001b[0m\u001b[0mauto_display\u001b[0m \u001b[1;32mand\u001b[0m \u001b[0mself\u001b[0m\u001b[1;33m.\u001b[0m\u001b[0mresult\u001b[0m \u001b[1;32mis\u001b[0m \u001b[1;32mnot\u001b[0m \u001b[1;32mNone\u001b[0m\u001b[1;33m:\u001b[0m\u001b[1;33m\u001b[0m\u001b[1;33m\u001b[0m\u001b[0m\n",
          "\u001b[1;32m<ipython-input-6-990040931d9c>\u001b[0m in \u001b[0;36m<lambda>\u001b[1;34m(t, delta)\u001b[0m\n\u001b[0;32m      1\u001b[0m ipywidgets.interact(\n\u001b[1;32m----> 2\u001b[1;33m     \u001b[1;32mlambda\u001b[0m \u001b[0mt\u001b[0m\u001b[1;33m,\u001b[0m \u001b[0mdelta\u001b[0m\u001b[1;33m:\u001b[0m \u001b[0mplotJc\u001b[0m\u001b[1;33m(\u001b[0m\u001b[0mt\u001b[0m \u001b[1;33m=\u001b[0m \u001b[0mt\u001b[0m\u001b[1;33m,\u001b[0m \u001b[0mdelta\u001b[0m \u001b[1;33m=\u001b[0m \u001b[0mdelta\u001b[0m\u001b[1;33m)\u001b[0m\u001b[1;33m,\u001b[0m\u001b[1;33m\u001b[0m\u001b[1;33m\u001b[0m\u001b[0m\n\u001b[0m\u001b[0;32m      3\u001b[0m     \u001b[0mt\u001b[0m\u001b[1;33m=\u001b[0m\u001b[0mipywidgets\u001b[0m\u001b[1;33m.\u001b[0m\u001b[0mIntSlider\u001b[0m\u001b[1;33m(\u001b[0m\u001b[0mmin\u001b[0m\u001b[1;33m=\u001b[0m\u001b[1;36m0\u001b[0m\u001b[1;33m,\u001b[0m \u001b[0mmax\u001b[0m\u001b[1;33m=\u001b[0m\u001b[1;36m4\u001b[0m\u001b[1;33m,\u001b[0m \u001b[0mstep\u001b[0m\u001b[1;33m=\u001b[0m\u001b[1;36m0.01\u001b[0m\u001b[1;33m,\u001b[0m \u001b[0mvalue\u001b[0m\u001b[1;33m=\u001b[0m\u001b[1;36m0\u001b[0m\u001b[1;33m)\u001b[0m\u001b[1;33m,\u001b[0m \u001b[1;31m# in terms of tau = 2pi/omega\u001b[0m\u001b[1;33m\u001b[0m\u001b[1;33m\u001b[0m\u001b[0m\n\u001b[0;32m      4\u001b[0m     \u001b[0mdelta\u001b[0m\u001b[1;33m=\u001b[0m \u001b[0mipywidgets\u001b[0m\u001b[1;33m.\u001b[0m\u001b[0mIntSlider\u001b[0m\u001b[1;33m(\u001b[0m\u001b[0mmin\u001b[0m\u001b[1;33m=\u001b[0m\u001b[1;36m0.01\u001b[0m\u001b[1;33m,\u001b[0m \u001b[0mmax\u001b[0m\u001b[1;33m=\u001b[0m\u001b[1;36m10\u001b[0m\u001b[1;33m,\u001b[0m \u001b[0mstep\u001b[0m\u001b[1;33m=\u001b[0m\u001b[1;36m0.1\u001b[0m\u001b[1;33m,\u001b[0m \u001b[0mvalue\u001b[0m\u001b[1;33m=\u001b[0m\u001b[1;36m0.01\u001b[0m\u001b[1;33m)\u001b[0m\u001b[1;33m,\u001b[0m \u001b[1;31m# in terms of a (maximum radius of the wire)\u001b[0m\u001b[1;33m\u001b[0m\u001b[1;33m\u001b[0m\u001b[0m\n\u001b[0;32m      5\u001b[0m );\n",
          "\u001b[1;32m<ipython-input-2-227cddc88f4b>\u001b[0m in \u001b[0;36mplotJc\u001b[1;34m(t, delta, frequency)\u001b[0m\n\u001b[0;32m     11\u001b[0m \u001b[1;33m\u001b[0m\u001b[0m\n\u001b[0;32m     12\u001b[0m     \u001b[0mphasefactor\u001b[0m \u001b[1;33m=\u001b[0m \u001b[0mnp\u001b[0m\u001b[1;33m.\u001b[0m\u001b[0mexp\u001b[0m\u001b[1;33m(\u001b[0m\u001b[1;33m-\u001b[0m \u001b[1;36m1j\u001b[0m \u001b[1;33m*\u001b[0m \u001b[0mt\u001b[0m\u001b[1;33m)\u001b[0m \u001b[1;31m# am I correct to add a minus sign here?\u001b[0m\u001b[1;33m\u001b[0m\u001b[1;33m\u001b[0m\u001b[0m\n\u001b[1;32m---> 13\u001b[1;33m     \u001b[0mj0\u001b[0m \u001b[1;33m=\u001b[0m \u001b[0mbessel\u001b[0m\u001b[1;33m(\u001b[0m\u001b[1;36m0\u001b[0m\u001b[1;33m,\u001b[0m \u001b[1;33m(\u001b[0m\u001b[1;36m1\u001b[0m \u001b[1;33m+\u001b[0m \u001b[1;36m1j\u001b[0m\u001b[1;33m)\u001b[0m \u001b[1;33m*\u001b[0m \u001b[1;36m1\u001b[0m\u001b[1;33m/\u001b[0m \u001b[0mdelta\u001b[0m\u001b[1;33m)\u001b[0m \u001b[1;31m# here j0 = jc(x = 0) as in the worksheet)\u001b[0m\u001b[1;33m\u001b[0m\u001b[1;33m\u001b[0m\u001b[0m\n\u001b[0m\u001b[0;32m     14\u001b[0m     \u001b[0mJc_norm\u001b[0m \u001b[1;33m=\u001b[0m \u001b[0mbessel\u001b[0m\u001b[1;33m(\u001b[0m\u001b[1;36m0\u001b[0m\u001b[1;33m,\u001b[0m \u001b[1;33m(\u001b[0m\u001b[1;36m1\u001b[0m \u001b[1;33m+\u001b[0m \u001b[1;36m1j\u001b[0m\u001b[1;33m)\u001b[0m \u001b[1;33m*\u001b[0m \u001b[1;33m(\u001b[0m\u001b[0ma\u001b[0m \u001b[1;33m-\u001b[0m \u001b[0mx\u001b[0m\u001b[1;33m)\u001b[0m \u001b[1;33m/\u001b[0m \u001b[0mdelta\u001b[0m\u001b[1;33m)\u001b[0m \u001b[1;33m*\u001b[0m \u001b[0mphasefactor\u001b[0m \u001b[1;33m/\u001b[0m \u001b[0mj0\u001b[0m \u001b[1;31m# it is more common to calculate Jc in terms of r, except when making the approximation in this worksheet for clarity have written this expression in terms of x\u001b[0m\u001b[1;33m\u001b[0m\u001b[1;33m\u001b[0m\u001b[0m\n\u001b[0;32m     15\u001b[0m     \u001b[0mJc_norm\u001b[0m \u001b[1;33m=\u001b[0m \u001b[0mnp\u001b[0m\u001b[1;33m.\u001b[0m\u001b[0mreal\u001b[0m\u001b[1;33m(\u001b[0m\u001b[0mJc_norm\u001b[0m\u001b[1;33m)\u001b[0m\u001b[1;33m\u001b[0m\u001b[1;33m\u001b[0m\u001b[0m\n",
          "\u001b[1;31mZeroDivisionError\u001b[0m: complex division by zero"
         ]
        }
       ]
      }
     },
     "02cc777dd707462a91eb078ae486795b": {
      "model_module": "@jupyter-widgets/base",
      "model_module_version": "1.2.0",
      "model_name": "LayoutModel",
      "state": {}
     },
     "032f6c580b154f6f8adb8b189f840552": {
      "model_module": "@jupyter-widgets/base",
      "model_module_version": "1.2.0",
      "model_name": "LayoutModel",
      "state": {}
     },
     "03a05028edf4416382bb31b1d0c82101": {
      "model_module": "@jupyter-widgets/base",
      "model_module_version": "1.2.0",
      "model_name": "LayoutModel",
      "state": {}
     },
     "0517e6d9f7814458abf2979d7930bb6b": {
      "model_module": "@jupyter-widgets/controls",
      "model_module_version": "1.5.0",
      "model_name": "VBoxModel",
      "state": {
       "_dom_classes": [
        "widget-interact"
       ],
       "children": [
        "IPY_MODEL_3092f2c154b24d859d0a468f29d878ac",
        "IPY_MODEL_bf12e65bfbb44a1a868a9805146b51c8",
        "IPY_MODEL_d335257779bf445e80e5c50ce07f5c05"
       ],
       "layout": "IPY_MODEL_c5574d7d4ecf4295b6a2fb0e2ebf3509"
      }
     },
     "06eb7cd554754433a8d4b2bc59ab973e": {
      "model_module": "@jupyter-widgets/controls",
      "model_module_version": "1.5.0",
      "model_name": "FloatSliderModel",
      "state": {
       "description": "delta",
       "layout": "IPY_MODEL_51a3722c56ea41e289fa4c1b675aab49",
       "max": 10,
       "min": 0.01,
       "step": 0.1,
       "style": "IPY_MODEL_3232e05f712f4e44859144020032a8ca",
       "value": 0.51
      }
     },
     "076ed5fa6ff948ee98b7544432fe2555": {
      "model_module": "@jupyter-widgets/controls",
      "model_module_version": "1.5.0",
      "model_name": "VBoxModel",
      "state": {
       "_dom_classes": [
        "widget-interact"
       ],
       "children": [
        "IPY_MODEL_84521d0759d746b3aed017bef43f390b",
        "IPY_MODEL_496d04376dab4fe5bfa2ff24fdcbbc16",
        "IPY_MODEL_023ac594fd62450892795afbbeff3256"
       ],
       "layout": "IPY_MODEL_b8351b451e654dfe99e47c496aa9dd6b"
      }
     },
     "078984c8c81840b480de4dd5b4706e6b": {
      "model_module": "@jupyter-widgets/controls",
      "model_module_version": "1.5.0",
      "model_name": "VBoxModel",
      "state": {
       "_dom_classes": [
        "widget-interact"
       ],
       "children": [
        "IPY_MODEL_bc00501ec289417495f8fefda439269c",
        "IPY_MODEL_a231ef950de944b098b7a5657bcd6096",
        "IPY_MODEL_8eb23712e0c04b21839b04b810f63f5b"
       ],
       "layout": "IPY_MODEL_4967660af55e473b8a19de1fd1e5bf9b"
      }
     },
     "09b2939dbf7e4c1a96cca45d4a79a6d4": {
      "model_module": "@jupyter-widgets/controls",
      "model_module_version": "1.5.0",
      "model_name": "SliderStyleModel",
      "state": {
       "description_width": ""
      }
     },
     "0a485ca5952746349667cd41ca5ba9b1": {
      "model_module": "@jupyter-widgets/controls",
      "model_module_version": "1.5.0",
      "model_name": "VBoxModel",
      "state": {
       "_dom_classes": [
        "widget-interact"
       ],
       "children": [
        "IPY_MODEL_c489f4adadf746bb9384e95cacc4f6bd",
        "IPY_MODEL_66ab36da712d486190e2c03f3bfbb119",
        "IPY_MODEL_8137afe546d441c2867557568e142edd"
       ],
       "layout": "IPY_MODEL_2e92a16fe7904b03b02c6ad302b23292"
      }
     },
     "0a58819972fb4745a62919fd6d6d2444": {
      "model_module": "@jupyter-widgets/base",
      "model_module_version": "1.2.0",
      "model_name": "LayoutModel",
      "state": {}
     },
     "0bb01a94f7864795a9b1b6194a18df14": {
      "model_module": "@jupyter-widgets/base",
      "model_module_version": "1.2.0",
      "model_name": "LayoutModel",
      "state": {}
     },
     "1097fe6514524f6987613e7b2a2175f0": {
      "model_module": "@jupyter-widgets/controls",
      "model_module_version": "1.5.0",
      "model_name": "SliderStyleModel",
      "state": {
       "description_width": ""
      }
     },
     "1254b0ffd59e4c13a3707c7d77282284": {
      "model_module": "@jupyter-widgets/base",
      "model_module_version": "1.2.0",
      "model_name": "LayoutModel",
      "state": {}
     },
     "13f1df91450f456e919fad09311d1fe0": {
      "model_module": "@jupyter-widgets/controls",
      "model_module_version": "1.5.0",
      "model_name": "SliderStyleModel",
      "state": {
       "description_width": ""
      }
     },
     "15b59b71d27a42118554854c453be4f8": {
      "model_module": "@jupyter-widgets/output",
      "model_module_version": "1.0.0",
      "model_name": "OutputModel",
      "state": {
       "layout": "IPY_MODEL_45cc41bdf640429eb292d499ad543f9c",
       "outputs": [
        {
         "ename": "NameError",
         "evalue": "name 't' is not defined",
         "output_type": "error",
         "traceback": [
          "\u001b[1;31m---------------------------------------------------------------------------\u001b[0m",
          "\u001b[1;31mNameError\u001b[0m                                 Traceback (most recent call last)",
          "\u001b[1;32m~\\AppData\\Local\\Continuum\\anaconda3\\lib\\site-packages\\ipywidgets\\widgets\\interaction.py\u001b[0m in \u001b[0;36mupdate\u001b[1;34m(self, *args)\u001b[0m\n\u001b[0;32m    254\u001b[0m                     \u001b[0mvalue\u001b[0m \u001b[1;33m=\u001b[0m \u001b[0mwidget\u001b[0m\u001b[1;33m.\u001b[0m\u001b[0mget_interact_value\u001b[0m\u001b[1;33m(\u001b[0m\u001b[1;33m)\u001b[0m\u001b[1;33m\u001b[0m\u001b[1;33m\u001b[0m\u001b[0m\n\u001b[0;32m    255\u001b[0m                     \u001b[0mself\u001b[0m\u001b[1;33m.\u001b[0m\u001b[0mkwargs\u001b[0m\u001b[1;33m[\u001b[0m\u001b[0mwidget\u001b[0m\u001b[1;33m.\u001b[0m\u001b[0m_kwarg\u001b[0m\u001b[1;33m]\u001b[0m \u001b[1;33m=\u001b[0m \u001b[0mvalue\u001b[0m\u001b[1;33m\u001b[0m\u001b[1;33m\u001b[0m\u001b[0m\n\u001b[1;32m--> 256\u001b[1;33m                 \u001b[0mself\u001b[0m\u001b[1;33m.\u001b[0m\u001b[0mresult\u001b[0m \u001b[1;33m=\u001b[0m \u001b[0mself\u001b[0m\u001b[1;33m.\u001b[0m\u001b[0mf\u001b[0m\u001b[1;33m(\u001b[0m\u001b[1;33m**\u001b[0m\u001b[0mself\u001b[0m\u001b[1;33m.\u001b[0m\u001b[0mkwargs\u001b[0m\u001b[1;33m)\u001b[0m\u001b[1;33m\u001b[0m\u001b[1;33m\u001b[0m\u001b[0m\n\u001b[0m\u001b[0;32m    257\u001b[0m                 \u001b[0mshow_inline_matplotlib_plots\u001b[0m\u001b[1;33m(\u001b[0m\u001b[1;33m)\u001b[0m\u001b[1;33m\u001b[0m\u001b[1;33m\u001b[0m\u001b[0m\n\u001b[0;32m    258\u001b[0m                 \u001b[1;32mif\u001b[0m \u001b[0mself\u001b[0m\u001b[1;33m.\u001b[0m\u001b[0mauto_display\u001b[0m \u001b[1;32mand\u001b[0m \u001b[0mself\u001b[0m\u001b[1;33m.\u001b[0m\u001b[0mresult\u001b[0m \u001b[1;32mis\u001b[0m \u001b[1;32mnot\u001b[0m \u001b[1;32mNone\u001b[0m\u001b[1;33m:\u001b[0m\u001b[1;33m\u001b[0m\u001b[1;33m\u001b[0m\u001b[0m\n",
          "\u001b[1;32m<ipython-input-4-ead13df33378>\u001b[0m in \u001b[0;36m<lambda>\u001b[1;34m(delta)\u001b[0m\n\u001b[0;32m      1\u001b[0m ipywidgets.interact(\n\u001b[1;32m----> 2\u001b[1;33m     \u001b[1;32mlambda\u001b[0m \u001b[0mdelta\u001b[0m\u001b[1;33m:\u001b[0m \u001b[0mplotJc\u001b[0m\u001b[1;33m(\u001b[0m\u001b[0mt\u001b[0m \u001b[1;33m=\u001b[0m \u001b[0mt\u001b[0m\u001b[1;33m,\u001b[0m \u001b[0mdelta\u001b[0m \u001b[1;33m=\u001b[0m \u001b[0mdelta\u001b[0m\u001b[1;33m)\u001b[0m\u001b[1;33m,\u001b[0m\u001b[1;33m\u001b[0m\u001b[1;33m\u001b[0m\u001b[0m\n\u001b[0m\u001b[0;32m      3\u001b[0m     \u001b[0mt\u001b[0m\u001b[1;33m=\u001b[0m\u001b[0mipywidgets\u001b[0m\u001b[1;33m.\u001b[0m\u001b[0mIntSlider\u001b[0m\u001b[1;33m(\u001b[0m\u001b[0mmin\u001b[0m\u001b[1;33m=\u001b[0m\u001b[1;36m0\u001b[0m\u001b[1;33m,\u001b[0m \u001b[0mmax\u001b[0m\u001b[1;33m=\u001b[0m\u001b[1;36m4\u001b[0m\u001b[1;33m,\u001b[0m \u001b[0mstep\u001b[0m\u001b[1;33m=\u001b[0m\u001b[1;36m0.01\u001b[0m\u001b[1;33m,\u001b[0m \u001b[0mvalue\u001b[0m\u001b[1;33m=\u001b[0m\u001b[1;36m0\u001b[0m\u001b[1;33m)\u001b[0m\u001b[1;33m,\u001b[0m \u001b[1;31m# in terms of tau = 2pi/omega\u001b[0m\u001b[1;33m\u001b[0m\u001b[1;33m\u001b[0m\u001b[0m\n\u001b[0;32m      4\u001b[0m     \u001b[0mdelta\u001b[0m\u001b[1;33m=\u001b[0m \u001b[0mipywidgets\u001b[0m\u001b[1;33m.\u001b[0m\u001b[0mIntSlider\u001b[0m\u001b[1;33m(\u001b[0m\u001b[0mmin\u001b[0m\u001b[1;33m=\u001b[0m\u001b[1;36m0.01\u001b[0m\u001b[1;33m,\u001b[0m \u001b[0mmax\u001b[0m\u001b[1;33m=\u001b[0m\u001b[1;36m10\u001b[0m\u001b[1;33m,\u001b[0m \u001b[0mstep\u001b[0m\u001b[1;33m=\u001b[0m\u001b[1;36m0.01\u001b[0m\u001b[1;33m,\u001b[0m \u001b[0mvalue\u001b[0m\u001b[1;33m=\u001b[0m\u001b[1;36m0.01\u001b[0m\u001b[1;33m)\u001b[0m\u001b[1;33m,\u001b[0m \u001b[1;31m# in terms of a (maximum radius of the wire)\u001b[0m\u001b[1;33m\u001b[0m\u001b[1;33m\u001b[0m\u001b[0m\n\u001b[0;32m      5\u001b[0m );\n",
          "\u001b[1;31mNameError\u001b[0m: name 't' is not defined"
         ]
        }
       ]
      }
     },
     "18532246ee7e4a69afc6ddfa2c633c7d": {
      "model_module": "@jupyter-widgets/base",
      "model_module_version": "1.2.0",
      "model_name": "LayoutModel",
      "state": {}
     },
     "18f630daa69641b1bf31be6983b12e02": {
      "model_module": "@jupyter-widgets/output",
      "model_module_version": "1.0.0",
      "model_name": "OutputModel",
      "state": {
       "layout": "IPY_MODEL_90b45863c4624a67a7501b02b2f21e54",
       "outputs": [
        {
         "ename": "ValueError",
         "evalue": "not enough values to unpack (expected 2, got 1)",
         "output_type": "error",
         "traceback": [
          "\u001b[1;31m---------------------------------------------------------------------------\u001b[0m",
          "\u001b[1;31mValueError\u001b[0m                                Traceback (most recent call last)",
          "\u001b[1;32m~\\AppData\\Local\\Continuum\\anaconda3\\lib\\site-packages\\ipywidgets\\widgets\\interaction.py\u001b[0m in \u001b[0;36mupdate\u001b[1;34m(self, *args)\u001b[0m\n\u001b[0;32m    254\u001b[0m                     \u001b[0mvalue\u001b[0m \u001b[1;33m=\u001b[0m \u001b[0mwidget\u001b[0m\u001b[1;33m.\u001b[0m\u001b[0mget_interact_value\u001b[0m\u001b[1;33m(\u001b[0m\u001b[1;33m)\u001b[0m\u001b[1;33m\u001b[0m\u001b[1;33m\u001b[0m\u001b[0m\n\u001b[0;32m    255\u001b[0m                     \u001b[0mself\u001b[0m\u001b[1;33m.\u001b[0m\u001b[0mkwargs\u001b[0m\u001b[1;33m[\u001b[0m\u001b[0mwidget\u001b[0m\u001b[1;33m.\u001b[0m\u001b[0m_kwarg\u001b[0m\u001b[1;33m]\u001b[0m \u001b[1;33m=\u001b[0m \u001b[0mvalue\u001b[0m\u001b[1;33m\u001b[0m\u001b[1;33m\u001b[0m\u001b[0m\n\u001b[1;32m--> 256\u001b[1;33m                 \u001b[0mself\u001b[0m\u001b[1;33m.\u001b[0m\u001b[0mresult\u001b[0m \u001b[1;33m=\u001b[0m \u001b[0mself\u001b[0m\u001b[1;33m.\u001b[0m\u001b[0mf\u001b[0m\u001b[1;33m(\u001b[0m\u001b[1;33m**\u001b[0m\u001b[0mself\u001b[0m\u001b[1;33m.\u001b[0m\u001b[0mkwargs\u001b[0m\u001b[1;33m)\u001b[0m\u001b[1;33m\u001b[0m\u001b[1;33m\u001b[0m\u001b[0m\n\u001b[0m\u001b[0;32m    257\u001b[0m                 \u001b[0mshow_inline_matplotlib_plots\u001b[0m\u001b[1;33m(\u001b[0m\u001b[1;33m)\u001b[0m\u001b[1;33m\u001b[0m\u001b[1;33m\u001b[0m\u001b[0m\n\u001b[0;32m    258\u001b[0m                 \u001b[1;32mif\u001b[0m \u001b[0mself\u001b[0m\u001b[1;33m.\u001b[0m\u001b[0mauto_display\u001b[0m \u001b[1;32mand\u001b[0m \u001b[0mself\u001b[0m\u001b[1;33m.\u001b[0m\u001b[0mresult\u001b[0m \u001b[1;32mis\u001b[0m \u001b[1;32mnot\u001b[0m \u001b[1;32mNone\u001b[0m\u001b[1;33m:\u001b[0m\u001b[1;33m\u001b[0m\u001b[1;33m\u001b[0m\u001b[0m\n",
          "\u001b[1;32m<ipython-input-18-1a82c1991a53>\u001b[0m in \u001b[0;36m<lambda>\u001b[1;34m(t, delta)\u001b[0m\n\u001b[0;32m      1\u001b[0m ipywidgets.interact(\n\u001b[1;32m----> 2\u001b[1;33m     \u001b[1;32mlambda\u001b[0m \u001b[0mt\u001b[0m\u001b[1;33m,\u001b[0m \u001b[0mdelta\u001b[0m\u001b[1;33m:\u001b[0m \u001b[0mplotJc\u001b[0m\u001b[1;33m(\u001b[0m\u001b[0mt\u001b[0m \u001b[1;33m=\u001b[0m \u001b[0mt\u001b[0m\u001b[1;33m,\u001b[0m \u001b[0mdelta\u001b[0m \u001b[1;33m=\u001b[0m \u001b[0mdelta\u001b[0m\u001b[1;33m)\u001b[0m\u001b[1;33m,\u001b[0m\u001b[1;33m\u001b[0m\u001b[1;33m\u001b[0m\u001b[0m\n\u001b[0m\u001b[0;32m      3\u001b[0m     \u001b[0mt\u001b[0m\u001b[1;33m=\u001b[0m\u001b[0mipywidgets\u001b[0m\u001b[1;33m.\u001b[0m\u001b[0mFloatSlider\u001b[0m\u001b[1;33m(\u001b[0m\u001b[0mmin\u001b[0m\u001b[1;33m=\u001b[0m\u001b[1;36m0.1\u001b[0m\u001b[1;33m,\u001b[0m \u001b[0mmax\u001b[0m\u001b[1;33m=\u001b[0m\u001b[1;36m4\u001b[0m\u001b[1;33m,\u001b[0m \u001b[0mstep\u001b[0m\u001b[1;33m=\u001b[0m\u001b[1;36m0.01\u001b[0m\u001b[1;33m,\u001b[0m \u001b[0mvalue\u001b[0m\u001b[1;33m=\u001b[0m\u001b[1;36m0\u001b[0m\u001b[1;33m)\u001b[0m\u001b[1;33m,\u001b[0m \u001b[1;31m# in terms of tau = 2pi/omega\u001b[0m\u001b[1;33m\u001b[0m\u001b[1;33m\u001b[0m\u001b[0m\n\u001b[0;32m      4\u001b[0m     \u001b[0mdelta\u001b[0m\u001b[1;33m=\u001b[0m \u001b[0mipywidgets\u001b[0m\u001b[1;33m.\u001b[0m\u001b[0mFloatSlider\u001b[0m\u001b[1;33m(\u001b[0m\u001b[0mmin\u001b[0m\u001b[1;33m=\u001b[0m\u001b[1;36m0.01\u001b[0m\u001b[1;33m,\u001b[0m \u001b[0mmax\u001b[0m\u001b[1;33m=\u001b[0m\u001b[1;36m10\u001b[0m\u001b[1;33m,\u001b[0m \u001b[0mstep\u001b[0m\u001b[1;33m=\u001b[0m\u001b[1;36m0.1\u001b[0m\u001b[1;33m,\u001b[0m \u001b[0mvalue\u001b[0m\u001b[1;33m=\u001b[0m\u001b[1;36m0.01\u001b[0m\u001b[1;33m)\u001b[0m\u001b[1;33m,\u001b[0m \u001b[1;31m# in terms of a (maximum radius of the wire)\u001b[0m\u001b[1;33m\u001b[0m\u001b[1;33m\u001b[0m\u001b[0m\n\u001b[0;32m      5\u001b[0m );\n",
          "\u001b[1;32m<ipython-input-17-a489679460a0>\u001b[0m in \u001b[0;36mplotJc\u001b[1;34m(t, delta, frequency)\u001b[0m\n\u001b[0;32m     13\u001b[0m     \u001b[0mJc_norm\u001b[0m \u001b[1;33m=\u001b[0m \u001b[0mbessel\u001b[0m\u001b[1;33m(\u001b[0m\u001b[1;36m0\u001b[0m\u001b[1;33m,\u001b[0m \u001b[1;33m(\u001b[0m\u001b[1;36m1\u001b[0m \u001b[1;33m+\u001b[0m \u001b[1;36m1j\u001b[0m\u001b[1;33m)\u001b[0m \u001b[1;33m*\u001b[0m \u001b[1;33m(\u001b[0m\u001b[0ma\u001b[0m \u001b[1;33m-\u001b[0m \u001b[0mx\u001b[0m\u001b[1;33m)\u001b[0m \u001b[1;33m/\u001b[0m \u001b[0mdelta\u001b[0m\u001b[1;33m)\u001b[0m \u001b[1;33m*\u001b[0m \u001b[0mphasefactor\u001b[0m \u001b[1;33m/\u001b[0m \u001b[0mj0\u001b[0m \u001b[1;31m# it is more common to calculate Jc in terms of r, except when making the approximation in this worksheet for clarity have written this expression in terms of x\u001b[0m\u001b[1;33m\u001b[0m\u001b[1;33m\u001b[0m\u001b[0m\n\u001b[0;32m     14\u001b[0m     \u001b[0mJc_norm\u001b[0m \u001b[1;33m=\u001b[0m \u001b[0mnp\u001b[0m\u001b[1;33m.\u001b[0m\u001b[0mreal\u001b[0m\u001b[1;33m(\u001b[0m\u001b[0mJc_norm\u001b[0m\u001b[1;33m)\u001b[0m\u001b[1;33m\u001b[0m\u001b[1;33m\u001b[0m\u001b[0m\n\u001b[1;32m---> 15\u001b[1;33m     \u001b[0mfig\u001b[0m\u001b[1;33m,\u001b[0m \u001b[0max\u001b[0m \u001b[1;33m=\u001b[0m \u001b[0mpyplot\u001b[0m\u001b[1;33m.\u001b[0m\u001b[0mplot\u001b[0m\u001b[1;33m(\u001b[0m\u001b[0mx\u001b[0m\u001b[1;33m,\u001b[0m \u001b[0mJc_norm\u001b[0m\u001b[1;33m)\u001b[0m\u001b[1;33m\u001b[0m\u001b[1;33m\u001b[0m\u001b[0m\n\u001b[0m\u001b[0;32m     16\u001b[0m     \u001b[0mfig\u001b[0m\u001b[1;33m.\u001b[0m\u001b[0mylim\u001b[0m\u001b[1;33m(\u001b[0m\u001b[1;33m-\u001b[0m\u001b[1;36m1\u001b[0m\u001b[1;33m,\u001b[0m\u001b[1;36m1\u001b[0m\u001b[1;33m)\u001b[0m\u001b[1;33m\u001b[0m\u001b[1;33m\u001b[0m\u001b[0m\n\u001b[0;32m     17\u001b[0m \u001b[1;33m\u001b[0m\u001b[0m\n",
          "\u001b[1;31mValueError\u001b[0m: not enough values to unpack (expected 2, got 1)"
         ]
        }
       ]
      }
     },
     "1f9e3ccd4fb040df93e5f5d3b89fb9a9": {
      "model_module": "@jupyter-widgets/controls",
      "model_module_version": "1.5.0",
      "model_name": "FloatSliderModel",
      "state": {
       "description": "t",
       "layout": "IPY_MODEL_447f5cd225cc42d680c0fd83e71be006",
       "max": 4,
       "min": 0.1,
       "step": 0.1,
       "style": "IPY_MODEL_f11ac8610ccf461781ea1bbad4e973c9",
       "value": 0.5
      }
     },
     "20a12421132d4e30b6e7462cc56a9211": {
      "model_module": "@jupyter-widgets/controls",
      "model_module_version": "1.5.0",
      "model_name": "VBoxModel",
      "state": {
       "_dom_classes": [
        "widget-interact"
       ],
       "children": [
        "IPY_MODEL_4a3a27cb282e43e58b4c06ee0f5d8855",
        "IPY_MODEL_23c1d7fbd5844a0496e87916b13d1d80",
        "IPY_MODEL_4f085a5c2c764afcb9658224e716971a"
       ],
       "layout": "IPY_MODEL_b34668548bf444c691650a93a4ce1f59"
      }
     },
     "238655aa79e745639611acb9c8ec6090": {
      "model_module": "@jupyter-widgets/base",
      "model_module_version": "1.2.0",
      "model_name": "LayoutModel",
      "state": {}
     },
     "23c1d7fbd5844a0496e87916b13d1d80": {
      "model_module": "@jupyter-widgets/controls",
      "model_module_version": "1.5.0",
      "model_name": "FloatSliderModel",
      "state": {
       "description": "delta",
       "layout": "IPY_MODEL_7710e89cd8e9405eacefd7512fef8e4c",
       "max": 10,
       "min": 0.01,
       "step": 0.1,
       "style": "IPY_MODEL_431e23a86d7c4ecd98072efefe0943bd",
       "value": 1.91
      }
     },
     "24d534bb39e34bb8b88a6407a60f2d32": {
      "model_module": "@jupyter-widgets/base",
      "model_module_version": "1.2.0",
      "model_name": "LayoutModel",
      "state": {}
     },
     "24eaaa8f210645769a9f2c06e5e5893e": {
      "model_module": "@jupyter-widgets/base",
      "model_module_version": "1.2.0",
      "model_name": "LayoutModel",
      "state": {}
     },
     "257aaa6e61074574a2f97efc4c369cee": {
      "model_module": "@jupyter-widgets/base",
      "model_module_version": "1.2.0",
      "model_name": "LayoutModel",
      "state": {}
     },
     "25fd3f3776be4a16a40b3b03a27b0843": {
      "model_module": "@jupyter-widgets/base",
      "model_module_version": "1.2.0",
      "model_name": "LayoutModel",
      "state": {}
     },
     "291a58287ab64dc7a77396770e20cf97": {
      "model_module": "@jupyter-widgets/base",
      "model_module_version": "1.2.0",
      "model_name": "LayoutModel",
      "state": {}
     },
     "2aa72f10c1b24cf399d48dfaa3bae2e0": {
      "model_module": "@jupyter-widgets/controls",
      "model_module_version": "1.5.0",
      "model_name": "FloatSliderModel",
      "state": {
       "description": "delta",
       "layout": "IPY_MODEL_b2b5fecac1504a078badb4c498825ebc",
       "max": 10,
       "min": 0.01,
       "step": 0.1,
       "style": "IPY_MODEL_e5bd8bd4d24340eb861001f2d53e8ab5",
       "value": 0.01
      }
     },
     "2e92a16fe7904b03b02c6ad302b23292": {
      "model_module": "@jupyter-widgets/base",
      "model_module_version": "1.2.0",
      "model_name": "LayoutModel",
      "state": {}
     },
     "2fcaa174aad94b068488ffe237ee9f19": {
      "model_module": "@jupyter-widgets/controls",
      "model_module_version": "1.5.0",
      "model_name": "SliderStyleModel",
      "state": {
       "description_width": ""
      }
     },
     "3092f2c154b24d859d0a468f29d878ac": {
      "model_module": "@jupyter-widgets/controls",
      "model_module_version": "1.5.0",
      "model_name": "FloatSliderModel",
      "state": {
       "description": "t",
       "layout": "IPY_MODEL_671d7c945a7e4f2dac843eed34e88e02",
       "max": 4,
       "min": 0.1,
       "step": 0.01,
       "style": "IPY_MODEL_b7edd81448e94f83bb86cfb1f7f9b77c",
       "value": 0.1
      }
     },
     "309ce85bbf7d40debedc86310ea0f799": {
      "model_module": "@jupyter-widgets/base",
      "model_module_version": "1.2.0",
      "model_name": "LayoutModel",
      "state": {}
     },
     "310849bfec764a8eb077e41bd66b7585": {
      "model_module": "@jupyter-widgets/controls",
      "model_module_version": "1.5.0",
      "model_name": "FloatSliderModel",
      "state": {
       "description": "delta",
       "layout": "IPY_MODEL_24d534bb39e34bb8b88a6407a60f2d32",
       "max": 10,
       "min": 0.01,
       "step": 0.01,
       "style": "IPY_MODEL_13f1df91450f456e919fad09311d1fe0",
       "value": 0.01
      }
     },
     "31da9ecb57e148298b8ad57c7b408cdb": {
      "model_module": "@jupyter-widgets/controls",
      "model_module_version": "1.5.0",
      "model_name": "SliderStyleModel",
      "state": {
       "description_width": ""
      }
     },
     "3232e05f712f4e44859144020032a8ca": {
      "model_module": "@jupyter-widgets/controls",
      "model_module_version": "1.5.0",
      "model_name": "SliderStyleModel",
      "state": {
       "description_width": ""
      }
     },
     "33c158cc229e4c18b208a5b1d23dd5de": {
      "model_module": "@jupyter-widgets/output",
      "model_module_version": "1.0.0",
      "model_name": "OutputModel",
      "state": {
       "layout": "IPY_MODEL_87d219be5c284165981af88f05dad040",
       "outputs": [
        {
         "data": {
          "image/png": "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\n",
          "text/plain": "<Figure size 432x288 with 1 Axes>"
         },
         "metadata": {
          "needs_background": "light"
         },
         "output_type": "display_data"
        }
       ]
      }
     },
     "33d92b17383148309ad733476fd93805": {
      "model_module": "@jupyter-widgets/controls",
      "model_module_version": "1.5.0",
      "model_name": "FloatSliderModel",
      "state": {
       "description": "t",
       "layout": "IPY_MODEL_5052b7008a77494fb223666e111dfcf7",
       "max": 4,
       "min": 0.1,
       "step": 0.01,
       "style": "IPY_MODEL_1097fe6514524f6987613e7b2a2175f0",
       "value": 0.1
      }
     },
     "3763a239defb407a83b193244f30d628": {
      "model_module": "@jupyter-widgets/base",
      "model_module_version": "1.2.0",
      "model_name": "LayoutModel",
      "state": {}
     },
     "3c0752f7609746db8a1b82b1155676fb": {
      "model_module": "@jupyter-widgets/controls",
      "model_module_version": "1.5.0",
      "model_name": "FloatSliderModel",
      "state": {
       "description": "t",
       "layout": "IPY_MODEL_792ce3f2cb77421bbd687de461049e06",
       "max": 4,
       "min": 0.1,
       "step": 0.01,
       "style": "IPY_MODEL_8ae25a25c62a4be7b9c3abef76497329",
       "value": 0.1
      }
     },
     "403a53846bf24464860fde4aa3e1de58": {
      "model_module": "@jupyter-widgets/controls",
      "model_module_version": "1.5.0",
      "model_name": "SliderStyleModel",
      "state": {
       "description_width": ""
      }
     },
     "431e23a86d7c4ecd98072efefe0943bd": {
      "model_module": "@jupyter-widgets/controls",
      "model_module_version": "1.5.0",
      "model_name": "SliderStyleModel",
      "state": {
       "description_width": ""
      }
     },
     "447f5cd225cc42d680c0fd83e71be006": {
      "model_module": "@jupyter-widgets/base",
      "model_module_version": "1.2.0",
      "model_name": "LayoutModel",
      "state": {}
     },
     "45cc41bdf640429eb292d499ad543f9c": {
      "model_module": "@jupyter-widgets/base",
      "model_module_version": "1.2.0",
      "model_name": "LayoutModel",
      "state": {}
     },
     "4700f5a4af724ede99097a7561ae337d": {
      "model_module": "@jupyter-widgets/controls",
      "model_module_version": "1.5.0",
      "model_name": "VBoxModel",
      "state": {
       "_dom_classes": [
        "widget-interact"
       ],
       "children": [
        "IPY_MODEL_6d8073bde3ce41b0b7536a6fb14f79f2",
        "IPY_MODEL_8714467a83924d2d967e6b6edf5e5ebc",
        "IPY_MODEL_75108a52a9f64d48ac8b0fb6db19b70b"
       ],
       "layout": "IPY_MODEL_5a1d468b0d4a43e5acbe9945d7d19e02"
      }
     },
     "4967660af55e473b8a19de1fd1e5bf9b": {
      "model_module": "@jupyter-widgets/base",
      "model_module_version": "1.2.0",
      "model_name": "LayoutModel",
      "state": {}
     },
     "496d04376dab4fe5bfa2ff24fdcbbc16": {
      "model_module": "@jupyter-widgets/controls",
      "model_module_version": "1.5.0",
      "model_name": "IntSliderModel",
      "state": {
       "description": "delta",
       "layout": "IPY_MODEL_1254b0ffd59e4c13a3707c7d77282284",
       "max": 10,
       "step": 0,
       "style": "IPY_MODEL_09b2939dbf7e4c1a96cca45d4a79a6d4"
      }
     },
     "49a0e192755b4aee8c53d030979425ca": {
      "model_module": "@jupyter-widgets/base",
      "model_module_version": "1.2.0",
      "model_name": "LayoutModel",
      "state": {}
     },
     "4a3a27cb282e43e58b4c06ee0f5d8855": {
      "model_module": "@jupyter-widgets/controls",
      "model_module_version": "1.5.0",
      "model_name": "FloatSliderModel",
      "state": {
       "description": "t",
       "layout": "IPY_MODEL_4efb223ff2bc4fc582d8368cddb3af34",
       "max": 4,
       "min": 0.1,
       "step": 0.01,
       "style": "IPY_MODEL_a487dca5ff3d455bac2e18af1c5b6717",
       "value": 0.1
      }
     },
     "4db4c7acd0014bf3ab3ee2b11f3018ea": {
      "model_module": "@jupyter-widgets/output",
      "model_module_version": "1.0.0",
      "model_name": "OutputModel",
      "state": {
       "layout": "IPY_MODEL_98db90fee7964af98b5cab8da48daa92",
       "outputs": [
        {
         "data": {
          "image/png": "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\n",
          "text/plain": "<Figure size 432x288 with 1 Axes>"
         },
         "metadata": {
          "needs_background": "light"
         },
         "output_type": "display_data"
        }
       ]
      }
     },
     "4e3dfbee024f41d3a8b88c8ced1199dc": {
      "model_module": "@jupyter-widgets/base",
      "model_module_version": "1.2.0",
      "model_name": "LayoutModel",
      "state": {}
     },
     "4e9b383eeff54f5f8f1ddea55bab7158": {
      "model_module": "@jupyter-widgets/base",
      "model_module_version": "1.2.0",
      "model_name": "LayoutModel",
      "state": {}
     },
     "4efb223ff2bc4fc582d8368cddb3af34": {
      "model_module": "@jupyter-widgets/base",
      "model_module_version": "1.2.0",
      "model_name": "LayoutModel",
      "state": {}
     },
     "4f085a5c2c764afcb9658224e716971a": {
      "model_module": "@jupyter-widgets/output",
      "model_module_version": "1.0.0",
      "model_name": "OutputModel",
      "state": {
       "layout": "IPY_MODEL_49a0e192755b4aee8c53d030979425ca",
       "outputs": [
        {
         "data": {
          "image/png": "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\n",
          "text/plain": "<Figure size 432x288 with 1 Axes>"
         },
         "metadata": {
          "needs_background": "light"
         },
         "output_type": "display_data"
        }
       ]
      }
     },
     "4fa9ff7c8b7a451f9d9cfea6eb72678d": {
      "model_module": "@jupyter-widgets/base",
      "model_module_version": "1.2.0",
      "model_name": "LayoutModel",
      "state": {}
     },
     "5052b7008a77494fb223666e111dfcf7": {
      "model_module": "@jupyter-widgets/base",
      "model_module_version": "1.2.0",
      "model_name": "LayoutModel",
      "state": {}
     },
     "51a3722c56ea41e289fa4c1b675aab49": {
      "model_module": "@jupyter-widgets/base",
      "model_module_version": "1.2.0",
      "model_name": "LayoutModel",
      "state": {}
     },
     "521c85fbcf4841b8ab4506455799a4ad": {
      "model_module": "@jupyter-widgets/base",
      "model_module_version": "1.2.0",
      "model_name": "LayoutModel",
      "state": {}
     },
     "527b3536fdfa4095b58ad4fe52a222da": {
      "model_module": "@jupyter-widgets/base",
      "model_module_version": "1.2.0",
      "model_name": "LayoutModel",
      "state": {}
     },
     "5445967a3f264bec9ba1551d30c46875": {
      "model_module": "@jupyter-widgets/controls",
      "model_module_version": "1.5.0",
      "model_name": "VBoxModel",
      "state": {
       "_dom_classes": [
        "widget-interact"
       ],
       "children": [
        "IPY_MODEL_cc56b5c383b44c9082cdb042746e749a",
        "IPY_MODEL_9c2530a2a5604a0bbfc38b1ca6dea837",
        "IPY_MODEL_e094e25d04694100bc1bd3c6b7067f62"
       ],
       "layout": "IPY_MODEL_309ce85bbf7d40debedc86310ea0f799"
      }
     },
     "58e85df5a48b4652bf6a958382f3d217": {
      "model_module": "@jupyter-widgets/base",
      "model_module_version": "1.2.0",
      "model_name": "LayoutModel",
      "state": {}
     },
     "5a1d468b0d4a43e5acbe9945d7d19e02": {
      "model_module": "@jupyter-widgets/base",
      "model_module_version": "1.2.0",
      "model_name": "LayoutModel",
      "state": {}
     },
     "5c41a87e4e6e45ea91d57d1838510703": {
      "model_module": "@jupyter-widgets/controls",
      "model_module_version": "1.5.0",
      "model_name": "IntSliderModel",
      "state": {
       "description": "delta",
       "layout": "IPY_MODEL_88cdb6576da04567adb309ccace52279",
       "max": 10,
       "step": 0,
       "style": "IPY_MODEL_eb29ec85c6cc40289485ad62ad45e21f"
      }
     },
     "6259c4857c29411e8bead572e2a22d16": {
      "model_module": "@jupyter-widgets/base",
      "model_module_version": "1.2.0",
      "model_name": "LayoutModel",
      "state": {}
     },
     "62d0e8530c184a629450455951e1deb6": {
      "model_module": "@jupyter-widgets/base",
      "model_module_version": "1.2.0",
      "model_name": "LayoutModel",
      "state": {}
     },
     "637d66c1cd754fbeb7ac920401526898": {
      "model_module": "@jupyter-widgets/base",
      "model_module_version": "1.2.0",
      "model_name": "LayoutModel",
      "state": {}
     },
     "65249006626a4044be00b4eb6e7c5cc6": {
      "model_module": "@jupyter-widgets/controls",
      "model_module_version": "1.5.0",
      "model_name": "SliderStyleModel",
      "state": {
       "description_width": ""
      }
     },
     "66ab36da712d486190e2c03f3bfbb119": {
      "model_module": "@jupyter-widgets/controls",
      "model_module_version": "1.5.0",
      "model_name": "FloatSliderModel",
      "state": {
       "description": "delta",
       "layout": "IPY_MODEL_f0ff71a2e7ee46dabe55563f6301913d",
       "max": 10,
       "min": 0.01,
       "step": 0.1,
       "style": "IPY_MODEL_a237c590851f49ce977a005eb4da4691",
       "value": 3.51
      }
     },
     "671d7c945a7e4f2dac843eed34e88e02": {
      "model_module": "@jupyter-widgets/base",
      "model_module_version": "1.2.0",
      "model_name": "LayoutModel",
      "state": {}
     },
     "6850679eb3374edfb662f551e1e9ba19": {
      "model_module": "@jupyter-widgets/base",
      "model_module_version": "1.2.0",
      "model_name": "LayoutModel",
      "state": {}
     },
     "6c5d54bc35554c87af5b85030fcf3d7f": {
      "model_module": "@jupyter-widgets/output",
      "model_module_version": "1.0.0",
      "model_name": "OutputModel",
      "state": {
       "layout": "IPY_MODEL_24eaaa8f210645769a9f2c06e5e5893e",
       "outputs": [
        {
         "data": {
          "image/png": "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\n",
          "text/plain": "<Figure size 432x288 with 1 Axes>"
         },
         "metadata": {
          "needs_background": "light"
         },
         "output_type": "display_data"
        }
       ]
      }
     },
     "6d8073bde3ce41b0b7536a6fb14f79f2": {
      "model_module": "@jupyter-widgets/controls",
      "model_module_version": "1.5.0",
      "model_name": "FloatSliderModel",
      "state": {
       "description": "t",
       "layout": "IPY_MODEL_032f6c580b154f6f8adb8b189f840552",
       "max": 4,
       "min": 0.1,
       "step": 0.1,
       "style": "IPY_MODEL_79269c197d914c2fa7f64831284d4163",
       "value": 0.1
      }
     },
     "6e8596a379a441bfaf032d7fa9faacde": {
      "model_module": "@jupyter-widgets/base",
      "model_module_version": "1.2.0",
      "model_name": "LayoutModel",
      "state": {}
     },
     "719b1c72265a466389bd72e4f41afadb": {
      "model_module": "@jupyter-widgets/controls",
      "model_module_version": "1.5.0",
      "model_name": "FloatSliderModel",
      "state": {
       "description": "delta",
       "layout": "IPY_MODEL_91b95a0fcb2b472891e2534098ac1830",
       "max": 10,
       "min": 0.01,
       "step": 0.1,
       "style": "IPY_MODEL_d041ba853eaf4d1a90d97c3376d70622",
       "value": 0.01
      }
     },
     "720b46d6e0ad4db785f0bea29c50302e": {
      "model_module": "@jupyter-widgets/base",
      "model_module_version": "1.2.0",
      "model_name": "LayoutModel",
      "state": {}
     },
     "73c70730d4e7491485fbcbf868b94f06": {
      "model_module": "@jupyter-widgets/base",
      "model_module_version": "1.2.0",
      "model_name": "LayoutModel",
      "state": {}
     },
     "75108a52a9f64d48ac8b0fb6db19b70b": {
      "model_module": "@jupyter-widgets/output",
      "model_module_version": "1.0.0",
      "model_name": "OutputModel",
      "state": {
       "layout": "IPY_MODEL_0a58819972fb4745a62919fd6d6d2444",
       "outputs": [
        {
         "data": {
          "image/png": "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\n",
          "text/plain": "<Figure size 432x288 with 1 Axes>"
         },
         "metadata": {
          "needs_background": "light"
         },
         "output_type": "display_data"
        }
       ]
      }
     },
     "7710e89cd8e9405eacefd7512fef8e4c": {
      "model_module": "@jupyter-widgets/base",
      "model_module_version": "1.2.0",
      "model_name": "LayoutModel",
      "state": {}
     },
     "79269c197d914c2fa7f64831284d4163": {
      "model_module": "@jupyter-widgets/controls",
      "model_module_version": "1.5.0",
      "model_name": "SliderStyleModel",
      "state": {
       "description_width": ""
      }
     },
     "792ce3f2cb77421bbd687de461049e06": {
      "model_module": "@jupyter-widgets/base",
      "model_module_version": "1.2.0",
      "model_name": "LayoutModel",
      "state": {}
     },
     "7b9604a3a7d9426cbc6e060af8eddd24": {
      "model_module": "@jupyter-widgets/base",
      "model_module_version": "1.2.0",
      "model_name": "LayoutModel",
      "state": {}
     },
     "7db5fd7a6cbd49d5a99b8640476004b0": {
      "model_module": "@jupyter-widgets/base",
      "model_module_version": "1.2.0",
      "model_name": "LayoutModel",
      "state": {}
     },
     "7e52794b431048798f0490b31f5c561a": {
      "model_module": "@jupyter-widgets/controls",
      "model_module_version": "1.5.0",
      "model_name": "SliderStyleModel",
      "state": {
       "description_width": ""
      }
     },
     "7ecf81f3d39a46c7956fc9aba4ca6441": {
      "model_module": "@jupyter-widgets/controls",
      "model_module_version": "1.5.0",
      "model_name": "VBoxModel",
      "state": {
       "_dom_classes": [
        "widget-interact"
       ],
       "children": [
        "IPY_MODEL_cbbc03a8345742bb901f7c4420c1b8e1",
        "IPY_MODEL_c78a3a5ce4f44ab0af1845be97daae78",
        "IPY_MODEL_dc360a0828f047e381d328b5a149f50d"
       ],
       "layout": "IPY_MODEL_73c70730d4e7491485fbcbf868b94f06"
      }
     },
     "8137afe546d441c2867557568e142edd": {
      "model_module": "@jupyter-widgets/output",
      "model_module_version": "1.0.0",
      "model_name": "OutputModel",
      "state": {
       "layout": "IPY_MODEL_8f6661b977f8438aa4eeed37a809cefd",
       "outputs": [
        {
         "data": {
          "image/png": "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\n",
          "text/plain": "<Figure size 432x288 with 1 Axes>"
         },
         "metadata": {
          "needs_background": "light"
         },
         "output_type": "display_data"
        }
       ]
      }
     },
     "84521d0759d746b3aed017bef43f390b": {
      "model_module": "@jupyter-widgets/controls",
      "model_module_version": "1.5.0",
      "model_name": "IntSliderModel",
      "state": {
       "description": "t",
       "layout": "IPY_MODEL_521c85fbcf4841b8ab4506455799a4ad",
       "max": 4,
       "step": 0,
       "style": "IPY_MODEL_bc792efe0ed94ac884ee3f990ad44e19"
      }
     },
     "8472665bcb8a4571a72ca6886a8a365f": {
      "model_module": "@jupyter-widgets/controls",
      "model_module_version": "1.5.0",
      "model_name": "VBoxModel",
      "state": {
       "_dom_classes": [
        "widget-interact"
       ],
       "children": [
        "IPY_MODEL_92b5c4b1fe5c4b85b5fd6453227bbbad",
        "IPY_MODEL_719b1c72265a466389bd72e4f41afadb",
        "IPY_MODEL_ccf7b490d7344e5c89113b78b31f5ff4"
       ],
       "layout": "IPY_MODEL_7b9604a3a7d9426cbc6e060af8eddd24"
      }
     },
     "8714467a83924d2d967e6b6edf5e5ebc": {
      "model_module": "@jupyter-widgets/controls",
      "model_module_version": "1.5.0",
      "model_name": "FloatSliderModel",
      "state": {
       "description": "delta",
       "layout": "IPY_MODEL_b2326559dba645ff9f62a3b1495aa0df",
       "max": 10,
       "min": 0.01,
       "step": 0.01,
       "style": "IPY_MODEL_7e52794b431048798f0490b31f5c561a",
       "value": 0.47
      }
     },
     "87d219be5c284165981af88f05dad040": {
      "model_module": "@jupyter-widgets/base",
      "model_module_version": "1.2.0",
      "model_name": "LayoutModel",
      "state": {}
     },
     "8883293595394b71bf159e5d9258fdbc": {
      "model_module": "@jupyter-widgets/controls",
      "model_module_version": "1.5.0",
      "model_name": "VBoxModel",
      "state": {
       "_dom_classes": [
        "widget-interact"
       ],
       "children": [
        "IPY_MODEL_33d92b17383148309ad733476fd93805",
        "IPY_MODEL_e8bc80639c9e4f509702a5021b911d75",
        "IPY_MODEL_007db1f44f894f2fa6b59cbd2489facb"
       ],
       "layout": "IPY_MODEL_03a05028edf4416382bb31b1d0c82101"
      }
     },
     "88cdb6576da04567adb309ccace52279": {
      "model_module": "@jupyter-widgets/base",
      "model_module_version": "1.2.0",
      "model_name": "LayoutModel",
      "state": {}
     },
     "8a0622e3620547fa92812fcb02a08726": {
      "model_module": "@jupyter-widgets/controls",
      "model_module_version": "1.5.0",
      "model_name": "SliderStyleModel",
      "state": {
       "description_width": ""
      }
     },
     "8ae25a25c62a4be7b9c3abef76497329": {
      "model_module": "@jupyter-widgets/controls",
      "model_module_version": "1.5.0",
      "model_name": "SliderStyleModel",
      "state": {
       "description_width": ""
      }
     },
     "8eb23712e0c04b21839b04b810f63f5b": {
      "model_module": "@jupyter-widgets/output",
      "model_module_version": "1.0.0",
      "model_name": "OutputModel",
      "state": {
       "layout": "IPY_MODEL_cd0e256dd2b2479a8be48e7c89600e06",
       "outputs": [
        {
         "data": {
          "image/png": "iVBORw0KGgoAAAANSUhEUgAAAZkAAAENCAYAAADdUhibAAAAOXRFWHRTb2Z0d2FyZQBNYXRwbG90bGliIHZlcnNpb24zLjMuMSwgaHR0cHM6Ly9tYXRwbG90bGliLm9yZy/d3fzzAAAACXBIWXMAAAsTAAALEwEAmpwYAAAa10lEQVR4nO3df5RdZX3v8fcnM5n8BhJIIAYQ1ChQBIQpP0q9EjA2iW0jt9bCtUCp3pQqLuvtuqtpubW/7l2La5fXVkFjalPiXVburUKJGgmBq1ALaCYsCAkYEiKUcVISYiCB/JzJ9/6xd8hxODPnnJl59p455/Na63DO3vvZez9nM5nPPM/e+9mKCMzMzFIYV3YFzMyseTlkzMwsGYeMmZkl45AxM7NkHDJmZpaMQ8bMzJIpPWQkrZC0Q9LGAZZL0uclbZW0QdKFFcsWSNqcL1taXK3NzKwepYcMcAewYJDlC4G5+WsJ8CUASW3A7fnyc4BrJZ2TtKZmZtaQ0kMmIh4CfjZIkcXAVyPzKHCCpNnAxcDWiNgWEYeAO/OyZmY2SrSXXYE6zAFeqJjuzudVm39JtQ1IWkLWCmLKlCkXnXXWWWlqambWpNavX/9SRMxsdL2xEDKqMi8Gmf/GmRHLgeUAnZ2d0dXVNXK1MzNrAZKeH8p6YyFkuoHTKqZPBXqAjgHmm5nZKFH6OZk6rAKuz68yuxR4JSK2A+uAuZLOlNQBXJOXNTOzUaL0loykrwNXACdJ6gb+DBgPEBHLgNXAImArsA+4MV/WK+lmYA3QBqyIiE2FfwEzMxtQ6SETEdfWWB7AxwdYtposhMzMbBQaC91lZmY2RjlkzMwsGYeMmZkl45AxM7NkHDJmZpZMy4XMod4jZVfBzKxltFzIbNnxatlVMDNrGS0XMtltN2ZmVoTWCxkcNGZmRWm5kAE43OeQMTMrQkuGzMHevrKrYGbWElo0ZHyFmZlZEVoyZHwZs5lZMVoyZNySMTMrRouGjM/JmJkVoSVDxt1lZmbFaMmQcXeZmVkxWjNkDjtkzMyKUHrISFogabOkrZKWVln+XyU9nr82SuqTNCNf9pykJ/NlXfXu81Cfz8mYmRWhvcydS2oDbgfmA93AOkmrIuKpo2Ui4q+Bv87L/xrwqYj4WcVm5kXES43s94BbMmZmhSi7JXMxsDUitkXEIeBOYPEg5a8Fvj7cnfrqMjOzYpQdMnOAFyqmu/N5byBpMrAA+GbF7ADuk7Re0pJ6d+qWjJlZMUrtLgNUZd5Ao1f+GvCv/brKLo+IHkmzgLWSfhwRD71hJ1kALQHoOOVtHDzsloyZWRHKbsl0A6dVTJ8K9AxQ9hr6dZVFRE/+vgO4m6z77Q0iYnlEdEZEJ8ABX8JsZlaIskNmHTBX0pmSOsiCZFX/QpKOB94D3FMxb4qkaUc/A+8DNtazU1/CbGZWjFK7yyKiV9LNwBqgDVgREZsk3ZQvX5YXvRq4LyJeq1j9ZOBuSZB9j3+MiHtr7VP4xL+ZWVHKPidDRKwGVvebt6zf9B3AHf3mbQPOb3R/knzi38ysIGV3lxVunNySMTMrSsuFjFsyZmbFabmQcUvGzKw4LRcyQh6F2cysIK0XMoIDvhnTzKwQLRcy4+SWjJlZUVowZPCwMmZmBWm5kJFbMmZmhWnBkPHjl83MitJyITNO8ol/M7OCtFzIuCVjZlaclgsZt2TMzIrTciHjloyZWXFaLmTGSfQdCXr7HDRmZqm1XMgof+Czn45pZpZey4XMOLKU8Q2ZZmbptV7IuCVjZlaYlguZ/HHNbsmYmRWg5ULm9ZaMH1xmZpZc6SEjaYGkzZK2SlpaZfkVkl6R9Hj++nS96w6wP8APLjMzK0J7mTuX1AbcDswHuoF1klZFxFP9iv5LRPzqENftt8/s3ffKmJmlV3ZL5mJga0Rsi4hDwJ3A4pTrjstTZr/PyZiZJVd2yMwBXqiY7s7n9XeZpCckfVfSLzS4LpKWSOqS1PXKy7sBOHDIIWNmllrZIaMq86Lf9GPAmyPifOALwD83sG42M2J5RHRGROeJM2YAbsmYmRWh7JDpBk6rmD4V6KksEBF7IuLV/PNqYLykk+pZt5qj3WX73JIxM0uu7JBZB8yVdKakDuAaYFVlAUmnKL8kTNLFZHXeVc+61Sj/xvsdMmZmyZV6dVlE9Eq6GVgDtAErImKTpJvy5cuADwK/L6kX2A9cExEBVF231j594t/MrDilhgy83gW2ut+8ZRWfbwNuq3fdWgR0tI1zd5mZWQHK7i4rxcTx49h/qLfsapiZNb2WDJnJHe3uLjMzK0CLhkybu8vMzArQkiEzcXybry4zMytAS4bM5I42d5eZmRWgJUNmkrvLzMwK0Zoh4+4yM7NCtGTIuLvMzKwYLRkykzra3V1mZlaA1gyZ8W2+GdPMrAAtGTJHu8uyIdDMzCyVlgyZSR1tHAk/gtnMLLXWDJnxbYCH+zczS60lQ2ZyRxYy+3yFmZlZUi0ZMpM63JIxMytCa4aMu8vMzArRkiEzuSN7Vts+X8ZsZpZUS4bMJJ+TMTMrROkhI2mBpM2StkpaWmX5hyVtyF8PSzq/Ytlzkp6U9Likrnr3OW1i1pJ57aBbMmZmKbWXuXNJbcDtwHygG1gnaVVEPFVR7CfAeyJit6SFwHLgkorl8yLipUb2O3VC9rVfPeCQMTNLqeyWzMXA1ojYFhGHgDuBxZUFIuLhiNidTz4KnDrcnU7NWzKvuiVjZpZU2SEzB3ihYro7nzeQjwDfrZgO4D5J6yUtGWglSUskdUnq2rlzJ1PyE/973ZIxM0uq1O4yQFXmVR1QTNI8spD55YrZl0dEj6RZwFpJP46Ih96wwYjlZN1sdHZ2Rts4MaWjzS0ZM7PEym7JdAOnVUyfCvT0LyTpPOArwOKI2HV0fkT05O87gLvJut/qMnViu8/JmJklVnbIrAPmSjpTUgdwDbCqsoCk04G7gOsi4pmK+VMkTTv6GXgfsLHeHU+d0O6WjJlZYqV2l0VEr6SbgTVAG7AiIjZJuilfvgz4NHAi8EVJAL0R0QmcDNydz2sH/jEi7q1331MnjnfImJklVvY5GSJiNbC637xlFZ8/Cny0ynrbgPP7z6/XNLdkzMySK7u7rDRTJ/icjJlZajVbMpKOBxaQXVocZCfm10TEy2mrltbUiW7JmJmlNmhLRtL1wGPAFcBkYAowD1ifLxuzpk5oZ8+Bw2VXw8ysqdVqydwCXNS/1SJpOvBD4KuJ6pXccZOyE/99R4K2cdVu1zEzs+GqdU5GVL858gjVb6QcM6ZPHk8E7HVrxswsmVotmf8BPCbpPo4N/3I62YCWf5WyYqmdMHk8ALv3HeaEyR0l18bMrDkN2pKJiJVAJ/AgcBA4BHwf6IyIO1JXLqUTJmXB8vK+QyXXxMysedW8uiwfAfnOwcpIeiQiLhuxWhXg+Lwl8/J+d5eZmaUyUvfJTByh7RTmhElZyLyyzyFjZpbKSIVM1ZGTR7Oj52HcXWZmlk7L3vF/XP7gst1uyZiZJTNSITPmLmdubxvHtIntvOJzMmZmyYxUyFw3Qtsp1IwpHex6zd1lZmapDHp1maS9ZOdbqt2UeRB4FrglIh5IU720Zk6dwM69B8quhplZ0xo0ZCJi2kDLJLUB5wJfy9/HnFnHTeDH/7637GqYmTWtWgNkdkn6W0kLJP3cZcoR0RcRTwBfSFrDhGZNm8jOPQfLroaZWdOqdU7mUuBuslGYH5S0WtInJb39aIGI+HLC+iU1c9oE9h7sZf+hvrKrYmbWlGp1l/WSDSPzfQBJs4GFwH+XNBd4JCI+lriOycycNgGAHXsP8OYTp5RcGzOz5tPQ1WURsT0iVkTEh4CLyM7HDEveFbdZ0lZJS6ssl6TP58s3SLqw3nVrmZWHzM697jIzM0uhnidjngpcC7wbmA3sBzYC3wG+O5yd5xcP3E42qnM3sE7Sqoh4qqLYQmBu/roE+BJwSZ3rDmr28ZMA+OnL++kczhcxM7Oqal3C/A9kj13+NnArsINsnLK3kz2S+RZJSyPioSHu/2Jga0Rsy/d3J7AYqAyKxcBXIyKARyWdkHfbnVHHuoM6fcZkAJ7ftW/Qcof7jvCN9d1864kentq+h32H+pjYPo5JHW1MGt/GxPFtTBjfRluDt6RK9a/Q6N2uDWwaNbr1hMUbqXe27QaOYcP/f9LUYyh1aWzbDdaloW03WJeGtp2u3tn20229sZ+VxozVn8OjarVkPhsRG6vM3wjcJamD7PkyQzWHY8+pgaxFckkdZebUuS4AkpYASwBOP/1YdSd1tHHKcRN5btdrA1bwJy+9xu/97y6eefFV5s6aysJzZ3P8pPEcONzHgcN97D/cx/5D2XsjooHR3qLBoeEa2naDo84lrUuj9YnX/1NH0bT1bmzbDdaloW03WJeGCo+meo+mfxONbDvdMI8pj+Fwql3rxP/GvFtqZUT8dpXlh4CtQ9991djt/3UGKlPPutnMiOXAcoDOzs6fK/PmEycP2JJ5duer/OayRwD4yvWdXHX2rIb/2jIzawb6w6GtV8/zZPokzZTUkYfKSOoGTquYPhXoqbNMRx3r1nTGiVO4/+kX3zB/z4HDfOSOdQj4p5su4y0zpza6aTOzllfv1WXPAf8q6U8l/ZejrxHY/zpgrqQz8663a4BV/cqsAq7PrzK7FHglIrbXuW5N7zhlGrteO8T2V/b/3Py//NZTvLB7P1++7iIHjJnZENVsyeR68tc4YMChZhoVEb2SbgbWAG3AiojYJOmmfPkyYDWwiKxbbh9w42DrNlqHC988HYDHnn+Z95+XXW229qkX+cb6bj5x5dvoPGPGML+lmVnrqitkIuIvUlUgIlaTBUnlvGUVnwP4eL3rNuqc2ccxoX0c65/fzfvPm82uVw/yx3dt4OzZx/GJK+cOZ9NmZi2v1thlyyW9c4BlUyT9rqQPp6laMTrax3HJW07kvqf+nb4jwZ/c/SR79vfyud86n472ln2mm5nZiKjVkvki8Kd50GwEdpLdJzMXOA5YwQjc9V+2a3/xNH7/a4/x67f9gE09e/jjhWdx1inHlV0tM7Mxr9YlzI8DH5I0Fejk2B3/T0fE5vTVK8aCc0/hty89nW89sZ2b572N//zut5RdJTOzpqDBbg6SNBOY2X+oFkm/AOyIiJ2J6zfiOjs7o6urq+xqmJmNKZLWR0TDI3DVOunwBWBmlfmnAn/b6M7MzKy11AqZd0bEg/1nRsQa4Lw0VTIzs2ZRK2TGD3GZmZlZzZDZImlR/5mSFgLb0lTJzMyaRa1LmD8FfFvSh4D1+bxO4DLgV1NWzMzMxr5BWzIR8QzwTuBBsue3nJF/Pi9fZmZmNqB6RmE+CPzDYGUkPRIRl41YrczMrCmM1LgpE0doO2Zm1kRGKmTSPe7NzMzGLI8AaWZmyYxUyPiZxGZm9gaDnviXtJeBu8IOAs8C/w24boTrZWZmTaDWKMwDPgVTUhtwLvC1iDh3pCtmZmZj35C7yyKiLyKeIBtE08zM7A2GfU4mIr48lPUkzZC0VtKW/H16lTKnSfqepKclbZL0yYplfy7pp5Iez19vGP7GzMzKVebVZUuBByJiLvBAPt1fL/CHEXE2cCnwcUnnVCz/XERckL9Wp6+ymZk1osyQWQyszD+vBD7Qv0BEbI+Ix/LPe4GngTlFVdDMzIanzJA5OSK2QxYmwKzBCks6A3gX8MOK2TdL2iBpRbXutop1l0jqktS1c+eYe5inmdmYlTRkJN0vaWOV1+IGtzMV+CbwBxGxJ5/9JeCtwAXAduCzA60fEcsjojMiOmfOrPagTzMzS6HmAJnDERHvHWiZpBclzY6I7ZJmAzsGKDeeLGC+FhF3VWz7xYoyfwd8e+RqbmZmI6HM7rJVwA355xuAe/oXkCTg74GnI+J/9Vs2u2LyamBjonqamdkQlRkytwLzJW0B5ufTSHqTpKNXil1ONprAlVUuVf6MpCclbQDmkT1gzczMRpGk3WWDiYhdwFVV5vcAi/LPP2CAcdEiwkPZmJmNch6F2czMknHImJlZMg4ZMzNLxiFjZmbJOGTMzCwZh4yZmSXjkDEzs2QcMmZmloxDxszMknHImJlZMg4ZMzNLxiFjZmbJOGTMzCwZh4yZmSXjkDEzs2QcMmZmloxDxszMknHImJlZMqWFjKQZktZK2pK/Tx+g3HOSnpT0uKSuRtc3M7PylNmSWQo8EBFzgQfy6YHMi4gLIqJziOubmVkJygyZxcDK/PNK4AMFr29mZomVGTInR8R2gPx91gDlArhP0npJS4awPpKWSOqS1LVz584Rqr6ZmdXSnnLjku4HTqmy6JYGNnN5RPRImgWslfTjiHiokXpExHJgOUBnZ2c0sq6ZmQ1d0pCJiPcOtEzSi5JmR8R2SbOBHQNsoyd/3yHpbuBi4CGgrvXNzKw8ZXaXrQJuyD/fANzTv4CkKZKmHf0MvA/YWO/6ZmZWrjJD5lZgvqQtwPx8GklvkrQ6L3My8ANJTwA/Ar4TEfcOtr6ZmY0eSbvLBhMRu4CrqszvARbln7cB5zeyvpmZjR6+49/MzJJxyJiZWTIOGTMzS8YhY2ZmyThkzMwsGYeMmZkl45AxM7NkHDJmZpaMQ8bMzJJxyJiZWTIOGTMzS8YhY2ZmyThkzMwsGYeMmZkl45AxM7NkHDJmZpaMQ8bMzJJxyJiZWTKlhYykGZLWStqSv0+vUuYdkh6veO2R9Af5sj+X9NOKZYsK/xJmZjaoMlsyS4EHImIu8EA+/XMiYnNEXBARFwAXAfuAuyuKfO7o8ohYXUSlzcysfmWGzGJgZf55JfCBGuWvAp6NiOdTVsrMzEZOmSFzckRsB8jfZ9Uofw3w9X7zbpa0QdKKat1tZmZWrqQhI+l+SRurvBY3uJ0O4NeBf6qY/SXgrcAFwHbgs4Osv0RSl6SunTt3Nv5FzMxsSNpTbjwi3jvQMkkvSpodEdslzQZ2DLKphcBjEfFixbZf/yzp74BvD1KP5cBygM7OzmjgK5iZ2TCU2V22Crgh/3wDcM8gZa+lX1dZHkxHXQ1sHNHamZnZsJUZMrcC8yVtAebn00h6k6TXrxSTNDlffle/9T8j6UlJG4B5wKeKqbaZmdUraXfZYCJiF9kVY/3n9wCLKqb3ASdWKXdd0gqamdmw+Y5/MzNLxiFjZmbJOGTMzCwZh4yZmSXjkDEzs2QcMmZmloxDxszMknHImJlZMg4ZMzNLxiFjZmbJOGTMzCwZh4yZmSXjkDEzs2QcMmZmloxDxszMknHImJlZMg4ZMzNLxiFjZmbJOGTMzCyZ0kJG0m9K2iTpiKTOQcotkLRZ0lZJSyvmz5C0VtKW/H16MTU3M7N6ldmS2Qj8R+ChgQpIagNuBxYC5wDXSjonX7wUeCAi5gIP5NNmZjaKlBYyEfF0RGyuUexiYGtEbIuIQ8CdwOJ82WJgZf55JfCBJBU1M7Mhay+7AjXMAV6omO4GLsk/nxwR2wEiYrukWQNtRNISYEk+eVDSxhSVHYNOAl4quxKjhI/FMT4Wx/hYHPOOoayUNGQk3Q+cUmXRLRFxTz2bqDIvGq1HRCwHlud16oqIAc8BtRIfi2N8LI7xsTjGx+IYSV1DWS9pyETEe4e5iW7gtIrpU4Ge/POLkmbnrZjZwI5h7svMzEbYaL+EeR0wV9KZkjqAa4BV+bJVwA355xuAelpGZmZWoDIvYb5aUjdwGfAdSWvy+W+StBogInqBm4E1wNPA/42ITfkmbgXmS9oCzM+n67F8BL/GWOdjcYyPxTE+Fsf4WBwzpGOhiIZPcZiZmdVltHeXmZnZGOaQMTOzZJoyZAYaiqZiuSR9Pl++QdKFZdSzCHUciw/nx2CDpIclnV9GPYtQ61hUlPtFSX2SPlhk/YpUz7GQdIWkx/Phnx4suo5FqePfyPGSviXpifxY3FhGPYsgaYWkHQPdSzik350R0VQvoA14FngL0AE8AZzTr8wi4Ltk9+FcCvyw7HqXeCx+CZief17Yyseiotz/A1YDHyy73iX+XJwAPAWcnk/PKrveJR6LPwH+Z/55JvAzoKPsuic6Hv8BuBDYOMDyhn93NmNLZrChaI5aDHw1Mo8CJ+T32jSbmsciIh6OiN355KNk9yI1o3p+LgA+AXyT5r7vqp5j8Z+AuyLi3wAiolmPRz3HIoBpkgRMJQuZ3mKrWYyIeIjs+w2k4d+dzRgy1YaimTOEMs2g0e/5EbK/UppRzWMhaQ5wNbCswHqVoZ6fi7cD0yV9X9J6SdcXVrti1XMsbgPOJrsR/EngkxFxpJjqjToN/+4c7WOXDUU9Q9GMyHA1Y0Dd31PSPLKQ+eWkNSpPPcfib4A/ioi+7I/WplXPsWgHLgKuAiYBj0h6NCKeSV25gtVzLH4FeBy4EngrsFbSv0TEnsR1G40a/t3ZjCEz2FA0jZRpBnV9T0nnAV8BFkbEroLqVrR6jkUncGceMCcBiyT1RsQ/F1LD4tT7b+SliHgNeE3SQ8D5QLOFTD3H4kbg1shOSmyV9BPgLOBHxVRxVGn4d2czdpcNNhTNUauA6/MrJS4FXol8ROcmU/NYSDoduAu4rgn/Sq1U81hExJkRcUZEnAF8A/hYEwYM1Pdv5B7g3ZLaJU0mG/386YLrWYR6jsW/kbXokHQy2WjE2wqt5ejR8O/OpmvJRESvpKND0bQBKyJik6Sb8uXLyK4cWgRsBfaR/aXSdOo8Fp8GTgS+mP8F3xtNOOpsnceiJdRzLCLiaUn3AhuAI8BXIqLpHpFR58/FXwF3SHqSrLvojyKiKYf/l/R14ArgpHzYrz8DxsPQf3d6WBkzM0umGbvLzMxslHDImJlZMg4ZMzNLxiFjZmbJOGTMzCwZh4yZmSXjkDEzs2QcMmajiKQvS7o8f4bJ3fnglE9K+mjZdTMbiqa7499sjLsE+BhwA7A3Ii4CkDSp1FqZDZFbMmYFk/RBSY/mT1r8gaSZ+fyzgWciog94DHiPpC5JfwEcLLPOZkPlkDEr3vci4tKIOB9YC3won78QuFfS8cBngPPInj44j+oPWDMb9RwyZsX7HUk/kvQEWdfYgXz+rwD3Ar8HrImIVyKiF3gEOKWcqpoNj0PGrED5EyYvBq7MWzKbgU35cPonREQP8C5gU8Vq7yJ7IqPZmOOQMSvWO4GHI+JVSb8B/BJZgMwDvpeX2U0WLEh6P3Ac8HAJdTUbNg/1b1YgSeeSPRCsh+zZHDdGxNsl3QZ8IyK+L+lM4P8AE4CfkD08rRmf3GotwCFjNgpIegy4JCIOl10Xs5HkkDEzs2R8TsbMzJJxyJiZWTIOGTMzS8YhY2ZmyThkzMwsGYeMmZkl45AxM7Nk/j8utDQZCFZjegAAAABJRU5ErkJggg==\n",
          "text/plain": "<Figure size 432x288 with 1 Axes>"
         },
         "metadata": {
          "needs_background": "light"
         },
         "output_type": "display_data"
        }
       ]
      }
     },
     "8f3d50455c914df2b5ad8efc259e06cc": {
      "model_module": "@jupyter-widgets/base",
      "model_module_version": "1.2.0",
      "model_name": "LayoutModel",
      "state": {}
     },
     "8f6661b977f8438aa4eeed37a809cefd": {
      "model_module": "@jupyter-widgets/base",
      "model_module_version": "1.2.0",
      "model_name": "LayoutModel",
      "state": {}
     },
     "90b45863c4624a67a7501b02b2f21e54": {
      "model_module": "@jupyter-widgets/base",
      "model_module_version": "1.2.0",
      "model_name": "LayoutModel",
      "state": {}
     },
     "91b95a0fcb2b472891e2534098ac1830": {
      "model_module": "@jupyter-widgets/base",
      "model_module_version": "1.2.0",
      "model_name": "LayoutModel",
      "state": {}
     },
     "92b5c4b1fe5c4b85b5fd6453227bbbad": {
      "model_module": "@jupyter-widgets/controls",
      "model_module_version": "1.5.0",
      "model_name": "FloatSliderModel",
      "state": {
       "description": "t",
       "layout": "IPY_MODEL_b651d0dfff98489da9597565e1c331a1",
       "max": 4,
       "min": 0.1,
       "step": 0.01,
       "style": "IPY_MODEL_f63ced92e4d84551a042c60941c616c4",
       "value": 0.1
      }
     },
     "97b0800467d5442ca30d0ce965da839a": {
      "model_module": "@jupyter-widgets/controls",
      "model_module_version": "1.5.0",
      "model_name": "VBoxModel",
      "state": {
       "_dom_classes": [
        "widget-interact"
       ],
       "children": [
        "IPY_MODEL_9c40f3e970534d98ad33eaeca98084fe",
        "IPY_MODEL_2aa72f10c1b24cf399d48dfaa3bae2e0",
        "IPY_MODEL_4db4c7acd0014bf3ab3ee2b11f3018ea"
       ],
       "layout": "IPY_MODEL_ec92cca8d1144c1db50352f1fb80522c"
      }
     },
     "98db90fee7964af98b5cab8da48daa92": {
      "model_module": "@jupyter-widgets/base",
      "model_module_version": "1.2.0",
      "model_name": "LayoutModel",
      "state": {}
     },
     "999bea4f134e4d5d8a246b9429c9255e": {
      "model_module": "@jupyter-widgets/controls",
      "model_module_version": "1.5.0",
      "model_name": "VBoxModel",
      "state": {
       "_dom_classes": [
        "widget-interact"
       ],
       "children": [
        "IPY_MODEL_3c0752f7609746db8a1b82b1155676fb",
        "IPY_MODEL_d218f0f7f4564daf9faeda62a39c175d",
        "IPY_MODEL_18f630daa69641b1bf31be6983b12e02"
       ],
       "layout": "IPY_MODEL_4fa9ff7c8b7a451f9d9cfea6eb72678d"
      }
     },
     "9c2530a2a5604a0bbfc38b1ca6dea837": {
      "model_module": "@jupyter-widgets/controls",
      "model_module_version": "1.5.0",
      "model_name": "FloatSliderModel",
      "state": {
       "description": "delta",
       "layout": "IPY_MODEL_25fd3f3776be4a16a40b3b03a27b0843",
       "max": 10,
       "min": 0.01,
       "step": 0.1,
       "style": "IPY_MODEL_8a0622e3620547fa92812fcb02a08726",
       "value": 0.01
      }
     },
     "9c40f3e970534d98ad33eaeca98084fe": {
      "model_module": "@jupyter-widgets/controls",
      "model_module_version": "1.5.0",
      "model_name": "FloatSliderModel",
      "state": {
       "description": "t",
       "layout": "IPY_MODEL_a1aa4917a2f345fd9066e066c5e8400b",
       "max": 4,
       "min": 0.1,
       "step": 0.01,
       "style": "IPY_MODEL_2fcaa174aad94b068488ffe237ee9f19",
       "value": 0.1
      }
     },
     "9ea4727233eb41818dbedd54c72839cf": {
      "model_module": "@jupyter-widgets/controls",
      "model_module_version": "1.5.0",
      "model_name": "FloatSliderModel",
      "state": {
       "description": "t",
       "layout": "IPY_MODEL_4e3dfbee024f41d3a8b88c8ced1199dc",
       "max": 4,
       "min": 0.1,
       "step": 0.01,
       "style": "IPY_MODEL_d745a991687f4ddda226350dffae9652",
       "value": 0.1
      }
     },
     "a0a6172ab17c4affadb0445452ccf605": {
      "model_module": "@jupyter-widgets/controls",
      "model_module_version": "1.5.0",
      "model_name": "IntSliderModel",
      "state": {
       "description": "delta",
       "layout": "IPY_MODEL_7db5fd7a6cbd49d5a99b8640476004b0",
       "max": 10,
       "step": 0,
       "style": "IPY_MODEL_cb45601ea9af4b30a4e83e102e6830d4"
      }
     },
     "a0d58274831d48bd947213942a69a493": {
      "model_module": "@jupyter-widgets/controls",
      "model_module_version": "1.5.0",
      "model_name": "VBoxModel",
      "state": {
       "_dom_classes": [
        "widget-interact"
       ],
       "children": [
        "IPY_MODEL_cf26e8f0ed6445578175447719ef33b6",
        "IPY_MODEL_a0a6172ab17c4affadb0445452ccf605",
        "IPY_MODEL_6c5d54bc35554c87af5b85030fcf3d7f"
       ],
       "layout": "IPY_MODEL_3763a239defb407a83b193244f30d628"
      }
     },
     "a1aa4917a2f345fd9066e066c5e8400b": {
      "model_module": "@jupyter-widgets/base",
      "model_module_version": "1.2.0",
      "model_name": "LayoutModel",
      "state": {}
     },
     "a231ef950de944b098b7a5657bcd6096": {
      "model_module": "@jupyter-widgets/controls",
      "model_module_version": "1.5.0",
      "model_name": "FloatSliderModel",
      "state": {
       "description": "delta",
       "layout": "IPY_MODEL_257aaa6e61074574a2f97efc4c369cee",
       "max": 10,
       "min": 0.01,
       "step": 0.01,
       "style": "IPY_MODEL_fef475df371a4278a6e237d0ece76fb7",
       "value": 0.01
      }
     },
     "a237c590851f49ce977a005eb4da4691": {
      "model_module": "@jupyter-widgets/controls",
      "model_module_version": "1.5.0",
      "model_name": "SliderStyleModel",
      "state": {
       "description_width": ""
      }
     },
     "a487dca5ff3d455bac2e18af1c5b6717": {
      "model_module": "@jupyter-widgets/controls",
      "model_module_version": "1.5.0",
      "model_name": "SliderStyleModel",
      "state": {
       "description_width": ""
      }
     },
     "a996271b80094200b19a03dab84f67ff": {
      "model_module": "@jupyter-widgets/base",
      "model_module_version": "1.2.0",
      "model_name": "LayoutModel",
      "state": {}
     },
     "abf8e422f026471fbe67340aac323927": {
      "model_module": "@jupyter-widgets/base",
      "model_module_version": "1.2.0",
      "model_name": "LayoutModel",
      "state": {}
     },
     "ac295979a43c4fa4be63d332f6e94787": {
      "model_module": "@jupyter-widgets/controls",
      "model_module_version": "1.5.0",
      "model_name": "SliderStyleModel",
      "state": {
       "description_width": ""
      }
     },
     "ae9db3a3f5294709b2db4d99f760ed71": {
      "model_module": "@jupyter-widgets/base",
      "model_module_version": "1.2.0",
      "model_name": "LayoutModel",
      "state": {}
     },
     "b2326559dba645ff9f62a3b1495aa0df": {
      "model_module": "@jupyter-widgets/base",
      "model_module_version": "1.2.0",
      "model_name": "LayoutModel",
      "state": {}
     },
     "b2b5fecac1504a078badb4c498825ebc": {
      "model_module": "@jupyter-widgets/base",
      "model_module_version": "1.2.0",
      "model_name": "LayoutModel",
      "state": {}
     },
     "b34668548bf444c691650a93a4ce1f59": {
      "model_module": "@jupyter-widgets/base",
      "model_module_version": "1.2.0",
      "model_name": "LayoutModel",
      "state": {}
     },
     "b5f9f38459884f13a0fbb069c478f041": {
      "model_module": "@jupyter-widgets/controls",
      "model_module_version": "1.5.0",
      "model_name": "IntSliderModel",
      "state": {
       "description": "t",
       "layout": "IPY_MODEL_720b46d6e0ad4db785f0bea29c50302e",
       "max": 4,
       "step": 0,
       "style": "IPY_MODEL_c8a17df3bbbf446fa47ecc25e71dd896"
      }
     },
     "b651d0dfff98489da9597565e1c331a1": {
      "model_module": "@jupyter-widgets/base",
      "model_module_version": "1.2.0",
      "model_name": "LayoutModel",
      "state": {}
     },
     "b738a4e0398f4fcf9e1da40c19265bc9": {
      "model_module": "@jupyter-widgets/base",
      "model_module_version": "1.2.0",
      "model_name": "LayoutModel",
      "state": {}
     },
     "b7edd81448e94f83bb86cfb1f7f9b77c": {
      "model_module": "@jupyter-widgets/controls",
      "model_module_version": "1.5.0",
      "model_name": "SliderStyleModel",
      "state": {
       "description_width": ""
      }
     },
     "b8351b451e654dfe99e47c496aa9dd6b": {
      "model_module": "@jupyter-widgets/base",
      "model_module_version": "1.2.0",
      "model_name": "LayoutModel",
      "state": {}
     },
     "bb6c342b490e472db451b49736c5b7e9": {
      "model_module": "@jupyter-widgets/controls",
      "model_module_version": "1.5.0",
      "model_name": "SliderStyleModel",
      "state": {
       "description_width": ""
      }
     },
     "bc00501ec289417495f8fefda439269c": {
      "model_module": "@jupyter-widgets/controls",
      "model_module_version": "1.5.0",
      "model_name": "FloatSliderModel",
      "state": {
       "description": "t",
       "layout": "IPY_MODEL_637d66c1cd754fbeb7ac920401526898",
       "max": 4,
       "min": 0.1,
       "step": 0.1,
       "style": "IPY_MODEL_c6e8394fc6c34907a4cc7f76929f6f03",
       "value": 0.1
      }
     },
     "bc792efe0ed94ac884ee3f990ad44e19": {
      "model_module": "@jupyter-widgets/controls",
      "model_module_version": "1.5.0",
      "model_name": "SliderStyleModel",
      "state": {
       "description_width": ""
      }
     },
     "be4b625993d54ad8bb0b57f40ecf4503": {
      "model_module": "@jupyter-widgets/base",
      "model_module_version": "1.2.0",
      "model_name": "LayoutModel",
      "state": {}
     },
     "bf12e65bfbb44a1a868a9805146b51c8": {
      "model_module": "@jupyter-widgets/controls",
      "model_module_version": "1.5.0",
      "model_name": "FloatSliderModel",
      "state": {
       "description": "delta",
       "layout": "IPY_MODEL_4e9b383eeff54f5f8f1ddea55bab7158",
       "max": 10,
       "min": 0.01,
       "step": 0.1,
       "style": "IPY_MODEL_df732480c40c417aa6f1d87e37a273b9",
       "value": 0.01
      }
     },
     "bfb1072ec9584847a4a5bbdde14e68b3": {
      "model_module": "@jupyter-widgets/base",
      "model_module_version": "1.2.0",
      "model_name": "LayoutModel",
      "state": {}
     },
     "bfea048905e94f338a5041f29e9c2f47": {
      "model_module": "@jupyter-widgets/controls",
      "model_module_version": "1.5.0",
      "model_name": "SliderStyleModel",
      "state": {
       "description_width": ""
      }
     },
     "c1f02f7a33664098b75f72e11220c7ac": {
      "model_module": "@jupyter-widgets/controls",
      "model_module_version": "1.5.0",
      "model_name": "VBoxModel",
      "state": {
       "_dom_classes": [
        "widget-interact"
       ],
       "children": [
        "IPY_MODEL_5c41a87e4e6e45ea91d57d1838510703",
        "IPY_MODEL_15b59b71d27a42118554854c453be4f8"
       ],
       "layout": "IPY_MODEL_527b3536fdfa4095b58ad4fe52a222da"
      }
     },
     "c489f4adadf746bb9384e95cacc4f6bd": {
      "model_module": "@jupyter-widgets/controls",
      "model_module_version": "1.5.0",
      "model_name": "FloatSliderModel",
      "state": {
       "description": "t",
       "layout": "IPY_MODEL_8f3d50455c914df2b5ad8efc259e06cc",
       "max": 4,
       "min": 0.1,
       "step": 0.01,
       "style": "IPY_MODEL_31da9ecb57e148298b8ad57c7b408cdb",
       "value": 0.63
      }
     },
     "c5574d7d4ecf4295b6a2fb0e2ebf3509": {
      "model_module": "@jupyter-widgets/base",
      "model_module_version": "1.2.0",
      "model_name": "LayoutModel",
      "state": {}
     },
     "c6e8394fc6c34907a4cc7f76929f6f03": {
      "model_module": "@jupyter-widgets/controls",
      "model_module_version": "1.5.0",
      "model_name": "SliderStyleModel",
      "state": {
       "description_width": ""
      }
     },
     "c78a3a5ce4f44ab0af1845be97daae78": {
      "model_module": "@jupyter-widgets/controls",
      "model_module_version": "1.5.0",
      "model_name": "IntSliderModel",
      "state": {
       "description": "delta",
       "layout": "IPY_MODEL_bfb1072ec9584847a4a5bbdde14e68b3",
       "max": 10,
       "step": 0,
       "style": "IPY_MODEL_bfea048905e94f338a5041f29e9c2f47"
      }
     },
     "c8a17df3bbbf446fa47ecc25e71dd896": {
      "model_module": "@jupyter-widgets/controls",
      "model_module_version": "1.5.0",
      "model_name": "SliderStyleModel",
      "state": {
       "description_width": ""
      }
     },
     "cb45601ea9af4b30a4e83e102e6830d4": {
      "model_module": "@jupyter-widgets/controls",
      "model_module_version": "1.5.0",
      "model_name": "SliderStyleModel",
      "state": {
       "description_width": ""
      }
     },
     "cbbc03a8345742bb901f7c4420c1b8e1": {
      "model_module": "@jupyter-widgets/controls",
      "model_module_version": "1.5.0",
      "model_name": "IntSliderModel",
      "state": {
       "description": "t",
       "layout": "IPY_MODEL_6259c4857c29411e8bead572e2a22d16",
       "max": 4,
       "step": 0,
       "style": "IPY_MODEL_65249006626a4044be00b4eb6e7c5cc6"
      }
     },
     "cbce0a030e2c4d1ca4eac37f07c2c631": {
      "model_module": "@jupyter-widgets/controls",
      "model_module_version": "1.5.0",
      "model_name": "VBoxModel",
      "state": {
       "_dom_classes": [
        "widget-interact"
       ],
       "children": [
        "IPY_MODEL_b5f9f38459884f13a0fbb069c478f041",
        "IPY_MODEL_f1727c60c9204a62bf726d0f6e9e2a59",
        "IPY_MODEL_cfcd4d13480c4a7d8159384842d549a8"
       ],
       "layout": "IPY_MODEL_b738a4e0398f4fcf9e1da40c19265bc9"
      }
     },
     "cc56b5c383b44c9082cdb042746e749a": {
      "model_module": "@jupyter-widgets/controls",
      "model_module_version": "1.5.0",
      "model_name": "FloatSliderModel",
      "state": {
       "description": "t",
       "layout": "IPY_MODEL_6850679eb3374edfb662f551e1e9ba19",
       "max": 4,
       "min": 0.1,
       "step": 0.01,
       "style": "IPY_MODEL_ee0c1a35ca914a3a8c51b361a869c8cd",
       "value": 0.1
      }
     },
     "ccf7b490d7344e5c89113b78b31f5ff4": {
      "model_module": "@jupyter-widgets/output",
      "model_module_version": "1.0.0",
      "model_name": "OutputModel",
      "state": {
       "layout": "IPY_MODEL_f41eead00bb1439eb8c918abf97b74a9",
       "outputs": [
        {
         "ename": "AttributeError",
         "evalue": "'list' object has no attribute 'ylim'",
         "output_type": "error",
         "traceback": [
          "\u001b[1;31m---------------------------------------------------------------------------\u001b[0m",
          "\u001b[1;31mAttributeError\u001b[0m                            Traceback (most recent call last)",
          "\u001b[1;32m~\\AppData\\Local\\Continuum\\anaconda3\\lib\\site-packages\\ipywidgets\\widgets\\interaction.py\u001b[0m in \u001b[0;36mupdate\u001b[1;34m(self, *args)\u001b[0m\n\u001b[0;32m    254\u001b[0m                     \u001b[0mvalue\u001b[0m \u001b[1;33m=\u001b[0m \u001b[0mwidget\u001b[0m\u001b[1;33m.\u001b[0m\u001b[0mget_interact_value\u001b[0m\u001b[1;33m(\u001b[0m\u001b[1;33m)\u001b[0m\u001b[1;33m\u001b[0m\u001b[1;33m\u001b[0m\u001b[0m\n\u001b[0;32m    255\u001b[0m                     \u001b[0mself\u001b[0m\u001b[1;33m.\u001b[0m\u001b[0mkwargs\u001b[0m\u001b[1;33m[\u001b[0m\u001b[0mwidget\u001b[0m\u001b[1;33m.\u001b[0m\u001b[0m_kwarg\u001b[0m\u001b[1;33m]\u001b[0m \u001b[1;33m=\u001b[0m \u001b[0mvalue\u001b[0m\u001b[1;33m\u001b[0m\u001b[1;33m\u001b[0m\u001b[0m\n\u001b[1;32m--> 256\u001b[1;33m                 \u001b[0mself\u001b[0m\u001b[1;33m.\u001b[0m\u001b[0mresult\u001b[0m \u001b[1;33m=\u001b[0m \u001b[0mself\u001b[0m\u001b[1;33m.\u001b[0m\u001b[0mf\u001b[0m\u001b[1;33m(\u001b[0m\u001b[1;33m**\u001b[0m\u001b[0mself\u001b[0m\u001b[1;33m.\u001b[0m\u001b[0mkwargs\u001b[0m\u001b[1;33m)\u001b[0m\u001b[1;33m\u001b[0m\u001b[1;33m\u001b[0m\u001b[0m\n\u001b[0m\u001b[0;32m    257\u001b[0m                 \u001b[0mshow_inline_matplotlib_plots\u001b[0m\u001b[1;33m(\u001b[0m\u001b[1;33m)\u001b[0m\u001b[1;33m\u001b[0m\u001b[1;33m\u001b[0m\u001b[0m\n\u001b[0;32m    258\u001b[0m                 \u001b[1;32mif\u001b[0m \u001b[0mself\u001b[0m\u001b[1;33m.\u001b[0m\u001b[0mauto_display\u001b[0m \u001b[1;32mand\u001b[0m \u001b[0mself\u001b[0m\u001b[1;33m.\u001b[0m\u001b[0mresult\u001b[0m \u001b[1;32mis\u001b[0m \u001b[1;32mnot\u001b[0m \u001b[1;32mNone\u001b[0m\u001b[1;33m:\u001b[0m\u001b[1;33m\u001b[0m\u001b[1;33m\u001b[0m\u001b[0m\n",
          "\u001b[1;32m<ipython-input-14-1a82c1991a53>\u001b[0m in \u001b[0;36m<lambda>\u001b[1;34m(t, delta)\u001b[0m\n\u001b[0;32m      1\u001b[0m ipywidgets.interact(\n\u001b[1;32m----> 2\u001b[1;33m     \u001b[1;32mlambda\u001b[0m \u001b[0mt\u001b[0m\u001b[1;33m,\u001b[0m \u001b[0mdelta\u001b[0m\u001b[1;33m:\u001b[0m \u001b[0mplotJc\u001b[0m\u001b[1;33m(\u001b[0m\u001b[0mt\u001b[0m \u001b[1;33m=\u001b[0m \u001b[0mt\u001b[0m\u001b[1;33m,\u001b[0m \u001b[0mdelta\u001b[0m \u001b[1;33m=\u001b[0m \u001b[0mdelta\u001b[0m\u001b[1;33m)\u001b[0m\u001b[1;33m,\u001b[0m\u001b[1;33m\u001b[0m\u001b[1;33m\u001b[0m\u001b[0m\n\u001b[0m\u001b[0;32m      3\u001b[0m     \u001b[0mt\u001b[0m\u001b[1;33m=\u001b[0m\u001b[0mipywidgets\u001b[0m\u001b[1;33m.\u001b[0m\u001b[0mFloatSlider\u001b[0m\u001b[1;33m(\u001b[0m\u001b[0mmin\u001b[0m\u001b[1;33m=\u001b[0m\u001b[1;36m0.1\u001b[0m\u001b[1;33m,\u001b[0m \u001b[0mmax\u001b[0m\u001b[1;33m=\u001b[0m\u001b[1;36m4\u001b[0m\u001b[1;33m,\u001b[0m \u001b[0mstep\u001b[0m\u001b[1;33m=\u001b[0m\u001b[1;36m0.01\u001b[0m\u001b[1;33m,\u001b[0m \u001b[0mvalue\u001b[0m\u001b[1;33m=\u001b[0m\u001b[1;36m0\u001b[0m\u001b[1;33m)\u001b[0m\u001b[1;33m,\u001b[0m \u001b[1;31m# in terms of tau = 2pi/omega\u001b[0m\u001b[1;33m\u001b[0m\u001b[1;33m\u001b[0m\u001b[0m\n\u001b[0;32m      4\u001b[0m     \u001b[0mdelta\u001b[0m\u001b[1;33m=\u001b[0m \u001b[0mipywidgets\u001b[0m\u001b[1;33m.\u001b[0m\u001b[0mFloatSlider\u001b[0m\u001b[1;33m(\u001b[0m\u001b[0mmin\u001b[0m\u001b[1;33m=\u001b[0m\u001b[1;36m0.01\u001b[0m\u001b[1;33m,\u001b[0m \u001b[0mmax\u001b[0m\u001b[1;33m=\u001b[0m\u001b[1;36m10\u001b[0m\u001b[1;33m,\u001b[0m \u001b[0mstep\u001b[0m\u001b[1;33m=\u001b[0m\u001b[1;36m0.1\u001b[0m\u001b[1;33m,\u001b[0m \u001b[0mvalue\u001b[0m\u001b[1;33m=\u001b[0m\u001b[1;36m0.01\u001b[0m\u001b[1;33m)\u001b[0m\u001b[1;33m,\u001b[0m \u001b[1;31m# in terms of a (maximum radius of the wire)\u001b[0m\u001b[1;33m\u001b[0m\u001b[1;33m\u001b[0m\u001b[0m\n\u001b[0;32m      5\u001b[0m );\n",
          "\u001b[1;32m<ipython-input-13-10a537890404>\u001b[0m in \u001b[0;36mplotJc\u001b[1;34m(t, delta, frequency)\u001b[0m\n\u001b[0;32m     14\u001b[0m     \u001b[0mJc_norm\u001b[0m \u001b[1;33m=\u001b[0m \u001b[0mnp\u001b[0m\u001b[1;33m.\u001b[0m\u001b[0mreal\u001b[0m\u001b[1;33m(\u001b[0m\u001b[0mJc_norm\u001b[0m\u001b[1;33m)\u001b[0m\u001b[1;33m\u001b[0m\u001b[1;33m\u001b[0m\u001b[0m\n\u001b[0;32m     15\u001b[0m     \u001b[0mfig\u001b[0m \u001b[1;33m=\u001b[0m \u001b[0mpyplot\u001b[0m\u001b[1;33m.\u001b[0m\u001b[0mplot\u001b[0m\u001b[1;33m(\u001b[0m\u001b[0mx\u001b[0m\u001b[1;33m,\u001b[0m \u001b[0mJc_norm\u001b[0m\u001b[1;33m)\u001b[0m\u001b[1;33m\u001b[0m\u001b[1;33m\u001b[0m\u001b[0m\n\u001b[1;32m---> 16\u001b[1;33m     \u001b[0mfig\u001b[0m\u001b[1;33m.\u001b[0m\u001b[0mylim\u001b[0m\u001b[1;33m(\u001b[0m\u001b[1;33m[\u001b[0m\u001b[1;33m-\u001b[0m\u001b[1;36m1\u001b[0m\u001b[1;33m,\u001b[0m\u001b[1;36m1\u001b[0m\u001b[1;33m]\u001b[0m\u001b[1;33m)\u001b[0m\u001b[1;33m\u001b[0m\u001b[1;33m\u001b[0m\u001b[0m\n\u001b[0m\u001b[0;32m     17\u001b[0m \u001b[1;33m\u001b[0m\u001b[0m\n\u001b[0;32m     18\u001b[0m \u001b[1;33m\u001b[0m\u001b[0m\n",
          "\u001b[1;31mAttributeError\u001b[0m: 'list' object has no attribute 'ylim'"
         ]
        }
       ]
      }
     },
     "cd0e256dd2b2479a8be48e7c89600e06": {
      "model_module": "@jupyter-widgets/base",
      "model_module_version": "1.2.0",
      "model_name": "LayoutModel",
      "state": {}
     },
     "cd685132c4e749efa894aa4757c475f2": {
      "model_module": "@jupyter-widgets/controls",
      "model_module_version": "1.5.0",
      "model_name": "SliderStyleModel",
      "state": {
       "description_width": ""
      }
     },
     "cf26e8f0ed6445578175447719ef33b6": {
      "model_module": "@jupyter-widgets/controls",
      "model_module_version": "1.5.0",
      "model_name": "IntSliderModel",
      "state": {
       "description": "t",
       "layout": "IPY_MODEL_58e85df5a48b4652bf6a958382f3d217",
       "max": 4,
       "step": 0,
       "style": "IPY_MODEL_020242f2d0144d91b9c04da55ea05519"
      }
     },
     "cfcd4d13480c4a7d8159384842d549a8": {
      "model_module": "@jupyter-widgets/output",
      "model_module_version": "1.0.0",
      "model_name": "OutputModel",
      "state": {
       "layout": "IPY_MODEL_be4b625993d54ad8bb0b57f40ecf4503",
       "outputs": [
        {
         "ename": "ZeroDivisionError",
         "evalue": "complex division by zero",
         "output_type": "error",
         "traceback": [
          "\u001b[1;31m---------------------------------------------------------------------------\u001b[0m",
          "\u001b[1;31mZeroDivisionError\u001b[0m                         Traceback (most recent call last)",
          "\u001b[1;32m~\\AppData\\Local\\Continuum\\anaconda3\\lib\\site-packages\\ipywidgets\\widgets\\interaction.py\u001b[0m in \u001b[0;36mupdate\u001b[1;34m(self, *args)\u001b[0m\n\u001b[0;32m    254\u001b[0m                     \u001b[0mvalue\u001b[0m \u001b[1;33m=\u001b[0m \u001b[0mwidget\u001b[0m\u001b[1;33m.\u001b[0m\u001b[0mget_interact_value\u001b[0m\u001b[1;33m(\u001b[0m\u001b[1;33m)\u001b[0m\u001b[1;33m\u001b[0m\u001b[1;33m\u001b[0m\u001b[0m\n\u001b[0;32m    255\u001b[0m                     \u001b[0mself\u001b[0m\u001b[1;33m.\u001b[0m\u001b[0mkwargs\u001b[0m\u001b[1;33m[\u001b[0m\u001b[0mwidget\u001b[0m\u001b[1;33m.\u001b[0m\u001b[0m_kwarg\u001b[0m\u001b[1;33m]\u001b[0m \u001b[1;33m=\u001b[0m \u001b[0mvalue\u001b[0m\u001b[1;33m\u001b[0m\u001b[1;33m\u001b[0m\u001b[0m\n\u001b[1;32m--> 256\u001b[1;33m                 \u001b[0mself\u001b[0m\u001b[1;33m.\u001b[0m\u001b[0mresult\u001b[0m \u001b[1;33m=\u001b[0m \u001b[0mself\u001b[0m\u001b[1;33m.\u001b[0m\u001b[0mf\u001b[0m\u001b[1;33m(\u001b[0m\u001b[1;33m**\u001b[0m\u001b[0mself\u001b[0m\u001b[1;33m.\u001b[0m\u001b[0mkwargs\u001b[0m\u001b[1;33m)\u001b[0m\u001b[1;33m\u001b[0m\u001b[1;33m\u001b[0m\u001b[0m\n\u001b[0m\u001b[0;32m    257\u001b[0m                 \u001b[0mshow_inline_matplotlib_plots\u001b[0m\u001b[1;33m(\u001b[0m\u001b[1;33m)\u001b[0m\u001b[1;33m\u001b[0m\u001b[1;33m\u001b[0m\u001b[0m\n\u001b[0;32m    258\u001b[0m                 \u001b[1;32mif\u001b[0m \u001b[0mself\u001b[0m\u001b[1;33m.\u001b[0m\u001b[0mauto_display\u001b[0m \u001b[1;32mand\u001b[0m \u001b[0mself\u001b[0m\u001b[1;33m.\u001b[0m\u001b[0mresult\u001b[0m \u001b[1;32mis\u001b[0m \u001b[1;32mnot\u001b[0m \u001b[1;32mNone\u001b[0m\u001b[1;33m:\u001b[0m\u001b[1;33m\u001b[0m\u001b[1;33m\u001b[0m\u001b[0m\n",
          "\u001b[1;32m<ipython-input-8-9ca78cf28e64>\u001b[0m in \u001b[0;36m<lambda>\u001b[1;34m(t, delta)\u001b[0m\n\u001b[0;32m      1\u001b[0m ipywidgets.interact(\n\u001b[1;32m----> 2\u001b[1;33m     \u001b[1;32mlambda\u001b[0m \u001b[0mt\u001b[0m\u001b[1;33m,\u001b[0m \u001b[0mdelta\u001b[0m\u001b[1;33m:\u001b[0m \u001b[0mplotJc\u001b[0m\u001b[1;33m(\u001b[0m\u001b[0mt\u001b[0m \u001b[1;33m=\u001b[0m \u001b[0mt\u001b[0m\u001b[1;33m,\u001b[0m \u001b[0mdelta\u001b[0m \u001b[1;33m=\u001b[0m \u001b[0mdelta\u001b[0m\u001b[1;33m)\u001b[0m\u001b[1;33m,\u001b[0m\u001b[1;33m\u001b[0m\u001b[1;33m\u001b[0m\u001b[0m\n\u001b[0m\u001b[0;32m      3\u001b[0m     \u001b[0mt\u001b[0m\u001b[1;33m=\u001b[0m\u001b[0mipywidgets\u001b[0m\u001b[1;33m.\u001b[0m\u001b[0mIntSlider\u001b[0m\u001b[1;33m(\u001b[0m\u001b[0mmin\u001b[0m\u001b[1;33m=\u001b[0m\u001b[1;36m0.1\u001b[0m\u001b[1;33m,\u001b[0m \u001b[0mmax\u001b[0m\u001b[1;33m=\u001b[0m\u001b[1;36m4\u001b[0m\u001b[1;33m,\u001b[0m \u001b[0mstep\u001b[0m\u001b[1;33m=\u001b[0m\u001b[1;36m0.01\u001b[0m\u001b[1;33m,\u001b[0m \u001b[0mvalue\u001b[0m\u001b[1;33m=\u001b[0m\u001b[1;36m0\u001b[0m\u001b[1;33m)\u001b[0m\u001b[1;33m,\u001b[0m \u001b[1;31m# in terms of tau = 2pi/omega\u001b[0m\u001b[1;33m\u001b[0m\u001b[1;33m\u001b[0m\u001b[0m\n\u001b[0;32m      4\u001b[0m     \u001b[0mdelta\u001b[0m\u001b[1;33m=\u001b[0m \u001b[0mipywidgets\u001b[0m\u001b[1;33m.\u001b[0m\u001b[0mIntSlider\u001b[0m\u001b[1;33m(\u001b[0m\u001b[0mmin\u001b[0m\u001b[1;33m=\u001b[0m\u001b[1;36m0.01\u001b[0m\u001b[1;33m,\u001b[0m \u001b[0mmax\u001b[0m\u001b[1;33m=\u001b[0m\u001b[1;36m10\u001b[0m\u001b[1;33m,\u001b[0m \u001b[0mstep\u001b[0m\u001b[1;33m=\u001b[0m\u001b[1;36m0.1\u001b[0m\u001b[1;33m,\u001b[0m \u001b[0mvalue\u001b[0m\u001b[1;33m=\u001b[0m\u001b[1;36m0.01\u001b[0m\u001b[1;33m)\u001b[0m\u001b[1;33m,\u001b[0m \u001b[1;31m# in terms of a (maximum radius of the wire)\u001b[0m\u001b[1;33m\u001b[0m\u001b[1;33m\u001b[0m\u001b[0m\n\u001b[0;32m      5\u001b[0m );\n",
          "\u001b[1;32m<ipython-input-2-227cddc88f4b>\u001b[0m in \u001b[0;36mplotJc\u001b[1;34m(t, delta, frequency)\u001b[0m\n\u001b[0;32m     11\u001b[0m \u001b[1;33m\u001b[0m\u001b[0m\n\u001b[0;32m     12\u001b[0m     \u001b[0mphasefactor\u001b[0m \u001b[1;33m=\u001b[0m \u001b[0mnp\u001b[0m\u001b[1;33m.\u001b[0m\u001b[0mexp\u001b[0m\u001b[1;33m(\u001b[0m\u001b[1;33m-\u001b[0m \u001b[1;36m1j\u001b[0m \u001b[1;33m*\u001b[0m \u001b[0mt\u001b[0m\u001b[1;33m)\u001b[0m \u001b[1;31m# am I correct to add a minus sign here?\u001b[0m\u001b[1;33m\u001b[0m\u001b[1;33m\u001b[0m\u001b[0m\n\u001b[1;32m---> 13\u001b[1;33m     \u001b[0mj0\u001b[0m \u001b[1;33m=\u001b[0m \u001b[0mbessel\u001b[0m\u001b[1;33m(\u001b[0m\u001b[1;36m0\u001b[0m\u001b[1;33m,\u001b[0m \u001b[1;33m(\u001b[0m\u001b[1;36m1\u001b[0m \u001b[1;33m+\u001b[0m \u001b[1;36m1j\u001b[0m\u001b[1;33m)\u001b[0m \u001b[1;33m*\u001b[0m \u001b[1;36m1\u001b[0m\u001b[1;33m/\u001b[0m \u001b[0mdelta\u001b[0m\u001b[1;33m)\u001b[0m \u001b[1;31m# here j0 = jc(x = 0) as in the worksheet)\u001b[0m\u001b[1;33m\u001b[0m\u001b[1;33m\u001b[0m\u001b[0m\n\u001b[0m\u001b[0;32m     14\u001b[0m     \u001b[0mJc_norm\u001b[0m \u001b[1;33m=\u001b[0m \u001b[0mbessel\u001b[0m\u001b[1;33m(\u001b[0m\u001b[1;36m0\u001b[0m\u001b[1;33m,\u001b[0m \u001b[1;33m(\u001b[0m\u001b[1;36m1\u001b[0m \u001b[1;33m+\u001b[0m \u001b[1;36m1j\u001b[0m\u001b[1;33m)\u001b[0m \u001b[1;33m*\u001b[0m \u001b[1;33m(\u001b[0m\u001b[0ma\u001b[0m \u001b[1;33m-\u001b[0m \u001b[0mx\u001b[0m\u001b[1;33m)\u001b[0m \u001b[1;33m/\u001b[0m \u001b[0mdelta\u001b[0m\u001b[1;33m)\u001b[0m \u001b[1;33m*\u001b[0m \u001b[0mphasefactor\u001b[0m \u001b[1;33m/\u001b[0m \u001b[0mj0\u001b[0m \u001b[1;31m# it is more common to calculate Jc in terms of r, except when making the approximation in this worksheet for clarity have written this expression in terms of x\u001b[0m\u001b[1;33m\u001b[0m\u001b[1;33m\u001b[0m\u001b[0m\n\u001b[0;32m     15\u001b[0m     \u001b[0mJc_norm\u001b[0m \u001b[1;33m=\u001b[0m \u001b[0mnp\u001b[0m\u001b[1;33m.\u001b[0m\u001b[0mreal\u001b[0m\u001b[1;33m(\u001b[0m\u001b[0mJc_norm\u001b[0m\u001b[1;33m)\u001b[0m\u001b[1;33m\u001b[0m\u001b[1;33m\u001b[0m\u001b[0m\n",
          "\u001b[1;31mZeroDivisionError\u001b[0m: complex division by zero"
         ]
        }
       ]
      }
     },
     "d041ba853eaf4d1a90d97c3376d70622": {
      "model_module": "@jupyter-widgets/controls",
      "model_module_version": "1.5.0",
      "model_name": "SliderStyleModel",
      "state": {
       "description_width": ""
      }
     },
     "d218f0f7f4564daf9faeda62a39c175d": {
      "model_module": "@jupyter-widgets/controls",
      "model_module_version": "1.5.0",
      "model_name": "FloatSliderModel",
      "state": {
       "description": "delta",
       "layout": "IPY_MODEL_a996271b80094200b19a03dab84f67ff",
       "max": 10,
       "min": 0.01,
       "step": 0.1,
       "style": "IPY_MODEL_ac295979a43c4fa4be63d332f6e94787",
       "value": 0.01
      }
     },
     "d21f6ebfc1d6448cb1d028be40c1e0a1": {
      "model_module": "@jupyter-widgets/controls",
      "model_module_version": "1.5.0",
      "model_name": "VBoxModel",
      "state": {
       "_dom_classes": [
        "widget-interact"
       ],
       "children": [
        "IPY_MODEL_9ea4727233eb41818dbedd54c72839cf",
        "IPY_MODEL_06eb7cd554754433a8d4b2bc59ab973e",
        "IPY_MODEL_33c158cc229e4c18b208a5b1d23dd5de"
       ],
       "layout": "IPY_MODEL_291a58287ab64dc7a77396770e20cf97"
      }
     },
     "d335257779bf445e80e5c50ce07f5c05": {
      "model_module": "@jupyter-widgets/output",
      "model_module_version": "1.0.0",
      "model_name": "OutputModel",
      "state": {
       "layout": "IPY_MODEL_abf8e422f026471fbe67340aac323927",
       "outputs": [
        {
         "data": {
          "image/png": "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\n",
          "text/plain": "<Figure size 432x288 with 1 Axes>"
         },
         "metadata": {
          "needs_background": "light"
         },
         "output_type": "display_data"
        }
       ]
      }
     },
     "d745a991687f4ddda226350dffae9652": {
      "model_module": "@jupyter-widgets/controls",
      "model_module_version": "1.5.0",
      "model_name": "SliderStyleModel",
      "state": {
       "description_width": ""
      }
     },
     "d762387112da4b6993cffb030c837cf5": {
      "model_module": "@jupyter-widgets/output",
      "model_module_version": "1.0.0",
      "model_name": "OutputModel",
      "state": {
       "layout": "IPY_MODEL_18532246ee7e4a69afc6ddfa2c633c7d",
       "outputs": [
        {
         "data": {
          "image/png": "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\n",
          "text/plain": "<Figure size 432x288 with 1 Axes>"
         },
         "metadata": {
          "needs_background": "light"
         },
         "output_type": "display_data"
        }
       ]
      }
     },
     "dc360a0828f047e381d328b5a149f50d": {
      "model_module": "@jupyter-widgets/output",
      "model_module_version": "1.0.0",
      "model_name": "OutputModel",
      "state": {
       "layout": "IPY_MODEL_238655aa79e745639611acb9c8ec6090",
       "outputs": [
        {
         "ename": "ZeroDivisionError",
         "evalue": "complex division by zero",
         "output_type": "error",
         "traceback": [
          "\u001b[1;31m---------------------------------------------------------------------------\u001b[0m",
          "\u001b[1;31mZeroDivisionError\u001b[0m                         Traceback (most recent call last)",
          "\u001b[1;32m~\\AppData\\Local\\Continuum\\anaconda3\\lib\\site-packages\\ipywidgets\\widgets\\interaction.py\u001b[0m in \u001b[0;36mupdate\u001b[1;34m(self, *args)\u001b[0m\n\u001b[0;32m    254\u001b[0m                     \u001b[0mvalue\u001b[0m \u001b[1;33m=\u001b[0m \u001b[0mwidget\u001b[0m\u001b[1;33m.\u001b[0m\u001b[0mget_interact_value\u001b[0m\u001b[1;33m(\u001b[0m\u001b[1;33m)\u001b[0m\u001b[1;33m\u001b[0m\u001b[1;33m\u001b[0m\u001b[0m\n\u001b[0;32m    255\u001b[0m                     \u001b[0mself\u001b[0m\u001b[1;33m.\u001b[0m\u001b[0mkwargs\u001b[0m\u001b[1;33m[\u001b[0m\u001b[0mwidget\u001b[0m\u001b[1;33m.\u001b[0m\u001b[0m_kwarg\u001b[0m\u001b[1;33m]\u001b[0m \u001b[1;33m=\u001b[0m \u001b[0mvalue\u001b[0m\u001b[1;33m\u001b[0m\u001b[1;33m\u001b[0m\u001b[0m\n\u001b[1;32m--> 256\u001b[1;33m                 \u001b[0mself\u001b[0m\u001b[1;33m.\u001b[0m\u001b[0mresult\u001b[0m \u001b[1;33m=\u001b[0m \u001b[0mself\u001b[0m\u001b[1;33m.\u001b[0m\u001b[0mf\u001b[0m\u001b[1;33m(\u001b[0m\u001b[1;33m**\u001b[0m\u001b[0mself\u001b[0m\u001b[1;33m.\u001b[0m\u001b[0mkwargs\u001b[0m\u001b[1;33m)\u001b[0m\u001b[1;33m\u001b[0m\u001b[1;33m\u001b[0m\u001b[0m\n\u001b[0m\u001b[0;32m    257\u001b[0m                 \u001b[0mshow_inline_matplotlib_plots\u001b[0m\u001b[1;33m(\u001b[0m\u001b[1;33m)\u001b[0m\u001b[1;33m\u001b[0m\u001b[1;33m\u001b[0m\u001b[0m\n\u001b[0;32m    258\u001b[0m                 \u001b[1;32mif\u001b[0m \u001b[0mself\u001b[0m\u001b[1;33m.\u001b[0m\u001b[0mauto_display\u001b[0m \u001b[1;32mand\u001b[0m \u001b[0mself\u001b[0m\u001b[1;33m.\u001b[0m\u001b[0mresult\u001b[0m \u001b[1;32mis\u001b[0m \u001b[1;32mnot\u001b[0m \u001b[1;32mNone\u001b[0m\u001b[1;33m:\u001b[0m\u001b[1;33m\u001b[0m\u001b[1;33m\u001b[0m\u001b[0m\n",
          "\u001b[1;32m<ipython-input-5-910a49034146>\u001b[0m in \u001b[0;36m<lambda>\u001b[1;34m(t, delta)\u001b[0m\n\u001b[0;32m      1\u001b[0m ipywidgets.interact(\n\u001b[1;32m----> 2\u001b[1;33m     \u001b[1;32mlambda\u001b[0m \u001b[0mt\u001b[0m\u001b[1;33m,\u001b[0m \u001b[0mdelta\u001b[0m\u001b[1;33m:\u001b[0m \u001b[0mplotJc\u001b[0m\u001b[1;33m(\u001b[0m\u001b[0mt\u001b[0m \u001b[1;33m=\u001b[0m \u001b[0mt\u001b[0m\u001b[1;33m,\u001b[0m \u001b[0mdelta\u001b[0m \u001b[1;33m=\u001b[0m \u001b[0mdelta\u001b[0m\u001b[1;33m)\u001b[0m\u001b[1;33m,\u001b[0m\u001b[1;33m\u001b[0m\u001b[1;33m\u001b[0m\u001b[0m\n\u001b[0m\u001b[0;32m      3\u001b[0m     \u001b[0mt\u001b[0m\u001b[1;33m=\u001b[0m\u001b[0mipywidgets\u001b[0m\u001b[1;33m.\u001b[0m\u001b[0mIntSlider\u001b[0m\u001b[1;33m(\u001b[0m\u001b[0mmin\u001b[0m\u001b[1;33m=\u001b[0m\u001b[1;36m0\u001b[0m\u001b[1;33m,\u001b[0m \u001b[0mmax\u001b[0m\u001b[1;33m=\u001b[0m\u001b[1;36m4\u001b[0m\u001b[1;33m,\u001b[0m \u001b[0mstep\u001b[0m\u001b[1;33m=\u001b[0m\u001b[1;36m0.01\u001b[0m\u001b[1;33m,\u001b[0m \u001b[0mvalue\u001b[0m\u001b[1;33m=\u001b[0m\u001b[1;36m0\u001b[0m\u001b[1;33m)\u001b[0m\u001b[1;33m,\u001b[0m \u001b[1;31m# in terms of tau = 2pi/omega\u001b[0m\u001b[1;33m\u001b[0m\u001b[1;33m\u001b[0m\u001b[0m\n\u001b[0;32m      4\u001b[0m     \u001b[0mdelta\u001b[0m\u001b[1;33m=\u001b[0m \u001b[0mipywidgets\u001b[0m\u001b[1;33m.\u001b[0m\u001b[0mIntSlider\u001b[0m\u001b[1;33m(\u001b[0m\u001b[0mmin\u001b[0m\u001b[1;33m=\u001b[0m\u001b[1;36m0.01\u001b[0m\u001b[1;33m,\u001b[0m \u001b[0mmax\u001b[0m\u001b[1;33m=\u001b[0m\u001b[1;36m10\u001b[0m\u001b[1;33m,\u001b[0m \u001b[0mstep\u001b[0m\u001b[1;33m=\u001b[0m\u001b[1;36m0.01\u001b[0m\u001b[1;33m,\u001b[0m \u001b[0mvalue\u001b[0m\u001b[1;33m=\u001b[0m\u001b[1;36m0.01\u001b[0m\u001b[1;33m)\u001b[0m\u001b[1;33m,\u001b[0m \u001b[1;31m# in terms of a (maximum radius of the wire)\u001b[0m\u001b[1;33m\u001b[0m\u001b[1;33m\u001b[0m\u001b[0m\n\u001b[0;32m      5\u001b[0m );\n",
          "\u001b[1;32m<ipython-input-2-227cddc88f4b>\u001b[0m in \u001b[0;36mplotJc\u001b[1;34m(t, delta, frequency)\u001b[0m\n\u001b[0;32m     11\u001b[0m \u001b[1;33m\u001b[0m\u001b[0m\n\u001b[0;32m     12\u001b[0m     \u001b[0mphasefactor\u001b[0m \u001b[1;33m=\u001b[0m \u001b[0mnp\u001b[0m\u001b[1;33m.\u001b[0m\u001b[0mexp\u001b[0m\u001b[1;33m(\u001b[0m\u001b[1;33m-\u001b[0m \u001b[1;36m1j\u001b[0m \u001b[1;33m*\u001b[0m \u001b[0mt\u001b[0m\u001b[1;33m)\u001b[0m \u001b[1;31m# am I correct to add a minus sign here?\u001b[0m\u001b[1;33m\u001b[0m\u001b[1;33m\u001b[0m\u001b[0m\n\u001b[1;32m---> 13\u001b[1;33m     \u001b[0mj0\u001b[0m \u001b[1;33m=\u001b[0m \u001b[0mbessel\u001b[0m\u001b[1;33m(\u001b[0m\u001b[1;36m0\u001b[0m\u001b[1;33m,\u001b[0m \u001b[1;33m(\u001b[0m\u001b[1;36m1\u001b[0m \u001b[1;33m+\u001b[0m \u001b[1;36m1j\u001b[0m\u001b[1;33m)\u001b[0m \u001b[1;33m*\u001b[0m \u001b[1;36m1\u001b[0m\u001b[1;33m/\u001b[0m \u001b[0mdelta\u001b[0m\u001b[1;33m)\u001b[0m \u001b[1;31m# here j0 = jc(x = 0) as in the worksheet)\u001b[0m\u001b[1;33m\u001b[0m\u001b[1;33m\u001b[0m\u001b[0m\n\u001b[0m\u001b[0;32m     14\u001b[0m     \u001b[0mJc_norm\u001b[0m \u001b[1;33m=\u001b[0m \u001b[0mbessel\u001b[0m\u001b[1;33m(\u001b[0m\u001b[1;36m0\u001b[0m\u001b[1;33m,\u001b[0m \u001b[1;33m(\u001b[0m\u001b[1;36m1\u001b[0m \u001b[1;33m+\u001b[0m \u001b[1;36m1j\u001b[0m\u001b[1;33m)\u001b[0m \u001b[1;33m*\u001b[0m \u001b[1;33m(\u001b[0m\u001b[0ma\u001b[0m \u001b[1;33m-\u001b[0m \u001b[0mx\u001b[0m\u001b[1;33m)\u001b[0m \u001b[1;33m/\u001b[0m \u001b[0mdelta\u001b[0m\u001b[1;33m)\u001b[0m \u001b[1;33m*\u001b[0m \u001b[0mphasefactor\u001b[0m \u001b[1;33m/\u001b[0m \u001b[0mj0\u001b[0m \u001b[1;31m# it is more common to calculate Jc in terms of r, except when making the approximation in this worksheet for clarity have written this expression in terms of x\u001b[0m\u001b[1;33m\u001b[0m\u001b[1;33m\u001b[0m\u001b[0m\n\u001b[0;32m     15\u001b[0m     \u001b[0mJc_norm\u001b[0m \u001b[1;33m=\u001b[0m \u001b[0mnp\u001b[0m\u001b[1;33m.\u001b[0m\u001b[0mreal\u001b[0m\u001b[1;33m(\u001b[0m\u001b[0mJc_norm\u001b[0m\u001b[1;33m)\u001b[0m\u001b[1;33m\u001b[0m\u001b[1;33m\u001b[0m\u001b[0m\n",
          "\u001b[1;31mZeroDivisionError\u001b[0m: complex division by zero"
         ]
        }
       ]
      }
     },
     "df732480c40c417aa6f1d87e37a273b9": {
      "model_module": "@jupyter-widgets/controls",
      "model_module_version": "1.5.0",
      "model_name": "SliderStyleModel",
      "state": {
       "description_width": ""
      }
     },
     "e094e25d04694100bc1bd3c6b7067f62": {
      "model_module": "@jupyter-widgets/output",
      "model_module_version": "1.0.0",
      "model_name": "OutputModel",
      "state": {
       "layout": "IPY_MODEL_f2174bc768da4116919dc3cc30cb6e69",
       "outputs": [
        {
         "ename": "AttributeError",
         "evalue": "'list' object has no attribute 'ylim'",
         "output_type": "error",
         "traceback": [
          "\u001b[1;31m---------------------------------------------------------------------------\u001b[0m",
          "\u001b[1;31mAttributeError\u001b[0m                            Traceback (most recent call last)",
          "\u001b[1;32m~\\AppData\\Local\\Continuum\\anaconda3\\lib\\site-packages\\ipywidgets\\widgets\\interaction.py\u001b[0m in \u001b[0;36mupdate\u001b[1;34m(self, *args)\u001b[0m\n\u001b[0;32m    254\u001b[0m                     \u001b[0mvalue\u001b[0m \u001b[1;33m=\u001b[0m \u001b[0mwidget\u001b[0m\u001b[1;33m.\u001b[0m\u001b[0mget_interact_value\u001b[0m\u001b[1;33m(\u001b[0m\u001b[1;33m)\u001b[0m\u001b[1;33m\u001b[0m\u001b[1;33m\u001b[0m\u001b[0m\n\u001b[0;32m    255\u001b[0m                     \u001b[0mself\u001b[0m\u001b[1;33m.\u001b[0m\u001b[0mkwargs\u001b[0m\u001b[1;33m[\u001b[0m\u001b[0mwidget\u001b[0m\u001b[1;33m.\u001b[0m\u001b[0m_kwarg\u001b[0m\u001b[1;33m]\u001b[0m \u001b[1;33m=\u001b[0m \u001b[0mvalue\u001b[0m\u001b[1;33m\u001b[0m\u001b[1;33m\u001b[0m\u001b[0m\n\u001b[1;32m--> 256\u001b[1;33m                 \u001b[0mself\u001b[0m\u001b[1;33m.\u001b[0m\u001b[0mresult\u001b[0m \u001b[1;33m=\u001b[0m \u001b[0mself\u001b[0m\u001b[1;33m.\u001b[0m\u001b[0mf\u001b[0m\u001b[1;33m(\u001b[0m\u001b[1;33m**\u001b[0m\u001b[0mself\u001b[0m\u001b[1;33m.\u001b[0m\u001b[0mkwargs\u001b[0m\u001b[1;33m)\u001b[0m\u001b[1;33m\u001b[0m\u001b[1;33m\u001b[0m\u001b[0m\n\u001b[0m\u001b[0;32m    257\u001b[0m                 \u001b[0mshow_inline_matplotlib_plots\u001b[0m\u001b[1;33m(\u001b[0m\u001b[1;33m)\u001b[0m\u001b[1;33m\u001b[0m\u001b[1;33m\u001b[0m\u001b[0m\n\u001b[0;32m    258\u001b[0m                 \u001b[1;32mif\u001b[0m \u001b[0mself\u001b[0m\u001b[1;33m.\u001b[0m\u001b[0mauto_display\u001b[0m \u001b[1;32mand\u001b[0m \u001b[0mself\u001b[0m\u001b[1;33m.\u001b[0m\u001b[0mresult\u001b[0m \u001b[1;32mis\u001b[0m \u001b[1;32mnot\u001b[0m \u001b[1;32mNone\u001b[0m\u001b[1;33m:\u001b[0m\u001b[1;33m\u001b[0m\u001b[1;33m\u001b[0m\u001b[0m\n",
          "\u001b[1;32m<ipython-input-16-1a82c1991a53>\u001b[0m in \u001b[0;36m<lambda>\u001b[1;34m(t, delta)\u001b[0m\n\u001b[0;32m      1\u001b[0m ipywidgets.interact(\n\u001b[1;32m----> 2\u001b[1;33m     \u001b[1;32mlambda\u001b[0m \u001b[0mt\u001b[0m\u001b[1;33m,\u001b[0m \u001b[0mdelta\u001b[0m\u001b[1;33m:\u001b[0m \u001b[0mplotJc\u001b[0m\u001b[1;33m(\u001b[0m\u001b[0mt\u001b[0m \u001b[1;33m=\u001b[0m \u001b[0mt\u001b[0m\u001b[1;33m,\u001b[0m \u001b[0mdelta\u001b[0m \u001b[1;33m=\u001b[0m \u001b[0mdelta\u001b[0m\u001b[1;33m)\u001b[0m\u001b[1;33m,\u001b[0m\u001b[1;33m\u001b[0m\u001b[1;33m\u001b[0m\u001b[0m\n\u001b[0m\u001b[0;32m      3\u001b[0m     \u001b[0mt\u001b[0m\u001b[1;33m=\u001b[0m\u001b[0mipywidgets\u001b[0m\u001b[1;33m.\u001b[0m\u001b[0mFloatSlider\u001b[0m\u001b[1;33m(\u001b[0m\u001b[0mmin\u001b[0m\u001b[1;33m=\u001b[0m\u001b[1;36m0.1\u001b[0m\u001b[1;33m,\u001b[0m \u001b[0mmax\u001b[0m\u001b[1;33m=\u001b[0m\u001b[1;36m4\u001b[0m\u001b[1;33m,\u001b[0m \u001b[0mstep\u001b[0m\u001b[1;33m=\u001b[0m\u001b[1;36m0.01\u001b[0m\u001b[1;33m,\u001b[0m \u001b[0mvalue\u001b[0m\u001b[1;33m=\u001b[0m\u001b[1;36m0\u001b[0m\u001b[1;33m)\u001b[0m\u001b[1;33m,\u001b[0m \u001b[1;31m# in terms of tau = 2pi/omega\u001b[0m\u001b[1;33m\u001b[0m\u001b[1;33m\u001b[0m\u001b[0m\n\u001b[0;32m      4\u001b[0m     \u001b[0mdelta\u001b[0m\u001b[1;33m=\u001b[0m \u001b[0mipywidgets\u001b[0m\u001b[1;33m.\u001b[0m\u001b[0mFloatSlider\u001b[0m\u001b[1;33m(\u001b[0m\u001b[0mmin\u001b[0m\u001b[1;33m=\u001b[0m\u001b[1;36m0.01\u001b[0m\u001b[1;33m,\u001b[0m \u001b[0mmax\u001b[0m\u001b[1;33m=\u001b[0m\u001b[1;36m10\u001b[0m\u001b[1;33m,\u001b[0m \u001b[0mstep\u001b[0m\u001b[1;33m=\u001b[0m\u001b[1;36m0.1\u001b[0m\u001b[1;33m,\u001b[0m \u001b[0mvalue\u001b[0m\u001b[1;33m=\u001b[0m\u001b[1;36m0.01\u001b[0m\u001b[1;33m)\u001b[0m\u001b[1;33m,\u001b[0m \u001b[1;31m# in terms of a (maximum radius of the wire)\u001b[0m\u001b[1;33m\u001b[0m\u001b[1;33m\u001b[0m\u001b[0m\n\u001b[0;32m      5\u001b[0m );\n",
          "\u001b[1;32m<ipython-input-15-30f6860c70ba>\u001b[0m in \u001b[0;36mplotJc\u001b[1;34m(t, delta, frequency)\u001b[0m\n\u001b[0;32m     14\u001b[0m     \u001b[0mJc_norm\u001b[0m \u001b[1;33m=\u001b[0m \u001b[0mnp\u001b[0m\u001b[1;33m.\u001b[0m\u001b[0mreal\u001b[0m\u001b[1;33m(\u001b[0m\u001b[0mJc_norm\u001b[0m\u001b[1;33m)\u001b[0m\u001b[1;33m\u001b[0m\u001b[1;33m\u001b[0m\u001b[0m\n\u001b[0;32m     15\u001b[0m     \u001b[0mfig\u001b[0m \u001b[1;33m=\u001b[0m \u001b[0mpyplot\u001b[0m\u001b[1;33m.\u001b[0m\u001b[0mplot\u001b[0m\u001b[1;33m(\u001b[0m\u001b[0mx\u001b[0m\u001b[1;33m,\u001b[0m \u001b[0mJc_norm\u001b[0m\u001b[1;33m)\u001b[0m\u001b[1;33m\u001b[0m\u001b[1;33m\u001b[0m\u001b[0m\n\u001b[1;32m---> 16\u001b[1;33m     \u001b[0mfig\u001b[0m\u001b[1;33m.\u001b[0m\u001b[0mylim\u001b[0m\u001b[1;33m(\u001b[0m\u001b[1;33m-\u001b[0m\u001b[1;36m1\u001b[0m\u001b[1;33m,\u001b[0m\u001b[1;36m1\u001b[0m\u001b[1;33m)\u001b[0m\u001b[1;33m\u001b[0m\u001b[1;33m\u001b[0m\u001b[0m\n\u001b[0m\u001b[0;32m     17\u001b[0m \u001b[1;33m\u001b[0m\u001b[0m\n\u001b[0;32m     18\u001b[0m \u001b[1;33m\u001b[0m\u001b[0m\n",
          "\u001b[1;31mAttributeError\u001b[0m: 'list' object has no attribute 'ylim'"
         ]
        }
       ]
      }
     },
     "e5bd8bd4d24340eb861001f2d53e8ab5": {
      "model_module": "@jupyter-widgets/controls",
      "model_module_version": "1.5.0",
      "model_name": "SliderStyleModel",
      "state": {
       "description_width": ""
      }
     },
     "e8bc80639c9e4f509702a5021b911d75": {
      "model_module": "@jupyter-widgets/controls",
      "model_module_version": "1.5.0",
      "model_name": "FloatSliderModel",
      "state": {
       "description": "delta",
       "layout": "IPY_MODEL_f10981a87bfe4782acb13609c8075d99",
       "max": 10,
       "min": 0.01,
       "step": 0.1,
       "style": "IPY_MODEL_403a53846bf24464860fde4aa3e1de58",
       "value": 0.1
      }
     },
     "eb29ec85c6cc40289485ad62ad45e21f": {
      "model_module": "@jupyter-widgets/controls",
      "model_module_version": "1.5.0",
      "model_name": "SliderStyleModel",
      "state": {
       "description_width": ""
      }
     },
     "ec92cca8d1144c1db50352f1fb80522c": {
      "model_module": "@jupyter-widgets/base",
      "model_module_version": "1.2.0",
      "model_name": "LayoutModel",
      "state": {}
     },
     "ee0c1a35ca914a3a8c51b361a869c8cd": {
      "model_module": "@jupyter-widgets/controls",
      "model_module_version": "1.5.0",
      "model_name": "SliderStyleModel",
      "state": {
       "description_width": ""
      }
     },
     "f0ff71a2e7ee46dabe55563f6301913d": {
      "model_module": "@jupyter-widgets/base",
      "model_module_version": "1.2.0",
      "model_name": "LayoutModel",
      "state": {}
     },
     "f10981a87bfe4782acb13609c8075d99": {
      "model_module": "@jupyter-widgets/base",
      "model_module_version": "1.2.0",
      "model_name": "LayoutModel",
      "state": {}
     },
     "f11ac8610ccf461781ea1bbad4e973c9": {
      "model_module": "@jupyter-widgets/controls",
      "model_module_version": "1.5.0",
      "model_name": "SliderStyleModel",
      "state": {
       "description_width": ""
      }
     },
     "f1727c60c9204a62bf726d0f6e9e2a59": {
      "model_module": "@jupyter-widgets/controls",
      "model_module_version": "1.5.0",
      "model_name": "IntSliderModel",
      "state": {
       "description": "delta",
       "layout": "IPY_MODEL_ae9db3a3f5294709b2db4d99f760ed71",
       "max": 10,
       "step": 0,
       "style": "IPY_MODEL_bb6c342b490e472db451b49736c5b7e9"
      }
     },
     "f2174bc768da4116919dc3cc30cb6e69": {
      "model_module": "@jupyter-widgets/base",
      "model_module_version": "1.2.0",
      "model_name": "LayoutModel",
      "state": {}
     },
     "f41eead00bb1439eb8c918abf97b74a9": {
      "model_module": "@jupyter-widgets/base",
      "model_module_version": "1.2.0",
      "model_name": "LayoutModel",
      "state": {}
     },
     "f63ced92e4d84551a042c60941c616c4": {
      "model_module": "@jupyter-widgets/controls",
      "model_module_version": "1.5.0",
      "model_name": "SliderStyleModel",
      "state": {
       "description_width": ""
      }
     },
     "f70180b4751f4917b65bb2f7609c8cf3": {
      "model_module": "@jupyter-widgets/controls",
      "model_module_version": "1.5.0",
      "model_name": "VBoxModel",
      "state": {
       "_dom_classes": [
        "widget-interact"
       ],
       "children": [
        "IPY_MODEL_1f9e3ccd4fb040df93e5f5d3b89fb9a9",
        "IPY_MODEL_310849bfec764a8eb077e41bd66b7585",
        "IPY_MODEL_d762387112da4b6993cffb030c837cf5"
       ],
       "layout": "IPY_MODEL_62d0e8530c184a629450455951e1deb6"
      }
     },
     "f86876fe1efb4d08a72275cbdb31ef56": {
      "model_module": "@jupyter-widgets/controls",
      "model_module_version": "1.5.0",
      "model_name": "IntSliderModel",
      "state": {
       "layout": "IPY_MODEL_02cc777dd707462a91eb078ae486795b",
       "max": 4,
       "step": 0,
       "style": "IPY_MODEL_cd685132c4e749efa894aa4757c475f2"
      }
     },
     "fef475df371a4278a6e237d0ece76fb7": {
      "model_module": "@jupyter-widgets/controls",
      "model_module_version": "1.5.0",
      "model_name": "SliderStyleModel",
      "state": {
       "description_width": ""
      }
     }
    },
    "version_major": 2,
    "version_minor": 0
   }
  }
 },
 "nbformat": 4,
 "nbformat_minor": 4
}
