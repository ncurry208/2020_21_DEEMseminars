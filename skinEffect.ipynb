{
 "cells": [
  {
   "cell_type": "markdown",
   "metadata": {},
   "source": [
    "# Skin effect\n",
    "In the lectures (nugget 13) you looked at AC current in a wire and particularly the skin effect. In the process you saw a full-on (non-examinable) solution. In this worksheet you calculate an approximation for when the skin depth is much less than the radius. This worksheet plots the full on solution allowing you to inspect how well this agrees with the sketches in your approximation.\n",
    "\n",
    "**You need to run all the cells in this section for anything to work.**"
   ]
  },
  {
   "cell_type": "code",
   "execution_count": 1,
   "metadata": {},
   "outputs": [],
   "source": [
    "%matplotlib inline\n",
    "from matplotlib import pyplot\n",
    "import numpy as np\n",
    "import ipywidgets\n",
    "\n",
    "from scipy.special import jv as bessel # renamed Modified Bessel function of the first kind of real order. for clarity"
   ]
  },
  {
   "cell_type": "code",
   "execution_count": 7,
   "metadata": {},
   "outputs": [],
   "source": [
    "def skinDepth(conductivity = 6e7, frequency = 0):\n",
    "    r'''\n",
    "    Calculates the skin depth for a given frequency. sets to infinity if frequency is 0\n",
    "    '''\n",
    "    mu0 = 4 * np.pi * 1e-7\n",
    "    omega = 2 * np.pi * frequency\n",
    "    \n",
    "    if frequency == 0:\n",
    "        delta = np.Inf\n",
    "    else:\n",
    "        delta = np.sqrt(2/(mu0 * conductivity * omega))\n",
    "    return delta\n",
    "\n",
    "def approxJc(x, t, frequency = 0, conductivity  = 6e7):\n",
    "    r''' \n",
    "    Returns the approximate Jc as calculated in the worksheet\n",
    "    '''\n",
    "    delta = skinDepth(conductivity = conductivity, frequency = frequency)\n",
    "    phasefactor = np.exp(- 1j * 2 * np.pi * frequency * t)\n",
    "    \n",
    "    jc =  np.exp(-x / delta) * np.exp( 1j * x / delta)\n",
    "    Jc = np.real(jc * phasefactor)\n",
    "    return Jc\n",
    "\n",
    "def JcFullon(x, t, frequency = 0, conductivity  = 6e7):\n",
    "    r'''\n",
    "    Plots the approximation of Jc from the worksheet\n",
    "    '''\n",
    "    #x = np.arange(0,1,0.001) # distance from centre of the wire forced to be 1 (as normalised to a radius of 1)\n",
    "    a = 1\n",
    "    r = a - x # In the approximation we work with x but for the full solution we use r\n",
    "    \n",
    "    delta = skinDepth(conductivity = conductivity, frequency = frequency)\n",
    "    phasefactor = np.exp(- 1j * 2 * np.pi * frequency * t)\n",
    "    \n",
    "    j0 = bessel(0, (1 + 1j) * 1 / delta) # here j0 = jc(x = 0) as in the worksheet)\n",
    "    Jc_norm = bessel(0, (1 + 1j) * r / delta) * phasefactor / j0 \n",
    "    Jc_norm = np.real(Jc_norm)\n",
    "    return Jc_norm\n",
    "\n",
    "def plotJcFullon(t, frequency = 0, conductivity  = 6e7):\n",
    "    r'''\n",
    "    Plots the approximation of Jc from the worksheet\n",
    "    '''\n",
    "    x = np.arange(0,1,0.0001) # distance from centre of the wire forced to be 1 (as normalised to a radius of 1)\n",
    "    \n",
    "    \n",
    "    fig = pyplot.plot(x, approxJc(x,t, frequency = frequency, conductivity = conductivity))\n",
    "    fig = pyplot.plot(x, JcFullon(x,t, frequency = frequency, conductivity = conductivity))\n",
    "    # formatting the plot\n",
    "    pyplot.ylim(-1.1,1.1)\n",
    "    pyplot.xlim(0,1)\n",
    "    pyplot.xlabel('$x/a$')\n",
    "    pyplot.ylabel('$J_C(r)/J_0$')  \n",
    "    pyplot.legend(['Approximate solution', 'Full on solution'])\n",
    "    \n",
    "\n",
    "def plotJcApprox(t, frequency = 0, conductivity  = 6e7):\n",
    "    r'''\n",
    "    Plots the approximation of Jc from the worksheet\n",
    "    '''\n",
    "    x = np.arange(0,1,0.0001) # distance from centre of the wire forced to be 1 (as normalised to a radius of 1)\n",
    "    \n",
    "    \n",
    "    fig = pyplot.plot(x, approxJc(x,t, frequency = frequency, conductivity = conductivity))\n",
    "    # formatting the plot\n",
    "    pyplot.ylim(-1.1,1.1)\n",
    "    pyplot.xlim(0,0.1)\n",
    "    pyplot.xlabel('$x/a$')\n",
    "    pyplot.ylabel('$J_C(r)/J_0$')  \n",
    "    "
   ]
  },
  {
   "cell_type": "markdown",
   "metadata": {},
   "source": [
    "# Approximation\n",
    "\n",
    "In the worksheet you calculated an approximation for the current density as a function of depth (x). This is plotted in the below function."
   ]
  },
  {
   "cell_type": "code",
   "execution_count": 3,
   "metadata": {},
   "outputs": [
    {
     "data": {
      "application/vnd.jupyter.widget-view+json": {
       "model_id": "fc7cc284173847f3a5f53e033c66be61",
       "version_major": 2,
       "version_minor": 0
      },
      "text/plain": [
       "interactive(children=(FloatSlider(value=0.0, description='t', max=400.0), FloatSlider(value=0.0, description='…"
      ]
     },
     "metadata": {},
     "output_type": "display_data"
    }
   ],
   "source": [
    "ipywidgets.interact(\n",
    "    lambda t, frequency, conductivity: plotJcApprox(t = t, frequency = frequency, conductivity = conductivity),\n",
    "    t=ipywidgets.FloatSlider(min=0, max=400, step=0.1, value=0), #  in seconds \n",
    "    frequency= ipywidgets.FloatSlider(min=0, max=49, step=0.1, value=0.0), # in Hz\n",
    "    conductivity = ipywidgets.FloatSlider(min=1e7, max=1e8, step=1e6, value=6e7), # in Hz\n",
    ");"
   ]
  },
  {
   "cell_type": "markdown",
   "metadata": {},
   "source": [
    "# Comparison to full solution\n",
    "The full on solution uses complex Bessel functions. Working with these is beyond the scope of the course but it is possible to simulate. Below the approximation from the worksheet is overlaid on the full on solution to give you an idea when this approximation breaks down. Note that the scale on the x axis is changed compared to the previous example."
   ]
  },
  {
   "cell_type": "code",
   "execution_count": 4,
   "metadata": {},
   "outputs": [
    {
     "data": {
      "application/vnd.jupyter.widget-view+json": {
       "model_id": "de704b05302b4162a6e3257dbf11eeb4",
       "version_major": 2,
       "version_minor": 0
      },
      "text/plain": [
       "interactive(children=(FloatSlider(value=0.0, description='t', max=50.0), FloatSlider(value=0.0, description='f…"
      ]
     },
     "metadata": {},
     "output_type": "display_data"
    }
   ],
   "source": [
    "ipywidgets.interact(\n",
    "    lambda t, frequency, conductivity: plotJcFullon(t = t, frequency = frequency, conductivity = conductivity),\n",
    "    t=ipywidgets.FloatSlider(min=0, max=50, step=0.1, value=0), #  in seconds \n",
    "    frequency= ipywidgets.FloatSlider(min=0, max=49, step=0.1, value=0.0), # in Hz\n",
    "    conductivity = ipywidgets.FloatSlider(min=1e5, max=1e8, step=1e6, value=6e7), # in Hz\n",
    ");"
   ]
  },
  {
   "cell_type": "markdown",
   "metadata": {},
   "source": [
    "# Kymograph\n",
    "It can be illustrative to show this function as a kymograph with time on the x axis and distance from the surface on the y axis "
   ]
  },
  {
   "cell_type": "code",
   "execution_count": 5,
   "metadata": {},
   "outputs": [],
   "source": [
    "def plotKymograph(frequency = 1, conductivity  = 6e7):\n",
    "    depth = np.arange(0,0.1,0.01)\n",
    "    time = np.arange(0, 10, 0.01)\n",
    "\n",
    "    time, depth = np.meshgrid(time, depth)\n",
    "    Jc = JcFullon(depth, time, frequency = frequency, conductivity  = conductivity)\n",
    "    fig, axes = pyplot.subplots(figsize = [20,10])\n",
    "    cs = axes.contourf(time, depth, Jc, cmap = 'Spectral')\n",
    "    cbar = fig.colorbar(cs)\n",
    "    axes.set_xlabel('time/s')\n",
    "    axes.set_ylabel('depth in wire/a')"
   ]
  },
  {
   "cell_type": "code",
   "execution_count": 6,
   "metadata": {},
   "outputs": [
    {
     "data": {
      "application/vnd.jupyter.widget-view+json": {
       "model_id": "213ded0230b5417199f827869c257c0e",
       "version_major": 2,
       "version_minor": 0
      },
      "text/plain": [
       "interactive(children=(FloatSlider(value=0.0, description='frequency', max=10.0), FloatSlider(value=60000000.0,…"
      ]
     },
     "metadata": {},
     "output_type": "display_data"
    }
   ],
   "source": [
    "ipywidgets.interact(\n",
    "    lambda frequency, conductivity: plotKymograph(frequency = frequency, conductivity = conductivity),\n",
    "    frequency= ipywidgets.FloatSlider(min=0, max=10, step=0.1, value=0.0), # in Hz\n",
    "    conductivity = ipywidgets.FloatSlider(min=1e7, max=1e8, step=1e6, value=6e7), # in Hz\n",
    ");"
   ]
  }
 ],
 "metadata": {
  "kernelspec": {
   "display_name": "Python 3",
   "language": "python",
   "name": "python3"
  },
  "language_info": {
   "codemirror_mode": {
    "name": "ipython",
    "version": 3
   },
   "file_extension": ".py",
   "mimetype": "text/x-python",
   "name": "python",
   "nbconvert_exporter": "python",
   "pygments_lexer": "ipython3",
   "version": "3.7.4"
  },
  "widgets": {
   "application/vnd.jupyter.widget-state+json": {
    "state": {},
    "version_major": 2,
    "version_minor": 0
   }
  }
 },
 "nbformat": 4,
 "nbformat_minor": 4
}
