{
 "cells": [
  {
   "cell_type": "markdown",
   "metadata": {},
   "source": [
    "# Skin effect\n",
    "In the lectures (nugget 8) you looked at AC current in a wire and particularly the skin effect. In the process you saw a full-on (non-examinable) solution. In this worksheet you calculate an approximation for when the skin depth is much less than the radius. This worksheet plots the full on solution allowing you to inspect how well this agrees with the sketches in your approximation.\n",
    "\n",
    "**You need to run all the cells in this section for anything to work.**"
   ]
  },
  {
   "cell_type": "code",
   "execution_count": 1,
   "metadata": {},
   "outputs": [],
   "source": [
    "%matplotlib inline\n",
    "from matplotlib import pyplot\n",
    "import numpy as np\n",
    "import ipywidgets\n",
    "\n",
    "from scipy.special import iv as bessel # renamed Modified Bessel function of the first kind of real order. for clarity"
   ]
  },
  {
   "cell_type": "code",
   "execution_count": 13,
   "metadata": {},
   "outputs": [],
   "source": [
    "def skinDepth(conductivity = 6e7, frequency = 0):\n",
    "    r'''\n",
    "    Calculates the skin depth for a given frequency. sets to infinity if frequency is 0\n",
    "    '''\n",
    "    mu0 = 4 * np.pi * 1e-7\n",
    "    omega = 2 * np.pi * frequency\n",
    "    \n",
    "    if frequency == 0:\n",
    "        delta = np.Inf\n",
    "    else:\n",
    "        delta = np.sqrt(2/(mu0 * conductivity * omega))\n",
    "    return delta\n",
    "\n",
    "def approxJc(x, t, frequency = 0, conductivity  = 6e7):\n",
    "    r''' \n",
    "    Returns the approximate Jc as calculated in the worksheet\n",
    "    '''\n",
    "    delta = skinDepth(conductivity = conductivity, frequency = frequency)\n",
    "    phasefactor = np.exp(- 1j * 2 * np.pi * frequency * t)\n",
    "    \n",
    "    jc =  np.exp(-x / delta) * np.exp( 1j * x / delta)\n",
    "    Jc = np.real(jc * phasefactor)\n",
    "    return Jc\n",
    "\n",
    "def JcFullon(x, t, frequency = 0, conductivity  = 6e7):\n",
    "    r'''\n",
    "    Plots the approximation of Jc from the worksheet\n",
    "    '''\n",
    "    #x = np.arange(0,1,0.001) # distance from centre of the wire forced to be 1 (as normalised to a radius of 1)\n",
    "    a = 1\n",
    "    r = a - x # In the approximation we work with x but for the full solution we use r\n",
    "    \n",
    "    delta = skinDepth(conductivity = conductivity, frequency = frequency)\n",
    "    phasefactor = np.exp(- 1j * 2 * np.pi * frequency * t)\n",
    "    \n",
    "    j0 = bessel(0, (1 + 1j) * 1 / delta) # here j0 = jc(x = 0) as in the worksheet)\n",
    "    Jc_norm = bessel(0, (1 + 1j) * r / delta) * phasefactor / j0 \n",
    "    Jc_norm = np.real(Jc_norm)\n",
    "    return Jc_norm\n",
    "\n",
    "def plotJcFullon(t, frequency = 0, conductivity  = 6e7):\n",
    "    r'''\n",
    "    Plots the approximation of Jc from the worksheet\n",
    "    '''\n",
    "    x = np.arange(0,1,0.0001) # distance from centre of the wire forced to be 1 (as normalised to a radius of 1)\n",
    "    \n",
    "    \n",
    "    fig = pyplot.plot(x, approxJc(x,t, frequency = frequency, conductivity = conductivity))\n",
    "    fig = pyplot.plot(x, JcFullon(x,t, frequency = frequency, conductivity = conductivity))\n",
    "    # formatting the plot\n",
    "    pyplot.ylim(-1.1,1.1)\n",
    "    pyplot.xlim(0,0.1)\n",
    "    pyplot.xlabel('$x/a$')\n",
    "    pyplot.ylabel('$J_C(r)/J_0$')  \n",
    "    pyplot.legend(['Approximate solution', 'Full on solution'])\n",
    "    \n",
    "\n",
    "def plotJcApprox(t, frequency = 0, conductivity  = 6e7):\n",
    "    r'''\n",
    "    Plots the approximation of Jc from the worksheet\n",
    "    '''\n",
    "    x = np.arange(0,1,0.0001) # distance from centre of the wire forced to be 1 (as normalised to a radius of 1)\n",
    "    \n",
    "    \n",
    "    fig = pyplot.plot(x, approxJc(x,t, frequency = frequency, conductivity = conductivity))\n",
    "    # formatting the plot\n",
    "    pyplot.ylim(-1.1,1.1)\n",
    "    pyplot.xlim(0,0.1)\n",
    "    pyplot.xlabel('$x/a$')\n",
    "    pyplot.ylabel('$J_C(r)/J_0$')  \n",
    "    "
   ]
  },
  {
   "cell_type": "markdown",
   "metadata": {},
   "source": [
    "# Approximation\n",
    "\n",
    "In the worksheet you calculated an approximation for the current density as a function of depth (x). This is plotted in the below function."
   ]
  },
  {
   "cell_type": "code",
   "execution_count": 14,
   "metadata": {},
   "outputs": [
    {
     "data": {
      "application/vnd.jupyter.widget-view+json": {
       "model_id": "f755ccc82d364280a200f304bae85bc5",
       "version_major": 2,
       "version_minor": 0
      },
      "text/plain": [
       "interactive(children=(FloatSlider(value=0.0, description='t', max=400.0), FloatSlider(value=0.0, description='…"
      ]
     },
     "metadata": {},
     "output_type": "display_data"
    }
   ],
   "source": [
    "ipywidgets.interact(\n",
    "    lambda t, frequency, conductivity: plotJcApprox(t = t, frequency = frequency, conductivity = conductivity),\n",
    "    t=ipywidgets.FloatSlider(min=0, max=400, step=0.1, value=0), #  in seconds \n",
    "    frequency= ipywidgets.FloatSlider(min=0, max=49, step=0.1, value=0.0), # in Hz\n",
    "    conductivity = ipywidgets.FloatSlider(min=1e7, max=1e8, step=1e6, value=6e7), # in Hz\n",
    ");"
   ]
  },
  {
   "cell_type": "markdown",
   "metadata": {},
   "source": [
    "# Comparison to full solution\n",
    "The full on solution uses complex Bessel functions. Working with these is beyond the scope of the course but it is possible to simulate. Below the approximation from the worksheet is overlaid on the full on solution to give you an idea when this approximation breaks down. Note that the scale on the x axis is changed compared to the previous example."
   ]
  },
  {
   "cell_type": "code",
   "execution_count": 15,
   "metadata": {},
   "outputs": [
    {
     "data": {
      "application/vnd.jupyter.widget-view+json": {
       "model_id": "dacbfaaf7a2b450fa77453c88aca7c0a",
       "version_major": 2,
       "version_minor": 0
      },
      "text/plain": [
       "interactive(children=(FloatSlider(value=0.0, description='t', max=50.0), FloatSlider(value=0.0, description='f…"
      ]
     },
     "metadata": {},
     "output_type": "display_data"
    }
   ],
   "source": [
    "ipywidgets.interact(\n",
    "    lambda t, frequency, conductivity: plotJcFullon(t = t, frequency = frequency, conductivity = conductivity),\n",
    "    t=ipywidgets.FloatSlider(min=0, max=50, step=0.1, value=0), #  in seconds \n",
    "    frequency= ipywidgets.FloatSlider(min=0, max=49, step=0.1, value=0.0), # in Hz\n",
    "    conductivity = ipywidgets.FloatSlider(min=1e7, max=1e8, step=1e6, value=6e7), # in Hz\n",
    ");"
   ]
  },
  {
   "cell_type": "markdown",
   "metadata": {},
   "source": [
    "# Kymograph\n",
    "It can be illustrative to show this function as a kymograph with time on the x axis and distance from the surface on the y axis "
   ]
  },
  {
   "cell_type": "code",
   "execution_count": 5,
   "metadata": {},
   "outputs": [],
   "source": [
    "def plotKymograph(frequency = 1, conductivity  = 6e7):\n",
    "    depth = np.arange(0,0.1,0.01)\n",
    "    time = np.arange(0, 10, 0.01)\n",
    "\n",
    "    time, depth = np.meshgrid(time, depth)\n",
    "    Jc = JcFullon(depth, time, frequency = frequency, conductivity  = conductivity)\n",
    "    fig, axes = pyplot.subplots(figsize = [20,10])\n",
    "    cs = axes.contourf(time, depth, Jc, cmap = 'Spectral')\n",
    "    cbar = fig.colorbar(cs)\n",
    "    axes.set_xlabel('time/s')\n",
    "    axes.set_ylabel('depth in wire/a')"
   ]
  },
  {
   "cell_type": "code",
   "execution_count": 6,
   "metadata": {},
   "outputs": [
    {
     "data": {
      "application/vnd.jupyter.widget-view+json": {
       "model_id": "54de9b9e1f88411aab169a66a99204d7",
       "version_major": 2,
       "version_minor": 0
      },
      "text/plain": [
       "interactive(children=(FloatSlider(value=0.0, description='frequency', max=10.0), FloatSlider(value=60000000.0,…"
      ]
     },
     "metadata": {},
     "output_type": "display_data"
    }
   ],
   "source": [
    "ipywidgets.interact(\n",
    "    lambda frequency, conductivity: plotKymograph(frequency = frequency, conductivity = conductivity),\n",
    "    frequency= ipywidgets.FloatSlider(min=0, max=10, step=0.1, value=0.0), # in Hz\n",
    "    conductivity = ipywidgets.FloatSlider(min=1e7, max=1e8, step=1e6, value=6e7), # in Hz\n",
    ");"
   ]
  },
  {
   "cell_type": "code",
   "execution_count": null,
   "metadata": {},
   "outputs": [],
   "source": []
  }
 ],
 "metadata": {
  "kernelspec": {
   "display_name": "Python 3",
   "language": "python",
   "name": "python3"
  },
  "language_info": {
   "codemirror_mode": {
    "name": "ipython",
    "version": 3
   },
   "file_extension": ".py",
   "mimetype": "text/x-python",
   "name": "python",
   "nbconvert_exporter": "python",
   "pygments_lexer": "ipython3",
   "version": "3.7.4"
  },
  "widgets": {
   "application/vnd.jupyter.widget-state+json": {
    "state": {
     "1226ff7d417746a2a5cad8bdaaaab8ac": {
      "model_module": "@jupyter-widgets/base",
      "model_module_version": "1.2.0",
      "model_name": "LayoutModel",
      "state": {}
     },
     "18933f8169c3449eb18a8e0246416ad4": {
      "model_module": "@jupyter-widgets/controls",
      "model_module_version": "1.5.0",
      "model_name": "FloatSliderModel",
      "state": {
       "description": "frequency",
       "layout": "IPY_MODEL_49726e1382924196a9faf55dc4b86385",
       "max": 49,
       "step": 0.1,
       "style": "IPY_MODEL_88932968ce5b4311a758466040d25d2c"
      }
     },
     "1bfaee2de06c4facb36ae8145782e5d6": {
      "model_module": "@jupyter-widgets/base",
      "model_module_version": "1.2.0",
      "model_name": "LayoutModel",
      "state": {}
     },
     "1d41936192af4fffb287eb6ab8736532": {
      "model_module": "@jupyter-widgets/base",
      "model_module_version": "1.2.0",
      "model_name": "LayoutModel",
      "state": {}
     },
     "1d779b62459245829fada8813e76ccfd": {
      "model_module": "@jupyter-widgets/base",
      "model_module_version": "1.2.0",
      "model_name": "LayoutModel",
      "state": {}
     },
     "1fd25b5f97c64960b261aa7ec42d54c0": {
      "model_module": "@jupyter-widgets/controls",
      "model_module_version": "1.5.0",
      "model_name": "FloatSliderModel",
      "state": {
       "description": "conductivity",
       "layout": "IPY_MODEL_6bce658217194d5881449efa6d183f1c",
       "max": 100000000,
       "min": 10000000,
       "step": 1000000,
       "style": "IPY_MODEL_90572a9be3834887837e1c92c50942d3",
       "value": 60000000
      }
     },
     "20d1aa397c654c539a335e38009f5a05": {
      "model_module": "@jupyter-widgets/controls",
      "model_module_version": "1.5.0",
      "model_name": "SliderStyleModel",
      "state": {
       "description_width": ""
      }
     },
     "24c5804e23db4ba5aebf91413aa156ee": {
      "model_module": "@jupyter-widgets/base",
      "model_module_version": "1.2.0",
      "model_name": "LayoutModel",
      "state": {}
     },
     "258210a06d78490e94d7a644e230bb04": {
      "model_module": "@jupyter-widgets/controls",
      "model_module_version": "1.5.0",
      "model_name": "FloatSliderModel",
      "state": {
       "description": "conductivity",
       "layout": "IPY_MODEL_c724f1fa7a8a4365886792c555395d94",
       "max": 100000000,
       "min": 10000000,
       "step": 1000000,
       "style": "IPY_MODEL_49a0f921b04d4a0fb08fa1c9363fdca3",
       "value": 60000000
      }
     },
     "2aa3f59bb713431896790fb86eaa1422": {
      "model_module": "@jupyter-widgets/controls",
      "model_module_version": "1.5.0",
      "model_name": "SliderStyleModel",
      "state": {
       "description_width": ""
      }
     },
     "2e0f1cbc5e344a1b9b4d2b43615a93e5": {
      "model_module": "@jupyter-widgets/base",
      "model_module_version": "1.2.0",
      "model_name": "LayoutModel",
      "state": {}
     },
     "2fbb3ecd6da34d98a58b027357a60bf7": {
      "model_module": "@jupyter-widgets/controls",
      "model_module_version": "1.5.0",
      "model_name": "FloatSliderModel",
      "state": {
       "description": "conductivity",
       "layout": "IPY_MODEL_fe134a8d188e426e927151b9004c414f",
       "max": 100000000,
       "min": 10000000,
       "step": 1000000,
       "style": "IPY_MODEL_4f3f327e54234473ae26f7e221ddc74c",
       "value": 60000000
      }
     },
     "303b3bc7eb8f41b28e6f2a1e0265b01a": {
      "model_module": "@jupyter-widgets/controls",
      "model_module_version": "1.5.0",
      "model_name": "FloatSliderModel",
      "state": {
       "description": "t",
       "layout": "IPY_MODEL_c9dea0f5b66047bfb6058485e60130e2",
       "max": 400,
       "step": 0.1,
       "style": "IPY_MODEL_56b44c6087b34984afc0b2315bf4e81e"
      }
     },
     "331de8e600a647a08fa0df11e68a40eb": {
      "model_module": "@jupyter-widgets/controls",
      "model_module_version": "1.5.0",
      "model_name": "FloatSliderModel",
      "state": {
       "description": "conductivity",
       "layout": "IPY_MODEL_8de248f065ac4333add1276132a3a1af",
       "max": 100000000,
       "min": 10000000,
       "step": 1000000,
       "style": "IPY_MODEL_2aa3f59bb713431896790fb86eaa1422",
       "value": 60000000
      }
     },
     "38006967df83430a9174a32bf98c1d13": {
      "model_module": "@jupyter-widgets/controls",
      "model_module_version": "1.5.0",
      "model_name": "FloatSliderModel",
      "state": {
       "description": "frequency",
       "layout": "IPY_MODEL_634f1f3bec2748bea8baeb6e87061ee4",
       "max": 49,
       "step": 0.1,
       "style": "IPY_MODEL_bb20005fa6e44da9a5ee1b6323ec5c98"
      }
     },
     "39ddbd57488c4e62900e0dea139cd6be": {
      "model_module": "@jupyter-widgets/controls",
      "model_module_version": "1.5.0",
      "model_name": "FloatSliderModel",
      "state": {
       "description": "frequency",
       "layout": "IPY_MODEL_24c5804e23db4ba5aebf91413aa156ee",
       "max": 49,
       "step": 0.1,
       "style": "IPY_MODEL_d0c79ba0492f431581e8eb9d9ba8d647"
      }
     },
     "3b3ce23bb4a944a9b9e96509520ae7f9": {
      "model_module": "@jupyter-widgets/base",
      "model_module_version": "1.2.0",
      "model_name": "LayoutModel",
      "state": {}
     },
     "3b8b856d49604675b8af3d6fc74ecc28": {
      "model_module": "@jupyter-widgets/output",
      "model_module_version": "1.0.0",
      "model_name": "OutputModel",
      "state": {
       "layout": "IPY_MODEL_902b0154ba784fa5ae664ec98d192b79",
       "outputs": [
        {
         "data": {
          "image/png": "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\n",
          "text/plain": "<Figure size 432x288 with 1 Axes>"
         },
         "metadata": {
          "needs_background": "light"
         },
         "output_type": "display_data"
        }
       ]
      }
     },
     "3ba34ad337164ffa86923b8bb6a150da": {
      "model_module": "@jupyter-widgets/controls",
      "model_module_version": "1.5.0",
      "model_name": "FloatSliderModel",
      "state": {
       "description": "conductivity",
       "layout": "IPY_MODEL_b2eeb3841c8a4cabba2c4a982445cc39",
       "max": 100000000,
       "min": 10000000,
       "step": 1000000,
       "style": "IPY_MODEL_555aa2ace60c4b6685b0dc12cf82c95c",
       "value": 60000000
      }
     },
     "41de20d772ca49f68530f062a05a0d02": {
      "model_module": "@jupyter-widgets/controls",
      "model_module_version": "1.5.0",
      "model_name": "FloatSliderModel",
      "state": {
       "description": "frequency",
       "layout": "IPY_MODEL_66c8bd16cacb46e7b72e7071f25948c7",
       "max": 49,
       "step": 0.1,
       "style": "IPY_MODEL_b39d828b550f4f23b972064d9e8f8d63"
      }
     },
     "46d0b70c31da4980a564c29c783bc210": {
      "model_module": "@jupyter-widgets/controls",
      "model_module_version": "1.5.0",
      "model_name": "FloatSliderModel",
      "state": {
       "description": "t",
       "layout": "IPY_MODEL_fcf2051e10c84b4aa9d7aeb7747964e0",
       "max": 400,
       "step": 0.1,
       "style": "IPY_MODEL_dad8691abea744c59ea019b59b185fcb"
      }
     },
     "46e1e2b211ae49398cdfd41af2b16899": {
      "model_module": "@jupyter-widgets/controls",
      "model_module_version": "1.5.0",
      "model_name": "VBoxModel",
      "state": {
       "_dom_classes": [
        "widget-interact"
       ],
       "children": [
        "IPY_MODEL_c4a8262650994888b8f113f96bc05a08",
        "IPY_MODEL_39ddbd57488c4e62900e0dea139cd6be",
        "IPY_MODEL_b5abd6e025d74346be6a75da961f878d",
        "IPY_MODEL_bb6483a5987e476992d5f716f70503e1"
       ],
       "layout": "IPY_MODEL_95a83821cc374981ad7cc80d3d26ea37"
      }
     },
     "4855bd585c2941babdbcfdde9d4fc34c": {
      "model_module": "@jupyter-widgets/controls",
      "model_module_version": "1.5.0",
      "model_name": "FloatSliderModel",
      "state": {
       "description": "conductivity",
       "layout": "IPY_MODEL_e98a7e88c3cb4850a3090dd54cb13dbd",
       "max": 100000000,
       "min": 10000000,
       "step": 1000000,
       "style": "IPY_MODEL_d103a7d53a1b448ea7c755e1e27aeb5c",
       "value": 60000000
      }
     },
     "49726e1382924196a9faf55dc4b86385": {
      "model_module": "@jupyter-widgets/base",
      "model_module_version": "1.2.0",
      "model_name": "LayoutModel",
      "state": {}
     },
     "49a0f921b04d4a0fb08fa1c9363fdca3": {
      "model_module": "@jupyter-widgets/controls",
      "model_module_version": "1.5.0",
      "model_name": "SliderStyleModel",
      "state": {
       "description_width": ""
      }
     },
     "4c6ffe321bbb4e17a574f385d2449028": {
      "model_module": "@jupyter-widgets/controls",
      "model_module_version": "1.5.0",
      "model_name": "FloatSliderModel",
      "state": {
       "description": "frequency",
       "layout": "IPY_MODEL_cff9ef227bce4888a98026ec5989a7ea",
       "max": 49,
       "step": 0.1,
       "style": "IPY_MODEL_9e75a4c558b44dbaaf6ebcd78db78e0c",
       "value": 15.5
      }
     },
     "4f32975f3b784d57a370c1eabc21b949": {
      "model_module": "@jupyter-widgets/controls",
      "model_module_version": "1.5.0",
      "model_name": "VBoxModel",
      "state": {
       "_dom_classes": [
        "widget-interact"
       ],
       "children": [
        "IPY_MODEL_303b3bc7eb8f41b28e6f2a1e0265b01a",
        "IPY_MODEL_38006967df83430a9174a32bf98c1d13",
        "IPY_MODEL_3ba34ad337164ffa86923b8bb6a150da",
        "IPY_MODEL_de49d14e9147422b994688a6f5e1c922"
       ],
       "layout": "IPY_MODEL_3b3ce23bb4a944a9b9e96509520ae7f9"
      }
     },
     "4f3f327e54234473ae26f7e221ddc74c": {
      "model_module": "@jupyter-widgets/controls",
      "model_module_version": "1.5.0",
      "model_name": "SliderStyleModel",
      "state": {
       "description_width": ""
      }
     },
     "4fa09158b600425ca50e76ac87b43676": {
      "model_module": "@jupyter-widgets/base",
      "model_module_version": "1.2.0",
      "model_name": "LayoutModel",
      "state": {}
     },
     "528941bca1154678999d416d0944bea0": {
      "model_module": "@jupyter-widgets/base",
      "model_module_version": "1.2.0",
      "model_name": "LayoutModel",
      "state": {}
     },
     "5344eaeb25de4e92b1eacee2c95a3e46": {
      "model_module": "@jupyter-widgets/base",
      "model_module_version": "1.2.0",
      "model_name": "LayoutModel",
      "state": {}
     },
     "54de9b9e1f88411aab169a66a99204d7": {
      "model_module": "@jupyter-widgets/controls",
      "model_module_version": "1.5.0",
      "model_name": "VBoxModel",
      "state": {
       "_dom_classes": [
        "widget-interact"
       ],
       "children": [
        "IPY_MODEL_9e8cb4eeab024251a3b99bbdb8f71d3d",
        "IPY_MODEL_68a7ecabfd3341c68c1d2f85533a9acb",
        "IPY_MODEL_e4a88570973e4b988968e6b992386d09"
       ],
       "layout": "IPY_MODEL_63f26e486a6a4bffb48c54fae53254c5"
      }
     },
     "555aa2ace60c4b6685b0dc12cf82c95c": {
      "model_module": "@jupyter-widgets/controls",
      "model_module_version": "1.5.0",
      "model_name": "SliderStyleModel",
      "state": {
       "description_width": ""
      }
     },
     "56b44c6087b34984afc0b2315bf4e81e": {
      "model_module": "@jupyter-widgets/controls",
      "model_module_version": "1.5.0",
      "model_name": "SliderStyleModel",
      "state": {
       "description_width": ""
      }
     },
     "58e966d634404d21bf216bd7fe1eba91": {
      "model_module": "@jupyter-widgets/controls",
      "model_module_version": "1.5.0",
      "model_name": "FloatSliderModel",
      "state": {
       "description": "t",
       "layout": "IPY_MODEL_ac9d550200e94523bed2767c83a808ec",
       "max": 50,
       "step": 0.1,
       "style": "IPY_MODEL_9489091fac8a42049e7903b9c254cc10"
      }
     },
     "59252018e21747b1b0ff17332d983a91": {
      "model_module": "@jupyter-widgets/base",
      "model_module_version": "1.2.0",
      "model_name": "LayoutModel",
      "state": {}
     },
     "5f2fe2fd46a34b9dbd6583481210cd66": {
      "model_module": "@jupyter-widgets/output",
      "model_module_version": "1.0.0",
      "model_name": "OutputModel",
      "state": {
       "layout": "IPY_MODEL_59252018e21747b1b0ff17332d983a91",
       "outputs": [
        {
         "ename": "AttributeError",
         "evalue": "module 'matplotlib.pyplot' has no attribute 'legent'",
         "output_type": "error",
         "traceback": [
          "\u001b[1;31m---------------------------------------------------------------------------\u001b[0m",
          "\u001b[1;31mAttributeError\u001b[0m                            Traceback (most recent call last)",
          "\u001b[1;32m~\\AppData\\Local\\Continuum\\anaconda3\\lib\\site-packages\\ipywidgets\\widgets\\interaction.py\u001b[0m in \u001b[0;36mupdate\u001b[1;34m(self, *args)\u001b[0m\n\u001b[0;32m    254\u001b[0m                     \u001b[0mvalue\u001b[0m \u001b[1;33m=\u001b[0m \u001b[0mwidget\u001b[0m\u001b[1;33m.\u001b[0m\u001b[0mget_interact_value\u001b[0m\u001b[1;33m(\u001b[0m\u001b[1;33m)\u001b[0m\u001b[1;33m\u001b[0m\u001b[1;33m\u001b[0m\u001b[0m\n\u001b[0;32m    255\u001b[0m                     \u001b[0mself\u001b[0m\u001b[1;33m.\u001b[0m\u001b[0mkwargs\u001b[0m\u001b[1;33m[\u001b[0m\u001b[0mwidget\u001b[0m\u001b[1;33m.\u001b[0m\u001b[0m_kwarg\u001b[0m\u001b[1;33m]\u001b[0m \u001b[1;33m=\u001b[0m \u001b[0mvalue\u001b[0m\u001b[1;33m\u001b[0m\u001b[1;33m\u001b[0m\u001b[0m\n\u001b[1;32m--> 256\u001b[1;33m                 \u001b[0mself\u001b[0m\u001b[1;33m.\u001b[0m\u001b[0mresult\u001b[0m \u001b[1;33m=\u001b[0m \u001b[0mself\u001b[0m\u001b[1;33m.\u001b[0m\u001b[0mf\u001b[0m\u001b[1;33m(\u001b[0m\u001b[1;33m**\u001b[0m\u001b[0mself\u001b[0m\u001b[1;33m.\u001b[0m\u001b[0mkwargs\u001b[0m\u001b[1;33m)\u001b[0m\u001b[1;33m\u001b[0m\u001b[1;33m\u001b[0m\u001b[0m\n\u001b[0m\u001b[0;32m    257\u001b[0m                 \u001b[0mshow_inline_matplotlib_plots\u001b[0m\u001b[1;33m(\u001b[0m\u001b[1;33m)\u001b[0m\u001b[1;33m\u001b[0m\u001b[1;33m\u001b[0m\u001b[0m\n\u001b[0;32m    258\u001b[0m                 \u001b[1;32mif\u001b[0m \u001b[0mself\u001b[0m\u001b[1;33m.\u001b[0m\u001b[0mauto_display\u001b[0m \u001b[1;32mand\u001b[0m \u001b[0mself\u001b[0m\u001b[1;33m.\u001b[0m\u001b[0mresult\u001b[0m \u001b[1;32mis\u001b[0m \u001b[1;32mnot\u001b[0m \u001b[1;32mNone\u001b[0m\u001b[1;33m:\u001b[0m\u001b[1;33m\u001b[0m\u001b[1;33m\u001b[0m\u001b[0m\n",
          "\u001b[1;32m<ipython-input-9-ef17f4c9ee1c>\u001b[0m in \u001b[0;36m<lambda>\u001b[1;34m(t, frequency, conductivity)\u001b[0m\n\u001b[0;32m      1\u001b[0m ipywidgets.interact(\n\u001b[1;32m----> 2\u001b[1;33m     \u001b[1;32mlambda\u001b[0m \u001b[0mt\u001b[0m\u001b[1;33m,\u001b[0m \u001b[0mfrequency\u001b[0m\u001b[1;33m,\u001b[0m \u001b[0mconductivity\u001b[0m\u001b[1;33m:\u001b[0m \u001b[0mplotJcFullon\u001b[0m\u001b[1;33m(\u001b[0m\u001b[0mt\u001b[0m \u001b[1;33m=\u001b[0m \u001b[0mt\u001b[0m\u001b[1;33m,\u001b[0m \u001b[0mfrequency\u001b[0m \u001b[1;33m=\u001b[0m \u001b[0mfrequency\u001b[0m\u001b[1;33m,\u001b[0m \u001b[0mconductivity\u001b[0m \u001b[1;33m=\u001b[0m \u001b[0mconductivity\u001b[0m\u001b[1;33m)\u001b[0m\u001b[1;33m,\u001b[0m\u001b[1;33m\u001b[0m\u001b[1;33m\u001b[0m\u001b[0m\n\u001b[0m\u001b[0;32m      3\u001b[0m     \u001b[0mt\u001b[0m\u001b[1;33m=\u001b[0m\u001b[0mipywidgets\u001b[0m\u001b[1;33m.\u001b[0m\u001b[0mFloatSlider\u001b[0m\u001b[1;33m(\u001b[0m\u001b[0mmin\u001b[0m\u001b[1;33m=\u001b[0m\u001b[1;36m0\u001b[0m\u001b[1;33m,\u001b[0m \u001b[0mmax\u001b[0m\u001b[1;33m=\u001b[0m\u001b[1;36m50\u001b[0m\u001b[1;33m,\u001b[0m \u001b[0mstep\u001b[0m\u001b[1;33m=\u001b[0m\u001b[1;36m0.1\u001b[0m\u001b[1;33m,\u001b[0m \u001b[0mvalue\u001b[0m\u001b[1;33m=\u001b[0m\u001b[1;36m0\u001b[0m\u001b[1;33m)\u001b[0m\u001b[1;33m,\u001b[0m \u001b[1;31m#  in seconds\u001b[0m\u001b[1;33m\u001b[0m\u001b[1;33m\u001b[0m\u001b[0m\n\u001b[0;32m      4\u001b[0m     \u001b[0mfrequency\u001b[0m\u001b[1;33m=\u001b[0m \u001b[0mipywidgets\u001b[0m\u001b[1;33m.\u001b[0m\u001b[0mFloatSlider\u001b[0m\u001b[1;33m(\u001b[0m\u001b[0mmin\u001b[0m\u001b[1;33m=\u001b[0m\u001b[1;36m0\u001b[0m\u001b[1;33m,\u001b[0m \u001b[0mmax\u001b[0m\u001b[1;33m=\u001b[0m\u001b[1;36m49\u001b[0m\u001b[1;33m,\u001b[0m \u001b[0mstep\u001b[0m\u001b[1;33m=\u001b[0m\u001b[1;36m0.1\u001b[0m\u001b[1;33m,\u001b[0m \u001b[0mvalue\u001b[0m\u001b[1;33m=\u001b[0m\u001b[1;36m0.0\u001b[0m\u001b[1;33m)\u001b[0m\u001b[1;33m,\u001b[0m \u001b[1;31m# in Hz\u001b[0m\u001b[1;33m\u001b[0m\u001b[1;33m\u001b[0m\u001b[0m\n\u001b[0;32m      5\u001b[0m     \u001b[0mconductivity\u001b[0m \u001b[1;33m=\u001b[0m \u001b[0mipywidgets\u001b[0m\u001b[1;33m.\u001b[0m\u001b[0mFloatSlider\u001b[0m\u001b[1;33m(\u001b[0m\u001b[0mmin\u001b[0m\u001b[1;33m=\u001b[0m\u001b[1;36m1e7\u001b[0m\u001b[1;33m,\u001b[0m \u001b[0mmax\u001b[0m\u001b[1;33m=\u001b[0m\u001b[1;36m1e8\u001b[0m\u001b[1;33m,\u001b[0m \u001b[0mstep\u001b[0m\u001b[1;33m=\u001b[0m\u001b[1;36m1e6\u001b[0m\u001b[1;33m,\u001b[0m \u001b[0mvalue\u001b[0m\u001b[1;33m=\u001b[0m\u001b[1;36m6e7\u001b[0m\u001b[1;33m)\u001b[0m\u001b[1;33m,\u001b[0m \u001b[1;31m# in Hz\u001b[0m\u001b[1;33m\u001b[0m\u001b[1;33m\u001b[0m\u001b[0m\n",
          "\u001b[1;32m<ipython-input-7-49b917d67a84>\u001b[0m in \u001b[0;36mplotJcFullon\u001b[1;34m(t, frequency, conductivity)\u001b[0m\n\u001b[0;32m     53\u001b[0m     \u001b[0mpyplot\u001b[0m\u001b[1;33m.\u001b[0m\u001b[0mxlabel\u001b[0m\u001b[1;33m(\u001b[0m\u001b[1;34m'$x/a$'\u001b[0m\u001b[1;33m)\u001b[0m\u001b[1;33m\u001b[0m\u001b[1;33m\u001b[0m\u001b[0m\n\u001b[0;32m     54\u001b[0m     \u001b[0mpyplot\u001b[0m\u001b[1;33m.\u001b[0m\u001b[0mylabel\u001b[0m\u001b[1;33m(\u001b[0m\u001b[1;34m'$J_C(r)/J_0$'\u001b[0m\u001b[1;33m)\u001b[0m\u001b[1;33m\u001b[0m\u001b[1;33m\u001b[0m\u001b[0m\n\u001b[1;32m---> 55\u001b[1;33m     \u001b[0mpyplot\u001b[0m\u001b[1;33m.\u001b[0m\u001b[0mlegent\u001b[0m\u001b[1;33m(\u001b[0m\u001b[1;34m'Approximate solution'\u001b[0m\u001b[1;33m,\u001b[0m \u001b[1;34m'Full on solution'\u001b[0m\u001b[1;33m)\u001b[0m\u001b[1;33m\u001b[0m\u001b[1;33m\u001b[0m\u001b[0m\n\u001b[0m\u001b[0;32m     56\u001b[0m \u001b[1;33m\u001b[0m\u001b[0m\n\u001b[0;32m     57\u001b[0m \u001b[1;33m\u001b[0m\u001b[0m\n",
          "\u001b[1;31mAttributeError\u001b[0m: module 'matplotlib.pyplot' has no attribute 'legent'"
         ]
        }
       ]
      }
     },
     "634f1f3bec2748bea8baeb6e87061ee4": {
      "model_module": "@jupyter-widgets/base",
      "model_module_version": "1.2.0",
      "model_name": "LayoutModel",
      "state": {}
     },
     "63f26e486a6a4bffb48c54fae53254c5": {
      "model_module": "@jupyter-widgets/base",
      "model_module_version": "1.2.0",
      "model_name": "LayoutModel",
      "state": {}
     },
     "64c68272c447452c8d7485bad48c9cbe": {
      "model_module": "@jupyter-widgets/base",
      "model_module_version": "1.2.0",
      "model_name": "LayoutModel",
      "state": {}
     },
     "66c8bd16cacb46e7b72e7071f25948c7": {
      "model_module": "@jupyter-widgets/base",
      "model_module_version": "1.2.0",
      "model_name": "LayoutModel",
      "state": {}
     },
     "6808948562634896a36d782b255ae6a0": {
      "model_module": "@jupyter-widgets/base",
      "model_module_version": "1.2.0",
      "model_name": "LayoutModel",
      "state": {}
     },
     "68a7ecabfd3341c68c1d2f85533a9acb": {
      "model_module": "@jupyter-widgets/controls",
      "model_module_version": "1.5.0",
      "model_name": "FloatSliderModel",
      "state": {
       "description": "conductivity",
       "layout": "IPY_MODEL_528941bca1154678999d416d0944bea0",
       "max": 100000000,
       "min": 10000000,
       "step": 1000000,
       "style": "IPY_MODEL_8cc38079fe0c4af5a00904e0e5e6be76",
       "value": 10000000
      }
     },
     "6bce658217194d5881449efa6d183f1c": {
      "model_module": "@jupyter-widgets/base",
      "model_module_version": "1.2.0",
      "model_name": "LayoutModel",
      "state": {}
     },
     "6fe25c4eb5d54b8e88cb4e850d147e76": {
      "model_module": "@jupyter-widgets/controls",
      "model_module_version": "1.5.0",
      "model_name": "SliderStyleModel",
      "state": {
       "description_width": ""
      }
     },
     "6fefc6cd714c45a890fe742113f546a3": {
      "model_module": "@jupyter-widgets/controls",
      "model_module_version": "1.5.0",
      "model_name": "SliderStyleModel",
      "state": {
       "description_width": ""
      }
     },
     "7744cd86821448a9bfdd981cbaad3953": {
      "model_module": "@jupyter-widgets/controls",
      "model_module_version": "1.5.0",
      "model_name": "FloatSliderModel",
      "state": {
       "description": "frequency",
       "layout": "IPY_MODEL_6808948562634896a36d782b255ae6a0",
       "max": 49,
       "step": 0.1,
       "style": "IPY_MODEL_6fe25c4eb5d54b8e88cb4e850d147e76"
      }
     },
     "7e3aef11c5b745aab2c103cd493877b3": {
      "model_module": "@jupyter-widgets/controls",
      "model_module_version": "1.5.0",
      "model_name": "VBoxModel",
      "state": {
       "_dom_classes": [
        "widget-interact"
       ],
       "children": [
        "IPY_MODEL_b1b5f28e94ca45f7acab2a2ba7aeabb9",
        "IPY_MODEL_e6b77bb7ee6d473496e664eaea33d66e",
        "IPY_MODEL_331de8e600a647a08fa0df11e68a40eb",
        "IPY_MODEL_a60250565cde4147bef6026098718dcb"
       ],
       "layout": "IPY_MODEL_64c68272c447452c8d7485bad48c9cbe"
      }
     },
     "802f97bb49514aaa80023ec2e98e6cee": {
      "model_module": "@jupyter-widgets/controls",
      "model_module_version": "1.5.0",
      "model_name": "VBoxModel",
      "state": {
       "_dom_classes": [
        "widget-interact"
       ],
       "children": [
        "IPY_MODEL_e2e81e78156c43079fdab5cb83618ba1",
        "IPY_MODEL_4c6ffe321bbb4e17a574f385d2449028",
        "IPY_MODEL_258210a06d78490e94d7a644e230bb04",
        "IPY_MODEL_f3cc2d3d4200445492279f3de599084f"
       ],
       "layout": "IPY_MODEL_8c86ebc2035f4860907f1f24968cb453"
      }
     },
     "8231051e09474a1c8850894ae922210f": {
      "model_module": "@jupyter-widgets/controls",
      "model_module_version": "1.5.0",
      "model_name": "SliderStyleModel",
      "state": {
       "description_width": ""
      }
     },
     "82fc75d4edda409fbb873dda3e09fe79": {
      "model_module": "@jupyter-widgets/base",
      "model_module_version": "1.2.0",
      "model_name": "LayoutModel",
      "state": {}
     },
     "851df5162e114900b07627bd0f1a37b6": {
      "model_module": "@jupyter-widgets/base",
      "model_module_version": "1.2.0",
      "model_name": "LayoutModel",
      "state": {}
     },
     "861444e4bd6841d5b0fe21688cc901c8": {
      "model_module": "@jupyter-widgets/controls",
      "model_module_version": "1.5.0",
      "model_name": "SliderStyleModel",
      "state": {
       "description_width": ""
      }
     },
     "88932968ce5b4311a758466040d25d2c": {
      "model_module": "@jupyter-widgets/controls",
      "model_module_version": "1.5.0",
      "model_name": "SliderStyleModel",
      "state": {
       "description_width": ""
      }
     },
     "8af098b5f8164c2fb1b42e77bf47e7ba": {
      "model_module": "@jupyter-widgets/base",
      "model_module_version": "1.2.0",
      "model_name": "LayoutModel",
      "state": {}
     },
     "8c86ebc2035f4860907f1f24968cb453": {
      "model_module": "@jupyter-widgets/base",
      "model_module_version": "1.2.0",
      "model_name": "LayoutModel",
      "state": {}
     },
     "8cc38079fe0c4af5a00904e0e5e6be76": {
      "model_module": "@jupyter-widgets/controls",
      "model_module_version": "1.5.0",
      "model_name": "SliderStyleModel",
      "state": {
       "description_width": ""
      }
     },
     "8de248f065ac4333add1276132a3a1af": {
      "model_module": "@jupyter-widgets/base",
      "model_module_version": "1.2.0",
      "model_name": "LayoutModel",
      "state": {}
     },
     "8df17d37e27443ad9328d89749c6d503": {
      "model_module": "@jupyter-widgets/base",
      "model_module_version": "1.2.0",
      "model_name": "LayoutModel",
      "state": {}
     },
     "902b0154ba784fa5ae664ec98d192b79": {
      "model_module": "@jupyter-widgets/base",
      "model_module_version": "1.2.0",
      "model_name": "LayoutModel",
      "state": {}
     },
     "90572a9be3834887837e1c92c50942d3": {
      "model_module": "@jupyter-widgets/controls",
      "model_module_version": "1.5.0",
      "model_name": "SliderStyleModel",
      "state": {
       "description_width": ""
      }
     },
     "9489091fac8a42049e7903b9c254cc10": {
      "model_module": "@jupyter-widgets/controls",
      "model_module_version": "1.5.0",
      "model_name": "SliderStyleModel",
      "state": {
       "description_width": ""
      }
     },
     "95a83821cc374981ad7cc80d3d26ea37": {
      "model_module": "@jupyter-widgets/base",
      "model_module_version": "1.2.0",
      "model_name": "LayoutModel",
      "state": {}
     },
     "9e75a4c558b44dbaaf6ebcd78db78e0c": {
      "model_module": "@jupyter-widgets/controls",
      "model_module_version": "1.5.0",
      "model_name": "SliderStyleModel",
      "state": {
       "description_width": ""
      }
     },
     "9e8cb4eeab024251a3b99bbdb8f71d3d": {
      "model_module": "@jupyter-widgets/controls",
      "model_module_version": "1.5.0",
      "model_name": "FloatSliderModel",
      "state": {
       "description": "frequency",
       "layout": "IPY_MODEL_1226ff7d417746a2a5cad8bdaaaab8ac",
       "max": 10,
       "step": 0.1,
       "style": "IPY_MODEL_f5512b3f879b479ba8a7204bcc2c5f11",
       "value": 3.7
      }
     },
     "a04ea77833f74cc78fa583d4042e0c43": {
      "model_module": "@jupyter-widgets/base",
      "model_module_version": "1.2.0",
      "model_name": "LayoutModel",
      "state": {}
     },
     "a119e660d3aa4a3c8717d367bba9182b": {
      "model_module": "@jupyter-widgets/output",
      "model_module_version": "1.0.0",
      "model_name": "OutputModel",
      "state": {
       "layout": "IPY_MODEL_a1bd2a32e04f4b6795e6f953c8287ee7",
       "outputs": [
        {
         "data": {
          "image/png": "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\n",
          "text/plain": "<Figure size 432x288 with 1 Axes>"
         },
         "metadata": {
          "needs_background": "light"
         },
         "output_type": "display_data"
        }
       ]
      }
     },
     "a1bd2a32e04f4b6795e6f953c8287ee7": {
      "model_module": "@jupyter-widgets/base",
      "model_module_version": "1.2.0",
      "model_name": "LayoutModel",
      "state": {}
     },
     "a60250565cde4147bef6026098718dcb": {
      "model_module": "@jupyter-widgets/output",
      "model_module_version": "1.0.0",
      "model_name": "OutputModel",
      "state": {
       "layout": "IPY_MODEL_82fc75d4edda409fbb873dda3e09fe79",
       "outputs": [
        {
         "data": {
          "image/png": "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\n",
          "text/plain": "<Figure size 432x288 with 1 Axes>"
         },
         "metadata": {
          "needs_background": "light"
         },
         "output_type": "display_data"
        }
       ]
      }
     },
     "a99cca9bd3b845378489beb7ca5f6ba1": {
      "model_module": "@jupyter-widgets/controls",
      "model_module_version": "1.5.0",
      "model_name": "SliderStyleModel",
      "state": {
       "description_width": ""
      }
     },
     "ac9d550200e94523bed2767c83a808ec": {
      "model_module": "@jupyter-widgets/base",
      "model_module_version": "1.2.0",
      "model_name": "LayoutModel",
      "state": {}
     },
     "b1b5f28e94ca45f7acab2a2ba7aeabb9": {
      "model_module": "@jupyter-widgets/controls",
      "model_module_version": "1.5.0",
      "model_name": "FloatSliderModel",
      "state": {
       "description": "t",
       "layout": "IPY_MODEL_ffc7fbf286c14cc58bc8ab58f52297f1",
       "max": 400,
       "step": 0.1,
       "style": "IPY_MODEL_ffa49a7f678143939444e8115011038a"
      }
     },
     "b2a284f723f34628932b10e44acdb211": {
      "model_module": "@jupyter-widgets/base",
      "model_module_version": "1.2.0",
      "model_name": "LayoutModel",
      "state": {}
     },
     "b2eeb3841c8a4cabba2c4a982445cc39": {
      "model_module": "@jupyter-widgets/base",
      "model_module_version": "1.2.0",
      "model_name": "LayoutModel",
      "state": {}
     },
     "b39d828b550f4f23b972064d9e8f8d63": {
      "model_module": "@jupyter-widgets/controls",
      "model_module_version": "1.5.0",
      "model_name": "SliderStyleModel",
      "state": {
       "description_width": ""
      }
     },
     "b5abd6e025d74346be6a75da961f878d": {
      "model_module": "@jupyter-widgets/controls",
      "model_module_version": "1.5.0",
      "model_name": "FloatSliderModel",
      "state": {
       "description": "conductivity",
       "layout": "IPY_MODEL_8af098b5f8164c2fb1b42e77bf47e7ba",
       "max": 100000000,
       "min": 10000000,
       "step": 1000000,
       "style": "IPY_MODEL_d053b83a07964f6798c974e143cc6896",
       "value": 60000000
      }
     },
     "b9e8fc9b35ab471ab575928d5ca2de1f": {
      "model_module": "@jupyter-widgets/base",
      "model_module_version": "1.2.0",
      "model_name": "LayoutModel",
      "state": {}
     },
     "bb20005fa6e44da9a5ee1b6323ec5c98": {
      "model_module": "@jupyter-widgets/controls",
      "model_module_version": "1.5.0",
      "model_name": "SliderStyleModel",
      "state": {
       "description_width": ""
      }
     },
     "bb6483a5987e476992d5f716f70503e1": {
      "model_module": "@jupyter-widgets/output",
      "model_module_version": "1.0.0",
      "model_name": "OutputModel",
      "state": {
       "layout": "IPY_MODEL_2e0f1cbc5e344a1b9b4d2b43615a93e5",
       "outputs": [
        {
         "data": {
          "image/png": "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\n",
          "text/plain": "<Figure size 432x288 with 1 Axes>"
         },
         "metadata": {
          "needs_background": "light"
         },
         "output_type": "display_data"
        }
       ]
      }
     },
     "bc13ebe6e2004c018c1a8b0836d46efe": {
      "model_module": "@jupyter-widgets/controls",
      "model_module_version": "1.5.0",
      "model_name": "VBoxModel",
      "state": {
       "_dom_classes": [
        "widget-interact"
       ],
       "children": [
        "IPY_MODEL_58e966d634404d21bf216bd7fe1eba91",
        "IPY_MODEL_7744cd86821448a9bfdd981cbaad3953",
        "IPY_MODEL_1fd25b5f97c64960b261aa7ec42d54c0",
        "IPY_MODEL_c8980d17bde940fda38727ce4ba234bb"
       ],
       "layout": "IPY_MODEL_1bfaee2de06c4facb36ae8145782e5d6"
      }
     },
     "c4a8262650994888b8f113f96bc05a08": {
      "model_module": "@jupyter-widgets/controls",
      "model_module_version": "1.5.0",
      "model_name": "FloatSliderModel",
      "state": {
       "description": "t",
       "layout": "IPY_MODEL_a04ea77833f74cc78fa583d4042e0c43",
       "max": 400,
       "step": 0.1,
       "style": "IPY_MODEL_6fefc6cd714c45a890fe742113f546a3"
      }
     },
     "c724f1fa7a8a4365886792c555395d94": {
      "model_module": "@jupyter-widgets/base",
      "model_module_version": "1.2.0",
      "model_name": "LayoutModel",
      "state": {}
     },
     "c8980d17bde940fda38727ce4ba234bb": {
      "model_module": "@jupyter-widgets/output",
      "model_module_version": "1.0.0",
      "model_name": "OutputModel",
      "state": {
       "layout": "IPY_MODEL_dd07d1c36e8c4896a3ce27ca0966761e",
       "outputs": [
        {
         "ename": "AttributeError",
         "evalue": "module 'matplotlib.pyplot' has no attribute 'legent'",
         "output_type": "error",
         "traceback": [
          "\u001b[1;31m---------------------------------------------------------------------------\u001b[0m",
          "\u001b[1;31mAttributeError\u001b[0m                            Traceback (most recent call last)",
          "\u001b[1;32m~\\AppData\\Local\\Continuum\\anaconda3\\lib\\site-packages\\ipywidgets\\widgets\\interaction.py\u001b[0m in \u001b[0;36mupdate\u001b[1;34m(self, *args)\u001b[0m\n\u001b[0;32m    254\u001b[0m                     \u001b[0mvalue\u001b[0m \u001b[1;33m=\u001b[0m \u001b[0mwidget\u001b[0m\u001b[1;33m.\u001b[0m\u001b[0mget_interact_value\u001b[0m\u001b[1;33m(\u001b[0m\u001b[1;33m)\u001b[0m\u001b[1;33m\u001b[0m\u001b[1;33m\u001b[0m\u001b[0m\n\u001b[0;32m    255\u001b[0m                     \u001b[0mself\u001b[0m\u001b[1;33m.\u001b[0m\u001b[0mkwargs\u001b[0m\u001b[1;33m[\u001b[0m\u001b[0mwidget\u001b[0m\u001b[1;33m.\u001b[0m\u001b[0m_kwarg\u001b[0m\u001b[1;33m]\u001b[0m \u001b[1;33m=\u001b[0m \u001b[0mvalue\u001b[0m\u001b[1;33m\u001b[0m\u001b[1;33m\u001b[0m\u001b[0m\n\u001b[1;32m--> 256\u001b[1;33m                 \u001b[0mself\u001b[0m\u001b[1;33m.\u001b[0m\u001b[0mresult\u001b[0m \u001b[1;33m=\u001b[0m \u001b[0mself\u001b[0m\u001b[1;33m.\u001b[0m\u001b[0mf\u001b[0m\u001b[1;33m(\u001b[0m\u001b[1;33m**\u001b[0m\u001b[0mself\u001b[0m\u001b[1;33m.\u001b[0m\u001b[0mkwargs\u001b[0m\u001b[1;33m)\u001b[0m\u001b[1;33m\u001b[0m\u001b[1;33m\u001b[0m\u001b[0m\n\u001b[0m\u001b[0;32m    257\u001b[0m                 \u001b[0mshow_inline_matplotlib_plots\u001b[0m\u001b[1;33m(\u001b[0m\u001b[1;33m)\u001b[0m\u001b[1;33m\u001b[0m\u001b[1;33m\u001b[0m\u001b[0m\n\u001b[0;32m    258\u001b[0m                 \u001b[1;32mif\u001b[0m \u001b[0mself\u001b[0m\u001b[1;33m.\u001b[0m\u001b[0mauto_display\u001b[0m \u001b[1;32mand\u001b[0m \u001b[0mself\u001b[0m\u001b[1;33m.\u001b[0m\u001b[0mresult\u001b[0m \u001b[1;32mis\u001b[0m \u001b[1;32mnot\u001b[0m \u001b[1;32mNone\u001b[0m\u001b[1;33m:\u001b[0m\u001b[1;33m\u001b[0m\u001b[1;33m\u001b[0m\u001b[0m\n",
          "\u001b[1;32m<ipython-input-12-ef17f4c9ee1c>\u001b[0m in \u001b[0;36m<lambda>\u001b[1;34m(t, frequency, conductivity)\u001b[0m\n\u001b[0;32m      1\u001b[0m ipywidgets.interact(\n\u001b[1;32m----> 2\u001b[1;33m     \u001b[1;32mlambda\u001b[0m \u001b[0mt\u001b[0m\u001b[1;33m,\u001b[0m \u001b[0mfrequency\u001b[0m\u001b[1;33m,\u001b[0m \u001b[0mconductivity\u001b[0m\u001b[1;33m:\u001b[0m \u001b[0mplotJcFullon\u001b[0m\u001b[1;33m(\u001b[0m\u001b[0mt\u001b[0m \u001b[1;33m=\u001b[0m \u001b[0mt\u001b[0m\u001b[1;33m,\u001b[0m \u001b[0mfrequency\u001b[0m \u001b[1;33m=\u001b[0m \u001b[0mfrequency\u001b[0m\u001b[1;33m,\u001b[0m \u001b[0mconductivity\u001b[0m \u001b[1;33m=\u001b[0m \u001b[0mconductivity\u001b[0m\u001b[1;33m)\u001b[0m\u001b[1;33m,\u001b[0m\u001b[1;33m\u001b[0m\u001b[1;33m\u001b[0m\u001b[0m\n\u001b[0m\u001b[0;32m      3\u001b[0m     \u001b[0mt\u001b[0m\u001b[1;33m=\u001b[0m\u001b[0mipywidgets\u001b[0m\u001b[1;33m.\u001b[0m\u001b[0mFloatSlider\u001b[0m\u001b[1;33m(\u001b[0m\u001b[0mmin\u001b[0m\u001b[1;33m=\u001b[0m\u001b[1;36m0\u001b[0m\u001b[1;33m,\u001b[0m \u001b[0mmax\u001b[0m\u001b[1;33m=\u001b[0m\u001b[1;36m50\u001b[0m\u001b[1;33m,\u001b[0m \u001b[0mstep\u001b[0m\u001b[1;33m=\u001b[0m\u001b[1;36m0.1\u001b[0m\u001b[1;33m,\u001b[0m \u001b[0mvalue\u001b[0m\u001b[1;33m=\u001b[0m\u001b[1;36m0\u001b[0m\u001b[1;33m)\u001b[0m\u001b[1;33m,\u001b[0m \u001b[1;31m#  in seconds\u001b[0m\u001b[1;33m\u001b[0m\u001b[1;33m\u001b[0m\u001b[0m\n\u001b[0;32m      4\u001b[0m     \u001b[0mfrequency\u001b[0m\u001b[1;33m=\u001b[0m \u001b[0mipywidgets\u001b[0m\u001b[1;33m.\u001b[0m\u001b[0mFloatSlider\u001b[0m\u001b[1;33m(\u001b[0m\u001b[0mmin\u001b[0m\u001b[1;33m=\u001b[0m\u001b[1;36m0\u001b[0m\u001b[1;33m,\u001b[0m \u001b[0mmax\u001b[0m\u001b[1;33m=\u001b[0m\u001b[1;36m49\u001b[0m\u001b[1;33m,\u001b[0m \u001b[0mstep\u001b[0m\u001b[1;33m=\u001b[0m\u001b[1;36m0.1\u001b[0m\u001b[1;33m,\u001b[0m \u001b[0mvalue\u001b[0m\u001b[1;33m=\u001b[0m\u001b[1;36m0.0\u001b[0m\u001b[1;33m)\u001b[0m\u001b[1;33m,\u001b[0m \u001b[1;31m# in Hz\u001b[0m\u001b[1;33m\u001b[0m\u001b[1;33m\u001b[0m\u001b[0m\n\u001b[0;32m      5\u001b[0m     \u001b[0mconductivity\u001b[0m \u001b[1;33m=\u001b[0m \u001b[0mipywidgets\u001b[0m\u001b[1;33m.\u001b[0m\u001b[0mFloatSlider\u001b[0m\u001b[1;33m(\u001b[0m\u001b[0mmin\u001b[0m\u001b[1;33m=\u001b[0m\u001b[1;36m1e7\u001b[0m\u001b[1;33m,\u001b[0m \u001b[0mmax\u001b[0m\u001b[1;33m=\u001b[0m\u001b[1;36m1e8\u001b[0m\u001b[1;33m,\u001b[0m \u001b[0mstep\u001b[0m\u001b[1;33m=\u001b[0m\u001b[1;36m1e6\u001b[0m\u001b[1;33m,\u001b[0m \u001b[0mvalue\u001b[0m\u001b[1;33m=\u001b[0m\u001b[1;36m6e7\u001b[0m\u001b[1;33m)\u001b[0m\u001b[1;33m,\u001b[0m \u001b[1;31m# in Hz\u001b[0m\u001b[1;33m\u001b[0m\u001b[1;33m\u001b[0m\u001b[0m\n",
          "\u001b[1;32m<ipython-input-10-8b59bdca9dfc>\u001b[0m in \u001b[0;36mplotJcFullon\u001b[1;34m(t, frequency, conductivity)\u001b[0m\n\u001b[0;32m     53\u001b[0m     \u001b[0mpyplot\u001b[0m\u001b[1;33m.\u001b[0m\u001b[0mxlabel\u001b[0m\u001b[1;33m(\u001b[0m\u001b[1;34m'$x/a$'\u001b[0m\u001b[1;33m)\u001b[0m\u001b[1;33m\u001b[0m\u001b[1;33m\u001b[0m\u001b[0m\n\u001b[0;32m     54\u001b[0m     \u001b[0mpyplot\u001b[0m\u001b[1;33m.\u001b[0m\u001b[0mylabel\u001b[0m\u001b[1;33m(\u001b[0m\u001b[1;34m'$J_C(r)/J_0$'\u001b[0m\u001b[1;33m)\u001b[0m\u001b[1;33m\u001b[0m\u001b[1;33m\u001b[0m\u001b[0m\n\u001b[1;32m---> 55\u001b[1;33m     \u001b[0mpyplot\u001b[0m\u001b[1;33m.\u001b[0m\u001b[0mlegent\u001b[0m\u001b[1;33m(\u001b[0m\u001b[1;33m[\u001b[0m\u001b[1;34m'Approximate solution'\u001b[0m\u001b[1;33m,\u001b[0m \u001b[1;34m'Full on solution'\u001b[0m\u001b[1;33m]\u001b[0m\u001b[1;33m)\u001b[0m\u001b[1;33m\u001b[0m\u001b[1;33m\u001b[0m\u001b[0m\n\u001b[0m\u001b[0;32m     56\u001b[0m \u001b[1;33m\u001b[0m\u001b[0m\n\u001b[0;32m     57\u001b[0m \u001b[1;33m\u001b[0m\u001b[0m\n",
          "\u001b[1;31mAttributeError\u001b[0m: module 'matplotlib.pyplot' has no attribute 'legent'"
         ]
        }
       ]
      }
     },
     "c9dea0f5b66047bfb6058485e60130e2": {
      "model_module": "@jupyter-widgets/base",
      "model_module_version": "1.2.0",
      "model_name": "LayoutModel",
      "state": {}
     },
     "cb92aa087c134f7b989a81c81775c893": {
      "model_module": "@jupyter-widgets/controls",
      "model_module_version": "1.5.0",
      "model_name": "FloatSliderModel",
      "state": {
       "description": "t",
       "layout": "IPY_MODEL_d1338b28d2624a0896cf4694b8c82467",
       "max": 50,
       "step": 0.1,
       "style": "IPY_MODEL_20d1aa397c654c539a335e38009f5a05"
      }
     },
     "cff9ef227bce4888a98026ec5989a7ea": {
      "model_module": "@jupyter-widgets/base",
      "model_module_version": "1.2.0",
      "model_name": "LayoutModel",
      "state": {}
     },
     "d053b83a07964f6798c974e143cc6896": {
      "model_module": "@jupyter-widgets/controls",
      "model_module_version": "1.5.0",
      "model_name": "SliderStyleModel",
      "state": {
       "description_width": ""
      }
     },
     "d0c79ba0492f431581e8eb9d9ba8d647": {
      "model_module": "@jupyter-widgets/controls",
      "model_module_version": "1.5.0",
      "model_name": "SliderStyleModel",
      "state": {
       "description_width": ""
      }
     },
     "d103a7d53a1b448ea7c755e1e27aeb5c": {
      "model_module": "@jupyter-widgets/controls",
      "model_module_version": "1.5.0",
      "model_name": "SliderStyleModel",
      "state": {
       "description_width": ""
      }
     },
     "d1338b28d2624a0896cf4694b8c82467": {
      "model_module": "@jupyter-widgets/base",
      "model_module_version": "1.2.0",
      "model_name": "LayoutModel",
      "state": {}
     },
     "d4d57a4782894911962fc7af9dd55d9f": {
      "model_module": "@jupyter-widgets/controls",
      "model_module_version": "1.5.0",
      "model_name": "FloatSliderModel",
      "state": {
       "description": "t",
       "layout": "IPY_MODEL_e8425ebd83fd4eea850a7b2d3a77f9df",
       "max": 50,
       "step": 0.1,
       "style": "IPY_MODEL_861444e4bd6841d5b0fe21688cc901c8",
       "value": 32.4
      }
     },
     "dacbfaaf7a2b450fa77453c88aca7c0a": {
      "model_module": "@jupyter-widgets/controls",
      "model_module_version": "1.5.0",
      "model_name": "VBoxModel",
      "state": {
       "_dom_classes": [
        "widget-interact"
       ],
       "children": [
        "IPY_MODEL_d4d57a4782894911962fc7af9dd55d9f",
        "IPY_MODEL_e199f05022ad4987951beac67a71f2cf",
        "IPY_MODEL_2fbb3ecd6da34d98a58b027357a60bf7",
        "IPY_MODEL_3b8b856d49604675b8af3d6fc74ecc28"
       ],
       "layout": "IPY_MODEL_8df17d37e27443ad9328d89749c6d503"
      }
     },
     "dad8691abea744c59ea019b59b185fcb": {
      "model_module": "@jupyter-widgets/controls",
      "model_module_version": "1.5.0",
      "model_name": "SliderStyleModel",
      "state": {
       "description_width": ""
      }
     },
     "dc68f231c08d45d58d4104b6f2c4bfc3": {
      "model_module": "@jupyter-widgets/controls",
      "model_module_version": "1.5.0",
      "model_name": "VBoxModel",
      "state": {
       "_dom_classes": [
        "widget-interact"
       ],
       "children": [
        "IPY_MODEL_cb92aa087c134f7b989a81c81775c893",
        "IPY_MODEL_18933f8169c3449eb18a8e0246416ad4",
        "IPY_MODEL_4855bd585c2941babdbcfdde9d4fc34c",
        "IPY_MODEL_5f2fe2fd46a34b9dbd6583481210cd66"
       ],
       "layout": "IPY_MODEL_b2a284f723f34628932b10e44acdb211"
      }
     },
     "dd07d1c36e8c4896a3ce27ca0966761e": {
      "model_module": "@jupyter-widgets/base",
      "model_module_version": "1.2.0",
      "model_name": "LayoutModel",
      "state": {}
     },
     "de49d14e9147422b994688a6f5e1c922": {
      "model_module": "@jupyter-widgets/output",
      "model_module_version": "1.0.0",
      "model_name": "OutputModel",
      "state": {
       "layout": "IPY_MODEL_1d779b62459245829fada8813e76ccfd",
       "outputs": [
        {
         "data": {
          "image/png": "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\n",
          "text/plain": "<Figure size 432x288 with 1 Axes>"
         },
         "metadata": {
          "needs_background": "light"
         },
         "output_type": "display_data"
        }
       ]
      }
     },
     "e199f05022ad4987951beac67a71f2cf": {
      "model_module": "@jupyter-widgets/controls",
      "model_module_version": "1.5.0",
      "model_name": "FloatSliderModel",
      "state": {
       "description": "frequency",
       "layout": "IPY_MODEL_1d41936192af4fffb287eb6ab8736532",
       "max": 49,
       "step": 0.1,
       "style": "IPY_MODEL_8231051e09474a1c8850894ae922210f",
       "value": 11.6
      }
     },
     "e2cb4fe064cc4a6f9781ff0d6b839fa0": {
      "model_module": "@jupyter-widgets/controls",
      "model_module_version": "1.5.0",
      "model_name": "SliderStyleModel",
      "state": {
       "description_width": ""
      }
     },
     "e2e81e78156c43079fdab5cb83618ba1": {
      "model_module": "@jupyter-widgets/controls",
      "model_module_version": "1.5.0",
      "model_name": "FloatSliderModel",
      "state": {
       "description": "t",
       "layout": "IPY_MODEL_f0e572b39e80466cb5d1e4b0f8707b4e",
       "max": 50,
       "step": 0.1,
       "style": "IPY_MODEL_a99cca9bd3b845378489beb7ca5f6ba1",
       "value": 31.5
      }
     },
     "e4a88570973e4b988968e6b992386d09": {
      "model_module": "@jupyter-widgets/output",
      "model_module_version": "1.0.0",
      "model_name": "OutputModel",
      "state": {
       "layout": "IPY_MODEL_f0a9ec3234ee4fd38621651270686c9e",
       "outputs": [
        {
         "data": {
          "image/png": "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\n",
          "text/plain": "<Figure size 1440x720 with 2 Axes>"
         },
         "metadata": {
          "needs_background": "light"
         },
         "output_type": "display_data"
        }
       ]
      }
     },
     "e6b77bb7ee6d473496e664eaea33d66e": {
      "model_module": "@jupyter-widgets/controls",
      "model_module_version": "1.5.0",
      "model_name": "FloatSliderModel",
      "state": {
       "description": "frequency",
       "layout": "IPY_MODEL_b9e8fc9b35ab471ab575928d5ca2de1f",
       "max": 49,
       "step": 0.1,
       "style": "IPY_MODEL_e99742d01c124153aba2f0b7aee2c6cd"
      }
     },
     "e8425ebd83fd4eea850a7b2d3a77f9df": {
      "model_module": "@jupyter-widgets/base",
      "model_module_version": "1.2.0",
      "model_name": "LayoutModel",
      "state": {}
     },
     "e98a7e88c3cb4850a3090dd54cb13dbd": {
      "model_module": "@jupyter-widgets/base",
      "model_module_version": "1.2.0",
      "model_name": "LayoutModel",
      "state": {}
     },
     "e99742d01c124153aba2f0b7aee2c6cd": {
      "model_module": "@jupyter-widgets/controls",
      "model_module_version": "1.5.0",
      "model_name": "SliderStyleModel",
      "state": {
       "description_width": ""
      }
     },
     "f0a9ec3234ee4fd38621651270686c9e": {
      "model_module": "@jupyter-widgets/base",
      "model_module_version": "1.2.0",
      "model_name": "LayoutModel",
      "state": {}
     },
     "f0e572b39e80466cb5d1e4b0f8707b4e": {
      "model_module": "@jupyter-widgets/base",
      "model_module_version": "1.2.0",
      "model_name": "LayoutModel",
      "state": {}
     },
     "f31c5cb8dc674faab42c10b2f0204140": {
      "model_module": "@jupyter-widgets/controls",
      "model_module_version": "1.5.0",
      "model_name": "FloatSliderModel",
      "state": {
       "description": "conductivity",
       "layout": "IPY_MODEL_5344eaeb25de4e92b1eacee2c95a3e46",
       "max": 100000000,
       "min": 10000000,
       "step": 1000000,
       "style": "IPY_MODEL_e2cb4fe064cc4a6f9781ff0d6b839fa0",
       "value": 60000000
      }
     },
     "f3cc2d3d4200445492279f3de599084f": {
      "model_module": "@jupyter-widgets/output",
      "model_module_version": "1.0.0",
      "model_name": "OutputModel",
      "state": {
       "layout": "IPY_MODEL_851df5162e114900b07627bd0f1a37b6",
       "outputs": [
        {
         "data": {
          "image/png": "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\n",
          "text/plain": "<Figure size 432x288 with 1 Axes>"
         },
         "metadata": {
          "needs_background": "light"
         },
         "output_type": "display_data"
        }
       ]
      }
     },
     "f5512b3f879b479ba8a7204bcc2c5f11": {
      "model_module": "@jupyter-widgets/controls",
      "model_module_version": "1.5.0",
      "model_name": "SliderStyleModel",
      "state": {
       "description_width": ""
      }
     },
     "f755ccc82d364280a200f304bae85bc5": {
      "model_module": "@jupyter-widgets/controls",
      "model_module_version": "1.5.0",
      "model_name": "VBoxModel",
      "state": {
       "_dom_classes": [
        "widget-interact"
       ],
       "children": [
        "IPY_MODEL_46d0b70c31da4980a564c29c783bc210",
        "IPY_MODEL_41de20d772ca49f68530f062a05a0d02",
        "IPY_MODEL_f31c5cb8dc674faab42c10b2f0204140",
        "IPY_MODEL_a119e660d3aa4a3c8717d367bba9182b"
       ],
       "layout": "IPY_MODEL_4fa09158b600425ca50e76ac87b43676"
      }
     },
     "fcf2051e10c84b4aa9d7aeb7747964e0": {
      "model_module": "@jupyter-widgets/base",
      "model_module_version": "1.2.0",
      "model_name": "LayoutModel",
      "state": {}
     },
     "fe134a8d188e426e927151b9004c414f": {
      "model_module": "@jupyter-widgets/base",
      "model_module_version": "1.2.0",
      "model_name": "LayoutModel",
      "state": {}
     },
     "ffa49a7f678143939444e8115011038a": {
      "model_module": "@jupyter-widgets/controls",
      "model_module_version": "1.5.0",
      "model_name": "SliderStyleModel",
      "state": {
       "description_width": ""
      }
     },
     "ffc7fbf286c14cc58bc8ab58f52297f1": {
      "model_module": "@jupyter-widgets/base",
      "model_module_version": "1.2.0",
      "model_name": "LayoutModel",
      "state": {}
     }
    },
    "version_major": 2,
    "version_minor": 0
   }
  }
 },
 "nbformat": 4,
 "nbformat_minor": 4
}
