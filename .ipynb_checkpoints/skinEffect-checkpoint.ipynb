{
 "cells": [
  {
   "cell_type": "markdown",
   "metadata": {},
   "source": [
    "# Skin effect\n",
    "In the lectures (nugget 8) you looked at AC current in a wire and particularly the skin effect. In the process you saw a full-on (non-examinable) solution. In this worksheet you calculate an approximation for when the skin depth is much less than the radius. This worksheet plots the full on solution allowing you to inspect how well this agrees with the sketches in your approximation.\n",
    "\n",
    "**You need to run all the cells in this section for anything to work.**"
   ]
  },
  {
   "cell_type": "code",
   "execution_count": 1,
   "metadata": {},
   "outputs": [],
   "source": [
    "%matplotlib inline\n",
    "from matplotlib import pyplot\n",
    "import numpy as np\n",
    "import ipywidgets\n",
    "\n",
    "from scipy.special import iv as bessel # renamed Modified Bessel function of the first kind of real order. for clarity"
   ]
  },
  {
   "cell_type": "code",
   "execution_count": 65,
   "metadata": {},
   "outputs": [],
   "source": [
    "def skinDepth(conductivity = 6e7, frequency = 0):\n",
    "    r'''\n",
    "    Calculates the skin depth for a given frequency. sets to infinity if frequency is 0\n",
    "    '''\n",
    "    mu0 = 4 * np.pi * 1e-7\n",
    "    omega = 2 * np.pi * frequency\n",
    "    \n",
    "    if frequency == 0:\n",
    "        delta = np.Inf\n",
    "    else:\n",
    "        delta = np.sqrt(2/(mu0 * conductivity * omega))\n",
    "    return delta\n",
    "\n",
    "def approxJc(x, t, frequency = 0, conductivity  = 6e7):\n",
    "    r''' \n",
    "    Returns the approximate Jc as calculated in the worksheet\n",
    "    '''\n",
    "    delta = skinDepth(conductivity = conductivity, frequency = frequency)\n",
    "    phasefactor = np.exp(- 1j * 2 * np.pi * frequency * t)\n",
    "    \n",
    "    jc =  np.exp(-x / delta) * np.exp( 1j * x / delta)\n",
    "    Jc = np.real(jc * phasefactor)\n",
    "    return Jc\n",
    "\n",
    "def JcFullon(x, t, frequency = 0, conductivity  = 6e7):\n",
    "    r'''\n",
    "    Plots the approximation of Jc from the worksheet\n",
    "    '''\n",
    "    #x = np.arange(0,1,0.001) # distance from centre of the wire forced to be 1 (as normalised to a radius of 1)\n",
    "    a = 1\n",
    "    r = a - x # In the approximation we work with x but for the full solution we use r\n",
    "    \n",
    "    delta = skinDepth(conductivity = conductivity, frequency = frequency)\n",
    "    phasefactor = np.exp(- 1j * 2 * np.pi * frequency * t)\n",
    "    \n",
    "    j0 = bessel(0, (1 + 1j) * 1 / delta) # here j0 = jc(x = 0) as in the worksheet)\n",
    "    Jc_norm = bessel(0, (1 + 1j) * r / delta) * phasefactor / j0 \n",
    "    Jc_norm = np.real(Jc_norm)\n",
    "    return Jc_norm\n",
    "\n",
    "def plotJcFullon(t, frequency = 0, conductivity  = 6e7):\n",
    "    r'''\n",
    "    Plots the approximation of Jc from the worksheet\n",
    "    '''\n",
    "    x = np.arange(0,1,0.0001) # distance from centre of the wire forced to be 1 (as normalised to a radius of 1)\n",
    "    \n",
    "    \n",
    "    fig = pyplot.plot(x, approxJc(x,t, frequency = frequency, conductivity = conductivity))\n",
    "    fig = pyplot.plot(x, JcFullon(x,t, frequency = frequency, conductivity = conductivity))\n",
    "    # formatting the plot\n",
    "    pyplot.ylim(-1.1,1.1)\n",
    "    pyplot.xlim(0,0.1)\n",
    "    pyplot.xlabel('$x/a$')\n",
    "    pyplot.ylabel('$J_C(r)/J_0$')  \n",
    "    \n",
    "\n",
    "def plotJcApprox(t, frequency = 0, conductivity  = 6e7):\n",
    "    r'''\n",
    "    Plots the approximation of Jc from the worksheet\n",
    "    '''\n",
    "    x = np.arange(0,1,0.0001) # distance from centre of the wire forced to be 1 (as normalised to a radius of 1)\n",
    "    \n",
    "    \n",
    "    fig = pyplot.plot(x, approxJc(x,t, frequency = frequency, conductivity = conductivity))\n",
    "    # formatting the plot\n",
    "    pyplot.ylim(-1.1,1.1)\n",
    "    pyplot.xlim(0,0.1)\n",
    "    pyplot.xlabel('$x/a$')\n",
    "    pyplot.ylabel('$J_C(r)/J_0$')  \n",
    "    "
   ]
  },
  {
   "cell_type": "markdown",
   "metadata": {},
   "source": [
    "# Approximation\n",
    "\n",
    "In the worksheet you calculated an approximation for the current density as a function of depth (x). This is plotted in the below function."
   ]
  },
  {
   "cell_type": "code",
   "execution_count": 14,
   "metadata": {},
   "outputs": [
    {
     "data": {
      "application/vnd.jupyter.widget-view+json": {
       "model_id": "7a5e582ab8ce4c778fed6906b1c23dfb",
       "version_major": 2,
       "version_minor": 0
      },
      "text/plain": [
       "interactive(children=(FloatSlider(value=0.0, description='t', max=400.0), FloatSlider(value=0.0, description='…"
      ]
     },
     "metadata": {},
     "output_type": "display_data"
    }
   ],
   "source": [
    "ipywidgets.interact(\n",
    "    lambda t, frequency, conductivity: plotJcApprox(t = t, frequency = frequency, conductivity = conductivity),\n",
    "    t=ipywidgets.FloatSlider(min=0, max=400, step=0.1, value=0), #  in seconds \n",
    "    frequency= ipywidgets.FloatSlider(min=0, max=49, step=0.1, value=0.0), # in Hz\n",
    "    conductivity = ipywidgets.FloatSlider(min=1e7, max=1e8, step=1e6, value=6e7), # in Hz\n",
    ");"
   ]
  },
  {
   "cell_type": "markdown",
   "metadata": {},
   "source": [
    "# Comparison to full solution\n",
    "The full on solution uses complex Bessel functions. Working with these is beyond the scope of the course but it is possible to simulate. Below the approximation from the worksheet is overlaid on the full on solution to give you an idea when this approximation breaks down. Note that the scale on the x axis is changed compared to the previous example."
   ]
  },
  {
   "cell_type": "code",
   "execution_count": 16,
   "metadata": {},
   "outputs": [
    {
     "data": {
      "application/vnd.jupyter.widget-view+json": {
       "model_id": "ed084c111070480ea83f0c9dc41192ee",
       "version_major": 2,
       "version_minor": 0
      },
      "text/plain": [
       "interactive(children=(FloatSlider(value=0.0, description='t', max=400.0), FloatSlider(value=0.0, description='…"
      ]
     },
     "metadata": {},
     "output_type": "display_data"
    }
   ],
   "source": [
    "ipywidgets.interact(\n",
    "    lambda t, frequency, conductivity: plotJcFullon(t = t, frequency = frequency, conductivity = conductivity),\n",
    "    t=ipywidgets.FloatSlider(min=0, max=50, step=0.1, value=0), #  in seconds \n",
    "    frequency= ipywidgets.FloatSlider(min=0, max=49, step=0.1, value=0.0), # in Hz\n",
    "    conductivity = ipywidgets.FloatSlider(min=1e7, max=1e8, step=1e6, value=6e7), # in Hz\n",
    ");"
   ]
  },
  {
   "cell_type": "markdown",
   "metadata": {},
   "source": [
    "# Kymograph\n",
    "It can be illustrative to show this function as a kymograph with time on the x axis and distance from the surface on the y axis "
   ]
  },
  {
   "cell_type": "code",
   "execution_count": 120,
   "metadata": {},
   "outputs": [],
   "source": [
    "def plotKymograph(frequency = 1, conductivity  = 6e7):\n",
    "    depth = np.arange(0,0.1,0.01)\n",
    "    time = np.arange(0, 10, 0.01)\n",
    "\n",
    "    time, depth = np.meshgrid(time, depth)\n",
    "    Jc = JcFullon(depth, time, frequency = frequency, conductivity  = conductivity)\n",
    "    fig, axes = pyplot.subplots(figsize = [20,10])\n",
    "    cs = axes.contourf(time, depth, Jc, cmap = 'Spectral')\n",
    "    cbar = fig.colorbar(cs)\n",
    "    axes.set_xlabel('time/s')\n",
    "    axes.set_ylabel('depth in wire/a')"
   ]
  },
  {
   "cell_type": "code",
   "execution_count": 121,
   "metadata": {},
   "outputs": [
    {
     "data": {
      "application/vnd.jupyter.widget-view+json": {
       "model_id": "1864034d9c644321b6f5d16b9134986c",
       "version_major": 2,
       "version_minor": 0
      },
      "text/plain": [
       "interactive(children=(FloatSlider(value=0.0, description='frequency', max=10.0), FloatSlider(value=60000000.0,…"
      ]
     },
     "metadata": {},
     "output_type": "display_data"
    }
   ],
   "source": [
    "ipywidgets.interact(\n",
    "    lambda frequency, conductivity: plotKymograph(frequency = frequency, conductivity = conductivity),\n",
    "    frequency= ipywidgets.FloatSlider(min=0, max=10, step=0.1, value=0.0), # in Hz\n",
    "    conductivity = ipywidgets.FloatSlider(min=1e7, max=1e8, step=1e6, value=6e7), # in Hz\n",
    ");"
   ]
  },
  {
   "cell_type": "code",
   "execution_count": null,
   "metadata": {},
   "outputs": [],
   "source": []
  }
 ],
 "metadata": {
  "kernelspec": {
   "display_name": "Python 3",
   "language": "python",
   "name": "python3"
  },
  "language_info": {
   "codemirror_mode": {
    "name": "ipython",
    "version": 3
   },
   "file_extension": ".py",
   "mimetype": "text/x-python",
   "name": "python",
   "nbconvert_exporter": "python",
   "pygments_lexer": "ipython3",
   "version": "3.7.4"
  },
  "widgets": {
   "application/vnd.jupyter.widget-state+json": {
    "state": {
     "00d7874ed9e747db987fc7bb86a15221": {
      "model_module": "@jupyter-widgets/controls",
      "model_module_version": "1.5.0",
      "model_name": "FloatSliderModel",
      "state": {
       "description": "frequency",
       "layout": "IPY_MODEL_a17fd79eac47463bb66b4cffe040368c",
       "max": 49,
       "step": 0.1,
       "style": "IPY_MODEL_97811559f9c74809bbcb9832e06eabf6",
       "value": 22.3
      }
     },
     "01140e22af13492a99532f682343ef69": {
      "model_module": "@jupyter-widgets/controls",
      "model_module_version": "1.5.0",
      "model_name": "FloatSliderModel",
      "state": {
       "description": "conductivity",
       "layout": "IPY_MODEL_2d1c669a42d44bfdbdecc04319393969",
       "max": 100000000,
       "min": 10000000,
       "step": 1000000,
       "style": "IPY_MODEL_1a1b61aad3964029aedc4339664a7802",
       "value": 60000000
      }
     },
     "051600fc260d4bb4aa8f3ea764cfc745": {
      "model_module": "@jupyter-widgets/controls",
      "model_module_version": "1.5.0",
      "model_name": "FloatSliderModel",
      "state": {
       "description": "t",
       "layout": "IPY_MODEL_b2e43ac40c93453883e534c805df953f",
       "max": 400,
       "step": 0.1,
       "style": "IPY_MODEL_59992927c4e34b59b96971587a7f1cd1",
       "value": 367.1
      }
     },
     "0862b4b045e849b0b9f488e32b035112": {
      "model_module": "@jupyter-widgets/base",
      "model_module_version": "1.2.0",
      "model_name": "LayoutModel",
      "state": {}
     },
     "0e06fee31f3f48cdaa9c3f8ae985c4e1": {
      "model_module": "@jupyter-widgets/base",
      "model_module_version": "1.2.0",
      "model_name": "LayoutModel",
      "state": {}
     },
     "0ecac4add08a4642bac0289a69569b43": {
      "model_module": "@jupyter-widgets/base",
      "model_module_version": "1.2.0",
      "model_name": "LayoutModel",
      "state": {}
     },
     "0f907368f6734b38976ac2c245ac0910": {
      "model_module": "@jupyter-widgets/controls",
      "model_module_version": "1.5.0",
      "model_name": "SliderStyleModel",
      "state": {
       "description_width": ""
      }
     },
     "0fbf9626f5f748edb1e773088c5eb855": {
      "model_module": "@jupyter-widgets/controls",
      "model_module_version": "1.5.0",
      "model_name": "FloatSliderModel",
      "state": {
       "description": "frequency",
       "layout": "IPY_MODEL_d25cb1c2150c427891b9dcda22e91364",
       "max": 49,
       "step": 0.1,
       "style": "IPY_MODEL_27063ae2885c44a2bbf4e1e0d68f893f",
       "value": 36.1
      }
     },
     "100f3f18f8ef42a6b22638a7b535ff6a": {
      "model_module": "@jupyter-widgets/base",
      "model_module_version": "1.2.0",
      "model_name": "LayoutModel",
      "state": {}
     },
     "103e2534e3b44d82800276614bf8050d": {
      "model_module": "@jupyter-widgets/base",
      "model_module_version": "1.2.0",
      "model_name": "LayoutModel",
      "state": {}
     },
     "11b46e72f5d44ccfb03226fbbeb5c77f": {
      "model_module": "@jupyter-widgets/base",
      "model_module_version": "1.2.0",
      "model_name": "LayoutModel",
      "state": {}
     },
     "11b915395881409c93287c372f9c78c2": {
      "model_module": "@jupyter-widgets/controls",
      "model_module_version": "1.5.0",
      "model_name": "VBoxModel",
      "state": {
       "_dom_classes": [
        "widget-interact"
       ],
       "children": [
        "IPY_MODEL_7f04ea23bf734fdbb98a4e5c63814d6c",
        "IPY_MODEL_0fbf9626f5f748edb1e773088c5eb855",
        "IPY_MODEL_828eb65c466a41ab933fd4d1a2caa6fc",
        "IPY_MODEL_ebfe8c5f75d647b9841805ab13e35b13"
       ],
       "layout": "IPY_MODEL_9410fcf03963407291a64a6a933b6b44"
      }
     },
     "12577897923c4485bd081ee8e2d66b71": {
      "model_module": "@jupyter-widgets/controls",
      "model_module_version": "1.5.0",
      "model_name": "SliderStyleModel",
      "state": {
       "description_width": ""
      }
     },
     "1362680c26984196b4968ae23b3c5e23": {
      "model_module": "@jupyter-widgets/controls",
      "model_module_version": "1.5.0",
      "model_name": "SliderStyleModel",
      "state": {
       "description_width": ""
      }
     },
     "13ffdd47c5b742d78fcedb61f35c1b35": {
      "model_module": "@jupyter-widgets/controls",
      "model_module_version": "1.5.0",
      "model_name": "FloatSliderModel",
      "state": {
       "description": "frequency",
       "layout": "IPY_MODEL_2b7247b8ebf6438698184e0af32189f4",
       "max": 49,
       "step": 0.1,
       "style": "IPY_MODEL_38d56607e3bc4605aaec1da66b2771ac",
       "value": 13.6
      }
     },
     "14730801ea53494094baef0f771f30d4": {
      "model_module": "@jupyter-widgets/controls",
      "model_module_version": "1.5.0",
      "model_name": "FloatSliderModel",
      "state": {
       "description": "frequency",
       "layout": "IPY_MODEL_f514f22c95bf4511a437197ce86872c2",
       "max": 10,
       "step": 0.1,
       "style": "IPY_MODEL_d7c36f0195aa421692b79307c6ccfb24",
       "value": 0.9
      }
     },
     "149817b3023e45d58ee0f4a77d58d8c2": {
      "model_module": "@jupyter-widgets/controls",
      "model_module_version": "1.5.0",
      "model_name": "FloatSliderModel",
      "state": {
       "description": "frequency",
       "layout": "IPY_MODEL_8b535bc07c0042f1afaccff3adf098b1",
       "max": 20,
       "step": 0.1,
       "style": "IPY_MODEL_691e8bd810df466ab0756984b073f3c8"
      }
     },
     "16066c9eb65a4efb930ea2f24e7c363a": {
      "model_module": "@jupyter-widgets/base",
      "model_module_version": "1.2.0",
      "model_name": "LayoutModel",
      "state": {}
     },
     "178cf4d38315405c976c1a3ce4a40130": {
      "model_module": "@jupyter-widgets/output",
      "model_module_version": "1.0.0",
      "model_name": "OutputModel",
      "state": {
       "layout": "IPY_MODEL_d47976ef3fcc4a90bb50c853e2a14978",
       "outputs": [
        {
         "data": {
          "image/png": "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\n",
          "text/plain": "<Figure size 432x288 with 1 Axes>"
         },
         "metadata": {
          "needs_background": "light"
         },
         "output_type": "display_data"
        }
       ]
      }
     },
     "182c7c520a4e46f7bf76299f3c9b9062": {
      "model_module": "@jupyter-widgets/output",
      "model_module_version": "1.0.0",
      "model_name": "OutputModel",
      "state": {
       "layout": "IPY_MODEL_6f7c0d973be54fd4bf29778d97daa842",
       "outputs": [
        {
         "data": {
          "image/png": "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\n",
          "text/plain": "<Figure size 1440x720 with 2 Axes>"
         },
         "metadata": {
          "needs_background": "light"
         },
         "output_type": "display_data"
        }
       ]
      }
     },
     "1864034d9c644321b6f5d16b9134986c": {
      "model_module": "@jupyter-widgets/controls",
      "model_module_version": "1.5.0",
      "model_name": "VBoxModel",
      "state": {
       "_dom_classes": [
        "widget-interact"
       ],
       "children": [
        "IPY_MODEL_14730801ea53494094baef0f771f30d4",
        "IPY_MODEL_01140e22af13492a99532f682343ef69",
        "IPY_MODEL_eb93d60c5e6b4fcf810737b640143b51"
       ],
       "layout": "IPY_MODEL_43e67e2cf68d4f94b28a474348f29bf2"
      }
     },
     "1a1b61aad3964029aedc4339664a7802": {
      "model_module": "@jupyter-widgets/controls",
      "model_module_version": "1.5.0",
      "model_name": "SliderStyleModel",
      "state": {
       "description_width": ""
      }
     },
     "1a2204382f124893931d089b0a4c4400": {
      "model_module": "@jupyter-widgets/controls",
      "model_module_version": "1.5.0",
      "model_name": "SliderStyleModel",
      "state": {
       "description_width": ""
      }
     },
     "1c70eb05c93042578eb49cc85661eb52": {
      "model_module": "@jupyter-widgets/base",
      "model_module_version": "1.2.0",
      "model_name": "LayoutModel",
      "state": {}
     },
     "1f79dce5334041e385acb9939621fa11": {
      "model_module": "@jupyter-widgets/controls",
      "model_module_version": "1.5.0",
      "model_name": "VBoxModel",
      "state": {
       "_dom_classes": [
        "widget-interact"
       ],
       "children": [
        "IPY_MODEL_587319001a2344d1bca80c542452e89f",
        "IPY_MODEL_229b85592c664164a4c9aa92e7672841",
        "IPY_MODEL_e0f8a0b28f6e4be489813fea98436666",
        "IPY_MODEL_2fbe2d82d6f1405e8b13f7beee0cfa0f"
       ],
       "layout": "IPY_MODEL_0862b4b045e849b0b9f488e32b035112"
      }
     },
     "1f8cb2f265724da7bbc38fcd0e2c5130": {
      "model_module": "@jupyter-widgets/base",
      "model_module_version": "1.2.0",
      "model_name": "LayoutModel",
      "state": {}
     },
     "222b80416d3649d980cda3dfa15894a5": {
      "model_module": "@jupyter-widgets/controls",
      "model_module_version": "1.5.0",
      "model_name": "FloatSliderModel",
      "state": {
       "description": "frequency",
       "layout": "IPY_MODEL_919c62bf6231450d85ed9b19762878f9",
       "max": 49,
       "step": 0.1,
       "style": "IPY_MODEL_423972d35b1146ba95c7a1d291a79e10",
       "value": 18.3
      }
     },
     "229b85592c664164a4c9aa92e7672841": {
      "model_module": "@jupyter-widgets/controls",
      "model_module_version": "1.5.0",
      "model_name": "FloatSliderModel",
      "state": {
       "description": "frequency",
       "layout": "IPY_MODEL_8e931be42805451d81e02c40a68f2832",
       "max": 49,
       "step": 0.1,
       "style": "IPY_MODEL_a6e81db8985b45298f8675a9cc06fd06",
       "value": 25
      }
     },
     "27063ae2885c44a2bbf4e1e0d68f893f": {
      "model_module": "@jupyter-widgets/controls",
      "model_module_version": "1.5.0",
      "model_name": "SliderStyleModel",
      "state": {
       "description_width": ""
      }
     },
     "2ab9ad975d9d4455b9b560dfae9c6b20": {
      "model_module": "@jupyter-widgets/base",
      "model_module_version": "1.2.0",
      "model_name": "LayoutModel",
      "state": {}
     },
     "2b7247b8ebf6438698184e0af32189f4": {
      "model_module": "@jupyter-widgets/base",
      "model_module_version": "1.2.0",
      "model_name": "LayoutModel",
      "state": {}
     },
     "2d1c669a42d44bfdbdecc04319393969": {
      "model_module": "@jupyter-widgets/base",
      "model_module_version": "1.2.0",
      "model_name": "LayoutModel",
      "state": {}
     },
     "2e6dd9152ec247a8aec75d3877de996d": {
      "model_module": "@jupyter-widgets/base",
      "model_module_version": "1.2.0",
      "model_name": "LayoutModel",
      "state": {}
     },
     "2fbe2d82d6f1405e8b13f7beee0cfa0f": {
      "model_module": "@jupyter-widgets/output",
      "model_module_version": "1.0.0",
      "model_name": "OutputModel",
      "state": {
       "layout": "IPY_MODEL_9323c91b59e94403b1c2a461b22056bc",
       "outputs": [
        {
         "data": {
          "image/png": "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\n",
          "text/plain": "<Figure size 432x288 with 1 Axes>"
         },
         "metadata": {
          "needs_background": "light"
         },
         "output_type": "display_data"
        }
       ]
      }
     },
     "31ad05a299d4469296cb8e00944ee901": {
      "model_module": "@jupyter-widgets/base",
      "model_module_version": "1.2.0",
      "model_name": "LayoutModel",
      "state": {}
     },
     "371c7bdc01b84508bd42a58f2c2a7d02": {
      "model_module": "@jupyter-widgets/base",
      "model_module_version": "1.2.0",
      "model_name": "LayoutModel",
      "state": {}
     },
     "38d56607e3bc4605aaec1da66b2771ac": {
      "model_module": "@jupyter-widgets/controls",
      "model_module_version": "1.5.0",
      "model_name": "SliderStyleModel",
      "state": {
       "description_width": ""
      }
     },
     "3916a8275df0470aa8bc142ecca1c831": {
      "model_module": "@jupyter-widgets/output",
      "model_module_version": "1.0.0",
      "model_name": "OutputModel",
      "state": {
       "layout": "IPY_MODEL_6c4a6f753c7a435ba1c5cc8eeaeaed98",
       "outputs": [
        {
         "data": {
          "image/png": "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\n",
          "text/plain": "<Figure size 432x288 with 1 Axes>"
         },
         "metadata": {
          "needs_background": "light"
         },
         "output_type": "display_data"
        }
       ]
      }
     },
     "3b780e0067cc4ad8a154e93ea13ed546": {
      "model_module": "@jupyter-widgets/controls",
      "model_module_version": "1.5.0",
      "model_name": "FloatSliderModel",
      "state": {
       "description": "frequency",
       "layout": "IPY_MODEL_6eac5378e141479f848e19e34b247abd",
       "max": 20,
       "step": 0.1,
       "style": "IPY_MODEL_c659c516da6b4e8096883ed3cb7c0d63",
       "value": 2.4
      }
     },
     "3d9d9c3edb3447ef8c3deacf70e2647f": {
      "model_module": "@jupyter-widgets/controls",
      "model_module_version": "1.5.0",
      "model_name": "FloatSliderModel",
      "state": {
       "description": "frequency",
       "layout": "IPY_MODEL_629d603dfdcd44be8a8b65dce1485ea2",
       "max": 10,
       "step": 0.1,
       "style": "IPY_MODEL_d8ed8e2fd70b428198e120cbb3ed8758",
       "value": 6.6
      }
     },
     "3fe264b6b0e04e74b4963f295253ad98": {
      "model_module": "@jupyter-widgets/controls",
      "model_module_version": "1.5.0",
      "model_name": "FloatSliderModel",
      "state": {
       "description": "frequency",
       "layout": "IPY_MODEL_8ba7eea4dcb8451db8232581688f2037",
       "max": 49,
       "step": 0.1,
       "style": "IPY_MODEL_677e3fff150346878bd7c9f16b196d41",
       "value": 6.8
      }
     },
     "423972d35b1146ba95c7a1d291a79e10": {
      "model_module": "@jupyter-widgets/controls",
      "model_module_version": "1.5.0",
      "model_name": "SliderStyleModel",
      "state": {
       "description_width": ""
      }
     },
     "43e67e2cf68d4f94b28a474348f29bf2": {
      "model_module": "@jupyter-widgets/base",
      "model_module_version": "1.2.0",
      "model_name": "LayoutModel",
      "state": {}
     },
     "45fcb43d38d24504a2de91372b6a8a4d": {
      "model_module": "@jupyter-widgets/controls",
      "model_module_version": "1.5.0",
      "model_name": "FloatSliderModel",
      "state": {
       "description": "frequency",
       "layout": "IPY_MODEL_dda311417f7249dca3e5d1bff4a92d5c",
       "max": 49,
       "step": 0.1,
       "style": "IPY_MODEL_cdbf02dbee2d467e96a9b79893e0d5e9",
       "value": 49
      }
     },
     "475f8604226d499dbeb68044e3e1edc3": {
      "model_module": "@jupyter-widgets/controls",
      "model_module_version": "1.5.0",
      "model_name": "SliderStyleModel",
      "state": {
       "description_width": ""
      }
     },
     "4c3deb0c47774a5c81b79fcb04a32cb2": {
      "model_module": "@jupyter-widgets/controls",
      "model_module_version": "1.5.0",
      "model_name": "SliderStyleModel",
      "state": {
       "description_width": ""
      }
     },
     "553cb8f6e01e4b818f0fd804d8034333": {
      "model_module": "@jupyter-widgets/base",
      "model_module_version": "1.2.0",
      "model_name": "LayoutModel",
      "state": {}
     },
     "57c27468649f4d57976fbaf9d0d6ce64": {
      "model_module": "@jupyter-widgets/base",
      "model_module_version": "1.2.0",
      "model_name": "LayoutModel",
      "state": {}
     },
     "587319001a2344d1bca80c542452e89f": {
      "model_module": "@jupyter-widgets/controls",
      "model_module_version": "1.5.0",
      "model_name": "FloatSliderModel",
      "state": {
       "description": "t",
       "layout": "IPY_MODEL_0e06fee31f3f48cdaa9c3f8ae985c4e1",
       "max": 400,
       "step": 0.1,
       "style": "IPY_MODEL_9a9d6cb4a3a24eca9115b5ef5915411f",
       "value": 220.6
      }
     },
     "59992927c4e34b59b96971587a7f1cd1": {
      "model_module": "@jupyter-widgets/controls",
      "model_module_version": "1.5.0",
      "model_name": "SliderStyleModel",
      "state": {
       "description_width": ""
      }
     },
     "59e71b1cbb474b6b9b8c3361d72e27ab": {
      "model_module": "@jupyter-widgets/base",
      "model_module_version": "1.2.0",
      "model_name": "LayoutModel",
      "state": {}
     },
     "5a2576487d3e4e62aac755233129b8be": {
      "model_module": "@jupyter-widgets/base",
      "model_module_version": "1.2.0",
      "model_name": "LayoutModel",
      "state": {}
     },
     "5a6818fdb57243199e643dc7838e4fb2": {
      "model_module": "@jupyter-widgets/base",
      "model_module_version": "1.2.0",
      "model_name": "LayoutModel",
      "state": {}
     },
     "629d603dfdcd44be8a8b65dce1485ea2": {
      "model_module": "@jupyter-widgets/base",
      "model_module_version": "1.2.0",
      "model_name": "LayoutModel",
      "state": {}
     },
     "633530a406374ee2aacd40624244f4be": {
      "model_module": "@jupyter-widgets/base",
      "model_module_version": "1.2.0",
      "model_name": "LayoutModel",
      "state": {}
     },
     "677e3fff150346878bd7c9f16b196d41": {
      "model_module": "@jupyter-widgets/controls",
      "model_module_version": "1.5.0",
      "model_name": "SliderStyleModel",
      "state": {
       "description_width": ""
      }
     },
     "691e8bd810df466ab0756984b073f3c8": {
      "model_module": "@jupyter-widgets/controls",
      "model_module_version": "1.5.0",
      "model_name": "SliderStyleModel",
      "state": {
       "description_width": ""
      }
     },
     "6b7fdf5f4aa849269818305b3d36ee66": {
      "model_module": "@jupyter-widgets/output",
      "model_module_version": "1.0.0",
      "model_name": "OutputModel",
      "state": {
       "layout": "IPY_MODEL_11b46e72f5d44ccfb03226fbbeb5c77f",
       "outputs": [
        {
         "data": {
          "image/png": "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\n",
          "text/plain": "<Figure size 1440x720 with 2 Axes>"
         },
         "metadata": {
          "needs_background": "light"
         },
         "output_type": "display_data"
        }
       ]
      }
     },
     "6c20ae1f436c422590b733dc478b0ade": {
      "model_module": "@jupyter-widgets/base",
      "model_module_version": "1.2.0",
      "model_name": "LayoutModel",
      "state": {}
     },
     "6c4a6f753c7a435ba1c5cc8eeaeaed98": {
      "model_module": "@jupyter-widgets/base",
      "model_module_version": "1.2.0",
      "model_name": "LayoutModel",
      "state": {}
     },
     "6dc68abcbcf147f2af4893b3d1641e91": {
      "model_module": "@jupyter-widgets/controls",
      "model_module_version": "1.5.0",
      "model_name": "FloatSliderModel",
      "state": {
       "description": "t",
       "layout": "IPY_MODEL_a8ca06086420491ca9a47343c0e3f713",
       "max": 400,
       "step": 0.1,
       "style": "IPY_MODEL_0f907368f6734b38976ac2c245ac0910",
       "value": 107.7
      }
     },
     "6eac5378e141479f848e19e34b247abd": {
      "model_module": "@jupyter-widgets/base",
      "model_module_version": "1.2.0",
      "model_name": "LayoutModel",
      "state": {}
     },
     "6f78e79797d54684830e2e8a57b8bece": {
      "model_module": "@jupyter-widgets/controls",
      "model_module_version": "1.5.0",
      "model_name": "FloatSliderModel",
      "state": {
       "description": "conductivity",
       "layout": "IPY_MODEL_dbbe3ec43f19405e93e5a897c12a60a2",
       "max": 100000000,
       "min": 10000000,
       "step": 1000000,
       "style": "IPY_MODEL_b111bdcd2ca7411993b008f4aa334b70",
       "value": 58000000
      }
     },
     "6f7c0d973be54fd4bf29778d97daa842": {
      "model_module": "@jupyter-widgets/base",
      "model_module_version": "1.2.0",
      "model_name": "LayoutModel",
      "state": {}
     },
     "6faf331398dd4840a44ea99e6157efb5": {
      "model_module": "@jupyter-widgets/controls",
      "model_module_version": "1.5.0",
      "model_name": "VBoxModel",
      "state": {
       "_dom_classes": [
        "widget-interact"
       ],
       "children": [
        "IPY_MODEL_051600fc260d4bb4aa8f3ea764cfc745",
        "IPY_MODEL_222b80416d3649d980cda3dfa15894a5",
        "IPY_MODEL_95cf1567129d437097777c7be05a43c9",
        "IPY_MODEL_3916a8275df0470aa8bc142ecca1c831"
       ],
       "layout": "IPY_MODEL_553cb8f6e01e4b818f0fd804d8034333"
      }
     },
     "72a4145d78f74a999dcf271b508af674": {
      "model_module": "@jupyter-widgets/base",
      "model_module_version": "1.2.0",
      "model_name": "LayoutModel",
      "state": {}
     },
     "74aa59f90087470b9b27cb9c18bf28cd": {
      "model_module": "@jupyter-widgets/controls",
      "model_module_version": "1.5.0",
      "model_name": "FloatSliderModel",
      "state": {
       "description": "conductivity",
       "layout": "IPY_MODEL_0ecac4add08a4642bac0289a69569b43",
       "max": 100000000,
       "min": 10000000,
       "step": 1000000,
       "style": "IPY_MODEL_7affb30e83a744139d512bc3e65eb5e5",
       "value": 60000000
      }
     },
     "77a584bcab35413292ebb843a608d277": {
      "model_module": "@jupyter-widgets/controls",
      "model_module_version": "1.5.0",
      "model_name": "FloatSliderModel",
      "state": {
       "description": "conductivity",
       "layout": "IPY_MODEL_371c7bdc01b84508bd42a58f2c2a7d02",
       "max": 100000000,
       "min": 10000000,
       "step": 1000000,
       "style": "IPY_MODEL_e2705ae13a644345af6e33fd0375a981",
       "value": 60000000
      }
     },
     "7a5e582ab8ce4c778fed6906b1c23dfb": {
      "model_module": "@jupyter-widgets/controls",
      "model_module_version": "1.5.0",
      "model_name": "VBoxModel",
      "state": {
       "_dom_classes": [
        "widget-interact"
       ],
       "children": [
        "IPY_MODEL_6dc68abcbcf147f2af4893b3d1641e91",
        "IPY_MODEL_13ffdd47c5b742d78fcedb61f35c1b35",
        "IPY_MODEL_db8362fc4fdf45c48f7a805e143b960b",
        "IPY_MODEL_9586156f9e41436ba9b126eabccaaa7b"
       ],
       "layout": "IPY_MODEL_840ce4422d224fd6985059bcb4f7105e"
      }
     },
     "7afcdf6f330f410885501ebfaca91d96": {
      "model_module": "@jupyter-widgets/base",
      "model_module_version": "1.2.0",
      "model_name": "LayoutModel",
      "state": {}
     },
     "7affb30e83a744139d512bc3e65eb5e5": {
      "model_module": "@jupyter-widgets/controls",
      "model_module_version": "1.5.0",
      "model_name": "SliderStyleModel",
      "state": {
       "description_width": ""
      }
     },
     "7e2da55504a54b12a23bf6a720d85650": {
      "model_module": "@jupyter-widgets/controls",
      "model_module_version": "1.5.0",
      "model_name": "VBoxModel",
      "state": {
       "_dom_classes": [
        "widget-interact"
       ],
       "children": [
        "IPY_MODEL_3b780e0067cc4ad8a154e93ea13ed546",
        "IPY_MODEL_95d348fdb03146a6af7d8989f3801cff",
        "IPY_MODEL_182c7c520a4e46f7bf76299f3c9b9062"
       ],
       "layout": "IPY_MODEL_2e6dd9152ec247a8aec75d3877de996d"
      }
     },
     "7f04ea23bf734fdbb98a4e5c63814d6c": {
      "model_module": "@jupyter-widgets/controls",
      "model_module_version": "1.5.0",
      "model_name": "FloatSliderModel",
      "state": {
       "description": "t",
       "layout": "IPY_MODEL_57c27468649f4d57976fbaf9d0d6ce64",
       "max": 400,
       "step": 0.1,
       "style": "IPY_MODEL_12577897923c4485bd081ee8e2d66b71"
      }
     },
     "800bb748a2d64c3fb8c62bb9a060d5b4": {
      "model_module": "@jupyter-widgets/output",
      "model_module_version": "1.0.0",
      "model_name": "OutputModel",
      "state": {
       "layout": "IPY_MODEL_1c70eb05c93042578eb49cc85661eb52",
       "outputs": [
        {
         "data": {
          "image/png": "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\n",
          "text/plain": "<Figure size 432x288 with 1 Axes>"
         },
         "metadata": {
          "needs_background": "light"
         },
         "output_type": "display_data"
        }
       ]
      }
     },
     "81e003ddb2fa485c8996343d10f577e0": {
      "model_module": "@jupyter-widgets/controls",
      "model_module_version": "1.5.0",
      "model_name": "VBoxModel",
      "state": {
       "_dom_classes": [
        "widget-interact"
       ],
       "children": [
        "IPY_MODEL_149817b3023e45d58ee0f4a77d58d8c2",
        "IPY_MODEL_dfec9963fd804fb3b9feffdee6f9d7b8",
        "IPY_MODEL_f83fc2cf40a64cfd9d80f8b212374b67"
       ],
       "layout": "IPY_MODEL_72a4145d78f74a999dcf271b508af674"
      }
     },
     "828eb65c466a41ab933fd4d1a2caa6fc": {
      "model_module": "@jupyter-widgets/controls",
      "model_module_version": "1.5.0",
      "model_name": "FloatSliderModel",
      "state": {
       "description": "conductivity",
       "layout": "IPY_MODEL_59e71b1cbb474b6b9b8c3361d72e27ab",
       "max": 100000000,
       "min": 10000000,
       "step": 1000000,
       "style": "IPY_MODEL_a074e5bdfe314f89b0d200a019b31b2a",
       "value": 60000000
      }
     },
     "840ce4422d224fd6985059bcb4f7105e": {
      "model_module": "@jupyter-widgets/base",
      "model_module_version": "1.2.0",
      "model_name": "LayoutModel",
      "state": {}
     },
     "880272d966d64af2a67bf9d0775ab4b4": {
      "model_module": "@jupyter-widgets/controls",
      "model_module_version": "1.5.0",
      "model_name": "SliderStyleModel",
      "state": {
       "description_width": ""
      }
     },
     "88b53aa8e1404f6fb80fc41be79182dd": {
      "model_module": "@jupyter-widgets/base",
      "model_module_version": "1.2.0",
      "model_name": "LayoutModel",
      "state": {}
     },
     "88c388d17eeb4531965d813ebbad23d8": {
      "model_module": "@jupyter-widgets/controls",
      "model_module_version": "1.5.0",
      "model_name": "SliderStyleModel",
      "state": {
       "description_width": ""
      }
     },
     "8b535bc07c0042f1afaccff3adf098b1": {
      "model_module": "@jupyter-widgets/base",
      "model_module_version": "1.2.0",
      "model_name": "LayoutModel",
      "state": {}
     },
     "8ba7eea4dcb8451db8232581688f2037": {
      "model_module": "@jupyter-widgets/base",
      "model_module_version": "1.2.0",
      "model_name": "LayoutModel",
      "state": {}
     },
     "8e931be42805451d81e02c40a68f2832": {
      "model_module": "@jupyter-widgets/base",
      "model_module_version": "1.2.0",
      "model_name": "LayoutModel",
      "state": {}
     },
     "8f90e6cf146944e8b38155335e040c89": {
      "model_module": "@jupyter-widgets/base",
      "model_module_version": "1.2.0",
      "model_name": "LayoutModel",
      "state": {}
     },
     "919c62bf6231450d85ed9b19762878f9": {
      "model_module": "@jupyter-widgets/base",
      "model_module_version": "1.2.0",
      "model_name": "LayoutModel",
      "state": {}
     },
     "9323c91b59e94403b1c2a461b22056bc": {
      "model_module": "@jupyter-widgets/base",
      "model_module_version": "1.2.0",
      "model_name": "LayoutModel",
      "state": {}
     },
     "9410fcf03963407291a64a6a933b6b44": {
      "model_module": "@jupyter-widgets/base",
      "model_module_version": "1.2.0",
      "model_name": "LayoutModel",
      "state": {}
     },
     "9586156f9e41436ba9b126eabccaaa7b": {
      "model_module": "@jupyter-widgets/output",
      "model_module_version": "1.0.0",
      "model_name": "OutputModel",
      "state": {
       "layout": "IPY_MODEL_d9d9d229b8354871aa5084b80c126d1f",
       "outputs": [
        {
         "data": {
          "image/png": "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\n",
          "text/plain": "<Figure size 432x288 with 1 Axes>"
         },
         "metadata": {
          "needs_background": "light"
         },
         "output_type": "display_data"
        }
       ]
      }
     },
     "95cf1567129d437097777c7be05a43c9": {
      "model_module": "@jupyter-widgets/controls",
      "model_module_version": "1.5.0",
      "model_name": "FloatSliderModel",
      "state": {
       "description": "conductivity",
       "layout": "IPY_MODEL_88b53aa8e1404f6fb80fc41be79182dd",
       "max": 100000000,
       "min": 10000000,
       "step": 1000000,
       "style": "IPY_MODEL_1a2204382f124893931d089b0a4c4400",
       "value": 60000000
      }
     },
     "95d348fdb03146a6af7d8989f3801cff": {
      "model_module": "@jupyter-widgets/controls",
      "model_module_version": "1.5.0",
      "model_name": "FloatSliderModel",
      "state": {
       "description": "conductivity",
       "layout": "IPY_MODEL_633530a406374ee2aacd40624244f4be",
       "max": 100000000,
       "min": 10000000,
       "step": 1000000,
       "style": "IPY_MODEL_1362680c26984196b4968ae23b3c5e23",
       "value": 18000000
      }
     },
     "97811559f9c74809bbcb9832e06eabf6": {
      "model_module": "@jupyter-widgets/controls",
      "model_module_version": "1.5.0",
      "model_name": "SliderStyleModel",
      "state": {
       "description_width": ""
      }
     },
     "9a85aa81b086456e8f70af898e4c3d35": {
      "model_module": "@jupyter-widgets/controls",
      "model_module_version": "1.5.0",
      "model_name": "SliderStyleModel",
      "state": {
       "description_width": ""
      }
     },
     "9a9d6cb4a3a24eca9115b5ef5915411f": {
      "model_module": "@jupyter-widgets/controls",
      "model_module_version": "1.5.0",
      "model_name": "SliderStyleModel",
      "state": {
       "description_width": ""
      }
     },
     "9bd46e23d6bd4760af168cdf54cc1da4": {
      "model_module": "@jupyter-widgets/controls",
      "model_module_version": "1.5.0",
      "model_name": "SliderStyleModel",
      "state": {
       "description_width": ""
      }
     },
     "9e0dcb1170dc4d0ab6c97d0503537978": {
      "model_module": "@jupyter-widgets/controls",
      "model_module_version": "1.5.0",
      "model_name": "VBoxModel",
      "state": {
       "_dom_classes": [
        "widget-interact"
       ],
       "children": [
        "IPY_MODEL_c09b72ae165f4a4a93348e130db45aaf",
        "IPY_MODEL_45fcb43d38d24504a2de91372b6a8a4d",
        "IPY_MODEL_77a584bcab35413292ebb843a608d277",
        "IPY_MODEL_178cf4d38315405c976c1a3ce4a40130"
       ],
       "layout": "IPY_MODEL_100f3f18f8ef42a6b22638a7b535ff6a"
      }
     },
     "a074e5bdfe314f89b0d200a019b31b2a": {
      "model_module": "@jupyter-widgets/controls",
      "model_module_version": "1.5.0",
      "model_name": "SliderStyleModel",
      "state": {
       "description_width": ""
      }
     },
     "a17fd79eac47463bb66b4cffe040368c": {
      "model_module": "@jupyter-widgets/base",
      "model_module_version": "1.2.0",
      "model_name": "LayoutModel",
      "state": {}
     },
     "a6e81db8985b45298f8675a9cc06fd06": {
      "model_module": "@jupyter-widgets/controls",
      "model_module_version": "1.5.0",
      "model_name": "SliderStyleModel",
      "state": {
       "description_width": ""
      }
     },
     "a8ca06086420491ca9a47343c0e3f713": {
      "model_module": "@jupyter-widgets/base",
      "model_module_version": "1.2.0",
      "model_name": "LayoutModel",
      "state": {}
     },
     "a9bb2956cbbd470eb0e995890b3eb728": {
      "model_module": "@jupyter-widgets/base",
      "model_module_version": "1.2.0",
      "model_name": "LayoutModel",
      "state": {}
     },
     "aabeef38a9d0483e828a5fa4f5764d36": {
      "model_module": "@jupyter-widgets/base",
      "model_module_version": "1.2.0",
      "model_name": "LayoutModel",
      "state": {}
     },
     "aebfa6f8e8f74cbaa87c5707edda47d3": {
      "model_module": "@jupyter-widgets/controls",
      "model_module_version": "1.5.0",
      "model_name": "VBoxModel",
      "state": {
       "_dom_classes": [
        "widget-interact"
       ],
       "children": [
        "IPY_MODEL_c6192729030b47b1a5d0748b9fb6017a",
        "IPY_MODEL_00d7874ed9e747db987fc7bb86a15221",
        "IPY_MODEL_dc915f5fc64f4068b5c8ce60ad42fd6e",
        "IPY_MODEL_fc2d1ad31a3841139df92a012c66112a"
       ],
       "layout": "IPY_MODEL_16066c9eb65a4efb930ea2f24e7c363a"
      }
     },
     "b111bdcd2ca7411993b008f4aa334b70": {
      "model_module": "@jupyter-widgets/controls",
      "model_module_version": "1.5.0",
      "model_name": "SliderStyleModel",
      "state": {
       "description_width": ""
      }
     },
     "b2e43ac40c93453883e534c805df953f": {
      "model_module": "@jupyter-widgets/base",
      "model_module_version": "1.2.0",
      "model_name": "LayoutModel",
      "state": {}
     },
     "c09b72ae165f4a4a93348e130db45aaf": {
      "model_module": "@jupyter-widgets/controls",
      "model_module_version": "1.5.0",
      "model_name": "FloatSliderModel",
      "state": {
       "description": "t",
       "layout": "IPY_MODEL_103e2534e3b44d82800276614bf8050d",
       "max": 400,
       "step": 0.1,
       "style": "IPY_MODEL_9a85aa81b086456e8f70af898e4c3d35",
       "value": 127
      }
     },
     "c6192729030b47b1a5d0748b9fb6017a": {
      "model_module": "@jupyter-widgets/controls",
      "model_module_version": "1.5.0",
      "model_name": "FloatSliderModel",
      "state": {
       "description": "t",
       "layout": "IPY_MODEL_31ad05a299d4469296cb8e00944ee901",
       "max": 400,
       "step": 0.1,
       "style": "IPY_MODEL_4c3deb0c47774a5c81b79fcb04a32cb2",
       "value": 152.3
      }
     },
     "c659c516da6b4e8096883ed3cb7c0d63": {
      "model_module": "@jupyter-widgets/controls",
      "model_module_version": "1.5.0",
      "model_name": "SliderStyleModel",
      "state": {
       "description_width": ""
      }
     },
     "cdbf02dbee2d467e96a9b79893e0d5e9": {
      "model_module": "@jupyter-widgets/controls",
      "model_module_version": "1.5.0",
      "model_name": "SliderStyleModel",
      "state": {
       "description_width": ""
      }
     },
     "cf1e1daf8e734c95974349a980fae2e5": {
      "model_module": "@jupyter-widgets/base",
      "model_module_version": "1.2.0",
      "model_name": "LayoutModel",
      "state": {}
     },
     "d25cb1c2150c427891b9dcda22e91364": {
      "model_module": "@jupyter-widgets/base",
      "model_module_version": "1.2.0",
      "model_name": "LayoutModel",
      "state": {}
     },
     "d47976ef3fcc4a90bb50c853e2a14978": {
      "model_module": "@jupyter-widgets/base",
      "model_module_version": "1.2.0",
      "model_name": "LayoutModel",
      "state": {}
     },
     "d7c36f0195aa421692b79307c6ccfb24": {
      "model_module": "@jupyter-widgets/controls",
      "model_module_version": "1.5.0",
      "model_name": "SliderStyleModel",
      "state": {
       "description_width": ""
      }
     },
     "d8ed8e2fd70b428198e120cbb3ed8758": {
      "model_module": "@jupyter-widgets/controls",
      "model_module_version": "1.5.0",
      "model_name": "SliderStyleModel",
      "state": {
       "description_width": ""
      }
     },
     "d9d9d229b8354871aa5084b80c126d1f": {
      "model_module": "@jupyter-widgets/base",
      "model_module_version": "1.2.0",
      "model_name": "LayoutModel",
      "state": {}
     },
     "db8362fc4fdf45c48f7a805e143b960b": {
      "model_module": "@jupyter-widgets/controls",
      "model_module_version": "1.5.0",
      "model_name": "FloatSliderModel",
      "state": {
       "description": "conductivity",
       "layout": "IPY_MODEL_cf1e1daf8e734c95974349a980fae2e5",
       "max": 100000000,
       "min": 10000000,
       "step": 1000000,
       "style": "IPY_MODEL_ddc5227343384b119949521dc2389d28",
       "value": 60000000
      }
     },
     "dbbe3ec43f19405e93e5a897c12a60a2": {
      "model_module": "@jupyter-widgets/base",
      "model_module_version": "1.2.0",
      "model_name": "LayoutModel",
      "state": {}
     },
     "dc915f5fc64f4068b5c8ce60ad42fd6e": {
      "model_module": "@jupyter-widgets/controls",
      "model_module_version": "1.5.0",
      "model_name": "FloatSliderModel",
      "state": {
       "description": "conductivity",
       "layout": "IPY_MODEL_1f8cb2f265724da7bbc38fcd0e2c5130",
       "max": 100000000,
       "min": 10000000,
       "step": 1000000,
       "style": "IPY_MODEL_475f8604226d499dbeb68044e3e1edc3",
       "value": 60000000
      }
     },
     "dda311417f7249dca3e5d1bff4a92d5c": {
      "model_module": "@jupyter-widgets/base",
      "model_module_version": "1.2.0",
      "model_name": "LayoutModel",
      "state": {}
     },
     "ddc5227343384b119949521dc2389d28": {
      "model_module": "@jupyter-widgets/controls",
      "model_module_version": "1.5.0",
      "model_name": "SliderStyleModel",
      "state": {
       "description_width": ""
      }
     },
     "dfec9963fd804fb3b9feffdee6f9d7b8": {
      "model_module": "@jupyter-widgets/controls",
      "model_module_version": "1.5.0",
      "model_name": "FloatSliderModel",
      "state": {
       "description": "conductivity",
       "layout": "IPY_MODEL_2ab9ad975d9d4455b9b560dfae9c6b20",
       "max": 100000000,
       "min": 10000000,
       "step": 1000000,
       "style": "IPY_MODEL_880272d966d64af2a67bf9d0775ab4b4",
       "value": 60000000
      }
     },
     "e0f8a0b28f6e4be489813fea98436666": {
      "model_module": "@jupyter-widgets/controls",
      "model_module_version": "1.5.0",
      "model_name": "FloatSliderModel",
      "state": {
       "description": "conductivity",
       "layout": "IPY_MODEL_5a2576487d3e4e62aac755233129b8be",
       "max": 100000000,
       "min": 10000000,
       "step": 1000000,
       "style": "IPY_MODEL_88c388d17eeb4531965d813ebbad23d8",
       "value": 60000000
      }
     },
     "e2705ae13a644345af6e33fd0375a981": {
      "model_module": "@jupyter-widgets/controls",
      "model_module_version": "1.5.0",
      "model_name": "SliderStyleModel",
      "state": {
       "description_width": ""
      }
     },
     "eaccfb98e9484f4398e06afacab9aad2": {
      "model_module": "@jupyter-widgets/base",
      "model_module_version": "1.2.0",
      "model_name": "LayoutModel",
      "state": {}
     },
     "eb93d60c5e6b4fcf810737b640143b51": {
      "model_module": "@jupyter-widgets/output",
      "model_module_version": "1.0.0",
      "model_name": "OutputModel",
      "state": {
       "layout": "IPY_MODEL_7afcdf6f330f410885501ebfaca91d96",
       "outputs": [
        {
         "data": {
          "image/png": "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\n",
          "text/plain": "<Figure size 1440x720 with 2 Axes>"
         },
         "metadata": {
          "needs_background": "light"
         },
         "output_type": "display_data"
        }
       ]
      }
     },
     "ebfe8c5f75d647b9841805ab13e35b13": {
      "model_module": "@jupyter-widgets/output",
      "model_module_version": "1.0.0",
      "model_name": "OutputModel",
      "state": {
       "layout": "IPY_MODEL_5a6818fdb57243199e643dc7838e4fb2",
       "outputs": [
        {
         "data": {
          "image/png": "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\n",
          "text/plain": "<Figure size 432x288 with 1 Axes>"
         },
         "metadata": {
          "needs_background": "light"
         },
         "output_type": "display_data"
        }
       ]
      }
     },
     "ed084c111070480ea83f0c9dc41192ee": {
      "model_module": "@jupyter-widgets/controls",
      "model_module_version": "1.5.0",
      "model_name": "VBoxModel",
      "state": {
       "_dom_classes": [
        "widget-interact"
       ],
       "children": [
        "IPY_MODEL_f51c8f8d6eca4fd48a3218913590510f",
        "IPY_MODEL_3fe264b6b0e04e74b4963f295253ad98",
        "IPY_MODEL_74aa59f90087470b9b27cb9c18bf28cd",
        "IPY_MODEL_800bb748a2d64c3fb8c62bb9a060d5b4"
       ],
       "layout": "IPY_MODEL_aabeef38a9d0483e828a5fa4f5764d36"
      }
     },
     "f514f22c95bf4511a437197ce86872c2": {
      "model_module": "@jupyter-widgets/base",
      "model_module_version": "1.2.0",
      "model_name": "LayoutModel",
      "state": {}
     },
     "f51c8f8d6eca4fd48a3218913590510f": {
      "model_module": "@jupyter-widgets/controls",
      "model_module_version": "1.5.0",
      "model_name": "FloatSliderModel",
      "state": {
       "description": "t",
       "layout": "IPY_MODEL_a9bb2956cbbd470eb0e995890b3eb728",
       "max": 400,
       "step": 0.1,
       "style": "IPY_MODEL_9bd46e23d6bd4760af168cdf54cc1da4",
       "value": 400
      }
     },
     "f83fc2cf40a64cfd9d80f8b212374b67": {
      "model_module": "@jupyter-widgets/output",
      "model_module_version": "1.0.0",
      "model_name": "OutputModel",
      "state": {
       "layout": "IPY_MODEL_8f90e6cf146944e8b38155335e040c89",
       "outputs": [
        {
         "ename": "NameError",
         "evalue": "name 't' is not defined",
         "output_type": "error",
         "traceback": [
          "\u001b[1;31m---------------------------------------------------------------------------\u001b[0m",
          "\u001b[1;31mNameError\u001b[0m                                 Traceback (most recent call last)",
          "\u001b[1;32m~\\AppData\\Local\\Continuum\\anaconda3\\lib\\site-packages\\ipywidgets\\widgets\\interaction.py\u001b[0m in \u001b[0;36mupdate\u001b[1;34m(self, *args)\u001b[0m\n\u001b[0;32m    254\u001b[0m                     \u001b[0mvalue\u001b[0m \u001b[1;33m=\u001b[0m \u001b[0mwidget\u001b[0m\u001b[1;33m.\u001b[0m\u001b[0mget_interact_value\u001b[0m\u001b[1;33m(\u001b[0m\u001b[1;33m)\u001b[0m\u001b[1;33m\u001b[0m\u001b[1;33m\u001b[0m\u001b[0m\n\u001b[0;32m    255\u001b[0m                     \u001b[0mself\u001b[0m\u001b[1;33m.\u001b[0m\u001b[0mkwargs\u001b[0m\u001b[1;33m[\u001b[0m\u001b[0mwidget\u001b[0m\u001b[1;33m.\u001b[0m\u001b[0m_kwarg\u001b[0m\u001b[1;33m]\u001b[0m \u001b[1;33m=\u001b[0m \u001b[0mvalue\u001b[0m\u001b[1;33m\u001b[0m\u001b[1;33m\u001b[0m\u001b[0m\n\u001b[1;32m--> 256\u001b[1;33m                 \u001b[0mself\u001b[0m\u001b[1;33m.\u001b[0m\u001b[0mresult\u001b[0m \u001b[1;33m=\u001b[0m \u001b[0mself\u001b[0m\u001b[1;33m.\u001b[0m\u001b[0mf\u001b[0m\u001b[1;33m(\u001b[0m\u001b[1;33m**\u001b[0m\u001b[0mself\u001b[0m\u001b[1;33m.\u001b[0m\u001b[0mkwargs\u001b[0m\u001b[1;33m)\u001b[0m\u001b[1;33m\u001b[0m\u001b[1;33m\u001b[0m\u001b[0m\n\u001b[0m\u001b[0;32m    257\u001b[0m                 \u001b[0mshow_inline_matplotlib_plots\u001b[0m\u001b[1;33m(\u001b[0m\u001b[1;33m)\u001b[0m\u001b[1;33m\u001b[0m\u001b[1;33m\u001b[0m\u001b[0m\n\u001b[0;32m    258\u001b[0m                 \u001b[1;32mif\u001b[0m \u001b[0mself\u001b[0m\u001b[1;33m.\u001b[0m\u001b[0mauto_display\u001b[0m \u001b[1;32mand\u001b[0m \u001b[0mself\u001b[0m\u001b[1;33m.\u001b[0m\u001b[0mresult\u001b[0m \u001b[1;32mis\u001b[0m \u001b[1;32mnot\u001b[0m \u001b[1;32mNone\u001b[0m\u001b[1;33m:\u001b[0m\u001b[1;33m\u001b[0m\u001b[1;33m\u001b[0m\u001b[0m\n",
          "\u001b[1;32m<ipython-input-117-b15bea711027>\u001b[0m in \u001b[0;36m<lambda>\u001b[1;34m(frequency, conductivity)\u001b[0m\n\u001b[0;32m      1\u001b[0m ipywidgets.interact(\n\u001b[1;32m----> 2\u001b[1;33m     \u001b[1;32mlambda\u001b[0m \u001b[0mfrequency\u001b[0m\u001b[1;33m,\u001b[0m \u001b[0mconductivity\u001b[0m\u001b[1;33m:\u001b[0m \u001b[0mplotKymograph\u001b[0m\u001b[1;33m(\u001b[0m\u001b[0mt\u001b[0m \u001b[1;33m=\u001b[0m \u001b[0mt\u001b[0m\u001b[1;33m,\u001b[0m \u001b[0mfrequency\u001b[0m \u001b[1;33m=\u001b[0m \u001b[0mfrequency\u001b[0m\u001b[1;33m,\u001b[0m \u001b[0mconductivity\u001b[0m \u001b[1;33m=\u001b[0m \u001b[0mconductivity\u001b[0m\u001b[1;33m)\u001b[0m\u001b[1;33m,\u001b[0m\u001b[1;33m\u001b[0m\u001b[1;33m\u001b[0m\u001b[0m\n\u001b[0m\u001b[0;32m      3\u001b[0m     \u001b[0mfrequency\u001b[0m\u001b[1;33m=\u001b[0m \u001b[0mipywidgets\u001b[0m\u001b[1;33m.\u001b[0m\u001b[0mFloatSlider\u001b[0m\u001b[1;33m(\u001b[0m\u001b[0mmin\u001b[0m\u001b[1;33m=\u001b[0m\u001b[1;36m0\u001b[0m\u001b[1;33m,\u001b[0m \u001b[0mmax\u001b[0m\u001b[1;33m=\u001b[0m\u001b[1;36m20\u001b[0m\u001b[1;33m,\u001b[0m \u001b[0mstep\u001b[0m\u001b[1;33m=\u001b[0m\u001b[1;36m0.1\u001b[0m\u001b[1;33m,\u001b[0m \u001b[0mvalue\u001b[0m\u001b[1;33m=\u001b[0m\u001b[1;36m0.0\u001b[0m\u001b[1;33m)\u001b[0m\u001b[1;33m,\u001b[0m \u001b[1;31m# in Hz\u001b[0m\u001b[1;33m\u001b[0m\u001b[1;33m\u001b[0m\u001b[0m\n\u001b[0;32m      4\u001b[0m     \u001b[0mconductivity\u001b[0m \u001b[1;33m=\u001b[0m \u001b[0mipywidgets\u001b[0m\u001b[1;33m.\u001b[0m\u001b[0mFloatSlider\u001b[0m\u001b[1;33m(\u001b[0m\u001b[0mmin\u001b[0m\u001b[1;33m=\u001b[0m\u001b[1;36m1e7\u001b[0m\u001b[1;33m,\u001b[0m \u001b[0mmax\u001b[0m\u001b[1;33m=\u001b[0m\u001b[1;36m1e8\u001b[0m\u001b[1;33m,\u001b[0m \u001b[0mstep\u001b[0m\u001b[1;33m=\u001b[0m\u001b[1;36m1e6\u001b[0m\u001b[1;33m,\u001b[0m \u001b[0mvalue\u001b[0m\u001b[1;33m=\u001b[0m\u001b[1;36m6e7\u001b[0m\u001b[1;33m)\u001b[0m\u001b[1;33m,\u001b[0m \u001b[1;31m# in Hz\u001b[0m\u001b[1;33m\u001b[0m\u001b[1;33m\u001b[0m\u001b[0m\n\u001b[0;32m      5\u001b[0m );\n",
          "\u001b[1;31mNameError\u001b[0m: name 't' is not defined"
         ]
        }
       ]
      }
     },
     "fc2d1ad31a3841139df92a012c66112a": {
      "model_module": "@jupyter-widgets/output",
      "model_module_version": "1.0.0",
      "model_name": "OutputModel",
      "state": {
       "layout": "IPY_MODEL_eaccfb98e9484f4398e06afacab9aad2",
       "outputs": [
        {
         "data": {
          "image/png": "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\n",
          "text/plain": "<Figure size 432x288 with 1 Axes>"
         },
         "metadata": {
          "needs_background": "light"
         },
         "output_type": "display_data"
        }
       ]
      }
     },
     "fc68f7e853814de6a0e55de0398acbd7": {
      "model_module": "@jupyter-widgets/controls",
      "model_module_version": "1.5.0",
      "model_name": "VBoxModel",
      "state": {
       "_dom_classes": [
        "widget-interact"
       ],
       "children": [
        "IPY_MODEL_3d9d9c3edb3447ef8c3deacf70e2647f",
        "IPY_MODEL_6f78e79797d54684830e2e8a57b8bece",
        "IPY_MODEL_6b7fdf5f4aa849269818305b3d36ee66"
       ],
       "layout": "IPY_MODEL_6c20ae1f436c422590b733dc478b0ade"
      }
     }
    },
    "version_major": 2,
    "version_minor": 0
   }
  }
 },
 "nbformat": 4,
 "nbformat_minor": 4
}
