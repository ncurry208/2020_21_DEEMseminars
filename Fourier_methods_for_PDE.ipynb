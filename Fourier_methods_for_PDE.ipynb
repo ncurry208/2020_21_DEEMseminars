{
  "nbformat": 4,
  "nbformat_minor": 0,
  "metadata": {
    "colab": {
      "name": "Fourier methods for PDE.ipynb",
      "provenance": [],
      "collapsed_sections": []
    },
    "kernelspec": {
      "name": "python3",
      "display_name": "Python 3"
    },
    "widgets": {
      "application/vnd.jupyter.widget-state+json": {
        "5f23230d02c8434ebd2c077a9cc756ff": {
          "model_module": "@jupyter-widgets/controls",
          "model_name": "VBoxModel",
          "state": {
            "_view_name": "VBoxView",
            "_dom_classes": [
              "widget-interact"
            ],
            "_model_name": "VBoxModel",
            "_view_module": "@jupyter-widgets/controls",
            "_model_module_version": "1.5.0",
            "_view_count": null,
            "_view_module_version": "1.5.0",
            "box_style": "",
            "layout": "IPY_MODEL_5e84671c5e494ecfadfe7846d98a938a",
            "_model_module": "@jupyter-widgets/controls",
            "children": [
              "IPY_MODEL_8c34df2c18394806b0046e288dd49428",
              "IPY_MODEL_c7af42fd9b414317856c955ccd444923"
            ]
          }
        },
        "5e84671c5e494ecfadfe7846d98a938a": {
          "model_module": "@jupyter-widgets/base",
          "model_name": "LayoutModel",
          "state": {
            "_view_name": "LayoutView",
            "grid_template_rows": null,
            "right": null,
            "justify_content": null,
            "_view_module": "@jupyter-widgets/base",
            "overflow": null,
            "_model_module_version": "1.2.0",
            "_view_count": null,
            "flex_flow": null,
            "width": null,
            "min_width": null,
            "border": null,
            "align_items": null,
            "bottom": null,
            "_model_module": "@jupyter-widgets/base",
            "top": null,
            "grid_column": null,
            "overflow_y": null,
            "overflow_x": null,
            "grid_auto_flow": null,
            "grid_area": null,
            "grid_template_columns": null,
            "flex": null,
            "_model_name": "LayoutModel",
            "justify_items": null,
            "grid_row": null,
            "max_height": null,
            "align_content": null,
            "visibility": null,
            "align_self": null,
            "height": null,
            "min_height": null,
            "padding": null,
            "grid_auto_rows": null,
            "grid_gap": null,
            "max_width": null,
            "order": null,
            "_view_module_version": "1.2.0",
            "grid_template_areas": null,
            "object_position": null,
            "object_fit": null,
            "grid_auto_columns": null,
            "margin": null,
            "display": null,
            "left": null
          }
        },
        "8c34df2c18394806b0046e288dd49428": {
          "model_module": "@jupyter-widgets/controls",
          "model_name": "IntSliderModel",
          "state": {
            "_view_name": "IntSliderView",
            "style": "IPY_MODEL_a0d436b9737f4937ac7fd243343657c9",
            "_dom_classes": [],
            "description": "t",
            "step": 1,
            "_model_name": "IntSliderModel",
            "orientation": "horizontal",
            "max": 50,
            "_view_module": "@jupyter-widgets/controls",
            "_model_module_version": "1.5.0",
            "value": 30,
            "_view_count": null,
            "disabled": false,
            "_view_module_version": "1.5.0",
            "min": 1,
            "continuous_update": true,
            "readout_format": "d",
            "description_tooltip": null,
            "readout": true,
            "_model_module": "@jupyter-widgets/controls",
            "layout": "IPY_MODEL_0ce61b26fc724b3ea328aae44938a9fd"
          }
        },
        "c7af42fd9b414317856c955ccd444923": {
          "model_module": "@jupyter-widgets/output",
          "model_name": "OutputModel",
          "state": {
            "_view_name": "OutputView",
            "msg_id": "",
            "_dom_classes": [],
            "_model_name": "OutputModel",
            "outputs": [
              {
                "output_type": "display_data",
                "metadata": {
                  "tags": [],
                  "needs_background": "light"
                },
                "image/png": "iVBORw0KGgoAAAANSUhEUgAAAYIAAAEGCAYAAABo25JHAAAABHNCSVQICAgIfAhkiAAAAAlwSFlzAAALEgAACxIB0t1+/AAAADh0RVh0U29mdHdhcmUAbWF0cGxvdGxpYiB2ZXJzaW9uMy4yLjIsIGh0dHA6Ly9tYXRwbG90bGliLm9yZy+WH4yJAAAgAElEQVR4nO3deZxU1Zn/8c/TezeyNN3NIs1mgggCw9IsGRWD4AxoApORqPhTcIkkI6Im0Xlh/GkMZibGbRKjmQSNER2XqETpEA0BxJCBoIDsIIuI0mxisy8NvZz5o6o6RdNNV3XV7erb9X2/XvWy6t5Tt56jZT917rn3POacQ0REkldKogMQEZHEUiIQEUlySgQiIklOiUBEJMkpEYiIJLm0RAcQrfz8fNetW7dEhyEi4isrVqz4wjlXUNs+3yWCbt26sXz58kSHISLiK2b2aV37dGpIRCTJKRGIiCQ5JQIRkSTnuzkCEZHalJeXU1JSQllZWaJDSaisrCwKCwtJT0+P+D1KBCLSLJSUlNCyZUu6deuGmSU6nIRwzlFaWkpJSQndu3eP+H2enRoys+fM7HMzW1fHfjOzJ81sq5mtMbOBXsUiIs1fWVkZeXl5SZsEAMyMvLy8qEdFXs4RPA+MPsv+MUCP4GMy8N8exiIiSSCZk0BIQ/4deJYInHOLgP1naTIOeMEFLAXamFlHr+IREZHaJfKqoU7AjrDXJcFtZzCzyWa23MyW79u3r1GCExFJFr64fNQ5N8M5V+ScKyooqPUOaRGRJu2uu+5i0aJFEbf/2c9+xvHjx6tfjxo1igMHDngRWkITwU6gc9jrwuA2Ed/ZfGAzi0oWsevorkSHIk1QaWkpS5cuZfjw4RG/p2YiuOGGG/jlL3/pRXgJvXy0GLjdzF4FhgKHnHO7ExiPSIO9vul1Xt30Kj8Y+gMmXDAh0eEkvW7T/ujJcbc/fOXZ92/fzpgxY7j44otZsmQJnTp1Yvbs2cyaNYvRowPXzhw6dIghQ4ZQXFxMz549mTBhApdddhm33npr9XGefPJJdu3axYgRI8jPz2fhwoWMHTuWSy65hPvuuy/u/fLy8tFXgL8BPc2sxMxuMbPvmNl3gk3eBrYBW4FngNu8ikXEa5WuEoBUS01wJJJoW7ZsYcqUKaxfv542bdowa9YsFi9ezKBBgwBo3bo1Tz31FDfeeCOvvvoqBw4cOC0JANxxxx2ce+65LFy4kIULFwKQm5vLyZMnKS0tjXvMno0InHNn/VnknHPAFK8+X6QxhRJBWoru0WwK6vvl7qXu3bvTv39/AAYNGsT27dvZvXs34fObl19+Oa+//jpTpkxh9erVER+7Xbt27Nq1i7y8vLjG7IvJYpGmrqKqAtCIQCAzM7P6eWpqKhUVFWRnZ592k1dVVRUbN24kJycnqgngsrIysrOz4xovKBGIxMW+44HLmjVZLLXp1asXW7durX79X//1X/Tq1YuXX36Zm266ifLycgAmTpzIBx98AEDLli05cuRI9Xucc+zZswcvCnMpEYjEwd92/w2AmRtmJjgSaYquvPJK3nvvPQA2bdrEs88+y+OPP84ll1zC8OHD+fGPfwzAmjVrOPfccwGYPHkyo0ePZsSIEQCsWLGCYcOGkZYW/9OPOqEpIhIn3bp1Y926vy+vdvfdd1c/v/feezl48CA9e/Zk48aN1dufeOIJAA4fPkyPHj0oLCwEYOrUqUydOrW63Ysvvshtt3lzTY1GBCIijeDxxx/ns88+q3N/q1ateP311+vc36dPH0aOHOlFaBoRiIg0hqFDh8b0/pqXmMaTRgQicfCl1l8CoE1mmwRHIhI9JQKROJg6IHAut2duzwRHIhI9JQKROEhNCdw/ELqxTMRPlAhE4iB0I1mFq0hwJNIUNeWVR0GJQCQuqkcEVRoRyOma+sqjoEQgEhetM1rTL78f3VtHXjBcmp+HHnqInj17cvHFFzNhwgQee+yxM1Ye7dmzJ5s2bQJgwoQJPPPMM6cdI3zl0dDNZGPHjuWVV17xLG5dPioSBxfmX8hLV76U6DAk3IOtI2x3KC4ft2zZMmbNmsXq1aspLy9n4MCBDBo0iMWLFzN+/Hjg9JVH77zzzjpXHn3iiSdYuHAh+fn5wOkrj8Z7wTnQiEBEJC4WL17MuHHjyMrKomXLlnz9618HqHXl0b59+zJlyhSeffbZiI8fWnnUCxoRiEjzFKdf+rGqb+XR0JIS9fFq5VHQiEBEJC4uuugi/vCHP1BWVsbRo0eZM2cO0PRXHgUlApG4WLJzCYtKFlFWUVZ/Y2mWBg8ezNixY+nXrx9jxoyhb9++tG7dusmvPAoEMo2fHoMGDXIiTc2I341wfZ7v4/Ye25voUJLWhg0bEh2CO3LkiHPOuWPHjrlBgwa5FStWOOecu+iii9yBAwfqfN+hQ4fc+PHj69x/xx13uPnz50ccR23/LoDlro6/q5ojEIkD1SwWCPyS37BhA2VlZUyaNImBAwcCf195tE2b2teiSuTKo6DJYpG4CJWqVM3i5Pbyyy/Xur0przwKmiMQiQuNCMTPlAhE4uBkxUkANpRuSHAkItFTIhCJg9Bic1PfnVpPS5GmR4lARCTJKRGIxCh8xVGHS2AkIg2jRCASo/BiNKGrh0Tqs3//fi6//HJ69OjB5Zdfflq9gbfeeovp06ef9f1333037777blxiUSIQiYNLOl0CqEKZRO7hhx9m5MiRbNmyhZEjR/Lwww9X73vkkUe47bbbzvr+qVOnnvaeWOiiZ5EYZaRm8PTIp+n3Qj+qXBVVrooU02+sROs7s29E7dZOWhu3z9y+fTtjxozh4osvZsmSJXTq1InZs2fXuljc7Nmzq5eemDRpEl/96lf56U9/yubNm8nMzKxegnrcuHFcddVVTJw4kV//+tcsWrSIl156ia5du1JaWsqePXvo0KFDTHHr2yoSB2ZGmgV+V2lUkNy2bNnClClTWL9+PW3atGHWrFm1ttu7dy8dO3YEoEOHDuzduxcILGcduiMZYMaMGUyfPp2//vWvPP744/ziF7+o3jdw4EAWL14cc8waEYjESWpKKhWVFVRWVZKekp7ocJJePH/pR6N79+70798fgEGDBrF9+/Z632NmmBlwZv2C9u3bM336dEaMGMGbb75J27Ztq/fFq0aBRgQicRK6q1gjguSWmZlZ/Tw1NZWKitovIGjfvj27d+8GAn/827VrB5xZvwBg7dq15OXlnfFHP141CjxNBGY22sw2mdlWM5tWy/4uZrbQzFaa2Rozu8LLeES81K+gHwPaDUh0GOITY8eOZebMmQDMnDmTcePGAWfWL/jggw945513WLlyJY899hiffPJJ9b7NmzfTp0+fmGPxLBGYWSrwNDAG6A1MMLPeNZr9f+A159wA4Frgl17FI+K1Z/7pGV4Y8wIt0lskOhTxgWnTpjFv3jx69OjB/PnzmTYt8Ft5+PDhrFy5EuccJ0+e5NZbb+W5557j3HPP5fHHH+fmm2/GOUd5eTlbt26lqKgo5li8nCMYAmx1zm0DMLNXgXFA+GIsDmgVfN4a8KYgp4hII+jWrRvr1q2rfn333XfX2TYvL48FCxacsT0nJ4dRo0axYMECRo0axerVq6v3jR07lrFjxwIwZ84cxo8fH5diNV6eGuoE7Ah7XRLcFu5B4HozKwHeBmpdqMXMJpvZcjNbvm/fPi9iFRFpMn7wgx9w/Pjxs7apqKjg+9//flw+L9GTxROA551zhcAVwItmZ16A7Zyb4Zwrcs4Vhc+mi4g0dVOmTKF///6nPX7729+e9T3t27ev/uVfl29+85t1FrqJlpenhnYCncNeFwa3hbsFGA3gnPubmWUB+cDnHsYlEleHTh7iw70f0iarjSaLE8w5V30ZZlPx9NNPN+rnBapSRsfLEcEyoIeZdTezDAKTwcU12nwGjAQws15AFqBzP+Ir2w9v546Fd/DYsscSHUpSy8rKorS0tEF/CJsL5xylpaVkZWVF9T7PRgTOuQozux2YC6QCzznn1pvZdAJFlIuB7wPPmNl3CUwc3+iS+b+i+FJo9dHUFFUnS6TCwkJKSkpI9nnErKwsCgsLo3qPp3cWO+feJjAJHL7tgbDnG4CLvIxBxGsqU9k0pKen071790SH4UuJniwW8b3Q0tMaEYhfKRGIxCg0Ith+aDsf7v2QI6eOJDgikegoEYjEKDRHsPf4Xib9aRIf7f8owRGJREeJQCRGocL1IVp0TvxGiUAkRjXLU4bXMBbxAyUCkRjV/MOvEYH4jRKBSIwKcgq4tPDS6tcqYC9+o0QgEqPBHQbz1MinGNVlFKARgfiPEoFInITuI9AcgfiNEoFInITuLK55FZFIU6dEIBInaSmBFVs0IhC/USIQiZOurbrSv6A/bTLjs0a8SGMxvy32WVRU5JYvX57oMEREfMXMVjjnai1wrBGBiEiSUyIQEUlySgQiIknO08I0Islg64GtlBwt4Uutv0TnVp3rf4NIE6MRgUiMij8uZuq7U5n32bxEhyLSIEoEIjEK3UCmUpXiV0oEIjEK3UAWuqFMxG+UCERipOL14ndKBCIxCi07faDsACs/X8mOwzsSHJFIdJQIRGIUGhHM+2weE9+ZyEsfvZTgiESio0QgEqPQHEFmSiagwjTiP0oEIjEK/eHPTAskAhWmEb9RIhCJUejy0czUYCLQMtTiM7reTSRGvfN6c6ryFPnZ+YBGBOI/SgQiMfpW328BMGfbHGZtmaU5AvEdnRoSiZM0C1Yo04hAfEaJQCROVLxe/MrTRGBmo81sk5ltNbNpdbS52sw2mNl6M3vZy3hEvKTi9eJXns0RmFkq8DRwOVACLDOzYufchrA2PYB7gYuccwfMrJ1X8Yh4LTcrl/4F/eneqnuiQxGJipeTxUOArc65bQBm9iowDtgQ1uZW4Gnn3AEA59znHsYj4qkB7Qbw4hUvJjoMkah5eWqoExC+6EpJcFu484HzzWyxmS01s9G1HcjMJpvZcjNbvm/fPo/CFRFJTomeLE4DegBfBSYAz5hZm5qNnHMznHNFzrmigoKCRg5RRKR58zIR7ATC6/YVBreFKwGKnXPlzrlPgM0EEoOIiDQSLxPBMqCHmXU3swzgWqC4Rpu3CIwGMLN8AqeKtnkYk0jcLdm1hPd2vMfx8uOJDkWkQTxLBM65CuB2YC6wEXjNObfezKab2dhgs7lAqZltABYC9zjnSr2KScQLP176Y6a+O5UvTnyR6FBEGsTTJSacc28Db9fY9kDYcwd8L/gQ8aXQDWShG8pE/CbRk8Uivqfi9eJ3SgQiMVLxevE7JQKRGIUWmausqmTV56tYu29tgiMSiU5UP2HMLBc4FzgBbHfOVXkSlYiPhEYEB08e5IZ3bqBDiw7MGz8vwVGJRK7eRGBmrYEpBG74ygD2AVlAezNbCvzSObfQ0yhFmjBVKBO/i2RE8AbwAnCJc+5g+A4zKwKuN7PznHO/8SJAkaYuVIgmKy0LUD0C8Z96E4Fz7vKz7FsOLI9rRCI+E/rDn5GaAaAKZeI7Ec8RmNkC59zI+raJJBPnHJcWXkqlqyQjJZAINCIQv4lkjiALyAHyg5PFFtzVijNXExVJKmbGk5c9CUBZRRmgOQLxn0hGBN8G7iJwtdAK/p4IDgNPeRSXiO+E7ixWhTLxm0jmCH4O/NzMpjrnftEIMYn4UujOYo0IxG8ivqGsZhIwsyIzOzf+IYn4U4qlkGIpOBxVusVGfCSWe+KnAv3MbLNz7pp4BSTiZwPaDcA5R6WrJMV04774Q4MTgXNuEoCZtYxfOCL+9vzo5xMdgkjUIv7JYma31HidamY/dM4diX9YIiLSWKIZu440s7fNrKOZXQgsBTQaEBHxuYhPDTnnrjOza4C1wDHgOufcYs8iExGRRhHNqaEewJ3ALOBT4AYzy/EqMBE/OHrqKAs+W8CyPcsSHYpIg0VzaugPwP3OuW8DlwJbCBSoF0lau47t4q6Fd/GTD36S6FBEGiyaq4aGOOcOQ3Wt4cfN7A/ehCXiD9XVyUzVycS/6h0RmNnFAKEkEM45t9nMWplZHy+CE2nqQgvMqV6x+FkkP2OuMrNHgD8RWGsoVJjmy8AIoCvwfc8iFGnCQktOh9YZEvGjSNYa+q6ZtQWuAr4JdCBQqnIj8CtdOSTJrOaIYNP+TRw5dYReeb1okd4ikaGJRCyiyWLn3H4CVcrmAX8FVgEnAdUikKRWPUeQEvhNdf/i+7lp7k1sP7Q9gVGJRCeaGa7ZwEHgQ6DMm3BE/KX61FBwRBBKCFqKWvwkmkRQ6Jwb7VkkIj4U+oMfmiMIJQItRS1+Es19BEvMrK9nkYj4UM3LR6trEqhcpfhINCOCi4EbzewTAvMDRuCWgn6eRCbiA3nZeYzoPIIL8y4EwqqUqYC9+Eg0iWCMZ1GI+FS/gn7VNYvh7yMDjQjET6JZdO5TLwMRaQ5CIwLNEYifqISSSByF5gh01ZD4iaeJwMxGm9kmM9tqZtPO0u4qM3NmVuRlPCJe01VD4keeJQIzSwWeJjC30BuYYGa9a2nXksDy1u97FYtIY+neujsD2w2kVWarRIciEjEvl0wcAmx1zm0DMLNXgXHAhhrtHgJ+CtzjYSwijWLqgKmJDkEkal6eGuoE7Ah7XRLcVs3MBgKdnXN/PNuBzGyymS03s+X79u2Lf6QiIkksYZPFZpYCPEEEK5c652Y454qcc0UFBQXeBycikkS8TAQ7gc5hrwuD20JaAn2A98xsOzAMKNaEsYhI4/IyESwDephZdzPLAK4FikM7nXOHnHP5zrluzrluwFJgrHNuuYcxicTVtkPbWPDZArYd2pboUEQazLNE4JyrAG4H5hKoXfCac269mU03s7Fefa5IY5r7yVzuWngX73zyTqJDEWkwTwutOufeBt6use2BOtp+1ctYRLxQvfqoSlWKj+nOYpEY1CxMI+JHSgQiMVDxemkO9DNGJAY1K5TtObaHnUd30j6nPYUtCxMZmkjENCIQiUH1iCC46mjxx8Xc+KcbmbVlViLDEomKEoFIDEIjgjMqlGnROfERJQKRGNQcEah4vfiREoFIDKpHBMEEoGWoxY80WSwSg15te3H41GE6tugIqHi9+JMSgUgMru99Pdf3vr76tYrXix/p1JBIHKl4vfiREoFIHKl4vfiREoFIHKl4vfiREoFIHOVl5zGw3UC6teqW6FBEIqbJYpE4GtZxGMM6Dkt0GCJR0YhARCTJKRGIiCQ5JQIRkSSnOQKRGCzdvZTj5ccZ3GEwLTNaJjockQbRiEAkBo8ue5Q7F97JrqO7Eh2KSIMpEYjEIHTjmCqUiZ8pEYjEoOYy1CJ+pEQgEoOahWlE/EjfXpEY1BwRnKg4wcbSjWSkZtAnv08iQxOJmEYEIjGoOUew++huJv1pEvf+9d5EhiUSFSUCkRiEFperWapSy1CLnygRiMTgjOL1WoZafEiJQCQGoV/+oZGAlqEWP9JksUgMhncazonKE6SnpgMqXi/+pEQgEoNHLn3ktNcqXi9+pFNDInGkOQLxI08TgZmNNrNNZrbVzKbVsv97ZrbBzNaY2QIz6+plPCJeC00aa45A/MSzRGBmqcDTwBigNzDBzHrXaLYSKHLO9QPeAB5BxMc0IhA/8nKOYAiw1Tm3DcDMXgXGARtCDZxzC8PaLwWu9zAeEc+lWioD2g0gPSU90aGIRMzLRNAJ2BH2ugQYepb2twDv1LbDzCYDkwG6dOkSr/hE4i4tJY0XxryQ6DBEotIkJovN7HqgCHi0tv3OuRnOuSLnXFFBQUHjBici0sx5OSLYCXQOe10Y3HYaMxsF3Adc6pw76WE8IiJSCy9HBMuAHmbW3cwygGuB4vAGZjYA+DUw1jn3uYexiIhIHTxLBM65CuB2YC6wEXjNObfezKab2dhgs0eBc4DXzWyVmRXXcTiRJud4+XHmfzqfJbuWJDoUkZh4emexc+5t4O0a2x4Iez7Ky88X8VLpiVK++953KTynkHeuqvU6BxFfaBKTxSJ+FLppLC0ljSNl5az49ADHTupGMvEfrTUk0kAHD+4D4MT+PQx8aB7llY6MtBS+cl4eo3q1418GdKJllu4nkKZPIwKRBvh04wqOvnQDAK0rD5NbdYDzClpQXlnFXzbv4/7Z6xn39GI+LT2W4EhF6qcRgUiU1i6aTdd3v8PRjHKgIydzOjH338eQm9uWL46e5KWVi/n9qo/Ztiufb/xyCTNuGERRt7aJDlukThoRiERh2VtP0WvBjbTiOBuyBwLQKrcDubmBP/T552SyoPRn7G/1JEN6GPuPneK6Z97nj2t2JzJskbNSIhCJ0PrFf2TAyvtJsyr+1nEi3a/9T+DvNQhCQsVpHhx7ARO/0pVTlVU8+Lv/5aPV7zd6zCKRUCIQicCeHVvpOO87wSRwPV/59i9w5oC/rzgaElqKGqti+rg+3D4wgzdSf0DumxMo3VvS2KGL1EuJQKQeZSeOc2TmtbTlMGszBzLklp8DYYXrU06faquuUhZcivqOcZdwIjOf9pSy5zfXUn5KK6lI06JEIFKPH87ZxB/L+rLT2tP51ldITQv84c/NymVkl5EMaDfgtPbVNQmC5SozMrPIv+lV9pHLhafWsuLZqY3bAZF6KBGInMU7a3fzuxW7+G+u5tCNf6FNfofqfRe0vYCfjfgZU/pPOe09oRFBaMQAkH9uV0qveIZTLpVhn/+OtX/5feN0QCQCSgQidfji6Enue2sdAPdd2YveXTtG9L7QqaKaBewvGHI5K877DgDtFt7NoQNfxDFakYZTIhCphXOO+95cy/5jp/jHL+Vx/dDIy2nXnCMIN/i6B9mU1pP2lLL5+Sln7BdJBCUCkVrMXrWLuev3ck5mGo+M70dKikX83tAcQW0F7NPSM8i+egZlLp3Bh/7Eqnkvxy1mkYZSIhCpYe/hMh6YHTgldP/XelGYmxPV+3vk9mBQ+0G0zGhZ6/4u5/dnVc87Achb/CMOHDkRW8AiMdISEyJhnHPc+/u1HC6rYETPAq4u6lz/m2r43qDv1dtmyDU/oPiJT3hk/yUMnPMRT04YUO97RLyiEYFImDdWlPDuR5/TKiuNn/xrP8wiPyUUjZTUVPrf/BSlaR0pXr2LP63TEhSSOEoEIkF7Sz6mZM5/kkolP/z6hXRoneXp53XJy+HeKy4A4L4311F6VDeaSWIoEYgArqqKvf/zbb7Lyzzdvph/HdipUT73+qFdGXZeW0qPneKB4vWN8pkiNSkRiAAfvP4o/cqWcYgWFF1zf0SnhLYf2s78T+ez5cCWBn9uSorx6Ph/ICcjlT+u2c2bK7UWkTQ+JQJJeh+vWUL/DY8CsHXwdPLPjeyegYU7FvLd975L8cfFMX1+57Y5PPC13kDgFNG2fUdjOp5ItJQIJKkdO3KQjDdvIdPK+aDt1xl05bcifm/ozuGay1A3xDWDO/O1fh05fqqS219eSVn5mTejiXhFiUCS2oZnJ9PZ7WJ7Shf63vLfUb03tJZQzWWoG8LM+Mm/9qVL2xw27D7Mo3NWxXxMkUgpEUjSev/1xxl8aC4nXAb2zefJblH7DWB1CY0IqusPxKhlVjpPXTeAwWlbuGnV1SyfMyMuxxWpjxKBJKVV81+haN1DAKzt/wBdew2K+hihtYRqjgh2Ht3Jsj3L2Hl0Z9TH7FfYhu9feJxC+4J+y6ax7n9jm38QiYQSgSSdDz87wJuLlmPA0sJbGPKNhtUHCK0lVHOOYNbmWdw892bmfDynQccdes00lra7mgyrpNu8yXy8dmmDjiMSKSUCSSpbPz/CLc8vY+apy3jqyzMYevNjDT5WXRXK6lqGOlKWksKQb/+KFed8lXPsBK1mXcuuTz5qcJwi9VEikKSxdFsp43/1Nw4cL+eyC9px23XjsZSG/y9QfWqoxoigtsI00UpJTaXP7a+wPqMfBRwgY+Y/s/nD9xp8PJGzUSKQpPDGihJu+M37HAwmgaeuG0Baamxf/+rJ4po1i2uUqmyozKwcOt/2Fusy+5PPQbrMHs+H7/w2pmOK1EaJQJq1I2XlPFi8nrtfX015pePmi7rzzMQicjJiv9Ln/NzzuazzZRS2LDxte+gqotoK00SrVZs8en7/z3yQ+zWyrJyB79/FW//zJMdPNXy0IVKTlqGWZsk5x+xVu/iPtzey78hJUlOMB8deyA3DIq80Vp+re17N1T2vPmN7vEYEIekZmQye+iJLX/4Rvbf8mv9c15ZHdvyF+7/Wm9F9Oni2QqokDyUCaVaOHj7AhnnPc2rTfO45PJly0hjQpQ0PjetDn06tGyWGeMwR1GQpKQy7/kes/uh6Cv68h/W7DvNvL33IwC5tuG5oV67o2yEuoxxJTp5+c8xsNPBzIBV41jn3cI39mcALwCCgFLjGObfdy5ikeXFVVezYuoY9axeS8un/0vvQXxligeWc/y37SxReeQ/jBxZGVWoyVrFeNXQ2/3BBD4rP/zIvf/AZj83dxIefHeTDzw7yo+L1/NOFHRh6XluGdGtL17wcjRQkYp4lAjNLBZ4GLgdKgGVmVuyc2xDW7BbggHPuy2Z2LfBT4JpYPvfEqUr2H/qck2X7622bntmKnJx29bYrO7Ffx4vweK6O45WdKD2zVZXD4XDOUVVVSXpmLhk5HaioclRUVnGqsoqy8ipOlldy/FQlB0+Uc/D4KXJK5tNh9xxalu0iv2IPrTnGl0OflQpr0ntzrOdVTBp5A3mt29fbjxMVJzhRUX+5yKzULHLS6y9bWV28PoJEcLz8OGWVZfW2y07LJjstO3D8FOOGYV35xoBOzFm9i98t38HKzw4y68MSZq38GEsp556styhK/Zij2R2pOKcTlpNLSnYu6efkkpaVQ4usNpyTnQu5XUjJak1aipGSYqQYGIYZGHCi8jgnK0+SUnYYqsoBqC2/ZKVmkZ2WjctsBakZdfe34jinKk9iYcerTVZaFlmpWTpeBMfLys6nbet8stIbvtSJlyOCIcBW59w2ADN7FRgHhCeCccCDwedvAE+ZmTnnavt7EpH/Wfopf/ngLlYXfFJv2wEH8li05556212c/2sdrxGO1/9APn/dc3e97Ybn/4GVBduDr3KDj3BH4chMJm523DO4/vhe22hgObcAAAdySURBVPQajy2v/36Cib0nRnS8gpwCBrUfRJeWXeptO2PNDH6z7jf1trtz4J18q+/pC+Kdk5nGtUO6cO2QLmzee4RFm/fxxrZfs5O3+fuqSdsCjwrgSPAB3Ln/IN86dJibTt3Dwqq6y2RmFPyJzPz36o8veLwbT/0771X11/Ea8Xh99/bia5c+xnVD6/++1cXLRNAJ2BH2ugQYWlcb51yFmR0C8oAvwhuZ2WRgMkCXLmfvbFZ6CukpmbSurKo3wDTLpG2LurNviI4X3fFq/mDMqPd4FmyXRac22aSnGmmpKaSlGFnpqWSlp5CdnkqbnAxaZ6dz5EQ/zjm5B0tJJSX4qE3oF3R9MlMzyc2smUwafrzhhcMZXjg8orbZadkRfXZmauZZ95/fviXnt29JZavzeGljLlVVlVRVVeKqKqGqEnDgHEYVODhkBWxLaUurNnl0sxzKK4MjMwdVzuEA56AiPZvKyha04ARp1D3nUekyOUArsrKyaGt1f8cq07Kp0vHierz0lCwy02K7ANRi+PF99gObjQdGO+e+FXx9AzDUOXd7WJt1wTYlwdcfB9t8UdsxAYqKitzy5cs9iVlEpLkysxXOuaLa9nl5H8FOoHPY68LgtlrbmFka0JrApLGIiDQSLxPBMqCHmXU3swzgWqDmUorFwKTg8/HAu7HMD4iISPQ8myMInvO/HZhL4PLR55xz681sOrDcOVcM/AZ40cy2AvsJJAsREWlEnt5H4Jx7G3i7xrYHwp6XAd/0MgYRETk7rTUkIpLklAhERJKcEoGISJJTIhARSXKe3VDmFTPbB3waQdN8atyh7HPNrT/Q/PrU3PoD6pMfRNqfrs65gtp2+C4RRMrMltd1F50fNbf+QPPrU3PrD6hPfhCP/ujUkIhIklMiEBFJcs05EcxIdABx1tz6A82vT82tP6A++UHM/Wm2cwQiIhKZ5jwiEBGRCCgRiIgkuWaVCMzsITNbY2arzOzPZnZucLuZ2ZNmtjW4f2CiY42UmT1qZh8F437TzNqE7bs32KdNZvbPiYwzUmb2TTNbb2ZVZlZUY5/v+hNiZqODcW81s2mJjqchzOw5M/s8WDAqtK2tmc0zsy3Bf9ZfTq2JMLPOZrbQzDYEv3N3Brf7uU9ZZvaBma0O9ulHwe3dzez94Pfvd8Gl/yPnnGs2D6BV2PM7gF8Fn18BvEOgJuIw4P1ExxpFn/4JSAs+/ynw0+Dz3sBqIBPoDnwMpCY63gj60wvoCbwHFIVt92V/grGnBuM9D8gI9qN3ouNqQD+GAwOBdWHbHgGmBZ9PC33//PAAOgIDg89bApuD3zM/98mAc4LP04H3g3/TXgOuDW7/FfBv0Ry3WY0InHOHw162AEIz4eOAF1zAUqCNmXVs9AAbwDn3Z+dcqNjpUgKV3iDQp1edcyedc58AW4EhiYgxGs65jc65TbXs8mV/goYAW51z25xzp4BXCfTHV5xziwjUBQk3DpgZfD4T+JdGDSoGzrndzrkPg8+PABsJ1En3c5+cc+5o8GV68OGAy4A3gtuj7lOzSgQAZvYfZrYD+H9AqPZBJ2BHWLOS4Da/uZnAyAaaT59C/NwfP8den/bOud3B53uA9okMpqHMrBswgMAvaF/3ycxSzWwV8Dkwj8Bo9GDYD8aov3++SwRmNt/M1tXyGAfgnLvPOdcZeAm4PbHRRqa+PgXb3AdUEOhXkxZJf8R/XOC8g++uNzezc4BZwF01zhr4sk/OuUrnXH8CZweGABfEekxPK5R5wTk3KsKmLxGojvZDYCfQOWxfYXBbk1Bfn8zsRuBrwMjgFxeacJ+i+G8Ursn2JwJ+jr0+e82so3Nud/B06ueJDigaZpZOIAm85Jz7fXCzr/sU4pw7aGYLga8QON2dFhwVRP39892I4GzMrEfYy3HAR8HnxcDE4NVDw4BDYUPDJs3MRgP/Dox1zh0P21UMXGtmmWbWHegBfJCIGOPEz/1ZBvQIXrmRQaD2dnGCY4qXYmBS8PkkYHYCY4mKmRmBuugbnXNPhO3yc58KQlcOmlk2cDmBuY+FwPhgs+j7lOhZ8DjPqM8C1gFrgD8AncJm2p8mcC5tLWFXqzT1B4FJ0x3AquDjV2H77gv2aRMwJtGxRtifbxA4h3kS2AvM9XN/wmK/gsBVKR8D9yU6ngb24RVgN1Ae/G90C5AHLAC2APOBtomOM4r+XEzgtM+asP9/rvB5n/oBK4N9Wgc8ENx+HoEfTluB14HMaI6rJSZERJJcszo1JCIi0VMiEBFJckoEIiJJTolARCTJKRGIiCQ5JQIRkSSnRCAikuSUCERiZGaDg/UissysRXCd+D6JjkskUrqhTCQOzOzHQBaQDZQ4536S4JBEIqZEIBIHwTWGlgFlwD865yoTHJJIxHRqSCQ+8oBzCFTCykpwLCJR0YhAJA7MrJhAZbLuQEfnnC9qYYiAD+sRiDQ1ZjYRKHfOvWxmqcASM7vMOfduomMTiYRGBCIiSU5zBCIiSU6JQEQkySkRiIgkOSUCEZEkp0QgIpLklAhERJKcEoGISJL7Pzuq+40IJzXIAAAAAElFTkSuQmCC\n",
                "text/plain": "<Figure size 432x288 with 1 Axes>"
              }
            ],
            "_view_module": "@jupyter-widgets/output",
            "_model_module_version": "1.0.0",
            "_view_count": null,
            "_view_module_version": "1.0.0",
            "layout": "IPY_MODEL_c70aedf74b164315896d2bbc328e9923",
            "_model_module": "@jupyter-widgets/output"
          }
        },
        "a0d436b9737f4937ac7fd243343657c9": {
          "model_module": "@jupyter-widgets/controls",
          "model_name": "SliderStyleModel",
          "state": {
            "_view_name": "StyleView",
            "handle_color": null,
            "_model_name": "SliderStyleModel",
            "description_width": "",
            "_view_module": "@jupyter-widgets/base",
            "_model_module_version": "1.5.0",
            "_view_count": null,
            "_view_module_version": "1.2.0",
            "_model_module": "@jupyter-widgets/controls"
          }
        },
        "0ce61b26fc724b3ea328aae44938a9fd": {
          "model_module": "@jupyter-widgets/base",
          "model_name": "LayoutModel",
          "state": {
            "_view_name": "LayoutView",
            "grid_template_rows": null,
            "right": null,
            "justify_content": null,
            "_view_module": "@jupyter-widgets/base",
            "overflow": null,
            "_model_module_version": "1.2.0",
            "_view_count": null,
            "flex_flow": null,
            "width": null,
            "min_width": null,
            "border": null,
            "align_items": null,
            "bottom": null,
            "_model_module": "@jupyter-widgets/base",
            "top": null,
            "grid_column": null,
            "overflow_y": null,
            "overflow_x": null,
            "grid_auto_flow": null,
            "grid_area": null,
            "grid_template_columns": null,
            "flex": null,
            "_model_name": "LayoutModel",
            "justify_items": null,
            "grid_row": null,
            "max_height": null,
            "align_content": null,
            "visibility": null,
            "align_self": null,
            "height": null,
            "min_height": null,
            "padding": null,
            "grid_auto_rows": null,
            "grid_gap": null,
            "max_width": null,
            "order": null,
            "_view_module_version": "1.2.0",
            "grid_template_areas": null,
            "object_position": null,
            "object_fit": null,
            "grid_auto_columns": null,
            "margin": null,
            "display": null,
            "left": null
          }
        },
        "c70aedf74b164315896d2bbc328e9923": {
          "model_module": "@jupyter-widgets/base",
          "model_name": "LayoutModel",
          "state": {
            "_view_name": "LayoutView",
            "grid_template_rows": null,
            "right": null,
            "justify_content": null,
            "_view_module": "@jupyter-widgets/base",
            "overflow": null,
            "_model_module_version": "1.2.0",
            "_view_count": null,
            "flex_flow": null,
            "width": null,
            "min_width": null,
            "border": null,
            "align_items": null,
            "bottom": null,
            "_model_module": "@jupyter-widgets/base",
            "top": null,
            "grid_column": null,
            "overflow_y": null,
            "overflow_x": null,
            "grid_auto_flow": null,
            "grid_area": null,
            "grid_template_columns": null,
            "flex": null,
            "_model_name": "LayoutModel",
            "justify_items": null,
            "grid_row": null,
            "max_height": null,
            "align_content": null,
            "visibility": null,
            "align_self": null,
            "height": null,
            "min_height": null,
            "padding": null,
            "grid_auto_rows": null,
            "grid_gap": null,
            "max_width": null,
            "order": null,
            "_view_module_version": "1.2.0",
            "grid_template_areas": null,
            "object_position": null,
            "object_fit": null,
            "grid_auto_columns": null,
            "margin": null,
            "display": null,
            "left": null
          }
        },
        "e7b4ce449317445d8a382ed68d5f133c": {
          "model_module": "@jupyter-widgets/controls",
          "model_name": "VBoxModel",
          "state": {
            "_view_name": "VBoxView",
            "_dom_classes": [
              "widget-interact"
            ],
            "_model_name": "VBoxModel",
            "_view_module": "@jupyter-widgets/controls",
            "_model_module_version": "1.5.0",
            "_view_count": null,
            "_view_module_version": "1.5.0",
            "box_style": "",
            "layout": "IPY_MODEL_3d41f03b8b474537afe0046bd11c391f",
            "_model_module": "@jupyter-widgets/controls",
            "children": [
              "IPY_MODEL_62717aa4d220487c8d7270039b466a1b",
              "IPY_MODEL_5972eda01762408b954b11e2a19472ca"
            ]
          }
        },
        "3d41f03b8b474537afe0046bd11c391f": {
          "model_module": "@jupyter-widgets/base",
          "model_name": "LayoutModel",
          "state": {
            "_view_name": "LayoutView",
            "grid_template_rows": null,
            "right": null,
            "justify_content": null,
            "_view_module": "@jupyter-widgets/base",
            "overflow": null,
            "_model_module_version": "1.2.0",
            "_view_count": null,
            "flex_flow": null,
            "width": null,
            "min_width": null,
            "border": null,
            "align_items": null,
            "bottom": null,
            "_model_module": "@jupyter-widgets/base",
            "top": null,
            "grid_column": null,
            "overflow_y": null,
            "overflow_x": null,
            "grid_auto_flow": null,
            "grid_area": null,
            "grid_template_columns": null,
            "flex": null,
            "_model_name": "LayoutModel",
            "justify_items": null,
            "grid_row": null,
            "max_height": null,
            "align_content": null,
            "visibility": null,
            "align_self": null,
            "height": null,
            "min_height": null,
            "padding": null,
            "grid_auto_rows": null,
            "grid_gap": null,
            "max_width": null,
            "order": null,
            "_view_module_version": "1.2.0",
            "grid_template_areas": null,
            "object_position": null,
            "object_fit": null,
            "grid_auto_columns": null,
            "margin": null,
            "display": null,
            "left": null
          }
        },
        "62717aa4d220487c8d7270039b466a1b": {
          "model_module": "@jupyter-widgets/controls",
          "model_name": "IntSliderModel",
          "state": {
            "_view_name": "IntSliderView",
            "style": "IPY_MODEL_bf6979baf1c84e069081fb704a6f3b71",
            "_dom_classes": [],
            "description": "t",
            "step": 1,
            "_model_name": "IntSliderModel",
            "orientation": "horizontal",
            "max": 50,
            "_view_module": "@jupyter-widgets/controls",
            "_model_module_version": "1.5.0",
            "value": 33,
            "_view_count": null,
            "disabled": false,
            "_view_module_version": "1.5.0",
            "min": 1,
            "continuous_update": true,
            "readout_format": "d",
            "description_tooltip": null,
            "readout": true,
            "_model_module": "@jupyter-widgets/controls",
            "layout": "IPY_MODEL_d7eef542b66f4419b8f39dc877411085"
          }
        },
        "5972eda01762408b954b11e2a19472ca": {
          "model_module": "@jupyter-widgets/output",
          "model_name": "OutputModel",
          "state": {
            "_view_name": "OutputView",
            "msg_id": "",
            "_dom_classes": [],
            "_model_name": "OutputModel",
            "outputs": [
              {
                "output_type": "display_data",
                "metadata": {
                  "tags": [],
                  "needs_background": "light"
                },
                "image/png": "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\n",
                "text/plain": "<Figure size 432x288 with 1 Axes>"
              }
            ],
            "_view_module": "@jupyter-widgets/output",
            "_model_module_version": "1.0.0",
            "_view_count": null,
            "_view_module_version": "1.0.0",
            "layout": "IPY_MODEL_1e79e2f5ff5648818c27f6c676dd8134",
            "_model_module": "@jupyter-widgets/output"
          }
        },
        "bf6979baf1c84e069081fb704a6f3b71": {
          "model_module": "@jupyter-widgets/controls",
          "model_name": "SliderStyleModel",
          "state": {
            "_view_name": "StyleView",
            "handle_color": null,
            "_model_name": "SliderStyleModel",
            "description_width": "",
            "_view_module": "@jupyter-widgets/base",
            "_model_module_version": "1.5.0",
            "_view_count": null,
            "_view_module_version": "1.2.0",
            "_model_module": "@jupyter-widgets/controls"
          }
        },
        "d7eef542b66f4419b8f39dc877411085": {
          "model_module": "@jupyter-widgets/base",
          "model_name": "LayoutModel",
          "state": {
            "_view_name": "LayoutView",
            "grid_template_rows": null,
            "right": null,
            "justify_content": null,
            "_view_module": "@jupyter-widgets/base",
            "overflow": null,
            "_model_module_version": "1.2.0",
            "_view_count": null,
            "flex_flow": null,
            "width": null,
            "min_width": null,
            "border": null,
            "align_items": null,
            "bottom": null,
            "_model_module": "@jupyter-widgets/base",
            "top": null,
            "grid_column": null,
            "overflow_y": null,
            "overflow_x": null,
            "grid_auto_flow": null,
            "grid_area": null,
            "grid_template_columns": null,
            "flex": null,
            "_model_name": "LayoutModel",
            "justify_items": null,
            "grid_row": null,
            "max_height": null,
            "align_content": null,
            "visibility": null,
            "align_self": null,
            "height": null,
            "min_height": null,
            "padding": null,
            "grid_auto_rows": null,
            "grid_gap": null,
            "max_width": null,
            "order": null,
            "_view_module_version": "1.2.0",
            "grid_template_areas": null,
            "object_position": null,
            "object_fit": null,
            "grid_auto_columns": null,
            "margin": null,
            "display": null,
            "left": null
          }
        },
        "1e79e2f5ff5648818c27f6c676dd8134": {
          "model_module": "@jupyter-widgets/base",
          "model_name": "LayoutModel",
          "state": {
            "_view_name": "LayoutView",
            "grid_template_rows": null,
            "right": null,
            "justify_content": null,
            "_view_module": "@jupyter-widgets/base",
            "overflow": null,
            "_model_module_version": "1.2.0",
            "_view_count": null,
            "flex_flow": null,
            "width": null,
            "min_width": null,
            "border": null,
            "align_items": null,
            "bottom": null,
            "_model_module": "@jupyter-widgets/base",
            "top": null,
            "grid_column": null,
            "overflow_y": null,
            "overflow_x": null,
            "grid_auto_flow": null,
            "grid_area": null,
            "grid_template_columns": null,
            "flex": null,
            "_model_name": "LayoutModel",
            "justify_items": null,
            "grid_row": null,
            "max_height": null,
            "align_content": null,
            "visibility": null,
            "align_self": null,
            "height": null,
            "min_height": null,
            "padding": null,
            "grid_auto_rows": null,
            "grid_gap": null,
            "max_width": null,
            "order": null,
            "_view_module_version": "1.2.0",
            "grid_template_areas": null,
            "object_position": null,
            "object_fit": null,
            "grid_auto_columns": null,
            "margin": null,
            "display": null,
            "left": null
          }
        },
        "51c3c2386db44affa12e37e917aa6387": {
          "model_module": "@jupyter-widgets/controls",
          "model_name": "VBoxModel",
          "state": {
            "_view_name": "VBoxView",
            "_dom_classes": [
              "widget-interact"
            ],
            "_model_name": "VBoxModel",
            "_view_module": "@jupyter-widgets/controls",
            "_model_module_version": "1.5.0",
            "_view_count": null,
            "_view_module_version": "1.5.0",
            "box_style": "",
            "layout": "IPY_MODEL_f7539a9bb3f14fa5bc7aa6b25040225f",
            "_model_module": "@jupyter-widgets/controls",
            "children": [
              "IPY_MODEL_9c9b83b07a9643429510b4a319e24d23",
              "IPY_MODEL_bf3fc385f003455aa23e53f2c2b3d556"
            ]
          }
        },
        "f7539a9bb3f14fa5bc7aa6b25040225f": {
          "model_module": "@jupyter-widgets/base",
          "model_name": "LayoutModel",
          "state": {
            "_view_name": "LayoutView",
            "grid_template_rows": null,
            "right": null,
            "justify_content": null,
            "_view_module": "@jupyter-widgets/base",
            "overflow": null,
            "_model_module_version": "1.2.0",
            "_view_count": null,
            "flex_flow": null,
            "width": null,
            "min_width": null,
            "border": null,
            "align_items": null,
            "bottom": null,
            "_model_module": "@jupyter-widgets/base",
            "top": null,
            "grid_column": null,
            "overflow_y": null,
            "overflow_x": null,
            "grid_auto_flow": null,
            "grid_area": null,
            "grid_template_columns": null,
            "flex": null,
            "_model_name": "LayoutModel",
            "justify_items": null,
            "grid_row": null,
            "max_height": null,
            "align_content": null,
            "visibility": null,
            "align_self": null,
            "height": null,
            "min_height": null,
            "padding": null,
            "grid_auto_rows": null,
            "grid_gap": null,
            "max_width": null,
            "order": null,
            "_view_module_version": "1.2.0",
            "grid_template_areas": null,
            "object_position": null,
            "object_fit": null,
            "grid_auto_columns": null,
            "margin": null,
            "display": null,
            "left": null
          }
        },
        "9c9b83b07a9643429510b4a319e24d23": {
          "model_module": "@jupyter-widgets/controls",
          "model_name": "IntSliderModel",
          "state": {
            "_view_name": "IntSliderView",
            "style": "IPY_MODEL_95cc00722c3c4966b9951b9bd5fe6fa6",
            "_dom_classes": [],
            "description": "t",
            "step": 1,
            "_model_name": "IntSliderModel",
            "orientation": "horizontal",
            "max": 100,
            "_view_module": "@jupyter-widgets/controls",
            "_model_module_version": "1.5.0",
            "value": 63,
            "_view_count": null,
            "disabled": false,
            "_view_module_version": "1.5.0",
            "min": 1,
            "continuous_update": true,
            "readout_format": "d",
            "description_tooltip": null,
            "readout": true,
            "_model_module": "@jupyter-widgets/controls",
            "layout": "IPY_MODEL_0d53be60ff3a40a2bb506eb0892fed03"
          }
        },
        "bf3fc385f003455aa23e53f2c2b3d556": {
          "model_module": "@jupyter-widgets/output",
          "model_name": "OutputModel",
          "state": {
            "_view_name": "OutputView",
            "msg_id": "",
            "_dom_classes": [],
            "_model_name": "OutputModel",
            "outputs": [
              {
                "output_type": "display_data",
                "metadata": {
                  "tags": [],
                  "needs_background": "light"
                },
                "image/png": "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\n",
                "text/plain": "<Figure size 432x288 with 1 Axes>"
              }
            ],
            "_view_module": "@jupyter-widgets/output",
            "_model_module_version": "1.0.0",
            "_view_count": null,
            "_view_module_version": "1.0.0",
            "layout": "IPY_MODEL_1bc0572068ad482fbce032b948efe65e",
            "_model_module": "@jupyter-widgets/output"
          }
        },
        "95cc00722c3c4966b9951b9bd5fe6fa6": {
          "model_module": "@jupyter-widgets/controls",
          "model_name": "SliderStyleModel",
          "state": {
            "_view_name": "StyleView",
            "handle_color": null,
            "_model_name": "SliderStyleModel",
            "description_width": "",
            "_view_module": "@jupyter-widgets/base",
            "_model_module_version": "1.5.0",
            "_view_count": null,
            "_view_module_version": "1.2.0",
            "_model_module": "@jupyter-widgets/controls"
          }
        },
        "0d53be60ff3a40a2bb506eb0892fed03": {
          "model_module": "@jupyter-widgets/base",
          "model_name": "LayoutModel",
          "state": {
            "_view_name": "LayoutView",
            "grid_template_rows": null,
            "right": null,
            "justify_content": null,
            "_view_module": "@jupyter-widgets/base",
            "overflow": null,
            "_model_module_version": "1.2.0",
            "_view_count": null,
            "flex_flow": null,
            "width": null,
            "min_width": null,
            "border": null,
            "align_items": null,
            "bottom": null,
            "_model_module": "@jupyter-widgets/base",
            "top": null,
            "grid_column": null,
            "overflow_y": null,
            "overflow_x": null,
            "grid_auto_flow": null,
            "grid_area": null,
            "grid_template_columns": null,
            "flex": null,
            "_model_name": "LayoutModel",
            "justify_items": null,
            "grid_row": null,
            "max_height": null,
            "align_content": null,
            "visibility": null,
            "align_self": null,
            "height": null,
            "min_height": null,
            "padding": null,
            "grid_auto_rows": null,
            "grid_gap": null,
            "max_width": null,
            "order": null,
            "_view_module_version": "1.2.0",
            "grid_template_areas": null,
            "object_position": null,
            "object_fit": null,
            "grid_auto_columns": null,
            "margin": null,
            "display": null,
            "left": null
          }
        },
        "1bc0572068ad482fbce032b948efe65e": {
          "model_module": "@jupyter-widgets/base",
          "model_name": "LayoutModel",
          "state": {
            "_view_name": "LayoutView",
            "grid_template_rows": null,
            "right": null,
            "justify_content": null,
            "_view_module": "@jupyter-widgets/base",
            "overflow": null,
            "_model_module_version": "1.2.0",
            "_view_count": null,
            "flex_flow": null,
            "width": null,
            "min_width": null,
            "border": null,
            "align_items": null,
            "bottom": null,
            "_model_module": "@jupyter-widgets/base",
            "top": null,
            "grid_column": null,
            "overflow_y": null,
            "overflow_x": null,
            "grid_auto_flow": null,
            "grid_area": null,
            "grid_template_columns": null,
            "flex": null,
            "_model_name": "LayoutModel",
            "justify_items": null,
            "grid_row": null,
            "max_height": null,
            "align_content": null,
            "visibility": null,
            "align_self": null,
            "height": null,
            "min_height": null,
            "padding": null,
            "grid_auto_rows": null,
            "grid_gap": null,
            "max_width": null,
            "order": null,
            "_view_module_version": "1.2.0",
            "grid_template_areas": null,
            "object_position": null,
            "object_fit": null,
            "grid_auto_columns": null,
            "margin": null,
            "display": null,
            "left": null
          }
        },
        "b5c9d28e9f40431780262e2c40279b6b": {
          "model_module": "@jupyter-widgets/controls",
          "model_name": "VBoxModel",
          "state": {
            "_view_name": "VBoxView",
            "_dom_classes": [
              "widget-interact"
            ],
            "_model_name": "VBoxModel",
            "_view_module": "@jupyter-widgets/controls",
            "_model_module_version": "1.5.0",
            "_view_count": null,
            "_view_module_version": "1.5.0",
            "box_style": "",
            "layout": "IPY_MODEL_642cd49f2db64043a5105e0210777a48",
            "_model_module": "@jupyter-widgets/controls",
            "children": [
              "IPY_MODEL_b2092077d2fc402cb3bfb0c9464a99d6",
              "IPY_MODEL_f8e2040c5c874415977c94ed7f6b4362"
            ]
          }
        },
        "642cd49f2db64043a5105e0210777a48": {
          "model_module": "@jupyter-widgets/base",
          "model_name": "LayoutModel",
          "state": {
            "_view_name": "LayoutView",
            "grid_template_rows": null,
            "right": null,
            "justify_content": null,
            "_view_module": "@jupyter-widgets/base",
            "overflow": null,
            "_model_module_version": "1.2.0",
            "_view_count": null,
            "flex_flow": null,
            "width": null,
            "min_width": null,
            "border": null,
            "align_items": null,
            "bottom": null,
            "_model_module": "@jupyter-widgets/base",
            "top": null,
            "grid_column": null,
            "overflow_y": null,
            "overflow_x": null,
            "grid_auto_flow": null,
            "grid_area": null,
            "grid_template_columns": null,
            "flex": null,
            "_model_name": "LayoutModel",
            "justify_items": null,
            "grid_row": null,
            "max_height": null,
            "align_content": null,
            "visibility": null,
            "align_self": null,
            "height": null,
            "min_height": null,
            "padding": null,
            "grid_auto_rows": null,
            "grid_gap": null,
            "max_width": null,
            "order": null,
            "_view_module_version": "1.2.0",
            "grid_template_areas": null,
            "object_position": null,
            "object_fit": null,
            "grid_auto_columns": null,
            "margin": null,
            "display": null,
            "left": null
          }
        },
        "b2092077d2fc402cb3bfb0c9464a99d6": {
          "model_module": "@jupyter-widgets/controls",
          "model_name": "IntSliderModel",
          "state": {
            "_view_name": "IntSliderView",
            "style": "IPY_MODEL_91c370c01339430dacce9cc43629f135",
            "_dom_classes": [],
            "description": "t",
            "step": 1,
            "_model_name": "IntSliderModel",
            "orientation": "horizontal",
            "max": 50,
            "_view_module": "@jupyter-widgets/controls",
            "_model_module_version": "1.5.0",
            "value": 31,
            "_view_count": null,
            "disabled": false,
            "_view_module_version": "1.5.0",
            "min": 1,
            "continuous_update": true,
            "readout_format": "d",
            "description_tooltip": null,
            "readout": true,
            "_model_module": "@jupyter-widgets/controls",
            "layout": "IPY_MODEL_0ca04c6546dc4ccf9456dcb407ac6255"
          }
        },
        "f8e2040c5c874415977c94ed7f6b4362": {
          "model_module": "@jupyter-widgets/output",
          "model_name": "OutputModel",
          "state": {
            "_view_name": "OutputView",
            "msg_id": "",
            "_dom_classes": [],
            "_model_name": "OutputModel",
            "outputs": [
              {
                "output_type": "display_data",
                "metadata": {
                  "tags": [],
                  "needs_background": "light"
                },
                "image/png": "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\n",
                "text/plain": "<Figure size 720x720 with 1 Axes>"
              }
            ],
            "_view_module": "@jupyter-widgets/output",
            "_model_module_version": "1.0.0",
            "_view_count": null,
            "_view_module_version": "1.0.0",
            "layout": "IPY_MODEL_ab26c20ec28340d4a421d992c4955dc7",
            "_model_module": "@jupyter-widgets/output"
          }
        },
        "91c370c01339430dacce9cc43629f135": {
          "model_module": "@jupyter-widgets/controls",
          "model_name": "SliderStyleModel",
          "state": {
            "_view_name": "StyleView",
            "handle_color": null,
            "_model_name": "SliderStyleModel",
            "description_width": "",
            "_view_module": "@jupyter-widgets/base",
            "_model_module_version": "1.5.0",
            "_view_count": null,
            "_view_module_version": "1.2.0",
            "_model_module": "@jupyter-widgets/controls"
          }
        },
        "0ca04c6546dc4ccf9456dcb407ac6255": {
          "model_module": "@jupyter-widgets/base",
          "model_name": "LayoutModel",
          "state": {
            "_view_name": "LayoutView",
            "grid_template_rows": null,
            "right": null,
            "justify_content": null,
            "_view_module": "@jupyter-widgets/base",
            "overflow": null,
            "_model_module_version": "1.2.0",
            "_view_count": null,
            "flex_flow": null,
            "width": null,
            "min_width": null,
            "border": null,
            "align_items": null,
            "bottom": null,
            "_model_module": "@jupyter-widgets/base",
            "top": null,
            "grid_column": null,
            "overflow_y": null,
            "overflow_x": null,
            "grid_auto_flow": null,
            "grid_area": null,
            "grid_template_columns": null,
            "flex": null,
            "_model_name": "LayoutModel",
            "justify_items": null,
            "grid_row": null,
            "max_height": null,
            "align_content": null,
            "visibility": null,
            "align_self": null,
            "height": null,
            "min_height": null,
            "padding": null,
            "grid_auto_rows": null,
            "grid_gap": null,
            "max_width": null,
            "order": null,
            "_view_module_version": "1.2.0",
            "grid_template_areas": null,
            "object_position": null,
            "object_fit": null,
            "grid_auto_columns": null,
            "margin": null,
            "display": null,
            "left": null
          }
        },
        "ab26c20ec28340d4a421d992c4955dc7": {
          "model_module": "@jupyter-widgets/base",
          "model_name": "LayoutModel",
          "state": {
            "_view_name": "LayoutView",
            "grid_template_rows": null,
            "right": null,
            "justify_content": null,
            "_view_module": "@jupyter-widgets/base",
            "overflow": null,
            "_model_module_version": "1.2.0",
            "_view_count": null,
            "flex_flow": null,
            "width": null,
            "min_width": null,
            "border": null,
            "align_items": null,
            "bottom": null,
            "_model_module": "@jupyter-widgets/base",
            "top": null,
            "grid_column": null,
            "overflow_y": null,
            "overflow_x": null,
            "grid_auto_flow": null,
            "grid_area": null,
            "grid_template_columns": null,
            "flex": null,
            "_model_name": "LayoutModel",
            "justify_items": null,
            "grid_row": null,
            "max_height": null,
            "align_content": null,
            "visibility": null,
            "align_self": null,
            "height": null,
            "min_height": null,
            "padding": null,
            "grid_auto_rows": null,
            "grid_gap": null,
            "max_width": null,
            "order": null,
            "_view_module_version": "1.2.0",
            "grid_template_areas": null,
            "object_position": null,
            "object_fit": null,
            "grid_auto_columns": null,
            "margin": null,
            "display": null,
            "left": null
          }
        },
        "db8b15ca2b0a416a853d03f74210057c": {
          "model_module": "@jupyter-widgets/controls",
          "model_name": "VBoxModel",
          "state": {
            "_view_name": "VBoxView",
            "_dom_classes": [
              "widget-interact"
            ],
            "_model_name": "VBoxModel",
            "_view_module": "@jupyter-widgets/controls",
            "_model_module_version": "1.5.0",
            "_view_count": null,
            "_view_module_version": "1.5.0",
            "box_style": "",
            "layout": "IPY_MODEL_7a44fa92822344429a476de80ee70df6",
            "_model_module": "@jupyter-widgets/controls",
            "children": [
              "IPY_MODEL_15f84dbc4fd64374af536525372b8800",
              "IPY_MODEL_c47bc15763bf4a4a9f6def39f782b7b7"
            ]
          }
        },
        "7a44fa92822344429a476de80ee70df6": {
          "model_module": "@jupyter-widgets/base",
          "model_name": "LayoutModel",
          "state": {
            "_view_name": "LayoutView",
            "grid_template_rows": null,
            "right": null,
            "justify_content": null,
            "_view_module": "@jupyter-widgets/base",
            "overflow": null,
            "_model_module_version": "1.2.0",
            "_view_count": null,
            "flex_flow": null,
            "width": null,
            "min_width": null,
            "border": null,
            "align_items": null,
            "bottom": null,
            "_model_module": "@jupyter-widgets/base",
            "top": null,
            "grid_column": null,
            "overflow_y": null,
            "overflow_x": null,
            "grid_auto_flow": null,
            "grid_area": null,
            "grid_template_columns": null,
            "flex": null,
            "_model_name": "LayoutModel",
            "justify_items": null,
            "grid_row": null,
            "max_height": null,
            "align_content": null,
            "visibility": null,
            "align_self": null,
            "height": null,
            "min_height": null,
            "padding": null,
            "grid_auto_rows": null,
            "grid_gap": null,
            "max_width": null,
            "order": null,
            "_view_module_version": "1.2.0",
            "grid_template_areas": null,
            "object_position": null,
            "object_fit": null,
            "grid_auto_columns": null,
            "margin": null,
            "display": null,
            "left": null
          }
        },
        "15f84dbc4fd64374af536525372b8800": {
          "model_module": "@jupyter-widgets/controls",
          "model_name": "IntSliderModel",
          "state": {
            "_view_name": "IntSliderView",
            "style": "IPY_MODEL_898c7c2111c74636a28fa15439712935",
            "_dom_classes": [],
            "description": "t",
            "step": 1,
            "_model_name": "IntSliderModel",
            "orientation": "horizontal",
            "max": 50,
            "_view_module": "@jupyter-widgets/controls",
            "_model_module_version": "1.5.0",
            "value": 12,
            "_view_count": null,
            "disabled": false,
            "_view_module_version": "1.5.0",
            "min": 0,
            "continuous_update": true,
            "readout_format": "d",
            "description_tooltip": null,
            "readout": true,
            "_model_module": "@jupyter-widgets/controls",
            "layout": "IPY_MODEL_81c922f034d640b2b4765680ad7adbdf"
          }
        },
        "c47bc15763bf4a4a9f6def39f782b7b7": {
          "model_module": "@jupyter-widgets/output",
          "model_name": "OutputModel",
          "state": {
            "_view_name": "OutputView",
            "msg_id": "",
            "_dom_classes": [],
            "_model_name": "OutputModel",
            "outputs": [
              {
                "output_type": "display_data",
                "metadata": {
                  "tags": [],
                  "needs_background": "light"
                },
                "image/png": "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\n",
                "text/plain": "<Figure size 432x288 with 1 Axes>"
              }
            ],
            "_view_module": "@jupyter-widgets/output",
            "_model_module_version": "1.0.0",
            "_view_count": null,
            "_view_module_version": "1.0.0",
            "layout": "IPY_MODEL_654527f485a84c2b884eb5376f5eab9e",
            "_model_module": "@jupyter-widgets/output"
          }
        },
        "898c7c2111c74636a28fa15439712935": {
          "model_module": "@jupyter-widgets/controls",
          "model_name": "SliderStyleModel",
          "state": {
            "_view_name": "StyleView",
            "handle_color": null,
            "_model_name": "SliderStyleModel",
            "description_width": "",
            "_view_module": "@jupyter-widgets/base",
            "_model_module_version": "1.5.0",
            "_view_count": null,
            "_view_module_version": "1.2.0",
            "_model_module": "@jupyter-widgets/controls"
          }
        },
        "81c922f034d640b2b4765680ad7adbdf": {
          "model_module": "@jupyter-widgets/base",
          "model_name": "LayoutModel",
          "state": {
            "_view_name": "LayoutView",
            "grid_template_rows": null,
            "right": null,
            "justify_content": null,
            "_view_module": "@jupyter-widgets/base",
            "overflow": null,
            "_model_module_version": "1.2.0",
            "_view_count": null,
            "flex_flow": null,
            "width": null,
            "min_width": null,
            "border": null,
            "align_items": null,
            "bottom": null,
            "_model_module": "@jupyter-widgets/base",
            "top": null,
            "grid_column": null,
            "overflow_y": null,
            "overflow_x": null,
            "grid_auto_flow": null,
            "grid_area": null,
            "grid_template_columns": null,
            "flex": null,
            "_model_name": "LayoutModel",
            "justify_items": null,
            "grid_row": null,
            "max_height": null,
            "align_content": null,
            "visibility": null,
            "align_self": null,
            "height": null,
            "min_height": null,
            "padding": null,
            "grid_auto_rows": null,
            "grid_gap": null,
            "max_width": null,
            "order": null,
            "_view_module_version": "1.2.0",
            "grid_template_areas": null,
            "object_position": null,
            "object_fit": null,
            "grid_auto_columns": null,
            "margin": null,
            "display": null,
            "left": null
          }
        },
        "654527f485a84c2b884eb5376f5eab9e": {
          "model_module": "@jupyter-widgets/base",
          "model_name": "LayoutModel",
          "state": {
            "_view_name": "LayoutView",
            "grid_template_rows": null,
            "right": null,
            "justify_content": null,
            "_view_module": "@jupyter-widgets/base",
            "overflow": null,
            "_model_module_version": "1.2.0",
            "_view_count": null,
            "flex_flow": null,
            "width": null,
            "min_width": null,
            "border": null,
            "align_items": null,
            "bottom": null,
            "_model_module": "@jupyter-widgets/base",
            "top": null,
            "grid_column": null,
            "overflow_y": null,
            "overflow_x": null,
            "grid_auto_flow": null,
            "grid_area": null,
            "grid_template_columns": null,
            "flex": null,
            "_model_name": "LayoutModel",
            "justify_items": null,
            "grid_row": null,
            "max_height": null,
            "align_content": null,
            "visibility": null,
            "align_self": null,
            "height": null,
            "min_height": null,
            "padding": null,
            "grid_auto_rows": null,
            "grid_gap": null,
            "max_width": null,
            "order": null,
            "_view_module_version": "1.2.0",
            "grid_template_areas": null,
            "object_position": null,
            "object_fit": null,
            "grid_auto_columns": null,
            "margin": null,
            "display": null,
            "left": null
          }
        },
        "c99c1da541ac4c8ea86f17750cdec16f": {
          "model_module": "@jupyter-widgets/controls",
          "model_name": "VBoxModel",
          "state": {
            "_view_name": "VBoxView",
            "_dom_classes": [
              "widget-interact"
            ],
            "_model_name": "VBoxModel",
            "_view_module": "@jupyter-widgets/controls",
            "_model_module_version": "1.5.0",
            "_view_count": null,
            "_view_module_version": "1.5.0",
            "box_style": "",
            "layout": "IPY_MODEL_cca77ab04c3e4aeba35efb39119840b1",
            "_model_module": "@jupyter-widgets/controls",
            "children": [
              "IPY_MODEL_c9f4d2ed8057472694e207c5a034c5b8",
              "IPY_MODEL_cbe9574c833748638ebeef0b4edcff42"
            ]
          }
        },
        "cca77ab04c3e4aeba35efb39119840b1": {
          "model_module": "@jupyter-widgets/base",
          "model_name": "LayoutModel",
          "state": {
            "_view_name": "LayoutView",
            "grid_template_rows": null,
            "right": null,
            "justify_content": null,
            "_view_module": "@jupyter-widgets/base",
            "overflow": null,
            "_model_module_version": "1.2.0",
            "_view_count": null,
            "flex_flow": null,
            "width": null,
            "min_width": null,
            "border": null,
            "align_items": null,
            "bottom": null,
            "_model_module": "@jupyter-widgets/base",
            "top": null,
            "grid_column": null,
            "overflow_y": null,
            "overflow_x": null,
            "grid_auto_flow": null,
            "grid_area": null,
            "grid_template_columns": null,
            "flex": null,
            "_model_name": "LayoutModel",
            "justify_items": null,
            "grid_row": null,
            "max_height": null,
            "align_content": null,
            "visibility": null,
            "align_self": null,
            "height": null,
            "min_height": null,
            "padding": null,
            "grid_auto_rows": null,
            "grid_gap": null,
            "max_width": null,
            "order": null,
            "_view_module_version": "1.2.0",
            "grid_template_areas": null,
            "object_position": null,
            "object_fit": null,
            "grid_auto_columns": null,
            "margin": null,
            "display": null,
            "left": null
          }
        },
        "c9f4d2ed8057472694e207c5a034c5b8": {
          "model_module": "@jupyter-widgets/controls",
          "model_name": "IntSliderModel",
          "state": {
            "_view_name": "IntSliderView",
            "style": "IPY_MODEL_0d210fb23cdb4790a5dabba5659ef61d",
            "_dom_classes": [],
            "description": "x",
            "step": 1,
            "_model_name": "IntSliderModel",
            "orientation": "horizontal",
            "max": 99,
            "_view_module": "@jupyter-widgets/controls",
            "_model_module_version": "1.5.0",
            "value": 34,
            "_view_count": null,
            "disabled": false,
            "_view_module_version": "1.5.0",
            "min": -100,
            "continuous_update": true,
            "readout_format": "d",
            "description_tooltip": null,
            "readout": true,
            "_model_module": "@jupyter-widgets/controls",
            "layout": "IPY_MODEL_99a2bcdc55b24abfa2e1f6523c1a9719"
          }
        },
        "cbe9574c833748638ebeef0b4edcff42": {
          "model_module": "@jupyter-widgets/output",
          "model_name": "OutputModel",
          "state": {
            "_view_name": "OutputView",
            "msg_id": "",
            "_dom_classes": [],
            "_model_name": "OutputModel",
            "outputs": [
              {
                "output_type": "display_data",
                "metadata": {
                  "tags": [],
                  "needs_background": "light"
                },
                "image/png": "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\n",
                "text/plain": "<Figure size 432x288 with 1 Axes>"
              }
            ],
            "_view_module": "@jupyter-widgets/output",
            "_model_module_version": "1.0.0",
            "_view_count": null,
            "_view_module_version": "1.0.0",
            "layout": "IPY_MODEL_80d94489fbb04edda11d40148be28f03",
            "_model_module": "@jupyter-widgets/output"
          }
        },
        "0d210fb23cdb4790a5dabba5659ef61d": {
          "model_module": "@jupyter-widgets/controls",
          "model_name": "SliderStyleModel",
          "state": {
            "_view_name": "StyleView",
            "handle_color": null,
            "_model_name": "SliderStyleModel",
            "description_width": "",
            "_view_module": "@jupyter-widgets/base",
            "_model_module_version": "1.5.0",
            "_view_count": null,
            "_view_module_version": "1.2.0",
            "_model_module": "@jupyter-widgets/controls"
          }
        },
        "99a2bcdc55b24abfa2e1f6523c1a9719": {
          "model_module": "@jupyter-widgets/base",
          "model_name": "LayoutModel",
          "state": {
            "_view_name": "LayoutView",
            "grid_template_rows": null,
            "right": null,
            "justify_content": null,
            "_view_module": "@jupyter-widgets/base",
            "overflow": null,
            "_model_module_version": "1.2.0",
            "_view_count": null,
            "flex_flow": null,
            "width": null,
            "min_width": null,
            "border": null,
            "align_items": null,
            "bottom": null,
            "_model_module": "@jupyter-widgets/base",
            "top": null,
            "grid_column": null,
            "overflow_y": null,
            "overflow_x": null,
            "grid_auto_flow": null,
            "grid_area": null,
            "grid_template_columns": null,
            "flex": null,
            "_model_name": "LayoutModel",
            "justify_items": null,
            "grid_row": null,
            "max_height": null,
            "align_content": null,
            "visibility": null,
            "align_self": null,
            "height": null,
            "min_height": null,
            "padding": null,
            "grid_auto_rows": null,
            "grid_gap": null,
            "max_width": null,
            "order": null,
            "_view_module_version": "1.2.0",
            "grid_template_areas": null,
            "object_position": null,
            "object_fit": null,
            "grid_auto_columns": null,
            "margin": null,
            "display": null,
            "left": null
          }
        },
        "80d94489fbb04edda11d40148be28f03": {
          "model_module": "@jupyter-widgets/base",
          "model_name": "LayoutModel",
          "state": {
            "_view_name": "LayoutView",
            "grid_template_rows": null,
            "right": null,
            "justify_content": null,
            "_view_module": "@jupyter-widgets/base",
            "overflow": null,
            "_model_module_version": "1.2.0",
            "_view_count": null,
            "flex_flow": null,
            "width": null,
            "min_width": null,
            "border": null,
            "align_items": null,
            "bottom": null,
            "_model_module": "@jupyter-widgets/base",
            "top": null,
            "grid_column": null,
            "overflow_y": null,
            "overflow_x": null,
            "grid_auto_flow": null,
            "grid_area": null,
            "grid_template_columns": null,
            "flex": null,
            "_model_name": "LayoutModel",
            "justify_items": null,
            "grid_row": null,
            "max_height": null,
            "align_content": null,
            "visibility": null,
            "align_self": null,
            "height": null,
            "min_height": null,
            "padding": null,
            "grid_auto_rows": null,
            "grid_gap": null,
            "max_width": null,
            "order": null,
            "_view_module_version": "1.2.0",
            "grid_template_areas": null,
            "object_position": null,
            "object_fit": null,
            "grid_auto_columns": null,
            "margin": null,
            "display": null,
            "left": null
          }
        },
        "2d04fba7010b41fa9548df36cac5a112": {
          "model_module": "@jupyter-widgets/controls",
          "model_name": "VBoxModel",
          "state": {
            "_view_name": "VBoxView",
            "_dom_classes": [
              "widget-interact"
            ],
            "_model_name": "VBoxModel",
            "_view_module": "@jupyter-widgets/controls",
            "_model_module_version": "1.5.0",
            "_view_count": null,
            "_view_module_version": "1.5.0",
            "box_style": "",
            "layout": "IPY_MODEL_aa58236525c546d3a756b0d4e33c913c",
            "_model_module": "@jupyter-widgets/controls",
            "children": [
              "IPY_MODEL_44d5493457a24c8ba29b39ebcc5bc7b4",
              "IPY_MODEL_6ec53d6c055e41bba7f15f8d7803ce85"
            ]
          }
        },
        "aa58236525c546d3a756b0d4e33c913c": {
          "model_module": "@jupyter-widgets/base",
          "model_name": "LayoutModel",
          "state": {
            "_view_name": "LayoutView",
            "grid_template_rows": null,
            "right": null,
            "justify_content": null,
            "_view_module": "@jupyter-widgets/base",
            "overflow": null,
            "_model_module_version": "1.2.0",
            "_view_count": null,
            "flex_flow": null,
            "width": null,
            "min_width": null,
            "border": null,
            "align_items": null,
            "bottom": null,
            "_model_module": "@jupyter-widgets/base",
            "top": null,
            "grid_column": null,
            "overflow_y": null,
            "overflow_x": null,
            "grid_auto_flow": null,
            "grid_area": null,
            "grid_template_columns": null,
            "flex": null,
            "_model_name": "LayoutModel",
            "justify_items": null,
            "grid_row": null,
            "max_height": null,
            "align_content": null,
            "visibility": null,
            "align_self": null,
            "height": null,
            "min_height": null,
            "padding": null,
            "grid_auto_rows": null,
            "grid_gap": null,
            "max_width": null,
            "order": null,
            "_view_module_version": "1.2.0",
            "grid_template_areas": null,
            "object_position": null,
            "object_fit": null,
            "grid_auto_columns": null,
            "margin": null,
            "display": null,
            "left": null
          }
        },
        "44d5493457a24c8ba29b39ebcc5bc7b4": {
          "model_module": "@jupyter-widgets/controls",
          "model_name": "IntSliderModel",
          "state": {
            "_view_name": "IntSliderView",
            "style": "IPY_MODEL_fb4196d122fe47caae276f90757fcd5f",
            "_dom_classes": [],
            "description": "x",
            "step": 1,
            "_model_name": "IntSliderModel",
            "orientation": "horizontal",
            "max": 99,
            "_view_module": "@jupyter-widgets/controls",
            "_model_module_version": "1.5.0",
            "value": 25,
            "_view_count": null,
            "disabled": false,
            "_view_module_version": "1.5.0",
            "min": -100,
            "continuous_update": true,
            "readout_format": "d",
            "description_tooltip": null,
            "readout": true,
            "_model_module": "@jupyter-widgets/controls",
            "layout": "IPY_MODEL_5dddf1fbf08d478da07a40980fab7cf8"
          }
        },
        "6ec53d6c055e41bba7f15f8d7803ce85": {
          "model_module": "@jupyter-widgets/output",
          "model_name": "OutputModel",
          "state": {
            "_view_name": "OutputView",
            "msg_id": "",
            "_dom_classes": [],
            "_model_name": "OutputModel",
            "outputs": [
              {
                "output_type": "display_data",
                "metadata": {
                  "tags": [],
                  "needs_background": "light"
                },
                "image/png": "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\n",
                "text/plain": "<Figure size 432x288 with 1 Axes>"
              }
            ],
            "_view_module": "@jupyter-widgets/output",
            "_model_module_version": "1.0.0",
            "_view_count": null,
            "_view_module_version": "1.0.0",
            "layout": "IPY_MODEL_d68c8e8f5a37459bb348a8e9de6e38ea",
            "_model_module": "@jupyter-widgets/output"
          }
        },
        "fb4196d122fe47caae276f90757fcd5f": {
          "model_module": "@jupyter-widgets/controls",
          "model_name": "SliderStyleModel",
          "state": {
            "_view_name": "StyleView",
            "handle_color": null,
            "_model_name": "SliderStyleModel",
            "description_width": "",
            "_view_module": "@jupyter-widgets/base",
            "_model_module_version": "1.5.0",
            "_view_count": null,
            "_view_module_version": "1.2.0",
            "_model_module": "@jupyter-widgets/controls"
          }
        },
        "5dddf1fbf08d478da07a40980fab7cf8": {
          "model_module": "@jupyter-widgets/base",
          "model_name": "LayoutModel",
          "state": {
            "_view_name": "LayoutView",
            "grid_template_rows": null,
            "right": null,
            "justify_content": null,
            "_view_module": "@jupyter-widgets/base",
            "overflow": null,
            "_model_module_version": "1.2.0",
            "_view_count": null,
            "flex_flow": null,
            "width": null,
            "min_width": null,
            "border": null,
            "align_items": null,
            "bottom": null,
            "_model_module": "@jupyter-widgets/base",
            "top": null,
            "grid_column": null,
            "overflow_y": null,
            "overflow_x": null,
            "grid_auto_flow": null,
            "grid_area": null,
            "grid_template_columns": null,
            "flex": null,
            "_model_name": "LayoutModel",
            "justify_items": null,
            "grid_row": null,
            "max_height": null,
            "align_content": null,
            "visibility": null,
            "align_self": null,
            "height": null,
            "min_height": null,
            "padding": null,
            "grid_auto_rows": null,
            "grid_gap": null,
            "max_width": null,
            "order": null,
            "_view_module_version": "1.2.0",
            "grid_template_areas": null,
            "object_position": null,
            "object_fit": null,
            "grid_auto_columns": null,
            "margin": null,
            "display": null,
            "left": null
          }
        },
        "d68c8e8f5a37459bb348a8e9de6e38ea": {
          "model_module": "@jupyter-widgets/base",
          "model_name": "LayoutModel",
          "state": {
            "_view_name": "LayoutView",
            "grid_template_rows": null,
            "right": null,
            "justify_content": null,
            "_view_module": "@jupyter-widgets/base",
            "overflow": null,
            "_model_module_version": "1.2.0",
            "_view_count": null,
            "flex_flow": null,
            "width": null,
            "min_width": null,
            "border": null,
            "align_items": null,
            "bottom": null,
            "_model_module": "@jupyter-widgets/base",
            "top": null,
            "grid_column": null,
            "overflow_y": null,
            "overflow_x": null,
            "grid_auto_flow": null,
            "grid_area": null,
            "grid_template_columns": null,
            "flex": null,
            "_model_name": "LayoutModel",
            "justify_items": null,
            "grid_row": null,
            "max_height": null,
            "align_content": null,
            "visibility": null,
            "align_self": null,
            "height": null,
            "min_height": null,
            "padding": null,
            "grid_auto_rows": null,
            "grid_gap": null,
            "max_width": null,
            "order": null,
            "_view_module_version": "1.2.0",
            "grid_template_areas": null,
            "object_position": null,
            "object_fit": null,
            "grid_auto_columns": null,
            "margin": null,
            "display": null,
            "left": null
          }
        }
      }
    }
  },
  "cells": [
    {
      "cell_type": "markdown",
      "metadata": {
        "id": "9XF-TuNgXuA0"
      },
      "source": [
        "# Fourier methods for solvinge PDEs\r\n",
        "In the problem set you looked the diffusion advection equation and how thios can be solved by Fourier methods. You solved this for an initial condition of a point source of dye.\r\n",
        "\r\n",
        "In the second part you looked at generalising this method and found that for a general initial condition the evolution can be expressed through convolutions. This workbook allows you to investigate some standard example numerically."
      ]
    },
    {
      "cell_type": "markdown",
      "metadata": {
        "id": "rsPKEaz7-ABt"
      },
      "source": [
        "## Initialisation code\r\n",
        "\r\n",
        "These few cells produce some functions for finding (to a good approximation) the various functions that we're interested in.  You don't need to understand the details of how any of this works, but feel free to ask.\r\n",
        "\r\n",
        "**You need to run all the cells in this section for anything to work.**"
      ]
    },
    {
      "cell_type": "code",
      "metadata": {
        "id": "f3fHrzs7-JGn"
      },
      "source": [
        "%matplotlib inline\r\n",
        "from matplotlib import pyplot\r\n",
        "import matplotlib\r\n",
        "import scipy.signal\r\n",
        "import numpy as np\r\n",
        "import ipywidgets"
      ],
      "execution_count": 1,
      "outputs": []
    },
    {
      "cell_type": "markdown",
      "metadata": {
        "id": "5Z3jdTNpEv2C"
      },
      "source": [
        "### Initial conditions"
      ]
    },
    {
      "cell_type": "code",
      "metadata": {
        "id": "ve5VqHWY_Ldp"
      },
      "source": [
        "def top_hat(x, width, amplitude = 1, centre = 0):\r\n",
        "  r\"\"\"\r\n",
        "    Generate a top hat function \r\n",
        "    \"\"\"\r\n",
        "  th = np.zeros(x.shape)\r\n",
        "  th[(x >= centre - width/2) & (x < centre + width/2)] = amplitude\r\n",
        "  return th\r\n",
        "\r\n",
        "def top_hat2D(x, y, width_x, width_y, centre = 0, amplitude = 1):\r\n",
        "  return top_hat(x, width_x, amplitude, centre) * top_hat(y, width_y, amplitude, centre)\r\n",
        "\r\n",
        "def approximateDiracDelta(x, amplitude = 1, centre = 0):\r\n",
        "  r\"\"\"\r\n",
        "    Generate a narrow top hat to approximate a delta\r\n",
        "    \"\"\"\r\n",
        "  return top_hat(x, 1, amplitude, centre)\r\n",
        "\r\n",
        "def approximateDiracDelta2D(x, y, amplitude = 1, centre = 0):\r\n",
        "  r\"\"\"\r\n",
        "    Generate a narrow top hat to approximate a delta\r\n",
        "    \"\"\"\r\n",
        "  return top_hat2D(x, y, 1, 1, centre, amplitude)\r\n",
        "\r\n",
        "def gauss_function(x, a, x0, sigma):\r\n",
        "  r\"\"\"\r\n",
        "    Generate a narrow top hat to approximate a delta\r\n",
        "    \"\"\"\r\n",
        "  return a / (np.sqrt(2 * np.pi) * sigma) * np.exp(-(x-x0)**2/(2*sigma**2))\r\n",
        "\r\n",
        "def gauss_function2D(x,y,a,x0,y0,sigma_x, sigma_y):\r\n",
        "  z = (1/(2*np.pi*sigma_x*sigma_y) * np.exp(-((x-x0)**2/(2*sigma_x**2)\r\n",
        "     + (y-y0)**2/(2*sigma_y**2))))\r\n",
        "  return z\r\n"
      ],
      "execution_count": 2,
      "outputs": []
    },
    {
      "cell_type": "markdown",
      "metadata": {
        "id": "5MHMIM4oE2kO"
      },
      "source": [
        "### Diffusion equations"
      ]
    },
    {
      "cell_type": "code",
      "metadata": {
        "id": "mlo2LJ2UAOiN"
      },
      "source": [
        "def diffusion1D(x, D, t = 0, x0 = 0, a = 1):\r\n",
        "  r'''\r\n",
        "  returns a Gaussian this is to be convolved with the initial condition\r\n",
        "  '''\r\n",
        "  #if t == 0: # treat time point one as a delta\r\n",
        "  #  g = approximateDiracDelta(x)\r\n",
        "  #else:\r\n",
        "  sigma = np.sqrt(2 * D * t)\r\n",
        "  g = gauss_function(x, a, x0, sigma)\r\n",
        "  return g\r\n",
        "\r\n",
        "def diffusion2D(x, y, Dx, Dy, t = 0, x0 = 0, y0= 0, a = 1):\r\n",
        "  r'''\r\n",
        "  returns a Gaussian this is to be convolved with the initial condition\r\n",
        "  '''\r\n",
        "  #if t == 0: # treat time point one as a delta\r\n",
        "  #  g = approximateDiracDelta2D(x, y, amplitude = 1, centre = 0)\r\n",
        "  #else:\r\n",
        "  sigma_x = np.sqrt(2 * Dx * t)\r\n",
        "  sigma_y = np.sqrt(2 * Dy * t)\r\n",
        "  g = gauss_function2D(x,y,a,x0,y0,sigma_x, sigma_y)\r\n",
        "  return g\r\n",
        "\r\n",
        "def getDiffusionAsFunctionOfTime(xs, ts, n0, g, D, c = 0):\r\n",
        "  gs = g(xs, D, ts, x0 = c * ts, a = 1)\r\n",
        "  diffusion = np.apply_along_axis(lambda m: np.convolve(m, n0, mode='same'), axis=1, arr=gs)\r\n",
        "  return diffusion\r\n",
        "\r\n"
      ],
      "execution_count": 3,
      "outputs": []
    },
    {
      "cell_type": "code",
      "metadata": {
        "id": "DEn-iwyIASXx"
      },
      "source": [
        "def diffusionplot(xs, n0, g, t, D = 10, x0 = 0):\r\n",
        "    r\"\"\"\r\n",
        "    Plot a function ``f`` and its Legendre-, Taylor- and Fourier-series\r\n",
        "    approximations of the given order on the interval ..math:`[-1, 1)`.\r\n",
        "    \"\"\"\r\n",
        "    cm = matplotlib.cm.viridis\r\n",
        "    _, axes = pyplot.subplots()\r\n",
        "    gs = g(xs, D, t, x0 = x0)  # np.array([for x in xs])\r\n",
        "    diffusion = np.convolve(gs, n0, mode = 'same')\r\n",
        "    axes.plot(xs, diffusion, label=\"n(x,t)\", linewidth=2)\r\n",
        "    axes.plot(xs, gs, label=\"g(x,t)\", linewidth=2, dashes=(5, 5))\r\n",
        "    axes.plot(xs, n0, label=\"n_0(x)\", linewidth=2, dashes=(5, 5))\r\n",
        "    axes.set_xlim((xs[0] - 0.03*(xs[-1]-xs[0]), xs[-1] + 0.03*(xs[-1]-xs[0])))\r\n",
        "    axes.set_xlabel('x')\r\n",
        "    axes.set_ylabel('n(x,t)')\r\n",
        "    mn, mx = np.min(n0), np.max(n0)\r\n",
        "    axes.legend()\r\n",
        "\r\n",
        "def diffusionplot2D(xs, ys, n0, g, t, Dx = 10, Dy = 1):\r\n",
        "  r\"\"\"\r\n",
        "  Plot a function ``f`` and its Legendre-, Taylor- and Fourier-series\r\n",
        "  approximations of the given order on the interval ..math:`[-1, 1)`.\r\n",
        "  \"\"\"\r\n",
        "  cm = matplotlib.cm.viridis\r\n",
        "  _, axes = pyplot.subplots(figsize = [10,10])\r\n",
        "  gs = g(xs, ys, Dx, Dy, t)  # np.array([for x in xs])\r\n",
        "  diffusion = scipy.signal.convolve2d(gs, n0, mode = 'same')\r\n",
        "  axes.contourf(xs, ys, diffusion, cmap='Blues')\r\n",
        "\r\n",
        "def diffusionPlotTime(x,xs,ts,diffusion):\r\n",
        "  _, axes = pyplot.subplots()\r\n",
        "  axes.plot(ts[xs==x], diffusion[xs==x])\r\n",
        "  mn, mx = np.min(diffusion), np.max(diffusion)\r\n",
        "  axes.set_ylim((mn - 0.1*(mx-mn), mx + 0.1*(mx-mn)))\r\n",
        "  axes.set_xlabel('t')\r\n",
        "  axes.set_ylabel('n(x,t)')"
      ],
      "execution_count": 13,
      "outputs": []
    },
    {
      "cell_type": "markdown",
      "metadata": {
        "id": "-64GW_vIfJRE"
      },
      "source": [
        "# Investigating diffusion with different initial conditions"
      ]
    },
    {
      "cell_type": "markdown",
      "metadata": {
        "id": "SUEMqd35fPHD"
      },
      "source": [
        "## Infinitely small point (delta function)"
      ]
    },
    {
      "cell_type": "code",
      "metadata": {
        "colab": {
          "base_uri": "https://localhost:8080/",
          "height": 311,
          "referenced_widgets": [
            "5f23230d02c8434ebd2c077a9cc756ff",
            "5e84671c5e494ecfadfe7846d98a938a",
            "8c34df2c18394806b0046e288dd49428",
            "c7af42fd9b414317856c955ccd444923",
            "a0d436b9737f4937ac7fd243343657c9",
            "0ce61b26fc724b3ea328aae44938a9fd",
            "c70aedf74b164315896d2bbc328e9923"
          ]
        },
        "id": "trEbNmCDQU1t",
        "outputId": "6fdbd4f3-2321-4e62-ac54-373004152880"
      },
      "source": [
        "x = np.linspace(-30, 30, 101)\r\n",
        "\r\n",
        "ipywidgets.interact(\r\n",
        "    lambda t: diffusionplot(x, approximateDiracDelta(x), diffusion1D, t, D = 0.1, x0 = 0),\r\n",
        "    t=(1, 50, 1),\r\n",
        ");"
      ],
      "execution_count": 5,
      "outputs": [
        {
          "output_type": "display_data",
          "data": {
            "application/vnd.jupyter.widget-view+json": {
              "model_id": "5f23230d02c8434ebd2c077a9cc756ff",
              "version_minor": 0,
              "version_major": 2
            },
            "text/plain": [
              "interactive(children=(IntSlider(value=25, description='t', max=50, min=1), Output()), _dom_classes=('widget-in…"
            ]
          },
          "metadata": {
            "tags": []
          }
        }
      ]
    },
    {
      "cell_type": "markdown",
      "metadata": {
        "id": "s1H5Ns-6faRe"
      },
      "source": [
        "## Top hat function"
      ]
    },
    {
      "cell_type": "code",
      "metadata": {
        "colab": {
          "base_uri": "https://localhost:8080/",
          "height": 311,
          "referenced_widgets": [
            "e7b4ce449317445d8a382ed68d5f133c",
            "3d41f03b8b474537afe0046bd11c391f",
            "62717aa4d220487c8d7270039b466a1b",
            "5972eda01762408b954b11e2a19472ca",
            "bf6979baf1c84e069081fb704a6f3b71",
            "d7eef542b66f4419b8f39dc877411085",
            "1e79e2f5ff5648818c27f6c676dd8134"
          ]
        },
        "id": "G2iyPAuPJW4j",
        "outputId": "ab37dc20-4b6a-4519-bc12-98ec4a3b38c3"
      },
      "source": [
        "x = np.linspace(-50, 50, 101)\r\n",
        "\r\n",
        "ipywidgets.interact(\r\n",
        "    lambda t: diffusionplot(x, top_hat(x, 10, 1), diffusion1D, t, D = 0.1),\r\n",
        "    t=(1, 50, 1),\r\n",
        ");"
      ],
      "execution_count": 6,
      "outputs": [
        {
          "output_type": "display_data",
          "data": {
            "application/vnd.jupyter.widget-view+json": {
              "model_id": "e7b4ce449317445d8a382ed68d5f133c",
              "version_minor": 0,
              "version_major": 2
            },
            "text/plain": [
              "interactive(children=(IntSlider(value=25, description='t', max=50, min=1), Output()), _dom_classes=('widget-in…"
            ]
          },
          "metadata": {
            "tags": []
          }
        }
      ]
    },
    {
      "cell_type": "markdown",
      "metadata": {
        "id": "wZxCKK1-ffkj"
      },
      "source": [
        "## Two points next to one another\r\n",
        "Consider two infinitely small ink drops in water seperated by distance r. If the ink diffusesd with constant D consider the time at which the two ink drops become indistiguishable.\r\n",
        "\r\n",
        "**Note:** There are a range of definitions on when two neighbouring Gaussians become indistinguishable. For simplicity consider two Gaussians (of amplitude A) to be seperate when the sum of the two Gaussians at x = 0 is 80 % of the peak amplitude. "
      ]
    },
    {
      "cell_type": "code",
      "metadata": {
        "colab": {
          "base_uri": "https://localhost:8080/",
          "height": 311,
          "referenced_widgets": [
            "51c3c2386db44affa12e37e917aa6387",
            "f7539a9bb3f14fa5bc7aa6b25040225f",
            "9c9b83b07a9643429510b4a319e24d23",
            "bf3fc385f003455aa23e53f2c2b3d556",
            "95cc00722c3c4966b9951b9bd5fe6fa6",
            "0d53be60ff3a40a2bb506eb0892fed03",
            "1bc0572068ad482fbce032b948efe65e"
          ]
        },
        "id": "Pz_EzazIQVh1",
        "outputId": "a15feab4-fccc-4478-a73b-15fcd284e5b1"
      },
      "source": [
        "x = np.linspace(-30, 30, 101)\r\n",
        "\r\n",
        "ipywidgets.interact(\r\n",
        "    lambda t: diffusionplot(x, approximateDiracDelta(x, centre = -5) + approximateDiracDelta(x, centre = 5, amplitude = 1), diffusion1D, t, D = 0.1),\r\n",
        "    t=(1, 100, 1),\r\n",
        ");"
      ],
      "execution_count": 7,
      "outputs": [
        {
          "output_type": "display_data",
          "data": {
            "application/vnd.jupyter.widget-view+json": {
              "model_id": "51c3c2386db44affa12e37e917aa6387",
              "version_minor": 0,
              "version_major": 2
            },
            "text/plain": [
              "interactive(children=(IntSlider(value=50, description='t', min=1), Output()), _dom_classes=('widget-interact',…"
            ]
          },
          "metadata": {
            "tags": []
          }
        }
      ]
    },
    {
      "cell_type": "markdown",
      "metadata": {
        "id": "1amlMrECuB83"
      },
      "source": [
        "# Diffusion in 2D with different coefficients"
      ]
    },
    {
      "cell_type": "code",
      "metadata": {
        "colab": {
          "base_uri": "https://localhost:8080/",
          "height": 624,
          "referenced_widgets": [
            "b5c9d28e9f40431780262e2c40279b6b",
            "642cd49f2db64043a5105e0210777a48",
            "b2092077d2fc402cb3bfb0c9464a99d6",
            "f8e2040c5c874415977c94ed7f6b4362",
            "91c370c01339430dacce9cc43629f135",
            "0ca04c6546dc4ccf9456dcb407ac6255",
            "ab26c20ec28340d4a421d992c4955dc7"
          ]
        },
        "id": "OOYEtjt9oeQH",
        "outputId": "0e68cb26-c267-4177-bba4-2a73a56e47da"
      },
      "source": [
        "size = 101\r\n",
        "x2D = np.linspace(-50, 50, size)\r\n",
        "y2D = np.linspace(-50, 50, size)\r\n",
        "x2D, y2D = np.meshgrid(x2D, y2D)\r\n",
        "\r\n",
        "width_x = 10\r\n",
        "width_y = 1\r\n",
        "\r\n",
        "D_x = 2\r\n",
        "D_y = 5\r\n",
        "\r\n",
        "ipywidgets.interact(\r\n",
        "    lambda t: diffusionplot2D(x2D,y2D, top_hat2D(x2D, y2D, width_x, width_y), diffusion2D, t, D_x, D_y),\r\n",
        "    t=(1, 50, 1),\r\n",
        ");"
      ],
      "execution_count": 8,
      "outputs": [
        {
          "output_type": "display_data",
          "data": {
            "application/vnd.jupyter.widget-view+json": {
              "model_id": "b5c9d28e9f40431780262e2c40279b6b",
              "version_minor": 0,
              "version_major": 2
            },
            "text/plain": [
              "interactive(children=(IntSlider(value=25, description='t', max=50, min=1), Output()), _dom_classes=('widget-in…"
            ]
          },
          "metadata": {
            "tags": []
          }
        }
      ]
    },
    {
      "cell_type": "markdown",
      "metadata": {
        "id": "QNKQPjWYNRkL"
      },
      "source": [
        "# Diffusion advection\r\n",
        "The above methods can be applied in the diffusion advection problem from the problem sheet. Below are examples of n(x,t)  "
      ]
    },
    {
      "cell_type": "markdown",
      "metadata": {
        "id": "6WtUVTETDGTm"
      },
      "source": [
        "## Spatial profile at different times\r\n",
        "### Diffusion from a point"
      ]
    },
    {
      "cell_type": "code",
      "metadata": {
        "colab": {
          "base_uri": "https://localhost:8080/",
          "height": 311,
          "referenced_widgets": [
            "db8b15ca2b0a416a853d03f74210057c",
            "7a44fa92822344429a476de80ee70df6",
            "15f84dbc4fd64374af536525372b8800",
            "c47bc15763bf4a4a9f6def39f782b7b7",
            "898c7c2111c74636a28fa15439712935",
            "81c922f034d640b2b4765680ad7adbdf",
            "654527f485a84c2b884eb5376f5eab9e"
          ]
        },
        "id": "ykB8Iy9HN5gg",
        "outputId": "f3290587-84d1-4b28-89f7-6a6b30b78784"
      },
      "source": [
        "xtime = np.linspace(-30, 30, 101)\r\n",
        "c = 0.2\r\n",
        "\r\n",
        "ipywidgets.interact(\r\n",
        "    lambda t: diffusionplot(xtime, approximateDiracDelta(xtime), diffusion1D, t, D = 0.1, x0 = c * t),\r\n",
        "    t=(0, 50, 1),\r\n",
        ");"
      ],
      "execution_count": 9,
      "outputs": [
        {
          "output_type": "display_data",
          "data": {
            "application/vnd.jupyter.widget-view+json": {
              "model_id": "db8b15ca2b0a416a853d03f74210057c",
              "version_minor": 0,
              "version_major": 2
            },
            "text/plain": [
              "interactive(children=(IntSlider(value=25, description='t', max=50), Output()), _dom_classes=('widget-interact'…"
            ]
          },
          "metadata": {
            "tags": []
          }
        }
      ]
    },
    {
      "cell_type": "markdown",
      "metadata": {
        "id": "guBr7xxyDXhe"
      },
      "source": [
        "## Temporal profile at different positions\r\n",
        "### Diffusion from a point"
      ]
    },
    {
      "cell_type": "code",
      "metadata": {
        "colab": {
          "base_uri": "https://localhost:8080/",
          "height": 311,
          "referenced_widgets": [
            "c99c1da541ac4c8ea86f17750cdec16f",
            "cca77ab04c3e4aeba35efb39119840b1",
            "c9f4d2ed8057472694e207c5a034c5b8",
            "cbe9574c833748638ebeef0b4edcff42",
            "0d210fb23cdb4790a5dabba5659ef61d",
            "99a2bcdc55b24abfa2e1f6523c1a9719",
            "80d94489fbb04edda11d40148be28f03"
          ]
        },
        "id": "6--mHWIODiEi",
        "outputId": "3ee6c881-e63e-4ceb-fb1a-eff264f82cbe"
      },
      "source": [
        "width = 10\r\n",
        "size = 300\r\n",
        "D = 1\r\n",
        "c = 0.5\r\n",
        "\r\n",
        "xs = np.arange(-100, 100)\r\n",
        "n0 = approximateDiracDelta(xs)\r\n",
        "ts = np.arange(1, 201)\r\n",
        "xs, ts = np.meshgrid(xs, ts)\r\n",
        "diffusionDD = getDiffusionAsFunctionOfTime(xs, ts, n0, diffusion1D, D, c)\r\n",
        "\r\n",
        "\r\n",
        "ipywidgets.interact(\r\n",
        "    lambda x: diffusionPlotTime(x,xs,ts,diffusionDD),\r\n",
        "    x=(np.min(xs), np.max(xs), 1),\r\n",
        ");"
      ],
      "execution_count": 14,
      "outputs": [
        {
          "output_type": "display_data",
          "data": {
            "application/vnd.jupyter.widget-view+json": {
              "model_id": "c99c1da541ac4c8ea86f17750cdec16f",
              "version_minor": 0,
              "version_major": 2
            },
            "text/plain": [
              "interactive(children=(IntSlider(value=-1, description='x', max=99, min=-100), Output()), _dom_classes=('widget…"
            ]
          },
          "metadata": {
            "tags": []
          }
        }
      ]
    },
    {
      "cell_type": "markdown",
      "metadata": {
        "id": "L9YjPRwADiT3"
      },
      "source": [
        "### Diffusion from a top hat"
      ]
    },
    {
      "cell_type": "code",
      "metadata": {
        "id": "VrNxxUpxdk5-",
        "colab": {
          "base_uri": "https://localhost:8080/",
          "height": 614
        },
        "outputId": "3c6c2d37-49ec-4771-f979-402d25a703fe"
      },
      "source": [
        "width = 10\r\n",
        "size = 300\r\n",
        "D = 0.5\r\n",
        "c = 0.5\r\n",
        "\r\n",
        "xs = np.arange(-100, 100)\r\n",
        "n0 = top_hat(xs, width, amplitude = 1, centre = -10) +  top_hat(xs, width, amplitude = 1, centre = +10)\r\n",
        "ts = np.arange(1, 201)\r\n",
        "xs, ts = np.meshgrid(xs, ts)\r\n",
        "diffusionTH = getDiffusionAsFunctionOfTime(xs, ts, n0, diffusion1D, D, c)\r\n",
        "\r\n",
        "\r\n",
        "_, axes = pyplot.subplots(figsize = [10,10])\r\n",
        "axes.contourf(xs, ts, diffusionTH, cmap='Blues')\r\n"
      ],
      "execution_count": 11,
      "outputs": [
        {
          "output_type": "execute_result",
          "data": {
            "text/plain": [
              "<matplotlib.contour.QuadContourSet at 0x7fa0407df198>"
            ]
          },
          "metadata": {
            "tags": []
          },
          "execution_count": 11
        },
        {
          "output_type": "display_data",
          "data": {
            "image/png": "[encoded data removed]",
            "text/plain": [
              "<Figure size 720x720 with 1 Axes>"
            ]
          },
          "metadata": {
            "tags": [],
            "needs_background": "light"
          }
        }
      ]
    },
    {
      "cell_type": "code",
      "metadata": {
        "id": "BOywoPjwnxbx",
        "outputId": "681ba499-2249-4f62-bf51-3245f6fd8c79",
        "colab": {
          "base_uri": "https://localhost:8080/",
          "height": 297,
          "referenced_widgets": [
            "2d04fba7010b41fa9548df36cac5a112",
            "aa58236525c546d3a756b0d4e33c913c",
            "44d5493457a24c8ba29b39ebcc5bc7b4",
            "6ec53d6c055e41bba7f15f8d7803ce85",
            "fb4196d122fe47caae276f90757fcd5f",
            "5dddf1fbf08d478da07a40980fab7cf8",
            "d68c8e8f5a37459bb348a8e9de6e38ea"
          ]
        }
      },
      "source": [
        "ipywidgets.interact(\r\n",
        "    lambda x: diffusionPlotTime(x,xs,ts,diffusionTH),\r\n",
        "    x=(np.min(xs), np.max(xs), 1),\r\n",
        ");"
      ],
      "execution_count": 12,
      "outputs": [
        {
          "output_type": "display_data",
          "data": {
            "application/vnd.jupyter.widget-view+json": {
              "model_id": "2d04fba7010b41fa9548df36cac5a112",
              "version_minor": 0,
              "version_major": 2
            },
            "text/plain": [
              "interactive(children=(IntSlider(value=-1, description='x', max=99, min=-100), Output()), _dom_classes=('widget…"
            ]
          },
          "metadata": {
            "tags": []
          }
        }
      ]
    }
  ]
}