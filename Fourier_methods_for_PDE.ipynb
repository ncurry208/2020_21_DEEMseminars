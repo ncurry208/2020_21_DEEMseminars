{
 "cells": [
  {
   "cell_type": "markdown",
   "metadata": {
    "id": "9XF-TuNgXuA0"
   },
   "source": [
    "# Fourier methods for solvinge PDEs\r\n",
    "In the problem set you looked the diffusion advection equation and how this can be solved by Fourier methods. You solved this for an initial condition of a point source of dye.\r\n",
    "\r\n",
    "In the second part you looked at generalising this method and found that for a general initial condition the evolution can be expressed through convolutions. This workbook allows you to investigate some standard example numerically."
   ]
  },
  {
   "cell_type": "markdown",
   "metadata": {
    "id": "rsPKEaz7-ABt"
   },
   "source": [
    "## Initialisation code\r\n",
    "\r\n",
    "These few cells produce some functions for finding (to a good approximation) the various functions that we're interested in.  You don't need to understand the details of how any of this works, but feel free to ask.\r\n",
    "\r\n",
    "**You need to run all the cells in this section for anything to work.**"
   ]
  },
  {
   "cell_type": "code",
   "execution_count": 1,
   "metadata": {
    "id": "f3fHrzs7-JGn"
   },
   "outputs": [],
   "source": [
    "%matplotlib inline\r\n",
    "from matplotlib import pyplot\r\n",
    "import matplotlib\r\n",
    "import scipy.signal\r\n",
    "import numpy as np\r\n",
    "import ipywidgets"
   ]
  },
  {
   "cell_type": "markdown",
   "metadata": {
    "id": "5Z3jdTNpEv2C"
   },
   "source": [
    "### Initial conditions"
   ]
  },
  {
   "cell_type": "code",
   "execution_count": 2,
   "metadata": {
    "id": "ve5VqHWY_Ldp"
   },
   "outputs": [],
   "source": [
    "def top_hat(x, width, amplitude = 1, centre = 0):\r\n",
    "  r\"\"\"\r\n",
    "    Generate a top hat function \r\n",
    "    \"\"\"\r\n",
    "  th = np.zeros(x.shape)\r\n",
    "  th[(x >= centre - width/2) & (x < centre + width/2)] = amplitude\r\n",
    "  return th\r\n",
    "\r\n",
    "def top_hat2D(x, y, width_x, width_y, centre = 0, amplitude = 1):\r\n",
    "  return top_hat(x, width_x, amplitude, centre) * top_hat(y, width_y, amplitude, centre)\r\n",
    "\r\n",
    "def approximateDiracDelta(x, amplitude = 1, centre = 0):\r\n",
    "  r\"\"\"\r\n",
    "    Generate a narrow top hat to approximate a delta\r\n",
    "    \"\"\"\r\n",
    "  return top_hat(x, 1, amplitude, centre)\r\n",
    "\r\n",
    "def approximateDiracDelta2D(x, y, amplitude = 1, centre = 0):\r\n",
    "  r\"\"\"\r\n",
    "    Generate a narrow top hat to approximate a delta\r\n",
    "    \"\"\"\r\n",
    "  return top_hat2D(x, y, 1, 1, centre, amplitude)\r\n",
    "\r\n",
    "def gauss_function(x, a, x0, sigma):\r\n",
    "  r\"\"\"\r\n",
    "    Generate a narrow top hat to approximate a delta\r\n",
    "    \"\"\"\r\n",
    "  return a / (np.sqrt(2 * np.pi) * sigma) * np.exp(-(x-x0)**2/(2*sigma**2))\r\n",
    "\r\n",
    "def gauss_function2D(x,y,a,x0,y0,sigma_x, sigma_y):\r\n",
    "  z = (1/(2*np.pi*sigma_x*sigma_y) * np.exp(-((x-x0)**2/(2*sigma_x**2)\r\n",
    "     + (y-y0)**2/(2*sigma_y**2))))\r\n",
    "  return z\r\n"
   ]
  },
  {
   "cell_type": "markdown",
   "metadata": {
    "id": "5MHMIM4oE2kO"
   },
   "source": [
    "### Diffusion equations"
   ]
  },
  {
   "cell_type": "code",
   "execution_count": 3,
   "metadata": {
    "id": "mlo2LJ2UAOiN"
   },
   "outputs": [],
   "source": [
    "def diffusion1D(x, D, t = 0, x0 = 0, a = 1):\r\n",
    "  r'''\r\n",
    "  returns a Gaussian this is to be convolved with the initial condition\r\n",
    "  '''\r\n",
    "  #if t == 0: # treat time point one as a delta\r\n",
    "  #  g = approximateDiracDelta(x)\r\n",
    "  #else:\r\n",
    "  sigma = np.sqrt(2 * D * t)\r\n",
    "  g = gauss_function(x, a, x0, sigma)\r\n",
    "  return g\r\n",
    "\r\n",
    "def diffusion2D(x, y, Dx, Dy, t = 0, x0 = 0, y0= 0, a = 1):\r\n",
    "  r'''\r\n",
    "  returns a Gaussian this is to be convolved with the initial condition\r\n",
    "  '''\r\n",
    "  #if t == 0: # treat time point one as a delta\r\n",
    "  #  g = approximateDiracDelta2D(x, y, amplitude = 1, centre = 0)\r\n",
    "  #else:\r\n",
    "  sigma_x = np.sqrt(2 * Dx * t)\r\n",
    "  sigma_y = np.sqrt(2 * Dy * t)\r\n",
    "  g = gauss_function2D(x,y,a,x0,y0,sigma_x, sigma_y)\r\n",
    "  return g\r\n",
    "\r\n",
    "def getDiffusionAsFunctionOfTime(xs, ts, n0, g, D, c = 0):\r\n",
    "  gs = g(xs, D, ts, x0 = c * ts, a = 1)\r\n",
    "  diffusion = np.apply_along_axis(lambda m: np.convolve(m, n0, mode='same'), axis=1, arr=gs)\r\n",
    "  return diffusion\r\n",
    "\r\n"
   ]
  },
  {
   "cell_type": "code",
   "execution_count": 4,
   "metadata": {
    "id": "DEn-iwyIASXx"
   },
   "outputs": [],
   "source": [
    "def diffusionplot(xs, n0, g, t, D = 10, x0 = 0):\r\n",
    "    r\"\"\"\r\n",
    "    Plot a function ``f`` and its Legendre-, Taylor- and Fourier-series\r\n",
    "    approximations of the given order on the interval ..math:`[-1, 1)`.\r\n",
    "    \"\"\"\r\n",
    "    cm = matplotlib.cm.viridis\r\n",
    "    _, axes = pyplot.subplots()\r\n",
    "    gs = g(xs, D, t, x0 = x0)  # np.array([for x in xs])\r\n",
    "    diffusion = np.convolve(gs, n0, mode = 'same')\r\n",
    "    axes.plot(xs, diffusion, label=\"n(x,t)\", linewidth=2)\r\n",
    "    axes.plot(xs, gs, label=\"g(x,t)\", linewidth=2, dashes=(5, 5))\r\n",
    "    axes.plot(xs, n0, label=\"n_0(x)\", linewidth=2, dashes=(5, 5))\r\n",
    "    axes.set_xlim((xs[0] - 0.03*(xs[-1]-xs[0]), xs[-1] + 0.03*(xs[-1]-xs[0])))\r\n",
    "    axes.set_xlabel('x')\r\n",
    "    axes.set_ylabel('n(x,t)')\r\n",
    "    mn, mx = np.min(n0), np.max(n0)\r\n",
    "    axes.legend()\r\n",
    "\r\n",
    "def diffusionplot2D(xs, ys, n0, g, t, Dx = 10, Dy = 1, x0 = 0, y0= 0):\r\n",
    "  r\"\"\"\r\n",
    "  Plot a function ``f`` and its Legendre-, Taylor- and Fourier-series\r\n",
    "  approximations of the given order on the interval ..math:`[-1, 1)`.\r\n",
    "  \"\"\"\r\n",
    "  cm = matplotlib.cm.viridis\r\n",
    "  _, axes = pyplot.subplots(figsize = [10,10])\r\n",
    "  gs = g(xs, ys, Dx, Dy, t, x0 = x0, y0= y0)  # np.array([for x in xs])\r\n",
    "  diffusion = scipy.signal.convolve2d(gs, n0, mode = 'same')\r\n",
    "  axes.contourf(xs, ys, diffusion, cmap='Blues')\r\n",
    "  axes.set_xlabel('x')\r\n",
    "  axes.set_ylabel('y')\r\n",
    "\r\n",
    "def diffusionPlotTime(x,xs,ts,diffusion):\r\n",
    "  _, axes = pyplot.subplots()\r\n",
    "  axes.plot(ts[xs==x], diffusion[xs==x])\r\n",
    "  mn, mx = np.min(diffusion), np.max(diffusion)\r\n",
    "  axes.set_ylim((mn - 0.1*(mx-mn), mx + 0.1*(mx-mn)))\r\n",
    "  axes.set_xlabel('t')\r\n",
    "  axes.set_ylabel('n(x,t)')\r\n",
    "\r\n",
    "def diffusionPlotX(t,xs,ts,diffusion):\r\n",
    "  _, axes = pyplot.subplots()\r\n",
    "  axes.plot(xs[ts==t], diffusion[ts==t])\r\n",
    "  mn, mx = np.min(diffusion), np.max(diffusion)\r\n",
    "  axes.set_ylim((mn - 0.1*(mx-mn), mx + 0.1*(mx-mn)))\r\n",
    "  axes.set_xlabel('x')\r\n",
    "  axes.set_ylabel('n(x,t)')"
   ]
  },
  {
   "cell_type": "markdown",
   "metadata": {
    "id": "-64GW_vIfJRE"
   },
   "source": [
    "# Investigating diffusion with different initial conditions"
   ]
  },
  {
   "cell_type": "markdown",
   "metadata": {
    "id": "SUEMqd35fPHD"
   },
   "source": [
    "## Infinitely small point (delta function)"
   ]
  },
  {
   "cell_type": "code",
   "execution_count": 5,
   "metadata": {
    "colab": {
     "base_uri": "https://localhost:8080/",
     "height": 311,
     "referenced_widgets": [
      "41b85199285c401c9adbda95c4a296de",
      "4582eb7d9a7a45fb8af94c347003aa88",
      "0ff5d50803914a1b9e62272ea259bc1d",
      "94f100ee95804977b7ce3e6c4946af50",
      "fd155f02136647b9b8de0f53efc6d26c",
      "c5b5a1f5eb9c48a1a47eaa0c1fc9e478",
      "e902d9cb7ab644449fd41cdb74ce1bc7"
     ]
    },
    "id": "trEbNmCDQU1t",
    "outputId": "417a2954-79dc-431c-afc7-09cc47cec6e9"
   },
   "outputs": [
    {
     "data": {
      "application/vnd.jupyter.widget-view+json": {
       "model_id": "41b85199285c401c9adbda95c4a296de",
       "version_major": 2,
       "version_minor": 0
      },
      "text/plain": [
       "interactive(children=(IntSlider(value=1, description='t', max=50, min=1), Output()), _dom_classes=('widget-int…"
      ]
     },
     "metadata": {
      "tags": []
     },
     "output_type": "display_data"
    }
   ],
   "source": [
    "x = np.linspace(-30, 30, 101)\r\n",
    "\r\n",
    "ipywidgets.interact(\r\n",
    "    lambda t: diffusionplot(x, approximateDiracDelta(x), diffusion1D, t, D = 0.1, x0 = 0),\r\n",
    "    t=ipywidgets.IntSlider(min=1, max=50, step=1, value=0),\r\n",
    ");"
   ]
  },
  {
   "cell_type": "markdown",
   "metadata": {
    "id": "s1H5Ns-6faRe"
   },
   "source": [
    "## Top hat function"
   ]
  },
  {
   "cell_type": "code",
   "execution_count": 6,
   "metadata": {
    "colab": {
     "base_uri": "https://localhost:8080/",
     "height": 311,
     "referenced_widgets": [
      "198625db9cb24e4d83dd73bdbfdd4e18",
      "b5f3c478ad6b4894b037450c087008e7",
      "7812b762145d4595b59e3c8ad1208a69",
      "392cb1733ea741848488faa3136a1190",
      "09f3c87320154b7c9fac4cfba9ca1a56",
      "195689463dc24e299596411fe88f3fc0",
      "566f627b0f18430d8b43507346d8e2af"
     ]
    },
    "id": "G2iyPAuPJW4j",
    "outputId": "3a171d73-6e96-43ee-9ed6-547800d343e3"
   },
   "outputs": [
    {
     "data": {
      "application/vnd.jupyter.widget-view+json": {
       "model_id": "198625db9cb24e4d83dd73bdbfdd4e18",
       "version_major": 2,
       "version_minor": 0
      },
      "text/plain": [
       "interactive(children=(IntSlider(value=1, description='t', max=50, min=1), Output()), _dom_classes=('widget-int…"
      ]
     },
     "metadata": {
      "tags": []
     },
     "output_type": "display_data"
    }
   ],
   "source": [
    "x = np.linspace(-50, 50, 101)\r\n",
    "\r\n",
    "ipywidgets.interact(\r\n",
    "    lambda t: diffusionplot(x, top_hat(x, 10, 1), diffusion1D, t, D = 0.1),\r\n",
    "    t=ipywidgets.IntSlider(min=1, max=50, step=1, value=0),\r\n",
    ");"
   ]
  },
  {
   "cell_type": "markdown",
   "metadata": {
    "id": "wZxCKK1-ffkj"
   },
   "source": [
    "## Two points next to one another"
   ]
  },
  {
   "cell_type": "code",
   "execution_count": 7,
   "metadata": {
    "colab": {
     "base_uri": "https://localhost:8080/",
     "height": 904,
     "referenced_widgets": [
      "316c47c29c0a4e7bacec3c8813a6dc9c",
      "cf980740817f49dea51d71a659c8d2e3",
      "5057c4006e66496bb3fa444742a6f417",
      "317340c1ce7a46f48f6fa18788fc8045",
      "e212f8d558f94c1e9cb6e1262da35142",
      "b1d186537e064f888ed1b2073c85fe8b",
      "c766b24b7c6542dcbef3957932f6c1c2"
     ]
    },
    "id": "Pz_EzazIQVh1",
    "outputId": "6d4d0ea6-6067-4cba-8e89-2134c6fea0cd"
   },
   "outputs": [
    {
     "data": {
      "image/png": "[encoded data removed]",
      "text/plain": [
       "<Figure size 720x720 with 1 Axes>"
      ]
     },
     "metadata": {
      "needs_background": "light",
      "tags": []
     },
     "output_type": "display_data"
    },
    {
     "data": {
      "application/vnd.jupyter.widget-view+json": {
       "model_id": "316c47c29c0a4e7bacec3c8813a6dc9c",
       "version_major": 2,
       "version_minor": 0
      },
      "text/plain": [
       "interactive(children=(IntSlider(value=100, description='t', max=200, min=1), Output()), _dom_classes=('widget-…"
      ]
     },
     "metadata": {
      "tags": []
     },
     "output_type": "display_data"
    }
   ],
   "source": [
    "#x = np.linspace(-30, 30, 101)\r\n",
    "\r\n",
    "#ipywidgets.interact(\r\n",
    "#    lambda t: diffusionplot(x, approximateDiracDelta(x, centre = -5) + approximateDiracDelta(x, centre = 5, amplitude = 1), diffusion1D, t, D = 0.2),\r\n",
    "#    t=ipywidgets.IntSlider(min=1, max=50, step=1, value=0),\r\n",
    "#);\r\n",
    "\r\n",
    "width = 10\r\n",
    "size = 300\r\n",
    "D = 0.5\r\n",
    "c = 0.5\r\n",
    "\r\n",
    "xs = np.arange(-100, 100)\r\n",
    "n0 = approximateDiracDelta(x, centre = -5) + approximateDiracDelta(x, centre = 5, amplitude = 1)\r\n",
    "ts = np.arange(1, 201)\r\n",
    "xs, ts = np.meshgrid(xs, ts)\r\n",
    "diffusionTH = getDiffusionAsFunctionOfTime(xs, ts, n0, diffusion1D, D, c)\r\n",
    "\r\n",
    "\r\n",
    "_, axes = pyplot.subplots(figsize = [10,10])\r\n",
    "axes.contourf(xs, ts, diffusionTH, cmap='Blues')\r\n",
    "axes.set_xlabel('x')\r\n",
    "axes.set_ylabel('t')\r\n",
    "\r\n",
    "ipywidgets.interact(\r\n",
    "    lambda t: diffusionPlotX(t,xs,ts,diffusionTH),\r\n",
    "    t=(np.min(ts), np.max(ts), 1),\r\n",
    ");"
   ]
  },
  {
   "cell_type": "markdown",
   "metadata": {
    "id": "QNKQPjWYNRkL"
   },
   "source": [
    "# Diffusion advection\r\n",
    "The above methods can be applied in the diffusion advection problem from the problem sheet. Below are examples of n(x,t)  "
   ]
  },
  {
   "cell_type": "markdown",
   "metadata": {
    "id": "6WtUVTETDGTm"
   },
   "source": [
    "## Spatial profile at different times\r\n",
    "### Diffusion from a point"
   ]
  },
  {
   "cell_type": "code",
   "execution_count": 8,
   "metadata": {
    "colab": {
     "base_uri": "https://localhost:8080/",
     "height": 311,
     "referenced_widgets": [
      "529f7492e60d4d0aabde430cba2e8164",
      "082602d2f514444b927e376a67313de0",
      "d340c83516cb465d93323dbe51463bf8",
      "24c0fbe4a1fe4d49a3b5dfb1e5f6a671",
      "4985739dfa1344eba33f468115369dc6",
      "805713f9bf7c4a1882d3905cd59a7567",
      "48f86ef9fb024c73960a328309489faf"
     ]
    },
    "id": "ykB8Iy9HN5gg",
    "outputId": "764ae1e3-623c-4ae0-e4a5-ada2de02940c"
   },
   "outputs": [
    {
     "data": {
      "application/vnd.jupyter.widget-view+json": {
       "model_id": "529f7492e60d4d0aabde430cba2e8164",
       "version_major": 2,
       "version_minor": 0
      },
      "text/plain": [
       "interactive(children=(IntSlider(value=1, description='t', max=50, min=1), Output()), _dom_classes=('widget-int…"
      ]
     },
     "metadata": {
      "tags": []
     },
     "output_type": "display_data"
    }
   ],
   "source": [
    "xtime = np.linspace(-30, 30, 101)\r\n",
    "c = 0.2\r\n",
    "\r\n",
    "ipywidgets.interact(\r\n",
    "    lambda t: diffusionplot(xtime, approximateDiracDelta(xtime), diffusion1D, t, D = 0.1, x0 = c * t),\r\n",
    "    t=ipywidgets.IntSlider(min=1, max=50, step=1, value=0),\r\n",
    ");"
   ]
  },
  {
   "cell_type": "markdown",
   "metadata": {
    "id": "W9Fi5v6aMljE"
   },
   "source": [
    "# Other examples (not covered in the problem sheet)"
   ]
  },
  {
   "cell_type": "markdown",
   "metadata": {
    "id": "guBr7xxyDXhe"
   },
   "source": [
    "## Temporal profile at different positions\r\n",
    "In some cases it is more interesting to consider the diffusion through a particular point as a function of time. Below are some visualisations related to this.\r\n",
    "### Diffusion from a point"
   ]
  },
  {
   "cell_type": "code",
   "execution_count": 9,
   "metadata": {
    "colab": {
     "base_uri": "https://localhost:8080/",
     "height": 311,
     "referenced_widgets": [
      "2f90c023368c4b86b63ee618f5311905",
      "426f093da7e548538fb9aa942a48955e",
      "5ff9786fef4c476d81f23df16e3ae2ec",
      "962b6baaf37c4aa7b255bd1ab33f4477",
      "51aa17446bfb40529a403257d71df583",
      "8c81108955854f0fb3c1733cc5d3c185",
      "d915f6517d8e49c39c99030d99643abd"
     ]
    },
    "id": "6--mHWIODiEi",
    "outputId": "c00d790f-26a0-4e1a-c255-f318c5fc22cf"
   },
   "outputs": [
    {
     "data": {
      "application/vnd.jupyter.widget-view+json": {
       "model_id": "2f90c023368c4b86b63ee618f5311905",
       "version_major": 2,
       "version_minor": 0
      },
      "text/plain": [
       "interactive(children=(IntSlider(value=-1, description='x', max=99, min=-100), Output()), _dom_classes=('widget…"
      ]
     },
     "metadata": {
      "tags": []
     },
     "output_type": "display_data"
    }
   ],
   "source": [
    "width = 10\r\n",
    "size = 300\r\n",
    "D = 1\r\n",
    "c = 0.5\r\n",
    "\r\n",
    "xs = np.arange(-100, 100)\r\n",
    "n0 = approximateDiracDelta(xs)\r\n",
    "ts = np.arange(1, 201)\r\n",
    "xs, ts = np.meshgrid(xs, ts)\r\n",
    "diffusionDD = getDiffusionAsFunctionOfTime(xs, ts, n0, diffusion1D, D, c)\r\n",
    "\r\n",
    "\r\n",
    "ipywidgets.interact(\r\n",
    "    lambda x: diffusionPlotTime(x,xs,ts,diffusionDD),\r\n",
    "    x=(np.min(xs), np.max(xs), 1),\r\n",
    ");"
   ]
  },
  {
   "cell_type": "markdown",
   "metadata": {
    "id": "L9YjPRwADiT3"
   },
   "source": [
    "### Diffusion from neighbouring top hats"
   ]
  },
  {
   "cell_type": "code",
   "execution_count": 10,
   "metadata": {
    "colab": {
     "base_uri": "https://localhost:8080/",
     "height": 627
    },
    "id": "VrNxxUpxdk5-",
    "outputId": "68cb46af-433f-4a79-8442-4b0ec23f3ed3"
   },
   "outputs": [
    {
     "data": {
      "text/plain": [
       "Text(0, 0.5, 't')"
      ]
     },
     "execution_count": 10,
     "metadata": {
      "tags": []
     },
     "output_type": "execute_result"
    },
    {
     "data": {
      "image/png": "[encoded data removed]",
      "text/plain": [
       "<Figure size 720x720 with 1 Axes>"
      ]
     },
     "metadata": {
      "needs_background": "light",
      "tags": []
     },
     "output_type": "display_data"
    }
   ],
   "source": [
    "width = 10\r\n",
    "size = 300\r\n",
    "D = 0.5\r\n",
    "c = 0.5\r\n",
    "\r\n",
    "xs = np.arange(-100, 100)\r\n",
    "n0 = top_hat(xs, width, amplitude = 1, centre = -10) +  top_hat(xs, width, amplitude = 1, centre = +10)\r\n",
    "ts = np.arange(1, 201)\r\n",
    "xs, ts = np.meshgrid(xs, ts)\r\n",
    "diffusionTH = getDiffusionAsFunctionOfTime(xs, ts, n0, diffusion1D, D, c)\r\n",
    "\r\n",
    "\r\n",
    "_, axes = pyplot.subplots(figsize = [10,10])\r\n",
    "axes.contourf(xs, ts, diffusionTH, cmap='Blues')\r\n",
    "axes.set_xlabel('x')\r\n",
    "axes.set_ylabel('t')\r\n"
   ]
  },
  {
   "cell_type": "code",
   "execution_count": 11,
   "metadata": {
    "colab": {
     "base_uri": "https://localhost:8080/",
     "height": 311,
     "referenced_widgets": [
      "14d33479dc0d45dfa0fb636ce9f17c2c",
      "45ffa949321b428884a5b380efb5ee9c",
      "ad8cc9531bd2470d9e59d7b2ec50329a",
      "4092632e9f054808baf266798ad4f818",
      "86961c443991485887186d910fe22c9e",
      "d95236f4efcf40958ba1639f2b3d8afd",
      "f0a5c3d9d3c042a2a9a4072b07018f5a"
     ]
    },
    "id": "BOywoPjwnxbx",
    "outputId": "6ec34201-e7df-4672-a276-ecbfc2a9ab5f"
   },
   "outputs": [
    {
     "data": {
      "application/vnd.jupyter.widget-view+json": {
       "model_id": "14d33479dc0d45dfa0fb636ce9f17c2c",
       "version_major": 2,
       "version_minor": 0
      },
      "text/plain": [
       "interactive(children=(IntSlider(value=-1, description='x', max=99, min=-100), Output()), _dom_classes=('widget…"
      ]
     },
     "metadata": {
      "tags": []
     },
     "output_type": "display_data"
    }
   ],
   "source": [
    "ipywidgets.interact(\r\n",
    "    lambda x: diffusionPlotTime(x,xs,ts,diffusionTH),\r\n",
    "    x=(np.min(xs), np.max(xs), 1),\r\n",
    ");"
   ]
  },
  {
   "cell_type": "markdown",
   "metadata": {
    "id": "1amlMrECuB83"
   },
   "source": [
    "# Diffusion in 2D with different coefficients\r\n",
    "All of the examples covered in this problem sheet have been in 1D."
   ]
  },
  {
   "cell_type": "code",
   "execution_count": 12,
   "metadata": {
    "colab": {
     "base_uri": "https://localhost:8080/",
     "height": 702,
     "referenced_widgets": [
      "b70ce4f1d8bb4541b705fb098d2934d9",
      "4212c1b8305b4819be3fc78af15c5e31",
      "30240bc04eb84637a2b23c99a92bfbe4",
      "25d4751356234f3b9c6b5990c21afdaa",
      "4383ad8ff0b7436494080e1b028b1e46",
      "d76497bbd8df49ad915520fd86e785da",
      "46f6517123e34e2694f9a4f5aa382861",
      "6dae26db79274f58b4dfbbbefec9005b",
      "5eb8188deafa4610baf94dc04050fb98",
      "8af3c7352a714e208437a1fc035da6b2",
      "3a540e65917f4fd996e358cc451c0ae3",
      "da409aaaa6e140e095fd45b331e18621",
      "af6480bab76c4105b4c3de04d00db982"
     ]
    },
    "id": "OOYEtjt9oeQH",
    "outputId": "e51b4fdc-9c3a-4433-ef48-7fe88985c0fd"
   },
   "outputs": [
    {
     "data": {
      "application/vnd.jupyter.widget-view+json": {
       "model_id": "b70ce4f1d8bb4541b705fb098d2934d9",
       "version_major": 2,
       "version_minor": 0
      },
      "text/plain": [
       "interactive(children=(IntSlider(value=1, description='t', max=50, min=1), FloatSlider(value=2.5000000000000004…"
      ]
     },
     "metadata": {
      "tags": []
     },
     "output_type": "display_data"
    }
   ],
   "source": [
    "size = 101\r\n",
    "x2D = np.linspace(-50, 50, size)\r\n",
    "y2D = np.linspace(-50, 50, size)\r\n",
    "x2D, y2D = np.meshgrid(x2D, y2D)\r\n",
    "\r\n",
    "width_x = 10\r\n",
    "width_y = 1\r\n",
    "\r\n",
    "D_x = 2\r\n",
    "D_y = 5\r\n",
    "\r\n",
    "ipywidgets.interact(\r\n",
    "    lambda t, D_x, D_y: diffusionplot2D(x2D,y2D, top_hat2D(x2D, y2D, width_x, width_y), diffusion2D, t, D_x, D_y),\r\n",
    "    t=ipywidgets.IntSlider(min=1, max=50, step=1, value=0),\r\n",
    "    D_x=(0.1, 5, 0.1),\r\n",
    "    D_y=(0.1, 5, 0.1),\r\n",
    ");"
   ]
  },
  {
   "cell_type": "code",
   "execution_count": 13,
   "metadata": {
    "colab": {
     "base_uri": "https://localhost:8080/",
     "height": 702,
     "referenced_widgets": [
      "ce5b525b5e664726983b19bb1aa78f6f",
      "e3c93f25427a4eb18e09dde464fbbc8c",
      "4390ffcb2d9d4949837a0d4550e1b54e",
      "733fb108297b46419918df278d5b067f",
      "26adc56e38f9488ea741010bd494cde8",
      "c78c4660b9a6413898ca9c8489a432f1",
      "99813e7008494ec1a641acab8f9c1b3a",
      "4c18b0048bfb48008b151d1e73974556",
      "4e7005f4fa4849a9b7b24072d0483743",
      "97712c21e93641d9b09be246ab1ffedd",
      "30f9d3e87de14ca9b07cb4fbc3b41b7c",
      "0a4b2fc4d2c04218afc0702fb5cd26ea",
      "10669bbbb39b459686f116051bce872f"
     ]
    },
    "id": "xgrvN5QH-WEC",
    "outputId": "59111583-a06b-4922-d095-1a1b9c436bb0"
   },
   "outputs": [
    {
     "data": {
      "application/vnd.jupyter.widget-view+json": {
       "model_id": "ce5b525b5e664726983b19bb1aa78f6f",
       "version_major": 2,
       "version_minor": 0
      },
      "text/plain": [
       "interactive(children=(IntSlider(value=1, description='t', max=50, min=1), FloatSlider(value=0.25, description=…"
      ]
     },
     "metadata": {
      "tags": []
     },
     "output_type": "display_data"
    }
   ],
   "source": [
    "import numpy as np\r\n",
    "from skimage import io\r\n",
    "\r\n",
    "snowflake = io.imread('https://github.com/ncurry208/2020_21_DEEMseminars/blob/master/snowflakeMask.tif?raw=true')\r\n",
    "xsnowflake = np.arange(snowflake.shape[0])\r\n",
    "ysnowflake = np.arange(snowflake.shape[1])\r\n",
    "xsnowflake, ysnowflake = np.meshgrid(xsnowflake, ysnowflake)\r\n",
    "\r\n",
    "ipywidgets.interact(\r\n",
    "    lambda t, D_x, D_y: diffusionplot2D(xsnowflake,ysnowflake, snowflake, diffusion2D, t, D_x, D_y, x0 = snowflake.shape[0]/2, y0 = snowflake.shape[1]/2),\r\n",
    "    t=ipywidgets.IntSlider(min=1, max=50, step=1, value=0),\r\n",
    "    D_x=(0.01, 0.5, 0.01),\r\n",
    "    D_y=(0.01, 0.5, 0.01),\r\n",
    ");"
   ]
  },
  {
   "cell_type": "code",
   "execution_count": 13,
   "metadata": {
    "id": "45tN4WembHmw"
   },
   "outputs": [],
   "source": []
  }
 ],
 "metadata": {
  "colab": {
   "collapsed_sections": [],
   "name": "Fourier methods for PDE.ipynb",
   "provenance": [],
   "toc_visible": true
  },
  "kernelspec": {
   "display_name": "Python 3",
   "language": "python",
   "name": "python3"
  },
  "language_info": {
   "codemirror_mode": {
    "name": "ipython",
    "version": 3
   },
   "file_extension": ".py",
   "mimetype": "text/x-python",
   "name": "python",
   "nbconvert_exporter": "python",
   "pygments_lexer": "ipython3",
   "version": "3.7.4"
  },
  "widgets": {
   "application/vnd.jupyter.widget-state+json": {
    "state": {},
    "version_major": 2,
    "version_minor": 0
   }
  }
 },
 "nbformat": 4,
 "nbformat_minor": 4
}
