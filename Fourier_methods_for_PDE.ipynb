{
  "nbformat": 4,
  "nbformat_minor": 0,
  "metadata": {
    "colab": {
      "name": "Fourier methods for PDE.ipynb",
      "provenance": [],
      "collapsed_sections": [],
      "toc_visible": true
    },
    "kernelspec": {
      "name": "python3",
      "display_name": "Python 3"
    },
    "widgets": {
      "application/vnd.jupyter.widget-state+json": {
        "00c0955083c949609f02361155fdc0da": {
          "model_module": "@jupyter-widgets/controls",
          "model_name": "VBoxModel",
          "state": {
            "_view_name": "VBoxView",
            "_dom_classes": [
              "widget-interact"
            ],
            "_model_name": "VBoxModel",
            "_view_module": "@jupyter-widgets/controls",
            "_model_module_version": "1.5.0",
            "_view_count": null,
            "_view_module_version": "1.5.0",
            "box_style": "",
            "layout": "IPY_MODEL_632251f1e26d486499bfc113613d2c3d",
            "_model_module": "@jupyter-widgets/controls",
            "children": [
              "IPY_MODEL_dc2f9715131a43f3bf02737d79c10813",
              "IPY_MODEL_5049a9c6996d40feb25ac02f356a2e48"
            ]
          }
        },
        "632251f1e26d486499bfc113613d2c3d": {
          "model_module": "@jupyter-widgets/base",
          "model_name": "LayoutModel",
          "state": {
            "_view_name": "LayoutView",
            "grid_template_rows": null,
            "right": null,
            "justify_content": null,
            "_view_module": "@jupyter-widgets/base",
            "overflow": null,
            "_model_module_version": "1.2.0",
            "_view_count": null,
            "flex_flow": null,
            "width": null,
            "min_width": null,
            "border": null,
            "align_items": null,
            "bottom": null,
            "_model_module": "@jupyter-widgets/base",
            "top": null,
            "grid_column": null,
            "overflow_y": null,
            "overflow_x": null,
            "grid_auto_flow": null,
            "grid_area": null,
            "grid_template_columns": null,
            "flex": null,
            "_model_name": "LayoutModel",
            "justify_items": null,
            "grid_row": null,
            "max_height": null,
            "align_content": null,
            "visibility": null,
            "align_self": null,
            "height": null,
            "min_height": null,
            "padding": null,
            "grid_auto_rows": null,
            "grid_gap": null,
            "max_width": null,
            "order": null,
            "_view_module_version": "1.2.0",
            "grid_template_areas": null,
            "object_position": null,
            "object_fit": null,
            "grid_auto_columns": null,
            "margin": null,
            "display": null,
            "left": null
          }
        },
        "dc2f9715131a43f3bf02737d79c10813": {
          "model_module": "@jupyter-widgets/controls",
          "model_name": "IntSliderModel",
          "state": {
            "_view_name": "IntSliderView",
            "style": "IPY_MODEL_48fdd6c972524d68a59f9425193377f3",
            "_dom_classes": [],
            "description": "t",
            "step": 1,
            "_model_name": "IntSliderModel",
            "orientation": "horizontal",
            "max": 50,
            "_view_module": "@jupyter-widgets/controls",
            "_model_module_version": "1.5.0",
            "value": 1,
            "_view_count": null,
            "disabled": false,
            "_view_module_version": "1.5.0",
            "min": 1,
            "continuous_update": true,
            "readout_format": "d",
            "description_tooltip": null,
            "readout": true,
            "_model_module": "@jupyter-widgets/controls",
            "layout": "IPY_MODEL_3756e57c68c746e6b511b642d45093bd"
          }
        },
        "5049a9c6996d40feb25ac02f356a2e48": {
          "model_module": "@jupyter-widgets/output",
          "model_name": "OutputModel",
          "state": {
            "_view_name": "OutputView",
            "msg_id": "",
            "_dom_classes": [],
            "_model_name": "OutputModel",
            "outputs": [
              {
                "output_type": "display_data",
                "metadata": {
                  "tags": [],
                  "needs_background": "light"
                },
                "image/png": "iVBORw0KGgoAAAANSUhEUgAAAYIAAAEGCAYAAABo25JHAAAABHNCSVQICAgIfAhkiAAAAAlwSFlzAAALEgAACxIB0t1+/AAAADh0RVh0U29mdHdhcmUAbWF0cGxvdGxpYiB2ZXJzaW9uMy4yLjIsIGh0dHA6Ly9tYXRwbG90bGliLm9yZy+WH4yJAAAgAElEQVR4nO3deZxU9Znv8c/TVdUbu4AItAaSENSgFwGXjEpUZILJDEyuJpHcRDI6mtwgLokzL42TZYzzmphEs6kTlzHRXI0TQxLR0ThRcTQQRIwrEAQRFQFl35ran/vHOdVdQANd3VVUHfr7fr36ZZ1zfnX6OdrWU7/f75zfY+6OiIj0XHXVDkBERKpLiUBEpIdTIhAR6eGUCEREejglAhGRHi5e7QBKNWjQIB8xYkS1wxARiZTnn39+g7sP7uhY5BLBiBEjWLRoUbXDEBGJFDN7c1/HNDQkItLDKRGIiPRwSgQiIj1c5OYIREQ6kslkWL16NclkstqhVFVjYyMtLS0kEolOv0eJQEQOCatXr6ZPnz6MGDECM6t2OFXh7mzcuJHVq1czcuTITr+vYkNDZnaXmb1nZq/u47iZ2Y/NbIWZvWxm4yoVi4gc+pLJJAMHDuyxSQDAzBg4cGDJvaJKzhH8HJiyn+PnAKPCn0uAf69gLCLSA/TkJFDQlX8HFUsE7v40sGk/TaYB93hgAdDfzIZWKh4REelYNe8aGg68XbS9Oty3FzO7xMwWmdmi9evXH5TgRER6ikjcPurut7v7BHefMHhwh09Ii4jUtCuuuIKnn3660+1/+MMf0tra2rZ99tlns3nz5kqEVtVE8A5wZNF2S7hPJHJe2/waT69+mjU71lQ7FKlBGzduZMGCBUycOLHT79kzEXz+85/n1ltvrUR4Vb19dA5wqZndD5wMbHX3tVWMR6TLHlj2APcvu5+vnfw1ph89vdrh9Hgjrv6vipx31Xc+sf/jq1ZxzjnncNpppzF//nyGDx/Ogw8+yOzZs5kyJbh3ZuvWrZx00knMmTOH0aNHM336dM466ywuvvjitvP8+Mc/Zs2aNZx55pkMGjSIuXPnMnXqVE4//XSuvfbasl9XJW8f/SXwJ2C0ma02s4vM7Etm9qWwySPASmAFcAfw5UrFIlJpOc8BELNYlSORalu+fDkzZ85k8eLF9O/fn9mzZzNv3jzGjx8PQL9+/bj55pv5whe+wP3338/mzZt3SwIAl112GcOGDWPu3LnMnTsXgAEDBpBKpdi4cWPZY65Yj8Dd9/u1yN0dmFmp3y9yMBUSQbxOz2jWggN9c6+kkSNHMnbsWADGjx/PqlWrWLt2LcXzm5MnT+aBBx5g5syZvPTSS50+9+GHH86aNWsYOHBgWWOOxGSxSK3L5rOAegQCDQ0Nba9jsRjZbJampqbdHvLK5/MsXbqU5ubmkiaAk8kkTU1NZY0XlAhEymJ9a3BbsyaLpSPHHHMMK1asaNv+wQ9+wDHHHMN9993H3//935PJZAC44IILWLhwIQB9+vRh+/btbe9xd9atW0clCnMpEYiUwZ/W/gmAu5fcXeVIpBZ94hOf4KmnngJg2bJl3Hnnndx4442cfvrpTJw4keuvvx6Al19+mWHDhgFwySWXMGXKFM4880wAnn/+eU455RTi8fIPP2pAU0SkTEaMGMGrr7Yvr3bVVVe1vb7mmmvYsmULo0ePZunSpW37b7rpJgC2bdvGqFGjaGlpAWDWrFnMmjWrrd0vfvELvvzlytxTox6BiMhBcOONN/LWW2/t83jfvn154IEH9nl8zJgxTJo0qRKhqUcgInIwnHzyyd16/563mJaTegQiZfCBfh8AoH9D/ypHIlI6JQKRMph1QjCWO3rA6CpHIlI6JQKRMojVBc8PFB4sE4kSJQKRMig8SJb1bJUjkVpUyyuPghKBSFm09Qjy6hHI7mp95VFQIhApi371/Th+0PGM7Nf5guFy6Pn2t7/N6NGjOe2005g+fTrf//7391p5dPTo0SxbtgyA6dOnc8cdd+x2juKVRwsPk02dOpVf/vKXFYtbt4+KlMGHB32Yez9xb7XDkGLf6tfJdlvL8uuee+45Zs+ezUsvvUQmk2HcuHGMHz+eefPmcd555wG7rzx6+eWX73Pl0Ztuuom5c+cyaNAgYPeVR8u94ByoRyAiUhbz5s1j2rRpNDY20qdPH/72b/8WoMOVR4877jhmzpzJnXfe2enzF1YerQT1CETKYOf2LSyb9zuOnXgejc29qx2OQNm+6XfXgVYeLSwpcSCVWnkU1CMQKYt191zEuAWX89Yvr6h2KFIlp556Kg899BDJZJIdO3bw8MMPA7W/8igoEYiUxbs7/sjTTY0MWftItUORKjnxxBOZOnUqxx9/POeccw7HHXcc/fr1q/mVR4Eg00TpZ/z48S5Sa86882gf8/Mx/vb1w6odSo+1ZMmSaofg27dvd3f3nTt3+vjx4/355593d/dTTz3VN2/evM/3bd261c8777x9Hr/sssv88ccf73QcHf27ABb5Pj5XNUcgUgY5MwBi7lWORKrpkksuYcmSJSSTSWbMmMG4ceOA9pVH+/fveC2qaq48CposFimLLEEi2Fo/jKFVjkWq57777utwfy2vPAqaIxApi3S4xMQzh32mypGIlE6JQKQMUuHQ0AuJxipHIlI6JQKRMnDLAzCPe6ociUjplAhEykmTxRJBSgQi3VS84qijRCDRo0Qg0k27F6PJVy0OiZZNmzYxefJkRo0axeTJk3erN/C73/2O6667br/vv+qqq3jyySfLEosSgUgZJFLHAuCoHoF0zne+8x0mTZrE8uXLmTRpEt/5znfajn33u9/ly1/+8n7fP2vWrN3e0x16jkCkm+pj9dRvvJjMsCvBnLznqTN9x6q24+4+rlPtXpnxStl+56pVqzjnnHM47bTTmD9/PsOHD+fBBx/scLG4Bx98sG3piRkzZnDGGWdwww038Nprr9HQ0NC2BPW0adM499xzueCCC7jtttt4+umnuffee3nf+97Hxo0bWbduHUcccUS34tZfq0gZpLOOe/C/k+oW92zLly9n5syZLF68mP79+zN79uwO27377rsMHRo8fnjEEUfw7rvvAsFy1oUnkgFuv/12rrvuOp555hluvPFGfvKTn7QdGzduHPPmzet2zOoRiJRBPpumzg23YPI4UZeodkg9Xjm/6Zdi5MiRjB07FoDx48ezatWqA77HzLDwWZQ96xcMGTKE6667jjPPPJPf/va3HHbYYW3HylWjQD0CkTKoz26niWA5YfUIeraGhoa217FYjGw222G7IUOGsHbtWiD48D/88MOBvesXALzyyisMHDhwrw/9ctUoqGgiMLMpZrbMzFaY2dUdHD/KzOaa2Qtm9rKZfbyS8YhUQi6X49t1d3B8KsXxyXS1w5GImDp1KnfffTcAd999N9OmTQP2rl+wcOFCHn30UV544QW+//3v88Ybb7Qde+211xgzZky3Y6lYIjCzGHALcA5wLDDdzI7do9k/A79y9xOA84FbKxWPSKWkk618LLaIO9at5+4179Er0avaIUkEXH311fzhD39g1KhRPP7441x9dfBdeeLEibzwwgu4O6lUiosvvpi77rqLYcOGceONN3LhhRfi7mQyGVasWMGECRO6HUsl5whOAla4+0oAM7sfmAYsKWrjQN/wdT+gMgU5RSoonUpS6JzHLU82kyaeqK9qTFIdI0aM4NVXX23bvuqqq/bZduDAgTzxxBN77W9ububss8/miSee4Oyzz+all15qOzZ16lSmTp0KwMMPP8x5551XlmI1lRwaGg68XbS9OtxX7FvA58xsNfAIMKujE5nZJWa2yMwWrV+/vhKxinRZJtm623Y6tatKkcih4mtf+xqtra37bZPNZvnqV79alt9X7cni6cDP3b0F+DjwC7O9b8B299vdfYK7TyieTRepBXt+8KeTSgTSbubMmYwdO3a3n5/97Gf7fc+QIUPavvnvy6c+9al9FropVSWHht4Bjizabgn3FbsImALg7n8ys0ZgEPBeBeMSKavNO9ezrLmJ/rkcJ6TS6hFUkbu33YZZK2655ZaD+vu8CwsfVrJH8BwwysxGmlk9wWTwnD3avAVMAjCzY4BGQGM/Eilvbl/FZUMG8/3DBgCQSSUP8A6phMbGRjZu3NilD8JDhbuzceNGGhtLq4tRsR6Bu2fN7FLgMSAG3OXui83sOoIiynOArwJ3mNmVBBPHX/Ce/F9RIimVDj74Y+HKo9nU/sd2pTJaWlpYvXo1PX0esbGxkZaWlpLeU9Eni939EYJJ4OJ93yh6vQQ4tZIxiFRaJh0MBcUcns0fzQCPVTminimRSDBy5MhqhxFJ1Z4sFom8bDboEWz3Xnwm/Q229zqqyhGJlEaJQKSbtjYGKz+uTDQQa1rFluS2KkckUholApFu2hHrDUAm0UrziJ/y+rblVY5IpDRKBCLdlMrtvqhYKpOpUiQiXaNEINJNqezuH/zpXMerTYrUKiUCkW5K53ZPBMmsegQSLUoEIt1UT3+y249u207vY/15kVqlRCDSTYPiH2bX6i+Q2fZhYO85A5Fap0Qg0k3pXKEiWSzcViKQaFEiEOmmVCYPQG8LEkB817vVDEekZEoEIt2UygaJ4H22AYAjtjxXzXBESlbRtYZEeoIT3vsNYxMLeT6bpDmZQoUqJWqUCES66agdLzEh9gwf3n4MR29+l2cHNlc7JJGSaGhIpJvqcmkAUvHe4XaqmuGIlEyJQKSbYvnggz+b6AOAhYlBJCqUCES6qZAIcvV9dtsWiQrNEYh005q6JBuamtjaUA9ATENDEjHqEYh00zPNKWYdMZg/NwR1CGJ5DQ1JtCgRiHSTEzxZHI83ARBzLTon0aJEINJNhURQ19CfhfnRrKwbUd2AREqkOQKRbnLyQAzr28Kn09/kQwN68/FqByVSAvUIRLrpBRsNwK54nljTKlpdaw1JtCgRiHTT2wwE4M+b/0TziJ+ys+F/qhyRSGmUCES6Ke/BHEFTvGG3bZGoUCIQ6YZ83tsTQaIRgFxe9QgkWpQIRLohncuDBctQN4Y9gpx6BBIxumtIpBtSmTz55HCIZxneexgQ3EWUyzuxOqtydCKdox6BSDekcjnSG8+gYePFTDhiQrDT8qTDYjUiUaBEININhTKVDfEYcQs72JYnldXwkESHEoFINxTKVDbE64jVBcXrB9pmUrt2VjMskZJUNBGY2RQzW2ZmK8zs6n20+bSZLTGzxWZ2XyXjESm3whBQfbyOmAWJYFzdMnLb1lUzLJGSVGyy2MxiwC3AZGA18JyZzXH3JUVtRgHXAKe6+2YzO7xS8YhUxMbl/ChxM9vTH2BA40Uck3RGZrJkUruqHZlIp1XyrqGTgBXuvhLAzO4HpgFLitpcDNzi7psB3P29CsYjUna+/V2mxeazJLOdYw8/gX97L8EHcltYoUQgEVLJoaHhwNtF26vDfcU+BHzIzOaZ2QIzm9LRiczsEjNbZGaL1q9fX6FwRUqXSwcf+NlYUJQma4ngn2klAomOak8Wx4FRwBnAdOAOM+u/ZyN3v93dJ7j7hMGDBx/kEEX2LZ8JqpHl68JEEP4zl1aVMomOSiaCd4Aji7Zbwn3FVgNz3D3j7m8ArxEkBpFIyGWCb/65QgKoC58uVo9AIqSSieA5YJSZjTSzeuB8YM4ebX5H0BvAzAYRDBWtrGBMImWVTyeZ39jInxvTtGZa2xNCJlnlyEQ6r2KTxe6eNbNLgceAGHCXuy82s+uARe4+Jzz212a2BMgB/+juGysVk0i55TNJrh80gLcT7/CxXRvIxcIeQUY9AomOiq415O6PAI/sse8bRa8d+Er4IxI92SQ5gjWFYnUxPOwReEZzBBId1Z4sFok0z6bIhmvLxSzGhqb3Mz93LDtie93zIFKzlAhEusGzqbYeQbwuzrPDPs9nM//MGwNOrXJkIp2nRCDSDX/pP5FtFArS5Njmy6lrfLttDSKRKChpjsDMBgDDgF3AKnfXX7v0aGvqR5K2GEaGLakt/GHL12lq6Uc6O6naoYl02gETgZn1A2YSPPBVD6wHGoEhZrYAuNXd51Y0SpEalcrmwYIlpxvCO4ZAy1BLtHSmR/Br4B7gdHffUnzAzCYAnzOz97v7f1QiQJFaFtQjKJSqDIaIgnoE6ixLdBwwEbj75P0cWwQsKmtEIhFSXLO4PlxvyFShTCKm05PFZvZEZ/aJ9CTJTJbsjmMY3fck6sNnCDQ0JFHTmTmCRqAZGBROFhcqcvdl79VERXqUdNZJrr6AL541gXhdcalK9QgkOjozR/BF4AqCu4Wepz0RbANurlBcIpHQUalKLN9Wy1gkCjozR/Aj4EdmNsvdf3IQYhKJjHRxIghLVRo5hrUuBcZXMTKRzuv0HMGeScDMJpjZsPKHJBIdhbmA+ngddVaHYWDwd5tur3JkIp3XnUXnZgHHm9lr7v6ZcgUkEiUXbL+DusR6eiU/AAzg6KaRNG1eguXT1Q5NpNO6nAjcfQaAmfUpXzgi0XJSeiFHxtbwFkH9ges/+BU+NGcqy2N9qxyZSOeVcvvoRXtsx8zsm+6+vfxhiURDwjMAxOubgu2GxnC/egQSHaUsOjfJzB4xs6Fm9mFgAaDegPRoCYIP/PrGIBHEG5qD/UoEEiGdHhpy98+a2WeAV4CdwGfdfV7FIhOJgHpPg0GikADqgx5BPOwpiERBKUNDo4DLgdnAm8Dnzay5UoGJREHGsjzR3MSr25YAkGgIegb1KBFIdJQyNPQQ8HV3/yLwUWA5QYF6kR7J83k2JOCKIYO58cUfAlDfGHw3qtfQkERIKXcNneTu26Ct1vCNZvZQZcISqX2p1C5y4XP2heUlCnMFCfUIJEIO2CMws9MACkmgmLu/ZmZ9zWxMJYITqWWp5K72wvXhU8X1iQYW5I9hQf5Y8jktMyHR0Jkewblm9l3g9wRrDRUK03wQOBN4H/DVikUoUqMyqV3thevDdYasro4Z+W+Syub5S95pjFUxQJFO6sxaQ1ea2WHAucCngCMISlUuBX6qO4ekp0rGmvle9jzgj209gmWbllHf+w1S244glcnTmFAmkNrXqclid99EUKXsD8AzwItAClBhVumxUjSwwI8B2ucIvj7v6zD036mrX6+aBBIZpUwWPwhsAf4M4fP0Ij1YKtNer7jQI2irSYBqEkh0lJIIWtx9SsUiEYmYdK69XnFhjqCQCEzFaSRCSnmOYL6ZHVexSEQiJpXJtdUrjluQAAo9AyynoSGJjFJ6BKcBXzCzNwjmB4zgkYLjKxKZSI1LZfN4tjd982MZMyi4g7qtSpmGhiRCSkkE51QsCpEISmXz5JNHcbRN4Iv/60SgvWegcpUSJaUsOvdmJQMRiZpCmcr6ePsIa3Hd4rQeKJOIKGWOQESKFOYAGooTQThH8OG6lfi2tVWJS6RUFU0EZjbFzJaZ2Qozu3o/7c41MzezCZWMR6ScUm2F69sfGivcNXRp/Df0eXdhVeISKVXFEoGZxYBbCOYWjgWmm9mxHbTrQ7C89bOVikWkEgavfYqbEz/i5G2/b9s3st9IRmWa6JvPk8/ocRuJhkr2CE4CVrj7SndPA/cD0zpo923gBvSQmkRM7+2v8zexZxmWWtm2b9YJs7h65yhOSabIZ1JVjE6k8yqZCIYDbxdtrw73tTGzccCR7v5f+zuRmV1iZovMbNH69evLH6lIF3j4jd/jDbvvjwXbntV3G4mGqk0Wm1kdcBOdWLnU3W939wnuPmHw4MGVD06kM7Jh8Zl44267vbCtoSGJiEomgneAI4u2W8J9BX2AMcBTZrYKOAWYowljiQrLBUM/FqvfbX+hh+A5VSmTaKhkIngOGGVmI82sHjgfmFM46O5b3X2Qu49w9xHAAmCquy+qYEwiZWPZJCsTcV6IbWDl1vZ5AgqJQUNDEhEVSwTungUuBR4jqF3wK3dfbGbXmdnUSv1ekYPFcike69XMrdk/8ugbj7bvTwRDQ5bVZLFEQylLTJTM3R8BHtlj3zf20faMSsYiUm51uRTZut1LVQJYYY4gp0Qg0VDRRCByKKvLp8mFn//tdQgg2auFp3PHsTlx5D7eKVJbtMSESBfV5VJ7Fa8H2NRyJhdkruGJvp+sVmgiJVEiEOmi2b0+zeP5sUB7Ili3cx3rUkuxxCZa06pHINGgRCDSRS/6aFYyBGhfdXTO63O4ddlXSPRfyM5UtprhiXSaEoFIF+1MZ/dZocwsT2taiUCiQYlApItaU7n24vV1exev36mhIYkIJQKRLtqZzmJh8fpCAmhLBJanVUNDEhG6fVSkC9yd1nSOuuQwzm7py9BeQ4Hi4vXqEUh0KBGIdEEqmyeXd2LbJnLzpPZy3sXF6zVHIFGhoSGRLijcGtrcENttf2HSuK4uTybnbXWNRWqZEoFIFxRuDe1Vv3unutAjGFK3mcl1i2ht3XHQYxMplRKBSBe09Qjqd+8RFOYIjrdl3FF/E8kt6w56bCKl0hyBSBfk3l3KHYkb2ZAdDXy0bf/ApoGMO3wcR2x5HoDUzm1VilCk85QIRLogt3Utk2PP82pu9zuDThl6CqcMPYXXnj8RgFTr9mqEJ1ISDQ2JdEFmV/ABn4k1d3y8rgmAdKt6BFL7lAhEuiCXDD7gc/F9JIJwfyFhiNQyJQKRLsingruBcoleHR7Phj2FXFJ3DUntUyIQ6QIPE8GS+jRPvvUk29O7f/PPJ8JEkFIikNqnRCDSBZ7eCcCvGt7k8rmXs2bHmt2O58OegisRSAQoEYh0gYWJIGd7VygDoJAIwnYitUy3j4p0gWWCD/i8GXjxGkOB7X0/yBO5E9gRH1qN8ERKoh6BSBfEsq0A5IMOQdsaQwXrjvw4F2X+kYV9Jh/s0ERKph6BSBc80vtc7twwhmzsfyDf3iPYld3F0o1L2ZzdDKC6xRIJSgQiXfAXez/z8/1osaeB9jmCtTvWMuP3Mxjc0AJcqrrFEgkaGhLpgkLRmbwHH/R7laoMaxmrRyBRoEQg0gWFMpRO8EHfVrw+TAh5DxLBThWnkQhQIhDpgsKQT87DRBD2BApDRIUEoaEhiQLNEYh0QWFo6K+Gnk6OFIlYAmhPCO2JQENDUvuUCES6oFCP+IaJN9AQb3+GoNAjKPQUVLdYokBDQyIlSmeDesTxOqM+tvv/Qu1zBGGPQJPFEgEVTQRmNsXMlpnZCjO7uoPjXzGzJWb2spk9YWbvq2Q8IuVQ+JbfXB/DwiUmCgqTxjnP8dG6lzg7P59MJnPQYxQpRcUSgZnFgFuAc4BjgelmduwezV4AJrj78cCvge9WKh6Rcil8y+/VsPfIaqFHkMvn+EniJ9xa/2Nad2w9qPGJlKqSPYKTgBXuvtLd08D9wLTiBu4+191bw80FQEsF4xEpi/T6N/h54ga+mv/ZXsdiFuOEw09g7OFjSVojAMmdSgRS2yo5WTwceLtoezVw8n7aXwQ82tEBM7sEuATgqKOOKld8Il2S2f4eZ8ReYnnbd5h28bo495xzDwBvLTgWHJI7VaVMaltNTBab2eeACcD3Ojru7re7+wR3nzB48OCDG5zIHgp1iNNhXeJ9SalusUREJXsE7wBHFm23hPt2Y2ZnA9cCH3X3VAXjESmL7K6g2Ewm3nGZyoJ0rAlykG5Vj0BqWyV7BM8Bo8xspJnVA+cDc4obmNkJwG3AVHd/r4KxiJRNNhl8sBfqEu+zXXg8k1QikNpWsUTg7lngUuAxYCnwK3dfbGbXmdnUsNn3gN7AA2b2opnN2cfpRGpGoSD9rkQDj7/5OPPXzO+wXTYeJILsLg0NSW2r6JPF7v4I8Mge+75R9PrsSv5+kUoo1CHeXF/PtU9dSUvvFh49d+/7HHJhIsgnVbdYaltNTBaLRImngw/2fDy4PbRt6ek95BO9g3+qgL3UOCUCkVIVCtcngkSwV+H60OY+o/l97kQ2qG6x1DglApES1YWF670+uD10z8L1BW8cOY0vZa7klb6nHbTYRLpCq4+KlGhuv09y29oP8pHBH4J3/muvHsHijYtpzbSSiPcBoFVLUUuNU49ApEQraeHJ/Di8T/Bw455zBNc8cw0XPnYhGTYCqlImtU+JQKREhTrEhTIEe/YIComhIRG2V49AapwSgUiJCt/w68OOwJ5zBIWlqAuJQD0CqXVKBCIlKnzDr084sPfQUKGHUEgUrSpOIzVOk8UiJSp8wz+8eSCTjprEqAGjdjte6CEkwv+7VMBeap0SgUiJCh/sxw0+hjNG/nCv4+09gqDHoKEhqXUaGhIp0f4qlEH7UFFhMlmTxVLr1CMQKUEmlyedzVNn0BDv+HtUoUeQiOWYXLeIvpkMMPkgRilSGiUCkRIUJn571cf3KlxfUJgjiNU5tyV+QJ05uey3iMX1v5vUJv1lipQguXkt9yb+lU2xIcDHOmwzasAodmV30bexH7tooBdJWnduo0+/ww5usCKdpEQgUoLk9k2cGlvMW75ln22+Mv4rba83WCO9SJJUIpAapslikRIU6g+nDlCvuCBpQbvkzq0Vi0mku5QIREpQqD+cjnUuERQSRmqnqpRJ7VIiEClBppP1igvSYSJQAXupZUoEIiVoK1wfb2bV1lU8/ubjLN+8fJ/t02HCyKqAvdQwJQKREhTqD+fizcx9ey5XPnUlc16fs8/2hbrFGSUCqWFKBCIlyIcf6PlEL3IePFOwr1KVANl4r6D9LtUtltql20dFSuBhvWJP9CKbD9YQ2lepSoB3+4zhoY2bSMSHHJT4RLpCPQKRUqTDb/b17T2CQv2Bjiwdfi6zMpexos+EgxGdSJeoRyBSgj/1n8otbx7J/x5+Krn8C8DePYJ3drzDmh1rGNZ7WNvCdDtVk0BqmHoEIiVYbUP4Y/44cv1HkPVwaGiPOYLZr83mwscu5OHXH6a5PjjWqpoEUsOUCERKUFhSuldDvG2OYM8KZYXtnOfoVa8egdQ+JQKREhSKzDTXx8jlO75rqLCdzWdpbgh7BCpOIzVMiUCkBIVlqHs3xNsni/esWRzOGeQ81z5HoOI0UsOUCERKsG1XBoDm+jgfGvAhzjryLFr6tOzWpnAXUS7fPjS0NXyfSC3SXUMinfTY4nUsf28HTXdSfcEAAAhsSURBVIkYwwc0ceywT/Pp0Z/eq11xj2DEwGYSMePFt7cwb8UGTv3goIMdtsgBqUcg0glbWtNc+9tXAfinKaPp15TYZ9viOYLD+zZy2VmjALj+gT+yY/u+6xiIVEtFE4GZTTGzZWa2wsyu7uB4g5n9Z3j8WTMbUcl4RLrqXx5awoYdKU4acRgzPjJiv22L7xoC+NIZH2D64De4J3kZi+++stKhipSsYkNDZhYDbiGo2r0aeM7M5rj7kqJmFwGb3f2DZnY+cAPwme783l3pHJu2vkcquemAbRMNfWluPvyA7ZK7Nul8Pex8juO5PNlchjWvPsMpSx5iQf0MbjjvDOrqOq5VXFDoERQSQSJWx8UfO5F+D+zg5A2/4YX/nsTQY04hHkuwy9Nk8ungjXVxvLFfh+dsjDXRGG8MNnIZLNVxoZvW7C7SuZTO14PO1xRv4rDm3jQm9r3UyYFUco7gJGCFu68EMLP7gWlAcSKYBnwrfP1r4GYzM3f3rv7S/7fgTf5n4RW8NPiNA7Y9YfNAnl73jwdsd9qg23S+nn6+98PkujmMHHTBAc83uHkw44eM56g+R7W/fczJ/GnhP/CRt27jhPkzYX6w/4cD+vEf/Tv+cCiWeu9jpDeeCcBYW8HvGr7RYbt7dL4ed77k2k/yL2f+A589+agO39MZlUwEw4G3i7ZXAyfvq427Z81sKzAQ2FDcyMwuAS4BOOqo/V9sY6KORF0D/XL5AwYYtwYO61V/wHY6X08+X/DtP2dxRo6ZeMBzAUxsmcjElr3bTvjct/nzj5ZyROtfiHuWOvLgibbfnSPGDjoueNOUaKR3eC29vIHN+b4d/3Kv1/l62Pl61TfSEO/eKL9148v3/k9sdh4wxd3/Idz+PHCyu19a1ObVsM3qcPv1sM2Gjs4JMGHCBF+0aFFFYhYROVSZ2fPu3uHqh5WcLH4HOLJouyXc12EbM4sD/YCNFYxJRET2UMlE8BwwysxGmlk9cD6wZymnOcCM8PV5wJPdmR8QEZHSVWyOIBzzvxR4DIgBd7n7YjO7Dljk7nOA/wB+YWYrgE0EyUJERA6iij5Z7O6PAI/sse8bRa+TwKcqGYOIiOyfniwWEenhlAhERHo4JQIRkR5OiUBEpIer2ANllWJm64E3O9F0EHs8oRxxh9r1wKF3TYfa9YCuKQo6ez3vc/fBHR2IXCLoLDNbtK+n6KLoULseOPSu6VC7HtA1RUE5rkdDQyIiPZwSgYhID3coJ4Lbqx1AmR1q1wOH3jUdatcDuqYo6Pb1HLJzBCIi0jmHco9AREQ6QYlARKSHO6QSgZl928xeNrMXzey/zWxYuN/M7MdmtiI8Pq7asXaWmX3PzP4Sxv1bM+tfdOya8JqWmdnHqhlnZ5nZp8xssZnlzWzCHscidz0FZjYljHuFmV1d7Xi6wszuMrP3woJRhX2HmdkfzGx5+M8B1YyxFGZ2pJnNNbMl4d/c5eH+KF9To5ktNLOXwmv6l3D/SDN7Nvz7+89w6f/Oc/dD5gfoW/T6MuCn4euPA48S1B08BXi22rGWcE1/DcTD1zcAN4SvjwVeAhqAkcDrQKza8Xbieo4BRgNPAROK9kfyesLYY2G87wfqw+s4ttpxdeE6JgLjgFeL9n0XuDp8fXXh7y8KP8BQYFz4ug/wWvh3FuVrMqB3+DoBPBt+pv0KOD/c/1Pg/5Zy3kOqR+Du24o2ewGFmfBpwD0eWAD0N7OhBz3ALnD3/3b3bLi5gKDSGwTXdL+7p9z9DWAFcFI1YiyFuy9192UdHIrk9YROAla4+0p3TwP3E1xPpLj70wR1QYpNA+4OX98N/N1BDaob3H2tu/85fL0dWEpQJz3K1+TuviPcTIQ/DpwF/DrcX/I1HVKJAMDM/tXM3gb+D1CofTAceLuo2epwX9RcSNCzgUPnmgqifD1Rjv1Ahrj72vD1OmBINYPpKjMbAZxA8A060tdkZjEzexF4D/gDQW90S9EXxpL//iKXCMzscTN7tYOfaQDufq27HwncC1xa3Wg750DXFLa5FsgSXFdN68z1SPR4MO4QufvNzaw3MBu4Yo9Rg0hek7vn3H0swejAScDR3T1nRSuUVYK7n93JpvcSVEf7JvAOcGTRsZZwX0040DWZ2ReAvwEmhX+4UMPXVMJ/o2I1ez2dEOXYD+RdMxvq7mvD4dT3qh1QKcwsQZAE7nX334S7I31NBe6+xczmAh8hGO6Oh72Ckv/+Itcj2B8zG1W0OQ34S/h6DnBBePfQKcDWoq5hTTOzKcA/AVPdvbXo0BzgfDNrMLORwChgYTViLJMoX89zwKjwzo16gtrbc6ocU7nMAWaEr2cAD1YxlpKYmRHURV/q7jcVHYryNQ0u3DloZk3AZIK5j7nAeWGz0q+p2rPgZZ5Rnw28CrwMPAQML5ppv4VgLO0Viu5WqfUfgknTt4EXw5+fFh27NrymZcA51Y61k9fzSYIxzBTwLvBYlK+nKPaPE9yV8jpwbbXj6eI1/BJYC2TC/0YXAQOBJ4DlwOPAYdWOs4TrOY1g2Oflov9/Ph7xazoeeCG8pleBb4T730/wxWkF8ADQUMp5tcSEiEgPd0gNDYmISOmUCEREejglAhGRHk6JQESkh1MiEBHp4ZQIRER6OCUCEZEeTolApJvM7MSwXkSjmfUK14kfU+24RDpLD5SJlIGZXQ80Ak3Aanf/tyqHJNJpSgQiZRCuMfQckAT+yt1zVQ5JpNM0NCRSHgOB3gSVsBqrHItISdQjECkDM5tDUJlsJDDU3SNRC0MEIliPQKTWmNkFQMbd7zOzGDDfzM5y9yerHZtIZ6hHICLSw2mOQESkh1MiEBHp4ZQIRER6OCUCEZEeTolARKSHUyIQEenhlAhERHq4/w/QcdsnNHuYagAAAABJRU5ErkJggg==\n",
                "text/plain": "<Figure size 432x288 with 1 Axes>"
              }
            ],
            "_view_module": "@jupyter-widgets/output",
            "_model_module_version": "1.0.0",
            "_view_count": null,
            "_view_module_version": "1.0.0",
            "layout": "IPY_MODEL_0d7ecc249bf34d69b154a015d6f5475b",
            "_model_module": "@jupyter-widgets/output"
          }
        },
        "48fdd6c972524d68a59f9425193377f3": {
          "model_module": "@jupyter-widgets/controls",
          "model_name": "SliderStyleModel",
          "state": {
            "_view_name": "StyleView",
            "handle_color": null,
            "_model_name": "SliderStyleModel",
            "description_width": "",
            "_view_module": "@jupyter-widgets/base",
            "_model_module_version": "1.5.0",
            "_view_count": null,
            "_view_module_version": "1.2.0",
            "_model_module": "@jupyter-widgets/controls"
          }
        },
        "3756e57c68c746e6b511b642d45093bd": {
          "model_module": "@jupyter-widgets/base",
          "model_name": "LayoutModel",
          "state": {
            "_view_name": "LayoutView",
            "grid_template_rows": null,
            "right": null,
            "justify_content": null,
            "_view_module": "@jupyter-widgets/base",
            "overflow": null,
            "_model_module_version": "1.2.0",
            "_view_count": null,
            "flex_flow": null,
            "width": null,
            "min_width": null,
            "border": null,
            "align_items": null,
            "bottom": null,
            "_model_module": "@jupyter-widgets/base",
            "top": null,
            "grid_column": null,
            "overflow_y": null,
            "overflow_x": null,
            "grid_auto_flow": null,
            "grid_area": null,
            "grid_template_columns": null,
            "flex": null,
            "_model_name": "LayoutModel",
            "justify_items": null,
            "grid_row": null,
            "max_height": null,
            "align_content": null,
            "visibility": null,
            "align_self": null,
            "height": null,
            "min_height": null,
            "padding": null,
            "grid_auto_rows": null,
            "grid_gap": null,
            "max_width": null,
            "order": null,
            "_view_module_version": "1.2.0",
            "grid_template_areas": null,
            "object_position": null,
            "object_fit": null,
            "grid_auto_columns": null,
            "margin": null,
            "display": null,
            "left": null
          }
        },
        "0d7ecc249bf34d69b154a015d6f5475b": {
          "model_module": "@jupyter-widgets/base",
          "model_name": "LayoutModel",
          "state": {
            "_view_name": "LayoutView",
            "grid_template_rows": null,
            "right": null,
            "justify_content": null,
            "_view_module": "@jupyter-widgets/base",
            "overflow": null,
            "_model_module_version": "1.2.0",
            "_view_count": null,
            "flex_flow": null,
            "width": null,
            "min_width": null,
            "border": null,
            "align_items": null,
            "bottom": null,
            "_model_module": "@jupyter-widgets/base",
            "top": null,
            "grid_column": null,
            "overflow_y": null,
            "overflow_x": null,
            "grid_auto_flow": null,
            "grid_area": null,
            "grid_template_columns": null,
            "flex": null,
            "_model_name": "LayoutModel",
            "justify_items": null,
            "grid_row": null,
            "max_height": null,
            "align_content": null,
            "visibility": null,
            "align_self": null,
            "height": null,
            "min_height": null,
            "padding": null,
            "grid_auto_rows": null,
            "grid_gap": null,
            "max_width": null,
            "order": null,
            "_view_module_version": "1.2.0",
            "grid_template_areas": null,
            "object_position": null,
            "object_fit": null,
            "grid_auto_columns": null,
            "margin": null,
            "display": null,
            "left": null
          }
        },
        "71d5c935a7754b51876c0549ab0b32fc": {
          "model_module": "@jupyter-widgets/controls",
          "model_name": "VBoxModel",
          "state": {
            "_view_name": "VBoxView",
            "_dom_classes": [
              "widget-interact"
            ],
            "_model_name": "VBoxModel",
            "_view_module": "@jupyter-widgets/controls",
            "_model_module_version": "1.5.0",
            "_view_count": null,
            "_view_module_version": "1.5.0",
            "box_style": "",
            "layout": "IPY_MODEL_96bd45513f4f42e9acae8c48ff3ae8fc",
            "_model_module": "@jupyter-widgets/controls",
            "children": [
              "IPY_MODEL_ea01fa8720a04f7d838467a11cd472e7",
              "IPY_MODEL_239bbd9403a24fa7a4057383306cea1f"
            ]
          }
        },
        "96bd45513f4f42e9acae8c48ff3ae8fc": {
          "model_module": "@jupyter-widgets/base",
          "model_name": "LayoutModel",
          "state": {
            "_view_name": "LayoutView",
            "grid_template_rows": null,
            "right": null,
            "justify_content": null,
            "_view_module": "@jupyter-widgets/base",
            "overflow": null,
            "_model_module_version": "1.2.0",
            "_view_count": null,
            "flex_flow": null,
            "width": null,
            "min_width": null,
            "border": null,
            "align_items": null,
            "bottom": null,
            "_model_module": "@jupyter-widgets/base",
            "top": null,
            "grid_column": null,
            "overflow_y": null,
            "overflow_x": null,
            "grid_auto_flow": null,
            "grid_area": null,
            "grid_template_columns": null,
            "flex": null,
            "_model_name": "LayoutModel",
            "justify_items": null,
            "grid_row": null,
            "max_height": null,
            "align_content": null,
            "visibility": null,
            "align_self": null,
            "height": null,
            "min_height": null,
            "padding": null,
            "grid_auto_rows": null,
            "grid_gap": null,
            "max_width": null,
            "order": null,
            "_view_module_version": "1.2.0",
            "grid_template_areas": null,
            "object_position": null,
            "object_fit": null,
            "grid_auto_columns": null,
            "margin": null,
            "display": null,
            "left": null
          }
        },
        "ea01fa8720a04f7d838467a11cd472e7": {
          "model_module": "@jupyter-widgets/controls",
          "model_name": "IntSliderModel",
          "state": {
            "_view_name": "IntSliderView",
            "style": "IPY_MODEL_c871983967fc4bb0ba8c5d1b50725082",
            "_dom_classes": [],
            "description": "t",
            "step": 1,
            "_model_name": "IntSliderModel",
            "orientation": "horizontal",
            "max": 50,
            "_view_module": "@jupyter-widgets/controls",
            "_model_module_version": "1.5.0",
            "value": 1,
            "_view_count": null,
            "disabled": false,
            "_view_module_version": "1.5.0",
            "min": 1,
            "continuous_update": true,
            "readout_format": "d",
            "description_tooltip": null,
            "readout": true,
            "_model_module": "@jupyter-widgets/controls",
            "layout": "IPY_MODEL_a5c235be31ff4ded858b83975cc184bd"
          }
        },
        "239bbd9403a24fa7a4057383306cea1f": {
          "model_module": "@jupyter-widgets/output",
          "model_name": "OutputModel",
          "state": {
            "_view_name": "OutputView",
            "msg_id": "",
            "_dom_classes": [],
            "_model_name": "OutputModel",
            "outputs": [
              {
                "output_type": "display_data",
                "metadata": {
                  "tags": [],
                  "needs_background": "light"
                },
                "image/png": "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\n",
                "text/plain": "<Figure size 432x288 with 1 Axes>"
              }
            ],
            "_view_module": "@jupyter-widgets/output",
            "_model_module_version": "1.0.0",
            "_view_count": null,
            "_view_module_version": "1.0.0",
            "layout": "IPY_MODEL_4d8f1030e51e45adb8486f6aa753f7c4",
            "_model_module": "@jupyter-widgets/output"
          }
        },
        "c871983967fc4bb0ba8c5d1b50725082": {
          "model_module": "@jupyter-widgets/controls",
          "model_name": "SliderStyleModel",
          "state": {
            "_view_name": "StyleView",
            "handle_color": null,
            "_model_name": "SliderStyleModel",
            "description_width": "",
            "_view_module": "@jupyter-widgets/base",
            "_model_module_version": "1.5.0",
            "_view_count": null,
            "_view_module_version": "1.2.0",
            "_model_module": "@jupyter-widgets/controls"
          }
        },
        "a5c235be31ff4ded858b83975cc184bd": {
          "model_module": "@jupyter-widgets/base",
          "model_name": "LayoutModel",
          "state": {
            "_view_name": "LayoutView",
            "grid_template_rows": null,
            "right": null,
            "justify_content": null,
            "_view_module": "@jupyter-widgets/base",
            "overflow": null,
            "_model_module_version": "1.2.0",
            "_view_count": null,
            "flex_flow": null,
            "width": null,
            "min_width": null,
            "border": null,
            "align_items": null,
            "bottom": null,
            "_model_module": "@jupyter-widgets/base",
            "top": null,
            "grid_column": null,
            "overflow_y": null,
            "overflow_x": null,
            "grid_auto_flow": null,
            "grid_area": null,
            "grid_template_columns": null,
            "flex": null,
            "_model_name": "LayoutModel",
            "justify_items": null,
            "grid_row": null,
            "max_height": null,
            "align_content": null,
            "visibility": null,
            "align_self": null,
            "height": null,
            "min_height": null,
            "padding": null,
            "grid_auto_rows": null,
            "grid_gap": null,
            "max_width": null,
            "order": null,
            "_view_module_version": "1.2.0",
            "grid_template_areas": null,
            "object_position": null,
            "object_fit": null,
            "grid_auto_columns": null,
            "margin": null,
            "display": null,
            "left": null
          }
        },
        "4d8f1030e51e45adb8486f6aa753f7c4": {
          "model_module": "@jupyter-widgets/base",
          "model_name": "LayoutModel",
          "state": {
            "_view_name": "LayoutView",
            "grid_template_rows": null,
            "right": null,
            "justify_content": null,
            "_view_module": "@jupyter-widgets/base",
            "overflow": null,
            "_model_module_version": "1.2.0",
            "_view_count": null,
            "flex_flow": null,
            "width": null,
            "min_width": null,
            "border": null,
            "align_items": null,
            "bottom": null,
            "_model_module": "@jupyter-widgets/base",
            "top": null,
            "grid_column": null,
            "overflow_y": null,
            "overflow_x": null,
            "grid_auto_flow": null,
            "grid_area": null,
            "grid_template_columns": null,
            "flex": null,
            "_model_name": "LayoutModel",
            "justify_items": null,
            "grid_row": null,
            "max_height": null,
            "align_content": null,
            "visibility": null,
            "align_self": null,
            "height": null,
            "min_height": null,
            "padding": null,
            "grid_auto_rows": null,
            "grid_gap": null,
            "max_width": null,
            "order": null,
            "_view_module_version": "1.2.0",
            "grid_template_areas": null,
            "object_position": null,
            "object_fit": null,
            "grid_auto_columns": null,
            "margin": null,
            "display": null,
            "left": null
          }
        },
        "11c1061e26f3423ca7f9362244681653": {
          "model_module": "@jupyter-widgets/controls",
          "model_name": "VBoxModel",
          "state": {
            "_view_name": "VBoxView",
            "_dom_classes": [
              "widget-interact"
            ],
            "_model_name": "VBoxModel",
            "_view_module": "@jupyter-widgets/controls",
            "_model_module_version": "1.5.0",
            "_view_count": null,
            "_view_module_version": "1.5.0",
            "box_style": "",
            "layout": "IPY_MODEL_0606a941208a4a008d012ddefe1aab68",
            "_model_module": "@jupyter-widgets/controls",
            "children": [
              "IPY_MODEL_0651360167504e7a86ae2eb847a15054",
              "IPY_MODEL_3792e163e49d4ca791184d748b25aef1"
            ]
          }
        },
        "0606a941208a4a008d012ddefe1aab68": {
          "model_module": "@jupyter-widgets/base",
          "model_name": "LayoutModel",
          "state": {
            "_view_name": "LayoutView",
            "grid_template_rows": null,
            "right": null,
            "justify_content": null,
            "_view_module": "@jupyter-widgets/base",
            "overflow": null,
            "_model_module_version": "1.2.0",
            "_view_count": null,
            "flex_flow": null,
            "width": null,
            "min_width": null,
            "border": null,
            "align_items": null,
            "bottom": null,
            "_model_module": "@jupyter-widgets/base",
            "top": null,
            "grid_column": null,
            "overflow_y": null,
            "overflow_x": null,
            "grid_auto_flow": null,
            "grid_area": null,
            "grid_template_columns": null,
            "flex": null,
            "_model_name": "LayoutModel",
            "justify_items": null,
            "grid_row": null,
            "max_height": null,
            "align_content": null,
            "visibility": null,
            "align_self": null,
            "height": null,
            "min_height": null,
            "padding": null,
            "grid_auto_rows": null,
            "grid_gap": null,
            "max_width": null,
            "order": null,
            "_view_module_version": "1.2.0",
            "grid_template_areas": null,
            "object_position": null,
            "object_fit": null,
            "grid_auto_columns": null,
            "margin": null,
            "display": null,
            "left": null
          }
        },
        "0651360167504e7a86ae2eb847a15054": {
          "model_module": "@jupyter-widgets/controls",
          "model_name": "IntSliderModel",
          "state": {
            "_view_name": "IntSliderView",
            "style": "IPY_MODEL_dfff698ee3be4d37be975e82a7e6e1bf",
            "_dom_classes": [],
            "description": "t",
            "step": 1,
            "_model_name": "IntSliderModel",
            "orientation": "horizontal",
            "max": 50,
            "_view_module": "@jupyter-widgets/controls",
            "_model_module_version": "1.5.0",
            "value": 1,
            "_view_count": null,
            "disabled": false,
            "_view_module_version": "1.5.0",
            "min": 1,
            "continuous_update": true,
            "readout_format": "d",
            "description_tooltip": null,
            "readout": true,
            "_model_module": "@jupyter-widgets/controls",
            "layout": "IPY_MODEL_920da300ca1a4c2281e9dabb90efaf6e"
          }
        },
        "3792e163e49d4ca791184d748b25aef1": {
          "model_module": "@jupyter-widgets/output",
          "model_name": "OutputModel",
          "state": {
            "_view_name": "OutputView",
            "msg_id": "",
            "_dom_classes": [],
            "_model_name": "OutputModel",
            "outputs": [
              {
                "output_type": "display_data",
                "metadata": {
                  "tags": [],
                  "needs_background": "light"
                },
                "image/png": "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\n",
                "text/plain": "<Figure size 432x288 with 1 Axes>"
              }
            ],
            "_view_module": "@jupyter-widgets/output",
            "_model_module_version": "1.0.0",
            "_view_count": null,
            "_view_module_version": "1.0.0",
            "layout": "IPY_MODEL_c5623b32ccbf4221972e510c35208543",
            "_model_module": "@jupyter-widgets/output"
          }
        },
        "dfff698ee3be4d37be975e82a7e6e1bf": {
          "model_module": "@jupyter-widgets/controls",
          "model_name": "SliderStyleModel",
          "state": {
            "_view_name": "StyleView",
            "handle_color": null,
            "_model_name": "SliderStyleModel",
            "description_width": "",
            "_view_module": "@jupyter-widgets/base",
            "_model_module_version": "1.5.0",
            "_view_count": null,
            "_view_module_version": "1.2.0",
            "_model_module": "@jupyter-widgets/controls"
          }
        },
        "920da300ca1a4c2281e9dabb90efaf6e": {
          "model_module": "@jupyter-widgets/base",
          "model_name": "LayoutModel",
          "state": {
            "_view_name": "LayoutView",
            "grid_template_rows": null,
            "right": null,
            "justify_content": null,
            "_view_module": "@jupyter-widgets/base",
            "overflow": null,
            "_model_module_version": "1.2.0",
            "_view_count": null,
            "flex_flow": null,
            "width": null,
            "min_width": null,
            "border": null,
            "align_items": null,
            "bottom": null,
            "_model_module": "@jupyter-widgets/base",
            "top": null,
            "grid_column": null,
            "overflow_y": null,
            "overflow_x": null,
            "grid_auto_flow": null,
            "grid_area": null,
            "grid_template_columns": null,
            "flex": null,
            "_model_name": "LayoutModel",
            "justify_items": null,
            "grid_row": null,
            "max_height": null,
            "align_content": null,
            "visibility": null,
            "align_self": null,
            "height": null,
            "min_height": null,
            "padding": null,
            "grid_auto_rows": null,
            "grid_gap": null,
            "max_width": null,
            "order": null,
            "_view_module_version": "1.2.0",
            "grid_template_areas": null,
            "object_position": null,
            "object_fit": null,
            "grid_auto_columns": null,
            "margin": null,
            "display": null,
            "left": null
          }
        },
        "c5623b32ccbf4221972e510c35208543": {
          "model_module": "@jupyter-widgets/base",
          "model_name": "LayoutModel",
          "state": {
            "_view_name": "LayoutView",
            "grid_template_rows": null,
            "right": null,
            "justify_content": null,
            "_view_module": "@jupyter-widgets/base",
            "overflow": null,
            "_model_module_version": "1.2.0",
            "_view_count": null,
            "flex_flow": null,
            "width": null,
            "min_width": null,
            "border": null,
            "align_items": null,
            "bottom": null,
            "_model_module": "@jupyter-widgets/base",
            "top": null,
            "grid_column": null,
            "overflow_y": null,
            "overflow_x": null,
            "grid_auto_flow": null,
            "grid_area": null,
            "grid_template_columns": null,
            "flex": null,
            "_model_name": "LayoutModel",
            "justify_items": null,
            "grid_row": null,
            "max_height": null,
            "align_content": null,
            "visibility": null,
            "align_self": null,
            "height": null,
            "min_height": null,
            "padding": null,
            "grid_auto_rows": null,
            "grid_gap": null,
            "max_width": null,
            "order": null,
            "_view_module_version": "1.2.0",
            "grid_template_areas": null,
            "object_position": null,
            "object_fit": null,
            "grid_auto_columns": null,
            "margin": null,
            "display": null,
            "left": null
          }
        },
        "4860bc8db9f044b99c6a5b3990e07f25": {
          "model_module": "@jupyter-widgets/controls",
          "model_name": "VBoxModel",
          "state": {
            "_view_name": "VBoxView",
            "_dom_classes": [
              "widget-interact"
            ],
            "_model_name": "VBoxModel",
            "_view_module": "@jupyter-widgets/controls",
            "_model_module_version": "1.5.0",
            "_view_count": null,
            "_view_module_version": "1.5.0",
            "box_style": "",
            "layout": "IPY_MODEL_2f1fc5ddf731406b907e20f8e59c6197",
            "_model_module": "@jupyter-widgets/controls",
            "children": [
              "IPY_MODEL_ffad14c0546247c1a9a032d180f5d980",
              "IPY_MODEL_58570c5fa168416d9f866a054e89c20e"
            ]
          }
        },
        "2f1fc5ddf731406b907e20f8e59c6197": {
          "model_module": "@jupyter-widgets/base",
          "model_name": "LayoutModel",
          "state": {
            "_view_name": "LayoutView",
            "grid_template_rows": null,
            "right": null,
            "justify_content": null,
            "_view_module": "@jupyter-widgets/base",
            "overflow": null,
            "_model_module_version": "1.2.0",
            "_view_count": null,
            "flex_flow": null,
            "width": null,
            "min_width": null,
            "border": null,
            "align_items": null,
            "bottom": null,
            "_model_module": "@jupyter-widgets/base",
            "top": null,
            "grid_column": null,
            "overflow_y": null,
            "overflow_x": null,
            "grid_auto_flow": null,
            "grid_area": null,
            "grid_template_columns": null,
            "flex": null,
            "_model_name": "LayoutModel",
            "justify_items": null,
            "grid_row": null,
            "max_height": null,
            "align_content": null,
            "visibility": null,
            "align_self": null,
            "height": null,
            "min_height": null,
            "padding": null,
            "grid_auto_rows": null,
            "grid_gap": null,
            "max_width": null,
            "order": null,
            "_view_module_version": "1.2.0",
            "grid_template_areas": null,
            "object_position": null,
            "object_fit": null,
            "grid_auto_columns": null,
            "margin": null,
            "display": null,
            "left": null
          }
        },
        "ffad14c0546247c1a9a032d180f5d980": {
          "model_module": "@jupyter-widgets/controls",
          "model_name": "IntSliderModel",
          "state": {
            "_view_name": "IntSliderView",
            "style": "IPY_MODEL_9eba9adc8baa4642a5cc03fb5c88f072",
            "_dom_classes": [],
            "description": "t",
            "step": 1,
            "_model_name": "IntSliderModel",
            "orientation": "horizontal",
            "max": 50,
            "_view_module": "@jupyter-widgets/controls",
            "_model_module_version": "1.5.0",
            "value": 1,
            "_view_count": null,
            "disabled": false,
            "_view_module_version": "1.5.0",
            "min": 1,
            "continuous_update": true,
            "readout_format": "d",
            "description_tooltip": null,
            "readout": true,
            "_model_module": "@jupyter-widgets/controls",
            "layout": "IPY_MODEL_c7bc295271bc483e8572e53c1c4127dc"
          }
        },
        "58570c5fa168416d9f866a054e89c20e": {
          "model_module": "@jupyter-widgets/output",
          "model_name": "OutputModel",
          "state": {
            "_view_name": "OutputView",
            "msg_id": "",
            "_dom_classes": [],
            "_model_name": "OutputModel",
            "outputs": [
              {
                "output_type": "display_data",
                "metadata": {
                  "tags": [],
                  "needs_background": "light"
                },
                "image/png": "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\n",
                "text/plain": "<Figure size 432x288 with 1 Axes>"
              }
            ],
            "_view_module": "@jupyter-widgets/output",
            "_model_module_version": "1.0.0",
            "_view_count": null,
            "_view_module_version": "1.0.0",
            "layout": "IPY_MODEL_961afab89e324246b68eb6ae3b4dd2b9",
            "_model_module": "@jupyter-widgets/output"
          }
        },
        "9eba9adc8baa4642a5cc03fb5c88f072": {
          "model_module": "@jupyter-widgets/controls",
          "model_name": "SliderStyleModel",
          "state": {
            "_view_name": "StyleView",
            "handle_color": null,
            "_model_name": "SliderStyleModel",
            "description_width": "",
            "_view_module": "@jupyter-widgets/base",
            "_model_module_version": "1.5.0",
            "_view_count": null,
            "_view_module_version": "1.2.0",
            "_model_module": "@jupyter-widgets/controls"
          }
        },
        "c7bc295271bc483e8572e53c1c4127dc": {
          "model_module": "@jupyter-widgets/base",
          "model_name": "LayoutModel",
          "state": {
            "_view_name": "LayoutView",
            "grid_template_rows": null,
            "right": null,
            "justify_content": null,
            "_view_module": "@jupyter-widgets/base",
            "overflow": null,
            "_model_module_version": "1.2.0",
            "_view_count": null,
            "flex_flow": null,
            "width": null,
            "min_width": null,
            "border": null,
            "align_items": null,
            "bottom": null,
            "_model_module": "@jupyter-widgets/base",
            "top": null,
            "grid_column": null,
            "overflow_y": null,
            "overflow_x": null,
            "grid_auto_flow": null,
            "grid_area": null,
            "grid_template_columns": null,
            "flex": null,
            "_model_name": "LayoutModel",
            "justify_items": null,
            "grid_row": null,
            "max_height": null,
            "align_content": null,
            "visibility": null,
            "align_self": null,
            "height": null,
            "min_height": null,
            "padding": null,
            "grid_auto_rows": null,
            "grid_gap": null,
            "max_width": null,
            "order": null,
            "_view_module_version": "1.2.0",
            "grid_template_areas": null,
            "object_position": null,
            "object_fit": null,
            "grid_auto_columns": null,
            "margin": null,
            "display": null,
            "left": null
          }
        },
        "961afab89e324246b68eb6ae3b4dd2b9": {
          "model_module": "@jupyter-widgets/base",
          "model_name": "LayoutModel",
          "state": {
            "_view_name": "LayoutView",
            "grid_template_rows": null,
            "right": null,
            "justify_content": null,
            "_view_module": "@jupyter-widgets/base",
            "overflow": null,
            "_model_module_version": "1.2.0",
            "_view_count": null,
            "flex_flow": null,
            "width": null,
            "min_width": null,
            "border": null,
            "align_items": null,
            "bottom": null,
            "_model_module": "@jupyter-widgets/base",
            "top": null,
            "grid_column": null,
            "overflow_y": null,
            "overflow_x": null,
            "grid_auto_flow": null,
            "grid_area": null,
            "grid_template_columns": null,
            "flex": null,
            "_model_name": "LayoutModel",
            "justify_items": null,
            "grid_row": null,
            "max_height": null,
            "align_content": null,
            "visibility": null,
            "align_self": null,
            "height": null,
            "min_height": null,
            "padding": null,
            "grid_auto_rows": null,
            "grid_gap": null,
            "max_width": null,
            "order": null,
            "_view_module_version": "1.2.0",
            "grid_template_areas": null,
            "object_position": null,
            "object_fit": null,
            "grid_auto_columns": null,
            "margin": null,
            "display": null,
            "left": null
          }
        },
        "a898154c81374ab8938ccf59664d1f65": {
          "model_module": "@jupyter-widgets/controls",
          "model_name": "VBoxModel",
          "state": {
            "_view_name": "VBoxView",
            "_dom_classes": [
              "widget-interact"
            ],
            "_model_name": "VBoxModel",
            "_view_module": "@jupyter-widgets/controls",
            "_model_module_version": "1.5.0",
            "_view_count": null,
            "_view_module_version": "1.5.0",
            "box_style": "",
            "layout": "IPY_MODEL_48f373bc7d8c43089b8420be76b71c22",
            "_model_module": "@jupyter-widgets/controls",
            "children": [
              "IPY_MODEL_d3e2bc4bb9474ecd96e06ec2338c66a3",
              "IPY_MODEL_63db33fd2ad94c9cbbc67f66b59a60fc"
            ]
          }
        },
        "48f373bc7d8c43089b8420be76b71c22": {
          "model_module": "@jupyter-widgets/base",
          "model_name": "LayoutModel",
          "state": {
            "_view_name": "LayoutView",
            "grid_template_rows": null,
            "right": null,
            "justify_content": null,
            "_view_module": "@jupyter-widgets/base",
            "overflow": null,
            "_model_module_version": "1.2.0",
            "_view_count": null,
            "flex_flow": null,
            "width": null,
            "min_width": null,
            "border": null,
            "align_items": null,
            "bottom": null,
            "_model_module": "@jupyter-widgets/base",
            "top": null,
            "grid_column": null,
            "overflow_y": null,
            "overflow_x": null,
            "grid_auto_flow": null,
            "grid_area": null,
            "grid_template_columns": null,
            "flex": null,
            "_model_name": "LayoutModel",
            "justify_items": null,
            "grid_row": null,
            "max_height": null,
            "align_content": null,
            "visibility": null,
            "align_self": null,
            "height": null,
            "min_height": null,
            "padding": null,
            "grid_auto_rows": null,
            "grid_gap": null,
            "max_width": null,
            "order": null,
            "_view_module_version": "1.2.0",
            "grid_template_areas": null,
            "object_position": null,
            "object_fit": null,
            "grid_auto_columns": null,
            "margin": null,
            "display": null,
            "left": null
          }
        },
        "d3e2bc4bb9474ecd96e06ec2338c66a3": {
          "model_module": "@jupyter-widgets/controls",
          "model_name": "IntSliderModel",
          "state": {
            "_view_name": "IntSliderView",
            "style": "IPY_MODEL_94e76c4635844a84ac2cc1ccd338706b",
            "_dom_classes": [],
            "description": "x",
            "step": 1,
            "_model_name": "IntSliderModel",
            "orientation": "horizontal",
            "max": 99,
            "_view_module": "@jupyter-widgets/controls",
            "_model_module_version": "1.5.0",
            "value": -1,
            "_view_count": null,
            "disabled": false,
            "_view_module_version": "1.5.0",
            "min": -100,
            "continuous_update": true,
            "readout_format": "d",
            "description_tooltip": null,
            "readout": true,
            "_model_module": "@jupyter-widgets/controls",
            "layout": "IPY_MODEL_692b3e27e88a481483f08cc07b3a25e0"
          }
        },
        "63db33fd2ad94c9cbbc67f66b59a60fc": {
          "model_module": "@jupyter-widgets/output",
          "model_name": "OutputModel",
          "state": {
            "_view_name": "OutputView",
            "msg_id": "",
            "_dom_classes": [],
            "_model_name": "OutputModel",
            "outputs": [
              {
                "output_type": "display_data",
                "metadata": {
                  "tags": [],
                  "needs_background": "light"
                },
                "image/png": "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\n",
                "text/plain": "<Figure size 432x288 with 1 Axes>"
              }
            ],
            "_view_module": "@jupyter-widgets/output",
            "_model_module_version": "1.0.0",
            "_view_count": null,
            "_view_module_version": "1.0.0",
            "layout": "IPY_MODEL_fa5f16a1cbd141e899111e8126018693",
            "_model_module": "@jupyter-widgets/output"
          }
        },
        "94e76c4635844a84ac2cc1ccd338706b": {
          "model_module": "@jupyter-widgets/controls",
          "model_name": "SliderStyleModel",
          "state": {
            "_view_name": "StyleView",
            "handle_color": null,
            "_model_name": "SliderStyleModel",
            "description_width": "",
            "_view_module": "@jupyter-widgets/base",
            "_model_module_version": "1.5.0",
            "_view_count": null,
            "_view_module_version": "1.2.0",
            "_model_module": "@jupyter-widgets/controls"
          }
        },
        "692b3e27e88a481483f08cc07b3a25e0": {
          "model_module": "@jupyter-widgets/base",
          "model_name": "LayoutModel",
          "state": {
            "_view_name": "LayoutView",
            "grid_template_rows": null,
            "right": null,
            "justify_content": null,
            "_view_module": "@jupyter-widgets/base",
            "overflow": null,
            "_model_module_version": "1.2.0",
            "_view_count": null,
            "flex_flow": null,
            "width": null,
            "min_width": null,
            "border": null,
            "align_items": null,
            "bottom": null,
            "_model_module": "@jupyter-widgets/base",
            "top": null,
            "grid_column": null,
            "overflow_y": null,
            "overflow_x": null,
            "grid_auto_flow": null,
            "grid_area": null,
            "grid_template_columns": null,
            "flex": null,
            "_model_name": "LayoutModel",
            "justify_items": null,
            "grid_row": null,
            "max_height": null,
            "align_content": null,
            "visibility": null,
            "align_self": null,
            "height": null,
            "min_height": null,
            "padding": null,
            "grid_auto_rows": null,
            "grid_gap": null,
            "max_width": null,
            "order": null,
            "_view_module_version": "1.2.0",
            "grid_template_areas": null,
            "object_position": null,
            "object_fit": null,
            "grid_auto_columns": null,
            "margin": null,
            "display": null,
            "left": null
          }
        },
        "fa5f16a1cbd141e899111e8126018693": {
          "model_module": "@jupyter-widgets/base",
          "model_name": "LayoutModel",
          "state": {
            "_view_name": "LayoutView",
            "grid_template_rows": null,
            "right": null,
            "justify_content": null,
            "_view_module": "@jupyter-widgets/base",
            "overflow": null,
            "_model_module_version": "1.2.0",
            "_view_count": null,
            "flex_flow": null,
            "width": null,
            "min_width": null,
            "border": null,
            "align_items": null,
            "bottom": null,
            "_model_module": "@jupyter-widgets/base",
            "top": null,
            "grid_column": null,
            "overflow_y": null,
            "overflow_x": null,
            "grid_auto_flow": null,
            "grid_area": null,
            "grid_template_columns": null,
            "flex": null,
            "_model_name": "LayoutModel",
            "justify_items": null,
            "grid_row": null,
            "max_height": null,
            "align_content": null,
            "visibility": null,
            "align_self": null,
            "height": null,
            "min_height": null,
            "padding": null,
            "grid_auto_rows": null,
            "grid_gap": null,
            "max_width": null,
            "order": null,
            "_view_module_version": "1.2.0",
            "grid_template_areas": null,
            "object_position": null,
            "object_fit": null,
            "grid_auto_columns": null,
            "margin": null,
            "display": null,
            "left": null
          }
        },
        "026bdd29227d41499c3840a5424fd93e": {
          "model_module": "@jupyter-widgets/controls",
          "model_name": "VBoxModel",
          "state": {
            "_view_name": "VBoxView",
            "_dom_classes": [
              "widget-interact"
            ],
            "_model_name": "VBoxModel",
            "_view_module": "@jupyter-widgets/controls",
            "_model_module_version": "1.5.0",
            "_view_count": null,
            "_view_module_version": "1.5.0",
            "box_style": "",
            "layout": "IPY_MODEL_58e11ee0e76341d2881e5f1bedb178d8",
            "_model_module": "@jupyter-widgets/controls",
            "children": [
              "IPY_MODEL_cf277f9fcba44f86b662bd612f3ed8c9",
              "IPY_MODEL_e82d9787763c416a858793918442ed9d"
            ]
          }
        },
        "58e11ee0e76341d2881e5f1bedb178d8": {
          "model_module": "@jupyter-widgets/base",
          "model_name": "LayoutModel",
          "state": {
            "_view_name": "LayoutView",
            "grid_template_rows": null,
            "right": null,
            "justify_content": null,
            "_view_module": "@jupyter-widgets/base",
            "overflow": null,
            "_model_module_version": "1.2.0",
            "_view_count": null,
            "flex_flow": null,
            "width": null,
            "min_width": null,
            "border": null,
            "align_items": null,
            "bottom": null,
            "_model_module": "@jupyter-widgets/base",
            "top": null,
            "grid_column": null,
            "overflow_y": null,
            "overflow_x": null,
            "grid_auto_flow": null,
            "grid_area": null,
            "grid_template_columns": null,
            "flex": null,
            "_model_name": "LayoutModel",
            "justify_items": null,
            "grid_row": null,
            "max_height": null,
            "align_content": null,
            "visibility": null,
            "align_self": null,
            "height": null,
            "min_height": null,
            "padding": null,
            "grid_auto_rows": null,
            "grid_gap": null,
            "max_width": null,
            "order": null,
            "_view_module_version": "1.2.0",
            "grid_template_areas": null,
            "object_position": null,
            "object_fit": null,
            "grid_auto_columns": null,
            "margin": null,
            "display": null,
            "left": null
          }
        },
        "cf277f9fcba44f86b662bd612f3ed8c9": {
          "model_module": "@jupyter-widgets/controls",
          "model_name": "IntSliderModel",
          "state": {
            "_view_name": "IntSliderView",
            "style": "IPY_MODEL_7e65f4ce42b24928bcb484d21c22f612",
            "_dom_classes": [],
            "description": "x",
            "step": 1,
            "_model_name": "IntSliderModel",
            "orientation": "horizontal",
            "max": 99,
            "_view_module": "@jupyter-widgets/controls",
            "_model_module_version": "1.5.0",
            "value": -1,
            "_view_count": null,
            "disabled": false,
            "_view_module_version": "1.5.0",
            "min": -100,
            "continuous_update": true,
            "readout_format": "d",
            "description_tooltip": null,
            "readout": true,
            "_model_module": "@jupyter-widgets/controls",
            "layout": "IPY_MODEL_5c5afc22b26048f2855d9e0146b9f123"
          }
        },
        "e82d9787763c416a858793918442ed9d": {
          "model_module": "@jupyter-widgets/output",
          "model_name": "OutputModel",
          "state": {
            "_view_name": "OutputView",
            "msg_id": "",
            "_dom_classes": [],
            "_model_name": "OutputModel",
            "outputs": [
              {
                "output_type": "display_data",
                "metadata": {
                  "tags": [],
                  "needs_background": "light"
                },
                "image/png": "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\n",
                "text/plain": "<Figure size 432x288 with 1 Axes>"
              }
            ],
            "_view_module": "@jupyter-widgets/output",
            "_model_module_version": "1.0.0",
            "_view_count": null,
            "_view_module_version": "1.0.0",
            "layout": "IPY_MODEL_3b52b1c13b524e1db4e0ed1ba65dfb1a",
            "_model_module": "@jupyter-widgets/output"
          }
        },
        "7e65f4ce42b24928bcb484d21c22f612": {
          "model_module": "@jupyter-widgets/controls",
          "model_name": "SliderStyleModel",
          "state": {
            "_view_name": "StyleView",
            "handle_color": null,
            "_model_name": "SliderStyleModel",
            "description_width": "",
            "_view_module": "@jupyter-widgets/base",
            "_model_module_version": "1.5.0",
            "_view_count": null,
            "_view_module_version": "1.2.0",
            "_model_module": "@jupyter-widgets/controls"
          }
        },
        "5c5afc22b26048f2855d9e0146b9f123": {
          "model_module": "@jupyter-widgets/base",
          "model_name": "LayoutModel",
          "state": {
            "_view_name": "LayoutView",
            "grid_template_rows": null,
            "right": null,
            "justify_content": null,
            "_view_module": "@jupyter-widgets/base",
            "overflow": null,
            "_model_module_version": "1.2.0",
            "_view_count": null,
            "flex_flow": null,
            "width": null,
            "min_width": null,
            "border": null,
            "align_items": null,
            "bottom": null,
            "_model_module": "@jupyter-widgets/base",
            "top": null,
            "grid_column": null,
            "overflow_y": null,
            "overflow_x": null,
            "grid_auto_flow": null,
            "grid_area": null,
            "grid_template_columns": null,
            "flex": null,
            "_model_name": "LayoutModel",
            "justify_items": null,
            "grid_row": null,
            "max_height": null,
            "align_content": null,
            "visibility": null,
            "align_self": null,
            "height": null,
            "min_height": null,
            "padding": null,
            "grid_auto_rows": null,
            "grid_gap": null,
            "max_width": null,
            "order": null,
            "_view_module_version": "1.2.0",
            "grid_template_areas": null,
            "object_position": null,
            "object_fit": null,
            "grid_auto_columns": null,
            "margin": null,
            "display": null,
            "left": null
          }
        },
        "3b52b1c13b524e1db4e0ed1ba65dfb1a": {
          "model_module": "@jupyter-widgets/base",
          "model_name": "LayoutModel",
          "state": {
            "_view_name": "LayoutView",
            "grid_template_rows": null,
            "right": null,
            "justify_content": null,
            "_view_module": "@jupyter-widgets/base",
            "overflow": null,
            "_model_module_version": "1.2.0",
            "_view_count": null,
            "flex_flow": null,
            "width": null,
            "min_width": null,
            "border": null,
            "align_items": null,
            "bottom": null,
            "_model_module": "@jupyter-widgets/base",
            "top": null,
            "grid_column": null,
            "overflow_y": null,
            "overflow_x": null,
            "grid_auto_flow": null,
            "grid_area": null,
            "grid_template_columns": null,
            "flex": null,
            "_model_name": "LayoutModel",
            "justify_items": null,
            "grid_row": null,
            "max_height": null,
            "align_content": null,
            "visibility": null,
            "align_self": null,
            "height": null,
            "min_height": null,
            "padding": null,
            "grid_auto_rows": null,
            "grid_gap": null,
            "max_width": null,
            "order": null,
            "_view_module_version": "1.2.0",
            "grid_template_areas": null,
            "object_position": null,
            "object_fit": null,
            "grid_auto_columns": null,
            "margin": null,
            "display": null,
            "left": null
          }
        },
        "ec721407eb854c25844b04bb76a5bc45": {
          "model_module": "@jupyter-widgets/controls",
          "model_name": "VBoxModel",
          "state": {
            "_view_name": "VBoxView",
            "_dom_classes": [
              "widget-interact"
            ],
            "_model_name": "VBoxModel",
            "_view_module": "@jupyter-widgets/controls",
            "_model_module_version": "1.5.0",
            "_view_count": null,
            "_view_module_version": "1.5.0",
            "box_style": "",
            "layout": "IPY_MODEL_8b2f35a524054ab09b89a6ff10b6ac87",
            "_model_module": "@jupyter-widgets/controls",
            "children": [
              "IPY_MODEL_e5926b4fc33d49e4ba5f9e565c1a0fae",
              "IPY_MODEL_3d29fadeb1a04d038c4971fc87c4ddbf",
              "IPY_MODEL_e55fb42e3c3f42d58ff39573a4024a76",
              "IPY_MODEL_3642e44f425f4ca784020eb6ba595115"
            ]
          }
        },
        "8b2f35a524054ab09b89a6ff10b6ac87": {
          "model_module": "@jupyter-widgets/base",
          "model_name": "LayoutModel",
          "state": {
            "_view_name": "LayoutView",
            "grid_template_rows": null,
            "right": null,
            "justify_content": null,
            "_view_module": "@jupyter-widgets/base",
            "overflow": null,
            "_model_module_version": "1.2.0",
            "_view_count": null,
            "flex_flow": null,
            "width": null,
            "min_width": null,
            "border": null,
            "align_items": null,
            "bottom": null,
            "_model_module": "@jupyter-widgets/base",
            "top": null,
            "grid_column": null,
            "overflow_y": null,
            "overflow_x": null,
            "grid_auto_flow": null,
            "grid_area": null,
            "grid_template_columns": null,
            "flex": null,
            "_model_name": "LayoutModel",
            "justify_items": null,
            "grid_row": null,
            "max_height": null,
            "align_content": null,
            "visibility": null,
            "align_self": null,
            "height": null,
            "min_height": null,
            "padding": null,
            "grid_auto_rows": null,
            "grid_gap": null,
            "max_width": null,
            "order": null,
            "_view_module_version": "1.2.0",
            "grid_template_areas": null,
            "object_position": null,
            "object_fit": null,
            "grid_auto_columns": null,
            "margin": null,
            "display": null,
            "left": null
          }
        },
        "e5926b4fc33d49e4ba5f9e565c1a0fae": {
          "model_module": "@jupyter-widgets/controls",
          "model_name": "IntSliderModel",
          "state": {
            "_view_name": "IntSliderView",
            "style": "IPY_MODEL_4de6f655b19f458385912597b219809d",
            "_dom_classes": [],
            "description": "t",
            "step": 1,
            "_model_name": "IntSliderModel",
            "orientation": "horizontal",
            "max": 50,
            "_view_module": "@jupyter-widgets/controls",
            "_model_module_version": "1.5.0",
            "value": 1,
            "_view_count": null,
            "disabled": false,
            "_view_module_version": "1.5.0",
            "min": 1,
            "continuous_update": true,
            "readout_format": "d",
            "description_tooltip": null,
            "readout": true,
            "_model_module": "@jupyter-widgets/controls",
            "layout": "IPY_MODEL_3bd8491c144d4d8088a353bb30dcc4e9"
          }
        },
        "3d29fadeb1a04d038c4971fc87c4ddbf": {
          "model_module": "@jupyter-widgets/controls",
          "model_name": "FloatSliderModel",
          "state": {
            "_view_name": "FloatSliderView",
            "style": "IPY_MODEL_2cca59dfee904a07b08cffdde75d141c",
            "_dom_classes": [],
            "description": "D_x",
            "step": 0.1,
            "_model_name": "FloatSliderModel",
            "orientation": "horizontal",
            "max": 5,
            "_view_module": "@jupyter-widgets/controls",
            "_model_module_version": "1.5.0",
            "value": 2.5000000000000004,
            "_view_count": null,
            "disabled": false,
            "_view_module_version": "1.5.0",
            "min": 0.1,
            "continuous_update": true,
            "readout_format": ".2f",
            "description_tooltip": null,
            "readout": true,
            "_model_module": "@jupyter-widgets/controls",
            "layout": "IPY_MODEL_169e68cb5fbf47f6925bb9ad27788e64"
          }
        },
        "e55fb42e3c3f42d58ff39573a4024a76": {
          "model_module": "@jupyter-widgets/controls",
          "model_name": "FloatSliderModel",
          "state": {
            "_view_name": "FloatSliderView",
            "style": "IPY_MODEL_1a3e0de9436a4d9eaa2e472de41df79a",
            "_dom_classes": [],
            "description": "D_y",
            "step": 0.1,
            "_model_name": "FloatSliderModel",
            "orientation": "horizontal",
            "max": 5,
            "_view_module": "@jupyter-widgets/controls",
            "_model_module_version": "1.5.0",
            "value": 2.5000000000000004,
            "_view_count": null,
            "disabled": false,
            "_view_module_version": "1.5.0",
            "min": 0.1,
            "continuous_update": true,
            "readout_format": ".2f",
            "description_tooltip": null,
            "readout": true,
            "_model_module": "@jupyter-widgets/controls",
            "layout": "IPY_MODEL_9565865004b54c6f862c54d9babfd397"
          }
        },
        "3642e44f425f4ca784020eb6ba595115": {
          "model_module": "@jupyter-widgets/output",
          "model_name": "OutputModel",
          "state": {
            "_view_name": "OutputView",
            "msg_id": "",
            "_dom_classes": [],
            "_model_name": "OutputModel",
            "outputs": [
              {
                "output_type": "display_data",
                "metadata": {
                  "tags": [],
                  "needs_background": "light"
                },
                "image/png": "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\n",
                "text/plain": "<Figure size 720x720 with 1 Axes>"
              }
            ],
            "_view_module": "@jupyter-widgets/output",
            "_model_module_version": "1.0.0",
            "_view_count": null,
            "_view_module_version": "1.0.0",
            "layout": "IPY_MODEL_ffda1bf8a4ce4789bc5f54271273da1a",
            "_model_module": "@jupyter-widgets/output"
          }
        },
        "4de6f655b19f458385912597b219809d": {
          "model_module": "@jupyter-widgets/controls",
          "model_name": "SliderStyleModel",
          "state": {
            "_view_name": "StyleView",
            "handle_color": null,
            "_model_name": "SliderStyleModel",
            "description_width": "",
            "_view_module": "@jupyter-widgets/base",
            "_model_module_version": "1.5.0",
            "_view_count": null,
            "_view_module_version": "1.2.0",
            "_model_module": "@jupyter-widgets/controls"
          }
        },
        "3bd8491c144d4d8088a353bb30dcc4e9": {
          "model_module": "@jupyter-widgets/base",
          "model_name": "LayoutModel",
          "state": {
            "_view_name": "LayoutView",
            "grid_template_rows": null,
            "right": null,
            "justify_content": null,
            "_view_module": "@jupyter-widgets/base",
            "overflow": null,
            "_model_module_version": "1.2.0",
            "_view_count": null,
            "flex_flow": null,
            "width": null,
            "min_width": null,
            "border": null,
            "align_items": null,
            "bottom": null,
            "_model_module": "@jupyter-widgets/base",
            "top": null,
            "grid_column": null,
            "overflow_y": null,
            "overflow_x": null,
            "grid_auto_flow": null,
            "grid_area": null,
            "grid_template_columns": null,
            "flex": null,
            "_model_name": "LayoutModel",
            "justify_items": null,
            "grid_row": null,
            "max_height": null,
            "align_content": null,
            "visibility": null,
            "align_self": null,
            "height": null,
            "min_height": null,
            "padding": null,
            "grid_auto_rows": null,
            "grid_gap": null,
            "max_width": null,
            "order": null,
            "_view_module_version": "1.2.0",
            "grid_template_areas": null,
            "object_position": null,
            "object_fit": null,
            "grid_auto_columns": null,
            "margin": null,
            "display": null,
            "left": null
          }
        },
        "2cca59dfee904a07b08cffdde75d141c": {
          "model_module": "@jupyter-widgets/controls",
          "model_name": "SliderStyleModel",
          "state": {
            "_view_name": "StyleView",
            "handle_color": null,
            "_model_name": "SliderStyleModel",
            "description_width": "",
            "_view_module": "@jupyter-widgets/base",
            "_model_module_version": "1.5.0",
            "_view_count": null,
            "_view_module_version": "1.2.0",
            "_model_module": "@jupyter-widgets/controls"
          }
        },
        "169e68cb5fbf47f6925bb9ad27788e64": {
          "model_module": "@jupyter-widgets/base",
          "model_name": "LayoutModel",
          "state": {
            "_view_name": "LayoutView",
            "grid_template_rows": null,
            "right": null,
            "justify_content": null,
            "_view_module": "@jupyter-widgets/base",
            "overflow": null,
            "_model_module_version": "1.2.0",
            "_view_count": null,
            "flex_flow": null,
            "width": null,
            "min_width": null,
            "border": null,
            "align_items": null,
            "bottom": null,
            "_model_module": "@jupyter-widgets/base",
            "top": null,
            "grid_column": null,
            "overflow_y": null,
            "overflow_x": null,
            "grid_auto_flow": null,
            "grid_area": null,
            "grid_template_columns": null,
            "flex": null,
            "_model_name": "LayoutModel",
            "justify_items": null,
            "grid_row": null,
            "max_height": null,
            "align_content": null,
            "visibility": null,
            "align_self": null,
            "height": null,
            "min_height": null,
            "padding": null,
            "grid_auto_rows": null,
            "grid_gap": null,
            "max_width": null,
            "order": null,
            "_view_module_version": "1.2.0",
            "grid_template_areas": null,
            "object_position": null,
            "object_fit": null,
            "grid_auto_columns": null,
            "margin": null,
            "display": null,
            "left": null
          }
        },
        "1a3e0de9436a4d9eaa2e472de41df79a": {
          "model_module": "@jupyter-widgets/controls",
          "model_name": "SliderStyleModel",
          "state": {
            "_view_name": "StyleView",
            "handle_color": null,
            "_model_name": "SliderStyleModel",
            "description_width": "",
            "_view_module": "@jupyter-widgets/base",
            "_model_module_version": "1.5.0",
            "_view_count": null,
            "_view_module_version": "1.2.0",
            "_model_module": "@jupyter-widgets/controls"
          }
        },
        "9565865004b54c6f862c54d9babfd397": {
          "model_module": "@jupyter-widgets/base",
          "model_name": "LayoutModel",
          "state": {
            "_view_name": "LayoutView",
            "grid_template_rows": null,
            "right": null,
            "justify_content": null,
            "_view_module": "@jupyter-widgets/base",
            "overflow": null,
            "_model_module_version": "1.2.0",
            "_view_count": null,
            "flex_flow": null,
            "width": null,
            "min_width": null,
            "border": null,
            "align_items": null,
            "bottom": null,
            "_model_module": "@jupyter-widgets/base",
            "top": null,
            "grid_column": null,
            "overflow_y": null,
            "overflow_x": null,
            "grid_auto_flow": null,
            "grid_area": null,
            "grid_template_columns": null,
            "flex": null,
            "_model_name": "LayoutModel",
            "justify_items": null,
            "grid_row": null,
            "max_height": null,
            "align_content": null,
            "visibility": null,
            "align_self": null,
            "height": null,
            "min_height": null,
            "padding": null,
            "grid_auto_rows": null,
            "grid_gap": null,
            "max_width": null,
            "order": null,
            "_view_module_version": "1.2.0",
            "grid_template_areas": null,
            "object_position": null,
            "object_fit": null,
            "grid_auto_columns": null,
            "margin": null,
            "display": null,
            "left": null
          }
        },
        "ffda1bf8a4ce4789bc5f54271273da1a": {
          "model_module": "@jupyter-widgets/base",
          "model_name": "LayoutModel",
          "state": {
            "_view_name": "LayoutView",
            "grid_template_rows": null,
            "right": null,
            "justify_content": null,
            "_view_module": "@jupyter-widgets/base",
            "overflow": null,
            "_model_module_version": "1.2.0",
            "_view_count": null,
            "flex_flow": null,
            "width": null,
            "min_width": null,
            "border": null,
            "align_items": null,
            "bottom": null,
            "_model_module": "@jupyter-widgets/base",
            "top": null,
            "grid_column": null,
            "overflow_y": null,
            "overflow_x": null,
            "grid_auto_flow": null,
            "grid_area": null,
            "grid_template_columns": null,
            "flex": null,
            "_model_name": "LayoutModel",
            "justify_items": null,
            "grid_row": null,
            "max_height": null,
            "align_content": null,
            "visibility": null,
            "align_self": null,
            "height": null,
            "min_height": null,
            "padding": null,
            "grid_auto_rows": null,
            "grid_gap": null,
            "max_width": null,
            "order": null,
            "_view_module_version": "1.2.0",
            "grid_template_areas": null,
            "object_position": null,
            "object_fit": null,
            "grid_auto_columns": null,
            "margin": null,
            "display": null,
            "left": null
          }
        }
      }
    }
  },
  "cells": [
    {
      "cell_type": "markdown",
      "metadata": {
        "id": "9XF-TuNgXuA0"
      },
      "source": [
        "# Fourier methods for solvinge PDEs\r\n",
        "In the problem set you looked the diffusion advection equation and how this can be solved by Fourier methods. You solved this for an initial condition of a point source of dye.\r\n",
        "\r\n",
        "In the second part you looked at generalising this method and found that for a general initial condition the evolution can be expressed through convolutions. This workbook allows you to investigate some standard example numerically."
      ]
    },
    {
      "cell_type": "markdown",
      "metadata": {
        "id": "rsPKEaz7-ABt"
      },
      "source": [
        "## Initialisation code\r\n",
        "\r\n",
        "These few cells produce some functions for finding (to a good approximation) the various functions that we're interested in.  You don't need to understand the details of how any of this works, but feel free to ask.\r\n",
        "\r\n",
        "**You need to run all the cells in this section for anything to work.**"
      ]
    },
    {
      "cell_type": "code",
      "metadata": {
        "id": "f3fHrzs7-JGn"
      },
      "source": [
        "%matplotlib inline\r\n",
        "from matplotlib import pyplot\r\n",
        "import matplotlib\r\n",
        "import scipy.signal\r\n",
        "import numpy as np\r\n",
        "import ipywidgets"
      ],
      "execution_count": 1,
      "outputs": []
    },
    {
      "cell_type": "markdown",
      "metadata": {
        "id": "5Z3jdTNpEv2C"
      },
      "source": [
        "### Initial conditions"
      ]
    },
    {
      "cell_type": "code",
      "metadata": {
        "id": "ve5VqHWY_Ldp"
      },
      "source": [
        "def top_hat(x, width, amplitude = 1, centre = 0):\r\n",
        "  r\"\"\"\r\n",
        "    Generate a top hat function \r\n",
        "    \"\"\"\r\n",
        "  th = np.zeros(x.shape)\r\n",
        "  th[(x >= centre - width/2) & (x < centre + width/2)] = amplitude\r\n",
        "  return th\r\n",
        "\r\n",
        "def top_hat2D(x, y, width_x, width_y, centre = 0, amplitude = 1):\r\n",
        "  return top_hat(x, width_x, amplitude, centre) * top_hat(y, width_y, amplitude, centre)\r\n",
        "\r\n",
        "def approximateDiracDelta(x, amplitude = 1, centre = 0):\r\n",
        "  r\"\"\"\r\n",
        "    Generate a narrow top hat to approximate a delta\r\n",
        "    \"\"\"\r\n",
        "  return top_hat(x, 1, amplitude, centre)\r\n",
        "\r\n",
        "def approximateDiracDelta2D(x, y, amplitude = 1, centre = 0):\r\n",
        "  r\"\"\"\r\n",
        "    Generate a narrow top hat to approximate a delta\r\n",
        "    \"\"\"\r\n",
        "  return top_hat2D(x, y, 1, 1, centre, amplitude)\r\n",
        "\r\n",
        "def gauss_function(x, a, x0, sigma):\r\n",
        "  r\"\"\"\r\n",
        "    Generate a narrow top hat to approximate a delta\r\n",
        "    \"\"\"\r\n",
        "  return a / (np.sqrt(2 * np.pi) * sigma) * np.exp(-(x-x0)**2/(2*sigma**2))\r\n",
        "\r\n",
        "def gauss_function2D(x,y,a,x0,y0,sigma_x, sigma_y):\r\n",
        "  z = (1/(2*np.pi*sigma_x*sigma_y) * np.exp(-((x-x0)**2/(2*sigma_x**2)\r\n",
        "     + (y-y0)**2/(2*sigma_y**2))))\r\n",
        "  return z\r\n"
      ],
      "execution_count": 2,
      "outputs": []
    },
    {
      "cell_type": "markdown",
      "metadata": {
        "id": "5MHMIM4oE2kO"
      },
      "source": [
        "### Diffusion equations"
      ]
    },
    {
      "cell_type": "code",
      "metadata": {
        "id": "mlo2LJ2UAOiN"
      },
      "source": [
        "def diffusion1D(x, D, t = 0, x0 = 0, a = 1):\r\n",
        "  r'''\r\n",
        "  returns a Gaussian this is to be convolved with the initial condition\r\n",
        "  '''\r\n",
        "  #if t == 0: # treat time point one as a delta\r\n",
        "  #  g = approximateDiracDelta(x)\r\n",
        "  #else:\r\n",
        "  sigma = np.sqrt(2 * D * t)\r\n",
        "  g = gauss_function(x, a, x0, sigma)\r\n",
        "  return g\r\n",
        "\r\n",
        "def diffusion2D(x, y, Dx, Dy, t = 0, x0 = 0, y0= 0, a = 1):\r\n",
        "  r'''\r\n",
        "  returns a Gaussian this is to be convolved with the initial condition\r\n",
        "  '''\r\n",
        "  #if t == 0: # treat time point one as a delta\r\n",
        "  #  g = approximateDiracDelta2D(x, y, amplitude = 1, centre = 0)\r\n",
        "  #else:\r\n",
        "  sigma_x = np.sqrt(2 * Dx * t)\r\n",
        "  sigma_y = np.sqrt(2 * Dy * t)\r\n",
        "  g = gauss_function2D(x,y,a,x0,y0,sigma_x, sigma_y)\r\n",
        "  return g\r\n",
        "\r\n",
        "def getDiffusionAsFunctionOfTime(xs, ts, n0, g, D, c = 0):\r\n",
        "  gs = g(xs, D, ts, x0 = c * ts, a = 1)\r\n",
        "  diffusion = np.apply_along_axis(lambda m: np.convolve(m, n0, mode='same'), axis=1, arr=gs)\r\n",
        "  return diffusion\r\n",
        "\r\n"
      ],
      "execution_count": 3,
      "outputs": []
    },
    {
      "cell_type": "code",
      "metadata": {
        "id": "DEn-iwyIASXx"
      },
      "source": [
        "def diffusionplot(xs, n0, g, t, D = 10, x0 = 0):\r\n",
        "    r\"\"\"\r\n",
        "    Plot a function ``f`` and its Legendre-, Taylor- and Fourier-series\r\n",
        "    approximations of the given order on the interval ..math:`[-1, 1)`.\r\n",
        "    \"\"\"\r\n",
        "    cm = matplotlib.cm.viridis\r\n",
        "    _, axes = pyplot.subplots()\r\n",
        "    gs = g(xs, D, t, x0 = x0)  # np.array([for x in xs])\r\n",
        "    diffusion = np.convolve(gs, n0, mode = 'same')\r\n",
        "    axes.plot(xs, diffusion, label=\"n(x,t)\", linewidth=2)\r\n",
        "    axes.plot(xs, gs, label=\"g(x,t)\", linewidth=2, dashes=(5, 5))\r\n",
        "    axes.plot(xs, n0, label=\"n_0(x)\", linewidth=2, dashes=(5, 5))\r\n",
        "    axes.set_xlim((xs[0] - 0.03*(xs[-1]-xs[0]), xs[-1] + 0.03*(xs[-1]-xs[0])))\r\n",
        "    axes.set_xlabel('x')\r\n",
        "    axes.set_ylabel('n(x,t)')\r\n",
        "    mn, mx = np.min(n0), np.max(n0)\r\n",
        "    axes.legend()\r\n",
        "\r\n",
        "def diffusionplot2D(xs, ys, n0, g, t, Dx = 10, Dy = 1, x0 = 0, y0= 0):\r\n",
        "  r\"\"\"\r\n",
        "  Plot a function ``f`` and its Legendre-, Taylor- and Fourier-series\r\n",
        "  approximations of the given order on the interval ..math:`[-1, 1)`.\r\n",
        "  \"\"\"\r\n",
        "  cm = matplotlib.cm.viridis\r\n",
        "  _, axes = pyplot.subplots(figsize = [10,10])\r\n",
        "  gs = g(xs, ys, Dx, Dy, t, x0 = x0, y0= y0)  # np.array([for x in xs])\r\n",
        "  diffusion = scipy.signal.convolve2d(gs, n0, mode = 'same')\r\n",
        "  axes.contourf(xs, ys, diffusion, cmap='Blues')\r\n",
        "  axes.set_xlabel('x')\r\n",
        "  axes.set_ylabel('y')\r\n",
        "\r\n",
        "def diffusionPlotTime(x,xs,ts,diffusion):\r\n",
        "  _, axes = pyplot.subplots()\r\n",
        "  axes.plot(ts[xs==x], diffusion[xs==x])\r\n",
        "  mn, mx = np.min(diffusion), np.max(diffusion)\r\n",
        "  axes.set_ylim((mn - 0.1*(mx-mn), mx + 0.1*(mx-mn)))\r\n",
        "  axes.set_xlabel('t')\r\n",
        "  axes.set_ylabel('n(x,t)')"
      ],
      "execution_count": 4,
      "outputs": []
    },
    {
      "cell_type": "markdown",
      "metadata": {
        "id": "-64GW_vIfJRE"
      },
      "source": [
        "# Investigating diffusion with different initial conditions"
      ]
    },
    {
      "cell_type": "markdown",
      "metadata": {
        "id": "SUEMqd35fPHD"
      },
      "source": [
        "## Infinitely small point (delta function)"
      ]
    },
    {
      "cell_type": "code",
      "metadata": {
        "colab": {
          "base_uri": "https://localhost:8080/",
          "height": 311,
          "referenced_widgets": [
            "00c0955083c949609f02361155fdc0da",
            "632251f1e26d486499bfc113613d2c3d",
            "dc2f9715131a43f3bf02737d79c10813",
            "5049a9c6996d40feb25ac02f356a2e48",
            "48fdd6c972524d68a59f9425193377f3",
            "3756e57c68c746e6b511b642d45093bd",
            "0d7ecc249bf34d69b154a015d6f5475b"
          ]
        },
        "id": "trEbNmCDQU1t",
        "outputId": "92857e84-6725-4946-a864-7b2e9a5815e7"
      },
      "source": [
        "x = np.linspace(-30, 30, 101)\r\n",
        "\r\n",
        "ipywidgets.interact(\r\n",
        "    lambda t: diffusionplot(x, approximateDiracDelta(x), diffusion1D, t, D = 0.1, x0 = 0),\r\n",
        "    t=ipywidgets.IntSlider(min=1, max=50, step=1, value=0),\r\n",
        ");"
      ],
      "execution_count": 5,
      "outputs": [
        {
          "output_type": "display_data",
          "data": {
            "application/vnd.jupyter.widget-view+json": {
              "model_id": "00c0955083c949609f02361155fdc0da",
              "version_minor": 0,
              "version_major": 2
            },
            "text/plain": [
              "interactive(children=(IntSlider(value=1, description='t', max=50, min=1), Output()), _dom_classes=('widget-int…"
            ]
          },
          "metadata": {
            "tags": []
          }
        }
      ]
    },
    {
      "cell_type": "markdown",
      "metadata": {
        "id": "s1H5Ns-6faRe"
      },
      "source": [
        "## Top hat function"
      ]
    },
    {
      "cell_type": "code",
      "metadata": {
        "colab": {
          "base_uri": "https://localhost:8080/",
          "height": 311,
          "referenced_widgets": [
            "71d5c935a7754b51876c0549ab0b32fc",
            "96bd45513f4f42e9acae8c48ff3ae8fc",
            "ea01fa8720a04f7d838467a11cd472e7",
            "239bbd9403a24fa7a4057383306cea1f",
            "c871983967fc4bb0ba8c5d1b50725082",
            "a5c235be31ff4ded858b83975cc184bd",
            "4d8f1030e51e45adb8486f6aa753f7c4"
          ]
        },
        "id": "G2iyPAuPJW4j",
        "outputId": "1fab1599-d438-49e0-f176-66f32038b2a9"
      },
      "source": [
        "x = np.linspace(-50, 50, 101)\r\n",
        "\r\n",
        "ipywidgets.interact(\r\n",
        "    lambda t: diffusionplot(x, top_hat(x, 10, 1), diffusion1D, t, D = 0.1),\r\n",
        "    t=ipywidgets.IntSlider(min=1, max=50, step=1, value=0),\r\n",
        ");"
      ],
      "execution_count": 6,
      "outputs": [
        {
          "output_type": "display_data",
          "data": {
            "application/vnd.jupyter.widget-view+json": {
              "model_id": "71d5c935a7754b51876c0549ab0b32fc",
              "version_minor": 0,
              "version_major": 2
            },
            "text/plain": [
              "interactive(children=(IntSlider(value=1, description='t', max=50, min=1), Output()), _dom_classes=('widget-int…"
            ]
          },
          "metadata": {
            "tags": []
          }
        }
      ]
    },
    {
      "cell_type": "markdown",
      "metadata": {
        "id": "wZxCKK1-ffkj"
      },
      "source": [
        "## Two points next to one another\r\n",
        "Consider two infinitely small ink drops in water seperated by distance r. If the ink diffusesd with constant D consider the time at which the two ink drops become indistiguishable."
      ]
    },
    {
      "cell_type": "code",
      "metadata": {
        "colab": {
          "base_uri": "https://localhost:8080/",
          "height": 311,
          "referenced_widgets": [
            "11c1061e26f3423ca7f9362244681653",
            "0606a941208a4a008d012ddefe1aab68",
            "0651360167504e7a86ae2eb847a15054",
            "3792e163e49d4ca791184d748b25aef1",
            "dfff698ee3be4d37be975e82a7e6e1bf",
            "920da300ca1a4c2281e9dabb90efaf6e",
            "c5623b32ccbf4221972e510c35208543"
          ]
        },
        "id": "Pz_EzazIQVh1",
        "outputId": "e36a93a5-844f-4eef-a86a-5276f1d5305a"
      },
      "source": [
        "x = np.linspace(-30, 30, 101)\r\n",
        "\r\n",
        "ipywidgets.interact(\r\n",
        "    lambda t: diffusionplot(x, approximateDiracDelta(x, centre = -5) + approximateDiracDelta(x, centre = 5, amplitude = 1), diffusion1D, t, D = 0.2),\r\n",
        "    t=ipywidgets.IntSlider(min=1, max=50, step=1, value=0),\r\n",
        ");"
      ],
      "execution_count": 7,
      "outputs": [
        {
          "output_type": "display_data",
          "data": {
            "application/vnd.jupyter.widget-view+json": {
              "model_id": "11c1061e26f3423ca7f9362244681653",
              "version_minor": 0,
              "version_major": 2
            },
            "text/plain": [
              "interactive(children=(IntSlider(value=1, description='t', max=50, min=1), Output()), _dom_classes=('widget-int…"
            ]
          },
          "metadata": {
            "tags": []
          }
        }
      ]
    },
    {
      "cell_type": "markdown",
      "metadata": {
        "id": "QNKQPjWYNRkL"
      },
      "source": [
        "# Diffusion advection\r\n",
        "The above methods can be applied in the diffusion advection problem from the problem sheet. Below are examples of n(x,t)  "
      ]
    },
    {
      "cell_type": "markdown",
      "metadata": {
        "id": "6WtUVTETDGTm"
      },
      "source": [
        "## Spatial profile at different times\r\n",
        "### Diffusion from a point"
      ]
    },
    {
      "cell_type": "code",
      "metadata": {
        "colab": {
          "base_uri": "https://localhost:8080/",
          "height": 311,
          "referenced_widgets": [
            "4860bc8db9f044b99c6a5b3990e07f25",
            "2f1fc5ddf731406b907e20f8e59c6197",
            "ffad14c0546247c1a9a032d180f5d980",
            "58570c5fa168416d9f866a054e89c20e",
            "9eba9adc8baa4642a5cc03fb5c88f072",
            "c7bc295271bc483e8572e53c1c4127dc",
            "961afab89e324246b68eb6ae3b4dd2b9"
          ]
        },
        "id": "ykB8Iy9HN5gg",
        "outputId": "9a76d274-d4c4-4e05-a21c-7067eb466842"
      },
      "source": [
        "xtime = np.linspace(-30, 30, 101)\r\n",
        "c = 0.2\r\n",
        "\r\n",
        "ipywidgets.interact(\r\n",
        "    lambda t: diffusionplot(xtime, approximateDiracDelta(xtime), diffusion1D, t, D = 0.1, x0 = c * t),\r\n",
        "    t=ipywidgets.IntSlider(min=1, max=50, step=1, value=0),\r\n",
        ");"
      ],
      "execution_count": 8,
      "outputs": [
        {
          "output_type": "display_data",
          "data": {
            "application/vnd.jupyter.widget-view+json": {
              "model_id": "4860bc8db9f044b99c6a5b3990e07f25",
              "version_minor": 0,
              "version_major": 2
            },
            "text/plain": [
              "interactive(children=(IntSlider(value=1, description='t', max=50, min=1), Output()), _dom_classes=('widget-int…"
            ]
          },
          "metadata": {
            "tags": []
          }
        }
      ]
    },
    {
      "cell_type": "markdown",
      "metadata": {
        "id": "guBr7xxyDXhe"
      },
      "source": [
        "## Temporal profile at different positions\r\n",
        "### Diffusion from a point"
      ]
    },
    {
      "cell_type": "code",
      "metadata": {
        "colab": {
          "base_uri": "https://localhost:8080/",
          "height": 311,
          "referenced_widgets": [
            "a898154c81374ab8938ccf59664d1f65",
            "48f373bc7d8c43089b8420be76b71c22",
            "d3e2bc4bb9474ecd96e06ec2338c66a3",
            "63db33fd2ad94c9cbbc67f66b59a60fc",
            "94e76c4635844a84ac2cc1ccd338706b",
            "692b3e27e88a481483f08cc07b3a25e0",
            "fa5f16a1cbd141e899111e8126018693"
          ]
        },
        "id": "6--mHWIODiEi",
        "outputId": "8f4dda95-0415-4135-d4d0-308fc4c8ed5f"
      },
      "source": [
        "width = 10\r\n",
        "size = 300\r\n",
        "D = 1\r\n",
        "c = 0.5\r\n",
        "\r\n",
        "xs = np.arange(-100, 100)\r\n",
        "n0 = approximateDiracDelta(xs)\r\n",
        "ts = np.arange(1, 201)\r\n",
        "xs, ts = np.meshgrid(xs, ts)\r\n",
        "diffusionDD = getDiffusionAsFunctionOfTime(xs, ts, n0, diffusion1D, D, c)\r\n",
        "\r\n",
        "\r\n",
        "ipywidgets.interact(\r\n",
        "    lambda x: diffusionPlotTime(x,xs,ts,diffusionDD),\r\n",
        "    x=(np.min(xs), np.max(xs), 1),\r\n",
        ");"
      ],
      "execution_count": 9,
      "outputs": [
        {
          "output_type": "display_data",
          "data": {
            "application/vnd.jupyter.widget-view+json": {
              "model_id": "a898154c81374ab8938ccf59664d1f65",
              "version_minor": 0,
              "version_major": 2
            },
            "text/plain": [
              "interactive(children=(IntSlider(value=-1, description='x', max=99, min=-100), Output()), _dom_classes=('widget…"
            ]
          },
          "metadata": {
            "tags": []
          }
        }
      ]
    },
    {
      "cell_type": "markdown",
      "metadata": {
        "id": "L9YjPRwADiT3"
      },
      "source": [
        "### Diffusion from neighbouring top hats"
      ]
    },
    {
      "cell_type": "code",
      "metadata": {
        "id": "VrNxxUpxdk5-",
        "colab": {
          "base_uri": "https://localhost:8080/",
          "height": 627
        },
        "outputId": "cec0859e-e6a4-4f4f-cf22-2feaf2c13533"
      },
      "source": [
        "width = 10\r\n",
        "size = 300\r\n",
        "D = 0.5\r\n",
        "c = 0.5\r\n",
        "\r\n",
        "xs = np.arange(-100, 100)\r\n",
        "n0 = top_hat(xs, width, amplitude = 1, centre = -10) +  top_hat(xs, width, amplitude = 1, centre = +10)\r\n",
        "ts = np.arange(1, 201)\r\n",
        "xs, ts = np.meshgrid(xs, ts)\r\n",
        "diffusionTH = getDiffusionAsFunctionOfTime(xs, ts, n0, diffusion1D, D, c)\r\n",
        "\r\n",
        "\r\n",
        "_, axes = pyplot.subplots(figsize = [10,10])\r\n",
        "axes.contourf(xs, ts, diffusionTH, cmap='Blues')\r\n",
        "axes.set_xlabel('x')\r\n",
        "axes.set_ylabel('t')\r\n"
      ],
      "execution_count": 10,
      "outputs": [
        {
          "output_type": "execute_result",
          "data": {
            "text/plain": [
              "Text(0, 0.5, 't')"
            ]
          },
          "metadata": {
            "tags": []
          },
          "execution_count": 10
        },
        {
          "output_type": "display_data",
          "data": {
            "image/png": "[encoded data removed]",
            "text/plain": [
              "<Figure size 720x720 with 1 Axes>"
            ]
          },
          "metadata": {
            "tags": [],
            "needs_background": "light"
          }
        }
      ]
    },
    {
      "cell_type": "code",
      "metadata": {
        "id": "BOywoPjwnxbx",
        "colab": {
          "base_uri": "https://localhost:8080/",
          "height": 311,
          "referenced_widgets": [
            "026bdd29227d41499c3840a5424fd93e",
            "58e11ee0e76341d2881e5f1bedb178d8",
            "cf277f9fcba44f86b662bd612f3ed8c9",
            "e82d9787763c416a858793918442ed9d",
            "7e65f4ce42b24928bcb484d21c22f612",
            "5c5afc22b26048f2855d9e0146b9f123",
            "3b52b1c13b524e1db4e0ed1ba65dfb1a"
          ]
        },
        "outputId": "0a602f68-0a3b-4d30-e3d4-35baeb8f2221"
      },
      "source": [
        "ipywidgets.interact(\r\n",
        "    lambda x: diffusionPlotTime(x,xs,ts,diffusionTH),\r\n",
        "    x=(np.min(xs), np.max(xs), 1),\r\n",
        ");"
      ],
      "execution_count": 11,
      "outputs": [
        {
          "output_type": "display_data",
          "data": {
            "application/vnd.jupyter.widget-view+json": {
              "model_id": "026bdd29227d41499c3840a5424fd93e",
              "version_minor": 0,
              "version_major": 2
            },
            "text/plain": [
              "interactive(children=(IntSlider(value=-1, description='x', max=99, min=-100), Output()), _dom_classes=('widget…"
            ]
          },
          "metadata": {
            "tags": []
          }
        }
      ]
    },
    {
      "cell_type": "markdown",
      "metadata": {
        "id": "1amlMrECuB83"
      },
      "source": [
        "# Diffusion in 2D with different coefficients"
      ]
    },
    {
      "cell_type": "code",
      "metadata": {
        "colab": {
          "base_uri": "https://localhost:8080/",
          "height": 702,
          "referenced_widgets": [
            "ec721407eb854c25844b04bb76a5bc45",
            "8b2f35a524054ab09b89a6ff10b6ac87",
            "e5926b4fc33d49e4ba5f9e565c1a0fae",
            "3d29fadeb1a04d038c4971fc87c4ddbf",
            "e55fb42e3c3f42d58ff39573a4024a76",
            "3642e44f425f4ca784020eb6ba595115",
            "4de6f655b19f458385912597b219809d",
            "3bd8491c144d4d8088a353bb30dcc4e9",
            "2cca59dfee904a07b08cffdde75d141c",
            "169e68cb5fbf47f6925bb9ad27788e64",
            "1a3e0de9436a4d9eaa2e472de41df79a",
            "9565865004b54c6f862c54d9babfd397",
            "ffda1bf8a4ce4789bc5f54271273da1a"
          ]
        },
        "id": "OOYEtjt9oeQH",
        "outputId": "c4361bc6-7f04-4adc-8424-27a182da796e"
      },
      "source": [
        "size = 101\r\n",
        "x2D = np.linspace(-50, 50, size)\r\n",
        "y2D = np.linspace(-50, 50, size)\r\n",
        "x2D, y2D = np.meshgrid(x2D, y2D)\r\n",
        "\r\n",
        "width_x = 10\r\n",
        "width_y = 1\r\n",
        "\r\n",
        "D_x = 2\r\n",
        "D_y = 5\r\n",
        "\r\n",
        "ipywidgets.interact(\r\n",
        "    lambda t, D_x, D_y: diffusionplot2D(x2D,y2D, top_hat2D(x2D, y2D, width_x, width_y), diffusion2D, t, D_x, D_y),\r\n",
        "    t=ipywidgets.IntSlider(min=1, max=50, step=1, value=0),\r\n",
        "    D_x=(0.1, 5, 0.1),\r\n",
        "    D_y=(0.1, 5, 0.1),\r\n",
        ");"
      ],
      "execution_count": 12,
      "outputs": [
        {
          "output_type": "display_data",
          "data": {
            "application/vnd.jupyter.widget-view+json": {
              "model_id": "ec721407eb854c25844b04bb76a5bc45",
              "version_minor": 0,
              "version_major": 2
            },
            "text/plain": [
              "interactive(children=(IntSlider(value=1, description='t', max=50, min=1), FloatSlider(value=2.5000000000000004…"
            ]
          },
          "metadata": {
            "tags": []
          }
        }
      ]
    },
    {
      "cell_type": "code",
      "metadata": {
        "id": "xgrvN5QH-WEC"
      },
      "source": [
        "import numpy as np\r\n",
        "from skimage import io\r\n",
        "\r\n",
        "snowflake = io.imread('https://github.com/ncurry208/2020_21_DEEMseminars/blob/master/snowflakeMask.tif?raw=true')\r\n",
        "xsnowflake = np.arange(snowflake.shape[0])\r\n",
        "ysnowflake = np.arange(snowflake.shape[1])\r\n",
        "xsnowflake, ysnowflake = np.meshgrid(xsnowflake, ysnowflake)\r\n",
        "\r\n",
        "#ipywidgets.interact(\r\n",
        "#    lambda t, D_x, D_y: diffusionplot2D(xsnowflake,ysnowflake, snowflake, diffusion2D, t, D_x, D_y, x0 = snowflake.shape[0]/2, y0 = snowflake.shape[1]/2),\r\n",
        "#    t=ipywidgets.IntSlider(min=1, max=50, step=1, value=0),\r\n",
        "#    D_x=(0.1, 5, 0.1),\r\n",
        "#    D_y=(0.1, 5, 0.1),\r\n",
        "#);"
      ],
      "execution_count": 15,
      "outputs": []
    },
    {
      "cell_type": "code",
      "metadata": {
        "id": "45tN4WembHmw"
      },
      "source": [
        ""
      ],
      "execution_count": null,
      "outputs": []
    }
  ]
}