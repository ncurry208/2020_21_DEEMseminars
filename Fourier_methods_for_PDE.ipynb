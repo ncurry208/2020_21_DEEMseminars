{
  "nbformat": 4,
  "nbformat_minor": 0,
  "metadata": {
    "colab": {
      "name": "Fourier methods for PDE.ipynb",
      "provenance": [],
      "collapsed_sections": [],
      "toc_visible": true
    },
    "kernelspec": {
      "name": "python3",
      "display_name": "Python 3"
    },
    "widgets": {
      "application/vnd.jupyter.widget-state+json": {
        "41b85199285c401c9adbda95c4a296de": {
          "model_module": "@jupyter-widgets/controls",
          "model_name": "VBoxModel",
          "state": {
            "_view_name": "VBoxView",
            "_dom_classes": [
              "widget-interact"
            ],
            "_model_name": "VBoxModel",
            "_view_module": "@jupyter-widgets/controls",
            "_model_module_version": "1.5.0",
            "_view_count": null,
            "_view_module_version": "1.5.0",
            "box_style": "",
            "layout": "IPY_MODEL_4582eb7d9a7a45fb8af94c347003aa88",
            "_model_module": "@jupyter-widgets/controls",
            "children": [
              "IPY_MODEL_0ff5d50803914a1b9e62272ea259bc1d",
              "IPY_MODEL_94f100ee95804977b7ce3e6c4946af50"
            ]
          }
        },
        "4582eb7d9a7a45fb8af94c347003aa88": {
          "model_module": "@jupyter-widgets/base",
          "model_name": "LayoutModel",
          "state": {
            "_view_name": "LayoutView",
            "grid_template_rows": null,
            "right": null,
            "justify_content": null,
            "_view_module": "@jupyter-widgets/base",
            "overflow": null,
            "_model_module_version": "1.2.0",
            "_view_count": null,
            "flex_flow": null,
            "width": null,
            "min_width": null,
            "border": null,
            "align_items": null,
            "bottom": null,
            "_model_module": "@jupyter-widgets/base",
            "top": null,
            "grid_column": null,
            "overflow_y": null,
            "overflow_x": null,
            "grid_auto_flow": null,
            "grid_area": null,
            "grid_template_columns": null,
            "flex": null,
            "_model_name": "LayoutModel",
            "justify_items": null,
            "grid_row": null,
            "max_height": null,
            "align_content": null,
            "visibility": null,
            "align_self": null,
            "height": null,
            "min_height": null,
            "padding": null,
            "grid_auto_rows": null,
            "grid_gap": null,
            "max_width": null,
            "order": null,
            "_view_module_version": "1.2.0",
            "grid_template_areas": null,
            "object_position": null,
            "object_fit": null,
            "grid_auto_columns": null,
            "margin": null,
            "display": null,
            "left": null
          }
        },
        "0ff5d50803914a1b9e62272ea259bc1d": {
          "model_module": "@jupyter-widgets/controls",
          "model_name": "IntSliderModel",
          "state": {
            "_view_name": "IntSliderView",
            "style": "IPY_MODEL_fd155f02136647b9b8de0f53efc6d26c",
            "_dom_classes": [],
            "description": "t",
            "step": 1,
            "_model_name": "IntSliderModel",
            "orientation": "horizontal",
            "max": 50,
            "_view_module": "@jupyter-widgets/controls",
            "_model_module_version": "1.5.0",
            "value": 50,
            "_view_count": null,
            "disabled": false,
            "_view_module_version": "1.5.0",
            "min": 1,
            "continuous_update": true,
            "readout_format": "d",
            "description_tooltip": null,
            "readout": true,
            "_model_module": "@jupyter-widgets/controls",
            "layout": "IPY_MODEL_c5b5a1f5eb9c48a1a47eaa0c1fc9e478"
          }
        },
        "94f100ee95804977b7ce3e6c4946af50": {
          "model_module": "@jupyter-widgets/output",
          "model_name": "OutputModel",
          "state": {
            "_view_name": "OutputView",
            "msg_id": "",
            "_dom_classes": [],
            "_model_name": "OutputModel",
            "outputs": [
              {
                "output_type": "display_data",
                "metadata": {
                  "tags": [],
                  "needs_background": "light"
                },
                "image/png": "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\n",
                "text/plain": "<Figure size 432x288 with 1 Axes>"
              }
            ],
            "_view_module": "@jupyter-widgets/output",
            "_model_module_version": "1.0.0",
            "_view_count": null,
            "_view_module_version": "1.0.0",
            "layout": "IPY_MODEL_e902d9cb7ab644449fd41cdb74ce1bc7",
            "_model_module": "@jupyter-widgets/output"
          }
        },
        "fd155f02136647b9b8de0f53efc6d26c": {
          "model_module": "@jupyter-widgets/controls",
          "model_name": "SliderStyleModel",
          "state": {
            "_view_name": "StyleView",
            "handle_color": null,
            "_model_name": "SliderStyleModel",
            "description_width": "",
            "_view_module": "@jupyter-widgets/base",
            "_model_module_version": "1.5.0",
            "_view_count": null,
            "_view_module_version": "1.2.0",
            "_model_module": "@jupyter-widgets/controls"
          }
        },
        "c5b5a1f5eb9c48a1a47eaa0c1fc9e478": {
          "model_module": "@jupyter-widgets/base",
          "model_name": "LayoutModel",
          "state": {
            "_view_name": "LayoutView",
            "grid_template_rows": null,
            "right": null,
            "justify_content": null,
            "_view_module": "@jupyter-widgets/base",
            "overflow": null,
            "_model_module_version": "1.2.0",
            "_view_count": null,
            "flex_flow": null,
            "width": null,
            "min_width": null,
            "border": null,
            "align_items": null,
            "bottom": null,
            "_model_module": "@jupyter-widgets/base",
            "top": null,
            "grid_column": null,
            "overflow_y": null,
            "overflow_x": null,
            "grid_auto_flow": null,
            "grid_area": null,
            "grid_template_columns": null,
            "flex": null,
            "_model_name": "LayoutModel",
            "justify_items": null,
            "grid_row": null,
            "max_height": null,
            "align_content": null,
            "visibility": null,
            "align_self": null,
            "height": null,
            "min_height": null,
            "padding": null,
            "grid_auto_rows": null,
            "grid_gap": null,
            "max_width": null,
            "order": null,
            "_view_module_version": "1.2.0",
            "grid_template_areas": null,
            "object_position": null,
            "object_fit": null,
            "grid_auto_columns": null,
            "margin": null,
            "display": null,
            "left": null
          }
        },
        "e902d9cb7ab644449fd41cdb74ce1bc7": {
          "model_module": "@jupyter-widgets/base",
          "model_name": "LayoutModel",
          "state": {
            "_view_name": "LayoutView",
            "grid_template_rows": null,
            "right": null,
            "justify_content": null,
            "_view_module": "@jupyter-widgets/base",
            "overflow": null,
            "_model_module_version": "1.2.0",
            "_view_count": null,
            "flex_flow": null,
            "width": null,
            "min_width": null,
            "border": null,
            "align_items": null,
            "bottom": null,
            "_model_module": "@jupyter-widgets/base",
            "top": null,
            "grid_column": null,
            "overflow_y": null,
            "overflow_x": null,
            "grid_auto_flow": null,
            "grid_area": null,
            "grid_template_columns": null,
            "flex": null,
            "_model_name": "LayoutModel",
            "justify_items": null,
            "grid_row": null,
            "max_height": null,
            "align_content": null,
            "visibility": null,
            "align_self": null,
            "height": null,
            "min_height": null,
            "padding": null,
            "grid_auto_rows": null,
            "grid_gap": null,
            "max_width": null,
            "order": null,
            "_view_module_version": "1.2.0",
            "grid_template_areas": null,
            "object_position": null,
            "object_fit": null,
            "grid_auto_columns": null,
            "margin": null,
            "display": null,
            "left": null
          }
        },
        "198625db9cb24e4d83dd73bdbfdd4e18": {
          "model_module": "@jupyter-widgets/controls",
          "model_name": "VBoxModel",
          "state": {
            "_view_name": "VBoxView",
            "_dom_classes": [
              "widget-interact"
            ],
            "_model_name": "VBoxModel",
            "_view_module": "@jupyter-widgets/controls",
            "_model_module_version": "1.5.0",
            "_view_count": null,
            "_view_module_version": "1.5.0",
            "box_style": "",
            "layout": "IPY_MODEL_b5f3c478ad6b4894b037450c087008e7",
            "_model_module": "@jupyter-widgets/controls",
            "children": [
              "IPY_MODEL_7812b762145d4595b59e3c8ad1208a69",
              "IPY_MODEL_392cb1733ea741848488faa3136a1190"
            ]
          }
        },
        "b5f3c478ad6b4894b037450c087008e7": {
          "model_module": "@jupyter-widgets/base",
          "model_name": "LayoutModel",
          "state": {
            "_view_name": "LayoutView",
            "grid_template_rows": null,
            "right": null,
            "justify_content": null,
            "_view_module": "@jupyter-widgets/base",
            "overflow": null,
            "_model_module_version": "1.2.0",
            "_view_count": null,
            "flex_flow": null,
            "width": null,
            "min_width": null,
            "border": null,
            "align_items": null,
            "bottom": null,
            "_model_module": "@jupyter-widgets/base",
            "top": null,
            "grid_column": null,
            "overflow_y": null,
            "overflow_x": null,
            "grid_auto_flow": null,
            "grid_area": null,
            "grid_template_columns": null,
            "flex": null,
            "_model_name": "LayoutModel",
            "justify_items": null,
            "grid_row": null,
            "max_height": null,
            "align_content": null,
            "visibility": null,
            "align_self": null,
            "height": null,
            "min_height": null,
            "padding": null,
            "grid_auto_rows": null,
            "grid_gap": null,
            "max_width": null,
            "order": null,
            "_view_module_version": "1.2.0",
            "grid_template_areas": null,
            "object_position": null,
            "object_fit": null,
            "grid_auto_columns": null,
            "margin": null,
            "display": null,
            "left": null
          }
        },
        "7812b762145d4595b59e3c8ad1208a69": {
          "model_module": "@jupyter-widgets/controls",
          "model_name": "IntSliderModel",
          "state": {
            "_view_name": "IntSliderView",
            "style": "IPY_MODEL_09f3c87320154b7c9fac4cfba9ca1a56",
            "_dom_classes": [],
            "description": "t",
            "step": 1,
            "_model_name": "IntSliderModel",
            "orientation": "horizontal",
            "max": 50,
            "_view_module": "@jupyter-widgets/controls",
            "_model_module_version": "1.5.0",
            "value": 50,
            "_view_count": null,
            "disabled": false,
            "_view_module_version": "1.5.0",
            "min": 1,
            "continuous_update": true,
            "readout_format": "d",
            "description_tooltip": null,
            "readout": true,
            "_model_module": "@jupyter-widgets/controls",
            "layout": "IPY_MODEL_195689463dc24e299596411fe88f3fc0"
          }
        },
        "392cb1733ea741848488faa3136a1190": {
          "model_module": "@jupyter-widgets/output",
          "model_name": "OutputModel",
          "state": {
            "_view_name": "OutputView",
            "msg_id": "",
            "_dom_classes": [],
            "_model_name": "OutputModel",
            "outputs": [
              {
                "output_type": "display_data",
                "metadata": {
                  "tags": [],
                  "needs_background": "light"
                },
                "image/png": "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\n",
                "text/plain": "<Figure size 432x288 with 1 Axes>"
              }
            ],
            "_view_module": "@jupyter-widgets/output",
            "_model_module_version": "1.0.0",
            "_view_count": null,
            "_view_module_version": "1.0.0",
            "layout": "IPY_MODEL_566f627b0f18430d8b43507346d8e2af",
            "_model_module": "@jupyter-widgets/output"
          }
        },
        "09f3c87320154b7c9fac4cfba9ca1a56": {
          "model_module": "@jupyter-widgets/controls",
          "model_name": "SliderStyleModel",
          "state": {
            "_view_name": "StyleView",
            "handle_color": null,
            "_model_name": "SliderStyleModel",
            "description_width": "",
            "_view_module": "@jupyter-widgets/base",
            "_model_module_version": "1.5.0",
            "_view_count": null,
            "_view_module_version": "1.2.0",
            "_model_module": "@jupyter-widgets/controls"
          }
        },
        "195689463dc24e299596411fe88f3fc0": {
          "model_module": "@jupyter-widgets/base",
          "model_name": "LayoutModel",
          "state": {
            "_view_name": "LayoutView",
            "grid_template_rows": null,
            "right": null,
            "justify_content": null,
            "_view_module": "@jupyter-widgets/base",
            "overflow": null,
            "_model_module_version": "1.2.0",
            "_view_count": null,
            "flex_flow": null,
            "width": null,
            "min_width": null,
            "border": null,
            "align_items": null,
            "bottom": null,
            "_model_module": "@jupyter-widgets/base",
            "top": null,
            "grid_column": null,
            "overflow_y": null,
            "overflow_x": null,
            "grid_auto_flow": null,
            "grid_area": null,
            "grid_template_columns": null,
            "flex": null,
            "_model_name": "LayoutModel",
            "justify_items": null,
            "grid_row": null,
            "max_height": null,
            "align_content": null,
            "visibility": null,
            "align_self": null,
            "height": null,
            "min_height": null,
            "padding": null,
            "grid_auto_rows": null,
            "grid_gap": null,
            "max_width": null,
            "order": null,
            "_view_module_version": "1.2.0",
            "grid_template_areas": null,
            "object_position": null,
            "object_fit": null,
            "grid_auto_columns": null,
            "margin": null,
            "display": null,
            "left": null
          }
        },
        "566f627b0f18430d8b43507346d8e2af": {
          "model_module": "@jupyter-widgets/base",
          "model_name": "LayoutModel",
          "state": {
            "_view_name": "LayoutView",
            "grid_template_rows": null,
            "right": null,
            "justify_content": null,
            "_view_module": "@jupyter-widgets/base",
            "overflow": null,
            "_model_module_version": "1.2.0",
            "_view_count": null,
            "flex_flow": null,
            "width": null,
            "min_width": null,
            "border": null,
            "align_items": null,
            "bottom": null,
            "_model_module": "@jupyter-widgets/base",
            "top": null,
            "grid_column": null,
            "overflow_y": null,
            "overflow_x": null,
            "grid_auto_flow": null,
            "grid_area": null,
            "grid_template_columns": null,
            "flex": null,
            "_model_name": "LayoutModel",
            "justify_items": null,
            "grid_row": null,
            "max_height": null,
            "align_content": null,
            "visibility": null,
            "align_self": null,
            "height": null,
            "min_height": null,
            "padding": null,
            "grid_auto_rows": null,
            "grid_gap": null,
            "max_width": null,
            "order": null,
            "_view_module_version": "1.2.0",
            "grid_template_areas": null,
            "object_position": null,
            "object_fit": null,
            "grid_auto_columns": null,
            "margin": null,
            "display": null,
            "left": null
          }
        },
        "316c47c29c0a4e7bacec3c8813a6dc9c": {
          "model_module": "@jupyter-widgets/controls",
          "model_name": "VBoxModel",
          "state": {
            "_view_name": "VBoxView",
            "_dom_classes": [
              "widget-interact"
            ],
            "_model_name": "VBoxModel",
            "_view_module": "@jupyter-widgets/controls",
            "_model_module_version": "1.5.0",
            "_view_count": null,
            "_view_module_version": "1.5.0",
            "box_style": "",
            "layout": "IPY_MODEL_cf980740817f49dea51d71a659c8d2e3",
            "_model_module": "@jupyter-widgets/controls",
            "children": [
              "IPY_MODEL_5057c4006e66496bb3fa444742a6f417",
              "IPY_MODEL_317340c1ce7a46f48f6fa18788fc8045"
            ]
          }
        },
        "cf980740817f49dea51d71a659c8d2e3": {
          "model_module": "@jupyter-widgets/base",
          "model_name": "LayoutModel",
          "state": {
            "_view_name": "LayoutView",
            "grid_template_rows": null,
            "right": null,
            "justify_content": null,
            "_view_module": "@jupyter-widgets/base",
            "overflow": null,
            "_model_module_version": "1.2.0",
            "_view_count": null,
            "flex_flow": null,
            "width": null,
            "min_width": null,
            "border": null,
            "align_items": null,
            "bottom": null,
            "_model_module": "@jupyter-widgets/base",
            "top": null,
            "grid_column": null,
            "overflow_y": null,
            "overflow_x": null,
            "grid_auto_flow": null,
            "grid_area": null,
            "grid_template_columns": null,
            "flex": null,
            "_model_name": "LayoutModel",
            "justify_items": null,
            "grid_row": null,
            "max_height": null,
            "align_content": null,
            "visibility": null,
            "align_self": null,
            "height": null,
            "min_height": null,
            "padding": null,
            "grid_auto_rows": null,
            "grid_gap": null,
            "max_width": null,
            "order": null,
            "_view_module_version": "1.2.0",
            "grid_template_areas": null,
            "object_position": null,
            "object_fit": null,
            "grid_auto_columns": null,
            "margin": null,
            "display": null,
            "left": null
          }
        },
        "5057c4006e66496bb3fa444742a6f417": {
          "model_module": "@jupyter-widgets/controls",
          "model_name": "IntSliderModel",
          "state": {
            "_view_name": "IntSliderView",
            "style": "IPY_MODEL_e212f8d558f94c1e9cb6e1262da35142",
            "_dom_classes": [],
            "description": "t",
            "step": 1,
            "_model_name": "IntSliderModel",
            "orientation": "horizontal",
            "max": 200,
            "_view_module": "@jupyter-widgets/controls",
            "_model_module_version": "1.5.0",
            "value": 26,
            "_view_count": null,
            "disabled": false,
            "_view_module_version": "1.5.0",
            "min": 1,
            "continuous_update": true,
            "readout_format": "d",
            "description_tooltip": null,
            "readout": true,
            "_model_module": "@jupyter-widgets/controls",
            "layout": "IPY_MODEL_b1d186537e064f888ed1b2073c85fe8b"
          }
        },
        "317340c1ce7a46f48f6fa18788fc8045": {
          "model_module": "@jupyter-widgets/output",
          "model_name": "OutputModel",
          "state": {
            "_view_name": "OutputView",
            "msg_id": "",
            "_dom_classes": [],
            "_model_name": "OutputModel",
            "outputs": [
              {
                "output_type": "display_data",
                "metadata": {
                  "tags": [],
                  "needs_background": "light"
                },
                "image/png": "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\n",
                "text/plain": "<Figure size 432x288 with 1 Axes>"
              }
            ],
            "_view_module": "@jupyter-widgets/output",
            "_model_module_version": "1.0.0",
            "_view_count": null,
            "_view_module_version": "1.0.0",
            "layout": "IPY_MODEL_c766b24b7c6542dcbef3957932f6c1c2",
            "_model_module": "@jupyter-widgets/output"
          }
        },
        "e212f8d558f94c1e9cb6e1262da35142": {
          "model_module": "@jupyter-widgets/controls",
          "model_name": "SliderStyleModel",
          "state": {
            "_view_name": "StyleView",
            "handle_color": null,
            "_model_name": "SliderStyleModel",
            "description_width": "",
            "_view_module": "@jupyter-widgets/base",
            "_model_module_version": "1.5.0",
            "_view_count": null,
            "_view_module_version": "1.2.0",
            "_model_module": "@jupyter-widgets/controls"
          }
        },
        "b1d186537e064f888ed1b2073c85fe8b": {
          "model_module": "@jupyter-widgets/base",
          "model_name": "LayoutModel",
          "state": {
            "_view_name": "LayoutView",
            "grid_template_rows": null,
            "right": null,
            "justify_content": null,
            "_view_module": "@jupyter-widgets/base",
            "overflow": null,
            "_model_module_version": "1.2.0",
            "_view_count": null,
            "flex_flow": null,
            "width": null,
            "min_width": null,
            "border": null,
            "align_items": null,
            "bottom": null,
            "_model_module": "@jupyter-widgets/base",
            "top": null,
            "grid_column": null,
            "overflow_y": null,
            "overflow_x": null,
            "grid_auto_flow": null,
            "grid_area": null,
            "grid_template_columns": null,
            "flex": null,
            "_model_name": "LayoutModel",
            "justify_items": null,
            "grid_row": null,
            "max_height": null,
            "align_content": null,
            "visibility": null,
            "align_self": null,
            "height": null,
            "min_height": null,
            "padding": null,
            "grid_auto_rows": null,
            "grid_gap": null,
            "max_width": null,
            "order": null,
            "_view_module_version": "1.2.0",
            "grid_template_areas": null,
            "object_position": null,
            "object_fit": null,
            "grid_auto_columns": null,
            "margin": null,
            "display": null,
            "left": null
          }
        },
        "c766b24b7c6542dcbef3957932f6c1c2": {
          "model_module": "@jupyter-widgets/base",
          "model_name": "LayoutModel",
          "state": {
            "_view_name": "LayoutView",
            "grid_template_rows": null,
            "right": null,
            "justify_content": null,
            "_view_module": "@jupyter-widgets/base",
            "overflow": null,
            "_model_module_version": "1.2.0",
            "_view_count": null,
            "flex_flow": null,
            "width": null,
            "min_width": null,
            "border": null,
            "align_items": null,
            "bottom": null,
            "_model_module": "@jupyter-widgets/base",
            "top": null,
            "grid_column": null,
            "overflow_y": null,
            "overflow_x": null,
            "grid_auto_flow": null,
            "grid_area": null,
            "grid_template_columns": null,
            "flex": null,
            "_model_name": "LayoutModel",
            "justify_items": null,
            "grid_row": null,
            "max_height": null,
            "align_content": null,
            "visibility": null,
            "align_self": null,
            "height": null,
            "min_height": null,
            "padding": null,
            "grid_auto_rows": null,
            "grid_gap": null,
            "max_width": null,
            "order": null,
            "_view_module_version": "1.2.0",
            "grid_template_areas": null,
            "object_position": null,
            "object_fit": null,
            "grid_auto_columns": null,
            "margin": null,
            "display": null,
            "left": null
          }
        },
        "529f7492e60d4d0aabde430cba2e8164": {
          "model_module": "@jupyter-widgets/controls",
          "model_name": "VBoxModel",
          "state": {
            "_view_name": "VBoxView",
            "_dom_classes": [
              "widget-interact"
            ],
            "_model_name": "VBoxModel",
            "_view_module": "@jupyter-widgets/controls",
            "_model_module_version": "1.5.0",
            "_view_count": null,
            "_view_module_version": "1.5.0",
            "box_style": "",
            "layout": "IPY_MODEL_082602d2f514444b927e376a67313de0",
            "_model_module": "@jupyter-widgets/controls",
            "children": [
              "IPY_MODEL_d340c83516cb465d93323dbe51463bf8",
              "IPY_MODEL_24c0fbe4a1fe4d49a3b5dfb1e5f6a671"
            ]
          }
        },
        "082602d2f514444b927e376a67313de0": {
          "model_module": "@jupyter-widgets/base",
          "model_name": "LayoutModel",
          "state": {
            "_view_name": "LayoutView",
            "grid_template_rows": null,
            "right": null,
            "justify_content": null,
            "_view_module": "@jupyter-widgets/base",
            "overflow": null,
            "_model_module_version": "1.2.0",
            "_view_count": null,
            "flex_flow": null,
            "width": null,
            "min_width": null,
            "border": null,
            "align_items": null,
            "bottom": null,
            "_model_module": "@jupyter-widgets/base",
            "top": null,
            "grid_column": null,
            "overflow_y": null,
            "overflow_x": null,
            "grid_auto_flow": null,
            "grid_area": null,
            "grid_template_columns": null,
            "flex": null,
            "_model_name": "LayoutModel",
            "justify_items": null,
            "grid_row": null,
            "max_height": null,
            "align_content": null,
            "visibility": null,
            "align_self": null,
            "height": null,
            "min_height": null,
            "padding": null,
            "grid_auto_rows": null,
            "grid_gap": null,
            "max_width": null,
            "order": null,
            "_view_module_version": "1.2.0",
            "grid_template_areas": null,
            "object_position": null,
            "object_fit": null,
            "grid_auto_columns": null,
            "margin": null,
            "display": null,
            "left": null
          }
        },
        "d340c83516cb465d93323dbe51463bf8": {
          "model_module": "@jupyter-widgets/controls",
          "model_name": "IntSliderModel",
          "state": {
            "_view_name": "IntSliderView",
            "style": "IPY_MODEL_4985739dfa1344eba33f468115369dc6",
            "_dom_classes": [],
            "description": "t",
            "step": 1,
            "_model_name": "IntSliderModel",
            "orientation": "horizontal",
            "max": 50,
            "_view_module": "@jupyter-widgets/controls",
            "_model_module_version": "1.5.0",
            "value": 1,
            "_view_count": null,
            "disabled": false,
            "_view_module_version": "1.5.0",
            "min": 1,
            "continuous_update": true,
            "readout_format": "d",
            "description_tooltip": null,
            "readout": true,
            "_model_module": "@jupyter-widgets/controls",
            "layout": "IPY_MODEL_805713f9bf7c4a1882d3905cd59a7567"
          }
        },
        "24c0fbe4a1fe4d49a3b5dfb1e5f6a671": {
          "model_module": "@jupyter-widgets/output",
          "model_name": "OutputModel",
          "state": {
            "_view_name": "OutputView",
            "msg_id": "",
            "_dom_classes": [],
            "_model_name": "OutputModel",
            "outputs": [
              {
                "output_type": "display_data",
                "metadata": {
                  "tags": [],
                  "needs_background": "light"
                },
                "image/png": "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\n",
                "text/plain": "<Figure size 432x288 with 1 Axes>"
              }
            ],
            "_view_module": "@jupyter-widgets/output",
            "_model_module_version": "1.0.0",
            "_view_count": null,
            "_view_module_version": "1.0.0",
            "layout": "IPY_MODEL_48f86ef9fb024c73960a328309489faf",
            "_model_module": "@jupyter-widgets/output"
          }
        },
        "4985739dfa1344eba33f468115369dc6": {
          "model_module": "@jupyter-widgets/controls",
          "model_name": "SliderStyleModel",
          "state": {
            "_view_name": "StyleView",
            "handle_color": null,
            "_model_name": "SliderStyleModel",
            "description_width": "",
            "_view_module": "@jupyter-widgets/base",
            "_model_module_version": "1.5.0",
            "_view_count": null,
            "_view_module_version": "1.2.0",
            "_model_module": "@jupyter-widgets/controls"
          }
        },
        "805713f9bf7c4a1882d3905cd59a7567": {
          "model_module": "@jupyter-widgets/base",
          "model_name": "LayoutModel",
          "state": {
            "_view_name": "LayoutView",
            "grid_template_rows": null,
            "right": null,
            "justify_content": null,
            "_view_module": "@jupyter-widgets/base",
            "overflow": null,
            "_model_module_version": "1.2.0",
            "_view_count": null,
            "flex_flow": null,
            "width": null,
            "min_width": null,
            "border": null,
            "align_items": null,
            "bottom": null,
            "_model_module": "@jupyter-widgets/base",
            "top": null,
            "grid_column": null,
            "overflow_y": null,
            "overflow_x": null,
            "grid_auto_flow": null,
            "grid_area": null,
            "grid_template_columns": null,
            "flex": null,
            "_model_name": "LayoutModel",
            "justify_items": null,
            "grid_row": null,
            "max_height": null,
            "align_content": null,
            "visibility": null,
            "align_self": null,
            "height": null,
            "min_height": null,
            "padding": null,
            "grid_auto_rows": null,
            "grid_gap": null,
            "max_width": null,
            "order": null,
            "_view_module_version": "1.2.0",
            "grid_template_areas": null,
            "object_position": null,
            "object_fit": null,
            "grid_auto_columns": null,
            "margin": null,
            "display": null,
            "left": null
          }
        },
        "48f86ef9fb024c73960a328309489faf": {
          "model_module": "@jupyter-widgets/base",
          "model_name": "LayoutModel",
          "state": {
            "_view_name": "LayoutView",
            "grid_template_rows": null,
            "right": null,
            "justify_content": null,
            "_view_module": "@jupyter-widgets/base",
            "overflow": null,
            "_model_module_version": "1.2.0",
            "_view_count": null,
            "flex_flow": null,
            "width": null,
            "min_width": null,
            "border": null,
            "align_items": null,
            "bottom": null,
            "_model_module": "@jupyter-widgets/base",
            "top": null,
            "grid_column": null,
            "overflow_y": null,
            "overflow_x": null,
            "grid_auto_flow": null,
            "grid_area": null,
            "grid_template_columns": null,
            "flex": null,
            "_model_name": "LayoutModel",
            "justify_items": null,
            "grid_row": null,
            "max_height": null,
            "align_content": null,
            "visibility": null,
            "align_self": null,
            "height": null,
            "min_height": null,
            "padding": null,
            "grid_auto_rows": null,
            "grid_gap": null,
            "max_width": null,
            "order": null,
            "_view_module_version": "1.2.0",
            "grid_template_areas": null,
            "object_position": null,
            "object_fit": null,
            "grid_auto_columns": null,
            "margin": null,
            "display": null,
            "left": null
          }
        },
        "2f90c023368c4b86b63ee618f5311905": {
          "model_module": "@jupyter-widgets/controls",
          "model_name": "VBoxModel",
          "state": {
            "_view_name": "VBoxView",
            "_dom_classes": [
              "widget-interact"
            ],
            "_model_name": "VBoxModel",
            "_view_module": "@jupyter-widgets/controls",
            "_model_module_version": "1.5.0",
            "_view_count": null,
            "_view_module_version": "1.5.0",
            "box_style": "",
            "layout": "IPY_MODEL_426f093da7e548538fb9aa942a48955e",
            "_model_module": "@jupyter-widgets/controls",
            "children": [
              "IPY_MODEL_5ff9786fef4c476d81f23df16e3ae2ec",
              "IPY_MODEL_962b6baaf37c4aa7b255bd1ab33f4477"
            ]
          }
        },
        "426f093da7e548538fb9aa942a48955e": {
          "model_module": "@jupyter-widgets/base",
          "model_name": "LayoutModel",
          "state": {
            "_view_name": "LayoutView",
            "grid_template_rows": null,
            "right": null,
            "justify_content": null,
            "_view_module": "@jupyter-widgets/base",
            "overflow": null,
            "_model_module_version": "1.2.0",
            "_view_count": null,
            "flex_flow": null,
            "width": null,
            "min_width": null,
            "border": null,
            "align_items": null,
            "bottom": null,
            "_model_module": "@jupyter-widgets/base",
            "top": null,
            "grid_column": null,
            "overflow_y": null,
            "overflow_x": null,
            "grid_auto_flow": null,
            "grid_area": null,
            "grid_template_columns": null,
            "flex": null,
            "_model_name": "LayoutModel",
            "justify_items": null,
            "grid_row": null,
            "max_height": null,
            "align_content": null,
            "visibility": null,
            "align_self": null,
            "height": null,
            "min_height": null,
            "padding": null,
            "grid_auto_rows": null,
            "grid_gap": null,
            "max_width": null,
            "order": null,
            "_view_module_version": "1.2.0",
            "grid_template_areas": null,
            "object_position": null,
            "object_fit": null,
            "grid_auto_columns": null,
            "margin": null,
            "display": null,
            "left": null
          }
        },
        "5ff9786fef4c476d81f23df16e3ae2ec": {
          "model_module": "@jupyter-widgets/controls",
          "model_name": "IntSliderModel",
          "state": {
            "_view_name": "IntSliderView",
            "style": "IPY_MODEL_51aa17446bfb40529a403257d71df583",
            "_dom_classes": [],
            "description": "x",
            "step": 1,
            "_model_name": "IntSliderModel",
            "orientation": "horizontal",
            "max": 99,
            "_view_module": "@jupyter-widgets/controls",
            "_model_module_version": "1.5.0",
            "value": -1,
            "_view_count": null,
            "disabled": false,
            "_view_module_version": "1.5.0",
            "min": -100,
            "continuous_update": true,
            "readout_format": "d",
            "description_tooltip": null,
            "readout": true,
            "_model_module": "@jupyter-widgets/controls",
            "layout": "IPY_MODEL_8c81108955854f0fb3c1733cc5d3c185"
          }
        },
        "962b6baaf37c4aa7b255bd1ab33f4477": {
          "model_module": "@jupyter-widgets/output",
          "model_name": "OutputModel",
          "state": {
            "_view_name": "OutputView",
            "msg_id": "",
            "_dom_classes": [],
            "_model_name": "OutputModel",
            "outputs": [
              {
                "output_type": "display_data",
                "metadata": {
                  "tags": [],
                  "needs_background": "light"
                },
                "image/png": "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\n",
                "text/plain": "<Figure size 432x288 with 1 Axes>"
              }
            ],
            "_view_module": "@jupyter-widgets/output",
            "_model_module_version": "1.0.0",
            "_view_count": null,
            "_view_module_version": "1.0.0",
            "layout": "IPY_MODEL_d915f6517d8e49c39c99030d99643abd",
            "_model_module": "@jupyter-widgets/output"
          }
        },
        "51aa17446bfb40529a403257d71df583": {
          "model_module": "@jupyter-widgets/controls",
          "model_name": "SliderStyleModel",
          "state": {
            "_view_name": "StyleView",
            "handle_color": null,
            "_model_name": "SliderStyleModel",
            "description_width": "",
            "_view_module": "@jupyter-widgets/base",
            "_model_module_version": "1.5.0",
            "_view_count": null,
            "_view_module_version": "1.2.0",
            "_model_module": "@jupyter-widgets/controls"
          }
        },
        "8c81108955854f0fb3c1733cc5d3c185": {
          "model_module": "@jupyter-widgets/base",
          "model_name": "LayoutModel",
          "state": {
            "_view_name": "LayoutView",
            "grid_template_rows": null,
            "right": null,
            "justify_content": null,
            "_view_module": "@jupyter-widgets/base",
            "overflow": null,
            "_model_module_version": "1.2.0",
            "_view_count": null,
            "flex_flow": null,
            "width": null,
            "min_width": null,
            "border": null,
            "align_items": null,
            "bottom": null,
            "_model_module": "@jupyter-widgets/base",
            "top": null,
            "grid_column": null,
            "overflow_y": null,
            "overflow_x": null,
            "grid_auto_flow": null,
            "grid_area": null,
            "grid_template_columns": null,
            "flex": null,
            "_model_name": "LayoutModel",
            "justify_items": null,
            "grid_row": null,
            "max_height": null,
            "align_content": null,
            "visibility": null,
            "align_self": null,
            "height": null,
            "min_height": null,
            "padding": null,
            "grid_auto_rows": null,
            "grid_gap": null,
            "max_width": null,
            "order": null,
            "_view_module_version": "1.2.0",
            "grid_template_areas": null,
            "object_position": null,
            "object_fit": null,
            "grid_auto_columns": null,
            "margin": null,
            "display": null,
            "left": null
          }
        },
        "d915f6517d8e49c39c99030d99643abd": {
          "model_module": "@jupyter-widgets/base",
          "model_name": "LayoutModel",
          "state": {
            "_view_name": "LayoutView",
            "grid_template_rows": null,
            "right": null,
            "justify_content": null,
            "_view_module": "@jupyter-widgets/base",
            "overflow": null,
            "_model_module_version": "1.2.0",
            "_view_count": null,
            "flex_flow": null,
            "width": null,
            "min_width": null,
            "border": null,
            "align_items": null,
            "bottom": null,
            "_model_module": "@jupyter-widgets/base",
            "top": null,
            "grid_column": null,
            "overflow_y": null,
            "overflow_x": null,
            "grid_auto_flow": null,
            "grid_area": null,
            "grid_template_columns": null,
            "flex": null,
            "_model_name": "LayoutModel",
            "justify_items": null,
            "grid_row": null,
            "max_height": null,
            "align_content": null,
            "visibility": null,
            "align_self": null,
            "height": null,
            "min_height": null,
            "padding": null,
            "grid_auto_rows": null,
            "grid_gap": null,
            "max_width": null,
            "order": null,
            "_view_module_version": "1.2.0",
            "grid_template_areas": null,
            "object_position": null,
            "object_fit": null,
            "grid_auto_columns": null,
            "margin": null,
            "display": null,
            "left": null
          }
        },
        "14d33479dc0d45dfa0fb636ce9f17c2c": {
          "model_module": "@jupyter-widgets/controls",
          "model_name": "VBoxModel",
          "state": {
            "_view_name": "VBoxView",
            "_dom_classes": [
              "widget-interact"
            ],
            "_model_name": "VBoxModel",
            "_view_module": "@jupyter-widgets/controls",
            "_model_module_version": "1.5.0",
            "_view_count": null,
            "_view_module_version": "1.5.0",
            "box_style": "",
            "layout": "IPY_MODEL_45ffa949321b428884a5b380efb5ee9c",
            "_model_module": "@jupyter-widgets/controls",
            "children": [
              "IPY_MODEL_ad8cc9531bd2470d9e59d7b2ec50329a",
              "IPY_MODEL_4092632e9f054808baf266798ad4f818"
            ]
          }
        },
        "45ffa949321b428884a5b380efb5ee9c": {
          "model_module": "@jupyter-widgets/base",
          "model_name": "LayoutModel",
          "state": {
            "_view_name": "LayoutView",
            "grid_template_rows": null,
            "right": null,
            "justify_content": null,
            "_view_module": "@jupyter-widgets/base",
            "overflow": null,
            "_model_module_version": "1.2.0",
            "_view_count": null,
            "flex_flow": null,
            "width": null,
            "min_width": null,
            "border": null,
            "align_items": null,
            "bottom": null,
            "_model_module": "@jupyter-widgets/base",
            "top": null,
            "grid_column": null,
            "overflow_y": null,
            "overflow_x": null,
            "grid_auto_flow": null,
            "grid_area": null,
            "grid_template_columns": null,
            "flex": null,
            "_model_name": "LayoutModel",
            "justify_items": null,
            "grid_row": null,
            "max_height": null,
            "align_content": null,
            "visibility": null,
            "align_self": null,
            "height": null,
            "min_height": null,
            "padding": null,
            "grid_auto_rows": null,
            "grid_gap": null,
            "max_width": null,
            "order": null,
            "_view_module_version": "1.2.0",
            "grid_template_areas": null,
            "object_position": null,
            "object_fit": null,
            "grid_auto_columns": null,
            "margin": null,
            "display": null,
            "left": null
          }
        },
        "ad8cc9531bd2470d9e59d7b2ec50329a": {
          "model_module": "@jupyter-widgets/controls",
          "model_name": "IntSliderModel",
          "state": {
            "_view_name": "IntSliderView",
            "style": "IPY_MODEL_86961c443991485887186d910fe22c9e",
            "_dom_classes": [],
            "description": "x",
            "step": 1,
            "_model_name": "IntSliderModel",
            "orientation": "horizontal",
            "max": 99,
            "_view_module": "@jupyter-widgets/controls",
            "_model_module_version": "1.5.0",
            "value": -1,
            "_view_count": null,
            "disabled": false,
            "_view_module_version": "1.5.0",
            "min": -100,
            "continuous_update": true,
            "readout_format": "d",
            "description_tooltip": null,
            "readout": true,
            "_model_module": "@jupyter-widgets/controls",
            "layout": "IPY_MODEL_d95236f4efcf40958ba1639f2b3d8afd"
          }
        },
        "4092632e9f054808baf266798ad4f818": {
          "model_module": "@jupyter-widgets/output",
          "model_name": "OutputModel",
          "state": {
            "_view_name": "OutputView",
            "msg_id": "",
            "_dom_classes": [],
            "_model_name": "OutputModel",
            "outputs": [
              {
                "output_type": "display_data",
                "metadata": {
                  "tags": [],
                  "needs_background": "light"
                },
                "image/png": "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\n",
                "text/plain": "<Figure size 432x288 with 1 Axes>"
              }
            ],
            "_view_module": "@jupyter-widgets/output",
            "_model_module_version": "1.0.0",
            "_view_count": null,
            "_view_module_version": "1.0.0",
            "layout": "IPY_MODEL_f0a5c3d9d3c042a2a9a4072b07018f5a",
            "_model_module": "@jupyter-widgets/output"
          }
        },
        "86961c443991485887186d910fe22c9e": {
          "model_module": "@jupyter-widgets/controls",
          "model_name": "SliderStyleModel",
          "state": {
            "_view_name": "StyleView",
            "handle_color": null,
            "_model_name": "SliderStyleModel",
            "description_width": "",
            "_view_module": "@jupyter-widgets/base",
            "_model_module_version": "1.5.0",
            "_view_count": null,
            "_view_module_version": "1.2.0",
            "_model_module": "@jupyter-widgets/controls"
          }
        },
        "d95236f4efcf40958ba1639f2b3d8afd": {
          "model_module": "@jupyter-widgets/base",
          "model_name": "LayoutModel",
          "state": {
            "_view_name": "LayoutView",
            "grid_template_rows": null,
            "right": null,
            "justify_content": null,
            "_view_module": "@jupyter-widgets/base",
            "overflow": null,
            "_model_module_version": "1.2.0",
            "_view_count": null,
            "flex_flow": null,
            "width": null,
            "min_width": null,
            "border": null,
            "align_items": null,
            "bottom": null,
            "_model_module": "@jupyter-widgets/base",
            "top": null,
            "grid_column": null,
            "overflow_y": null,
            "overflow_x": null,
            "grid_auto_flow": null,
            "grid_area": null,
            "grid_template_columns": null,
            "flex": null,
            "_model_name": "LayoutModel",
            "justify_items": null,
            "grid_row": null,
            "max_height": null,
            "align_content": null,
            "visibility": null,
            "align_self": null,
            "height": null,
            "min_height": null,
            "padding": null,
            "grid_auto_rows": null,
            "grid_gap": null,
            "max_width": null,
            "order": null,
            "_view_module_version": "1.2.0",
            "grid_template_areas": null,
            "object_position": null,
            "object_fit": null,
            "grid_auto_columns": null,
            "margin": null,
            "display": null,
            "left": null
          }
        },
        "f0a5c3d9d3c042a2a9a4072b07018f5a": {
          "model_module": "@jupyter-widgets/base",
          "model_name": "LayoutModel",
          "state": {
            "_view_name": "LayoutView",
            "grid_template_rows": null,
            "right": null,
            "justify_content": null,
            "_view_module": "@jupyter-widgets/base",
            "overflow": null,
            "_model_module_version": "1.2.0",
            "_view_count": null,
            "flex_flow": null,
            "width": null,
            "min_width": null,
            "border": null,
            "align_items": null,
            "bottom": null,
            "_model_module": "@jupyter-widgets/base",
            "top": null,
            "grid_column": null,
            "overflow_y": null,
            "overflow_x": null,
            "grid_auto_flow": null,
            "grid_area": null,
            "grid_template_columns": null,
            "flex": null,
            "_model_name": "LayoutModel",
            "justify_items": null,
            "grid_row": null,
            "max_height": null,
            "align_content": null,
            "visibility": null,
            "align_self": null,
            "height": null,
            "min_height": null,
            "padding": null,
            "grid_auto_rows": null,
            "grid_gap": null,
            "max_width": null,
            "order": null,
            "_view_module_version": "1.2.0",
            "grid_template_areas": null,
            "object_position": null,
            "object_fit": null,
            "grid_auto_columns": null,
            "margin": null,
            "display": null,
            "left": null
          }
        },
        "b70ce4f1d8bb4541b705fb098d2934d9": {
          "model_module": "@jupyter-widgets/controls",
          "model_name": "VBoxModel",
          "state": {
            "_view_name": "VBoxView",
            "_dom_classes": [
              "widget-interact"
            ],
            "_model_name": "VBoxModel",
            "_view_module": "@jupyter-widgets/controls",
            "_model_module_version": "1.5.0",
            "_view_count": null,
            "_view_module_version": "1.5.0",
            "box_style": "",
            "layout": "IPY_MODEL_4212c1b8305b4819be3fc78af15c5e31",
            "_model_module": "@jupyter-widgets/controls",
            "children": [
              "IPY_MODEL_30240bc04eb84637a2b23c99a92bfbe4",
              "IPY_MODEL_25d4751356234f3b9c6b5990c21afdaa",
              "IPY_MODEL_4383ad8ff0b7436494080e1b028b1e46",
              "IPY_MODEL_d76497bbd8df49ad915520fd86e785da"
            ]
          }
        },
        "4212c1b8305b4819be3fc78af15c5e31": {
          "model_module": "@jupyter-widgets/base",
          "model_name": "LayoutModel",
          "state": {
            "_view_name": "LayoutView",
            "grid_template_rows": null,
            "right": null,
            "justify_content": null,
            "_view_module": "@jupyter-widgets/base",
            "overflow": null,
            "_model_module_version": "1.2.0",
            "_view_count": null,
            "flex_flow": null,
            "width": null,
            "min_width": null,
            "border": null,
            "align_items": null,
            "bottom": null,
            "_model_module": "@jupyter-widgets/base",
            "top": null,
            "grid_column": null,
            "overflow_y": null,
            "overflow_x": null,
            "grid_auto_flow": null,
            "grid_area": null,
            "grid_template_columns": null,
            "flex": null,
            "_model_name": "LayoutModel",
            "justify_items": null,
            "grid_row": null,
            "max_height": null,
            "align_content": null,
            "visibility": null,
            "align_self": null,
            "height": null,
            "min_height": null,
            "padding": null,
            "grid_auto_rows": null,
            "grid_gap": null,
            "max_width": null,
            "order": null,
            "_view_module_version": "1.2.0",
            "grid_template_areas": null,
            "object_position": null,
            "object_fit": null,
            "grid_auto_columns": null,
            "margin": null,
            "display": null,
            "left": null
          }
        },
        "30240bc04eb84637a2b23c99a92bfbe4": {
          "model_module": "@jupyter-widgets/controls",
          "model_name": "IntSliderModel",
          "state": {
            "_view_name": "IntSliderView",
            "style": "IPY_MODEL_46f6517123e34e2694f9a4f5aa382861",
            "_dom_classes": [],
            "description": "t",
            "step": 1,
            "_model_name": "IntSliderModel",
            "orientation": "horizontal",
            "max": 50,
            "_view_module": "@jupyter-widgets/controls",
            "_model_module_version": "1.5.0",
            "value": 1,
            "_view_count": null,
            "disabled": false,
            "_view_module_version": "1.5.0",
            "min": 1,
            "continuous_update": true,
            "readout_format": "d",
            "description_tooltip": null,
            "readout": true,
            "_model_module": "@jupyter-widgets/controls",
            "layout": "IPY_MODEL_6dae26db79274f58b4dfbbbefec9005b"
          }
        },
        "25d4751356234f3b9c6b5990c21afdaa": {
          "model_module": "@jupyter-widgets/controls",
          "model_name": "FloatSliderModel",
          "state": {
            "_view_name": "FloatSliderView",
            "style": "IPY_MODEL_5eb8188deafa4610baf94dc04050fb98",
            "_dom_classes": [],
            "description": "D_x",
            "step": 0.1,
            "_model_name": "FloatSliderModel",
            "orientation": "horizontal",
            "max": 5,
            "_view_module": "@jupyter-widgets/controls",
            "_model_module_version": "1.5.0",
            "value": 2.5000000000000004,
            "_view_count": null,
            "disabled": false,
            "_view_module_version": "1.5.0",
            "min": 0.1,
            "continuous_update": true,
            "readout_format": ".2f",
            "description_tooltip": null,
            "readout": true,
            "_model_module": "@jupyter-widgets/controls",
            "layout": "IPY_MODEL_8af3c7352a714e208437a1fc035da6b2"
          }
        },
        "4383ad8ff0b7436494080e1b028b1e46": {
          "model_module": "@jupyter-widgets/controls",
          "model_name": "FloatSliderModel",
          "state": {
            "_view_name": "FloatSliderView",
            "style": "IPY_MODEL_3a540e65917f4fd996e358cc451c0ae3",
            "_dom_classes": [],
            "description": "D_y",
            "step": 0.1,
            "_model_name": "FloatSliderModel",
            "orientation": "horizontal",
            "max": 5,
            "_view_module": "@jupyter-widgets/controls",
            "_model_module_version": "1.5.0",
            "value": 2.5000000000000004,
            "_view_count": null,
            "disabled": false,
            "_view_module_version": "1.5.0",
            "min": 0.1,
            "continuous_update": true,
            "readout_format": ".2f",
            "description_tooltip": null,
            "readout": true,
            "_model_module": "@jupyter-widgets/controls",
            "layout": "IPY_MODEL_da409aaaa6e140e095fd45b331e18621"
          }
        },
        "d76497bbd8df49ad915520fd86e785da": {
          "model_module": "@jupyter-widgets/output",
          "model_name": "OutputModel",
          "state": {
            "_view_name": "OutputView",
            "msg_id": "",
            "_dom_classes": [],
            "_model_name": "OutputModel",
            "outputs": [
              {
                "output_type": "display_data",
                "metadata": {
                  "tags": [],
                  "needs_background": "light"
                },
                "image/png": "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\n",
                "text/plain": "<Figure size 720x720 with 1 Axes>"
              }
            ],
            "_view_module": "@jupyter-widgets/output",
            "_model_module_version": "1.0.0",
            "_view_count": null,
            "_view_module_version": "1.0.0",
            "layout": "IPY_MODEL_af6480bab76c4105b4c3de04d00db982",
            "_model_module": "@jupyter-widgets/output"
          }
        },
        "46f6517123e34e2694f9a4f5aa382861": {
          "model_module": "@jupyter-widgets/controls",
          "model_name": "SliderStyleModel",
          "state": {
            "_view_name": "StyleView",
            "handle_color": null,
            "_model_name": "SliderStyleModel",
            "description_width": "",
            "_view_module": "@jupyter-widgets/base",
            "_model_module_version": "1.5.0",
            "_view_count": null,
            "_view_module_version": "1.2.0",
            "_model_module": "@jupyter-widgets/controls"
          }
        },
        "6dae26db79274f58b4dfbbbefec9005b": {
          "model_module": "@jupyter-widgets/base",
          "model_name": "LayoutModel",
          "state": {
            "_view_name": "LayoutView",
            "grid_template_rows": null,
            "right": null,
            "justify_content": null,
            "_view_module": "@jupyter-widgets/base",
            "overflow": null,
            "_model_module_version": "1.2.0",
            "_view_count": null,
            "flex_flow": null,
            "width": null,
            "min_width": null,
            "border": null,
            "align_items": null,
            "bottom": null,
            "_model_module": "@jupyter-widgets/base",
            "top": null,
            "grid_column": null,
            "overflow_y": null,
            "overflow_x": null,
            "grid_auto_flow": null,
            "grid_area": null,
            "grid_template_columns": null,
            "flex": null,
            "_model_name": "LayoutModel",
            "justify_items": null,
            "grid_row": null,
            "max_height": null,
            "align_content": null,
            "visibility": null,
            "align_self": null,
            "height": null,
            "min_height": null,
            "padding": null,
            "grid_auto_rows": null,
            "grid_gap": null,
            "max_width": null,
            "order": null,
            "_view_module_version": "1.2.0",
            "grid_template_areas": null,
            "object_position": null,
            "object_fit": null,
            "grid_auto_columns": null,
            "margin": null,
            "display": null,
            "left": null
          }
        },
        "5eb8188deafa4610baf94dc04050fb98": {
          "model_module": "@jupyter-widgets/controls",
          "model_name": "SliderStyleModel",
          "state": {
            "_view_name": "StyleView",
            "handle_color": null,
            "_model_name": "SliderStyleModel",
            "description_width": "",
            "_view_module": "@jupyter-widgets/base",
            "_model_module_version": "1.5.0",
            "_view_count": null,
            "_view_module_version": "1.2.0",
            "_model_module": "@jupyter-widgets/controls"
          }
        },
        "8af3c7352a714e208437a1fc035da6b2": {
          "model_module": "@jupyter-widgets/base",
          "model_name": "LayoutModel",
          "state": {
            "_view_name": "LayoutView",
            "grid_template_rows": null,
            "right": null,
            "justify_content": null,
            "_view_module": "@jupyter-widgets/base",
            "overflow": null,
            "_model_module_version": "1.2.0",
            "_view_count": null,
            "flex_flow": null,
            "width": null,
            "min_width": null,
            "border": null,
            "align_items": null,
            "bottom": null,
            "_model_module": "@jupyter-widgets/base",
            "top": null,
            "grid_column": null,
            "overflow_y": null,
            "overflow_x": null,
            "grid_auto_flow": null,
            "grid_area": null,
            "grid_template_columns": null,
            "flex": null,
            "_model_name": "LayoutModel",
            "justify_items": null,
            "grid_row": null,
            "max_height": null,
            "align_content": null,
            "visibility": null,
            "align_self": null,
            "height": null,
            "min_height": null,
            "padding": null,
            "grid_auto_rows": null,
            "grid_gap": null,
            "max_width": null,
            "order": null,
            "_view_module_version": "1.2.0",
            "grid_template_areas": null,
            "object_position": null,
            "object_fit": null,
            "grid_auto_columns": null,
            "margin": null,
            "display": null,
            "left": null
          }
        },
        "3a540e65917f4fd996e358cc451c0ae3": {
          "model_module": "@jupyter-widgets/controls",
          "model_name": "SliderStyleModel",
          "state": {
            "_view_name": "StyleView",
            "handle_color": null,
            "_model_name": "SliderStyleModel",
            "description_width": "",
            "_view_module": "@jupyter-widgets/base",
            "_model_module_version": "1.5.0",
            "_view_count": null,
            "_view_module_version": "1.2.0",
            "_model_module": "@jupyter-widgets/controls"
          }
        },
        "da409aaaa6e140e095fd45b331e18621": {
          "model_module": "@jupyter-widgets/base",
          "model_name": "LayoutModel",
          "state": {
            "_view_name": "LayoutView",
            "grid_template_rows": null,
            "right": null,
            "justify_content": null,
            "_view_module": "@jupyter-widgets/base",
            "overflow": null,
            "_model_module_version": "1.2.0",
            "_view_count": null,
            "flex_flow": null,
            "width": null,
            "min_width": null,
            "border": null,
            "align_items": null,
            "bottom": null,
            "_model_module": "@jupyter-widgets/base",
            "top": null,
            "grid_column": null,
            "overflow_y": null,
            "overflow_x": null,
            "grid_auto_flow": null,
            "grid_area": null,
            "grid_template_columns": null,
            "flex": null,
            "_model_name": "LayoutModel",
            "justify_items": null,
            "grid_row": null,
            "max_height": null,
            "align_content": null,
            "visibility": null,
            "align_self": null,
            "height": null,
            "min_height": null,
            "padding": null,
            "grid_auto_rows": null,
            "grid_gap": null,
            "max_width": null,
            "order": null,
            "_view_module_version": "1.2.0",
            "grid_template_areas": null,
            "object_position": null,
            "object_fit": null,
            "grid_auto_columns": null,
            "margin": null,
            "display": null,
            "left": null
          }
        },
        "af6480bab76c4105b4c3de04d00db982": {
          "model_module": "@jupyter-widgets/base",
          "model_name": "LayoutModel",
          "state": {
            "_view_name": "LayoutView",
            "grid_template_rows": null,
            "right": null,
            "justify_content": null,
            "_view_module": "@jupyter-widgets/base",
            "overflow": null,
            "_model_module_version": "1.2.0",
            "_view_count": null,
            "flex_flow": null,
            "width": null,
            "min_width": null,
            "border": null,
            "align_items": null,
            "bottom": null,
            "_model_module": "@jupyter-widgets/base",
            "top": null,
            "grid_column": null,
            "overflow_y": null,
            "overflow_x": null,
            "grid_auto_flow": null,
            "grid_area": null,
            "grid_template_columns": null,
            "flex": null,
            "_model_name": "LayoutModel",
            "justify_items": null,
            "grid_row": null,
            "max_height": null,
            "align_content": null,
            "visibility": null,
            "align_self": null,
            "height": null,
            "min_height": null,
            "padding": null,
            "grid_auto_rows": null,
            "grid_gap": null,
            "max_width": null,
            "order": null,
            "_view_module_version": "1.2.0",
            "grid_template_areas": null,
            "object_position": null,
            "object_fit": null,
            "grid_auto_columns": null,
            "margin": null,
            "display": null,
            "left": null
          }
        },
        "ce5b525b5e664726983b19bb1aa78f6f": {
          "model_module": "@jupyter-widgets/controls",
          "model_name": "VBoxModel",
          "state": {
            "_view_name": "VBoxView",
            "_dom_classes": [
              "widget-interact"
            ],
            "_model_name": "VBoxModel",
            "_view_module": "@jupyter-widgets/controls",
            "_model_module_version": "1.5.0",
            "_view_count": null,
            "_view_module_version": "1.5.0",
            "box_style": "",
            "layout": "IPY_MODEL_e3c93f25427a4eb18e09dde464fbbc8c",
            "_model_module": "@jupyter-widgets/controls",
            "children": [
              "IPY_MODEL_4390ffcb2d9d4949837a0d4550e1b54e",
              "IPY_MODEL_733fb108297b46419918df278d5b067f",
              "IPY_MODEL_26adc56e38f9488ea741010bd494cde8",
              "IPY_MODEL_c78c4660b9a6413898ca9c8489a432f1"
            ]
          }
        },
        "e3c93f25427a4eb18e09dde464fbbc8c": {
          "model_module": "@jupyter-widgets/base",
          "model_name": "LayoutModel",
          "state": {
            "_view_name": "LayoutView",
            "grid_template_rows": null,
            "right": null,
            "justify_content": null,
            "_view_module": "@jupyter-widgets/base",
            "overflow": null,
            "_model_module_version": "1.2.0",
            "_view_count": null,
            "flex_flow": null,
            "width": null,
            "min_width": null,
            "border": null,
            "align_items": null,
            "bottom": null,
            "_model_module": "@jupyter-widgets/base",
            "top": null,
            "grid_column": null,
            "overflow_y": null,
            "overflow_x": null,
            "grid_auto_flow": null,
            "grid_area": null,
            "grid_template_columns": null,
            "flex": null,
            "_model_name": "LayoutModel",
            "justify_items": null,
            "grid_row": null,
            "max_height": null,
            "align_content": null,
            "visibility": null,
            "align_self": null,
            "height": null,
            "min_height": null,
            "padding": null,
            "grid_auto_rows": null,
            "grid_gap": null,
            "max_width": null,
            "order": null,
            "_view_module_version": "1.2.0",
            "grid_template_areas": null,
            "object_position": null,
            "object_fit": null,
            "grid_auto_columns": null,
            "margin": null,
            "display": null,
            "left": null
          }
        },
        "4390ffcb2d9d4949837a0d4550e1b54e": {
          "model_module": "@jupyter-widgets/controls",
          "model_name": "IntSliderModel",
          "state": {
            "_view_name": "IntSliderView",
            "style": "IPY_MODEL_99813e7008494ec1a641acab8f9c1b3a",
            "_dom_classes": [],
            "description": "t",
            "step": 1,
            "_model_name": "IntSliderModel",
            "orientation": "horizontal",
            "max": 50,
            "_view_module": "@jupyter-widgets/controls",
            "_model_module_version": "1.5.0",
            "value": 1,
            "_view_count": null,
            "disabled": false,
            "_view_module_version": "1.5.0",
            "min": 1,
            "continuous_update": true,
            "readout_format": "d",
            "description_tooltip": null,
            "readout": true,
            "_model_module": "@jupyter-widgets/controls",
            "layout": "IPY_MODEL_4c18b0048bfb48008b151d1e73974556"
          }
        },
        "733fb108297b46419918df278d5b067f": {
          "model_module": "@jupyter-widgets/controls",
          "model_name": "FloatSliderModel",
          "state": {
            "_view_name": "FloatSliderView",
            "style": "IPY_MODEL_4e7005f4fa4849a9b7b24072d0483743",
            "_dom_classes": [],
            "description": "D_x",
            "step": 0.01,
            "_model_name": "FloatSliderModel",
            "orientation": "horizontal",
            "max": 0.5,
            "_view_module": "@jupyter-widgets/controls",
            "_model_module_version": "1.5.0",
            "value": 0.25,
            "_view_count": null,
            "disabled": false,
            "_view_module_version": "1.5.0",
            "min": 0.01,
            "continuous_update": true,
            "readout_format": ".2f",
            "description_tooltip": null,
            "readout": true,
            "_model_module": "@jupyter-widgets/controls",
            "layout": "IPY_MODEL_97712c21e93641d9b09be246ab1ffedd"
          }
        },
        "26adc56e38f9488ea741010bd494cde8": {
          "model_module": "@jupyter-widgets/controls",
          "model_name": "FloatSliderModel",
          "state": {
            "_view_name": "FloatSliderView",
            "style": "IPY_MODEL_30f9d3e87de14ca9b07cb4fbc3b41b7c",
            "_dom_classes": [],
            "description": "D_y",
            "step": 0.01,
            "_model_name": "FloatSliderModel",
            "orientation": "horizontal",
            "max": 0.5,
            "_view_module": "@jupyter-widgets/controls",
            "_model_module_version": "1.5.0",
            "value": 0.25,
            "_view_count": null,
            "disabled": false,
            "_view_module_version": "1.5.0",
            "min": 0.01,
            "continuous_update": true,
            "readout_format": ".2f",
            "description_tooltip": null,
            "readout": true,
            "_model_module": "@jupyter-widgets/controls",
            "layout": "IPY_MODEL_0a4b2fc4d2c04218afc0702fb5cd26ea"
          }
        },
        "c78c4660b9a6413898ca9c8489a432f1": {
          "model_module": "@jupyter-widgets/output",
          "model_name": "OutputModel",
          "state": {
            "_view_name": "OutputView",
            "msg_id": "",
            "_dom_classes": [],
            "_model_name": "OutputModel",
            "outputs": [
              {
                "output_type": "display_data",
                "metadata": {
                  "tags": [],
                  "needs_background": "light"
                },
                "image/png": "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\n",
                "text/plain": "<Figure size 720x720 with 1 Axes>"
              }
            ],
            "_view_module": "@jupyter-widgets/output",
            "_model_module_version": "1.0.0",
            "_view_count": null,
            "_view_module_version": "1.0.0",
            "layout": "IPY_MODEL_10669bbbb39b459686f116051bce872f",
            "_model_module": "@jupyter-widgets/output"
          }
        },
        "99813e7008494ec1a641acab8f9c1b3a": {
          "model_module": "@jupyter-widgets/controls",
          "model_name": "SliderStyleModel",
          "state": {
            "_view_name": "StyleView",
            "handle_color": null,
            "_model_name": "SliderStyleModel",
            "description_width": "",
            "_view_module": "@jupyter-widgets/base",
            "_model_module_version": "1.5.0",
            "_view_count": null,
            "_view_module_version": "1.2.0",
            "_model_module": "@jupyter-widgets/controls"
          }
        },
        "4c18b0048bfb48008b151d1e73974556": {
          "model_module": "@jupyter-widgets/base",
          "model_name": "LayoutModel",
          "state": {
            "_view_name": "LayoutView",
            "grid_template_rows": null,
            "right": null,
            "justify_content": null,
            "_view_module": "@jupyter-widgets/base",
            "overflow": null,
            "_model_module_version": "1.2.0",
            "_view_count": null,
            "flex_flow": null,
            "width": null,
            "min_width": null,
            "border": null,
            "align_items": null,
            "bottom": null,
            "_model_module": "@jupyter-widgets/base",
            "top": null,
            "grid_column": null,
            "overflow_y": null,
            "overflow_x": null,
            "grid_auto_flow": null,
            "grid_area": null,
            "grid_template_columns": null,
            "flex": null,
            "_model_name": "LayoutModel",
            "justify_items": null,
            "grid_row": null,
            "max_height": null,
            "align_content": null,
            "visibility": null,
            "align_self": null,
            "height": null,
            "min_height": null,
            "padding": null,
            "grid_auto_rows": null,
            "grid_gap": null,
            "max_width": null,
            "order": null,
            "_view_module_version": "1.2.0",
            "grid_template_areas": null,
            "object_position": null,
            "object_fit": null,
            "grid_auto_columns": null,
            "margin": null,
            "display": null,
            "left": null
          }
        },
        "4e7005f4fa4849a9b7b24072d0483743": {
          "model_module": "@jupyter-widgets/controls",
          "model_name": "SliderStyleModel",
          "state": {
            "_view_name": "StyleView",
            "handle_color": null,
            "_model_name": "SliderStyleModel",
            "description_width": "",
            "_view_module": "@jupyter-widgets/base",
            "_model_module_version": "1.5.0",
            "_view_count": null,
            "_view_module_version": "1.2.0",
            "_model_module": "@jupyter-widgets/controls"
          }
        },
        "97712c21e93641d9b09be246ab1ffedd": {
          "model_module": "@jupyter-widgets/base",
          "model_name": "LayoutModel",
          "state": {
            "_view_name": "LayoutView",
            "grid_template_rows": null,
            "right": null,
            "justify_content": null,
            "_view_module": "@jupyter-widgets/base",
            "overflow": null,
            "_model_module_version": "1.2.0",
            "_view_count": null,
            "flex_flow": null,
            "width": null,
            "min_width": null,
            "border": null,
            "align_items": null,
            "bottom": null,
            "_model_module": "@jupyter-widgets/base",
            "top": null,
            "grid_column": null,
            "overflow_y": null,
            "overflow_x": null,
            "grid_auto_flow": null,
            "grid_area": null,
            "grid_template_columns": null,
            "flex": null,
            "_model_name": "LayoutModel",
            "justify_items": null,
            "grid_row": null,
            "max_height": null,
            "align_content": null,
            "visibility": null,
            "align_self": null,
            "height": null,
            "min_height": null,
            "padding": null,
            "grid_auto_rows": null,
            "grid_gap": null,
            "max_width": null,
            "order": null,
            "_view_module_version": "1.2.0",
            "grid_template_areas": null,
            "object_position": null,
            "object_fit": null,
            "grid_auto_columns": null,
            "margin": null,
            "display": null,
            "left": null
          }
        },
        "30f9d3e87de14ca9b07cb4fbc3b41b7c": {
          "model_module": "@jupyter-widgets/controls",
          "model_name": "SliderStyleModel",
          "state": {
            "_view_name": "StyleView",
            "handle_color": null,
            "_model_name": "SliderStyleModel",
            "description_width": "",
            "_view_module": "@jupyter-widgets/base",
            "_model_module_version": "1.5.0",
            "_view_count": null,
            "_view_module_version": "1.2.0",
            "_model_module": "@jupyter-widgets/controls"
          }
        },
        "0a4b2fc4d2c04218afc0702fb5cd26ea": {
          "model_module": "@jupyter-widgets/base",
          "model_name": "LayoutModel",
          "state": {
            "_view_name": "LayoutView",
            "grid_template_rows": null,
            "right": null,
            "justify_content": null,
            "_view_module": "@jupyter-widgets/base",
            "overflow": null,
            "_model_module_version": "1.2.0",
            "_view_count": null,
            "flex_flow": null,
            "width": null,
            "min_width": null,
            "border": null,
            "align_items": null,
            "bottom": null,
            "_model_module": "@jupyter-widgets/base",
            "top": null,
            "grid_column": null,
            "overflow_y": null,
            "overflow_x": null,
            "grid_auto_flow": null,
            "grid_area": null,
            "grid_template_columns": null,
            "flex": null,
            "_model_name": "LayoutModel",
            "justify_items": null,
            "grid_row": null,
            "max_height": null,
            "align_content": null,
            "visibility": null,
            "align_self": null,
            "height": null,
            "min_height": null,
            "padding": null,
            "grid_auto_rows": null,
            "grid_gap": null,
            "max_width": null,
            "order": null,
            "_view_module_version": "1.2.0",
            "grid_template_areas": null,
            "object_position": null,
            "object_fit": null,
            "grid_auto_columns": null,
            "margin": null,
            "display": null,
            "left": null
          }
        },
        "10669bbbb39b459686f116051bce872f": {
          "model_module": "@jupyter-widgets/base",
          "model_name": "LayoutModel",
          "state": {
            "_view_name": "LayoutView",
            "grid_template_rows": null,
            "right": null,
            "justify_content": null,
            "_view_module": "@jupyter-widgets/base",
            "overflow": null,
            "_model_module_version": "1.2.0",
            "_view_count": null,
            "flex_flow": null,
            "width": null,
            "min_width": null,
            "border": null,
            "align_items": null,
            "bottom": null,
            "_model_module": "@jupyter-widgets/base",
            "top": null,
            "grid_column": null,
            "overflow_y": null,
            "overflow_x": null,
            "grid_auto_flow": null,
            "grid_area": null,
            "grid_template_columns": null,
            "flex": null,
            "_model_name": "LayoutModel",
            "justify_items": null,
            "grid_row": null,
            "max_height": null,
            "align_content": null,
            "visibility": null,
            "align_self": null,
            "height": null,
            "min_height": null,
            "padding": null,
            "grid_auto_rows": null,
            "grid_gap": null,
            "max_width": null,
            "order": null,
            "_view_module_version": "1.2.0",
            "grid_template_areas": null,
            "object_position": null,
            "object_fit": null,
            "grid_auto_columns": null,
            "margin": null,
            "display": null,
            "left": null
          }
        }
      }
    }
  },
  "cells": [
    {
      "cell_type": "markdown",
      "metadata": {
        "id": "9XF-TuNgXuA0"
      },
      "source": [
        "# Fourier methods for solvinge PDEs\r\n",
        "In the problem set you looked the diffusion advection equation and how this can be solved by Fourier methods. You solved this for an initial condition of a point source of dye.\r\n",
        "\r\n",
        "In the second part you looked at generalising this method and found that for a general initial condition the evolution can be expressed through convolutions. This workbook allows you to investigate some standard example numerically."
      ]
    },
    {
      "cell_type": "markdown",
      "metadata": {
        "id": "rsPKEaz7-ABt"
      },
      "source": [
        "## Initialisation code\r\n",
        "\r\n",
        "These few cells produce some functions for finding (to a good approximation) the various functions that we're interested in.  You don't need to understand the details of how any of this works, but feel free to ask.\r\n",
        "\r\n",
        "**You need to run all the cells in this section for anything to work.**"
      ]
    },
    {
      "cell_type": "code",
      "metadata": {
        "id": "f3fHrzs7-JGn"
      },
      "source": [
        "%matplotlib inline\r\n",
        "from matplotlib import pyplot\r\n",
        "import matplotlib\r\n",
        "import scipy.signal\r\n",
        "import numpy as np\r\n",
        "import ipywidgets"
      ],
      "execution_count": 1,
      "outputs": []
    },
    {
      "cell_type": "markdown",
      "metadata": {
        "id": "5Z3jdTNpEv2C"
      },
      "source": [
        "### Initial conditions"
      ]
    },
    {
      "cell_type": "code",
      "metadata": {
        "id": "ve5VqHWY_Ldp"
      },
      "source": [
        "def top_hat(x, width, amplitude = 1, centre = 0):\r\n",
        "  r\"\"\"\r\n",
        "    Generate a top hat function \r\n",
        "    \"\"\"\r\n",
        "  th = np.zeros(x.shape)\r\n",
        "  th[(x >= centre - width/2) & (x < centre + width/2)] = amplitude\r\n",
        "  return th\r\n",
        "\r\n",
        "def top_hat2D(x, y, width_x, width_y, centre = 0, amplitude = 1):\r\n",
        "  return top_hat(x, width_x, amplitude, centre) * top_hat(y, width_y, amplitude, centre)\r\n",
        "\r\n",
        "def approximateDiracDelta(x, amplitude = 1, centre = 0):\r\n",
        "  r\"\"\"\r\n",
        "    Generate a narrow top hat to approximate a delta\r\n",
        "    \"\"\"\r\n",
        "  return top_hat(x, 1, amplitude, centre)\r\n",
        "\r\n",
        "def approximateDiracDelta2D(x, y, amplitude = 1, centre = 0):\r\n",
        "  r\"\"\"\r\n",
        "    Generate a narrow top hat to approximate a delta\r\n",
        "    \"\"\"\r\n",
        "  return top_hat2D(x, y, 1, 1, centre, amplitude)\r\n",
        "\r\n",
        "def gauss_function(x, a, x0, sigma):\r\n",
        "  r\"\"\"\r\n",
        "    Generate a narrow top hat to approximate a delta\r\n",
        "    \"\"\"\r\n",
        "  return a / (np.sqrt(2 * np.pi) * sigma) * np.exp(-(x-x0)**2/(2*sigma**2))\r\n",
        "\r\n",
        "def gauss_function2D(x,y,a,x0,y0,sigma_x, sigma_y):\r\n",
        "  z = (1/(2*np.pi*sigma_x*sigma_y) * np.exp(-((x-x0)**2/(2*sigma_x**2)\r\n",
        "     + (y-y0)**2/(2*sigma_y**2))))\r\n",
        "  return z\r\n"
      ],
      "execution_count": 2,
      "outputs": []
    },
    {
      "cell_type": "markdown",
      "metadata": {
        "id": "5MHMIM4oE2kO"
      },
      "source": [
        "### Diffusion equations"
      ]
    },
    {
      "cell_type": "code",
      "metadata": {
        "id": "mlo2LJ2UAOiN"
      },
      "source": [
        "def diffusion1D(x, D, t = 0, x0 = 0, a = 1):\r\n",
        "  r'''\r\n",
        "  returns a Gaussian this is to be convolved with the initial condition\r\n",
        "  '''\r\n",
        "  #if t == 0: # treat time point one as a delta\r\n",
        "  #  g = approximateDiracDelta(x)\r\n",
        "  #else:\r\n",
        "  sigma = np.sqrt(2 * D * t)\r\n",
        "  g = gauss_function(x, a, x0, sigma)\r\n",
        "  return g\r\n",
        "\r\n",
        "def diffusion2D(x, y, Dx, Dy, t = 0, x0 = 0, y0= 0, a = 1):\r\n",
        "  r'''\r\n",
        "  returns a Gaussian this is to be convolved with the initial condition\r\n",
        "  '''\r\n",
        "  #if t == 0: # treat time point one as a delta\r\n",
        "  #  g = approximateDiracDelta2D(x, y, amplitude = 1, centre = 0)\r\n",
        "  #else:\r\n",
        "  sigma_x = np.sqrt(2 * Dx * t)\r\n",
        "  sigma_y = np.sqrt(2 * Dy * t)\r\n",
        "  g = gauss_function2D(x,y,a,x0,y0,sigma_x, sigma_y)\r\n",
        "  return g\r\n",
        "\r\n",
        "def getDiffusionAsFunctionOfTime(xs, ts, n0, g, D, c = 0):\r\n",
        "  gs = g(xs, D, ts, x0 = c * ts, a = 1)\r\n",
        "  diffusion = np.apply_along_axis(lambda m: np.convolve(m, n0, mode='same'), axis=1, arr=gs)\r\n",
        "  return diffusion\r\n",
        "\r\n"
      ],
      "execution_count": 3,
      "outputs": []
    },
    {
      "cell_type": "code",
      "metadata": {
        "id": "DEn-iwyIASXx"
      },
      "source": [
        "def diffusionplot(xs, n0, g, t, D = 10, x0 = 0):\r\n",
        "    r\"\"\"\r\n",
        "    Plot a function ``f`` and its Legendre-, Taylor- and Fourier-series\r\n",
        "    approximations of the given order on the interval ..math:`[-1, 1)`.\r\n",
        "    \"\"\"\r\n",
        "    cm = matplotlib.cm.viridis\r\n",
        "    _, axes = pyplot.subplots()\r\n",
        "    gs = g(xs, D, t, x0 = x0)  # np.array([for x in xs])\r\n",
        "    diffusion = np.convolve(gs, n0, mode = 'same')\r\n",
        "    axes.plot(xs, diffusion, label=\"n(x,t)\", linewidth=2)\r\n",
        "    axes.plot(xs, gs, label=\"g(x,t)\", linewidth=2, dashes=(5, 5))\r\n",
        "    axes.plot(xs, n0, label=\"n_0(x)\", linewidth=2, dashes=(5, 5))\r\n",
        "    axes.set_xlim((xs[0] - 0.03*(xs[-1]-xs[0]), xs[-1] + 0.03*(xs[-1]-xs[0])))\r\n",
        "    axes.set_xlabel('x')\r\n",
        "    axes.set_ylabel('n(x,t)')\r\n",
        "    mn, mx = np.min(n0), np.max(n0)\r\n",
        "    axes.legend()\r\n",
        "\r\n",
        "def diffusionplot2D(xs, ys, n0, g, t, Dx = 10, Dy = 1, x0 = 0, y0= 0):\r\n",
        "  r\"\"\"\r\n",
        "  Plot a function ``f`` and its Legendre-, Taylor- and Fourier-series\r\n",
        "  approximations of the given order on the interval ..math:`[-1, 1)`.\r\n",
        "  \"\"\"\r\n",
        "  cm = matplotlib.cm.viridis\r\n",
        "  _, axes = pyplot.subplots(figsize = [10,10])\r\n",
        "  gs = g(xs, ys, Dx, Dy, t, x0 = x0, y0= y0)  # np.array([for x in xs])\r\n",
        "  diffusion = scipy.signal.convolve2d(gs, n0, mode = 'same')\r\n",
        "  axes.contourf(xs, ys, diffusion, cmap='Blues')\r\n",
        "  axes.set_xlabel('x')\r\n",
        "  axes.set_ylabel('y')\r\n",
        "\r\n",
        "def diffusionPlotTime(x,xs,ts,diffusion):\r\n",
        "  _, axes = pyplot.subplots()\r\n",
        "  axes.plot(ts[xs==x], diffusion[xs==x])\r\n",
        "  mn, mx = np.min(diffusion), np.max(diffusion)\r\n",
        "  axes.set_ylim((mn - 0.1*(mx-mn), mx + 0.1*(mx-mn)))\r\n",
        "  axes.set_xlabel('t')\r\n",
        "  axes.set_ylabel('n(x,t)')\r\n",
        "\r\n",
        "def diffusionPlotX(t,xs,ts,diffusion):\r\n",
        "  _, axes = pyplot.subplots()\r\n",
        "  axes.plot(xs[ts==t], diffusion[ts==t])\r\n",
        "  mn, mx = np.min(diffusion), np.max(diffusion)\r\n",
        "  axes.set_ylim((mn - 0.1*(mx-mn), mx + 0.1*(mx-mn)))\r\n",
        "  axes.set_xlabel('x')\r\n",
        "  axes.set_ylabel('n(x,t)')"
      ],
      "execution_count": 4,
      "outputs": []
    },
    {
      "cell_type": "markdown",
      "metadata": {
        "id": "-64GW_vIfJRE"
      },
      "source": [
        "# Investigating diffusion with different initial conditions"
      ]
    },
    {
      "cell_type": "markdown",
      "metadata": {
        "id": "SUEMqd35fPHD"
      },
      "source": [
        "## Infinitely small point (delta function)"
      ]
    },
    {
      "cell_type": "code",
      "metadata": {
        "colab": {
          "base_uri": "https://localhost:8080/",
          "height": 311,
          "referenced_widgets": [
            "41b85199285c401c9adbda95c4a296de",
            "4582eb7d9a7a45fb8af94c347003aa88",
            "0ff5d50803914a1b9e62272ea259bc1d",
            "94f100ee95804977b7ce3e6c4946af50",
            "fd155f02136647b9b8de0f53efc6d26c",
            "c5b5a1f5eb9c48a1a47eaa0c1fc9e478",
            "e902d9cb7ab644449fd41cdb74ce1bc7"
          ]
        },
        "id": "trEbNmCDQU1t",
        "outputId": "417a2954-79dc-431c-afc7-09cc47cec6e9"
      },
      "source": [
        "x = np.linspace(-30, 30, 101)\r\n",
        "\r\n",
        "ipywidgets.interact(\r\n",
        "    lambda t: diffusionplot(x, approximateDiracDelta(x), diffusion1D, t, D = 0.1, x0 = 0),\r\n",
        "    t=ipywidgets.IntSlider(min=1, max=50, step=1, value=0),\r\n",
        ");"
      ],
      "execution_count": 5,
      "outputs": [
        {
          "output_type": "display_data",
          "data": {
            "application/vnd.jupyter.widget-view+json": {
              "model_id": "41b85199285c401c9adbda95c4a296de",
              "version_minor": 0,
              "version_major": 2
            },
            "text/plain": [
              "interactive(children=(IntSlider(value=1, description='t', max=50, min=1), Output()), _dom_classes=('widget-int…"
            ]
          },
          "metadata": {
            "tags": []
          }
        }
      ]
    },
    {
      "cell_type": "markdown",
      "metadata": {
        "id": "s1H5Ns-6faRe"
      },
      "source": [
        "## Top hat function"
      ]
    },
    {
      "cell_type": "code",
      "metadata": {
        "colab": {
          "base_uri": "https://localhost:8080/",
          "height": 311,
          "referenced_widgets": [
            "198625db9cb24e4d83dd73bdbfdd4e18",
            "b5f3c478ad6b4894b037450c087008e7",
            "7812b762145d4595b59e3c8ad1208a69",
            "392cb1733ea741848488faa3136a1190",
            "09f3c87320154b7c9fac4cfba9ca1a56",
            "195689463dc24e299596411fe88f3fc0",
            "566f627b0f18430d8b43507346d8e2af"
          ]
        },
        "id": "G2iyPAuPJW4j",
        "outputId": "3a171d73-6e96-43ee-9ed6-547800d343e3"
      },
      "source": [
        "x = np.linspace(-50, 50, 101)\r\n",
        "\r\n",
        "ipywidgets.interact(\r\n",
        "    lambda t: diffusionplot(x, top_hat(x, 10, 1), diffusion1D, t, D = 0.1),\r\n",
        "    t=ipywidgets.IntSlider(min=1, max=50, step=1, value=0),\r\n",
        ");"
      ],
      "execution_count": 6,
      "outputs": [
        {
          "output_type": "display_data",
          "data": {
            "application/vnd.jupyter.widget-view+json": {
              "model_id": "198625db9cb24e4d83dd73bdbfdd4e18",
              "version_minor": 0,
              "version_major": 2
            },
            "text/plain": [
              "interactive(children=(IntSlider(value=1, description='t', max=50, min=1), Output()), _dom_classes=('widget-int…"
            ]
          },
          "metadata": {
            "tags": []
          }
        }
      ]
    },
    {
      "cell_type": "markdown",
      "metadata": {
        "id": "wZxCKK1-ffkj"
      },
      "source": [
        "## Two points next to one another"
      ]
    },
    {
      "cell_type": "code",
      "metadata": {
        "colab": {
          "base_uri": "https://localhost:8080/",
          "height": 904,
          "referenced_widgets": [
            "316c47c29c0a4e7bacec3c8813a6dc9c",
            "cf980740817f49dea51d71a659c8d2e3",
            "5057c4006e66496bb3fa444742a6f417",
            "317340c1ce7a46f48f6fa18788fc8045",
            "e212f8d558f94c1e9cb6e1262da35142",
            "b1d186537e064f888ed1b2073c85fe8b",
            "c766b24b7c6542dcbef3957932f6c1c2"
          ]
        },
        "id": "Pz_EzazIQVh1",
        "outputId": "6d4d0ea6-6067-4cba-8e89-2134c6fea0cd"
      },
      "source": [
        "#x = np.linspace(-30, 30, 101)\r\n",
        "\r\n",
        "#ipywidgets.interact(\r\n",
        "#    lambda t: diffusionplot(x, approximateDiracDelta(x, centre = -5) + approximateDiracDelta(x, centre = 5, amplitude = 1), diffusion1D, t, D = 0.2),\r\n",
        "#    t=ipywidgets.IntSlider(min=1, max=50, step=1, value=0),\r\n",
        "#);\r\n",
        "\r\n",
        "width = 10\r\n",
        "size = 300\r\n",
        "D = 0.5\r\n",
        "c = 0.5\r\n",
        "\r\n",
        "xs = np.arange(-100, 100)\r\n",
        "n0 = approximateDiracDelta(x, centre = -5) + approximateDiracDelta(x, centre = 5, amplitude = 1)\r\n",
        "ts = np.arange(1, 201)\r\n",
        "xs, ts = np.meshgrid(xs, ts)\r\n",
        "diffusionTH = getDiffusionAsFunctionOfTime(xs, ts, n0, diffusion1D, D, c)\r\n",
        "\r\n",
        "\r\n",
        "_, axes = pyplot.subplots(figsize = [10,10])\r\n",
        "axes.contourf(xs, ts, diffusionTH, cmap='Blues')\r\n",
        "axes.set_xlabel('x')\r\n",
        "axes.set_ylabel('t')\r\n",
        "\r\n",
        "ipywidgets.interact(\r\n",
        "    lambda t: diffusionPlotX(t,xs,ts,diffusionTH),\r\n",
        "    t=(np.min(ts), np.max(ts), 1),\r\n",
        ");"
      ],
      "execution_count": 7,
      "outputs": [
        {
          "output_type": "display_data",
          "data": {
            "image/png": "[encoded data removed]",
            "text/plain": [
              "<Figure size 720x720 with 1 Axes>"
            ]
          },
          "metadata": {
            "tags": [],
            "needs_background": "light"
          }
        },
        {
          "output_type": "display_data",
          "data": {
            "application/vnd.jupyter.widget-view+json": {
              "model_id": "316c47c29c0a4e7bacec3c8813a6dc9c",
              "version_minor": 0,
              "version_major": 2
            },
            "text/plain": [
              "interactive(children=(IntSlider(value=100, description='t', max=200, min=1), Output()), _dom_classes=('widget-…"
            ]
          },
          "metadata": {
            "tags": []
          }
        }
      ]
    },
    {
      "cell_type": "markdown",
      "metadata": {
        "id": "QNKQPjWYNRkL"
      },
      "source": [
        "# Diffusion advection\r\n",
        "The above methods can be applied in the diffusion advection problem from the problem sheet. Below are examples of n(x,t)  "
      ]
    },
    {
      "cell_type": "markdown",
      "metadata": {
        "id": "6WtUVTETDGTm"
      },
      "source": [
        "## Spatial profile at different times\r\n",
        "### Diffusion from a point"
      ]
    },
    {
      "cell_type": "code",
      "metadata": {
        "colab": {
          "base_uri": "https://localhost:8080/",
          "height": 311,
          "referenced_widgets": [
            "529f7492e60d4d0aabde430cba2e8164",
            "082602d2f514444b927e376a67313de0",
            "d340c83516cb465d93323dbe51463bf8",
            "24c0fbe4a1fe4d49a3b5dfb1e5f6a671",
            "4985739dfa1344eba33f468115369dc6",
            "805713f9bf7c4a1882d3905cd59a7567",
            "48f86ef9fb024c73960a328309489faf"
          ]
        },
        "id": "ykB8Iy9HN5gg",
        "outputId": "764ae1e3-623c-4ae0-e4a5-ada2de02940c"
      },
      "source": [
        "xtime = np.linspace(-30, 30, 101)\r\n",
        "c = 0.2\r\n",
        "\r\n",
        "ipywidgets.interact(\r\n",
        "    lambda t: diffusionplot(xtime, approximateDiracDelta(xtime), diffusion1D, t, D = 0.1, x0 = c * t),\r\n",
        "    t=ipywidgets.IntSlider(min=1, max=50, step=1, value=0),\r\n",
        ");"
      ],
      "execution_count": 8,
      "outputs": [
        {
          "output_type": "display_data",
          "data": {
            "application/vnd.jupyter.widget-view+json": {
              "model_id": "529f7492e60d4d0aabde430cba2e8164",
              "version_minor": 0,
              "version_major": 2
            },
            "text/plain": [
              "interactive(children=(IntSlider(value=1, description='t', max=50, min=1), Output()), _dom_classes=('widget-int…"
            ]
          },
          "metadata": {
            "tags": []
          }
        }
      ]
    },
    {
      "cell_type": "markdown",
      "metadata": {
        "id": "W9Fi5v6aMljE"
      },
      "source": [
        "# Other examples (not covered in the problem sheet)"
      ]
    },
    {
      "cell_type": "markdown",
      "metadata": {
        "id": "guBr7xxyDXhe"
      },
      "source": [
        "## Temporal profile at different positions\r\n",
        "In some cases it is more interesting to consider the diffusion through a particular point as a function of time. Below are some visualisations related to this.\r\n",
        "### Diffusion from a point"
      ]
    },
    {
      "cell_type": "code",
      "metadata": {
        "colab": {
          "base_uri": "https://localhost:8080/",
          "height": 311,
          "referenced_widgets": [
            "2f90c023368c4b86b63ee618f5311905",
            "426f093da7e548538fb9aa942a48955e",
            "5ff9786fef4c476d81f23df16e3ae2ec",
            "962b6baaf37c4aa7b255bd1ab33f4477",
            "51aa17446bfb40529a403257d71df583",
            "8c81108955854f0fb3c1733cc5d3c185",
            "d915f6517d8e49c39c99030d99643abd"
          ]
        },
        "id": "6--mHWIODiEi",
        "outputId": "c00d790f-26a0-4e1a-c255-f318c5fc22cf"
      },
      "source": [
        "width = 10\r\n",
        "size = 300\r\n",
        "D = 1\r\n",
        "c = 0.5\r\n",
        "\r\n",
        "xs = np.arange(-100, 100)\r\n",
        "n0 = approximateDiracDelta(xs)\r\n",
        "ts = np.arange(1, 201)\r\n",
        "xs, ts = np.meshgrid(xs, ts)\r\n",
        "diffusionDD = getDiffusionAsFunctionOfTime(xs, ts, n0, diffusion1D, D, c)\r\n",
        "\r\n",
        "\r\n",
        "ipywidgets.interact(\r\n",
        "    lambda x: diffusionPlotTime(x,xs,ts,diffusionDD),\r\n",
        "    x=(np.min(xs), np.max(xs), 1),\r\n",
        ");"
      ],
      "execution_count": 9,
      "outputs": [
        {
          "output_type": "display_data",
          "data": {
            "application/vnd.jupyter.widget-view+json": {
              "model_id": "2f90c023368c4b86b63ee618f5311905",
              "version_minor": 0,
              "version_major": 2
            },
            "text/plain": [
              "interactive(children=(IntSlider(value=-1, description='x', max=99, min=-100), Output()), _dom_classes=('widget…"
            ]
          },
          "metadata": {
            "tags": []
          }
        }
      ]
    },
    {
      "cell_type": "markdown",
      "metadata": {
        "id": "L9YjPRwADiT3"
      },
      "source": [
        "### Diffusion from neighbouring top hats"
      ]
    },
    {
      "cell_type": "code",
      "metadata": {
        "id": "VrNxxUpxdk5-",
        "colab": {
          "base_uri": "https://localhost:8080/",
          "height": 627
        },
        "outputId": "68cb46af-433f-4a79-8442-4b0ec23f3ed3"
      },
      "source": [
        "width = 10\r\n",
        "size = 300\r\n",
        "D = 0.5\r\n",
        "c = 0.5\r\n",
        "\r\n",
        "xs = np.arange(-100, 100)\r\n",
        "n0 = top_hat(xs, width, amplitude = 1, centre = -10) +  top_hat(xs, width, amplitude = 1, centre = +10)\r\n",
        "ts = np.arange(1, 201)\r\n",
        "xs, ts = np.meshgrid(xs, ts)\r\n",
        "diffusionTH = getDiffusionAsFunctionOfTime(xs, ts, n0, diffusion1D, D, c)\r\n",
        "\r\n",
        "\r\n",
        "_, axes = pyplot.subplots(figsize = [10,10])\r\n",
        "axes.contourf(xs, ts, diffusionTH, cmap='Blues')\r\n",
        "axes.set_xlabel('x')\r\n",
        "axes.set_ylabel('t')\r\n"
      ],
      "execution_count": 10,
      "outputs": [
        {
          "output_type": "execute_result",
          "data": {
            "text/plain": [
              "Text(0, 0.5, 't')"
            ]
          },
          "metadata": {
            "tags": []
          },
          "execution_count": 10
        },
        {
          "output_type": "display_data",
          "data": {
            "image/png": "[encoded data removed]",
            "text/plain": [
              "<Figure size 720x720 with 1 Axes>"
            ]
          },
          "metadata": {
            "tags": [],
            "needs_background": "light"
          }
        }
      ]
    },
    {
      "cell_type": "code",
      "metadata": {
        "id": "BOywoPjwnxbx",
        "colab": {
          "base_uri": "https://localhost:8080/",
          "height": 311,
          "referenced_widgets": [
            "14d33479dc0d45dfa0fb636ce9f17c2c",
            "45ffa949321b428884a5b380efb5ee9c",
            "ad8cc9531bd2470d9e59d7b2ec50329a",
            "4092632e9f054808baf266798ad4f818",
            "86961c443991485887186d910fe22c9e",
            "d95236f4efcf40958ba1639f2b3d8afd",
            "f0a5c3d9d3c042a2a9a4072b07018f5a"
          ]
        },
        "outputId": "6ec34201-e7df-4672-a276-ecbfc2a9ab5f"
      },
      "source": [
        "ipywidgets.interact(\r\n",
        "    lambda x: diffusionPlotTime(x,xs,ts,diffusionTH),\r\n",
        "    x=(np.min(xs), np.max(xs), 1),\r\n",
        ");"
      ],
      "execution_count": 11,
      "outputs": [
        {
          "output_type": "display_data",
          "data": {
            "application/vnd.jupyter.widget-view+json": {
              "model_id": "14d33479dc0d45dfa0fb636ce9f17c2c",
              "version_minor": 0,
              "version_major": 2
            },
            "text/plain": [
              "interactive(children=(IntSlider(value=-1, description='x', max=99, min=-100), Output()), _dom_classes=('widget…"
            ]
          },
          "metadata": {
            "tags": []
          }
        }
      ]
    },
    {
      "cell_type": "markdown",
      "metadata": {
        "id": "1amlMrECuB83"
      },
      "source": [
        "# Diffusion in 2D with different coefficients\r\n",
        "All of the examples covered in this problem sheet have been in 1D."
      ]
    },
    {
      "cell_type": "code",
      "metadata": {
        "colab": {
          "base_uri": "https://localhost:8080/",
          "height": 702,
          "referenced_widgets": [
            "b70ce4f1d8bb4541b705fb098d2934d9",
            "4212c1b8305b4819be3fc78af15c5e31",
            "30240bc04eb84637a2b23c99a92bfbe4",
            "25d4751356234f3b9c6b5990c21afdaa",
            "4383ad8ff0b7436494080e1b028b1e46",
            "d76497bbd8df49ad915520fd86e785da",
            "46f6517123e34e2694f9a4f5aa382861",
            "6dae26db79274f58b4dfbbbefec9005b",
            "5eb8188deafa4610baf94dc04050fb98",
            "8af3c7352a714e208437a1fc035da6b2",
            "3a540e65917f4fd996e358cc451c0ae3",
            "da409aaaa6e140e095fd45b331e18621",
            "af6480bab76c4105b4c3de04d00db982"
          ]
        },
        "id": "OOYEtjt9oeQH",
        "outputId": "e51b4fdc-9c3a-4433-ef48-7fe88985c0fd"
      },
      "source": [
        "size = 101\r\n",
        "x2D = np.linspace(-50, 50, size)\r\n",
        "y2D = np.linspace(-50, 50, size)\r\n",
        "x2D, y2D = np.meshgrid(x2D, y2D)\r\n",
        "\r\n",
        "width_x = 10\r\n",
        "width_y = 1\r\n",
        "\r\n",
        "D_x = 2\r\n",
        "D_y = 5\r\n",
        "\r\n",
        "ipywidgets.interact(\r\n",
        "    lambda t, D_x, D_y: diffusionplot2D(x2D,y2D, top_hat2D(x2D, y2D, width_x, width_y), diffusion2D, t, D_x, D_y),\r\n",
        "    t=ipywidgets.IntSlider(min=1, max=50, step=1, value=0),\r\n",
        "    D_x=(0.1, 5, 0.1),\r\n",
        "    D_y=(0.1, 5, 0.1),\r\n",
        ");"
      ],
      "execution_count": 12,
      "outputs": [
        {
          "output_type": "display_data",
          "data": {
            "application/vnd.jupyter.widget-view+json": {
              "model_id": "b70ce4f1d8bb4541b705fb098d2934d9",
              "version_minor": 0,
              "version_major": 2
            },
            "text/plain": [
              "interactive(children=(IntSlider(value=1, description='t', max=50, min=1), FloatSlider(value=2.5000000000000004…"
            ]
          },
          "metadata": {
            "tags": []
          }
        }
      ]
    },
    {
      "cell_type": "code",
      "metadata": {
        "id": "xgrvN5QH-WEC",
        "colab": {
          "base_uri": "https://localhost:8080/",
          "height": 702,
          "referenced_widgets": [
            "ce5b525b5e664726983b19bb1aa78f6f",
            "e3c93f25427a4eb18e09dde464fbbc8c",
            "4390ffcb2d9d4949837a0d4550e1b54e",
            "733fb108297b46419918df278d5b067f",
            "26adc56e38f9488ea741010bd494cde8",
            "c78c4660b9a6413898ca9c8489a432f1",
            "99813e7008494ec1a641acab8f9c1b3a",
            "4c18b0048bfb48008b151d1e73974556",
            "4e7005f4fa4849a9b7b24072d0483743",
            "97712c21e93641d9b09be246ab1ffedd",
            "30f9d3e87de14ca9b07cb4fbc3b41b7c",
            "0a4b2fc4d2c04218afc0702fb5cd26ea",
            "10669bbbb39b459686f116051bce872f"
          ]
        },
        "outputId": "59111583-a06b-4922-d095-1a1b9c436bb0"
      },
      "source": [
        "import numpy as np\r\n",
        "from skimage import io\r\n",
        "\r\n",
        "snowflake = io.imread('https://github.com/ncurry208/2020_21_DEEMseminars/blob/master/snowflakeMask.tif?raw=true')\r\n",
        "xsnowflake = np.arange(snowflake.shape[0])\r\n",
        "ysnowflake = np.arange(snowflake.shape[1])\r\n",
        "xsnowflake, ysnowflake = np.meshgrid(xsnowflake, ysnowflake)\r\n",
        "\r\n",
        "ipywidgets.interact(\r\n",
        "    lambda t, D_x, D_y: diffusionplot2D(xsnowflake,ysnowflake, snowflake, diffusion2D, t, D_x, D_y, x0 = snowflake.shape[0]/2, y0 = snowflake.shape[1]/2),\r\n",
        "    t=ipywidgets.IntSlider(min=1, max=50, step=1, value=0),\r\n",
        "    D_x=(0.01, 0.5, 0.01),\r\n",
        "    D_y=(0.01, 0.5, 0.01),\r\n",
        ");"
      ],
      "execution_count": 13,
      "outputs": [
        {
          "output_type": "display_data",
          "data": {
            "application/vnd.jupyter.widget-view+json": {
              "model_id": "ce5b525b5e664726983b19bb1aa78f6f",
              "version_minor": 0,
              "version_major": 2
            },
            "text/plain": [
              "interactive(children=(IntSlider(value=1, description='t', max=50, min=1), FloatSlider(value=0.25, description=…"
            ]
          },
          "metadata": {
            "tags": []
          }
        }
      ]
    },
    {
      "cell_type": "code",
      "metadata": {
        "id": "45tN4WembHmw"
      },
      "source": [
        ""
      ],
      "execution_count": 13,
      "outputs": []
    }
  ]
}