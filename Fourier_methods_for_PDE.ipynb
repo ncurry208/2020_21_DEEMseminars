{
  "nbformat": 4,
  "nbformat_minor": 0,
  "metadata": {
    "colab": {
      "name": "Fourier methods for PDE.ipynb",
      "provenance": [],
      "collapsed_sections": [],
      "toc_visible": true
    },
    "kernelspec": {
      "name": "python3",
      "display_name": "Python 3"
    },
    "widgets": {
      "application/vnd.jupyter.widget-state+json": {
        "01e39fc84eec46edbf315dcf730b4567": {
          "model_module": "@jupyter-widgets/controls",
          "model_name": "VBoxModel",
          "state": {
            "_view_name": "VBoxView",
            "_dom_classes": [
              "widget-interact"
            ],
            "_model_name": "VBoxModel",
            "_view_module": "@jupyter-widgets/controls",
            "_model_module_version": "1.5.0",
            "_view_count": null,
            "_view_module_version": "1.5.0",
            "box_style": "",
            "layout": "IPY_MODEL_0d94b5658dfd481aa26819601883c5b3",
            "_model_module": "@jupyter-widgets/controls",
            "children": [
              "IPY_MODEL_47bd9ef80b9b460d96a8c1a2bac4bd48",
              "IPY_MODEL_cd65e4a5d4b44fbd8a84e352289c5152"
            ]
          }
        },
        "0d94b5658dfd481aa26819601883c5b3": {
          "model_module": "@jupyter-widgets/base",
          "model_name": "LayoutModel",
          "state": {
            "_view_name": "LayoutView",
            "grid_template_rows": null,
            "right": null,
            "justify_content": null,
            "_view_module": "@jupyter-widgets/base",
            "overflow": null,
            "_model_module_version": "1.2.0",
            "_view_count": null,
            "flex_flow": null,
            "width": null,
            "min_width": null,
            "border": null,
            "align_items": null,
            "bottom": null,
            "_model_module": "@jupyter-widgets/base",
            "top": null,
            "grid_column": null,
            "overflow_y": null,
            "overflow_x": null,
            "grid_auto_flow": null,
            "grid_area": null,
            "grid_template_columns": null,
            "flex": null,
            "_model_name": "LayoutModel",
            "justify_items": null,
            "grid_row": null,
            "max_height": null,
            "align_content": null,
            "visibility": null,
            "align_self": null,
            "height": null,
            "min_height": null,
            "padding": null,
            "grid_auto_rows": null,
            "grid_gap": null,
            "max_width": null,
            "order": null,
            "_view_module_version": "1.2.0",
            "grid_template_areas": null,
            "object_position": null,
            "object_fit": null,
            "grid_auto_columns": null,
            "margin": null,
            "display": null,
            "left": null
          }
        },
        "47bd9ef80b9b460d96a8c1a2bac4bd48": {
          "model_module": "@jupyter-widgets/controls",
          "model_name": "IntSliderModel",
          "state": {
            "_view_name": "IntSliderView",
            "style": "IPY_MODEL_305e7601dac043bbb3588d53e8ee78f9",
            "_dom_classes": [],
            "description": "t",
            "step": 1,
            "_model_name": "IntSliderModel",
            "orientation": "horizontal",
            "max": 50,
            "_view_module": "@jupyter-widgets/controls",
            "_model_module_version": "1.5.0",
            "value": 25,
            "_view_count": null,
            "disabled": false,
            "_view_module_version": "1.5.0",
            "min": 1,
            "continuous_update": true,
            "readout_format": "d",
            "description_tooltip": null,
            "readout": true,
            "_model_module": "@jupyter-widgets/controls",
            "layout": "IPY_MODEL_e0b97b7cfeed4a33b3457850d993f53c"
          }
        },
        "cd65e4a5d4b44fbd8a84e352289c5152": {
          "model_module": "@jupyter-widgets/output",
          "model_name": "OutputModel",
          "state": {
            "_view_name": "OutputView",
            "msg_id": "",
            "_dom_classes": [],
            "_model_name": "OutputModel",
            "outputs": [
              {
                "output_type": "display_data",
                "metadata": {
                  "tags": [],
                  "needs_background": "light"
                },
                "image/png": "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\n",
                "text/plain": "<Figure size 432x288 with 1 Axes>"
              }
            ],
            "_view_module": "@jupyter-widgets/output",
            "_model_module_version": "1.0.0",
            "_view_count": null,
            "_view_module_version": "1.0.0",
            "layout": "IPY_MODEL_11f6e233dd8c41b8ac9da2075d8e6722",
            "_model_module": "@jupyter-widgets/output"
          }
        },
        "305e7601dac043bbb3588d53e8ee78f9": {
          "model_module": "@jupyter-widgets/controls",
          "model_name": "SliderStyleModel",
          "state": {
            "_view_name": "StyleView",
            "handle_color": null,
            "_model_name": "SliderStyleModel",
            "description_width": "",
            "_view_module": "@jupyter-widgets/base",
            "_model_module_version": "1.5.0",
            "_view_count": null,
            "_view_module_version": "1.2.0",
            "_model_module": "@jupyter-widgets/controls"
          }
        },
        "e0b97b7cfeed4a33b3457850d993f53c": {
          "model_module": "@jupyter-widgets/base",
          "model_name": "LayoutModel",
          "state": {
            "_view_name": "LayoutView",
            "grid_template_rows": null,
            "right": null,
            "justify_content": null,
            "_view_module": "@jupyter-widgets/base",
            "overflow": null,
            "_model_module_version": "1.2.0",
            "_view_count": null,
            "flex_flow": null,
            "width": null,
            "min_width": null,
            "border": null,
            "align_items": null,
            "bottom": null,
            "_model_module": "@jupyter-widgets/base",
            "top": null,
            "grid_column": null,
            "overflow_y": null,
            "overflow_x": null,
            "grid_auto_flow": null,
            "grid_area": null,
            "grid_template_columns": null,
            "flex": null,
            "_model_name": "LayoutModel",
            "justify_items": null,
            "grid_row": null,
            "max_height": null,
            "align_content": null,
            "visibility": null,
            "align_self": null,
            "height": null,
            "min_height": null,
            "padding": null,
            "grid_auto_rows": null,
            "grid_gap": null,
            "max_width": null,
            "order": null,
            "_view_module_version": "1.2.0",
            "grid_template_areas": null,
            "object_position": null,
            "object_fit": null,
            "grid_auto_columns": null,
            "margin": null,
            "display": null,
            "left": null
          }
        },
        "11f6e233dd8c41b8ac9da2075d8e6722": {
          "model_module": "@jupyter-widgets/base",
          "model_name": "LayoutModel",
          "state": {
            "_view_name": "LayoutView",
            "grid_template_rows": null,
            "right": null,
            "justify_content": null,
            "_view_module": "@jupyter-widgets/base",
            "overflow": null,
            "_model_module_version": "1.2.0",
            "_view_count": null,
            "flex_flow": null,
            "width": null,
            "min_width": null,
            "border": null,
            "align_items": null,
            "bottom": null,
            "_model_module": "@jupyter-widgets/base",
            "top": null,
            "grid_column": null,
            "overflow_y": null,
            "overflow_x": null,
            "grid_auto_flow": null,
            "grid_area": null,
            "grid_template_columns": null,
            "flex": null,
            "_model_name": "LayoutModel",
            "justify_items": null,
            "grid_row": null,
            "max_height": null,
            "align_content": null,
            "visibility": null,
            "align_self": null,
            "height": null,
            "min_height": null,
            "padding": null,
            "grid_auto_rows": null,
            "grid_gap": null,
            "max_width": null,
            "order": null,
            "_view_module_version": "1.2.0",
            "grid_template_areas": null,
            "object_position": null,
            "object_fit": null,
            "grid_auto_columns": null,
            "margin": null,
            "display": null,
            "left": null
          }
        },
        "c8ae5fa1f6064a4bbde4088e1512ec68": {
          "model_module": "@jupyter-widgets/controls",
          "model_name": "VBoxModel",
          "state": {
            "_view_name": "VBoxView",
            "_dom_classes": [
              "widget-interact"
            ],
            "_model_name": "VBoxModel",
            "_view_module": "@jupyter-widgets/controls",
            "_model_module_version": "1.5.0",
            "_view_count": null,
            "_view_module_version": "1.5.0",
            "box_style": "",
            "layout": "IPY_MODEL_159367c167b64e39aa6cceaae1400f01",
            "_model_module": "@jupyter-widgets/controls",
            "children": [
              "IPY_MODEL_a2148b4f36ec45b7af543d3d3fd59153",
              "IPY_MODEL_f17f8fb839164297a58725c23314819b"
            ]
          }
        },
        "159367c167b64e39aa6cceaae1400f01": {
          "model_module": "@jupyter-widgets/base",
          "model_name": "LayoutModel",
          "state": {
            "_view_name": "LayoutView",
            "grid_template_rows": null,
            "right": null,
            "justify_content": null,
            "_view_module": "@jupyter-widgets/base",
            "overflow": null,
            "_model_module_version": "1.2.0",
            "_view_count": null,
            "flex_flow": null,
            "width": null,
            "min_width": null,
            "border": null,
            "align_items": null,
            "bottom": null,
            "_model_module": "@jupyter-widgets/base",
            "top": null,
            "grid_column": null,
            "overflow_y": null,
            "overflow_x": null,
            "grid_auto_flow": null,
            "grid_area": null,
            "grid_template_columns": null,
            "flex": null,
            "_model_name": "LayoutModel",
            "justify_items": null,
            "grid_row": null,
            "max_height": null,
            "align_content": null,
            "visibility": null,
            "align_self": null,
            "height": null,
            "min_height": null,
            "padding": null,
            "grid_auto_rows": null,
            "grid_gap": null,
            "max_width": null,
            "order": null,
            "_view_module_version": "1.2.0",
            "grid_template_areas": null,
            "object_position": null,
            "object_fit": null,
            "grid_auto_columns": null,
            "margin": null,
            "display": null,
            "left": null
          }
        },
        "a2148b4f36ec45b7af543d3d3fd59153": {
          "model_module": "@jupyter-widgets/controls",
          "model_name": "IntSliderModel",
          "state": {
            "_view_name": "IntSliderView",
            "style": "IPY_MODEL_c8a400c097dc4013afaffe2909c6ed01",
            "_dom_classes": [],
            "description": "t",
            "step": 1,
            "_model_name": "IntSliderModel",
            "orientation": "horizontal",
            "max": 50,
            "_view_module": "@jupyter-widgets/controls",
            "_model_module_version": "1.5.0",
            "value": 25,
            "_view_count": null,
            "disabled": false,
            "_view_module_version": "1.5.0",
            "min": 1,
            "continuous_update": true,
            "readout_format": "d",
            "description_tooltip": null,
            "readout": true,
            "_model_module": "@jupyter-widgets/controls",
            "layout": "IPY_MODEL_6dce310daf7c48a9bd1b1f7eed4c7a69"
          }
        },
        "f17f8fb839164297a58725c23314819b": {
          "model_module": "@jupyter-widgets/output",
          "model_name": "OutputModel",
          "state": {
            "_view_name": "OutputView",
            "msg_id": "",
            "_dom_classes": [],
            "_model_name": "OutputModel",
            "outputs": [
              {
                "output_type": "display_data",
                "metadata": {
                  "tags": [],
                  "needs_background": "light"
                },
                "image/png": "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\n",
                "text/plain": "<Figure size 432x288 with 1 Axes>"
              }
            ],
            "_view_module": "@jupyter-widgets/output",
            "_model_module_version": "1.0.0",
            "_view_count": null,
            "_view_module_version": "1.0.0",
            "layout": "IPY_MODEL_5526491d0a854840b2f0949aff45effe",
            "_model_module": "@jupyter-widgets/output"
          }
        },
        "c8a400c097dc4013afaffe2909c6ed01": {
          "model_module": "@jupyter-widgets/controls",
          "model_name": "SliderStyleModel",
          "state": {
            "_view_name": "StyleView",
            "handle_color": null,
            "_model_name": "SliderStyleModel",
            "description_width": "",
            "_view_module": "@jupyter-widgets/base",
            "_model_module_version": "1.5.0",
            "_view_count": null,
            "_view_module_version": "1.2.0",
            "_model_module": "@jupyter-widgets/controls"
          }
        },
        "6dce310daf7c48a9bd1b1f7eed4c7a69": {
          "model_module": "@jupyter-widgets/base",
          "model_name": "LayoutModel",
          "state": {
            "_view_name": "LayoutView",
            "grid_template_rows": null,
            "right": null,
            "justify_content": null,
            "_view_module": "@jupyter-widgets/base",
            "overflow": null,
            "_model_module_version": "1.2.0",
            "_view_count": null,
            "flex_flow": null,
            "width": null,
            "min_width": null,
            "border": null,
            "align_items": null,
            "bottom": null,
            "_model_module": "@jupyter-widgets/base",
            "top": null,
            "grid_column": null,
            "overflow_y": null,
            "overflow_x": null,
            "grid_auto_flow": null,
            "grid_area": null,
            "grid_template_columns": null,
            "flex": null,
            "_model_name": "LayoutModel",
            "justify_items": null,
            "grid_row": null,
            "max_height": null,
            "align_content": null,
            "visibility": null,
            "align_self": null,
            "height": null,
            "min_height": null,
            "padding": null,
            "grid_auto_rows": null,
            "grid_gap": null,
            "max_width": null,
            "order": null,
            "_view_module_version": "1.2.0",
            "grid_template_areas": null,
            "object_position": null,
            "object_fit": null,
            "grid_auto_columns": null,
            "margin": null,
            "display": null,
            "left": null
          }
        },
        "5526491d0a854840b2f0949aff45effe": {
          "model_module": "@jupyter-widgets/base",
          "model_name": "LayoutModel",
          "state": {
            "_view_name": "LayoutView",
            "grid_template_rows": null,
            "right": null,
            "justify_content": null,
            "_view_module": "@jupyter-widgets/base",
            "overflow": null,
            "_model_module_version": "1.2.0",
            "_view_count": null,
            "flex_flow": null,
            "width": null,
            "min_width": null,
            "border": null,
            "align_items": null,
            "bottom": null,
            "_model_module": "@jupyter-widgets/base",
            "top": null,
            "grid_column": null,
            "overflow_y": null,
            "overflow_x": null,
            "grid_auto_flow": null,
            "grid_area": null,
            "grid_template_columns": null,
            "flex": null,
            "_model_name": "LayoutModel",
            "justify_items": null,
            "grid_row": null,
            "max_height": null,
            "align_content": null,
            "visibility": null,
            "align_self": null,
            "height": null,
            "min_height": null,
            "padding": null,
            "grid_auto_rows": null,
            "grid_gap": null,
            "max_width": null,
            "order": null,
            "_view_module_version": "1.2.0",
            "grid_template_areas": null,
            "object_position": null,
            "object_fit": null,
            "grid_auto_columns": null,
            "margin": null,
            "display": null,
            "left": null
          }
        },
        "b31d500940de43b8b67acd983d31f1dd": {
          "model_module": "@jupyter-widgets/controls",
          "model_name": "VBoxModel",
          "state": {
            "_view_name": "VBoxView",
            "_dom_classes": [
              "widget-interact"
            ],
            "_model_name": "VBoxModel",
            "_view_module": "@jupyter-widgets/controls",
            "_model_module_version": "1.5.0",
            "_view_count": null,
            "_view_module_version": "1.5.0",
            "box_style": "",
            "layout": "IPY_MODEL_d65240c028aa4ed0b1ea0c87e4c8165a",
            "_model_module": "@jupyter-widgets/controls",
            "children": [
              "IPY_MODEL_a9c0b0d4312d478c9a86f367309c4416",
              "IPY_MODEL_c53f3894d6d04ba19172e63102554780"
            ]
          }
        },
        "d65240c028aa4ed0b1ea0c87e4c8165a": {
          "model_module": "@jupyter-widgets/base",
          "model_name": "LayoutModel",
          "state": {
            "_view_name": "LayoutView",
            "grid_template_rows": null,
            "right": null,
            "justify_content": null,
            "_view_module": "@jupyter-widgets/base",
            "overflow": null,
            "_model_module_version": "1.2.0",
            "_view_count": null,
            "flex_flow": null,
            "width": null,
            "min_width": null,
            "border": null,
            "align_items": null,
            "bottom": null,
            "_model_module": "@jupyter-widgets/base",
            "top": null,
            "grid_column": null,
            "overflow_y": null,
            "overflow_x": null,
            "grid_auto_flow": null,
            "grid_area": null,
            "grid_template_columns": null,
            "flex": null,
            "_model_name": "LayoutModel",
            "justify_items": null,
            "grid_row": null,
            "max_height": null,
            "align_content": null,
            "visibility": null,
            "align_self": null,
            "height": null,
            "min_height": null,
            "padding": null,
            "grid_auto_rows": null,
            "grid_gap": null,
            "max_width": null,
            "order": null,
            "_view_module_version": "1.2.0",
            "grid_template_areas": null,
            "object_position": null,
            "object_fit": null,
            "grid_auto_columns": null,
            "margin": null,
            "display": null,
            "left": null
          }
        },
        "a9c0b0d4312d478c9a86f367309c4416": {
          "model_module": "@jupyter-widgets/controls",
          "model_name": "IntSliderModel",
          "state": {
            "_view_name": "IntSliderView",
            "style": "IPY_MODEL_f67bc64cbb12458c963066cf9a0717e3",
            "_dom_classes": [],
            "description": "t",
            "step": 1,
            "_model_name": "IntSliderModel",
            "orientation": "horizontal",
            "max": 100,
            "_view_module": "@jupyter-widgets/controls",
            "_model_module_version": "1.5.0",
            "value": 50,
            "_view_count": null,
            "disabled": false,
            "_view_module_version": "1.5.0",
            "min": 1,
            "continuous_update": true,
            "readout_format": "d",
            "description_tooltip": null,
            "readout": true,
            "_model_module": "@jupyter-widgets/controls",
            "layout": "IPY_MODEL_abb2412396284f43ad885c943b882d64"
          }
        },
        "c53f3894d6d04ba19172e63102554780": {
          "model_module": "@jupyter-widgets/output",
          "model_name": "OutputModel",
          "state": {
            "_view_name": "OutputView",
            "msg_id": "",
            "_dom_classes": [],
            "_model_name": "OutputModel",
            "outputs": [
              {
                "output_type": "display_data",
                "metadata": {
                  "tags": [],
                  "needs_background": "light"
                },
                "image/png": "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\n",
                "text/plain": "<Figure size 432x288 with 1 Axes>"
              }
            ],
            "_view_module": "@jupyter-widgets/output",
            "_model_module_version": "1.0.0",
            "_view_count": null,
            "_view_module_version": "1.0.0",
            "layout": "IPY_MODEL_8a761e4caf9c49f4ac5cc5eed2572687",
            "_model_module": "@jupyter-widgets/output"
          }
        },
        "f67bc64cbb12458c963066cf9a0717e3": {
          "model_module": "@jupyter-widgets/controls",
          "model_name": "SliderStyleModel",
          "state": {
            "_view_name": "StyleView",
            "handle_color": null,
            "_model_name": "SliderStyleModel",
            "description_width": "",
            "_view_module": "@jupyter-widgets/base",
            "_model_module_version": "1.5.0",
            "_view_count": null,
            "_view_module_version": "1.2.0",
            "_model_module": "@jupyter-widgets/controls"
          }
        },
        "abb2412396284f43ad885c943b882d64": {
          "model_module": "@jupyter-widgets/base",
          "model_name": "LayoutModel",
          "state": {
            "_view_name": "LayoutView",
            "grid_template_rows": null,
            "right": null,
            "justify_content": null,
            "_view_module": "@jupyter-widgets/base",
            "overflow": null,
            "_model_module_version": "1.2.0",
            "_view_count": null,
            "flex_flow": null,
            "width": null,
            "min_width": null,
            "border": null,
            "align_items": null,
            "bottom": null,
            "_model_module": "@jupyter-widgets/base",
            "top": null,
            "grid_column": null,
            "overflow_y": null,
            "overflow_x": null,
            "grid_auto_flow": null,
            "grid_area": null,
            "grid_template_columns": null,
            "flex": null,
            "_model_name": "LayoutModel",
            "justify_items": null,
            "grid_row": null,
            "max_height": null,
            "align_content": null,
            "visibility": null,
            "align_self": null,
            "height": null,
            "min_height": null,
            "padding": null,
            "grid_auto_rows": null,
            "grid_gap": null,
            "max_width": null,
            "order": null,
            "_view_module_version": "1.2.0",
            "grid_template_areas": null,
            "object_position": null,
            "object_fit": null,
            "grid_auto_columns": null,
            "margin": null,
            "display": null,
            "left": null
          }
        },
        "8a761e4caf9c49f4ac5cc5eed2572687": {
          "model_module": "@jupyter-widgets/base",
          "model_name": "LayoutModel",
          "state": {
            "_view_name": "LayoutView",
            "grid_template_rows": null,
            "right": null,
            "justify_content": null,
            "_view_module": "@jupyter-widgets/base",
            "overflow": null,
            "_model_module_version": "1.2.0",
            "_view_count": null,
            "flex_flow": null,
            "width": null,
            "min_width": null,
            "border": null,
            "align_items": null,
            "bottom": null,
            "_model_module": "@jupyter-widgets/base",
            "top": null,
            "grid_column": null,
            "overflow_y": null,
            "overflow_x": null,
            "grid_auto_flow": null,
            "grid_area": null,
            "grid_template_columns": null,
            "flex": null,
            "_model_name": "LayoutModel",
            "justify_items": null,
            "grid_row": null,
            "max_height": null,
            "align_content": null,
            "visibility": null,
            "align_self": null,
            "height": null,
            "min_height": null,
            "padding": null,
            "grid_auto_rows": null,
            "grid_gap": null,
            "max_width": null,
            "order": null,
            "_view_module_version": "1.2.0",
            "grid_template_areas": null,
            "object_position": null,
            "object_fit": null,
            "grid_auto_columns": null,
            "margin": null,
            "display": null,
            "left": null
          }
        },
        "80dfb3a0fd1c4c7788b899a1c998d4ed": {
          "model_module": "@jupyter-widgets/controls",
          "model_name": "VBoxModel",
          "state": {
            "_view_name": "VBoxView",
            "_dom_classes": [
              "widget-interact"
            ],
            "_model_name": "VBoxModel",
            "_view_module": "@jupyter-widgets/controls",
            "_model_module_version": "1.5.0",
            "_view_count": null,
            "_view_module_version": "1.5.0",
            "box_style": "",
            "layout": "IPY_MODEL_a5d4c97713e048688272a4f489d1382a",
            "_model_module": "@jupyter-widgets/controls",
            "children": [
              "IPY_MODEL_dfaa4ab159bf4f36b86f3b98925c22d5",
              "IPY_MODEL_40c0bc1340814283aca285cb33f7570a"
            ]
          }
        },
        "a5d4c97713e048688272a4f489d1382a": {
          "model_module": "@jupyter-widgets/base",
          "model_name": "LayoutModel",
          "state": {
            "_view_name": "LayoutView",
            "grid_template_rows": null,
            "right": null,
            "justify_content": null,
            "_view_module": "@jupyter-widgets/base",
            "overflow": null,
            "_model_module_version": "1.2.0",
            "_view_count": null,
            "flex_flow": null,
            "width": null,
            "min_width": null,
            "border": null,
            "align_items": null,
            "bottom": null,
            "_model_module": "@jupyter-widgets/base",
            "top": null,
            "grid_column": null,
            "overflow_y": null,
            "overflow_x": null,
            "grid_auto_flow": null,
            "grid_area": null,
            "grid_template_columns": null,
            "flex": null,
            "_model_name": "LayoutModel",
            "justify_items": null,
            "grid_row": null,
            "max_height": null,
            "align_content": null,
            "visibility": null,
            "align_self": null,
            "height": null,
            "min_height": null,
            "padding": null,
            "grid_auto_rows": null,
            "grid_gap": null,
            "max_width": null,
            "order": null,
            "_view_module_version": "1.2.0",
            "grid_template_areas": null,
            "object_position": null,
            "object_fit": null,
            "grid_auto_columns": null,
            "margin": null,
            "display": null,
            "left": null
          }
        },
        "dfaa4ab159bf4f36b86f3b98925c22d5": {
          "model_module": "@jupyter-widgets/controls",
          "model_name": "IntSliderModel",
          "state": {
            "_view_name": "IntSliderView",
            "style": "IPY_MODEL_97e9ecbee2de4e8695ed4ce0af4eb3e8",
            "_dom_classes": [],
            "description": "t",
            "step": 1,
            "_model_name": "IntSliderModel",
            "orientation": "horizontal",
            "max": 50,
            "_view_module": "@jupyter-widgets/controls",
            "_model_module_version": "1.5.0",
            "value": 25,
            "_view_count": null,
            "disabled": false,
            "_view_module_version": "1.5.0",
            "min": 0,
            "continuous_update": true,
            "readout_format": "d",
            "description_tooltip": null,
            "readout": true,
            "_model_module": "@jupyter-widgets/controls",
            "layout": "IPY_MODEL_8a2ac5ea8bc1494fa69fc721bd432379"
          }
        },
        "40c0bc1340814283aca285cb33f7570a": {
          "model_module": "@jupyter-widgets/output",
          "model_name": "OutputModel",
          "state": {
            "_view_name": "OutputView",
            "msg_id": "",
            "_dom_classes": [],
            "_model_name": "OutputModel",
            "outputs": [
              {
                "output_type": "display_data",
                "metadata": {
                  "tags": [],
                  "needs_background": "light"
                },
                "image/png": "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\n",
                "text/plain": "<Figure size 432x288 with 1 Axes>"
              }
            ],
            "_view_module": "@jupyter-widgets/output",
            "_model_module_version": "1.0.0",
            "_view_count": null,
            "_view_module_version": "1.0.0",
            "layout": "IPY_MODEL_442f66ef59864336b47a4ee529a7eba8",
            "_model_module": "@jupyter-widgets/output"
          }
        },
        "97e9ecbee2de4e8695ed4ce0af4eb3e8": {
          "model_module": "@jupyter-widgets/controls",
          "model_name": "SliderStyleModel",
          "state": {
            "_view_name": "StyleView",
            "handle_color": null,
            "_model_name": "SliderStyleModel",
            "description_width": "",
            "_view_module": "@jupyter-widgets/base",
            "_model_module_version": "1.5.0",
            "_view_count": null,
            "_view_module_version": "1.2.0",
            "_model_module": "@jupyter-widgets/controls"
          }
        },
        "8a2ac5ea8bc1494fa69fc721bd432379": {
          "model_module": "@jupyter-widgets/base",
          "model_name": "LayoutModel",
          "state": {
            "_view_name": "LayoutView",
            "grid_template_rows": null,
            "right": null,
            "justify_content": null,
            "_view_module": "@jupyter-widgets/base",
            "overflow": null,
            "_model_module_version": "1.2.0",
            "_view_count": null,
            "flex_flow": null,
            "width": null,
            "min_width": null,
            "border": null,
            "align_items": null,
            "bottom": null,
            "_model_module": "@jupyter-widgets/base",
            "top": null,
            "grid_column": null,
            "overflow_y": null,
            "overflow_x": null,
            "grid_auto_flow": null,
            "grid_area": null,
            "grid_template_columns": null,
            "flex": null,
            "_model_name": "LayoutModel",
            "justify_items": null,
            "grid_row": null,
            "max_height": null,
            "align_content": null,
            "visibility": null,
            "align_self": null,
            "height": null,
            "min_height": null,
            "padding": null,
            "grid_auto_rows": null,
            "grid_gap": null,
            "max_width": null,
            "order": null,
            "_view_module_version": "1.2.0",
            "grid_template_areas": null,
            "object_position": null,
            "object_fit": null,
            "grid_auto_columns": null,
            "margin": null,
            "display": null,
            "left": null
          }
        },
        "442f66ef59864336b47a4ee529a7eba8": {
          "model_module": "@jupyter-widgets/base",
          "model_name": "LayoutModel",
          "state": {
            "_view_name": "LayoutView",
            "grid_template_rows": null,
            "right": null,
            "justify_content": null,
            "_view_module": "@jupyter-widgets/base",
            "overflow": null,
            "_model_module_version": "1.2.0",
            "_view_count": null,
            "flex_flow": null,
            "width": null,
            "min_width": null,
            "border": null,
            "align_items": null,
            "bottom": null,
            "_model_module": "@jupyter-widgets/base",
            "top": null,
            "grid_column": null,
            "overflow_y": null,
            "overflow_x": null,
            "grid_auto_flow": null,
            "grid_area": null,
            "grid_template_columns": null,
            "flex": null,
            "_model_name": "LayoutModel",
            "justify_items": null,
            "grid_row": null,
            "max_height": null,
            "align_content": null,
            "visibility": null,
            "align_self": null,
            "height": null,
            "min_height": null,
            "padding": null,
            "grid_auto_rows": null,
            "grid_gap": null,
            "max_width": null,
            "order": null,
            "_view_module_version": "1.2.0",
            "grid_template_areas": null,
            "object_position": null,
            "object_fit": null,
            "grid_auto_columns": null,
            "margin": null,
            "display": null,
            "left": null
          }
        },
        "2373fcc609df4af496eeb80af0c569c4": {
          "model_module": "@jupyter-widgets/controls",
          "model_name": "VBoxModel",
          "state": {
            "_view_name": "VBoxView",
            "_dom_classes": [
              "widget-interact"
            ],
            "_model_name": "VBoxModel",
            "_view_module": "@jupyter-widgets/controls",
            "_model_module_version": "1.5.0",
            "_view_count": null,
            "_view_module_version": "1.5.0",
            "box_style": "",
            "layout": "IPY_MODEL_4487b77f30e44a3ea011efe7017fc13a",
            "_model_module": "@jupyter-widgets/controls",
            "children": [
              "IPY_MODEL_88ae62deb9214cb2abcf5f0524253699",
              "IPY_MODEL_7b88a21507a5486ea09cecadff85d589"
            ]
          }
        },
        "4487b77f30e44a3ea011efe7017fc13a": {
          "model_module": "@jupyter-widgets/base",
          "model_name": "LayoutModel",
          "state": {
            "_view_name": "LayoutView",
            "grid_template_rows": null,
            "right": null,
            "justify_content": null,
            "_view_module": "@jupyter-widgets/base",
            "overflow": null,
            "_model_module_version": "1.2.0",
            "_view_count": null,
            "flex_flow": null,
            "width": null,
            "min_width": null,
            "border": null,
            "align_items": null,
            "bottom": null,
            "_model_module": "@jupyter-widgets/base",
            "top": null,
            "grid_column": null,
            "overflow_y": null,
            "overflow_x": null,
            "grid_auto_flow": null,
            "grid_area": null,
            "grid_template_columns": null,
            "flex": null,
            "_model_name": "LayoutModel",
            "justify_items": null,
            "grid_row": null,
            "max_height": null,
            "align_content": null,
            "visibility": null,
            "align_self": null,
            "height": null,
            "min_height": null,
            "padding": null,
            "grid_auto_rows": null,
            "grid_gap": null,
            "max_width": null,
            "order": null,
            "_view_module_version": "1.2.0",
            "grid_template_areas": null,
            "object_position": null,
            "object_fit": null,
            "grid_auto_columns": null,
            "margin": null,
            "display": null,
            "left": null
          }
        },
        "88ae62deb9214cb2abcf5f0524253699": {
          "model_module": "@jupyter-widgets/controls",
          "model_name": "IntSliderModel",
          "state": {
            "_view_name": "IntSliderView",
            "style": "IPY_MODEL_df1052322be54fbeb398e7b6ea14c8b2",
            "_dom_classes": [],
            "description": "x",
            "step": 1,
            "_model_name": "IntSliderModel",
            "orientation": "horizontal",
            "max": 99,
            "_view_module": "@jupyter-widgets/controls",
            "_model_module_version": "1.5.0",
            "value": -1,
            "_view_count": null,
            "disabled": false,
            "_view_module_version": "1.5.0",
            "min": -100,
            "continuous_update": true,
            "readout_format": "d",
            "description_tooltip": null,
            "readout": true,
            "_model_module": "@jupyter-widgets/controls",
            "layout": "IPY_MODEL_88bcba01bab9458da2d6b37aad786b1e"
          }
        },
        "7b88a21507a5486ea09cecadff85d589": {
          "model_module": "@jupyter-widgets/output",
          "model_name": "OutputModel",
          "state": {
            "_view_name": "OutputView",
            "msg_id": "",
            "_dom_classes": [],
            "_model_name": "OutputModel",
            "outputs": [
              {
                "output_type": "display_data",
                "metadata": {
                  "tags": [],
                  "needs_background": "light"
                },
                "image/png": "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\n",
                "text/plain": "<Figure size 432x288 with 1 Axes>"
              }
            ],
            "_view_module": "@jupyter-widgets/output",
            "_model_module_version": "1.0.0",
            "_view_count": null,
            "_view_module_version": "1.0.0",
            "layout": "IPY_MODEL_0d42b689e78c435aac17003f7019cc5a",
            "_model_module": "@jupyter-widgets/output"
          }
        },
        "df1052322be54fbeb398e7b6ea14c8b2": {
          "model_module": "@jupyter-widgets/controls",
          "model_name": "SliderStyleModel",
          "state": {
            "_view_name": "StyleView",
            "handle_color": null,
            "_model_name": "SliderStyleModel",
            "description_width": "",
            "_view_module": "@jupyter-widgets/base",
            "_model_module_version": "1.5.0",
            "_view_count": null,
            "_view_module_version": "1.2.0",
            "_model_module": "@jupyter-widgets/controls"
          }
        },
        "88bcba01bab9458da2d6b37aad786b1e": {
          "model_module": "@jupyter-widgets/base",
          "model_name": "LayoutModel",
          "state": {
            "_view_name": "LayoutView",
            "grid_template_rows": null,
            "right": null,
            "justify_content": null,
            "_view_module": "@jupyter-widgets/base",
            "overflow": null,
            "_model_module_version": "1.2.0",
            "_view_count": null,
            "flex_flow": null,
            "width": null,
            "min_width": null,
            "border": null,
            "align_items": null,
            "bottom": null,
            "_model_module": "@jupyter-widgets/base",
            "top": null,
            "grid_column": null,
            "overflow_y": null,
            "overflow_x": null,
            "grid_auto_flow": null,
            "grid_area": null,
            "grid_template_columns": null,
            "flex": null,
            "_model_name": "LayoutModel",
            "justify_items": null,
            "grid_row": null,
            "max_height": null,
            "align_content": null,
            "visibility": null,
            "align_self": null,
            "height": null,
            "min_height": null,
            "padding": null,
            "grid_auto_rows": null,
            "grid_gap": null,
            "max_width": null,
            "order": null,
            "_view_module_version": "1.2.0",
            "grid_template_areas": null,
            "object_position": null,
            "object_fit": null,
            "grid_auto_columns": null,
            "margin": null,
            "display": null,
            "left": null
          }
        },
        "0d42b689e78c435aac17003f7019cc5a": {
          "model_module": "@jupyter-widgets/base",
          "model_name": "LayoutModel",
          "state": {
            "_view_name": "LayoutView",
            "grid_template_rows": null,
            "right": null,
            "justify_content": null,
            "_view_module": "@jupyter-widgets/base",
            "overflow": null,
            "_model_module_version": "1.2.0",
            "_view_count": null,
            "flex_flow": null,
            "width": null,
            "min_width": null,
            "border": null,
            "align_items": null,
            "bottom": null,
            "_model_module": "@jupyter-widgets/base",
            "top": null,
            "grid_column": null,
            "overflow_y": null,
            "overflow_x": null,
            "grid_auto_flow": null,
            "grid_area": null,
            "grid_template_columns": null,
            "flex": null,
            "_model_name": "LayoutModel",
            "justify_items": null,
            "grid_row": null,
            "max_height": null,
            "align_content": null,
            "visibility": null,
            "align_self": null,
            "height": null,
            "min_height": null,
            "padding": null,
            "grid_auto_rows": null,
            "grid_gap": null,
            "max_width": null,
            "order": null,
            "_view_module_version": "1.2.0",
            "grid_template_areas": null,
            "object_position": null,
            "object_fit": null,
            "grid_auto_columns": null,
            "margin": null,
            "display": null,
            "left": null
          }
        },
        "b6ccefa0025c4a75aff11cc20c454b66": {
          "model_module": "@jupyter-widgets/controls",
          "model_name": "VBoxModel",
          "state": {
            "_view_name": "VBoxView",
            "_dom_classes": [
              "widget-interact"
            ],
            "_model_name": "VBoxModel",
            "_view_module": "@jupyter-widgets/controls",
            "_model_module_version": "1.5.0",
            "_view_count": null,
            "_view_module_version": "1.5.0",
            "box_style": "",
            "layout": "IPY_MODEL_4b0e08e9aa4948efa3a726b5bce5531f",
            "_model_module": "@jupyter-widgets/controls",
            "children": [
              "IPY_MODEL_f1e36d0346c74d3bb71264b9cf749cc9",
              "IPY_MODEL_fc3ed3e7008d45df965c157c7beb8818"
            ]
          }
        },
        "4b0e08e9aa4948efa3a726b5bce5531f": {
          "model_module": "@jupyter-widgets/base",
          "model_name": "LayoutModel",
          "state": {
            "_view_name": "LayoutView",
            "grid_template_rows": null,
            "right": null,
            "justify_content": null,
            "_view_module": "@jupyter-widgets/base",
            "overflow": null,
            "_model_module_version": "1.2.0",
            "_view_count": null,
            "flex_flow": null,
            "width": null,
            "min_width": null,
            "border": null,
            "align_items": null,
            "bottom": null,
            "_model_module": "@jupyter-widgets/base",
            "top": null,
            "grid_column": null,
            "overflow_y": null,
            "overflow_x": null,
            "grid_auto_flow": null,
            "grid_area": null,
            "grid_template_columns": null,
            "flex": null,
            "_model_name": "LayoutModel",
            "justify_items": null,
            "grid_row": null,
            "max_height": null,
            "align_content": null,
            "visibility": null,
            "align_self": null,
            "height": null,
            "min_height": null,
            "padding": null,
            "grid_auto_rows": null,
            "grid_gap": null,
            "max_width": null,
            "order": null,
            "_view_module_version": "1.2.0",
            "grid_template_areas": null,
            "object_position": null,
            "object_fit": null,
            "grid_auto_columns": null,
            "margin": null,
            "display": null,
            "left": null
          }
        },
        "f1e36d0346c74d3bb71264b9cf749cc9": {
          "model_module": "@jupyter-widgets/controls",
          "model_name": "IntSliderModel",
          "state": {
            "_view_name": "IntSliderView",
            "style": "IPY_MODEL_6f7d83ec3ed248d4a95d3be9a8badada",
            "_dom_classes": [],
            "description": "x",
            "step": 1,
            "_model_name": "IntSliderModel",
            "orientation": "horizontal",
            "max": 99,
            "_view_module": "@jupyter-widgets/controls",
            "_model_module_version": "1.5.0",
            "value": -1,
            "_view_count": null,
            "disabled": false,
            "_view_module_version": "1.5.0",
            "min": -100,
            "continuous_update": true,
            "readout_format": "d",
            "description_tooltip": null,
            "readout": true,
            "_model_module": "@jupyter-widgets/controls",
            "layout": "IPY_MODEL_ab462728f4bf41758e9411281cfba431"
          }
        },
        "fc3ed3e7008d45df965c157c7beb8818": {
          "model_module": "@jupyter-widgets/output",
          "model_name": "OutputModel",
          "state": {
            "_view_name": "OutputView",
            "msg_id": "",
            "_dom_classes": [],
            "_model_name": "OutputModel",
            "outputs": [
              {
                "output_type": "display_data",
                "metadata": {
                  "tags": [],
                  "needs_background": "light"
                },
                "image/png": "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\n",
                "text/plain": "<Figure size 432x288 with 1 Axes>"
              }
            ],
            "_view_module": "@jupyter-widgets/output",
            "_model_module_version": "1.0.0",
            "_view_count": null,
            "_view_module_version": "1.0.0",
            "layout": "IPY_MODEL_fff994f07d684652a26eb7084b9ab161",
            "_model_module": "@jupyter-widgets/output"
          }
        },
        "6f7d83ec3ed248d4a95d3be9a8badada": {
          "model_module": "@jupyter-widgets/controls",
          "model_name": "SliderStyleModel",
          "state": {
            "_view_name": "StyleView",
            "handle_color": null,
            "_model_name": "SliderStyleModel",
            "description_width": "",
            "_view_module": "@jupyter-widgets/base",
            "_model_module_version": "1.5.0",
            "_view_count": null,
            "_view_module_version": "1.2.0",
            "_model_module": "@jupyter-widgets/controls"
          }
        },
        "ab462728f4bf41758e9411281cfba431": {
          "model_module": "@jupyter-widgets/base",
          "model_name": "LayoutModel",
          "state": {
            "_view_name": "LayoutView",
            "grid_template_rows": null,
            "right": null,
            "justify_content": null,
            "_view_module": "@jupyter-widgets/base",
            "overflow": null,
            "_model_module_version": "1.2.0",
            "_view_count": null,
            "flex_flow": null,
            "width": null,
            "min_width": null,
            "border": null,
            "align_items": null,
            "bottom": null,
            "_model_module": "@jupyter-widgets/base",
            "top": null,
            "grid_column": null,
            "overflow_y": null,
            "overflow_x": null,
            "grid_auto_flow": null,
            "grid_area": null,
            "grid_template_columns": null,
            "flex": null,
            "_model_name": "LayoutModel",
            "justify_items": null,
            "grid_row": null,
            "max_height": null,
            "align_content": null,
            "visibility": null,
            "align_self": null,
            "height": null,
            "min_height": null,
            "padding": null,
            "grid_auto_rows": null,
            "grid_gap": null,
            "max_width": null,
            "order": null,
            "_view_module_version": "1.2.0",
            "grid_template_areas": null,
            "object_position": null,
            "object_fit": null,
            "grid_auto_columns": null,
            "margin": null,
            "display": null,
            "left": null
          }
        },
        "fff994f07d684652a26eb7084b9ab161": {
          "model_module": "@jupyter-widgets/base",
          "model_name": "LayoutModel",
          "state": {
            "_view_name": "LayoutView",
            "grid_template_rows": null,
            "right": null,
            "justify_content": null,
            "_view_module": "@jupyter-widgets/base",
            "overflow": null,
            "_model_module_version": "1.2.0",
            "_view_count": null,
            "flex_flow": null,
            "width": null,
            "min_width": null,
            "border": null,
            "align_items": null,
            "bottom": null,
            "_model_module": "@jupyter-widgets/base",
            "top": null,
            "grid_column": null,
            "overflow_y": null,
            "overflow_x": null,
            "grid_auto_flow": null,
            "grid_area": null,
            "grid_template_columns": null,
            "flex": null,
            "_model_name": "LayoutModel",
            "justify_items": null,
            "grid_row": null,
            "max_height": null,
            "align_content": null,
            "visibility": null,
            "align_self": null,
            "height": null,
            "min_height": null,
            "padding": null,
            "grid_auto_rows": null,
            "grid_gap": null,
            "max_width": null,
            "order": null,
            "_view_module_version": "1.2.0",
            "grid_template_areas": null,
            "object_position": null,
            "object_fit": null,
            "grid_auto_columns": null,
            "margin": null,
            "display": null,
            "left": null
          }
        },
        "5cac948005ad4b59a89f8ab7c2e65b78": {
          "model_module": "@jupyter-widgets/controls",
          "model_name": "VBoxModel",
          "state": {
            "_view_name": "VBoxView",
            "_dom_classes": [
              "widget-interact"
            ],
            "_model_name": "VBoxModel",
            "_view_module": "@jupyter-widgets/controls",
            "_model_module_version": "1.5.0",
            "_view_count": null,
            "_view_module_version": "1.5.0",
            "box_style": "",
            "layout": "IPY_MODEL_477569f285d24e4289603862817b89d8",
            "_model_module": "@jupyter-widgets/controls",
            "children": [
              "IPY_MODEL_6ef29541510043a199aa3f26fb92756d",
              "IPY_MODEL_be8d87873205455ebfcac6959bbf012c"
            ]
          }
        },
        "477569f285d24e4289603862817b89d8": {
          "model_module": "@jupyter-widgets/base",
          "model_name": "LayoutModel",
          "state": {
            "_view_name": "LayoutView",
            "grid_template_rows": null,
            "right": null,
            "justify_content": null,
            "_view_module": "@jupyter-widgets/base",
            "overflow": null,
            "_model_module_version": "1.2.0",
            "_view_count": null,
            "flex_flow": null,
            "width": null,
            "min_width": null,
            "border": null,
            "align_items": null,
            "bottom": null,
            "_model_module": "@jupyter-widgets/base",
            "top": null,
            "grid_column": null,
            "overflow_y": null,
            "overflow_x": null,
            "grid_auto_flow": null,
            "grid_area": null,
            "grid_template_columns": null,
            "flex": null,
            "_model_name": "LayoutModel",
            "justify_items": null,
            "grid_row": null,
            "max_height": null,
            "align_content": null,
            "visibility": null,
            "align_self": null,
            "height": null,
            "min_height": null,
            "padding": null,
            "grid_auto_rows": null,
            "grid_gap": null,
            "max_width": null,
            "order": null,
            "_view_module_version": "1.2.0",
            "grid_template_areas": null,
            "object_position": null,
            "object_fit": null,
            "grid_auto_columns": null,
            "margin": null,
            "display": null,
            "left": null
          }
        },
        "6ef29541510043a199aa3f26fb92756d": {
          "model_module": "@jupyter-widgets/controls",
          "model_name": "IntSliderModel",
          "state": {
            "_view_name": "IntSliderView",
            "style": "IPY_MODEL_c4eb530f7f3f48448426cf550c86f771",
            "_dom_classes": [],
            "description": "t",
            "step": 1,
            "_model_name": "IntSliderModel",
            "orientation": "horizontal",
            "max": 50,
            "_view_module": "@jupyter-widgets/controls",
            "_model_module_version": "1.5.0",
            "value": 27,
            "_view_count": null,
            "disabled": false,
            "_view_module_version": "1.5.0",
            "min": 1,
            "continuous_update": true,
            "readout_format": "d",
            "description_tooltip": null,
            "readout": true,
            "_model_module": "@jupyter-widgets/controls",
            "layout": "IPY_MODEL_8f6fc809c7a94224800c01d67f994989"
          }
        },
        "be8d87873205455ebfcac6959bbf012c": {
          "model_module": "@jupyter-widgets/output",
          "model_name": "OutputModel",
          "state": {
            "_view_name": "OutputView",
            "msg_id": "",
            "_dom_classes": [],
            "_model_name": "OutputModel",
            "outputs": [
              {
                "output_type": "display_data",
                "metadata": {
                  "tags": [],
                  "needs_background": "light"
                },
                "image/png": "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\n",
                "text/plain": "<Figure size 720x720 with 1 Axes>"
              }
            ],
            "_view_module": "@jupyter-widgets/output",
            "_model_module_version": "1.0.0",
            "_view_count": null,
            "_view_module_version": "1.0.0",
            "layout": "IPY_MODEL_0b054fad53ff4c858ff4edd40d81b945",
            "_model_module": "@jupyter-widgets/output"
          }
        },
        "c4eb530f7f3f48448426cf550c86f771": {
          "model_module": "@jupyter-widgets/controls",
          "model_name": "SliderStyleModel",
          "state": {
            "_view_name": "StyleView",
            "handle_color": null,
            "_model_name": "SliderStyleModel",
            "description_width": "",
            "_view_module": "@jupyter-widgets/base",
            "_model_module_version": "1.5.0",
            "_view_count": null,
            "_view_module_version": "1.2.0",
            "_model_module": "@jupyter-widgets/controls"
          }
        },
        "8f6fc809c7a94224800c01d67f994989": {
          "model_module": "@jupyter-widgets/base",
          "model_name": "LayoutModel",
          "state": {
            "_view_name": "LayoutView",
            "grid_template_rows": null,
            "right": null,
            "justify_content": null,
            "_view_module": "@jupyter-widgets/base",
            "overflow": null,
            "_model_module_version": "1.2.0",
            "_view_count": null,
            "flex_flow": null,
            "width": null,
            "min_width": null,
            "border": null,
            "align_items": null,
            "bottom": null,
            "_model_module": "@jupyter-widgets/base",
            "top": null,
            "grid_column": null,
            "overflow_y": null,
            "overflow_x": null,
            "grid_auto_flow": null,
            "grid_area": null,
            "grid_template_columns": null,
            "flex": null,
            "_model_name": "LayoutModel",
            "justify_items": null,
            "grid_row": null,
            "max_height": null,
            "align_content": null,
            "visibility": null,
            "align_self": null,
            "height": null,
            "min_height": null,
            "padding": null,
            "grid_auto_rows": null,
            "grid_gap": null,
            "max_width": null,
            "order": null,
            "_view_module_version": "1.2.0",
            "grid_template_areas": null,
            "object_position": null,
            "object_fit": null,
            "grid_auto_columns": null,
            "margin": null,
            "display": null,
            "left": null
          }
        },
        "0b054fad53ff4c858ff4edd40d81b945": {
          "model_module": "@jupyter-widgets/base",
          "model_name": "LayoutModel",
          "state": {
            "_view_name": "LayoutView",
            "grid_template_rows": null,
            "right": null,
            "justify_content": null,
            "_view_module": "@jupyter-widgets/base",
            "overflow": null,
            "_model_module_version": "1.2.0",
            "_view_count": null,
            "flex_flow": null,
            "width": null,
            "min_width": null,
            "border": null,
            "align_items": null,
            "bottom": null,
            "_model_module": "@jupyter-widgets/base",
            "top": null,
            "grid_column": null,
            "overflow_y": null,
            "overflow_x": null,
            "grid_auto_flow": null,
            "grid_area": null,
            "grid_template_columns": null,
            "flex": null,
            "_model_name": "LayoutModel",
            "justify_items": null,
            "grid_row": null,
            "max_height": null,
            "align_content": null,
            "visibility": null,
            "align_self": null,
            "height": null,
            "min_height": null,
            "padding": null,
            "grid_auto_rows": null,
            "grid_gap": null,
            "max_width": null,
            "order": null,
            "_view_module_version": "1.2.0",
            "grid_template_areas": null,
            "object_position": null,
            "object_fit": null,
            "grid_auto_columns": null,
            "margin": null,
            "display": null,
            "left": null
          }
        },
        "8651c63640b24cd98c16472984daf385": {
          "model_module": "@jupyter-widgets/controls",
          "model_name": "VBoxModel",
          "state": {
            "_view_name": "VBoxView",
            "_dom_classes": [
              "widget-interact"
            ],
            "_model_name": "VBoxModel",
            "_view_module": "@jupyter-widgets/controls",
            "_model_module_version": "1.5.0",
            "_view_count": null,
            "_view_module_version": "1.5.0",
            "box_style": "",
            "layout": "IPY_MODEL_b9d6727d60f14df5947e44a706bf22b7",
            "_model_module": "@jupyter-widgets/controls",
            "children": [
              "IPY_MODEL_94beabf391984dc6b111b1d36e7efb1a",
              "IPY_MODEL_9be76e8cb2cf40b983cd5292a74c09e5"
            ]
          }
        },
        "b9d6727d60f14df5947e44a706bf22b7": {
          "model_module": "@jupyter-widgets/base",
          "model_name": "LayoutModel",
          "state": {
            "_view_name": "LayoutView",
            "grid_template_rows": null,
            "right": null,
            "justify_content": null,
            "_view_module": "@jupyter-widgets/base",
            "overflow": null,
            "_model_module_version": "1.2.0",
            "_view_count": null,
            "flex_flow": null,
            "width": null,
            "min_width": null,
            "border": null,
            "align_items": null,
            "bottom": null,
            "_model_module": "@jupyter-widgets/base",
            "top": null,
            "grid_column": null,
            "overflow_y": null,
            "overflow_x": null,
            "grid_auto_flow": null,
            "grid_area": null,
            "grid_template_columns": null,
            "flex": null,
            "_model_name": "LayoutModel",
            "justify_items": null,
            "grid_row": null,
            "max_height": null,
            "align_content": null,
            "visibility": null,
            "align_self": null,
            "height": null,
            "min_height": null,
            "padding": null,
            "grid_auto_rows": null,
            "grid_gap": null,
            "max_width": null,
            "order": null,
            "_view_module_version": "1.2.0",
            "grid_template_areas": null,
            "object_position": null,
            "object_fit": null,
            "grid_auto_columns": null,
            "margin": null,
            "display": null,
            "left": null
          }
        },
        "94beabf391984dc6b111b1d36e7efb1a": {
          "model_module": "@jupyter-widgets/controls",
          "model_name": "IntSliderModel",
          "state": {
            "_view_name": "IntSliderView",
            "style": "IPY_MODEL_3b4fcefdad3444c981a41c65d7ddeadd",
            "_dom_classes": [],
            "description": "t",
            "step": 1,
            "_model_name": "IntSliderModel",
            "orientation": "horizontal",
            "max": 50,
            "_view_module": "@jupyter-widgets/controls",
            "_model_module_version": "1.5.0",
            "value": 25,
            "_view_count": null,
            "disabled": false,
            "_view_module_version": "1.5.0",
            "min": 1,
            "continuous_update": true,
            "readout_format": "d",
            "description_tooltip": null,
            "readout": true,
            "_model_module": "@jupyter-widgets/controls",
            "layout": "IPY_MODEL_f4de82855d3e44fa9386ac6f373e7d68"
          }
        },
        "9be76e8cb2cf40b983cd5292a74c09e5": {
          "model_module": "@jupyter-widgets/output",
          "model_name": "OutputModel",
          "state": {
            "_view_name": "OutputView",
            "msg_id": "6cc9a7d15f174437a9daa203a906edd2",
            "_dom_classes": [],
            "_model_name": "OutputModel",
            "outputs": [],
            "_view_module": "@jupyter-widgets/output",
            "_model_module_version": "1.0.0",
            "_view_count": null,
            "_view_module_version": "1.0.0",
            "layout": "IPY_MODEL_ca7e7612629744febd61f36566a7b186",
            "_model_module": "@jupyter-widgets/output"
          }
        },
        "3b4fcefdad3444c981a41c65d7ddeadd": {
          "model_module": "@jupyter-widgets/controls",
          "model_name": "SliderStyleModel",
          "state": {
            "_view_name": "StyleView",
            "handle_color": null,
            "_model_name": "SliderStyleModel",
            "description_width": "",
            "_view_module": "@jupyter-widgets/base",
            "_model_module_version": "1.5.0",
            "_view_count": null,
            "_view_module_version": "1.2.0",
            "_model_module": "@jupyter-widgets/controls"
          }
        },
        "f4de82855d3e44fa9386ac6f373e7d68": {
          "model_module": "@jupyter-widgets/base",
          "model_name": "LayoutModel",
          "state": {
            "_view_name": "LayoutView",
            "grid_template_rows": null,
            "right": null,
            "justify_content": null,
            "_view_module": "@jupyter-widgets/base",
            "overflow": null,
            "_model_module_version": "1.2.0",
            "_view_count": null,
            "flex_flow": null,
            "width": null,
            "min_width": null,
            "border": null,
            "align_items": null,
            "bottom": null,
            "_model_module": "@jupyter-widgets/base",
            "top": null,
            "grid_column": null,
            "overflow_y": null,
            "overflow_x": null,
            "grid_auto_flow": null,
            "grid_area": null,
            "grid_template_columns": null,
            "flex": null,
            "_model_name": "LayoutModel",
            "justify_items": null,
            "grid_row": null,
            "max_height": null,
            "align_content": null,
            "visibility": null,
            "align_self": null,
            "height": null,
            "min_height": null,
            "padding": null,
            "grid_auto_rows": null,
            "grid_gap": null,
            "max_width": null,
            "order": null,
            "_view_module_version": "1.2.0",
            "grid_template_areas": null,
            "object_position": null,
            "object_fit": null,
            "grid_auto_columns": null,
            "margin": null,
            "display": null,
            "left": null
          }
        },
        "ca7e7612629744febd61f36566a7b186": {
          "model_module": "@jupyter-widgets/base",
          "model_name": "LayoutModel",
          "state": {
            "_view_name": "LayoutView",
            "grid_template_rows": null,
            "right": null,
            "justify_content": null,
            "_view_module": "@jupyter-widgets/base",
            "overflow": null,
            "_model_module_version": "1.2.0",
            "_view_count": null,
            "flex_flow": null,
            "width": null,
            "min_width": null,
            "border": null,
            "align_items": null,
            "bottom": null,
            "_model_module": "@jupyter-widgets/base",
            "top": null,
            "grid_column": null,
            "overflow_y": null,
            "overflow_x": null,
            "grid_auto_flow": null,
            "grid_area": null,
            "grid_template_columns": null,
            "flex": null,
            "_model_name": "LayoutModel",
            "justify_items": null,
            "grid_row": null,
            "max_height": null,
            "align_content": null,
            "visibility": null,
            "align_self": null,
            "height": null,
            "min_height": null,
            "padding": null,
            "grid_auto_rows": null,
            "grid_gap": null,
            "max_width": null,
            "order": null,
            "_view_module_version": "1.2.0",
            "grid_template_areas": null,
            "object_position": null,
            "object_fit": null,
            "grid_auto_columns": null,
            "margin": null,
            "display": null,
            "left": null
          }
        }
      }
    }
  },
  "cells": [
    {
      "cell_type": "markdown",
      "metadata": {
        "id": "9XF-TuNgXuA0"
      },
      "source": [
        "# Fourier methods for solvinge PDEs\r\n",
        "In the problem set you looked the diffusion advection equation and how thios can be solved by Fourier methods. You solved this for an initial condition of a point source of dye.\r\n",
        "\r\n",
        "In the second part you looked at generalising this method and found that for a general initial condition the evolution can be expressed through convolutions. This workbook allows you to investigate some standard example numerically."
      ]
    },
    {
      "cell_type": "markdown",
      "metadata": {
        "id": "rsPKEaz7-ABt"
      },
      "source": [
        "## Initialisation code\r\n",
        "\r\n",
        "These few cells produce some functions for finding (to a good approximation) the various functions that we're interested in.  You don't need to understand the details of how any of this works, but feel free to ask.\r\n",
        "\r\n",
        "**You need to run all the cells in this section for anything to work.**"
      ]
    },
    {
      "cell_type": "code",
      "metadata": {
        "id": "f3fHrzs7-JGn"
      },
      "source": [
        "%matplotlib inline\r\n",
        "from matplotlib import pyplot\r\n",
        "import matplotlib\r\n",
        "import scipy.signal\r\n",
        "import numpy as np\r\n",
        "import ipywidgets"
      ],
      "execution_count": 1,
      "outputs": []
    },
    {
      "cell_type": "markdown",
      "metadata": {
        "id": "5Z3jdTNpEv2C"
      },
      "source": [
        "### Initial conditions"
      ]
    },
    {
      "cell_type": "code",
      "metadata": {
        "id": "ve5VqHWY_Ldp"
      },
      "source": [
        "def top_hat(x, width, amplitude = 1, centre = 0):\r\n",
        "  r\"\"\"\r\n",
        "    Generate a top hat function \r\n",
        "    \"\"\"\r\n",
        "  th = np.zeros(x.shape)\r\n",
        "  th[(x >= centre - width/2) & (x < centre + width/2)] = amplitude\r\n",
        "  return th\r\n",
        "\r\n",
        "def top_hat2D(x, y, width_x, width_y, centre = 0, amplitude = 1):\r\n",
        "  return top_hat(x, width_x, amplitude, centre) * top_hat(y, width_y, amplitude, centre)\r\n",
        "\r\n",
        "def approximateDiracDelta(x, amplitude = 1, centre = 0):\r\n",
        "  r\"\"\"\r\n",
        "    Generate a narrow top hat to approximate a delta\r\n",
        "    \"\"\"\r\n",
        "  return top_hat(x, 1, amplitude, centre)\r\n",
        "\r\n",
        "def approximateDiracDelta2D(x, y, amplitude = 1, centre = 0):\r\n",
        "  r\"\"\"\r\n",
        "    Generate a narrow top hat to approximate a delta\r\n",
        "    \"\"\"\r\n",
        "  return top_hat2D(x, y, 1, 1, centre, amplitude)\r\n",
        "\r\n",
        "def gauss_function(x, a, x0, sigma):\r\n",
        "  r\"\"\"\r\n",
        "    Generate a narrow top hat to approximate a delta\r\n",
        "    \"\"\"\r\n",
        "  return a / (np.sqrt(2 * np.pi) * sigma) * np.exp(-(x-x0)**2/(2*sigma**2))\r\n",
        "\r\n",
        "def gauss_function2D(x,y,a,x0,y0,sigma_x, sigma_y):\r\n",
        "  z = (1/(2*np.pi*sigma_x*sigma_y) * np.exp(-((x-x0)**2/(2*sigma_x**2)\r\n",
        "     + (y-y0)**2/(2*sigma_y**2))))\r\n",
        "  return z\r\n"
      ],
      "execution_count": 2,
      "outputs": []
    },
    {
      "cell_type": "markdown",
      "metadata": {
        "id": "5MHMIM4oE2kO"
      },
      "source": [
        "### Diffusion equations"
      ]
    },
    {
      "cell_type": "code",
      "metadata": {
        "id": "mlo2LJ2UAOiN"
      },
      "source": [
        "def diffusion1D(x, D, t = 0, x0 = 0, a = 1):\r\n",
        "  r'''\r\n",
        "  returns a Gaussian this is to be convolved with the initial condition\r\n",
        "  '''\r\n",
        "  #if t == 0: # treat time point one as a delta\r\n",
        "  #  g = approximateDiracDelta(x)\r\n",
        "  #else:\r\n",
        "  sigma = np.sqrt(2 * D * t)\r\n",
        "  g = gauss_function(x, a, x0, sigma)\r\n",
        "  return g\r\n",
        "\r\n",
        "def diffusion2D(x, y, Dx, Dy, t = 0, x0 = 0, y0= 0, a = 1):\r\n",
        "  r'''\r\n",
        "  returns a Gaussian this is to be convolved with the initial condition\r\n",
        "  '''\r\n",
        "  #if t == 0: # treat time point one as a delta\r\n",
        "  #  g = approximateDiracDelta2D(x, y, amplitude = 1, centre = 0)\r\n",
        "  #else:\r\n",
        "  sigma_x = np.sqrt(2 * Dx * t)\r\n",
        "  sigma_y = np.sqrt(2 * Dy * t)\r\n",
        "  g = gauss_function2D(x,y,a,x0,y0,sigma_x, sigma_y)\r\n",
        "  return g\r\n",
        "\r\n",
        "def getDiffusionAsFunctionOfTime(xs, ts, n0, g, D, c = 0):\r\n",
        "  gs = g(xs, D, ts, x0 = c * ts, a = 1)\r\n",
        "  diffusion = np.apply_along_axis(lambda m: np.convolve(m, n0, mode='same'), axis=1, arr=gs)\r\n",
        "  return diffusion\r\n",
        "\r\n"
      ],
      "execution_count": 3,
      "outputs": []
    },
    {
      "cell_type": "code",
      "metadata": {
        "id": "DEn-iwyIASXx"
      },
      "source": [
        "def diffusionplot(xs, n0, g, t, D = 10, x0 = 0):\r\n",
        "    r\"\"\"\r\n",
        "    Plot a function ``f`` and its Legendre-, Taylor- and Fourier-series\r\n",
        "    approximations of the given order on the interval ..math:`[-1, 1)`.\r\n",
        "    \"\"\"\r\n",
        "    cm = matplotlib.cm.viridis\r\n",
        "    _, axes = pyplot.subplots()\r\n",
        "    gs = g(xs, D, t, x0 = x0)  # np.array([for x in xs])\r\n",
        "    diffusion = np.convolve(gs, n0, mode = 'same')\r\n",
        "    axes.plot(xs, diffusion, label=\"n(x,t)\", linewidth=2)\r\n",
        "    axes.plot(xs, gs, label=\"g(x,t)\", linewidth=2, dashes=(5, 5))\r\n",
        "    axes.plot(xs, n0, label=\"n_0(x)\", linewidth=2, dashes=(5, 5))\r\n",
        "    axes.set_xlim((xs[0] - 0.03*(xs[-1]-xs[0]), xs[-1] + 0.03*(xs[-1]-xs[0])))\r\n",
        "    axes.set_xlabel('x')\r\n",
        "    axes.set_ylabel('n(x,t)')\r\n",
        "    mn, mx = np.min(n0), np.max(n0)\r\n",
        "    axes.legend()\r\n",
        "\r\n",
        "def diffusionplot2D(xs, ys, n0, g, t, Dx = 10, Dy = 1):\r\n",
        "  r\"\"\"\r\n",
        "  Plot a function ``f`` and its Legendre-, Taylor- and Fourier-series\r\n",
        "  approximations of the given order on the interval ..math:`[-1, 1)`.\r\n",
        "  \"\"\"\r\n",
        "  cm = matplotlib.cm.viridis\r\n",
        "  _, axes = pyplot.subplots(figsize = [10,10])\r\n",
        "  gs = g(xs, ys, Dx, Dy, t)  # np.array([for x in xs])\r\n",
        "  diffusion = scipy.signal.convolve2d(gs, n0, mode = 'same')\r\n",
        "  axes.contourf(xs, ys, diffusion, cmap='Blues')\r\n",
        "  axes.set_xlabel('x')\r\n",
        "  axes.set_ylabel('y')\r\n",
        "\r\n",
        "def diffusionPlotTime(x,xs,ts,diffusion):\r\n",
        "  _, axes = pyplot.subplots()\r\n",
        "  axes.plot(ts[xs==x], diffusion[xs==x])\r\n",
        "  mn, mx = np.min(diffusion), np.max(diffusion)\r\n",
        "  axes.set_ylim((mn - 0.1*(mx-mn), mx + 0.1*(mx-mn)))\r\n",
        "  axes.set_xlabel('t')\r\n",
        "  axes.set_ylabel('n(x,t)')"
      ],
      "execution_count": 4,
      "outputs": []
    },
    {
      "cell_type": "markdown",
      "metadata": {
        "id": "-64GW_vIfJRE"
      },
      "source": [
        "# Investigating diffusion with different initial conditions"
      ]
    },
    {
      "cell_type": "markdown",
      "metadata": {
        "id": "SUEMqd35fPHD"
      },
      "source": [
        "## Infinitely small point (delta function)"
      ]
    },
    {
      "cell_type": "code",
      "metadata": {
        "colab": {
          "base_uri": "https://localhost:8080/",
          "height": 311,
          "referenced_widgets": [
            "01e39fc84eec46edbf315dcf730b4567",
            "0d94b5658dfd481aa26819601883c5b3",
            "47bd9ef80b9b460d96a8c1a2bac4bd48",
            "cd65e4a5d4b44fbd8a84e352289c5152",
            "305e7601dac043bbb3588d53e8ee78f9",
            "e0b97b7cfeed4a33b3457850d993f53c",
            "11f6e233dd8c41b8ac9da2075d8e6722"
          ]
        },
        "id": "trEbNmCDQU1t",
        "outputId": "dc5bace9-e990-439e-b992-f050a06b43f2"
      },
      "source": [
        "x = np.linspace(-30, 30, 101)\r\n",
        "\r\n",
        "ipywidgets.interact(\r\n",
        "    lambda t: diffusionplot(x, approximateDiracDelta(x), diffusion1D, t, D = 0.1, x0 = 0),\r\n",
        "    t=(1, 50, 1),\r\n",
        ");"
      ],
      "execution_count": 5,
      "outputs": [
        {
          "output_type": "display_data",
          "data": {
            "application/vnd.jupyter.widget-view+json": {
              "model_id": "01e39fc84eec46edbf315dcf730b4567",
              "version_minor": 0,
              "version_major": 2
            },
            "text/plain": [
              "interactive(children=(IntSlider(value=25, description='t', max=50, min=1), Output()), _dom_classes=('widget-in…"
            ]
          },
          "metadata": {
            "tags": []
          }
        }
      ]
    },
    {
      "cell_type": "markdown",
      "metadata": {
        "id": "s1H5Ns-6faRe"
      },
      "source": [
        "## Top hat function"
      ]
    },
    {
      "cell_type": "code",
      "metadata": {
        "colab": {
          "base_uri": "https://localhost:8080/",
          "height": 311,
          "referenced_widgets": [
            "c8ae5fa1f6064a4bbde4088e1512ec68",
            "159367c167b64e39aa6cceaae1400f01",
            "a2148b4f36ec45b7af543d3d3fd59153",
            "f17f8fb839164297a58725c23314819b",
            "c8a400c097dc4013afaffe2909c6ed01",
            "6dce310daf7c48a9bd1b1f7eed4c7a69",
            "5526491d0a854840b2f0949aff45effe"
          ]
        },
        "id": "G2iyPAuPJW4j",
        "outputId": "89a6a4ca-d40e-4a36-84ea-89cad695bd74"
      },
      "source": [
        "x = np.linspace(-50, 50, 101)\r\n",
        "\r\n",
        "ipywidgets.interact(\r\n",
        "    lambda t: diffusionplot(x, top_hat(x, 10, 1), diffusion1D, t, D = 0.1),\r\n",
        "    t=(1, 50, 1),\r\n",
        ");"
      ],
      "execution_count": 6,
      "outputs": [
        {
          "output_type": "display_data",
          "data": {
            "application/vnd.jupyter.widget-view+json": {
              "model_id": "c8ae5fa1f6064a4bbde4088e1512ec68",
              "version_minor": 0,
              "version_major": 2
            },
            "text/plain": [
              "interactive(children=(IntSlider(value=25, description='t', max=50, min=1), Output()), _dom_classes=('widget-in…"
            ]
          },
          "metadata": {
            "tags": []
          }
        }
      ]
    },
    {
      "cell_type": "markdown",
      "metadata": {
        "id": "wZxCKK1-ffkj"
      },
      "source": [
        "## Two points next to one another\r\n",
        "Consider two infinitely small ink drops in water seperated by distance r. If the ink diffusesd with constant D consider the time at which the two ink drops become indistiguishable.\r\n",
        "\r\n",
        "**Note:** There are a range of definitions on when two neighbouring Gaussians become indistinguishable. For simplicity consider two Gaussians (of amplitude A) to be seperate when the sum of the two Gaussians at x = 0 is 80 % of the peak amplitude. "
      ]
    },
    {
      "cell_type": "code",
      "metadata": {
        "colab": {
          "base_uri": "https://localhost:8080/",
          "height": 311,
          "referenced_widgets": [
            "b31d500940de43b8b67acd983d31f1dd",
            "d65240c028aa4ed0b1ea0c87e4c8165a",
            "a9c0b0d4312d478c9a86f367309c4416",
            "c53f3894d6d04ba19172e63102554780",
            "f67bc64cbb12458c963066cf9a0717e3",
            "abb2412396284f43ad885c943b882d64",
            "8a761e4caf9c49f4ac5cc5eed2572687"
          ]
        },
        "id": "Pz_EzazIQVh1",
        "outputId": "4e8e763d-0886-4c85-b185-883b1060547b"
      },
      "source": [
        "x = np.linspace(-30, 30, 101)\r\n",
        "\r\n",
        "ipywidgets.interact(\r\n",
        "    lambda t: diffusionplot(x, approximateDiracDelta(x, centre = -5) + approximateDiracDelta(x, centre = 5, amplitude = 1), diffusion1D, t, D = 0.2),\r\n",
        "    t=(1, 100, 1),\r\n",
        ");"
      ],
      "execution_count": 7,
      "outputs": [
        {
          "output_type": "display_data",
          "data": {
            "application/vnd.jupyter.widget-view+json": {
              "model_id": "b31d500940de43b8b67acd983d31f1dd",
              "version_minor": 0,
              "version_major": 2
            },
            "text/plain": [
              "interactive(children=(IntSlider(value=50, description='t', min=1), Output()), _dom_classes=('widget-interact',…"
            ]
          },
          "metadata": {
            "tags": []
          }
        }
      ]
    },
    {
      "cell_type": "markdown",
      "metadata": {
        "id": "QNKQPjWYNRkL"
      },
      "source": [
        "# Diffusion advection\r\n",
        "The above methods can be applied in the diffusion advection problem from the problem sheet. Below are examples of n(x,t)  "
      ]
    },
    {
      "cell_type": "markdown",
      "metadata": {
        "id": "6WtUVTETDGTm"
      },
      "source": [
        "## Spatial profile at different times\r\n",
        "### Diffusion from a point"
      ]
    },
    {
      "cell_type": "code",
      "metadata": {
        "colab": {
          "base_uri": "https://localhost:8080/",
          "height": 311,
          "referenced_widgets": [
            "80dfb3a0fd1c4c7788b899a1c998d4ed",
            "a5d4c97713e048688272a4f489d1382a",
            "dfaa4ab159bf4f36b86f3b98925c22d5",
            "40c0bc1340814283aca285cb33f7570a",
            "97e9ecbee2de4e8695ed4ce0af4eb3e8",
            "8a2ac5ea8bc1494fa69fc721bd432379",
            "442f66ef59864336b47a4ee529a7eba8"
          ]
        },
        "id": "ykB8Iy9HN5gg",
        "outputId": "ab07853a-a6f0-43c6-e3d9-e8197eab49b8"
      },
      "source": [
        "xtime = np.linspace(-30, 30, 101)\r\n",
        "c = 0.2\r\n",
        "\r\n",
        "ipywidgets.interact(\r\n",
        "    lambda t: diffusionplot(xtime, approximateDiracDelta(xtime), diffusion1D, t, D = 0.1, x0 = c * t),\r\n",
        "    t=(0, 50, 1),\r\n",
        ");"
      ],
      "execution_count": 8,
      "outputs": [
        {
          "output_type": "display_data",
          "data": {
            "application/vnd.jupyter.widget-view+json": {
              "model_id": "80dfb3a0fd1c4c7788b899a1c998d4ed",
              "version_minor": 0,
              "version_major": 2
            },
            "text/plain": [
              "interactive(children=(IntSlider(value=25, description='t', max=50), Output()), _dom_classes=('widget-interact'…"
            ]
          },
          "metadata": {
            "tags": []
          }
        }
      ]
    },
    {
      "cell_type": "markdown",
      "metadata": {
        "id": "guBr7xxyDXhe"
      },
      "source": [
        "## Temporal profile at different positions\r\n",
        "### Diffusion from a point"
      ]
    },
    {
      "cell_type": "code",
      "metadata": {
        "colab": {
          "base_uri": "https://localhost:8080/",
          "height": 311,
          "referenced_widgets": [
            "2373fcc609df4af496eeb80af0c569c4",
            "4487b77f30e44a3ea011efe7017fc13a",
            "88ae62deb9214cb2abcf5f0524253699",
            "7b88a21507a5486ea09cecadff85d589",
            "df1052322be54fbeb398e7b6ea14c8b2",
            "88bcba01bab9458da2d6b37aad786b1e",
            "0d42b689e78c435aac17003f7019cc5a"
          ]
        },
        "id": "6--mHWIODiEi",
        "outputId": "ec183adc-de02-400f-da89-077d4cff9385"
      },
      "source": [
        "width = 10\r\n",
        "size = 300\r\n",
        "D = 1\r\n",
        "c = 0.5\r\n",
        "\r\n",
        "xs = np.arange(-100, 100)\r\n",
        "n0 = approximateDiracDelta(xs)\r\n",
        "ts = np.arange(1, 201)\r\n",
        "xs, ts = np.meshgrid(xs, ts)\r\n",
        "diffusionDD = getDiffusionAsFunctionOfTime(xs, ts, n0, diffusion1D, D, c)\r\n",
        "\r\n",
        "\r\n",
        "ipywidgets.interact(\r\n",
        "    lambda x: diffusionPlotTime(x,xs,ts,diffusionDD),\r\n",
        "    x=(np.min(xs), np.max(xs), 1),\r\n",
        ");"
      ],
      "execution_count": 9,
      "outputs": [
        {
          "output_type": "display_data",
          "data": {
            "application/vnd.jupyter.widget-view+json": {
              "model_id": "2373fcc609df4af496eeb80af0c569c4",
              "version_minor": 0,
              "version_major": 2
            },
            "text/plain": [
              "interactive(children=(IntSlider(value=-1, description='x', max=99, min=-100), Output()), _dom_classes=('widget…"
            ]
          },
          "metadata": {
            "tags": []
          }
        }
      ]
    },
    {
      "cell_type": "markdown",
      "metadata": {
        "id": "L9YjPRwADiT3"
      },
      "source": [
        "### Diffusion from neighbouring top hats"
      ]
    },
    {
      "cell_type": "code",
      "metadata": {
        "id": "VrNxxUpxdk5-",
        "colab": {
          "base_uri": "https://localhost:8080/",
          "height": 627
        },
        "outputId": "631a8f43-4299-4da6-f0f9-c0ebbfc9c14d"
      },
      "source": [
        "width = 10\r\n",
        "size = 300\r\n",
        "D = 0.5\r\n",
        "c = 0.5\r\n",
        "\r\n",
        "xs = np.arange(-100, 100)\r\n",
        "n0 = top_hat(xs, width, amplitude = 1, centre = -10) +  top_hat(xs, width, amplitude = 1, centre = +10)\r\n",
        "ts = np.arange(1, 201)\r\n",
        "xs, ts = np.meshgrid(xs, ts)\r\n",
        "diffusionTH = getDiffusionAsFunctionOfTime(xs, ts, n0, diffusion1D, D, c)\r\n",
        "\r\n",
        "\r\n",
        "_, axes = pyplot.subplots(figsize = [10,10])\r\n",
        "axes.contourf(xs, ts, diffusionTH, cmap='Blues')\r\n",
        "axes.set_xlabel('x')\r\n",
        "axes.set_ylabel('n(x,t)')\r\n"
      ],
      "execution_count": 10,
      "outputs": [
        {
          "output_type": "execute_result",
          "data": {
            "text/plain": [
              "Text(0, 0.5, 'n(x,t)')"
            ]
          },
          "metadata": {
            "tags": []
          },
          "execution_count": 10
        },
        {
          "output_type": "display_data",
          "data": {
            "image/png": "[encoded data removed]",
            "text/plain": [
              "<Figure size 720x720 with 1 Axes>"
            ]
          },
          "metadata": {
            "tags": [],
            "needs_background": "light"
          }
        }
      ]
    },
    {
      "cell_type": "code",
      "metadata": {
        "id": "BOywoPjwnxbx",
        "colab": {
          "base_uri": "https://localhost:8080/",
          "height": 311,
          "referenced_widgets": [
            "b6ccefa0025c4a75aff11cc20c454b66",
            "4b0e08e9aa4948efa3a726b5bce5531f",
            "f1e36d0346c74d3bb71264b9cf749cc9",
            "fc3ed3e7008d45df965c157c7beb8818",
            "6f7d83ec3ed248d4a95d3be9a8badada",
            "ab462728f4bf41758e9411281cfba431",
            "fff994f07d684652a26eb7084b9ab161"
          ]
        },
        "outputId": "ffbb23d7-e28b-4f83-87d5-bef7b57508f4"
      },
      "source": [
        "ipywidgets.interact(\r\n",
        "    lambda x: diffusionPlotTime(x,xs,ts,diffusionTH),\r\n",
        "    x=(np.min(xs), np.max(xs), 1),\r\n",
        ");"
      ],
      "execution_count": 11,
      "outputs": [
        {
          "output_type": "display_data",
          "data": {
            "application/vnd.jupyter.widget-view+json": {
              "model_id": "b6ccefa0025c4a75aff11cc20c454b66",
              "version_minor": 0,
              "version_major": 2
            },
            "text/plain": [
              "interactive(children=(IntSlider(value=-1, description='x', max=99, min=-100), Output()), _dom_classes=('widget…"
            ]
          },
          "metadata": {
            "tags": []
          }
        }
      ]
    },
    {
      "cell_type": "markdown",
      "metadata": {
        "id": "1amlMrECuB83"
      },
      "source": [
        "# Diffusion in 2D with different coefficients"
      ]
    },
    {
      "cell_type": "code",
      "metadata": {
        "colab": {
          "base_uri": "https://localhost:8080/",
          "height": 624,
          "referenced_widgets": [
            "5cac948005ad4b59a89f8ab7c2e65b78",
            "477569f285d24e4289603862817b89d8",
            "6ef29541510043a199aa3f26fb92756d",
            "be8d87873205455ebfcac6959bbf012c",
            "c4eb530f7f3f48448426cf550c86f771",
            "8f6fc809c7a94224800c01d67f994989",
            "0b054fad53ff4c858ff4edd40d81b945"
          ]
        },
        "id": "OOYEtjt9oeQH",
        "outputId": "f5fd4f2d-50f7-4397-a362-9c7cd84d5a9a"
      },
      "source": [
        "size = 101\r\n",
        "x2D = np.linspace(-50, 50, size)\r\n",
        "y2D = np.linspace(-50, 50, size)\r\n",
        "x2D, y2D = np.meshgrid(x2D, y2D)\r\n",
        "\r\n",
        "width_x = 10\r\n",
        "width_y = 1\r\n",
        "\r\n",
        "D_x = 2\r\n",
        "D_y = 5\r\n",
        "\r\n",
        "ipywidgets.interact(\r\n",
        "    lambda t, D_x, D_y: diffusionplot2D(x2D,y2D, top_hat2D(x2D, y2D, width_x, width_y), diffusion2D, t, D_x, D_y),\r\n",
        "    t=(1, 50, 1),\r\n",
        "    D_x=(0, 5, 0.1),\r\n",
        "    D_y=(0, 5, 0.1),\r\n",
        ");"
      ],
      "execution_count": 12,
      "outputs": [
        {
          "output_type": "display_data",
          "data": {
            "application/vnd.jupyter.widget-view+json": {
              "model_id": "5cac948005ad4b59a89f8ab7c2e65b78",
              "version_minor": 0,
              "version_major": 2
            },
            "text/plain": [
              "interactive(children=(IntSlider(value=25, description='t', max=50, min=1), Output()), _dom_classes=('widget-in…"
            ]
          },
          "metadata": {
            "tags": []
          }
        }
      ]
    },
    {
      "cell_type": "code",
      "metadata": {
        "id": "xgrvN5QH-WEC",
        "outputId": "d5880f9a-ee50-4084-fa19-7a85475534ef",
        "colab": {
          "base_uri": "https://localhost:8080/",
          "height": 48,
          "referenced_widgets": [
            "8651c63640b24cd98c16472984daf385",
            "b9d6727d60f14df5947e44a706bf22b7",
            "94beabf391984dc6b111b1d36e7efb1a",
            "9be76e8cb2cf40b983cd5292a74c09e5",
            "3b4fcefdad3444c981a41c65d7ddeadd",
            "f4de82855d3e44fa9386ac6f373e7d68",
            "ca7e7612629744febd61f36566a7b186"
          ]
        }
      },
      "source": [
        "import numpy as np\r\n",
        "from skimage import io\r\n",
        "\r\n",
        "snowflake = io.imread('./snowflakeMask.tif')\r\n",
        "\r\n",
        "xsnowflake = np.arange(snowflake.shape[0])\r\n",
        "ysnowflake = np.arange(snowflake.shape[1])\r\n",
        "xsnowflake, ysnowflake = np.meshgrid(xsnowflake, ysnowflake)\r\n",
        "\r\n",
        "ipywidgets.interact(\r\n",
        "    lambda t: diffusionplot2D(xsnowflake,ysnowflake, snowflake, diffusion2D, t, D_x, D_y),\r\n",
        "    t=(1, 50, 1),\r\n",
        ");"
      ],
      "execution_count": null,
      "outputs": [
        {
          "output_type": "display_data",
          "data": {
            "application/vnd.jupyter.widget-view+json": {
              "model_id": "8651c63640b24cd98c16472984daf385",
              "version_minor": 0,
              "version_major": 2
            },
            "text/plain": [
              "interactive(children=(IntSlider(value=25, description='t', max=50, min=1), Output()), _dom_classes=('widget-in…"
            ]
          },
          "metadata": {
            "tags": []
          }
        }
      ]
    },
    {
      "cell_type": "code",
      "metadata": {
        "id": "7JVX6_I2AH7y"
      },
      "source": [
        "snowflake = io.imread('./snowflakeMask.tif')"
      ],
      "execution_count": null,
      "outputs": []
    },
    {
      "cell_type": "code",
      "metadata": {
        "id": "j_HlJIObBU7J"
      },
      "source": [
        ""
      ],
      "execution_count": null,
      "outputs": []
    }
  ]
}