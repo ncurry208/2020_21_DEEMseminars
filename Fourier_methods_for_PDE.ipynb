{
  "nbformat": 4,
  "nbformat_minor": 0,
  "metadata": {
    "colab": {
      "name": "Fourier methods for PDE.ipynb",
      "provenance": [],
      "collapsed_sections": [],
      "toc_visible": true
    },
    "kernelspec": {
      "name": "python3",
      "display_name": "Python 3"
    },
    "widgets": {
      "application/vnd.jupyter.widget-state+json": {
        "5eef73606eb142e080aaef4323cd4d3a": {
          "model_module": "@jupyter-widgets/controls",
          "model_name": "VBoxModel",
          "state": {
            "_view_name": "VBoxView",
            "_dom_classes": [
              "widget-interact"
            ],
            "_model_name": "VBoxModel",
            "_view_module": "@jupyter-widgets/controls",
            "_model_module_version": "1.5.0",
            "_view_count": null,
            "_view_module_version": "1.5.0",
            "box_style": "",
            "layout": "IPY_MODEL_0a386ac85fd946e1a60aa70146056259",
            "_model_module": "@jupyter-widgets/controls",
            "children": [
              "IPY_MODEL_d7160868e78d4dba9bca74530bbba566",
              "IPY_MODEL_b14c3cf3d71b4449a40822411d7b89c5"
            ]
          }
        },
        "0a386ac85fd946e1a60aa70146056259": {
          "model_module": "@jupyter-widgets/base",
          "model_name": "LayoutModel",
          "state": {
            "_view_name": "LayoutView",
            "grid_template_rows": null,
            "right": null,
            "justify_content": null,
            "_view_module": "@jupyter-widgets/base",
            "overflow": null,
            "_model_module_version": "1.2.0",
            "_view_count": null,
            "flex_flow": null,
            "width": null,
            "min_width": null,
            "border": null,
            "align_items": null,
            "bottom": null,
            "_model_module": "@jupyter-widgets/base",
            "top": null,
            "grid_column": null,
            "overflow_y": null,
            "overflow_x": null,
            "grid_auto_flow": null,
            "grid_area": null,
            "grid_template_columns": null,
            "flex": null,
            "_model_name": "LayoutModel",
            "justify_items": null,
            "grid_row": null,
            "max_height": null,
            "align_content": null,
            "visibility": null,
            "align_self": null,
            "height": null,
            "min_height": null,
            "padding": null,
            "grid_auto_rows": null,
            "grid_gap": null,
            "max_width": null,
            "order": null,
            "_view_module_version": "1.2.0",
            "grid_template_areas": null,
            "object_position": null,
            "object_fit": null,
            "grid_auto_columns": null,
            "margin": null,
            "display": null,
            "left": null
          }
        },
        "d7160868e78d4dba9bca74530bbba566": {
          "model_module": "@jupyter-widgets/controls",
          "model_name": "IntSliderModel",
          "state": {
            "_view_name": "IntSliderView",
            "style": "IPY_MODEL_7581b354638c4bac885c31304a84d449",
            "_dom_classes": [],
            "description": "t",
            "step": 1,
            "_model_name": "IntSliderModel",
            "orientation": "horizontal",
            "max": 50,
            "_view_module": "@jupyter-widgets/controls",
            "_model_module_version": "1.5.0",
            "value": 1,
            "_view_count": null,
            "disabled": false,
            "_view_module_version": "1.5.0",
            "min": 1,
            "continuous_update": true,
            "readout_format": "d",
            "description_tooltip": null,
            "readout": true,
            "_model_module": "@jupyter-widgets/controls",
            "layout": "IPY_MODEL_b0582ae134154980bc7bba36a5f235a7"
          }
        },
        "b14c3cf3d71b4449a40822411d7b89c5": {
          "model_module": "@jupyter-widgets/output",
          "model_name": "OutputModel",
          "state": {
            "_view_name": "OutputView",
            "msg_id": "",
            "_dom_classes": [],
            "_model_name": "OutputModel",
            "outputs": [
              {
                "output_type": "display_data",
                "metadata": {
                  "tags": [],
                  "needs_background": "light"
                },
                "image/png": "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\n",
                "text/plain": "<Figure size 432x288 with 1 Axes>"
              }
            ],
            "_view_module": "@jupyter-widgets/output",
            "_model_module_version": "1.0.0",
            "_view_count": null,
            "_view_module_version": "1.0.0",
            "layout": "IPY_MODEL_bc7e09decfaf4f13864ed01ed4995f61",
            "_model_module": "@jupyter-widgets/output"
          }
        },
        "7581b354638c4bac885c31304a84d449": {
          "model_module": "@jupyter-widgets/controls",
          "model_name": "SliderStyleModel",
          "state": {
            "_view_name": "StyleView",
            "handle_color": null,
            "_model_name": "SliderStyleModel",
            "description_width": "",
            "_view_module": "@jupyter-widgets/base",
            "_model_module_version": "1.5.0",
            "_view_count": null,
            "_view_module_version": "1.2.0",
            "_model_module": "@jupyter-widgets/controls"
          }
        },
        "b0582ae134154980bc7bba36a5f235a7": {
          "model_module": "@jupyter-widgets/base",
          "model_name": "LayoutModel",
          "state": {
            "_view_name": "LayoutView",
            "grid_template_rows": null,
            "right": null,
            "justify_content": null,
            "_view_module": "@jupyter-widgets/base",
            "overflow": null,
            "_model_module_version": "1.2.0",
            "_view_count": null,
            "flex_flow": null,
            "width": null,
            "min_width": null,
            "border": null,
            "align_items": null,
            "bottom": null,
            "_model_module": "@jupyter-widgets/base",
            "top": null,
            "grid_column": null,
            "overflow_y": null,
            "overflow_x": null,
            "grid_auto_flow": null,
            "grid_area": null,
            "grid_template_columns": null,
            "flex": null,
            "_model_name": "LayoutModel",
            "justify_items": null,
            "grid_row": null,
            "max_height": null,
            "align_content": null,
            "visibility": null,
            "align_self": null,
            "height": null,
            "min_height": null,
            "padding": null,
            "grid_auto_rows": null,
            "grid_gap": null,
            "max_width": null,
            "order": null,
            "_view_module_version": "1.2.0",
            "grid_template_areas": null,
            "object_position": null,
            "object_fit": null,
            "grid_auto_columns": null,
            "margin": null,
            "display": null,
            "left": null
          }
        },
        "bc7e09decfaf4f13864ed01ed4995f61": {
          "model_module": "@jupyter-widgets/base",
          "model_name": "LayoutModel",
          "state": {
            "_view_name": "LayoutView",
            "grid_template_rows": null,
            "right": null,
            "justify_content": null,
            "_view_module": "@jupyter-widgets/base",
            "overflow": null,
            "_model_module_version": "1.2.0",
            "_view_count": null,
            "flex_flow": null,
            "width": null,
            "min_width": null,
            "border": null,
            "align_items": null,
            "bottom": null,
            "_model_module": "@jupyter-widgets/base",
            "top": null,
            "grid_column": null,
            "overflow_y": null,
            "overflow_x": null,
            "grid_auto_flow": null,
            "grid_area": null,
            "grid_template_columns": null,
            "flex": null,
            "_model_name": "LayoutModel",
            "justify_items": null,
            "grid_row": null,
            "max_height": null,
            "align_content": null,
            "visibility": null,
            "align_self": null,
            "height": null,
            "min_height": null,
            "padding": null,
            "grid_auto_rows": null,
            "grid_gap": null,
            "max_width": null,
            "order": null,
            "_view_module_version": "1.2.0",
            "grid_template_areas": null,
            "object_position": null,
            "object_fit": null,
            "grid_auto_columns": null,
            "margin": null,
            "display": null,
            "left": null
          }
        },
        "916602e31852478ea9db3a49df878fe2": {
          "model_module": "@jupyter-widgets/controls",
          "model_name": "VBoxModel",
          "state": {
            "_view_name": "VBoxView",
            "_dom_classes": [
              "widget-interact"
            ],
            "_model_name": "VBoxModel",
            "_view_module": "@jupyter-widgets/controls",
            "_model_module_version": "1.5.0",
            "_view_count": null,
            "_view_module_version": "1.5.0",
            "box_style": "",
            "layout": "IPY_MODEL_08e2196c5d6f4b38bd4a18dad3cf4e48",
            "_model_module": "@jupyter-widgets/controls",
            "children": [
              "IPY_MODEL_1fd1050a5af843ee965a350456f33ce4",
              "IPY_MODEL_48756a7ff0ec4ca695548e74a7474439"
            ]
          }
        },
        "08e2196c5d6f4b38bd4a18dad3cf4e48": {
          "model_module": "@jupyter-widgets/base",
          "model_name": "LayoutModel",
          "state": {
            "_view_name": "LayoutView",
            "grid_template_rows": null,
            "right": null,
            "justify_content": null,
            "_view_module": "@jupyter-widgets/base",
            "overflow": null,
            "_model_module_version": "1.2.0",
            "_view_count": null,
            "flex_flow": null,
            "width": null,
            "min_width": null,
            "border": null,
            "align_items": null,
            "bottom": null,
            "_model_module": "@jupyter-widgets/base",
            "top": null,
            "grid_column": null,
            "overflow_y": null,
            "overflow_x": null,
            "grid_auto_flow": null,
            "grid_area": null,
            "grid_template_columns": null,
            "flex": null,
            "_model_name": "LayoutModel",
            "justify_items": null,
            "grid_row": null,
            "max_height": null,
            "align_content": null,
            "visibility": null,
            "align_self": null,
            "height": null,
            "min_height": null,
            "padding": null,
            "grid_auto_rows": null,
            "grid_gap": null,
            "max_width": null,
            "order": null,
            "_view_module_version": "1.2.0",
            "grid_template_areas": null,
            "object_position": null,
            "object_fit": null,
            "grid_auto_columns": null,
            "margin": null,
            "display": null,
            "left": null
          }
        },
        "1fd1050a5af843ee965a350456f33ce4": {
          "model_module": "@jupyter-widgets/controls",
          "model_name": "IntSliderModel",
          "state": {
            "_view_name": "IntSliderView",
            "style": "IPY_MODEL_3abd30164e874020a9600c1f44978f0e",
            "_dom_classes": [],
            "description": "t",
            "step": 1,
            "_model_name": "IntSliderModel",
            "orientation": "horizontal",
            "max": 50,
            "_view_module": "@jupyter-widgets/controls",
            "_model_module_version": "1.5.0",
            "value": 1,
            "_view_count": null,
            "disabled": false,
            "_view_module_version": "1.5.0",
            "min": 1,
            "continuous_update": true,
            "readout_format": "d",
            "description_tooltip": null,
            "readout": true,
            "_model_module": "@jupyter-widgets/controls",
            "layout": "IPY_MODEL_89c9ce2932f64480ab7c7a96d198eb1c"
          }
        },
        "48756a7ff0ec4ca695548e74a7474439": {
          "model_module": "@jupyter-widgets/output",
          "model_name": "OutputModel",
          "state": {
            "_view_name": "OutputView",
            "msg_id": "",
            "_dom_classes": [],
            "_model_name": "OutputModel",
            "outputs": [
              {
                "output_type": "display_data",
                "metadata": {
                  "tags": [],
                  "needs_background": "light"
                },
                "image/png": "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\n",
                "text/plain": "<Figure size 432x288 with 1 Axes>"
              }
            ],
            "_view_module": "@jupyter-widgets/output",
            "_model_module_version": "1.0.0",
            "_view_count": null,
            "_view_module_version": "1.0.0",
            "layout": "IPY_MODEL_92e7b72409824dfcbffaccd09a5c27de",
            "_model_module": "@jupyter-widgets/output"
          }
        },
        "3abd30164e874020a9600c1f44978f0e": {
          "model_module": "@jupyter-widgets/controls",
          "model_name": "SliderStyleModel",
          "state": {
            "_view_name": "StyleView",
            "handle_color": null,
            "_model_name": "SliderStyleModel",
            "description_width": "",
            "_view_module": "@jupyter-widgets/base",
            "_model_module_version": "1.5.0",
            "_view_count": null,
            "_view_module_version": "1.2.0",
            "_model_module": "@jupyter-widgets/controls"
          }
        },
        "89c9ce2932f64480ab7c7a96d198eb1c": {
          "model_module": "@jupyter-widgets/base",
          "model_name": "LayoutModel",
          "state": {
            "_view_name": "LayoutView",
            "grid_template_rows": null,
            "right": null,
            "justify_content": null,
            "_view_module": "@jupyter-widgets/base",
            "overflow": null,
            "_model_module_version": "1.2.0",
            "_view_count": null,
            "flex_flow": null,
            "width": null,
            "min_width": null,
            "border": null,
            "align_items": null,
            "bottom": null,
            "_model_module": "@jupyter-widgets/base",
            "top": null,
            "grid_column": null,
            "overflow_y": null,
            "overflow_x": null,
            "grid_auto_flow": null,
            "grid_area": null,
            "grid_template_columns": null,
            "flex": null,
            "_model_name": "LayoutModel",
            "justify_items": null,
            "grid_row": null,
            "max_height": null,
            "align_content": null,
            "visibility": null,
            "align_self": null,
            "height": null,
            "min_height": null,
            "padding": null,
            "grid_auto_rows": null,
            "grid_gap": null,
            "max_width": null,
            "order": null,
            "_view_module_version": "1.2.0",
            "grid_template_areas": null,
            "object_position": null,
            "object_fit": null,
            "grid_auto_columns": null,
            "margin": null,
            "display": null,
            "left": null
          }
        },
        "92e7b72409824dfcbffaccd09a5c27de": {
          "model_module": "@jupyter-widgets/base",
          "model_name": "LayoutModel",
          "state": {
            "_view_name": "LayoutView",
            "grid_template_rows": null,
            "right": null,
            "justify_content": null,
            "_view_module": "@jupyter-widgets/base",
            "overflow": null,
            "_model_module_version": "1.2.0",
            "_view_count": null,
            "flex_flow": null,
            "width": null,
            "min_width": null,
            "border": null,
            "align_items": null,
            "bottom": null,
            "_model_module": "@jupyter-widgets/base",
            "top": null,
            "grid_column": null,
            "overflow_y": null,
            "overflow_x": null,
            "grid_auto_flow": null,
            "grid_area": null,
            "grid_template_columns": null,
            "flex": null,
            "_model_name": "LayoutModel",
            "justify_items": null,
            "grid_row": null,
            "max_height": null,
            "align_content": null,
            "visibility": null,
            "align_self": null,
            "height": null,
            "min_height": null,
            "padding": null,
            "grid_auto_rows": null,
            "grid_gap": null,
            "max_width": null,
            "order": null,
            "_view_module_version": "1.2.0",
            "grid_template_areas": null,
            "object_position": null,
            "object_fit": null,
            "grid_auto_columns": null,
            "margin": null,
            "display": null,
            "left": null
          }
        },
        "4af42011d6664878a2fbc813aec8614f": {
          "model_module": "@jupyter-widgets/controls",
          "model_name": "VBoxModel",
          "state": {
            "_view_name": "VBoxView",
            "_dom_classes": [
              "widget-interact"
            ],
            "_model_name": "VBoxModel",
            "_view_module": "@jupyter-widgets/controls",
            "_model_module_version": "1.5.0",
            "_view_count": null,
            "_view_module_version": "1.5.0",
            "box_style": "",
            "layout": "IPY_MODEL_ef5dd1fc053a43cabc338042f2cb3f61",
            "_model_module": "@jupyter-widgets/controls",
            "children": [
              "IPY_MODEL_08ef418e6c6d4f079c442d57b68edd49",
              "IPY_MODEL_62ea0a777d4e4888b41256e344edab44"
            ]
          }
        },
        "ef5dd1fc053a43cabc338042f2cb3f61": {
          "model_module": "@jupyter-widgets/base",
          "model_name": "LayoutModel",
          "state": {
            "_view_name": "LayoutView",
            "grid_template_rows": null,
            "right": null,
            "justify_content": null,
            "_view_module": "@jupyter-widgets/base",
            "overflow": null,
            "_model_module_version": "1.2.0",
            "_view_count": null,
            "flex_flow": null,
            "width": null,
            "min_width": null,
            "border": null,
            "align_items": null,
            "bottom": null,
            "_model_module": "@jupyter-widgets/base",
            "top": null,
            "grid_column": null,
            "overflow_y": null,
            "overflow_x": null,
            "grid_auto_flow": null,
            "grid_area": null,
            "grid_template_columns": null,
            "flex": null,
            "_model_name": "LayoutModel",
            "justify_items": null,
            "grid_row": null,
            "max_height": null,
            "align_content": null,
            "visibility": null,
            "align_self": null,
            "height": null,
            "min_height": null,
            "padding": null,
            "grid_auto_rows": null,
            "grid_gap": null,
            "max_width": null,
            "order": null,
            "_view_module_version": "1.2.0",
            "grid_template_areas": null,
            "object_position": null,
            "object_fit": null,
            "grid_auto_columns": null,
            "margin": null,
            "display": null,
            "left": null
          }
        },
        "08ef418e6c6d4f079c442d57b68edd49": {
          "model_module": "@jupyter-widgets/controls",
          "model_name": "IntSliderModel",
          "state": {
            "_view_name": "IntSliderView",
            "style": "IPY_MODEL_e06026631d124628900a19ec4fb63724",
            "_dom_classes": [],
            "description": "t",
            "step": 1,
            "_model_name": "IntSliderModel",
            "orientation": "horizontal",
            "max": 200,
            "_view_module": "@jupyter-widgets/controls",
            "_model_module_version": "1.5.0",
            "value": 1,
            "_view_count": null,
            "disabled": false,
            "_view_module_version": "1.5.0",
            "min": 1,
            "continuous_update": true,
            "readout_format": "d",
            "description_tooltip": null,
            "readout": true,
            "_model_module": "@jupyter-widgets/controls",
            "layout": "IPY_MODEL_a516ec46003c4a88ad122c3ef4cc1dc3"
          }
        },
        "62ea0a777d4e4888b41256e344edab44": {
          "model_module": "@jupyter-widgets/output",
          "model_name": "OutputModel",
          "state": {
            "_view_name": "OutputView",
            "msg_id": "",
            "_dom_classes": [],
            "_model_name": "OutputModel",
            "outputs": [
              {
                "output_type": "display_data",
                "metadata": {
                  "tags": [],
                  "needs_background": "light"
                },
                "image/png": "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\n",
                "text/plain": "<Figure size 432x288 with 1 Axes>"
              }
            ],
            "_view_module": "@jupyter-widgets/output",
            "_model_module_version": "1.0.0",
            "_view_count": null,
            "_view_module_version": "1.0.0",
            "layout": "IPY_MODEL_8633465e534f44dc8f036c888598e087",
            "_model_module": "@jupyter-widgets/output"
          }
        },
        "e06026631d124628900a19ec4fb63724": {
          "model_module": "@jupyter-widgets/controls",
          "model_name": "SliderStyleModel",
          "state": {
            "_view_name": "StyleView",
            "handle_color": null,
            "_model_name": "SliderStyleModel",
            "description_width": "",
            "_view_module": "@jupyter-widgets/base",
            "_model_module_version": "1.5.0",
            "_view_count": null,
            "_view_module_version": "1.2.0",
            "_model_module": "@jupyter-widgets/controls"
          }
        },
        "a516ec46003c4a88ad122c3ef4cc1dc3": {
          "model_module": "@jupyter-widgets/base",
          "model_name": "LayoutModel",
          "state": {
            "_view_name": "LayoutView",
            "grid_template_rows": null,
            "right": null,
            "justify_content": null,
            "_view_module": "@jupyter-widgets/base",
            "overflow": null,
            "_model_module_version": "1.2.0",
            "_view_count": null,
            "flex_flow": null,
            "width": null,
            "min_width": null,
            "border": null,
            "align_items": null,
            "bottom": null,
            "_model_module": "@jupyter-widgets/base",
            "top": null,
            "grid_column": null,
            "overflow_y": null,
            "overflow_x": null,
            "grid_auto_flow": null,
            "grid_area": null,
            "grid_template_columns": null,
            "flex": null,
            "_model_name": "LayoutModel",
            "justify_items": null,
            "grid_row": null,
            "max_height": null,
            "align_content": null,
            "visibility": null,
            "align_self": null,
            "height": null,
            "min_height": null,
            "padding": null,
            "grid_auto_rows": null,
            "grid_gap": null,
            "max_width": null,
            "order": null,
            "_view_module_version": "1.2.0",
            "grid_template_areas": null,
            "object_position": null,
            "object_fit": null,
            "grid_auto_columns": null,
            "margin": null,
            "display": null,
            "left": null
          }
        },
        "8633465e534f44dc8f036c888598e087": {
          "model_module": "@jupyter-widgets/base",
          "model_name": "LayoutModel",
          "state": {
            "_view_name": "LayoutView",
            "grid_template_rows": null,
            "right": null,
            "justify_content": null,
            "_view_module": "@jupyter-widgets/base",
            "overflow": null,
            "_model_module_version": "1.2.0",
            "_view_count": null,
            "flex_flow": null,
            "width": null,
            "min_width": null,
            "border": null,
            "align_items": null,
            "bottom": null,
            "_model_module": "@jupyter-widgets/base",
            "top": null,
            "grid_column": null,
            "overflow_y": null,
            "overflow_x": null,
            "grid_auto_flow": null,
            "grid_area": null,
            "grid_template_columns": null,
            "flex": null,
            "_model_name": "LayoutModel",
            "justify_items": null,
            "grid_row": null,
            "max_height": null,
            "align_content": null,
            "visibility": null,
            "align_self": null,
            "height": null,
            "min_height": null,
            "padding": null,
            "grid_auto_rows": null,
            "grid_gap": null,
            "max_width": null,
            "order": null,
            "_view_module_version": "1.2.0",
            "grid_template_areas": null,
            "object_position": null,
            "object_fit": null,
            "grid_auto_columns": null,
            "margin": null,
            "display": null,
            "left": null
          }
        },
        "6ad3e15cce8a4aba91f31d3ba7ed8550": {
          "model_module": "@jupyter-widgets/controls",
          "model_name": "VBoxModel",
          "state": {
            "_view_name": "VBoxView",
            "_dom_classes": [
              "widget-interact"
            ],
            "_model_name": "VBoxModel",
            "_view_module": "@jupyter-widgets/controls",
            "_model_module_version": "1.5.0",
            "_view_count": null,
            "_view_module_version": "1.5.0",
            "box_style": "",
            "layout": "IPY_MODEL_18d1e628316042659a39d32fd13f2721",
            "_model_module": "@jupyter-widgets/controls",
            "children": [
              "IPY_MODEL_3a531d6a73db4f7684ab396bb13e164f",
              "IPY_MODEL_e3eeb0bf5b84487c9e59546197e8dc8f"
            ]
          }
        },
        "18d1e628316042659a39d32fd13f2721": {
          "model_module": "@jupyter-widgets/base",
          "model_name": "LayoutModel",
          "state": {
            "_view_name": "LayoutView",
            "grid_template_rows": null,
            "right": null,
            "justify_content": null,
            "_view_module": "@jupyter-widgets/base",
            "overflow": null,
            "_model_module_version": "1.2.0",
            "_view_count": null,
            "flex_flow": null,
            "width": null,
            "min_width": null,
            "border": null,
            "align_items": null,
            "bottom": null,
            "_model_module": "@jupyter-widgets/base",
            "top": null,
            "grid_column": null,
            "overflow_y": null,
            "overflow_x": null,
            "grid_auto_flow": null,
            "grid_area": null,
            "grid_template_columns": null,
            "flex": null,
            "_model_name": "LayoutModel",
            "justify_items": null,
            "grid_row": null,
            "max_height": null,
            "align_content": null,
            "visibility": null,
            "align_self": null,
            "height": null,
            "min_height": null,
            "padding": null,
            "grid_auto_rows": null,
            "grid_gap": null,
            "max_width": null,
            "order": null,
            "_view_module_version": "1.2.0",
            "grid_template_areas": null,
            "object_position": null,
            "object_fit": null,
            "grid_auto_columns": null,
            "margin": null,
            "display": null,
            "left": null
          }
        },
        "3a531d6a73db4f7684ab396bb13e164f": {
          "model_module": "@jupyter-widgets/controls",
          "model_name": "IntSliderModel",
          "state": {
            "_view_name": "IntSliderView",
            "style": "IPY_MODEL_b47f81c6b34547c99a1dc656d024b99a",
            "_dom_classes": [],
            "description": "t",
            "step": 1,
            "_model_name": "IntSliderModel",
            "orientation": "horizontal",
            "max": 50,
            "_view_module": "@jupyter-widgets/controls",
            "_model_module_version": "1.5.0",
            "value": 21,
            "_view_count": null,
            "disabled": false,
            "_view_module_version": "1.5.0",
            "min": 1,
            "continuous_update": true,
            "readout_format": "d",
            "description_tooltip": null,
            "readout": true,
            "_model_module": "@jupyter-widgets/controls",
            "layout": "IPY_MODEL_fe547181aaa1474ab2a3562417e39b12"
          }
        },
        "e3eeb0bf5b84487c9e59546197e8dc8f": {
          "model_module": "@jupyter-widgets/output",
          "model_name": "OutputModel",
          "state": {
            "_view_name": "OutputView",
            "msg_id": "",
            "_dom_classes": [],
            "_model_name": "OutputModel",
            "outputs": [
              {
                "output_type": "display_data",
                "metadata": {
                  "tags": [],
                  "needs_background": "light"
                },
                "image/png": "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\n",
                "text/plain": "<Figure size 432x288 with 1 Axes>"
              }
            ],
            "_view_module": "@jupyter-widgets/output",
            "_model_module_version": "1.0.0",
            "_view_count": null,
            "_view_module_version": "1.0.0",
            "layout": "IPY_MODEL_2092bc468ad341f3bc67a0af36e1b4d5",
            "_model_module": "@jupyter-widgets/output"
          }
        },
        "b47f81c6b34547c99a1dc656d024b99a": {
          "model_module": "@jupyter-widgets/controls",
          "model_name": "SliderStyleModel",
          "state": {
            "_view_name": "StyleView",
            "handle_color": null,
            "_model_name": "SliderStyleModel",
            "description_width": "",
            "_view_module": "@jupyter-widgets/base",
            "_model_module_version": "1.5.0",
            "_view_count": null,
            "_view_module_version": "1.2.0",
            "_model_module": "@jupyter-widgets/controls"
          }
        },
        "fe547181aaa1474ab2a3562417e39b12": {
          "model_module": "@jupyter-widgets/base",
          "model_name": "LayoutModel",
          "state": {
            "_view_name": "LayoutView",
            "grid_template_rows": null,
            "right": null,
            "justify_content": null,
            "_view_module": "@jupyter-widgets/base",
            "overflow": null,
            "_model_module_version": "1.2.0",
            "_view_count": null,
            "flex_flow": null,
            "width": null,
            "min_width": null,
            "border": null,
            "align_items": null,
            "bottom": null,
            "_model_module": "@jupyter-widgets/base",
            "top": null,
            "grid_column": null,
            "overflow_y": null,
            "overflow_x": null,
            "grid_auto_flow": null,
            "grid_area": null,
            "grid_template_columns": null,
            "flex": null,
            "_model_name": "LayoutModel",
            "justify_items": null,
            "grid_row": null,
            "max_height": null,
            "align_content": null,
            "visibility": null,
            "align_self": null,
            "height": null,
            "min_height": null,
            "padding": null,
            "grid_auto_rows": null,
            "grid_gap": null,
            "max_width": null,
            "order": null,
            "_view_module_version": "1.2.0",
            "grid_template_areas": null,
            "object_position": null,
            "object_fit": null,
            "grid_auto_columns": null,
            "margin": null,
            "display": null,
            "left": null
          }
        },
        "2092bc468ad341f3bc67a0af36e1b4d5": {
          "model_module": "@jupyter-widgets/base",
          "model_name": "LayoutModel",
          "state": {
            "_view_name": "LayoutView",
            "grid_template_rows": null,
            "right": null,
            "justify_content": null,
            "_view_module": "@jupyter-widgets/base",
            "overflow": null,
            "_model_module_version": "1.2.0",
            "_view_count": null,
            "flex_flow": null,
            "width": null,
            "min_width": null,
            "border": null,
            "align_items": null,
            "bottom": null,
            "_model_module": "@jupyter-widgets/base",
            "top": null,
            "grid_column": null,
            "overflow_y": null,
            "overflow_x": null,
            "grid_auto_flow": null,
            "grid_area": null,
            "grid_template_columns": null,
            "flex": null,
            "_model_name": "LayoutModel",
            "justify_items": null,
            "grid_row": null,
            "max_height": null,
            "align_content": null,
            "visibility": null,
            "align_self": null,
            "height": null,
            "min_height": null,
            "padding": null,
            "grid_auto_rows": null,
            "grid_gap": null,
            "max_width": null,
            "order": null,
            "_view_module_version": "1.2.0",
            "grid_template_areas": null,
            "object_position": null,
            "object_fit": null,
            "grid_auto_columns": null,
            "margin": null,
            "display": null,
            "left": null
          }
        },
        "512a1fe0a75a4cb0b6fd8ae2f209266f": {
          "model_module": "@jupyter-widgets/controls",
          "model_name": "VBoxModel",
          "state": {
            "_view_name": "VBoxView",
            "_dom_classes": [
              "widget-interact"
            ],
            "_model_name": "VBoxModel",
            "_view_module": "@jupyter-widgets/controls",
            "_model_module_version": "1.5.0",
            "_view_count": null,
            "_view_module_version": "1.5.0",
            "box_style": "",
            "layout": "IPY_MODEL_09a58dcaa1a64d889c0ac694576b6196",
            "_model_module": "@jupyter-widgets/controls",
            "children": [
              "IPY_MODEL_edab9ca4b3a84a8b82967d3b3405acd9",
              "IPY_MODEL_6a9dd66abd6847c2a11f5d69f0e936bd"
            ]
          }
        },
        "09a58dcaa1a64d889c0ac694576b6196": {
          "model_module": "@jupyter-widgets/base",
          "model_name": "LayoutModel",
          "state": {
            "_view_name": "LayoutView",
            "grid_template_rows": null,
            "right": null,
            "justify_content": null,
            "_view_module": "@jupyter-widgets/base",
            "overflow": null,
            "_model_module_version": "1.2.0",
            "_view_count": null,
            "flex_flow": null,
            "width": null,
            "min_width": null,
            "border": null,
            "align_items": null,
            "bottom": null,
            "_model_module": "@jupyter-widgets/base",
            "top": null,
            "grid_column": null,
            "overflow_y": null,
            "overflow_x": null,
            "grid_auto_flow": null,
            "grid_area": null,
            "grid_template_columns": null,
            "flex": null,
            "_model_name": "LayoutModel",
            "justify_items": null,
            "grid_row": null,
            "max_height": null,
            "align_content": null,
            "visibility": null,
            "align_self": null,
            "height": null,
            "min_height": null,
            "padding": null,
            "grid_auto_rows": null,
            "grid_gap": null,
            "max_width": null,
            "order": null,
            "_view_module_version": "1.2.0",
            "grid_template_areas": null,
            "object_position": null,
            "object_fit": null,
            "grid_auto_columns": null,
            "margin": null,
            "display": null,
            "left": null
          }
        },
        "edab9ca4b3a84a8b82967d3b3405acd9": {
          "model_module": "@jupyter-widgets/controls",
          "model_name": "IntSliderModel",
          "state": {
            "_view_name": "IntSliderView",
            "style": "IPY_MODEL_f771252c4bd6419c88300ea277a531f2",
            "_dom_classes": [],
            "description": "x",
            "step": 1,
            "_model_name": "IntSliderModel",
            "orientation": "horizontal",
            "max": 99,
            "_view_module": "@jupyter-widgets/controls",
            "_model_module_version": "1.5.0",
            "value": 19,
            "_view_count": null,
            "disabled": false,
            "_view_module_version": "1.5.0",
            "min": -100,
            "continuous_update": true,
            "readout_format": "d",
            "description_tooltip": null,
            "readout": true,
            "_model_module": "@jupyter-widgets/controls",
            "layout": "IPY_MODEL_b1440c26b05c418eb16af75dbc81051d"
          }
        },
        "6a9dd66abd6847c2a11f5d69f0e936bd": {
          "model_module": "@jupyter-widgets/output",
          "model_name": "OutputModel",
          "state": {
            "_view_name": "OutputView",
            "msg_id": "",
            "_dom_classes": [],
            "_model_name": "OutputModel",
            "outputs": [
              {
                "output_type": "display_data",
                "metadata": {
                  "tags": [],
                  "needs_background": "light"
                },
                "image/png": "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\n",
                "text/plain": "<Figure size 432x288 with 1 Axes>"
              }
            ],
            "_view_module": "@jupyter-widgets/output",
            "_model_module_version": "1.0.0",
            "_view_count": null,
            "_view_module_version": "1.0.0",
            "layout": "IPY_MODEL_6b4c23a3ec33442fa233a5ba22cb8e39",
            "_model_module": "@jupyter-widgets/output"
          }
        },
        "f771252c4bd6419c88300ea277a531f2": {
          "model_module": "@jupyter-widgets/controls",
          "model_name": "SliderStyleModel",
          "state": {
            "_view_name": "StyleView",
            "handle_color": null,
            "_model_name": "SliderStyleModel",
            "description_width": "",
            "_view_module": "@jupyter-widgets/base",
            "_model_module_version": "1.5.0",
            "_view_count": null,
            "_view_module_version": "1.2.0",
            "_model_module": "@jupyter-widgets/controls"
          }
        },
        "b1440c26b05c418eb16af75dbc81051d": {
          "model_module": "@jupyter-widgets/base",
          "model_name": "LayoutModel",
          "state": {
            "_view_name": "LayoutView",
            "grid_template_rows": null,
            "right": null,
            "justify_content": null,
            "_view_module": "@jupyter-widgets/base",
            "overflow": null,
            "_model_module_version": "1.2.0",
            "_view_count": null,
            "flex_flow": null,
            "width": null,
            "min_width": null,
            "border": null,
            "align_items": null,
            "bottom": null,
            "_model_module": "@jupyter-widgets/base",
            "top": null,
            "grid_column": null,
            "overflow_y": null,
            "overflow_x": null,
            "grid_auto_flow": null,
            "grid_area": null,
            "grid_template_columns": null,
            "flex": null,
            "_model_name": "LayoutModel",
            "justify_items": null,
            "grid_row": null,
            "max_height": null,
            "align_content": null,
            "visibility": null,
            "align_self": null,
            "height": null,
            "min_height": null,
            "padding": null,
            "grid_auto_rows": null,
            "grid_gap": null,
            "max_width": null,
            "order": null,
            "_view_module_version": "1.2.0",
            "grid_template_areas": null,
            "object_position": null,
            "object_fit": null,
            "grid_auto_columns": null,
            "margin": null,
            "display": null,
            "left": null
          }
        },
        "6b4c23a3ec33442fa233a5ba22cb8e39": {
          "model_module": "@jupyter-widgets/base",
          "model_name": "LayoutModel",
          "state": {
            "_view_name": "LayoutView",
            "grid_template_rows": null,
            "right": null,
            "justify_content": null,
            "_view_module": "@jupyter-widgets/base",
            "overflow": null,
            "_model_module_version": "1.2.0",
            "_view_count": null,
            "flex_flow": null,
            "width": null,
            "min_width": null,
            "border": null,
            "align_items": null,
            "bottom": null,
            "_model_module": "@jupyter-widgets/base",
            "top": null,
            "grid_column": null,
            "overflow_y": null,
            "overflow_x": null,
            "grid_auto_flow": null,
            "grid_area": null,
            "grid_template_columns": null,
            "flex": null,
            "_model_name": "LayoutModel",
            "justify_items": null,
            "grid_row": null,
            "max_height": null,
            "align_content": null,
            "visibility": null,
            "align_self": null,
            "height": null,
            "min_height": null,
            "padding": null,
            "grid_auto_rows": null,
            "grid_gap": null,
            "max_width": null,
            "order": null,
            "_view_module_version": "1.2.0",
            "grid_template_areas": null,
            "object_position": null,
            "object_fit": null,
            "grid_auto_columns": null,
            "margin": null,
            "display": null,
            "left": null
          }
        },
        "b56914313256414a9227c955a8a329a3": {
          "model_module": "@jupyter-widgets/controls",
          "model_name": "VBoxModel",
          "state": {
            "_view_name": "VBoxView",
            "_dom_classes": [
              "widget-interact"
            ],
            "_model_name": "VBoxModel",
            "_view_module": "@jupyter-widgets/controls",
            "_model_module_version": "1.5.0",
            "_view_count": null,
            "_view_module_version": "1.5.0",
            "box_style": "",
            "layout": "IPY_MODEL_67ff4edca59a4ac295bdb1b5df46f682",
            "_model_module": "@jupyter-widgets/controls",
            "children": [
              "IPY_MODEL_afbeadffb1374974804ba841009334c5",
              "IPY_MODEL_95241876adef4fc8b3b9267fbe93b052"
            ]
          }
        },
        "67ff4edca59a4ac295bdb1b5df46f682": {
          "model_module": "@jupyter-widgets/base",
          "model_name": "LayoutModel",
          "state": {
            "_view_name": "LayoutView",
            "grid_template_rows": null,
            "right": null,
            "justify_content": null,
            "_view_module": "@jupyter-widgets/base",
            "overflow": null,
            "_model_module_version": "1.2.0",
            "_view_count": null,
            "flex_flow": null,
            "width": null,
            "min_width": null,
            "border": null,
            "align_items": null,
            "bottom": null,
            "_model_module": "@jupyter-widgets/base",
            "top": null,
            "grid_column": null,
            "overflow_y": null,
            "overflow_x": null,
            "grid_auto_flow": null,
            "grid_area": null,
            "grid_template_columns": null,
            "flex": null,
            "_model_name": "LayoutModel",
            "justify_items": null,
            "grid_row": null,
            "max_height": null,
            "align_content": null,
            "visibility": null,
            "align_self": null,
            "height": null,
            "min_height": null,
            "padding": null,
            "grid_auto_rows": null,
            "grid_gap": null,
            "max_width": null,
            "order": null,
            "_view_module_version": "1.2.0",
            "grid_template_areas": null,
            "object_position": null,
            "object_fit": null,
            "grid_auto_columns": null,
            "margin": null,
            "display": null,
            "left": null
          }
        },
        "afbeadffb1374974804ba841009334c5": {
          "model_module": "@jupyter-widgets/controls",
          "model_name": "IntSliderModel",
          "state": {
            "_view_name": "IntSliderView",
            "style": "IPY_MODEL_e38771a93bbf4c9ba52ea29f851c07c0",
            "_dom_classes": [],
            "description": "x",
            "step": 1,
            "_model_name": "IntSliderModel",
            "orientation": "horizontal",
            "max": 99,
            "_view_module": "@jupyter-widgets/controls",
            "_model_module_version": "1.5.0",
            "value": 21,
            "_view_count": null,
            "disabled": false,
            "_view_module_version": "1.5.0",
            "min": -100,
            "continuous_update": true,
            "readout_format": "d",
            "description_tooltip": null,
            "readout": true,
            "_model_module": "@jupyter-widgets/controls",
            "layout": "IPY_MODEL_3956889865544e59a3b294866535475f"
          }
        },
        "95241876adef4fc8b3b9267fbe93b052": {
          "model_module": "@jupyter-widgets/output",
          "model_name": "OutputModel",
          "state": {
            "_view_name": "OutputView",
            "msg_id": "",
            "_dom_classes": [],
            "_model_name": "OutputModel",
            "outputs": [
              {
                "output_type": "display_data",
                "metadata": {
                  "tags": [],
                  "needs_background": "light"
                },
                "image/png": "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\n",
                "text/plain": "<Figure size 432x288 with 1 Axes>"
              }
            ],
            "_view_module": "@jupyter-widgets/output",
            "_model_module_version": "1.0.0",
            "_view_count": null,
            "_view_module_version": "1.0.0",
            "layout": "IPY_MODEL_42380735e2c642b48bdf5c0d1f4bebb5",
            "_model_module": "@jupyter-widgets/output"
          }
        },
        "e38771a93bbf4c9ba52ea29f851c07c0": {
          "model_module": "@jupyter-widgets/controls",
          "model_name": "SliderStyleModel",
          "state": {
            "_view_name": "StyleView",
            "handle_color": null,
            "_model_name": "SliderStyleModel",
            "description_width": "",
            "_view_module": "@jupyter-widgets/base",
            "_model_module_version": "1.5.0",
            "_view_count": null,
            "_view_module_version": "1.2.0",
            "_model_module": "@jupyter-widgets/controls"
          }
        },
        "3956889865544e59a3b294866535475f": {
          "model_module": "@jupyter-widgets/base",
          "model_name": "LayoutModel",
          "state": {
            "_view_name": "LayoutView",
            "grid_template_rows": null,
            "right": null,
            "justify_content": null,
            "_view_module": "@jupyter-widgets/base",
            "overflow": null,
            "_model_module_version": "1.2.0",
            "_view_count": null,
            "flex_flow": null,
            "width": null,
            "min_width": null,
            "border": null,
            "align_items": null,
            "bottom": null,
            "_model_module": "@jupyter-widgets/base",
            "top": null,
            "grid_column": null,
            "overflow_y": null,
            "overflow_x": null,
            "grid_auto_flow": null,
            "grid_area": null,
            "grid_template_columns": null,
            "flex": null,
            "_model_name": "LayoutModel",
            "justify_items": null,
            "grid_row": null,
            "max_height": null,
            "align_content": null,
            "visibility": null,
            "align_self": null,
            "height": null,
            "min_height": null,
            "padding": null,
            "grid_auto_rows": null,
            "grid_gap": null,
            "max_width": null,
            "order": null,
            "_view_module_version": "1.2.0",
            "grid_template_areas": null,
            "object_position": null,
            "object_fit": null,
            "grid_auto_columns": null,
            "margin": null,
            "display": null,
            "left": null
          }
        },
        "42380735e2c642b48bdf5c0d1f4bebb5": {
          "model_module": "@jupyter-widgets/base",
          "model_name": "LayoutModel",
          "state": {
            "_view_name": "LayoutView",
            "grid_template_rows": null,
            "right": null,
            "justify_content": null,
            "_view_module": "@jupyter-widgets/base",
            "overflow": null,
            "_model_module_version": "1.2.0",
            "_view_count": null,
            "flex_flow": null,
            "width": null,
            "min_width": null,
            "border": null,
            "align_items": null,
            "bottom": null,
            "_model_module": "@jupyter-widgets/base",
            "top": null,
            "grid_column": null,
            "overflow_y": null,
            "overflow_x": null,
            "grid_auto_flow": null,
            "grid_area": null,
            "grid_template_columns": null,
            "flex": null,
            "_model_name": "LayoutModel",
            "justify_items": null,
            "grid_row": null,
            "max_height": null,
            "align_content": null,
            "visibility": null,
            "align_self": null,
            "height": null,
            "min_height": null,
            "padding": null,
            "grid_auto_rows": null,
            "grid_gap": null,
            "max_width": null,
            "order": null,
            "_view_module_version": "1.2.0",
            "grid_template_areas": null,
            "object_position": null,
            "object_fit": null,
            "grid_auto_columns": null,
            "margin": null,
            "display": null,
            "left": null
          }
        },
        "9e837c6310764022856b123ceec7dc9a": {
          "model_module": "@jupyter-widgets/controls",
          "model_name": "VBoxModel",
          "state": {
            "_view_name": "VBoxView",
            "_dom_classes": [
              "widget-interact"
            ],
            "_model_name": "VBoxModel",
            "_view_module": "@jupyter-widgets/controls",
            "_model_module_version": "1.5.0",
            "_view_count": null,
            "_view_module_version": "1.5.0",
            "box_style": "",
            "layout": "IPY_MODEL_293568deb16c4c7badddc4041864be32",
            "_model_module": "@jupyter-widgets/controls",
            "children": [
              "IPY_MODEL_34d315a43fdc45f488087888c6a53aac",
              "IPY_MODEL_905effbb33dd401badb2fd90a9d3b7d3",
              "IPY_MODEL_a7816293d08e4cc881acc330d8b71b11",
              "IPY_MODEL_789a7c525bfb468a8f8b369a44a05093"
            ]
          }
        },
        "293568deb16c4c7badddc4041864be32": {
          "model_module": "@jupyter-widgets/base",
          "model_name": "LayoutModel",
          "state": {
            "_view_name": "LayoutView",
            "grid_template_rows": null,
            "right": null,
            "justify_content": null,
            "_view_module": "@jupyter-widgets/base",
            "overflow": null,
            "_model_module_version": "1.2.0",
            "_view_count": null,
            "flex_flow": null,
            "width": null,
            "min_width": null,
            "border": null,
            "align_items": null,
            "bottom": null,
            "_model_module": "@jupyter-widgets/base",
            "top": null,
            "grid_column": null,
            "overflow_y": null,
            "overflow_x": null,
            "grid_auto_flow": null,
            "grid_area": null,
            "grid_template_columns": null,
            "flex": null,
            "_model_name": "LayoutModel",
            "justify_items": null,
            "grid_row": null,
            "max_height": null,
            "align_content": null,
            "visibility": null,
            "align_self": null,
            "height": null,
            "min_height": null,
            "padding": null,
            "grid_auto_rows": null,
            "grid_gap": null,
            "max_width": null,
            "order": null,
            "_view_module_version": "1.2.0",
            "grid_template_areas": null,
            "object_position": null,
            "object_fit": null,
            "grid_auto_columns": null,
            "margin": null,
            "display": null,
            "left": null
          }
        },
        "34d315a43fdc45f488087888c6a53aac": {
          "model_module": "@jupyter-widgets/controls",
          "model_name": "IntSliderModel",
          "state": {
            "_view_name": "IntSliderView",
            "style": "IPY_MODEL_62bb721bf6984ab7a97d9bf6720d1e5b",
            "_dom_classes": [],
            "description": "t",
            "step": 1,
            "_model_name": "IntSliderModel",
            "orientation": "horizontal",
            "max": 50,
            "_view_module": "@jupyter-widgets/controls",
            "_model_module_version": "1.5.0",
            "value": 1,
            "_view_count": null,
            "disabled": false,
            "_view_module_version": "1.5.0",
            "min": 1,
            "continuous_update": true,
            "readout_format": "d",
            "description_tooltip": null,
            "readout": true,
            "_model_module": "@jupyter-widgets/controls",
            "layout": "IPY_MODEL_36f542dc7c644b0ea2f6f04b3fdb1aab"
          }
        },
        "905effbb33dd401badb2fd90a9d3b7d3": {
          "model_module": "@jupyter-widgets/controls",
          "model_name": "FloatSliderModel",
          "state": {
            "_view_name": "FloatSliderView",
            "style": "IPY_MODEL_2efe822073bf4291b99deeb1f33b4278",
            "_dom_classes": [],
            "description": "D_x",
            "step": 0.1,
            "_model_name": "FloatSliderModel",
            "orientation": "horizontal",
            "max": 5,
            "_view_module": "@jupyter-widgets/controls",
            "_model_module_version": "1.5.0",
            "value": 2.5000000000000004,
            "_view_count": null,
            "disabled": false,
            "_view_module_version": "1.5.0",
            "min": 0.1,
            "continuous_update": true,
            "readout_format": ".2f",
            "description_tooltip": null,
            "readout": true,
            "_model_module": "@jupyter-widgets/controls",
            "layout": "IPY_MODEL_8d3eabe1cb6045619019232ce4ab9eac"
          }
        },
        "a7816293d08e4cc881acc330d8b71b11": {
          "model_module": "@jupyter-widgets/controls",
          "model_name": "FloatSliderModel",
          "state": {
            "_view_name": "FloatSliderView",
            "style": "IPY_MODEL_f01a0c4230a44743978c90791903bf09",
            "_dom_classes": [],
            "description": "D_y",
            "step": 0.1,
            "_model_name": "FloatSliderModel",
            "orientation": "horizontal",
            "max": 5,
            "_view_module": "@jupyter-widgets/controls",
            "_model_module_version": "1.5.0",
            "value": 2.5000000000000004,
            "_view_count": null,
            "disabled": false,
            "_view_module_version": "1.5.0",
            "min": 0.1,
            "continuous_update": true,
            "readout_format": ".2f",
            "description_tooltip": null,
            "readout": true,
            "_model_module": "@jupyter-widgets/controls",
            "layout": "IPY_MODEL_e00a428807cb4fcb98dccc1cafcfcc67"
          }
        },
        "789a7c525bfb468a8f8b369a44a05093": {
          "model_module": "@jupyter-widgets/output",
          "model_name": "OutputModel",
          "state": {
            "_view_name": "OutputView",
            "msg_id": "",
            "_dom_classes": [],
            "_model_name": "OutputModel",
            "outputs": [
              {
                "output_type": "display_data",
                "metadata": {
                  "tags": [],
                  "needs_background": "light"
                },
                "image/png": "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\n",
                "text/plain": "<Figure size 720x720 with 1 Axes>"
              }
            ],
            "_view_module": "@jupyter-widgets/output",
            "_model_module_version": "1.0.0",
            "_view_count": null,
            "_view_module_version": "1.0.0",
            "layout": "IPY_MODEL_358c7f99f5fb475ba9d220570bf2a1b8",
            "_model_module": "@jupyter-widgets/output"
          }
        },
        "62bb721bf6984ab7a97d9bf6720d1e5b": {
          "model_module": "@jupyter-widgets/controls",
          "model_name": "SliderStyleModel",
          "state": {
            "_view_name": "StyleView",
            "handle_color": null,
            "_model_name": "SliderStyleModel",
            "description_width": "",
            "_view_module": "@jupyter-widgets/base",
            "_model_module_version": "1.5.0",
            "_view_count": null,
            "_view_module_version": "1.2.0",
            "_model_module": "@jupyter-widgets/controls"
          }
        },
        "36f542dc7c644b0ea2f6f04b3fdb1aab": {
          "model_module": "@jupyter-widgets/base",
          "model_name": "LayoutModel",
          "state": {
            "_view_name": "LayoutView",
            "grid_template_rows": null,
            "right": null,
            "justify_content": null,
            "_view_module": "@jupyter-widgets/base",
            "overflow": null,
            "_model_module_version": "1.2.0",
            "_view_count": null,
            "flex_flow": null,
            "width": null,
            "min_width": null,
            "border": null,
            "align_items": null,
            "bottom": null,
            "_model_module": "@jupyter-widgets/base",
            "top": null,
            "grid_column": null,
            "overflow_y": null,
            "overflow_x": null,
            "grid_auto_flow": null,
            "grid_area": null,
            "grid_template_columns": null,
            "flex": null,
            "_model_name": "LayoutModel",
            "justify_items": null,
            "grid_row": null,
            "max_height": null,
            "align_content": null,
            "visibility": null,
            "align_self": null,
            "height": null,
            "min_height": null,
            "padding": null,
            "grid_auto_rows": null,
            "grid_gap": null,
            "max_width": null,
            "order": null,
            "_view_module_version": "1.2.0",
            "grid_template_areas": null,
            "object_position": null,
            "object_fit": null,
            "grid_auto_columns": null,
            "margin": null,
            "display": null,
            "left": null
          }
        },
        "2efe822073bf4291b99deeb1f33b4278": {
          "model_module": "@jupyter-widgets/controls",
          "model_name": "SliderStyleModel",
          "state": {
            "_view_name": "StyleView",
            "handle_color": null,
            "_model_name": "SliderStyleModel",
            "description_width": "",
            "_view_module": "@jupyter-widgets/base",
            "_model_module_version": "1.5.0",
            "_view_count": null,
            "_view_module_version": "1.2.0",
            "_model_module": "@jupyter-widgets/controls"
          }
        },
        "8d3eabe1cb6045619019232ce4ab9eac": {
          "model_module": "@jupyter-widgets/base",
          "model_name": "LayoutModel",
          "state": {
            "_view_name": "LayoutView",
            "grid_template_rows": null,
            "right": null,
            "justify_content": null,
            "_view_module": "@jupyter-widgets/base",
            "overflow": null,
            "_model_module_version": "1.2.0",
            "_view_count": null,
            "flex_flow": null,
            "width": null,
            "min_width": null,
            "border": null,
            "align_items": null,
            "bottom": null,
            "_model_module": "@jupyter-widgets/base",
            "top": null,
            "grid_column": null,
            "overflow_y": null,
            "overflow_x": null,
            "grid_auto_flow": null,
            "grid_area": null,
            "grid_template_columns": null,
            "flex": null,
            "_model_name": "LayoutModel",
            "justify_items": null,
            "grid_row": null,
            "max_height": null,
            "align_content": null,
            "visibility": null,
            "align_self": null,
            "height": null,
            "min_height": null,
            "padding": null,
            "grid_auto_rows": null,
            "grid_gap": null,
            "max_width": null,
            "order": null,
            "_view_module_version": "1.2.0",
            "grid_template_areas": null,
            "object_position": null,
            "object_fit": null,
            "grid_auto_columns": null,
            "margin": null,
            "display": null,
            "left": null
          }
        },
        "f01a0c4230a44743978c90791903bf09": {
          "model_module": "@jupyter-widgets/controls",
          "model_name": "SliderStyleModel",
          "state": {
            "_view_name": "StyleView",
            "handle_color": null,
            "_model_name": "SliderStyleModel",
            "description_width": "",
            "_view_module": "@jupyter-widgets/base",
            "_model_module_version": "1.5.0",
            "_view_count": null,
            "_view_module_version": "1.2.0",
            "_model_module": "@jupyter-widgets/controls"
          }
        },
        "e00a428807cb4fcb98dccc1cafcfcc67": {
          "model_module": "@jupyter-widgets/base",
          "model_name": "LayoutModel",
          "state": {
            "_view_name": "LayoutView",
            "grid_template_rows": null,
            "right": null,
            "justify_content": null,
            "_view_module": "@jupyter-widgets/base",
            "overflow": null,
            "_model_module_version": "1.2.0",
            "_view_count": null,
            "flex_flow": null,
            "width": null,
            "min_width": null,
            "border": null,
            "align_items": null,
            "bottom": null,
            "_model_module": "@jupyter-widgets/base",
            "top": null,
            "grid_column": null,
            "overflow_y": null,
            "overflow_x": null,
            "grid_auto_flow": null,
            "grid_area": null,
            "grid_template_columns": null,
            "flex": null,
            "_model_name": "LayoutModel",
            "justify_items": null,
            "grid_row": null,
            "max_height": null,
            "align_content": null,
            "visibility": null,
            "align_self": null,
            "height": null,
            "min_height": null,
            "padding": null,
            "grid_auto_rows": null,
            "grid_gap": null,
            "max_width": null,
            "order": null,
            "_view_module_version": "1.2.0",
            "grid_template_areas": null,
            "object_position": null,
            "object_fit": null,
            "grid_auto_columns": null,
            "margin": null,
            "display": null,
            "left": null
          }
        },
        "358c7f99f5fb475ba9d220570bf2a1b8": {
          "model_module": "@jupyter-widgets/base",
          "model_name": "LayoutModel",
          "state": {
            "_view_name": "LayoutView",
            "grid_template_rows": null,
            "right": null,
            "justify_content": null,
            "_view_module": "@jupyter-widgets/base",
            "overflow": null,
            "_model_module_version": "1.2.0",
            "_view_count": null,
            "flex_flow": null,
            "width": null,
            "min_width": null,
            "border": null,
            "align_items": null,
            "bottom": null,
            "_model_module": "@jupyter-widgets/base",
            "top": null,
            "grid_column": null,
            "overflow_y": null,
            "overflow_x": null,
            "grid_auto_flow": null,
            "grid_area": null,
            "grid_template_columns": null,
            "flex": null,
            "_model_name": "LayoutModel",
            "justify_items": null,
            "grid_row": null,
            "max_height": null,
            "align_content": null,
            "visibility": null,
            "align_self": null,
            "height": null,
            "min_height": null,
            "padding": null,
            "grid_auto_rows": null,
            "grid_gap": null,
            "max_width": null,
            "order": null,
            "_view_module_version": "1.2.0",
            "grid_template_areas": null,
            "object_position": null,
            "object_fit": null,
            "grid_auto_columns": null,
            "margin": null,
            "display": null,
            "left": null
          }
        },
        "e5ead784d5cb4b758f9dbd0ff6f059ba": {
          "model_module": "@jupyter-widgets/controls",
          "model_name": "VBoxModel",
          "state": {
            "_view_name": "VBoxView",
            "_dom_classes": [
              "widget-interact"
            ],
            "_model_name": "VBoxModel",
            "_view_module": "@jupyter-widgets/controls",
            "_model_module_version": "1.5.0",
            "_view_count": null,
            "_view_module_version": "1.5.0",
            "box_style": "",
            "layout": "IPY_MODEL_f784397d8fa04ad8b84e5baada378f6f",
            "_model_module": "@jupyter-widgets/controls",
            "children": [
              "IPY_MODEL_66caca4f0cf94390a08f2d0f8f336891",
              "IPY_MODEL_e283683a1c944deda8fc474ad659cd0d",
              "IPY_MODEL_6f2021e46b934a6992677d0bdc7564de",
              "IPY_MODEL_d4ae480023e842d0a1f6e5bca8c61b8e"
            ]
          }
        },
        "f784397d8fa04ad8b84e5baada378f6f": {
          "model_module": "@jupyter-widgets/base",
          "model_name": "LayoutModel",
          "state": {
            "_view_name": "LayoutView",
            "grid_template_rows": null,
            "right": null,
            "justify_content": null,
            "_view_module": "@jupyter-widgets/base",
            "overflow": null,
            "_model_module_version": "1.2.0",
            "_view_count": null,
            "flex_flow": null,
            "width": null,
            "min_width": null,
            "border": null,
            "align_items": null,
            "bottom": null,
            "_model_module": "@jupyter-widgets/base",
            "top": null,
            "grid_column": null,
            "overflow_y": null,
            "overflow_x": null,
            "grid_auto_flow": null,
            "grid_area": null,
            "grid_template_columns": null,
            "flex": null,
            "_model_name": "LayoutModel",
            "justify_items": null,
            "grid_row": null,
            "max_height": null,
            "align_content": null,
            "visibility": null,
            "align_self": null,
            "height": null,
            "min_height": null,
            "padding": null,
            "grid_auto_rows": null,
            "grid_gap": null,
            "max_width": null,
            "order": null,
            "_view_module_version": "1.2.0",
            "grid_template_areas": null,
            "object_position": null,
            "object_fit": null,
            "grid_auto_columns": null,
            "margin": null,
            "display": null,
            "left": null
          }
        },
        "66caca4f0cf94390a08f2d0f8f336891": {
          "model_module": "@jupyter-widgets/controls",
          "model_name": "IntSliderModel",
          "state": {
            "_view_name": "IntSliderView",
            "style": "IPY_MODEL_eda4c4079cae4302ab16f77976e22926",
            "_dom_classes": [],
            "description": "t",
            "step": 1,
            "_model_name": "IntSliderModel",
            "orientation": "horizontal",
            "max": 50,
            "_view_module": "@jupyter-widgets/controls",
            "_model_module_version": "1.5.0",
            "value": 1,
            "_view_count": null,
            "disabled": false,
            "_view_module_version": "1.5.0",
            "min": 1,
            "continuous_update": true,
            "readout_format": "d",
            "description_tooltip": null,
            "readout": true,
            "_model_module": "@jupyter-widgets/controls",
            "layout": "IPY_MODEL_ecbcad399e8849c2a141ab257d7bf294"
          }
        },
        "e283683a1c944deda8fc474ad659cd0d": {
          "model_module": "@jupyter-widgets/controls",
          "model_name": "FloatSliderModel",
          "state": {
            "_view_name": "FloatSliderView",
            "style": "IPY_MODEL_fc844c7346c54a99b173e6276f549d3d",
            "_dom_classes": [],
            "description": "D_x",
            "step": 0.01,
            "_model_name": "FloatSliderModel",
            "orientation": "horizontal",
            "max": 0.5,
            "_view_module": "@jupyter-widgets/controls",
            "_model_module_version": "1.5.0",
            "value": 0.01,
            "_view_count": null,
            "disabled": false,
            "_view_module_version": "1.5.0",
            "min": 0.01,
            "continuous_update": true,
            "readout_format": ".2f",
            "description_tooltip": null,
            "readout": true,
            "_model_module": "@jupyter-widgets/controls",
            "layout": "IPY_MODEL_17ba60f5d5074e98847b6a265417267c"
          }
        },
        "6f2021e46b934a6992677d0bdc7564de": {
          "model_module": "@jupyter-widgets/controls",
          "model_name": "FloatSliderModel",
          "state": {
            "_view_name": "FloatSliderView",
            "style": "IPY_MODEL_c372db85960d44e39ef445da16645aaa",
            "_dom_classes": [],
            "description": "D_y",
            "step": 0.01,
            "_model_name": "FloatSliderModel",
            "orientation": "horizontal",
            "max": 0.5,
            "_view_module": "@jupyter-widgets/controls",
            "_model_module_version": "1.5.0",
            "value": 0.01,
            "_view_count": null,
            "disabled": false,
            "_view_module_version": "1.5.0",
            "min": 0.01,
            "continuous_update": true,
            "readout_format": ".2f",
            "description_tooltip": null,
            "readout": true,
            "_model_module": "@jupyter-widgets/controls",
            "layout": "IPY_MODEL_366b00195dbb4ca89f7ca8db28efa982"
          }
        },
        "d4ae480023e842d0a1f6e5bca8c61b8e": {
          "model_module": "@jupyter-widgets/output",
          "model_name": "OutputModel",
          "state": {
            "_view_name": "OutputView",
            "msg_id": "",
            "_dom_classes": [],
            "_model_name": "OutputModel",
            "outputs": [
              {
                "output_type": "display_data",
                "metadata": {
                  "tags": [],
                  "needs_background": "light"
                },
                "image/png": "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\n",
                "text/plain": "<Figure size 720x720 with 1 Axes>"
              }
            ],
            "_view_module": "@jupyter-widgets/output",
            "_model_module_version": "1.0.0",
            "_view_count": null,
            "_view_module_version": "1.0.0",
            "layout": "IPY_MODEL_6d575301aa7f43bca64dbdaa1af80278",
            "_model_module": "@jupyter-widgets/output"
          }
        },
        "eda4c4079cae4302ab16f77976e22926": {
          "model_module": "@jupyter-widgets/controls",
          "model_name": "SliderStyleModel",
          "state": {
            "_view_name": "StyleView",
            "handle_color": null,
            "_model_name": "SliderStyleModel",
            "description_width": "",
            "_view_module": "@jupyter-widgets/base",
            "_model_module_version": "1.5.0",
            "_view_count": null,
            "_view_module_version": "1.2.0",
            "_model_module": "@jupyter-widgets/controls"
          }
        },
        "ecbcad399e8849c2a141ab257d7bf294": {
          "model_module": "@jupyter-widgets/base",
          "model_name": "LayoutModel",
          "state": {
            "_view_name": "LayoutView",
            "grid_template_rows": null,
            "right": null,
            "justify_content": null,
            "_view_module": "@jupyter-widgets/base",
            "overflow": null,
            "_model_module_version": "1.2.0",
            "_view_count": null,
            "flex_flow": null,
            "width": null,
            "min_width": null,
            "border": null,
            "align_items": null,
            "bottom": null,
            "_model_module": "@jupyter-widgets/base",
            "top": null,
            "grid_column": null,
            "overflow_y": null,
            "overflow_x": null,
            "grid_auto_flow": null,
            "grid_area": null,
            "grid_template_columns": null,
            "flex": null,
            "_model_name": "LayoutModel",
            "justify_items": null,
            "grid_row": null,
            "max_height": null,
            "align_content": null,
            "visibility": null,
            "align_self": null,
            "height": null,
            "min_height": null,
            "padding": null,
            "grid_auto_rows": null,
            "grid_gap": null,
            "max_width": null,
            "order": null,
            "_view_module_version": "1.2.0",
            "grid_template_areas": null,
            "object_position": null,
            "object_fit": null,
            "grid_auto_columns": null,
            "margin": null,
            "display": null,
            "left": null
          }
        },
        "fc844c7346c54a99b173e6276f549d3d": {
          "model_module": "@jupyter-widgets/controls",
          "model_name": "SliderStyleModel",
          "state": {
            "_view_name": "StyleView",
            "handle_color": null,
            "_model_name": "SliderStyleModel",
            "description_width": "",
            "_view_module": "@jupyter-widgets/base",
            "_model_module_version": "1.5.0",
            "_view_count": null,
            "_view_module_version": "1.2.0",
            "_model_module": "@jupyter-widgets/controls"
          }
        },
        "17ba60f5d5074e98847b6a265417267c": {
          "model_module": "@jupyter-widgets/base",
          "model_name": "LayoutModel",
          "state": {
            "_view_name": "LayoutView",
            "grid_template_rows": null,
            "right": null,
            "justify_content": null,
            "_view_module": "@jupyter-widgets/base",
            "overflow": null,
            "_model_module_version": "1.2.0",
            "_view_count": null,
            "flex_flow": null,
            "width": null,
            "min_width": null,
            "border": null,
            "align_items": null,
            "bottom": null,
            "_model_module": "@jupyter-widgets/base",
            "top": null,
            "grid_column": null,
            "overflow_y": null,
            "overflow_x": null,
            "grid_auto_flow": null,
            "grid_area": null,
            "grid_template_columns": null,
            "flex": null,
            "_model_name": "LayoutModel",
            "justify_items": null,
            "grid_row": null,
            "max_height": null,
            "align_content": null,
            "visibility": null,
            "align_self": null,
            "height": null,
            "min_height": null,
            "padding": null,
            "grid_auto_rows": null,
            "grid_gap": null,
            "max_width": null,
            "order": null,
            "_view_module_version": "1.2.0",
            "grid_template_areas": null,
            "object_position": null,
            "object_fit": null,
            "grid_auto_columns": null,
            "margin": null,
            "display": null,
            "left": null
          }
        },
        "c372db85960d44e39ef445da16645aaa": {
          "model_module": "@jupyter-widgets/controls",
          "model_name": "SliderStyleModel",
          "state": {
            "_view_name": "StyleView",
            "handle_color": null,
            "_model_name": "SliderStyleModel",
            "description_width": "",
            "_view_module": "@jupyter-widgets/base",
            "_model_module_version": "1.5.0",
            "_view_count": null,
            "_view_module_version": "1.2.0",
            "_model_module": "@jupyter-widgets/controls"
          }
        },
        "366b00195dbb4ca89f7ca8db28efa982": {
          "model_module": "@jupyter-widgets/base",
          "model_name": "LayoutModel",
          "state": {
            "_view_name": "LayoutView",
            "grid_template_rows": null,
            "right": null,
            "justify_content": null,
            "_view_module": "@jupyter-widgets/base",
            "overflow": null,
            "_model_module_version": "1.2.0",
            "_view_count": null,
            "flex_flow": null,
            "width": null,
            "min_width": null,
            "border": null,
            "align_items": null,
            "bottom": null,
            "_model_module": "@jupyter-widgets/base",
            "top": null,
            "grid_column": null,
            "overflow_y": null,
            "overflow_x": null,
            "grid_auto_flow": null,
            "grid_area": null,
            "grid_template_columns": null,
            "flex": null,
            "_model_name": "LayoutModel",
            "justify_items": null,
            "grid_row": null,
            "max_height": null,
            "align_content": null,
            "visibility": null,
            "align_self": null,
            "height": null,
            "min_height": null,
            "padding": null,
            "grid_auto_rows": null,
            "grid_gap": null,
            "max_width": null,
            "order": null,
            "_view_module_version": "1.2.0",
            "grid_template_areas": null,
            "object_position": null,
            "object_fit": null,
            "grid_auto_columns": null,
            "margin": null,
            "display": null,
            "left": null
          }
        },
        "6d575301aa7f43bca64dbdaa1af80278": {
          "model_module": "@jupyter-widgets/base",
          "model_name": "LayoutModel",
          "state": {
            "_view_name": "LayoutView",
            "grid_template_rows": null,
            "right": null,
            "justify_content": null,
            "_view_module": "@jupyter-widgets/base",
            "overflow": null,
            "_model_module_version": "1.2.0",
            "_view_count": null,
            "flex_flow": null,
            "width": null,
            "min_width": null,
            "border": null,
            "align_items": null,
            "bottom": null,
            "_model_module": "@jupyter-widgets/base",
            "top": null,
            "grid_column": null,
            "overflow_y": null,
            "overflow_x": null,
            "grid_auto_flow": null,
            "grid_area": null,
            "grid_template_columns": null,
            "flex": null,
            "_model_name": "LayoutModel",
            "justify_items": null,
            "grid_row": null,
            "max_height": null,
            "align_content": null,
            "visibility": null,
            "align_self": null,
            "height": null,
            "min_height": null,
            "padding": null,
            "grid_auto_rows": null,
            "grid_gap": null,
            "max_width": null,
            "order": null,
            "_view_module_version": "1.2.0",
            "grid_template_areas": null,
            "object_position": null,
            "object_fit": null,
            "grid_auto_columns": null,
            "margin": null,
            "display": null,
            "left": null
          }
        }
      }
    }
  },
  "cells": [
    {
      "cell_type": "markdown",
      "metadata": {
        "id": "9XF-TuNgXuA0"
      },
      "source": [
        "# Fourier methods for solvinge PDEs\r\n",
        "In the problem set you looked the diffusion advection equation and how this can be solved by Fourier methods. You solved this for an initial condition of a point source of dye.\r\n",
        "\r\n",
        "In the second part you looked at generalising this method and found that for a general initial condition the evolution can be expressed through convolutions. This workbook allows you to investigate some standard example numerically."
      ]
    },
    {
      "cell_type": "markdown",
      "metadata": {
        "id": "rsPKEaz7-ABt"
      },
      "source": [
        "## Initialisation code\r\n",
        "\r\n",
        "These few cells produce some functions for finding (to a good approximation) the various functions that we're interested in.  You don't need to understand the details of how any of this works, but feel free to ask.\r\n",
        "\r\n",
        "**You need to run all the cells in this section for anything to work.**"
      ]
    },
    {
      "cell_type": "code",
      "metadata": {
        "id": "f3fHrzs7-JGn"
      },
      "source": [
        "%matplotlib inline\r\n",
        "from matplotlib import pyplot\r\n",
        "import matplotlib\r\n",
        "import scipy.signal\r\n",
        "import numpy as np\r\n",
        "import ipywidgets"
      ],
      "execution_count": 1,
      "outputs": []
    },
    {
      "cell_type": "markdown",
      "metadata": {
        "id": "5Z3jdTNpEv2C"
      },
      "source": [
        "### Initial conditions"
      ]
    },
    {
      "cell_type": "code",
      "metadata": {
        "id": "ve5VqHWY_Ldp"
      },
      "source": [
        "def top_hat(x, width, amplitude = 1, centre = 0):\r\n",
        "  r\"\"\"\r\n",
        "    Generate a top hat function \r\n",
        "    \"\"\"\r\n",
        "  th = np.zeros(x.shape)\r\n",
        "  th[(x >= centre - width/2) & (x < centre + width/2)] = amplitude\r\n",
        "  return th\r\n",
        "\r\n",
        "def top_hat2D(x, y, width_x, width_y, centre = 0, amplitude = 1):\r\n",
        "  return top_hat(x, width_x, amplitude, centre) * top_hat(y, width_y, amplitude, centre)\r\n",
        "\r\n",
        "def approximateDiracDelta(x, amplitude = 1, centre = 0):\r\n",
        "  r\"\"\"\r\n",
        "    Generate a narrow top hat to approximate a delta\r\n",
        "    \"\"\"\r\n",
        "  return top_hat(x, 1, amplitude, centre)\r\n",
        "\r\n",
        "def approximateDiracDelta2D(x, y, amplitude = 1, centre = 0):\r\n",
        "  r\"\"\"\r\n",
        "    Generate a narrow top hat to approximate a delta\r\n",
        "    \"\"\"\r\n",
        "  return top_hat2D(x, y, 1, 1, centre, amplitude)\r\n",
        "\r\n",
        "def gauss_function(x, a, x0, sigma):\r\n",
        "  r\"\"\"\r\n",
        "    Generate a narrow top hat to approximate a delta\r\n",
        "    \"\"\"\r\n",
        "  return a / (np.sqrt(2 * np.pi) * sigma) * np.exp(-(x-x0)**2/(2*sigma**2))\r\n",
        "\r\n",
        "def gauss_function2D(x,y,a,x0,y0,sigma_x, sigma_y):\r\n",
        "  z = (1/(2*np.pi*sigma_x*sigma_y) * np.exp(-((x-x0)**2/(2*sigma_x**2)\r\n",
        "     + (y-y0)**2/(2*sigma_y**2))))\r\n",
        "  return z\r\n"
      ],
      "execution_count": 2,
      "outputs": []
    },
    {
      "cell_type": "markdown",
      "metadata": {
        "id": "5MHMIM4oE2kO"
      },
      "source": [
        "### Diffusion equations"
      ]
    },
    {
      "cell_type": "code",
      "metadata": {
        "id": "mlo2LJ2UAOiN"
      },
      "source": [
        "def diffusion1D(x, D, t = 0, x0 = 0, a = 1):\r\n",
        "  r'''\r\n",
        "  returns a Gaussian this is to be convolved with the initial condition\r\n",
        "  '''\r\n",
        "  #if t == 0: # treat time point one as a delta\r\n",
        "  #  g = approximateDiracDelta(x)\r\n",
        "  #else:\r\n",
        "  sigma = np.sqrt(2 * D * t)\r\n",
        "  g = gauss_function(x, a, x0, sigma)\r\n",
        "  return g\r\n",
        "\r\n",
        "def diffusion2D(x, y, Dx, Dy, t = 0, x0 = 0, y0= 0, a = 1):\r\n",
        "  r'''\r\n",
        "  returns a Gaussian this is to be convolved with the initial condition\r\n",
        "  '''\r\n",
        "  #if t == 0: # treat time point one as a delta\r\n",
        "  #  g = approximateDiracDelta2D(x, y, amplitude = 1, centre = 0)\r\n",
        "  #else:\r\n",
        "  sigma_x = np.sqrt(2 * Dx * t)\r\n",
        "  sigma_y = np.sqrt(2 * Dy * t)\r\n",
        "  g = gauss_function2D(x,y,a,x0,y0,sigma_x, sigma_y)\r\n",
        "  return g\r\n",
        "\r\n",
        "def getDiffusionAsFunctionOfTime(xs, ts, n0, g, D, c = 0):\r\n",
        "  gs = g(xs, D, ts, x0 = c * ts, a = 1)\r\n",
        "  diffusion = np.apply_along_axis(lambda m: np.convolve(m, n0, mode='same'), axis=1, arr=gs)\r\n",
        "  return diffusion\r\n",
        "\r\n"
      ],
      "execution_count": 3,
      "outputs": []
    },
    {
      "cell_type": "code",
      "metadata": {
        "id": "DEn-iwyIASXx"
      },
      "source": [
        "def diffusionplot(xs, n0, g, t, D = 10, x0 = 0):\r\n",
        "    r\"\"\"\r\n",
        "    Plot a function ``f`` and its Legendre-, Taylor- and Fourier-series\r\n",
        "    approximations of the given order on the interval ..math:`[-1, 1)`.\r\n",
        "    \"\"\"\r\n",
        "    cm = matplotlib.cm.viridis\r\n",
        "    _, axes = pyplot.subplots()\r\n",
        "    gs = g(xs, D, t, x0 = x0)  # np.array([for x in xs])\r\n",
        "    diffusion = np.convolve(gs, n0, mode = 'same')\r\n",
        "    axes.plot(xs, diffusion, label=\"n(x,t)\", linewidth=2)\r\n",
        "    axes.plot(xs, gs, label=\"g(x,t)\", linewidth=2, dashes=(5, 5))\r\n",
        "    axes.plot(xs, n0, label=\"n_0(x)\", linewidth=2, dashes=(5, 5))\r\n",
        "    axes.set_xlim((xs[0] - 0.03*(xs[-1]-xs[0]), xs[-1] + 0.03*(xs[-1]-xs[0])))\r\n",
        "    axes.set_xlabel('x')\r\n",
        "    axes.set_ylabel('n(x,t)')\r\n",
        "    mn, mx = np.min(n0), np.max(n0)\r\n",
        "    axes.legend()\r\n",
        "\r\n",
        "def diffusionplot2D(xs, ys, n0, g, t, Dx = 10, Dy = 1, x0 = 0, y0= 0):\r\n",
        "  r\"\"\"\r\n",
        "  Plot a function ``f`` and its Legendre-, Taylor- and Fourier-series\r\n",
        "  approximations of the given order on the interval ..math:`[-1, 1)`.\r\n",
        "  \"\"\"\r\n",
        "  cm = matplotlib.cm.viridis\r\n",
        "  _, axes = pyplot.subplots(figsize = [10,10])\r\n",
        "  gs = g(xs, ys, Dx, Dy, t, x0 = x0, y0= y0)  # np.array([for x in xs])\r\n",
        "  diffusion = scipy.signal.convolve2d(gs, n0, mode = 'same')\r\n",
        "  axes.contourf(xs, ys, diffusion, cmap='Blues')\r\n",
        "  axes.set_xlabel('x')\r\n",
        "  axes.set_ylabel('y')\r\n",
        "\r\n",
        "def diffusionPlotTime(x,xs,ts,diffusion):\r\n",
        "  _, axes = pyplot.subplots()\r\n",
        "  axes.plot(ts[xs==x], diffusion[xs==x])\r\n",
        "  mn, mx = np.min(diffusion), np.max(diffusion)\r\n",
        "  axes.set_ylim((mn - 0.1*(mx-mn), mx + 0.1*(mx-mn)))\r\n",
        "  axes.set_xlabel('t')\r\n",
        "  axes.set_ylabel('n(x,t)')\r\n",
        "\r\n",
        "def diffusionPlotX(t,xs,ts,diffusion):\r\n",
        "  _, axes = pyplot.subplots()\r\n",
        "  axes.plot(xs[ts==t], diffusion[ts==t])\r\n",
        "  mn, mx = np.min(diffusion), np.max(diffusion)\r\n",
        "  axes.set_ylim((mn - 0.1*(mx-mn), mx + 0.1*(mx-mn)))\r\n",
        "  axes.set_xlabel('x')\r\n",
        "  axes.set_ylabel('n(x,t)')"
      ],
      "execution_count": 23,
      "outputs": []
    },
    {
      "cell_type": "markdown",
      "metadata": {
        "id": "-64GW_vIfJRE"
      },
      "source": [
        "# Investigating diffusion with different initial conditions"
      ]
    },
    {
      "cell_type": "markdown",
      "metadata": {
        "id": "SUEMqd35fPHD"
      },
      "source": [
        "## Infinitely small point (delta function)"
      ]
    },
    {
      "cell_type": "code",
      "metadata": {
        "colab": {
          "base_uri": "https://localhost:8080/",
          "height": 311,
          "referenced_widgets": [
            "5eef73606eb142e080aaef4323cd4d3a",
            "0a386ac85fd946e1a60aa70146056259",
            "d7160868e78d4dba9bca74530bbba566",
            "b14c3cf3d71b4449a40822411d7b89c5",
            "7581b354638c4bac885c31304a84d449",
            "b0582ae134154980bc7bba36a5f235a7",
            "bc7e09decfaf4f13864ed01ed4995f61"
          ]
        },
        "id": "trEbNmCDQU1t",
        "outputId": "57ae3a7d-8cc9-43fd-902e-c98bacdabddb"
      },
      "source": [
        "x = np.linspace(-30, 30, 101)\r\n",
        "\r\n",
        "ipywidgets.interact(\r\n",
        "    lambda t: diffusionplot(x, approximateDiracDelta(x), diffusion1D, t, D = 0.1, x0 = 0),\r\n",
        "    t=ipywidgets.IntSlider(min=1, max=50, step=1, value=0),\r\n",
        ");"
      ],
      "execution_count": 5,
      "outputs": [
        {
          "output_type": "display_data",
          "data": {
            "application/vnd.jupyter.widget-view+json": {
              "model_id": "5eef73606eb142e080aaef4323cd4d3a",
              "version_minor": 0,
              "version_major": 2
            },
            "text/plain": [
              "interactive(children=(IntSlider(value=1, description='t', max=50, min=1), Output()), _dom_classes=('widget-int…"
            ]
          },
          "metadata": {
            "tags": []
          }
        }
      ]
    },
    {
      "cell_type": "markdown",
      "metadata": {
        "id": "s1H5Ns-6faRe"
      },
      "source": [
        "## Top hat function"
      ]
    },
    {
      "cell_type": "code",
      "metadata": {
        "colab": {
          "base_uri": "https://localhost:8080/",
          "height": 311,
          "referenced_widgets": [
            "916602e31852478ea9db3a49df878fe2",
            "08e2196c5d6f4b38bd4a18dad3cf4e48",
            "1fd1050a5af843ee965a350456f33ce4",
            "48756a7ff0ec4ca695548e74a7474439",
            "3abd30164e874020a9600c1f44978f0e",
            "89c9ce2932f64480ab7c7a96d198eb1c",
            "92e7b72409824dfcbffaccd09a5c27de"
          ]
        },
        "id": "G2iyPAuPJW4j",
        "outputId": "2473d3e5-c272-4ae3-e140-f502dfdf31f4"
      },
      "source": [
        "x = np.linspace(-50, 50, 101)\r\n",
        "\r\n",
        "ipywidgets.interact(\r\n",
        "    lambda t: diffusionplot(x, top_hat(x, 10, 1), diffusion1D, t, D = 0.1),\r\n",
        "    t=ipywidgets.IntSlider(min=1, max=50, step=1, value=0),\r\n",
        ");"
      ],
      "execution_count": 6,
      "outputs": [
        {
          "output_type": "display_data",
          "data": {
            "application/vnd.jupyter.widget-view+json": {
              "model_id": "916602e31852478ea9db3a49df878fe2",
              "version_minor": 0,
              "version_major": 2
            },
            "text/plain": [
              "interactive(children=(IntSlider(value=1, description='t', max=50, min=1), Output()), _dom_classes=('widget-int…"
            ]
          },
          "metadata": {
            "tags": []
          }
        }
      ]
    },
    {
      "cell_type": "markdown",
      "metadata": {
        "id": "wZxCKK1-ffkj"
      },
      "source": [
        "## Two points next to one another"
      ]
    },
    {
      "cell_type": "code",
      "metadata": {
        "colab": {
          "base_uri": "https://localhost:8080/",
          "height": 904,
          "referenced_widgets": [
            "4af42011d6664878a2fbc813aec8614f",
            "ef5dd1fc053a43cabc338042f2cb3f61",
            "08ef418e6c6d4f079c442d57b68edd49",
            "62ea0a777d4e4888b41256e344edab44",
            "e06026631d124628900a19ec4fb63724",
            "a516ec46003c4a88ad122c3ef4cc1dc3",
            "8633465e534f44dc8f036c888598e087"
          ]
        },
        "id": "Pz_EzazIQVh1",
        "outputId": "64cd81ce-21b4-4a4c-f832-4b2343e330a6"
      },
      "source": [
        "#x = np.linspace(-30, 30, 101)\r\n",
        "\r\n",
        "#ipywidgets.interact(\r\n",
        "#    lambda t: diffusionplot(x, approximateDiracDelta(x, centre = -5) + approximateDiracDelta(x, centre = 5, amplitude = 1), diffusion1D, t, D = 0.2),\r\n",
        "#    t=ipywidgets.IntSlider(min=1, max=50, step=1, value=0),\r\n",
        "#);\r\n",
        "\r\n",
        "width = 10\r\n",
        "size = 300\r\n",
        "D = 0.5\r\n",
        "c = 0.5\r\n",
        "\r\n",
        "xs = np.arange(-100, 100)\r\n",
        "n0 = approximateDiracDelta(x, centre = -5) + approximateDiracDelta(x, centre = 5, amplitude = 1)\r\n",
        "ts = np.arange(1, 201)\r\n",
        "xs, ts = np.meshgrid(xs, ts)\r\n",
        "diffusionTH = getDiffusionAsFunctionOfTime(xs, ts, n0, diffusion1D, D, c)\r\n",
        "\r\n",
        "\r\n",
        "_, axes = pyplot.subplots(figsize = [10,10])\r\n",
        "axes.contourf(xs, ts, diffusionTH, cmap='Blues')\r\n",
        "axes.set_xlabel('x')\r\n",
        "axes.set_ylabel('t')\r\n",
        "\r\n",
        "ipywidgets.interact(\r\n",
        "    lambda t: diffusionPlotX(t,xs,ts,diffusionTH),\r\n",
        "    t=(np.min(ts), np.max(ts), 1),\r\n",
        ");"
      ],
      "execution_count": 24,
      "outputs": [
        {
          "output_type": "display_data",
          "data": {
            "image/png": "[encoded data removed]",
            "text/plain": [
              "<Figure size 720x720 with 1 Axes>"
            ]
          },
          "metadata": {
            "tags": [],
            "needs_background": "light"
          }
        },
        {
          "output_type": "display_data",
          "data": {
            "application/vnd.jupyter.widget-view+json": {
              "model_id": "4af42011d6664878a2fbc813aec8614f",
              "version_minor": 0,
              "version_major": 2
            },
            "text/plain": [
              "interactive(children=(IntSlider(value=100, description='t', max=200, min=1), Output()), _dom_classes=('widget-…"
            ]
          },
          "metadata": {
            "tags": []
          }
        }
      ]
    },
    {
      "cell_type": "markdown",
      "metadata": {
        "id": "QNKQPjWYNRkL"
      },
      "source": [
        "# Diffusion advection\r\n",
        "The above methods can be applied in the diffusion advection problem from the problem sheet. Below are examples of n(x,t)  "
      ]
    },
    {
      "cell_type": "markdown",
      "metadata": {
        "id": "6WtUVTETDGTm"
      },
      "source": [
        "## Spatial profile at different times\r\n",
        "### Diffusion from a point"
      ]
    },
    {
      "cell_type": "code",
      "metadata": {
        "colab": {
          "base_uri": "https://localhost:8080/",
          "height": 311,
          "referenced_widgets": [
            "6ad3e15cce8a4aba91f31d3ba7ed8550",
            "18d1e628316042659a39d32fd13f2721",
            "3a531d6a73db4f7684ab396bb13e164f",
            "e3eeb0bf5b84487c9e59546197e8dc8f",
            "b47f81c6b34547c99a1dc656d024b99a",
            "fe547181aaa1474ab2a3562417e39b12",
            "2092bc468ad341f3bc67a0af36e1b4d5"
          ]
        },
        "id": "ykB8Iy9HN5gg",
        "outputId": "68eb8a40-61b9-4490-cefb-468251826ef6"
      },
      "source": [
        "xtime = np.linspace(-30, 30, 101)\r\n",
        "c = 0.2\r\n",
        "\r\n",
        "ipywidgets.interact(\r\n",
        "    lambda t: diffusionplot(xtime, approximateDiracDelta(xtime), diffusion1D, t, D = 0.1, x0 = c * t),\r\n",
        "    t=ipywidgets.IntSlider(min=1, max=50, step=1, value=0),\r\n",
        ");"
      ],
      "execution_count": 8,
      "outputs": [
        {
          "output_type": "display_data",
          "data": {
            "application/vnd.jupyter.widget-view+json": {
              "model_id": "6ad3e15cce8a4aba91f31d3ba7ed8550",
              "version_minor": 0,
              "version_major": 2
            },
            "text/plain": [
              "interactive(children=(IntSlider(value=1, description='t', max=50, min=1), Output()), _dom_classes=('widget-int…"
            ]
          },
          "metadata": {
            "tags": []
          }
        }
      ]
    },
    {
      "cell_type": "markdown",
      "metadata": {
        "id": "W9Fi5v6aMljE"
      },
      "source": [
        "# Other examples (not covered in the problem sheet)"
      ]
    },
    {
      "cell_type": "markdown",
      "metadata": {
        "id": "guBr7xxyDXhe"
      },
      "source": [
        "## Temporal profile at different positions\r\n",
        "In some cases it is more interesting to consider the diffusion through a particular point as a function of time. Below are some visualisations related to this.\r\n",
        "### Diffusion from a point"
      ]
    },
    {
      "cell_type": "code",
      "metadata": {
        "colab": {
          "base_uri": "https://localhost:8080/",
          "height": 311,
          "referenced_widgets": [
            "512a1fe0a75a4cb0b6fd8ae2f209266f",
            "09a58dcaa1a64d889c0ac694576b6196",
            "edab9ca4b3a84a8b82967d3b3405acd9",
            "6a9dd66abd6847c2a11f5d69f0e936bd",
            "f771252c4bd6419c88300ea277a531f2",
            "b1440c26b05c418eb16af75dbc81051d",
            "6b4c23a3ec33442fa233a5ba22cb8e39"
          ]
        },
        "id": "6--mHWIODiEi",
        "outputId": "e83fed10-1788-465e-a12e-6b31f6ff08b8"
      },
      "source": [
        "width = 10\r\n",
        "size = 300\r\n",
        "D = 1\r\n",
        "c = 0.5\r\n",
        "\r\n",
        "xs = np.arange(-100, 100)\r\n",
        "n0 = approximateDiracDelta(xs)\r\n",
        "ts = np.arange(1, 201)\r\n",
        "xs, ts = np.meshgrid(xs, ts)\r\n",
        "diffusionDD = getDiffusionAsFunctionOfTime(xs, ts, n0, diffusion1D, D, c)\r\n",
        "\r\n",
        "\r\n",
        "ipywidgets.interact(\r\n",
        "    lambda x: diffusionPlotTime(x,xs,ts,diffusionDD),\r\n",
        "    x=(np.min(xs), np.max(xs), 1),\r\n",
        ");"
      ],
      "execution_count": 9,
      "outputs": [
        {
          "output_type": "display_data",
          "data": {
            "application/vnd.jupyter.widget-view+json": {
              "model_id": "512a1fe0a75a4cb0b6fd8ae2f209266f",
              "version_minor": 0,
              "version_major": 2
            },
            "text/plain": [
              "interactive(children=(IntSlider(value=-1, description='x', max=99, min=-100), Output()), _dom_classes=('widget…"
            ]
          },
          "metadata": {
            "tags": []
          }
        }
      ]
    },
    {
      "cell_type": "markdown",
      "metadata": {
        "id": "L9YjPRwADiT3"
      },
      "source": [
        "### Diffusion from neighbouring top hats"
      ]
    },
    {
      "cell_type": "code",
      "metadata": {
        "id": "VrNxxUpxdk5-",
        "colab": {
          "base_uri": "https://localhost:8080/",
          "height": 627
        },
        "outputId": "ebc86af6-5a6b-409f-dc26-bf5bbb9d6573"
      },
      "source": [
        "width = 10\r\n",
        "size = 300\r\n",
        "D = 0.5\r\n",
        "c = 0.5\r\n",
        "\r\n",
        "xs = np.arange(-100, 100)\r\n",
        "n0 = top_hat(xs, width, amplitude = 1, centre = -10) +  top_hat(xs, width, amplitude = 1, centre = +10)\r\n",
        "ts = np.arange(1, 201)\r\n",
        "xs, ts = np.meshgrid(xs, ts)\r\n",
        "diffusionTH = getDiffusionAsFunctionOfTime(xs, ts, n0, diffusion1D, D, c)\r\n",
        "\r\n",
        "\r\n",
        "_, axes = pyplot.subplots(figsize = [10,10])\r\n",
        "axes.contourf(xs, ts, diffusionTH, cmap='Blues')\r\n",
        "axes.set_xlabel('x')\r\n",
        "axes.set_ylabel('t')\r\n"
      ],
      "execution_count": 17,
      "outputs": [
        {
          "output_type": "execute_result",
          "data": {
            "text/plain": [
              "Text(0, 0.5, 't')"
            ]
          },
          "metadata": {
            "tags": []
          },
          "execution_count": 17
        },
        {
          "output_type": "display_data",
          "data": {
            "image/png": "[encoded data removed]",
            "text/plain": [
              "<Figure size 720x720 with 1 Axes>"
            ]
          },
          "metadata": {
            "tags": [],
            "needs_background": "light"
          }
        }
      ]
    },
    {
      "cell_type": "code",
      "metadata": {
        "id": "BOywoPjwnxbx",
        "colab": {
          "base_uri": "https://localhost:8080/",
          "height": 311,
          "referenced_widgets": [
            "b56914313256414a9227c955a8a329a3",
            "67ff4edca59a4ac295bdb1b5df46f682",
            "afbeadffb1374974804ba841009334c5",
            "95241876adef4fc8b3b9267fbe93b052",
            "e38771a93bbf4c9ba52ea29f851c07c0",
            "3956889865544e59a3b294866535475f",
            "42380735e2c642b48bdf5c0d1f4bebb5"
          ]
        },
        "outputId": "6aa4d1d0-c067-407e-9814-faa539bb3293"
      },
      "source": [
        "ipywidgets.interact(\r\n",
        "    lambda x: diffusionPlotTime(x,xs,ts,diffusionTH),\r\n",
        "    x=(np.min(xs), np.max(xs), 1),\r\n",
        ");"
      ],
      "execution_count": 16,
      "outputs": [
        {
          "output_type": "display_data",
          "data": {
            "application/vnd.jupyter.widget-view+json": {
              "model_id": "b56914313256414a9227c955a8a329a3",
              "version_minor": 0,
              "version_major": 2
            },
            "text/plain": [
              "interactive(children=(IntSlider(value=-1, description='x', max=99, min=-100), Output()), _dom_classes=('widget…"
            ]
          },
          "metadata": {
            "tags": []
          }
        }
      ]
    },
    {
      "cell_type": "markdown",
      "metadata": {
        "id": "1amlMrECuB83"
      },
      "source": [
        "# Diffusion in 2D with different coefficients\r\n",
        "All of the examples covered in this problem sheet have been in 1D."
      ]
    },
    {
      "cell_type": "code",
      "metadata": {
        "colab": {
          "base_uri": "https://localhost:8080/",
          "height": 702,
          "referenced_widgets": [
            "9e837c6310764022856b123ceec7dc9a",
            "293568deb16c4c7badddc4041864be32",
            "34d315a43fdc45f488087888c6a53aac",
            "905effbb33dd401badb2fd90a9d3b7d3",
            "a7816293d08e4cc881acc330d8b71b11",
            "789a7c525bfb468a8f8b369a44a05093",
            "62bb721bf6984ab7a97d9bf6720d1e5b",
            "36f542dc7c644b0ea2f6f04b3fdb1aab",
            "2efe822073bf4291b99deeb1f33b4278",
            "8d3eabe1cb6045619019232ce4ab9eac",
            "f01a0c4230a44743978c90791903bf09",
            "e00a428807cb4fcb98dccc1cafcfcc67",
            "358c7f99f5fb475ba9d220570bf2a1b8"
          ]
        },
        "id": "OOYEtjt9oeQH",
        "outputId": "92616690-9149-4fcb-fcb6-af793784705b"
      },
      "source": [
        "size = 101\r\n",
        "x2D = np.linspace(-50, 50, size)\r\n",
        "y2D = np.linspace(-50, 50, size)\r\n",
        "x2D, y2D = np.meshgrid(x2D, y2D)\r\n",
        "\r\n",
        "width_x = 10\r\n",
        "width_y = 1\r\n",
        "\r\n",
        "D_x = 2\r\n",
        "D_y = 5\r\n",
        "\r\n",
        "ipywidgets.interact(\r\n",
        "    lambda t, D_x, D_y: diffusionplot2D(x2D,y2D, top_hat2D(x2D, y2D, width_x, width_y), diffusion2D, t, D_x, D_y),\r\n",
        "    t=ipywidgets.IntSlider(min=1, max=50, step=1, value=0),\r\n",
        "    D_x=(0.1, 5, 0.1),\r\n",
        "    D_y=(0.1, 5, 0.1),\r\n",
        ");"
      ],
      "execution_count": 12,
      "outputs": [
        {
          "output_type": "display_data",
          "data": {
            "application/vnd.jupyter.widget-view+json": {
              "model_id": "9e837c6310764022856b123ceec7dc9a",
              "version_minor": 0,
              "version_major": 2
            },
            "text/plain": [
              "interactive(children=(IntSlider(value=1, description='t', max=50, min=1), FloatSlider(value=2.5000000000000004…"
            ]
          },
          "metadata": {
            "tags": []
          }
        }
      ]
    },
    {
      "cell_type": "code",
      "metadata": {
        "id": "xgrvN5QH-WEC",
        "outputId": "554a633e-3067-4ccc-e4f2-38559509a108",
        "colab": {
          "base_uri": "https://localhost:8080/",
          "height": 702,
          "referenced_widgets": [
            "e5ead784d5cb4b758f9dbd0ff6f059ba",
            "f784397d8fa04ad8b84e5baada378f6f",
            "66caca4f0cf94390a08f2d0f8f336891",
            "e283683a1c944deda8fc474ad659cd0d",
            "6f2021e46b934a6992677d0bdc7564de",
            "d4ae480023e842d0a1f6e5bca8c61b8e",
            "eda4c4079cae4302ab16f77976e22926",
            "ecbcad399e8849c2a141ab257d7bf294",
            "fc844c7346c54a99b173e6276f549d3d",
            "17ba60f5d5074e98847b6a265417267c",
            "c372db85960d44e39ef445da16645aaa",
            "366b00195dbb4ca89f7ca8db28efa982",
            "6d575301aa7f43bca64dbdaa1af80278"
          ]
        }
      },
      "source": [
        "import numpy as np\r\n",
        "from skimage import io\r\n",
        "\r\n",
        "snowflake = io.imread('https://github.com/ncurry208/2020_21_DEEMseminars/blob/master/snowflakeMask.tif?raw=true')\r\n",
        "xsnowflake = np.arange(snowflake.shape[0])\r\n",
        "ysnowflake = np.arange(snowflake.shape[1])\r\n",
        "xsnowflake, ysnowflake = np.meshgrid(xsnowflake, ysnowflake)\r\n",
        "\r\n",
        "ipywidgets.interact(\r\n",
        "    lambda t, D_x, D_y: diffusionplot2D(xsnowflake,ysnowflake, snowflake, diffusion2D, t, D_x, D_y, x0 = snowflake.shape[0]/2, y0 = snowflake.shape[1]/2),\r\n",
        "    t=ipywidgets.IntSlider(min=1, max=50, step=1, value=0),\r\n",
        "    D_x=(0.01, 0.5, 0.01),\r\n",
        "    D_y=(0.01, 0.5, 0.01),\r\n",
        ");"
      ],
      "execution_count": 14,
      "outputs": [
        {
          "output_type": "display_data",
          "data": {
            "application/vnd.jupyter.widget-view+json": {
              "model_id": "e5ead784d5cb4b758f9dbd0ff6f059ba",
              "version_minor": 0,
              "version_major": 2
            },
            "text/plain": [
              "interactive(children=(IntSlider(value=1, description='t', max=50, min=1), FloatSlider(value=0.25, description=…"
            ]
          },
          "metadata": {
            "tags": []
          }
        }
      ]
    },
    {
      "cell_type": "code",
      "metadata": {
        "id": "45tN4WembHmw"
      },
      "source": [
        ""
      ],
      "execution_count": 13,
      "outputs": []
    }
  ]
}