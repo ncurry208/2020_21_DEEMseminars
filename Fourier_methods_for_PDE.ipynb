{
  "nbformat": 4,
  "nbformat_minor": 0,
  "metadata": {
    "colab": {
      "name": "Fourier methods for PDE.ipynb",
      "provenance": [],
      "collapsed_sections": []
    },
    "kernelspec": {
      "name": "python3",
      "display_name": "Python 3"
    },
    "widgets": {
      "application/vnd.jupyter.widget-state+json": {
        "de8ba534d24744ceb217378f8d25ccd0": {
          "model_module": "@jupyter-widgets/controls",
          "model_name": "VBoxModel",
          "state": {
            "_view_name": "VBoxView",
            "_dom_classes": [
              "widget-interact"
            ],
            "_model_name": "VBoxModel",
            "_view_module": "@jupyter-widgets/controls",
            "_model_module_version": "1.5.0",
            "_view_count": null,
            "_view_module_version": "1.5.0",
            "box_style": "",
            "layout": "IPY_MODEL_17951e5ad7224f43ad3d068e7968b376",
            "_model_module": "@jupyter-widgets/controls",
            "children": [
              "IPY_MODEL_27f79d70944a4e9999180b8c6b8a026e",
              "IPY_MODEL_c0148ab96f2f46028f1ee1ee2b1dcc43"
            ]
          }
        },
        "17951e5ad7224f43ad3d068e7968b376": {
          "model_module": "@jupyter-widgets/base",
          "model_name": "LayoutModel",
          "state": {
            "_view_name": "LayoutView",
            "grid_template_rows": null,
            "right": null,
            "justify_content": null,
            "_view_module": "@jupyter-widgets/base",
            "overflow": null,
            "_model_module_version": "1.2.0",
            "_view_count": null,
            "flex_flow": null,
            "width": null,
            "min_width": null,
            "border": null,
            "align_items": null,
            "bottom": null,
            "_model_module": "@jupyter-widgets/base",
            "top": null,
            "grid_column": null,
            "overflow_y": null,
            "overflow_x": null,
            "grid_auto_flow": null,
            "grid_area": null,
            "grid_template_columns": null,
            "flex": null,
            "_model_name": "LayoutModel",
            "justify_items": null,
            "grid_row": null,
            "max_height": null,
            "align_content": null,
            "visibility": null,
            "align_self": null,
            "height": null,
            "min_height": null,
            "padding": null,
            "grid_auto_rows": null,
            "grid_gap": null,
            "max_width": null,
            "order": null,
            "_view_module_version": "1.2.0",
            "grid_template_areas": null,
            "object_position": null,
            "object_fit": null,
            "grid_auto_columns": null,
            "margin": null,
            "display": null,
            "left": null
          }
        },
        "27f79d70944a4e9999180b8c6b8a026e": {
          "model_module": "@jupyter-widgets/controls",
          "model_name": "IntSliderModel",
          "state": {
            "_view_name": "IntSliderView",
            "style": "IPY_MODEL_4df9f2b8ce094639b4354503b0a2ff9d",
            "_dom_classes": [],
            "description": "t",
            "step": 1,
            "_model_name": "IntSliderModel",
            "orientation": "horizontal",
            "max": 50,
            "_view_module": "@jupyter-widgets/controls",
            "_model_module_version": "1.5.0",
            "value": 29,
            "_view_count": null,
            "disabled": false,
            "_view_module_version": "1.5.0",
            "min": 1,
            "continuous_update": true,
            "readout_format": "d",
            "description_tooltip": null,
            "readout": true,
            "_model_module": "@jupyter-widgets/controls",
            "layout": "IPY_MODEL_f322ffbef8934d25a50529cd6d55f80e"
          }
        },
        "c0148ab96f2f46028f1ee1ee2b1dcc43": {
          "model_module": "@jupyter-widgets/output",
          "model_name": "OutputModel",
          "state": {
            "_view_name": "OutputView",
            "msg_id": "",
            "_dom_classes": [],
            "_model_name": "OutputModel",
            "outputs": [
              {
                "output_type": "pyerr",
                "metadata": {
                  "tags": []
                },
                "ename": "ValueError",
                "evalue": "ignored",
                "traceback": [
                  "\u001b[0;31m---------------------------------------------------------------------------\u001b[0m",
                  "\u001b[0;31mValueError\u001b[0m                                Traceback (most recent call last)",
                  "\u001b[0;32m/usr/local/lib/python3.6/dist-packages/ipywidgets/widgets/interaction.py\u001b[0m in \u001b[0;36mupdate\u001b[0;34m(self, *args)\u001b[0m\n\u001b[1;32m    254\u001b[0m                     \u001b[0mvalue\u001b[0m \u001b[0;34m=\u001b[0m \u001b[0mwidget\u001b[0m\u001b[0;34m.\u001b[0m\u001b[0mget_interact_value\u001b[0m\u001b[0;34m(\u001b[0m\u001b[0;34m)\u001b[0m\u001b[0;34m\u001b[0m\u001b[0;34m\u001b[0m\u001b[0m\n\u001b[1;32m    255\u001b[0m                     \u001b[0mself\u001b[0m\u001b[0;34m.\u001b[0m\u001b[0mkwargs\u001b[0m\u001b[0;34m[\u001b[0m\u001b[0mwidget\u001b[0m\u001b[0;34m.\u001b[0m\u001b[0m_kwarg\u001b[0m\u001b[0;34m]\u001b[0m \u001b[0;34m=\u001b[0m \u001b[0mvalue\u001b[0m\u001b[0;34m\u001b[0m\u001b[0;34m\u001b[0m\u001b[0m\n\u001b[0;32m--> 256\u001b[0;31m                 \u001b[0mself\u001b[0m\u001b[0;34m.\u001b[0m\u001b[0mresult\u001b[0m \u001b[0;34m=\u001b[0m \u001b[0mself\u001b[0m\u001b[0;34m.\u001b[0m\u001b[0mf\u001b[0m\u001b[0;34m(\u001b[0m\u001b[0;34m**\u001b[0m\u001b[0mself\u001b[0m\u001b[0;34m.\u001b[0m\u001b[0mkwargs\u001b[0m\u001b[0;34m)\u001b[0m\u001b[0;34m\u001b[0m\u001b[0;34m\u001b[0m\u001b[0m\n\u001b[0m\u001b[1;32m    257\u001b[0m                 \u001b[0mshow_inline_matplotlib_plots\u001b[0m\u001b[0;34m(\u001b[0m\u001b[0;34m)\u001b[0m\u001b[0;34m\u001b[0m\u001b[0;34m\u001b[0m\u001b[0m\n\u001b[1;32m    258\u001b[0m                 \u001b[0;32mif\u001b[0m \u001b[0mself\u001b[0m\u001b[0;34m.\u001b[0m\u001b[0mauto_display\u001b[0m \u001b[0;32mand\u001b[0m \u001b[0mself\u001b[0m\u001b[0;34m.\u001b[0m\u001b[0mresult\u001b[0m \u001b[0;32mis\u001b[0m \u001b[0;32mnot\u001b[0m \u001b[0;32mNone\u001b[0m\u001b[0;34m:\u001b[0m\u001b[0;34m\u001b[0m\u001b[0;34m\u001b[0m\u001b[0m\n",
                  "\u001b[0;32m<ipython-input-5-a5a67eb642e5>\u001b[0m in \u001b[0;36m<lambda>\u001b[0;34m(t)\u001b[0m\n\u001b[1;32m      2\u001b[0m \u001b[0;34m\u001b[0m\u001b[0m\n\u001b[1;32m      3\u001b[0m ipywidgets.interact(\n\u001b[0;32m----> 4\u001b[0;31m     \u001b[0;32mlambda\u001b[0m \u001b[0mt\u001b[0m\u001b[0;34m:\u001b[0m \u001b[0mdiffusionplot\u001b[0m\u001b[0;34m(\u001b[0m\u001b[0mxs\u001b[0m\u001b[0;34m,\u001b[0m \u001b[0mapproximateDiracDelta\u001b[0m\u001b[0;34m(\u001b[0m\u001b[0mxs\u001b[0m\u001b[0;34m)\u001b[0m\u001b[0;34m,\u001b[0m \u001b[0mdiffusion1D\u001b[0m\u001b[0;34m,\u001b[0m \u001b[0mt\u001b[0m\u001b[0;34m,\u001b[0m \u001b[0mD\u001b[0m \u001b[0;34m=\u001b[0m \u001b[0;36m0.1\u001b[0m\u001b[0;34m,\u001b[0m \u001b[0mx0\u001b[0m \u001b[0;34m=\u001b[0m \u001b[0;36m0\u001b[0m\u001b[0;34m)\u001b[0m\u001b[0;34m,\u001b[0m\u001b[0;34m\u001b[0m\u001b[0;34m\u001b[0m\u001b[0m\n\u001b[0m\u001b[1;32m      5\u001b[0m     \u001b[0mt\u001b[0m\u001b[0;34m=\u001b[0m\u001b[0;34m(\u001b[0m\u001b[0;36m1\u001b[0m\u001b[0;34m,\u001b[0m \u001b[0;36m50\u001b[0m\u001b[0;34m,\u001b[0m \u001b[0;36m1\u001b[0m\u001b[0;34m)\u001b[0m\u001b[0;34m,\u001b[0m\u001b[0;34m\u001b[0m\u001b[0;34m\u001b[0m\u001b[0m\n\u001b[1;32m      6\u001b[0m );\n",
                  "\u001b[0;32m<ipython-input-4-1820102e39f8>\u001b[0m in \u001b[0;36mdiffusionplot\u001b[0;34m(xs, n0, g, t, D, x0)\u001b[0m\n\u001b[1;32m      7\u001b[0m     \u001b[0m_\u001b[0m\u001b[0;34m,\u001b[0m \u001b[0maxes\u001b[0m \u001b[0;34m=\u001b[0m \u001b[0mpyplot\u001b[0m\u001b[0;34m.\u001b[0m\u001b[0msubplots\u001b[0m\u001b[0;34m(\u001b[0m\u001b[0;34m)\u001b[0m\u001b[0;34m\u001b[0m\u001b[0;34m\u001b[0m\u001b[0m\n\u001b[1;32m      8\u001b[0m     \u001b[0mgs\u001b[0m \u001b[0;34m=\u001b[0m \u001b[0mg\u001b[0m\u001b[0;34m(\u001b[0m\u001b[0mxs\u001b[0m\u001b[0;34m,\u001b[0m \u001b[0mD\u001b[0m\u001b[0;34m,\u001b[0m \u001b[0mt\u001b[0m\u001b[0;34m,\u001b[0m \u001b[0mx0\u001b[0m \u001b[0;34m=\u001b[0m \u001b[0mx0\u001b[0m\u001b[0;34m)\u001b[0m  \u001b[0;31m# np.array([for x in xs])\u001b[0m\u001b[0;34m\u001b[0m\u001b[0;34m\u001b[0m\u001b[0m\n\u001b[0;32m----> 9\u001b[0;31m     \u001b[0mdiffusion\u001b[0m \u001b[0;34m=\u001b[0m \u001b[0mnp\u001b[0m\u001b[0;34m.\u001b[0m\u001b[0mconvolve\u001b[0m\u001b[0;34m(\u001b[0m\u001b[0mgs\u001b[0m\u001b[0;34m,\u001b[0m \u001b[0mn0\u001b[0m\u001b[0;34m,\u001b[0m \u001b[0mmode\u001b[0m \u001b[0;34m=\u001b[0m \u001b[0;34m'same'\u001b[0m\u001b[0;34m)\u001b[0m\u001b[0;34m\u001b[0m\u001b[0;34m\u001b[0m\u001b[0m\n\u001b[0m\u001b[1;32m     10\u001b[0m     \u001b[0maxes\u001b[0m\u001b[0;34m.\u001b[0m\u001b[0mplot\u001b[0m\u001b[0;34m(\u001b[0m\u001b[0mxs\u001b[0m\u001b[0;34m,\u001b[0m \u001b[0mdiffusion\u001b[0m\u001b[0;34m,\u001b[0m \u001b[0mlabel\u001b[0m\u001b[0;34m=\u001b[0m\u001b[0;34m\"n(x,t)\"\u001b[0m\u001b[0;34m,\u001b[0m \u001b[0mlinewidth\u001b[0m\u001b[0;34m=\u001b[0m\u001b[0;36m2\u001b[0m\u001b[0;34m)\u001b[0m\u001b[0;34m\u001b[0m\u001b[0;34m\u001b[0m\u001b[0m\n\u001b[1;32m     11\u001b[0m     \u001b[0maxes\u001b[0m\u001b[0;34m.\u001b[0m\u001b[0mplot\u001b[0m\u001b[0;34m(\u001b[0m\u001b[0mxs\u001b[0m\u001b[0;34m,\u001b[0m \u001b[0mgs\u001b[0m\u001b[0;34m,\u001b[0m \u001b[0mlabel\u001b[0m\u001b[0;34m=\u001b[0m\u001b[0;34m\"g(x,t)\"\u001b[0m\u001b[0;34m,\u001b[0m \u001b[0mlinewidth\u001b[0m\u001b[0;34m=\u001b[0m\u001b[0;36m2\u001b[0m\u001b[0;34m,\u001b[0m \u001b[0mdashes\u001b[0m\u001b[0;34m=\u001b[0m\u001b[0;34m(\u001b[0m\u001b[0;36m5\u001b[0m\u001b[0;34m,\u001b[0m \u001b[0;36m5\u001b[0m\u001b[0;34m)\u001b[0m\u001b[0;34m)\u001b[0m\u001b[0;34m\u001b[0m\u001b[0;34m\u001b[0m\u001b[0m\n",
                  "\u001b[0;32m<__array_function__ internals>\u001b[0m in \u001b[0;36mconvolve\u001b[0;34m(*args, **kwargs)\u001b[0m\n",
                  "\u001b[0;32m/usr/local/lib/python3.6/dist-packages/numpy/core/numeric.py\u001b[0m in \u001b[0;36mconvolve\u001b[0;34m(a, v, mode)\u001b[0m\n\u001b[1;32m    815\u001b[0m         \u001b[0;32mraise\u001b[0m \u001b[0mValueError\u001b[0m\u001b[0;34m(\u001b[0m\u001b[0;34m'v cannot be empty'\u001b[0m\u001b[0;34m)\u001b[0m\u001b[0;34m\u001b[0m\u001b[0;34m\u001b[0m\u001b[0m\n\u001b[1;32m    816\u001b[0m     \u001b[0mmode\u001b[0m \u001b[0;34m=\u001b[0m \u001b[0m_mode_from_name\u001b[0m\u001b[0;34m(\u001b[0m\u001b[0mmode\u001b[0m\u001b[0;34m)\u001b[0m\u001b[0;34m\u001b[0m\u001b[0;34m\u001b[0m\u001b[0m\n\u001b[0;32m--> 817\u001b[0;31m     \u001b[0;32mreturn\u001b[0m \u001b[0mmultiarray\u001b[0m\u001b[0;34m.\u001b[0m\u001b[0mcorrelate\u001b[0m\u001b[0;34m(\u001b[0m\u001b[0ma\u001b[0m\u001b[0;34m,\u001b[0m \u001b[0mv\u001b[0m\u001b[0;34m[\u001b[0m\u001b[0;34m:\u001b[0m\u001b[0;34m:\u001b[0m\u001b[0;34m-\u001b[0m\u001b[0;36m1\u001b[0m\u001b[0;34m]\u001b[0m\u001b[0;34m,\u001b[0m \u001b[0mmode\u001b[0m\u001b[0;34m)\u001b[0m\u001b[0;34m\u001b[0m\u001b[0;34m\u001b[0m\u001b[0m\n\u001b[0m\u001b[1;32m    818\u001b[0m \u001b[0;34m\u001b[0m\u001b[0m\n\u001b[1;32m    819\u001b[0m \u001b[0;34m\u001b[0m\u001b[0m\n",
                  "\u001b[0;31mValueError\u001b[0m: object too deep for desired array"
                ]
              }
            ],
            "_view_module": "@jupyter-widgets/output",
            "_model_module_version": "1.0.0",
            "_view_count": null,
            "_view_module_version": "1.0.0",
            "layout": "IPY_MODEL_febba0bd66df427cba8be09a5703aded",
            "_model_module": "@jupyter-widgets/output"
          }
        },
        "4df9f2b8ce094639b4354503b0a2ff9d": {
          "model_module": "@jupyter-widgets/controls",
          "model_name": "SliderStyleModel",
          "state": {
            "_view_name": "StyleView",
            "handle_color": null,
            "_model_name": "SliderStyleModel",
            "description_width": "",
            "_view_module": "@jupyter-widgets/base",
            "_model_module_version": "1.5.0",
            "_view_count": null,
            "_view_module_version": "1.2.0",
            "_model_module": "@jupyter-widgets/controls"
          }
        },
        "f322ffbef8934d25a50529cd6d55f80e": {
          "model_module": "@jupyter-widgets/base",
          "model_name": "LayoutModel",
          "state": {
            "_view_name": "LayoutView",
            "grid_template_rows": null,
            "right": null,
            "justify_content": null,
            "_view_module": "@jupyter-widgets/base",
            "overflow": null,
            "_model_module_version": "1.2.0",
            "_view_count": null,
            "flex_flow": null,
            "width": null,
            "min_width": null,
            "border": null,
            "align_items": null,
            "bottom": null,
            "_model_module": "@jupyter-widgets/base",
            "top": null,
            "grid_column": null,
            "overflow_y": null,
            "overflow_x": null,
            "grid_auto_flow": null,
            "grid_area": null,
            "grid_template_columns": null,
            "flex": null,
            "_model_name": "LayoutModel",
            "justify_items": null,
            "grid_row": null,
            "max_height": null,
            "align_content": null,
            "visibility": null,
            "align_self": null,
            "height": null,
            "min_height": null,
            "padding": null,
            "grid_auto_rows": null,
            "grid_gap": null,
            "max_width": null,
            "order": null,
            "_view_module_version": "1.2.0",
            "grid_template_areas": null,
            "object_position": null,
            "object_fit": null,
            "grid_auto_columns": null,
            "margin": null,
            "display": null,
            "left": null
          }
        },
        "febba0bd66df427cba8be09a5703aded": {
          "model_module": "@jupyter-widgets/base",
          "model_name": "LayoutModel",
          "state": {
            "_view_name": "LayoutView",
            "grid_template_rows": null,
            "right": null,
            "justify_content": null,
            "_view_module": "@jupyter-widgets/base",
            "overflow": null,
            "_model_module_version": "1.2.0",
            "_view_count": null,
            "flex_flow": null,
            "width": null,
            "min_width": null,
            "border": null,
            "align_items": null,
            "bottom": null,
            "_model_module": "@jupyter-widgets/base",
            "top": null,
            "grid_column": null,
            "overflow_y": null,
            "overflow_x": null,
            "grid_auto_flow": null,
            "grid_area": null,
            "grid_template_columns": null,
            "flex": null,
            "_model_name": "LayoutModel",
            "justify_items": null,
            "grid_row": null,
            "max_height": null,
            "align_content": null,
            "visibility": null,
            "align_self": null,
            "height": null,
            "min_height": null,
            "padding": null,
            "grid_auto_rows": null,
            "grid_gap": null,
            "max_width": null,
            "order": null,
            "_view_module_version": "1.2.0",
            "grid_template_areas": null,
            "object_position": null,
            "object_fit": null,
            "grid_auto_columns": null,
            "margin": null,
            "display": null,
            "left": null
          }
        },
        "02ed5e0f86a94cc780b500f6535bf76a": {
          "model_module": "@jupyter-widgets/controls",
          "model_name": "VBoxModel",
          "state": {
            "_view_name": "VBoxView",
            "_dom_classes": [
              "widget-interact"
            ],
            "_model_name": "VBoxModel",
            "_view_module": "@jupyter-widgets/controls",
            "_model_module_version": "1.5.0",
            "_view_count": null,
            "_view_module_version": "1.5.0",
            "box_style": "",
            "layout": "IPY_MODEL_658d842ada3b4b4a8a2c6544773699e2",
            "_model_module": "@jupyter-widgets/controls",
            "children": [
              "IPY_MODEL_b92783de11ce4d10872edf8bfe1a9a75",
              "IPY_MODEL_6494659c1ac545a39a3184d73480a76b"
            ]
          }
        },
        "658d842ada3b4b4a8a2c6544773699e2": {
          "model_module": "@jupyter-widgets/base",
          "model_name": "LayoutModel",
          "state": {
            "_view_name": "LayoutView",
            "grid_template_rows": null,
            "right": null,
            "justify_content": null,
            "_view_module": "@jupyter-widgets/base",
            "overflow": null,
            "_model_module_version": "1.2.0",
            "_view_count": null,
            "flex_flow": null,
            "width": null,
            "min_width": null,
            "border": null,
            "align_items": null,
            "bottom": null,
            "_model_module": "@jupyter-widgets/base",
            "top": null,
            "grid_column": null,
            "overflow_y": null,
            "overflow_x": null,
            "grid_auto_flow": null,
            "grid_area": null,
            "grid_template_columns": null,
            "flex": null,
            "_model_name": "LayoutModel",
            "justify_items": null,
            "grid_row": null,
            "max_height": null,
            "align_content": null,
            "visibility": null,
            "align_self": null,
            "height": null,
            "min_height": null,
            "padding": null,
            "grid_auto_rows": null,
            "grid_gap": null,
            "max_width": null,
            "order": null,
            "_view_module_version": "1.2.0",
            "grid_template_areas": null,
            "object_position": null,
            "object_fit": null,
            "grid_auto_columns": null,
            "margin": null,
            "display": null,
            "left": null
          }
        },
        "b92783de11ce4d10872edf8bfe1a9a75": {
          "model_module": "@jupyter-widgets/controls",
          "model_name": "IntSliderModel",
          "state": {
            "_view_name": "IntSliderView",
            "style": "IPY_MODEL_6e19aac1b35941db8dec5388b41ecb6e",
            "_dom_classes": [],
            "description": "t",
            "step": 1,
            "_model_name": "IntSliderModel",
            "orientation": "horizontal",
            "max": 50,
            "_view_module": "@jupyter-widgets/controls",
            "_model_module_version": "1.5.0",
            "value": 34,
            "_view_count": null,
            "disabled": false,
            "_view_module_version": "1.5.0",
            "min": 1,
            "continuous_update": true,
            "readout_format": "d",
            "description_tooltip": null,
            "readout": true,
            "_model_module": "@jupyter-widgets/controls",
            "layout": "IPY_MODEL_882f14b8faa94da38e818b640bdc0026"
          }
        },
        "6494659c1ac545a39a3184d73480a76b": {
          "model_module": "@jupyter-widgets/output",
          "model_name": "OutputModel",
          "state": {
            "_view_name": "OutputView",
            "msg_id": "",
            "_dom_classes": [],
            "_model_name": "OutputModel",
            "outputs": [
              {
                "output_type": "pyerr",
                "metadata": {
                  "tags": []
                },
                "ename": "ValueError",
                "evalue": "ignored",
                "traceback": [
                  "\u001b[0;31m---------------------------------------------------------------------------\u001b[0m",
                  "\u001b[0;31mValueError\u001b[0m                                Traceback (most recent call last)",
                  "\u001b[0;32m/usr/local/lib/python3.6/dist-packages/ipywidgets/widgets/interaction.py\u001b[0m in \u001b[0;36mupdate\u001b[0;34m(self, *args)\u001b[0m\n\u001b[1;32m    254\u001b[0m                     \u001b[0mvalue\u001b[0m \u001b[0;34m=\u001b[0m \u001b[0mwidget\u001b[0m\u001b[0;34m.\u001b[0m\u001b[0mget_interact_value\u001b[0m\u001b[0;34m(\u001b[0m\u001b[0;34m)\u001b[0m\u001b[0;34m\u001b[0m\u001b[0;34m\u001b[0m\u001b[0m\n\u001b[1;32m    255\u001b[0m                     \u001b[0mself\u001b[0m\u001b[0;34m.\u001b[0m\u001b[0mkwargs\u001b[0m\u001b[0;34m[\u001b[0m\u001b[0mwidget\u001b[0m\u001b[0;34m.\u001b[0m\u001b[0m_kwarg\u001b[0m\u001b[0;34m]\u001b[0m \u001b[0;34m=\u001b[0m \u001b[0mvalue\u001b[0m\u001b[0;34m\u001b[0m\u001b[0;34m\u001b[0m\u001b[0m\n\u001b[0;32m--> 256\u001b[0;31m                 \u001b[0mself\u001b[0m\u001b[0;34m.\u001b[0m\u001b[0mresult\u001b[0m \u001b[0;34m=\u001b[0m \u001b[0mself\u001b[0m\u001b[0;34m.\u001b[0m\u001b[0mf\u001b[0m\u001b[0;34m(\u001b[0m\u001b[0;34m**\u001b[0m\u001b[0mself\u001b[0m\u001b[0;34m.\u001b[0m\u001b[0mkwargs\u001b[0m\u001b[0;34m)\u001b[0m\u001b[0;34m\u001b[0m\u001b[0;34m\u001b[0m\u001b[0m\n\u001b[0m\u001b[1;32m    257\u001b[0m                 \u001b[0mshow_inline_matplotlib_plots\u001b[0m\u001b[0;34m(\u001b[0m\u001b[0;34m)\u001b[0m\u001b[0;34m\u001b[0m\u001b[0;34m\u001b[0m\u001b[0m\n\u001b[1;32m    258\u001b[0m                 \u001b[0;32mif\u001b[0m \u001b[0mself\u001b[0m\u001b[0;34m.\u001b[0m\u001b[0mauto_display\u001b[0m \u001b[0;32mand\u001b[0m \u001b[0mself\u001b[0m\u001b[0;34m.\u001b[0m\u001b[0mresult\u001b[0m \u001b[0;32mis\u001b[0m \u001b[0;32mnot\u001b[0m \u001b[0;32mNone\u001b[0m\u001b[0;34m:\u001b[0m\u001b[0;34m\u001b[0m\u001b[0;34m\u001b[0m\u001b[0m\n",
                  "\u001b[0;32m<ipython-input-6-b8a6d5ddccbc>\u001b[0m in \u001b[0;36m<lambda>\u001b[0;34m(t)\u001b[0m\n\u001b[1;32m      2\u001b[0m \u001b[0;34m\u001b[0m\u001b[0m\n\u001b[1;32m      3\u001b[0m ipywidgets.interact(\n\u001b[0;32m----> 4\u001b[0;31m     \u001b[0;32mlambda\u001b[0m \u001b[0mt\u001b[0m\u001b[0;34m:\u001b[0m \u001b[0mdiffusionplot\u001b[0m\u001b[0;34m(\u001b[0m\u001b[0mxs\u001b[0m\u001b[0;34m,\u001b[0m \u001b[0mtop_hat\u001b[0m\u001b[0;34m(\u001b[0m\u001b[0mxs\u001b[0m\u001b[0;34m,\u001b[0m \u001b[0;36m10\u001b[0m\u001b[0;34m,\u001b[0m \u001b[0;36m1\u001b[0m\u001b[0;34m)\u001b[0m\u001b[0;34m,\u001b[0m \u001b[0mdiffusion1D\u001b[0m\u001b[0;34m,\u001b[0m \u001b[0mt\u001b[0m\u001b[0;34m,\u001b[0m \u001b[0mD\u001b[0m \u001b[0;34m=\u001b[0m \u001b[0;36m0.1\u001b[0m\u001b[0;34m)\u001b[0m\u001b[0;34m,\u001b[0m\u001b[0;34m\u001b[0m\u001b[0;34m\u001b[0m\u001b[0m\n\u001b[0m\u001b[1;32m      5\u001b[0m     \u001b[0mt\u001b[0m\u001b[0;34m=\u001b[0m\u001b[0;34m(\u001b[0m\u001b[0;36m1\u001b[0m\u001b[0;34m,\u001b[0m \u001b[0;36m50\u001b[0m\u001b[0;34m,\u001b[0m \u001b[0;36m1\u001b[0m\u001b[0;34m)\u001b[0m\u001b[0;34m,\u001b[0m\u001b[0;34m\u001b[0m\u001b[0;34m\u001b[0m\u001b[0m\n\u001b[1;32m      6\u001b[0m );\n",
                  "\u001b[0;32m<ipython-input-4-1820102e39f8>\u001b[0m in \u001b[0;36mdiffusionplot\u001b[0;34m(xs, n0, g, t, D, x0)\u001b[0m\n\u001b[1;32m      7\u001b[0m     \u001b[0m_\u001b[0m\u001b[0;34m,\u001b[0m \u001b[0maxes\u001b[0m \u001b[0;34m=\u001b[0m \u001b[0mpyplot\u001b[0m\u001b[0;34m.\u001b[0m\u001b[0msubplots\u001b[0m\u001b[0;34m(\u001b[0m\u001b[0;34m)\u001b[0m\u001b[0;34m\u001b[0m\u001b[0;34m\u001b[0m\u001b[0m\n\u001b[1;32m      8\u001b[0m     \u001b[0mgs\u001b[0m \u001b[0;34m=\u001b[0m \u001b[0mg\u001b[0m\u001b[0;34m(\u001b[0m\u001b[0mxs\u001b[0m\u001b[0;34m,\u001b[0m \u001b[0mD\u001b[0m\u001b[0;34m,\u001b[0m \u001b[0mt\u001b[0m\u001b[0;34m,\u001b[0m \u001b[0mx0\u001b[0m \u001b[0;34m=\u001b[0m \u001b[0mx0\u001b[0m\u001b[0;34m)\u001b[0m  \u001b[0;31m# np.array([for x in xs])\u001b[0m\u001b[0;34m\u001b[0m\u001b[0;34m\u001b[0m\u001b[0m\n\u001b[0;32m----> 9\u001b[0;31m     \u001b[0mdiffusion\u001b[0m \u001b[0;34m=\u001b[0m \u001b[0mnp\u001b[0m\u001b[0;34m.\u001b[0m\u001b[0mconvolve\u001b[0m\u001b[0;34m(\u001b[0m\u001b[0mgs\u001b[0m\u001b[0;34m,\u001b[0m \u001b[0mn0\u001b[0m\u001b[0;34m,\u001b[0m \u001b[0mmode\u001b[0m \u001b[0;34m=\u001b[0m \u001b[0;34m'same'\u001b[0m\u001b[0;34m)\u001b[0m\u001b[0;34m\u001b[0m\u001b[0;34m\u001b[0m\u001b[0m\n\u001b[0m\u001b[1;32m     10\u001b[0m     \u001b[0maxes\u001b[0m\u001b[0;34m.\u001b[0m\u001b[0mplot\u001b[0m\u001b[0;34m(\u001b[0m\u001b[0mxs\u001b[0m\u001b[0;34m,\u001b[0m \u001b[0mdiffusion\u001b[0m\u001b[0;34m,\u001b[0m \u001b[0mlabel\u001b[0m\u001b[0;34m=\u001b[0m\u001b[0;34m\"n(x,t)\"\u001b[0m\u001b[0;34m,\u001b[0m \u001b[0mlinewidth\u001b[0m\u001b[0;34m=\u001b[0m\u001b[0;36m2\u001b[0m\u001b[0;34m)\u001b[0m\u001b[0;34m\u001b[0m\u001b[0;34m\u001b[0m\u001b[0m\n\u001b[1;32m     11\u001b[0m     \u001b[0maxes\u001b[0m\u001b[0;34m.\u001b[0m\u001b[0mplot\u001b[0m\u001b[0;34m(\u001b[0m\u001b[0mxs\u001b[0m\u001b[0;34m,\u001b[0m \u001b[0mgs\u001b[0m\u001b[0;34m,\u001b[0m \u001b[0mlabel\u001b[0m\u001b[0;34m=\u001b[0m\u001b[0;34m\"g(x,t)\"\u001b[0m\u001b[0;34m,\u001b[0m \u001b[0mlinewidth\u001b[0m\u001b[0;34m=\u001b[0m\u001b[0;36m2\u001b[0m\u001b[0;34m,\u001b[0m \u001b[0mdashes\u001b[0m\u001b[0;34m=\u001b[0m\u001b[0;34m(\u001b[0m\u001b[0;36m5\u001b[0m\u001b[0;34m,\u001b[0m \u001b[0;36m5\u001b[0m\u001b[0;34m)\u001b[0m\u001b[0;34m)\u001b[0m\u001b[0;34m\u001b[0m\u001b[0;34m\u001b[0m\u001b[0m\n",
                  "\u001b[0;32m<__array_function__ internals>\u001b[0m in \u001b[0;36mconvolve\u001b[0;34m(*args, **kwargs)\u001b[0m\n",
                  "\u001b[0;32m/usr/local/lib/python3.6/dist-packages/numpy/core/numeric.py\u001b[0m in \u001b[0;36mconvolve\u001b[0;34m(a, v, mode)\u001b[0m\n\u001b[1;32m    815\u001b[0m         \u001b[0;32mraise\u001b[0m \u001b[0mValueError\u001b[0m\u001b[0;34m(\u001b[0m\u001b[0;34m'v cannot be empty'\u001b[0m\u001b[0;34m)\u001b[0m\u001b[0;34m\u001b[0m\u001b[0;34m\u001b[0m\u001b[0m\n\u001b[1;32m    816\u001b[0m     \u001b[0mmode\u001b[0m \u001b[0;34m=\u001b[0m \u001b[0m_mode_from_name\u001b[0m\u001b[0;34m(\u001b[0m\u001b[0mmode\u001b[0m\u001b[0;34m)\u001b[0m\u001b[0;34m\u001b[0m\u001b[0;34m\u001b[0m\u001b[0m\n\u001b[0;32m--> 817\u001b[0;31m     \u001b[0;32mreturn\u001b[0m \u001b[0mmultiarray\u001b[0m\u001b[0;34m.\u001b[0m\u001b[0mcorrelate\u001b[0m\u001b[0;34m(\u001b[0m\u001b[0ma\u001b[0m\u001b[0;34m,\u001b[0m \u001b[0mv\u001b[0m\u001b[0;34m[\u001b[0m\u001b[0;34m:\u001b[0m\u001b[0;34m:\u001b[0m\u001b[0;34m-\u001b[0m\u001b[0;36m1\u001b[0m\u001b[0;34m]\u001b[0m\u001b[0;34m,\u001b[0m \u001b[0mmode\u001b[0m\u001b[0;34m)\u001b[0m\u001b[0;34m\u001b[0m\u001b[0;34m\u001b[0m\u001b[0m\n\u001b[0m\u001b[1;32m    818\u001b[0m \u001b[0;34m\u001b[0m\u001b[0m\n\u001b[1;32m    819\u001b[0m \u001b[0;34m\u001b[0m\u001b[0m\n",
                  "\u001b[0;31mValueError\u001b[0m: object too deep for desired array"
                ]
              }
            ],
            "_view_module": "@jupyter-widgets/output",
            "_model_module_version": "1.0.0",
            "_view_count": null,
            "_view_module_version": "1.0.0",
            "layout": "IPY_MODEL_dceb27a91d044c7d945993f3ed8c2e2c",
            "_model_module": "@jupyter-widgets/output"
          }
        },
        "6e19aac1b35941db8dec5388b41ecb6e": {
          "model_module": "@jupyter-widgets/controls",
          "model_name": "SliderStyleModel",
          "state": {
            "_view_name": "StyleView",
            "handle_color": null,
            "_model_name": "SliderStyleModel",
            "description_width": "",
            "_view_module": "@jupyter-widgets/base",
            "_model_module_version": "1.5.0",
            "_view_count": null,
            "_view_module_version": "1.2.0",
            "_model_module": "@jupyter-widgets/controls"
          }
        },
        "882f14b8faa94da38e818b640bdc0026": {
          "model_module": "@jupyter-widgets/base",
          "model_name": "LayoutModel",
          "state": {
            "_view_name": "LayoutView",
            "grid_template_rows": null,
            "right": null,
            "justify_content": null,
            "_view_module": "@jupyter-widgets/base",
            "overflow": null,
            "_model_module_version": "1.2.0",
            "_view_count": null,
            "flex_flow": null,
            "width": null,
            "min_width": null,
            "border": null,
            "align_items": null,
            "bottom": null,
            "_model_module": "@jupyter-widgets/base",
            "top": null,
            "grid_column": null,
            "overflow_y": null,
            "overflow_x": null,
            "grid_auto_flow": null,
            "grid_area": null,
            "grid_template_columns": null,
            "flex": null,
            "_model_name": "LayoutModel",
            "justify_items": null,
            "grid_row": null,
            "max_height": null,
            "align_content": null,
            "visibility": null,
            "align_self": null,
            "height": null,
            "min_height": null,
            "padding": null,
            "grid_auto_rows": null,
            "grid_gap": null,
            "max_width": null,
            "order": null,
            "_view_module_version": "1.2.0",
            "grid_template_areas": null,
            "object_position": null,
            "object_fit": null,
            "grid_auto_columns": null,
            "margin": null,
            "display": null,
            "left": null
          }
        },
        "dceb27a91d044c7d945993f3ed8c2e2c": {
          "model_module": "@jupyter-widgets/base",
          "model_name": "LayoutModel",
          "state": {
            "_view_name": "LayoutView",
            "grid_template_rows": null,
            "right": null,
            "justify_content": null,
            "_view_module": "@jupyter-widgets/base",
            "overflow": null,
            "_model_module_version": "1.2.0",
            "_view_count": null,
            "flex_flow": null,
            "width": null,
            "min_width": null,
            "border": null,
            "align_items": null,
            "bottom": null,
            "_model_module": "@jupyter-widgets/base",
            "top": null,
            "grid_column": null,
            "overflow_y": null,
            "overflow_x": null,
            "grid_auto_flow": null,
            "grid_area": null,
            "grid_template_columns": null,
            "flex": null,
            "_model_name": "LayoutModel",
            "justify_items": null,
            "grid_row": null,
            "max_height": null,
            "align_content": null,
            "visibility": null,
            "align_self": null,
            "height": null,
            "min_height": null,
            "padding": null,
            "grid_auto_rows": null,
            "grid_gap": null,
            "max_width": null,
            "order": null,
            "_view_module_version": "1.2.0",
            "grid_template_areas": null,
            "object_position": null,
            "object_fit": null,
            "grid_auto_columns": null,
            "margin": null,
            "display": null,
            "left": null
          }
        },
        "8ccfd6caa83b40f09e33d64cb3dab3db": {
          "model_module": "@jupyter-widgets/controls",
          "model_name": "VBoxModel",
          "state": {
            "_view_name": "VBoxView",
            "_dom_classes": [
              "widget-interact"
            ],
            "_model_name": "VBoxModel",
            "_view_module": "@jupyter-widgets/controls",
            "_model_module_version": "1.5.0",
            "_view_count": null,
            "_view_module_version": "1.5.0",
            "box_style": "",
            "layout": "IPY_MODEL_f098125857e549a69d8330287db654e5",
            "_model_module": "@jupyter-widgets/controls",
            "children": [
              "IPY_MODEL_f1cc16dea6f4444eb2d323da2f590231",
              "IPY_MODEL_0596ee02c73b4f18958b00f67fe45e6b"
            ]
          }
        },
        "f098125857e549a69d8330287db654e5": {
          "model_module": "@jupyter-widgets/base",
          "model_name": "LayoutModel",
          "state": {
            "_view_name": "LayoutView",
            "grid_template_rows": null,
            "right": null,
            "justify_content": null,
            "_view_module": "@jupyter-widgets/base",
            "overflow": null,
            "_model_module_version": "1.2.0",
            "_view_count": null,
            "flex_flow": null,
            "width": null,
            "min_width": null,
            "border": null,
            "align_items": null,
            "bottom": null,
            "_model_module": "@jupyter-widgets/base",
            "top": null,
            "grid_column": null,
            "overflow_y": null,
            "overflow_x": null,
            "grid_auto_flow": null,
            "grid_area": null,
            "grid_template_columns": null,
            "flex": null,
            "_model_name": "LayoutModel",
            "justify_items": null,
            "grid_row": null,
            "max_height": null,
            "align_content": null,
            "visibility": null,
            "align_self": null,
            "height": null,
            "min_height": null,
            "padding": null,
            "grid_auto_rows": null,
            "grid_gap": null,
            "max_width": null,
            "order": null,
            "_view_module_version": "1.2.0",
            "grid_template_areas": null,
            "object_position": null,
            "object_fit": null,
            "grid_auto_columns": null,
            "margin": null,
            "display": null,
            "left": null
          }
        },
        "f1cc16dea6f4444eb2d323da2f590231": {
          "model_module": "@jupyter-widgets/controls",
          "model_name": "IntSliderModel",
          "state": {
            "_view_name": "IntSliderView",
            "style": "IPY_MODEL_0a4c9c7423824ec4bd7265b99bde25cb",
            "_dom_classes": [],
            "description": "t",
            "step": 1,
            "_model_name": "IntSliderModel",
            "orientation": "horizontal",
            "max": 100,
            "_view_module": "@jupyter-widgets/controls",
            "_model_module_version": "1.5.0",
            "value": 65,
            "_view_count": null,
            "disabled": false,
            "_view_module_version": "1.5.0",
            "min": 1,
            "continuous_update": true,
            "readout_format": "d",
            "description_tooltip": null,
            "readout": true,
            "_model_module": "@jupyter-widgets/controls",
            "layout": "IPY_MODEL_217ac63b10594482a3af10853f90991c"
          }
        },
        "0596ee02c73b4f18958b00f67fe45e6b": {
          "model_module": "@jupyter-widgets/output",
          "model_name": "OutputModel",
          "state": {
            "_view_name": "OutputView",
            "msg_id": "",
            "_dom_classes": [],
            "_model_name": "OutputModel",
            "outputs": [
              {
                "output_type": "pyerr",
                "metadata": {
                  "tags": []
                },
                "ename": "ValueError",
                "evalue": "ignored",
                "traceback": [
                  "\u001b[0;31m---------------------------------------------------------------------------\u001b[0m",
                  "\u001b[0;31mValueError\u001b[0m                                Traceback (most recent call last)",
                  "\u001b[0;32m/usr/local/lib/python3.6/dist-packages/ipywidgets/widgets/interaction.py\u001b[0m in \u001b[0;36mupdate\u001b[0;34m(self, *args)\u001b[0m\n\u001b[1;32m    254\u001b[0m                     \u001b[0mvalue\u001b[0m \u001b[0;34m=\u001b[0m \u001b[0mwidget\u001b[0m\u001b[0;34m.\u001b[0m\u001b[0mget_interact_value\u001b[0m\u001b[0;34m(\u001b[0m\u001b[0;34m)\u001b[0m\u001b[0;34m\u001b[0m\u001b[0;34m\u001b[0m\u001b[0m\n\u001b[1;32m    255\u001b[0m                     \u001b[0mself\u001b[0m\u001b[0;34m.\u001b[0m\u001b[0mkwargs\u001b[0m\u001b[0;34m[\u001b[0m\u001b[0mwidget\u001b[0m\u001b[0;34m.\u001b[0m\u001b[0m_kwarg\u001b[0m\u001b[0;34m]\u001b[0m \u001b[0;34m=\u001b[0m \u001b[0mvalue\u001b[0m\u001b[0;34m\u001b[0m\u001b[0;34m\u001b[0m\u001b[0m\n\u001b[0;32m--> 256\u001b[0;31m                 \u001b[0mself\u001b[0m\u001b[0;34m.\u001b[0m\u001b[0mresult\u001b[0m \u001b[0;34m=\u001b[0m \u001b[0mself\u001b[0m\u001b[0;34m.\u001b[0m\u001b[0mf\u001b[0m\u001b[0;34m(\u001b[0m\u001b[0;34m**\u001b[0m\u001b[0mself\u001b[0m\u001b[0;34m.\u001b[0m\u001b[0mkwargs\u001b[0m\u001b[0;34m)\u001b[0m\u001b[0;34m\u001b[0m\u001b[0;34m\u001b[0m\u001b[0m\n\u001b[0m\u001b[1;32m    257\u001b[0m                 \u001b[0mshow_inline_matplotlib_plots\u001b[0m\u001b[0;34m(\u001b[0m\u001b[0;34m)\u001b[0m\u001b[0;34m\u001b[0m\u001b[0;34m\u001b[0m\u001b[0m\n\u001b[1;32m    258\u001b[0m                 \u001b[0;32mif\u001b[0m \u001b[0mself\u001b[0m\u001b[0;34m.\u001b[0m\u001b[0mauto_display\u001b[0m \u001b[0;32mand\u001b[0m \u001b[0mself\u001b[0m\u001b[0;34m.\u001b[0m\u001b[0mresult\u001b[0m \u001b[0;32mis\u001b[0m \u001b[0;32mnot\u001b[0m \u001b[0;32mNone\u001b[0m\u001b[0;34m:\u001b[0m\u001b[0;34m\u001b[0m\u001b[0;34m\u001b[0m\u001b[0m\n",
                  "\u001b[0;32m<ipython-input-7-b3dba3dd1dea>\u001b[0m in \u001b[0;36m<lambda>\u001b[0;34m(t)\u001b[0m\n\u001b[1;32m      2\u001b[0m \u001b[0;34m\u001b[0m\u001b[0m\n\u001b[1;32m      3\u001b[0m ipywidgets.interact(\n\u001b[0;32m----> 4\u001b[0;31m     \u001b[0;32mlambda\u001b[0m \u001b[0mt\u001b[0m\u001b[0;34m:\u001b[0m \u001b[0mdiffusionplot\u001b[0m\u001b[0;34m(\u001b[0m\u001b[0mxs\u001b[0m\u001b[0;34m,\u001b[0m \u001b[0mapproximateDiracDelta\u001b[0m\u001b[0;34m(\u001b[0m\u001b[0mxs\u001b[0m\u001b[0;34m,\u001b[0m \u001b[0mcentre\u001b[0m \u001b[0;34m=\u001b[0m \u001b[0;34m-\u001b[0m\u001b[0;36m5\u001b[0m\u001b[0;34m)\u001b[0m \u001b[0;34m+\u001b[0m \u001b[0mapproximateDiracDelta\u001b[0m\u001b[0;34m(\u001b[0m\u001b[0mxs\u001b[0m\u001b[0;34m,\u001b[0m \u001b[0mcentre\u001b[0m \u001b[0;34m=\u001b[0m \u001b[0;36m5\u001b[0m\u001b[0;34m)\u001b[0m\u001b[0;34m,\u001b[0m \u001b[0mdiffusion1D\u001b[0m\u001b[0;34m,\u001b[0m \u001b[0mt\u001b[0m\u001b[0;34m,\u001b[0m \u001b[0mD\u001b[0m \u001b[0;34m=\u001b[0m \u001b[0;36m0.1\u001b[0m\u001b[0;34m)\u001b[0m\u001b[0;34m,\u001b[0m\u001b[0;34m\u001b[0m\u001b[0;34m\u001b[0m\u001b[0m\n\u001b[0m\u001b[1;32m      5\u001b[0m     \u001b[0mt\u001b[0m\u001b[0;34m=\u001b[0m\u001b[0;34m(\u001b[0m\u001b[0;36m1\u001b[0m\u001b[0;34m,\u001b[0m \u001b[0;36m100\u001b[0m\u001b[0;34m,\u001b[0m \u001b[0;36m1\u001b[0m\u001b[0;34m)\u001b[0m\u001b[0;34m,\u001b[0m\u001b[0;34m\u001b[0m\u001b[0;34m\u001b[0m\u001b[0m\n\u001b[1;32m      6\u001b[0m );\n",
                  "\u001b[0;32m<ipython-input-4-1820102e39f8>\u001b[0m in \u001b[0;36mdiffusionplot\u001b[0;34m(xs, n0, g, t, D, x0)\u001b[0m\n\u001b[1;32m      7\u001b[0m     \u001b[0m_\u001b[0m\u001b[0;34m,\u001b[0m \u001b[0maxes\u001b[0m \u001b[0;34m=\u001b[0m \u001b[0mpyplot\u001b[0m\u001b[0;34m.\u001b[0m\u001b[0msubplots\u001b[0m\u001b[0;34m(\u001b[0m\u001b[0;34m)\u001b[0m\u001b[0;34m\u001b[0m\u001b[0;34m\u001b[0m\u001b[0m\n\u001b[1;32m      8\u001b[0m     \u001b[0mgs\u001b[0m \u001b[0;34m=\u001b[0m \u001b[0mg\u001b[0m\u001b[0;34m(\u001b[0m\u001b[0mxs\u001b[0m\u001b[0;34m,\u001b[0m \u001b[0mD\u001b[0m\u001b[0;34m,\u001b[0m \u001b[0mt\u001b[0m\u001b[0;34m,\u001b[0m \u001b[0mx0\u001b[0m \u001b[0;34m=\u001b[0m \u001b[0mx0\u001b[0m\u001b[0;34m)\u001b[0m  \u001b[0;31m# np.array([for x in xs])\u001b[0m\u001b[0;34m\u001b[0m\u001b[0;34m\u001b[0m\u001b[0m\n\u001b[0;32m----> 9\u001b[0;31m     \u001b[0mdiffusion\u001b[0m \u001b[0;34m=\u001b[0m \u001b[0mnp\u001b[0m\u001b[0;34m.\u001b[0m\u001b[0mconvolve\u001b[0m\u001b[0;34m(\u001b[0m\u001b[0mgs\u001b[0m\u001b[0;34m,\u001b[0m \u001b[0mn0\u001b[0m\u001b[0;34m,\u001b[0m \u001b[0mmode\u001b[0m \u001b[0;34m=\u001b[0m \u001b[0;34m'same'\u001b[0m\u001b[0;34m)\u001b[0m\u001b[0;34m\u001b[0m\u001b[0;34m\u001b[0m\u001b[0m\n\u001b[0m\u001b[1;32m     10\u001b[0m     \u001b[0maxes\u001b[0m\u001b[0;34m.\u001b[0m\u001b[0mplot\u001b[0m\u001b[0;34m(\u001b[0m\u001b[0mxs\u001b[0m\u001b[0;34m,\u001b[0m \u001b[0mdiffusion\u001b[0m\u001b[0;34m,\u001b[0m \u001b[0mlabel\u001b[0m\u001b[0;34m=\u001b[0m\u001b[0;34m\"n(x,t)\"\u001b[0m\u001b[0;34m,\u001b[0m \u001b[0mlinewidth\u001b[0m\u001b[0;34m=\u001b[0m\u001b[0;36m2\u001b[0m\u001b[0;34m)\u001b[0m\u001b[0;34m\u001b[0m\u001b[0;34m\u001b[0m\u001b[0m\n\u001b[1;32m     11\u001b[0m     \u001b[0maxes\u001b[0m\u001b[0;34m.\u001b[0m\u001b[0mplot\u001b[0m\u001b[0;34m(\u001b[0m\u001b[0mxs\u001b[0m\u001b[0;34m,\u001b[0m \u001b[0mgs\u001b[0m\u001b[0;34m,\u001b[0m \u001b[0mlabel\u001b[0m\u001b[0;34m=\u001b[0m\u001b[0;34m\"g(x,t)\"\u001b[0m\u001b[0;34m,\u001b[0m \u001b[0mlinewidth\u001b[0m\u001b[0;34m=\u001b[0m\u001b[0;36m2\u001b[0m\u001b[0;34m,\u001b[0m \u001b[0mdashes\u001b[0m\u001b[0;34m=\u001b[0m\u001b[0;34m(\u001b[0m\u001b[0;36m5\u001b[0m\u001b[0;34m,\u001b[0m \u001b[0;36m5\u001b[0m\u001b[0;34m)\u001b[0m\u001b[0;34m)\u001b[0m\u001b[0;34m\u001b[0m\u001b[0;34m\u001b[0m\u001b[0m\n",
                  "\u001b[0;32m<__array_function__ internals>\u001b[0m in \u001b[0;36mconvolve\u001b[0;34m(*args, **kwargs)\u001b[0m\n",
                  "\u001b[0;32m/usr/local/lib/python3.6/dist-packages/numpy/core/numeric.py\u001b[0m in \u001b[0;36mconvolve\u001b[0;34m(a, v, mode)\u001b[0m\n\u001b[1;32m    815\u001b[0m         \u001b[0;32mraise\u001b[0m \u001b[0mValueError\u001b[0m\u001b[0;34m(\u001b[0m\u001b[0;34m'v cannot be empty'\u001b[0m\u001b[0;34m)\u001b[0m\u001b[0;34m\u001b[0m\u001b[0;34m\u001b[0m\u001b[0m\n\u001b[1;32m    816\u001b[0m     \u001b[0mmode\u001b[0m \u001b[0;34m=\u001b[0m \u001b[0m_mode_from_name\u001b[0m\u001b[0;34m(\u001b[0m\u001b[0mmode\u001b[0m\u001b[0;34m)\u001b[0m\u001b[0;34m\u001b[0m\u001b[0;34m\u001b[0m\u001b[0m\n\u001b[0;32m--> 817\u001b[0;31m     \u001b[0;32mreturn\u001b[0m \u001b[0mmultiarray\u001b[0m\u001b[0;34m.\u001b[0m\u001b[0mcorrelate\u001b[0m\u001b[0;34m(\u001b[0m\u001b[0ma\u001b[0m\u001b[0;34m,\u001b[0m \u001b[0mv\u001b[0m\u001b[0;34m[\u001b[0m\u001b[0;34m:\u001b[0m\u001b[0;34m:\u001b[0m\u001b[0;34m-\u001b[0m\u001b[0;36m1\u001b[0m\u001b[0;34m]\u001b[0m\u001b[0;34m,\u001b[0m \u001b[0mmode\u001b[0m\u001b[0;34m)\u001b[0m\u001b[0;34m\u001b[0m\u001b[0;34m\u001b[0m\u001b[0m\n\u001b[0m\u001b[1;32m    818\u001b[0m \u001b[0;34m\u001b[0m\u001b[0m\n\u001b[1;32m    819\u001b[0m \u001b[0;34m\u001b[0m\u001b[0m\n",
                  "\u001b[0;31mValueError\u001b[0m: object too deep for desired array"
                ]
              }
            ],
            "_view_module": "@jupyter-widgets/output",
            "_model_module_version": "1.0.0",
            "_view_count": null,
            "_view_module_version": "1.0.0",
            "layout": "IPY_MODEL_c0e4fb8fc422404d8f13d919987ed090",
            "_model_module": "@jupyter-widgets/output"
          }
        },
        "0a4c9c7423824ec4bd7265b99bde25cb": {
          "model_module": "@jupyter-widgets/controls",
          "model_name": "SliderStyleModel",
          "state": {
            "_view_name": "StyleView",
            "handle_color": null,
            "_model_name": "SliderStyleModel",
            "description_width": "",
            "_view_module": "@jupyter-widgets/base",
            "_model_module_version": "1.5.0",
            "_view_count": null,
            "_view_module_version": "1.2.0",
            "_model_module": "@jupyter-widgets/controls"
          }
        },
        "217ac63b10594482a3af10853f90991c": {
          "model_module": "@jupyter-widgets/base",
          "model_name": "LayoutModel",
          "state": {
            "_view_name": "LayoutView",
            "grid_template_rows": null,
            "right": null,
            "justify_content": null,
            "_view_module": "@jupyter-widgets/base",
            "overflow": null,
            "_model_module_version": "1.2.0",
            "_view_count": null,
            "flex_flow": null,
            "width": null,
            "min_width": null,
            "border": null,
            "align_items": null,
            "bottom": null,
            "_model_module": "@jupyter-widgets/base",
            "top": null,
            "grid_column": null,
            "overflow_y": null,
            "overflow_x": null,
            "grid_auto_flow": null,
            "grid_area": null,
            "grid_template_columns": null,
            "flex": null,
            "_model_name": "LayoutModel",
            "justify_items": null,
            "grid_row": null,
            "max_height": null,
            "align_content": null,
            "visibility": null,
            "align_self": null,
            "height": null,
            "min_height": null,
            "padding": null,
            "grid_auto_rows": null,
            "grid_gap": null,
            "max_width": null,
            "order": null,
            "_view_module_version": "1.2.0",
            "grid_template_areas": null,
            "object_position": null,
            "object_fit": null,
            "grid_auto_columns": null,
            "margin": null,
            "display": null,
            "left": null
          }
        },
        "c0e4fb8fc422404d8f13d919987ed090": {
          "model_module": "@jupyter-widgets/base",
          "model_name": "LayoutModel",
          "state": {
            "_view_name": "LayoutView",
            "grid_template_rows": null,
            "right": null,
            "justify_content": null,
            "_view_module": "@jupyter-widgets/base",
            "overflow": null,
            "_model_module_version": "1.2.0",
            "_view_count": null,
            "flex_flow": null,
            "width": null,
            "min_width": null,
            "border": null,
            "align_items": null,
            "bottom": null,
            "_model_module": "@jupyter-widgets/base",
            "top": null,
            "grid_column": null,
            "overflow_y": null,
            "overflow_x": null,
            "grid_auto_flow": null,
            "grid_area": null,
            "grid_template_columns": null,
            "flex": null,
            "_model_name": "LayoutModel",
            "justify_items": null,
            "grid_row": null,
            "max_height": null,
            "align_content": null,
            "visibility": null,
            "align_self": null,
            "height": null,
            "min_height": null,
            "padding": null,
            "grid_auto_rows": null,
            "grid_gap": null,
            "max_width": null,
            "order": null,
            "_view_module_version": "1.2.0",
            "grid_template_areas": null,
            "object_position": null,
            "object_fit": null,
            "grid_auto_columns": null,
            "margin": null,
            "display": null,
            "left": null
          }
        },
        "956ac020017c4ded946248bc976431f7": {
          "model_module": "@jupyter-widgets/controls",
          "model_name": "VBoxModel",
          "state": {
            "_view_name": "VBoxView",
            "_dom_classes": [
              "widget-interact"
            ],
            "_model_name": "VBoxModel",
            "_view_module": "@jupyter-widgets/controls",
            "_model_module_version": "1.5.0",
            "_view_count": null,
            "_view_module_version": "1.5.0",
            "box_style": "",
            "layout": "IPY_MODEL_7ada7bdec6934256ad7310dba430576a",
            "_model_module": "@jupyter-widgets/controls",
            "children": [
              "IPY_MODEL_86b1189e176545edaf0a4e420a031a7d",
              "IPY_MODEL_52ff524067914551ada3ad135700fe4a"
            ]
          }
        },
        "7ada7bdec6934256ad7310dba430576a": {
          "model_module": "@jupyter-widgets/base",
          "model_name": "LayoutModel",
          "state": {
            "_view_name": "LayoutView",
            "grid_template_rows": null,
            "right": null,
            "justify_content": null,
            "_view_module": "@jupyter-widgets/base",
            "overflow": null,
            "_model_module_version": "1.2.0",
            "_view_count": null,
            "flex_flow": null,
            "width": null,
            "min_width": null,
            "border": null,
            "align_items": null,
            "bottom": null,
            "_model_module": "@jupyter-widgets/base",
            "top": null,
            "grid_column": null,
            "overflow_y": null,
            "overflow_x": null,
            "grid_auto_flow": null,
            "grid_area": null,
            "grid_template_columns": null,
            "flex": null,
            "_model_name": "LayoutModel",
            "justify_items": null,
            "grid_row": null,
            "max_height": null,
            "align_content": null,
            "visibility": null,
            "align_self": null,
            "height": null,
            "min_height": null,
            "padding": null,
            "grid_auto_rows": null,
            "grid_gap": null,
            "max_width": null,
            "order": null,
            "_view_module_version": "1.2.0",
            "grid_template_areas": null,
            "object_position": null,
            "object_fit": null,
            "grid_auto_columns": null,
            "margin": null,
            "display": null,
            "left": null
          }
        },
        "86b1189e176545edaf0a4e420a031a7d": {
          "model_module": "@jupyter-widgets/controls",
          "model_name": "IntSliderModel",
          "state": {
            "_view_name": "IntSliderView",
            "style": "IPY_MODEL_d62171136f084fa98f22315f99a9723f",
            "_dom_classes": [],
            "description": "t",
            "step": 1,
            "_model_name": "IntSliderModel",
            "orientation": "horizontal",
            "max": 50,
            "_view_module": "@jupyter-widgets/controls",
            "_model_module_version": "1.5.0",
            "value": 23,
            "_view_count": null,
            "disabled": false,
            "_view_module_version": "1.5.0",
            "min": 1,
            "continuous_update": true,
            "readout_format": "d",
            "description_tooltip": null,
            "readout": true,
            "_model_module": "@jupyter-widgets/controls",
            "layout": "IPY_MODEL_8bd7173423e3430692194e99d2116e2e"
          }
        },
        "52ff524067914551ada3ad135700fe4a": {
          "model_module": "@jupyter-widgets/output",
          "model_name": "OutputModel",
          "state": {
            "_view_name": "OutputView",
            "msg_id": "",
            "_dom_classes": [],
            "_model_name": "OutputModel",
            "outputs": [
              {
                "output_type": "display_data",
                "metadata": {
                  "tags": [],
                  "needs_background": "light"
                },
                "image/png": "iVBORw0KGgoAAAANSUhEUgAAAmgAAAJDCAYAAAC/hOi8AAAABHNCSVQICAgIfAhkiAAAAAlwSFlzAAALEgAACxIB0t1+/AAAADh0RVh0U29mdHdhcmUAbWF0cGxvdGxpYiB2ZXJzaW9uMy4yLjIsIGh0dHA6Ly9tYXRwbG90bGliLm9yZy+WH4yJAAAgAElEQVR4nO3dfaxteX3f98/XDI5VmIohPE2YwTN2B1SI6BhGJFKC5RbsgBWZYKkU/vCzMkYybaymirGRGstVJOoYW02TOhkrqESysUkJAbkkNriprUrFYcB0DMY8D2JGw5PBBuyYGPj1j7OPZ99zz/PZa6/fb63XS7q656x9z97r7r3Wb733b+19drXWAgBAP75u7hUAAOBaAg0AoDMCDQCgMwINAKAzAg0AoDMCDQCgMzsJtKp6bVV9uqreu7XssVX1tqr60ObvmzbLq6r+UVV9uKruq6pn7WIdAACWYlczaP97khccWfbKJL/RWrsjyW9svk+SFya5Y/Pn7iQ/v6N1AABYhJ0EWmvtt5J87sjiFyV53ebr1yX5W1vL/0U78I4kj6mqm3exHgAASzDla9Ce2Fp7aPP1J5M8cfP1k5N8YuvfPbBZBgBAkhv2cSOttVZVF/pMqaq6OwenQPOfPOpRz77jqU+bZN0AAHbp//udd3+2tfb4q1zHlIH2qaq6ubX20OYU5qc3yx9McuvWv7tls+warbV7ktyTJHc+69ntbb/12xOuKgDAbjzhxkd+/KrXMeUpzrck+b7N19+X5M1by793827Ov5rkj7ZOhQIArN5OZtCq6vVJvi3J46rqgSR/P8mrk7yhqn4oyceTvGTzz9+a5DuTfDjJnyT5gV2sAwDAUuwk0FprLzvhoucd829bkh/Zxe0CACyRTxIAAOiMQAMA6IxAAwDojEADAOiMQAMA6IxAAwDojEADAOiMQAMA6IxAAwDojEADAOiMQAMA6IxAAwDojEADAOiMQAMA6IxAAwDojEADAOiMQAMA6IxAAwDojEADAOiMQAMA6IxAAwDojEADAOiMQAMA6IxAAwDojEADAOiMQAMA6IxAAwDojEADAOiMQAMA6IxAAwDojEADAOiMQAMA6IxAAwDojEADAOiMQAMA6IxAAwDojEADAOiMQAMA6IxAAwDojEADAOiMQAMA6IxAAwDojEADAOiMQAMA6IxAAwDojEADAOiMQAMA6IxAAwDojEADAOiMQAMA6IxAAwDojEADAOiMQAMA6IxAAwDojEADAOiMQAMA6IxAAwDojEADAOiMQAMA6MwNU155VT0tya9sLfqmJP9jksck+dtJPrNZ/hOttbdOuS4AAKOYNNBaax9IcmeSVNUjkjyY5E1JfiDJz7XWfmbK2wcAGNE+T3E+L8lHWmsf3+NtAgAMZ5+B9tIkr9/6/hVVdV9VvbaqbtrjegAAdG0vgVZVX5/ku5L8y82in0/yzTk4/flQktcc8zN3V9W9VXXvH3z2s/tYTQCALuxrBu2FSd7dWvtUkrTWPtVa+2pr7WtJfiHJc47+QGvtntbaXa21u/7i4x63p9UEAJjfvgLtZdk6vVlVN29d9uIk793TegAAdG/Sd3EmSVU9Ksm3J/nhrcU/XVV3JmlJ7j9yGQDAqk0eaK21P07yF48s+56pbxcAYFQ+SQAAoDMCDQCgMwINAKAzAg0AoDMCDQCgMwINAKAzAg0AoDMCDQCgMwINAKAzAg0AoDMCDQCgMwINAKAzAg0AoDMCDQCgMwINAKAzAg0AoDMCDQCgMwINAKAzAg0AoDMCDQCgMwINAKAzAg0AoDMCDQCgMwINAKAzAg0AoDMCDQCgMwINAKAzAg0AoDMCDQCgMzfMvQLA2D75h3869ypwxJMe8w1zrwJwRQINFkAksW3O7UEcwm4INNgTEcUaTLmdiz/WRKDBCQQV9GXX+6Tgo2cCjcUSWMBprjpGCDymJNDontACenTZsUnYcR4Cjb0TXMCaXWQMFHPrJdDYCdEFsHtibr0EGicSXQDjEHPLItBWSHgBrNt5jwNCbj4CbWHEFwC7cp5jioibhkAbjAADoCcibhoCrTMCDIClOe3YJt6OJ9BmIMIY0f2f/+O5V4Eruu2mR829CnCds46Jaw04gTYBAca+iSfOYx/biQhk19Y6+ybQLkmEcVWiiiXa1XYt9DiPJcebQDuDEOMsQgt27yr7lbgjOfn4PUq4CbQNIUYitmAJLrMfi7r1GCXcVh1oomwdRBdwlouME2JumY42wdzBtspAE2bjE13AXM47/gi5sX3yD/901khbXaCJs/6JL2AJhNz4DpthjlBbTaAJsz6IL4BrnTUuCrj5zTGbtopAE2f7I8A4j/s+/cW5V2EIz3zCjXOvAh0QcH3Y92za4gNNnO2eCFsu4dSXfT0eQnBsAm6/9jWbtuhAE2eXJ8LGIqy4il1tP0KvT6eN5+LtcvYRaYsNNHF2NhHWH6HFyK6y/Yq7eZx0HBBuZ5s60hYXaMLsekJsPoILzuei+4qgm5ZwO58pI21xgbZmQmw/RBfM77z7oZDbLeF2vakibVGBtqbZMzE2DfEFyyLk9mPt4TZFpC0m0JYcZ2JsN8QXcJKzxgcBdznHHb+WGm27jrTJA62q7k/yxSRfTfKV1tpdVfXYJL+S5LYk9yd5SWvt85e9jSXFmRi7GhEGTEHA7c6So22XkbavGbT/srX22a3vX5nkN1prr66qV26+/7HLXPHIcSbGLk6AjeO+BzxWU3vmLaKgF6eNTeLtbEePh0sJtquY6xTni5J82+br1yX5v3OJQBstzgTZ+QmxeYiqsezy8RJ70xFvFzfyLNuu2mQfgdaS/HpVtST/rLV2T5InttYe2lz+ySRP3MN67J0gO5sQm4bQ4qIuu80Iu6s5aQwUbtdb2yzbPgLtr7fWHqyqJyR5W1X9/vaFrbW2ibdrVNXdSe5Okltufcp1V9rj7JkgO5kQuxrBRa8usm2KufMTbmdberBNHmittQc3f3+6qt6U5DlJPlVVN7fWHqqqm5N8+pifuyfJPUly57OefU3A9RJngux4Yuz8hBdrct7tXcid7LjxVbQdWFqwTRpoVfWoJF/XWvvi5uvvSPJTSd6S5PuSvHrz95unXI9dEWTXE2OnE2BwcefZb0Tcw0Tb8baP2SPG2tQzaE9M8qaqOrytX2qt/duqemeSN1TVDyX5eJKXnPcK9z17JsoeJsauJ8BgHqfte+JNtB014uzapIHWWvtokv/imOV/kOR5U972VYgyMbZNhMFYxNvxjo7rgu1Ar7E21CcJTDV7JsgEWSLERvKhj1/691rv1R3feNPcq8AR4u1hgu1Ar7E2VKDt2prDbK1BJsL2Y5SAmto+7gcRuDsnjQ9rCTenRR/ugh5CbZhA2/Xs2dribI1BJsauTmj17zKPkai7mOPGkjVG25pi7f7P//HskTZMoHFxa4oyMXZ+oouLbANi7nhrjLa1nRKdO9KGCLQ/+8p1v8f2SpY8e7aWKBNkxxNf7Np5tikRd2Bt0bbW2bV9GSLQdmlpcbaGIBNjDxNg9EjEnezo+LXUYFtqrM05i7a6QFuCpUfZ2oNMhLFEp23Xa4q3NcyyLS3W5oq0VQXayLNnS46yNQaZCIOHnbQ/rCXctsdAsdanOSJtNYE2apwtNczWFGViDC5njeG25FOiS4m1fVlNoI1kiVG2liATYzC94/azpUbbUmfXDo9zI4XavmfRVhFoo8yeLS3Mlh5lYqwPn/jYZ+ZehWvcevvj516FVTq6Py4x2JYYa2bVTraKQOvdksJsyVEmyHant6japV3/3wTf5Sx9lm3JsdZzqO1zFm3xgdbr7Jko65sYu5glB9fcLnrfCrqTLXWWbWmxNkKo7cPiA603wqxfouxkAmwcZz1WAu5hSwy2JcVar6G2r1k0gbYnSwmzJUWZILuWCFuH0x7ntcfb9piwpFgTamNadKD1cnpzCXG2lDBbe5SJME5z0vaxxnBbUqwtZVZtbaG26ECbmzDrwxqjTIixS2sPtyXGmlC7mn2c5lxsoM05eybM5remKBNjzOW4bW/p0baUWFtKqC15Nm2xgTaX0eNMmPVPkNGzNUXbEmJt9FDrYTZtKgJtR4TZfJYeZYKM0W1vw0uPNaE2jzlm06Y+zSnQdmDkOBNmfRJlLNXRbXtpwbaEUBs50pLlzKYtMtD2+fozcbZ/SwwzQcZaLXV2beTTn2bT+rDIQNsHYbZ/SwszUQbXWurs2qizaiOH2hIiTaBdwqhxJszmJ8rg/JY2uzZyqI0aacm0pzynfB3a101yrQsmzvbnQx///GLi7BMf+4w4gytY0j404rg24jHk0KjH7cXNoE35+rNRH+QRd6wRB7CjlnIw6c2X7v/g3KtwIY++7alzr8KiHO5Xo8+ojTib5pTnfi0u0KYizvZDmK3baPF1Huf5P4m4i1tSqI0Uacm4pzxHI9DOQZztx+hxJszOZ4kRdlWn3Sfi7XRLCLVRZ9NGi7SpZtGmeh2aQDuDOJueMFsuMXZ1J92Hwu1aS3hDwWizaSJtWgLtFOJseiPHmTC7lhjbr6P3t2B72Cc+9hmRticibToCbWHE2X6IswOirB+C7Vojn/oUadMbIdIW9Ws2dvkOzhFnz8TZ9Jb0Vv/L+tL9H/zzP/TL43Rg1P11tDFypOPPod6P82bQjtH7g3ackXaO0QaeQ6MO9Luw9oP86LYfvzXOrI06mzbaTBq7tagZtLUSZ9NbY5yZgVmmNT+uI+7HI42ZIx2LDvU8ISPQjuj5wRrdSAPNobWd0lzzwXuN1vhYj7g/jzR2jhhpuzDFL8kXaIMbZWcYaYA5NOJAfllrPFDzsLU9/iPu2yONoaMclw71OjEj0Lb0+iCdZLSdYCQjDuCXtaYDM6dbU6iNuI+PFGlcnUBjcqMNKiMO3JexpoMxF7OWbWPEfX2U8XS0CYQeJ2gE2kaPD85pRtn4RxlM1mQtB1+ubg3byYiRxjosJtCmeIEe67P0wXoNB1x2aw1BP9p+P8oT31EmEg71NlGzmEC7it4elLOMstGPMogcGm2Qvog1HGSZ1tK3nyXv/4xJoEGWPTgv/cDK/tiW+jHaE2AuTqAxCYNHHxxQ2bUlb1NLfqI2l1HO+Bzq6YyaQBvMaBv7CJY6KC/5QMq8bFt98ER42VYfaD3V8lIYNObnAMrUlrqNLfUJ25xMLFzO6gONdVviYLzUAyf9Weq2NtK44Anx7vUycSPQBuJZCNCbpUYazE2gsVMjPZsb6VnyeTlYMgfbHez+97GuOtB6mcaEXXCQhN1Z4hO4OTkDdHGrDjQAdsMThPmMdOaC8xNorNLSnh07OAIsi0AbxAjTw57Fwbot7YnC0p7IMRaBBoNb2kERAIHGCnlWDNPxhGEezmAsj0ADACY3wkt1eiLQYGBmK2BaZtyZi0BjJ0yvA4c8cYCrE2gAAJ0RaANw3n53lnS6wiwFwHJNFmhVdWtV/buq+r2qel9V/Z3N8p+sqger6j2bP9851ToAAIzohgmv+ytJ/m5r7d1VdWOSd1XV2zaX/Vxr7WcmvG0AZvSl+z+YR9/21LlXA4Y12Qxaa+2h1tq7N19/Mcn7kzx5qtsDgDXzZq1l2ctr0KrqtiTfkuS3N4teUVX3VdVrq+qmfawDAFzGkl67yjgmD7SqenSSNyb50dbaF5L8fJJvTnJnkoeSvOaEn7u7qu6tqns//7nPTr2aAADdmDTQquqROYizX2yt/askaa19qrX21dba15L8QpLnHPezrbV7Wmt3tdbuuumxj5tyNWE43sEJsGxTvouzkvzzJO9vrf3s1vKbt/7Zi5O8d6p1AAC4qPs+Pf+vt5ryXZx/Lcn3JPndqnrPZtlPJHlZVd2ZpCW5P8kPT7gOAEAn7nvgi3nmLTfOvRpDmCzQWmv/T5I65qK3TnWbAABL4JMEAJiE10rC5Qk0AIDOCDQAgM4INFbDL5sEYBQCjSvz8SIAsFsCDQCgMwINAKAzAg0AoDMCDQCgMwINAKAzAg0AoDMCDQCgMwINAKAzAg0AoDMCDQCgMwINBvOl+z849yoAMDGBBgDQGYEGANAZgQYA0BmBBgDQGYEGANAZgQYA0BmBBgDQGYEGANAZgQYA0BmBBgDQGYEGANAZgQYA0BmBBgDQGYEGANAZgQYA0BmBBgDQGYEGANAZgQYA0BmBBgDQGYEGANAZgQYA0BmBBgDQGYEGANAZgQYA0BmBBgDQGYEGANAZgQYA0BmBBgDQGYEGANAZgQYA0BmBBgDQGYEGANAZgQYA0BmBBgDQGYEGANAZgQYA0BmBBgDQGYEGANAZgQYA0BmBBgDQGYEGANAZgQYA0BmBBgDQmdkCrapeUFUfqKoPV9Ur51oPAIDezBJoVfWIJP8kyQuTPD3Jy6rq6XOsCwBAb+aaQXtOkg+31j7aWvuPSX45yYtmWhcAgK7MFWhPTvKJre8f2CwDAFi9bt8kUFV3V9W9VXXv5z/32blXBwBgb+YKtAeT3Lr1/S2bZX+utXZPa+2u1tpdNz32cXtdOQCAOc0VaO9MckdV3V5VX5/kpUneMtO6AAB05YY5brS19pWqekWSX0vyiCSvba29b451AQDozSyBliSttbcmeetctw8A0Ktu3yQAALBWAg0AoDMCDQCgMwINAKAzAg0AoDMCDQCgMwINAKAzAg0AoDMCDQCgMwINAKAzAg0AoDMCDQCgMwINAKAzAg0AoDMCDQCgMwINAKAzAg0AoDMCDQCgMwINAKAzAg0AoDMCDQCgMwINAKAzAg0AoDMCDQCgMwINAKAzAg0AoDMCDQCgMwINAKAzAg0AoDMCDQCgMwINAKAzAg0AoDMCDQCgMwINAKAzAg0AoDMCDQCgMwINAKAzAg0G8+jbnjr3KgAwMYEGANAZgQYA0BmBBgDQGYEGANAZgQYA0BmBBgDQGYEGANAZgQYA0BmBBgDQGYEGANAZgQYA0BmBxpXd8Y03zb0KALAoAo3VuPX2x8+9CgBwLgINAKAzAg2ASTz6tqfOvQowLIEGANAZgQYA7MUzb7lx7lUYhkADAOiMQAMA2PLMJ8w/0yfQYEBefA2wbAINAKAzkwRaVf3Dqvr9qrqvqt5UVY/ZLL+tqv5DVb1n8+efTnH7ALArfsk1c5hqBu1tSf5ya+2ZST6Y5Me3LvtIa+3OzZ+XT3T7AMzIafj987F7yzJJoLXWfr219pXNt+9IcssUtwMAsET7eA3aDyb5N1vf315Vv1NVv1lVz93D7Q/P743ZnSWdqjBDAbBcN1z2B6vq7UmedMxFr2qtvXnzb16V5CtJfnFz2UNJntJa+4OqenaSf11Vz2itfeGY6787yd1JcvOTb73sagIADOfSgdZae/5pl1fV9yf5m0me11prm5/5cpIvb75+V1V9JMlTk9x7zPXfk+SeJHnGM5/VLrue7Mcd33hTPvTxz8+9GkAHzO7C1U31Ls4XJPl7Sb6rtfYnW8sfX1WP2Hz9TUnuSPLRKdYBAK5qSS+LYCxTvQbtHye5Mcnbjvw6jW9Ncl9VvSfJ/5Hk5a21z020DrB4ZioAlunSpzhP01r7z05Y/sYkb5ziNuG8br398fnExz4z92rAInnSMI8RfsWGN7xdjE8SAADojECDwZmxAFgegTaIEaaGR5hiB6aztCcL3iDAnAQaq7S0gXdpB0aAtVt1oD3zCf3PSsF5iTTmtLTtb6QncSOcvRjhLFBvVh1oAFzd0uIMLuO2mx610+sTaAMZ4RnICM/kDo30DPm8HCgBlkGgwcKINPZpidvbSE/eRnpSPIpeXv4k0Ni5kQaMkQbii1jiQZP+2M44jxHO/vRo9YHWSymflw2d83LwZEpL3b6W+qSN8aw+0GDJA/JSD6LMy3bVh5HOVnBxAo1JjDZwiDQ4nyVvT0seB+Yy2lmfns6qCbT09YCcx2gbPPNb8kGV/VnydjRanI32JJiLW0yg7fr3j3B1ow0gow3QF7XkgyvTevRtT1309rP0fX8uJhOuZjGBtjajbPgirS9LP9Cye7aX/ow2ro6it7NpAm2jtweG+Sw90hKhxtnWso2Mtr+PEmejTCL0TKANbJQdYJQBZdtog/ZlreEAzMWsJcyS9eznnK3HSRqBtqXHB2gpRFq/1nRA5mRr2w5G3L9HGUdHmTzonUAb3Eg7wiiDy7YRB/HLWtsBmgNrfNxH3K9HHD9H0evkjEA7otcH6jQibVojDuZXcXjAXttBe03W+hjfevvjh9yfRxo3Rzoe7dIUv0lCoB1DpE1rpMHm0KgD+1Wt9UC+RGt/LEfdf0caL0c6Dh3q+Xh/w9wrwDrd8Y035UMf//zcq3Fht97++HziY5+ZezVmsX1g/9L9H5xxTTivtcbYtlHDLBFnU+s5zpKFzaDtcoqx9wfuOKPtICMNPtvWOpu2be2zMT3z2Dxs5P10pPFxtGPPKBYVaLsm0qY30iB01MiD/y5tB4EomIf7/3oj758jj4ujGOH47hTnGZ75hBtz36e/OPdqXMgzb7kx9z0wzjqPerozefggsNbTnsc5LhKcEt0NAXY2YbY/o00IHBohzhKBdi4ibXqHA5NQW6bTwkK8XU+IXczIUXZInO3HFHE21WeBC7RzEmn7MfJsWiLULmON8SbAdmMJYZaIs30ZZebskEBbuMMdaaRQG302LRFqu3LRkJkz6ETX/giz+Yiz/VlcoN1206Ny/+f/eJLrHnEW7ZDZtHlsH0jE2vRE0rIJs3mJs/1aXKBN7fCBHjHURo20ZOzZtENm1eDilhJlh0aMs1HDLBk3zhKBdmmjzqaNeMozWWaoHRJscK2lRVkyZpgl4uwsU71BIBFoVzJqpCVjzqYlywq1Q06DgijrjTCb3yIDbcrXoR01eqQl482mJcsMtUSssR5LDLJDwmw+S4mzZKGBtm8jvy4tEWq9ciqUpVlylCVjh1kiznoj0HZo5Nm0ZNzTnsm1A+MSYy0RbIxn6UF2SJjNa64wm/L1Z8mCA22fpzm3LWU2LRlzRi1ZR6wlxx/8RBtzWUuMHRo9ypLxwyxZ3qzZtsUG2txGD7Vk7FOfh9YSa4dEG1NbW4htW0KUJcJsF6aePUsE2uSEWj/WFmuHTjqgCjdOs+YQ2ybK+jJ3mO3TogNtrtOcxxn99WnJckItWW+sbTvtACze1kOIXWspQXZImI1r0YHWmyXMpiXLeJ3aNrF2PfG2HALsbEuLskSYTWkfpzeTFQRaT7Noh5YSasmyYy0RbMc57wFfyE1LeF3eEoMsWU6UJX2G2b4tPtB6tr0BirU+HTeQi7bzuUpArCnuhNb0lhpkybKiLOk/zPY1e5asJNB6nEU7akmzaskyY+2QWbbpiRYua8kxdkiUrcMqAm0kS5tVS5Yda4lZNpjLGmIsWV6QHRotzPY5e5asKNBGmEU7ammzasnyY+3QSQcO4QaXs5YYOyTKWE2gjWyJs2rJ9QPQkoPtkNk2ON3aQmzbUqMsGT/M9j17lqws0EacRTtqqbGWrDPYktMPSOKNJVpzhB1acowdGj3K5raqQEuWEWmHlhxryXqDbdtZBzIBR69E2LXWEGTJMqNsjtmzZJBAe+QNNfcqdG/psZYcP8CtMdq2CTjmIL7OJsiWYa44SwYJtF1b0izacY7uMEsNtkS0neW8B1IhRyK8LmstMXZo6VF2aM44S1YaaMnyI23bGmbXtom2i7vMgVnU9U9w7d7aYixZT5D1ZphAe9JjviGf/MM/3el1rinSDq1pdm2baNu9XRz8Rd7JxNW81hhi29YeZXPPniUDBdpUth+EtcVast5gS04fgMXbfogQ5rb2EEvE2KEeomzbUIE2xSzatrXHWnL8jrqmaDt00qAt3GA8IuxaguxAb0F21FCBtk9i7WFrnmU76qyBXsDBPETY8cTYtXqPsm3DBdrUs2jHOfqACjazbCcRcDANAXY+gux6I0XZtuECLZkn0rYJtuuJtvM5z0FGxLE24uvihNjJRg2yo4YMtN4ItuOdNIAIt9Nd5GAl5uiV6NodMXa6pQTZUcMG2tyzaKcRbKcTbrtz0YOgoOMyxNZ+CLHzWWqQHTVZoFXVTyb520k+s1n0E621t24u+/EkP5Tkq0n+u9bar13mNnqOtG2C7XyE2/SueqAVeGMSWP0QYRe3liA7auoZtJ9rrf3M9oKqenqSlyZ5RpK/lOTtVfXU1tpXL3MDo0TatuM2NtF2stMGNPG2X/s40K8xAgXU8gixy1lCjD3pMd+wk+uZ4xTni5L8cmvty0k+VlUfTvKcJP/vDOvSDbNslyPelkesMAIBdnVLiLGjdhVnyfSB9oqq+t4k9yb5u621zyd5cpJ3bP2bBzbLLm3EWbSzmGW7urMGUAEHnESA7dYSY+yoXcZZcsVAq6q3J3nSMRe9KsnPJ/mfkrTN369J8oMXuO67k9ydJLfc+pQz//0SI+2okzZw4XY55xmARRwsj/ia1hpi7Khdx1lyxUBrrT3/PP+uqn4hya9uvn0wya1bF9+yWXb0uu9Jck+S3PmsZ7fz3M4aIu04Ztumc96BXMjB/ITXfq0xxPZpyndx3txae2jz7YuTvHfz9VuS/FJV/WwO3iRwR5J/v6vbXWukHWW2bb8ucmAQc3B+omt+Qux0U8yeJdO+Bu2nq+rOHJzivD/JDydJa+19VfWGJL+X5CtJfuSy7+A8iUg72Wk7mnjbj8secIQdoxNbfRNiFzNVmB2q1s519nBWdz7r2e1tv/XbF/45kbYbwm0ZBB5XJbDGJ8J246w4e8KNj3xXa+2uq9zGsJ8kcB5m0nbDrNsy7PrgKvj6JqbWS4RNa+qZs0OLDrTk4TtSqE3jrIFAwC3XqAFw0bAc9f/Jcgmw+ewrzpIVBNohs2nzEHD0RnDROwHWp33GWbKiQEtEWo/OMxCJOGApxNd49h1mh1YVaIlTniM674Am5IC5CK9lmivOkhUG2iGzactzkQFSzAFnEV3rNWeYHVptoCUnPwDCbfkuOvAKOlgG0cVRPcTYcVYdaCcRbhx1mUFd1MF0hBYX0WuEnUagXcBpD7B446hdHEBEHkslsJjCiCF2EoG2I+KNKUxxEBN9XJSYoidLirDTCLQ9OGtjEnDsUw8HW5F4fj08XrBPawmwsyRol3MAAAqTSURBVAi0Dph9Y21EB6ybCDubQOuc2TcARiPArk6gDU7AAbBP4ms/BNrCnXdHEnIAiK9+CDSSXGynFHMA4xBdYxJoXJiYA5iX6Fo+gcakxBzA+Ygutgk0unHRwUnQAb0SW1yVQGNYVxkAxR1wFpHFnAQaq7SrgVfoQZ/EFaMTaHAFUx0EhB9rIKLgZAINOrSPA5cI5DTiCeYl0GClRj8AjxCYo9/HwHwEGjAk8QMs2dfNvQIAAFxLoAEAdEagAQB0RqABAHRGoAEAdEagAQB0RqABAHRGoAEAdEagAQB0RqABAHRGoAEAdEagAQB0RqABAHRGoAEAdEagAQB0RqABAHRGoAEAdEagAQB0RqABAHRGoAEAdEagAQB0RqABAHRGoAEAdEagAQB0RqABAHRGoAEAdEagAQB0RqABAHRGoAEAdEagAQB0RqABAHRGoAEAdEagAQB0RqABAHTmhimutKp+JcnTNt8+JskfttburKrbkrw/yQc2l72jtfbyKdYBAGBUkwRaa+2/Ofy6ql6T5I+2Lv5Ia+3OKW4XAGAJJgm0Q1VVSV6S5L+a8nYAAJZk6tegPTfJp1prH9padntV/U5V/WZVPXfi2wcAGM6lZ9Cq6u1JnnTMRa9qrb158/XLkrx+67KHkjyltfYHVfXsJP+6qp7RWvvCMdd/d5K7k+SWW59y2dUEABjOpQOttfb80y6vqhuSfHeSZ2/9zJeTfHnz9buq6iNJnprk3mOu/54k9yTJnc96drvsegIAjGbKU5zPT/L7rbUHDhdU1eOr6hGbr78pyR1JPjrhOgAADGfKNwm8NNee3kySb03yU1X1Z0m+luTlrbXPTbgOAADDmSzQWmvff8yyNyZ541S3CQCwBD5JAACgMwINAKAzAg0AoDMCDQCgMwINAKAzAg0AoDMCDQCgMwINAKAzAg0AoDMCDQCgMwINAKAzAg0AoDMCDQCgMwINAKAzAg0AoDMCDQCgMwINAKAzAg0AoDMCDQCgMwINAKAzAg0AoDMCDQCgMwINAKAzAg0AoDMCDQCgMwINAKAzAg0AoDMCDQCgMwINAKAzAg0AoDMCDQCgMwINAKAzAg0AoDMCDQCgMwINAKAzAg0AoDMCDQCgMwINAKAzAg0AoDMCDQCgMwINAKAzAg0AoDMCDQCgMwINAKAzAg0AoDMCDQCgMwINAKAzAg0AoDMCDQCgMwINAKAzAg0AoDMCDQCgMwINAKAzAg0AoDMCDQCgMwINAKAzAg0AoDMCDQCgMwINAKAzVwq0qvqvq+p9VfW1qrrryGU/XlUfrqoPVNXf2Fr+gs2yD1fVK69y+wAAS3TVGbT3JvnuJL+1vbCqnp7kpUmekeQFSf63qnpEVT0iyT9J8sIkT0/yss2/BQBg44ar/HBr7f1JUlVHL3pRkl9urX05yceq6sNJnrO57MOttY9ufu6XN//2966yHgAASzLVa9CenOQTW98/sFl20nIAADbOnEGrqrcnedIxF72qtfbm3a/Sn9/u3Unu3nz75Sfc+Mj3TnVbA3tcks/OvRIdcr8cz/1yPffJ8dwvx3O/HM/9cr2nXfUKzgy01trzL3G9Dya5dev7WzbLcsryo7d7T5J7kqSq7m2t3XXcv1sz98vx3C/Hc79cz31yPPfL8dwvx3O/XK+q7r3qdUx1ivMtSV5aVX+hqm5PckeSf5/knUnuqKrbq+rrc/BGgrdMtA4AAEO60psEqurFSf7XJI9P8n9W1Xtaa3+jtfa+qnpDDl78/5UkP9Ja++rmZ16R5NeSPCLJa1tr77vS/wAAYGGu+i7ONyV50wmX/YMk/+CY5W9N8tYL3tQ9F1+7VXC/HM/9cjz3y/XcJ8dzvxzP/XI898v1rnyfVGttFysCAMCO+KgnAIDOdBdoPj7qbFX1K1X1ns2f+6vqPZvlt1XVf9i67J/Ova77VFU/WVUPbv3/v3PrsmO3naWrqn9YVb9fVfdV1Zuq6jGb5aveVpL1jRsnqapbq+rfVdXvbcbev7NZfuL+tAabsfV3N//3ezfLHltVb6uqD23+vmnu9dynqnra1vbwnqr6QlX96Bq3lap6bVV9uqreu7Xs2O2jDvyjzVhzX1U961y30dspzqr6z5N8Lck/S/I/tNYOd4ynJ3l9Dj6R4C8leXuSp25+7INJvj0Hv/j2nUle1lpbxacTVNVrkvxRa+2nquq2JL/aWvvL867VPKrqJ5N8qbX2M0eWH7vtHL5xZcmq6juS/F+tta9U1f+cJK21H7Ot1COy4nFjW1XdnOTm1tq7q+rGJO9K8reSvCTH7E9rUVX3J7mrtfbZrWU/neRzrbVXb6L+ptbaj821jnPa7EMPJvkrSX4gK9tWqupbk3wpyb84HEdP2j42wfrfJvnOHNxf/0tr7a+cdRvdzaC11t7fWvvAMRf9+cdHtdY+luTw46Oek83HR7XW/mOSw4+PWryqqhwMoq+fe106d9K2s3ittV9vrX1l8+07cvC7B1nxuHFUa+2h1tq7N19/Mcn74xNeTvKiJK/bfP26HITsWj0vyUdaax+fe0Xm0Fr7rSSfO7L4pO3jRTkIudZae0eSx2yeGJ2qu0A7hY+Put5zk3yqtfahrWW3V9XvVNVvVtVz51qxGb1iM4X82q3TD2veRrb9YJJ/s/X9mrcV28QxNjOr35LktzeLjtuf1qIl+fWqelcdfLJNkjyxtfbQ5utPJnniPKvWhZfm2smBNW8rh07aPi413swSaFX19qp67zF/VvkM9jjnvI9elmt3kIeSPKW19i1J/vskv1RV/+k+13tqZ9wvP5/km5PcmYP74jWzruyenGdbqapX5eB3Ev7iZtHitxUupqoeneSNSX60tfaFrHR/2vLXW2vPSvLCJD+yOaX159rB64P6eo3QntTBL5r/riT/crNo7dvKdXaxfVzp96Bd1lwfHzWSs+6jqrohyXcnefbWz3w5yZc3X7+rqj6Sg9fpXfkjJ3px3m2nqn4hya9uvj1t2xneObaV70/yN5M8bzNorGJbOcOit4mLqqpH5iDOfrG19q+SpLX2qa3Lt/enVWitPbj5+9NV9aYcnBb/VFXd3Fp7aHOK6tOzruR8Xpjk3YfbyNq3lS0nbR+XGm9GOsXp46Ou9fwkv99ae+BwQVU9fvPCzVTVN+XgPvroTOu3d0fO6b84yeG7a07adhavql6Q5O8l+a7W2p9sLV/1tpL1jhvX2byW9Z8neX9r7We3lp+0Py1eVT1q84aJVNWjknxHDv7/b0nyfZt/9n1J3jzPGs7umrM3a95Wjjhp+3hLku/dvJvzr+bgjX0PHXcF22aZQTtN+fio8zp6/j9JvjXJT1XVn+XgnbAvb60dfRHjkv10Vd2Zg2nl+5P8cJKctu2swD9O8heSvO3gOJx3tNZenpVvK5t3ta5x3DjOX0vyPUl+tza/sifJTyR52XH700o8McmbNvvMDUl+qbX2b6vqnUneUFU/lOTjOXiT1qpsgvXbc+32cOzYu2RV9fok35bkcVX1QJK/n+TVOX77eGsO3sH54SR/koN3vZ59G739mg0AgLUb6RQnAMAqCDQAgM4INACAzgg0AIDOCDQAgM4INACAzgg0AIDOCDQAgM78/7VeGNKtsRdXAAAAAElFTkSuQmCC\n",
                "text/plain": "<Figure size 720x720 with 1 Axes>"
              }
            ],
            "_view_module": "@jupyter-widgets/output",
            "_model_module_version": "1.0.0",
            "_view_count": null,
            "_view_module_version": "1.0.0",
            "layout": "IPY_MODEL_ba1a446eb779454a8be872e19a568d66",
            "_model_module": "@jupyter-widgets/output"
          }
        },
        "d62171136f084fa98f22315f99a9723f": {
          "model_module": "@jupyter-widgets/controls",
          "model_name": "SliderStyleModel",
          "state": {
            "_view_name": "StyleView",
            "handle_color": null,
            "_model_name": "SliderStyleModel",
            "description_width": "",
            "_view_module": "@jupyter-widgets/base",
            "_model_module_version": "1.5.0",
            "_view_count": null,
            "_view_module_version": "1.2.0",
            "_model_module": "@jupyter-widgets/controls"
          }
        },
        "8bd7173423e3430692194e99d2116e2e": {
          "model_module": "@jupyter-widgets/base",
          "model_name": "LayoutModel",
          "state": {
            "_view_name": "LayoutView",
            "grid_template_rows": null,
            "right": null,
            "justify_content": null,
            "_view_module": "@jupyter-widgets/base",
            "overflow": null,
            "_model_module_version": "1.2.0",
            "_view_count": null,
            "flex_flow": null,
            "width": null,
            "min_width": null,
            "border": null,
            "align_items": null,
            "bottom": null,
            "_model_module": "@jupyter-widgets/base",
            "top": null,
            "grid_column": null,
            "overflow_y": null,
            "overflow_x": null,
            "grid_auto_flow": null,
            "grid_area": null,
            "grid_template_columns": null,
            "flex": null,
            "_model_name": "LayoutModel",
            "justify_items": null,
            "grid_row": null,
            "max_height": null,
            "align_content": null,
            "visibility": null,
            "align_self": null,
            "height": null,
            "min_height": null,
            "padding": null,
            "grid_auto_rows": null,
            "grid_gap": null,
            "max_width": null,
            "order": null,
            "_view_module_version": "1.2.0",
            "grid_template_areas": null,
            "object_position": null,
            "object_fit": null,
            "grid_auto_columns": null,
            "margin": null,
            "display": null,
            "left": null
          }
        },
        "ba1a446eb779454a8be872e19a568d66": {
          "model_module": "@jupyter-widgets/base",
          "model_name": "LayoutModel",
          "state": {
            "_view_name": "LayoutView",
            "grid_template_rows": null,
            "right": null,
            "justify_content": null,
            "_view_module": "@jupyter-widgets/base",
            "overflow": null,
            "_model_module_version": "1.2.0",
            "_view_count": null,
            "flex_flow": null,
            "width": null,
            "min_width": null,
            "border": null,
            "align_items": null,
            "bottom": null,
            "_model_module": "@jupyter-widgets/base",
            "top": null,
            "grid_column": null,
            "overflow_y": null,
            "overflow_x": null,
            "grid_auto_flow": null,
            "grid_area": null,
            "grid_template_columns": null,
            "flex": null,
            "_model_name": "LayoutModel",
            "justify_items": null,
            "grid_row": null,
            "max_height": null,
            "align_content": null,
            "visibility": null,
            "align_self": null,
            "height": null,
            "min_height": null,
            "padding": null,
            "grid_auto_rows": null,
            "grid_gap": null,
            "max_width": null,
            "order": null,
            "_view_module_version": "1.2.0",
            "grid_template_areas": null,
            "object_position": null,
            "object_fit": null,
            "grid_auto_columns": null,
            "margin": null,
            "display": null,
            "left": null
          }
        },
        "d43d6841c7be400981af469a7a1d7884": {
          "model_module": "@jupyter-widgets/controls",
          "model_name": "VBoxModel",
          "state": {
            "_view_name": "VBoxView",
            "_dom_classes": [
              "widget-interact"
            ],
            "_model_name": "VBoxModel",
            "_view_module": "@jupyter-widgets/controls",
            "_model_module_version": "1.5.0",
            "_view_count": null,
            "_view_module_version": "1.5.0",
            "box_style": "",
            "layout": "IPY_MODEL_dd5f20c862464cd1bb68547711b9e9e1",
            "_model_module": "@jupyter-widgets/controls",
            "children": [
              "IPY_MODEL_8bb1ceb32c6d41a9888be0f1a0f1f857",
              "IPY_MODEL_095f371774fe444182a5f25a832fb5c7"
            ]
          }
        },
        "dd5f20c862464cd1bb68547711b9e9e1": {
          "model_module": "@jupyter-widgets/base",
          "model_name": "LayoutModel",
          "state": {
            "_view_name": "LayoutView",
            "grid_template_rows": null,
            "right": null,
            "justify_content": null,
            "_view_module": "@jupyter-widgets/base",
            "overflow": null,
            "_model_module_version": "1.2.0",
            "_view_count": null,
            "flex_flow": null,
            "width": null,
            "min_width": null,
            "border": null,
            "align_items": null,
            "bottom": null,
            "_model_module": "@jupyter-widgets/base",
            "top": null,
            "grid_column": null,
            "overflow_y": null,
            "overflow_x": null,
            "grid_auto_flow": null,
            "grid_area": null,
            "grid_template_columns": null,
            "flex": null,
            "_model_name": "LayoutModel",
            "justify_items": null,
            "grid_row": null,
            "max_height": null,
            "align_content": null,
            "visibility": null,
            "align_self": null,
            "height": null,
            "min_height": null,
            "padding": null,
            "grid_auto_rows": null,
            "grid_gap": null,
            "max_width": null,
            "order": null,
            "_view_module_version": "1.2.0",
            "grid_template_areas": null,
            "object_position": null,
            "object_fit": null,
            "grid_auto_columns": null,
            "margin": null,
            "display": null,
            "left": null
          }
        },
        "8bb1ceb32c6d41a9888be0f1a0f1f857": {
          "model_module": "@jupyter-widgets/controls",
          "model_name": "IntSliderModel",
          "state": {
            "_view_name": "IntSliderView",
            "style": "IPY_MODEL_53ba49776d3345ecbee7436c068c0b09",
            "_dom_classes": [],
            "description": "t",
            "step": 1,
            "_model_name": "IntSliderModel",
            "orientation": "horizontal",
            "max": 50,
            "_view_module": "@jupyter-widgets/controls",
            "_model_module_version": "1.5.0",
            "value": 25,
            "_view_count": null,
            "disabled": false,
            "_view_module_version": "1.5.0",
            "min": 0,
            "continuous_update": true,
            "readout_format": "d",
            "description_tooltip": null,
            "readout": true,
            "_model_module": "@jupyter-widgets/controls",
            "layout": "IPY_MODEL_6c90be9ad91c4c26a5562fdb4becdc54"
          }
        },
        "095f371774fe444182a5f25a832fb5c7": {
          "model_module": "@jupyter-widgets/output",
          "model_name": "OutputModel",
          "state": {
            "_view_name": "OutputView",
            "msg_id": "",
            "_dom_classes": [],
            "_model_name": "OutputModel",
            "outputs": [
              {
                "output_type": "display_data",
                "metadata": {
                  "tags": [],
                  "needs_background": "light"
                },
                "image/png": "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\n",
                "text/plain": "<Figure size 432x288 with 1 Axes>"
              }
            ],
            "_view_module": "@jupyter-widgets/output",
            "_model_module_version": "1.0.0",
            "_view_count": null,
            "_view_module_version": "1.0.0",
            "layout": "IPY_MODEL_a44aa98bd2014e6d9debe9fc785c8a8e",
            "_model_module": "@jupyter-widgets/output"
          }
        },
        "53ba49776d3345ecbee7436c068c0b09": {
          "model_module": "@jupyter-widgets/controls",
          "model_name": "SliderStyleModel",
          "state": {
            "_view_name": "StyleView",
            "handle_color": null,
            "_model_name": "SliderStyleModel",
            "description_width": "",
            "_view_module": "@jupyter-widgets/base",
            "_model_module_version": "1.5.0",
            "_view_count": null,
            "_view_module_version": "1.2.0",
            "_model_module": "@jupyter-widgets/controls"
          }
        },
        "6c90be9ad91c4c26a5562fdb4becdc54": {
          "model_module": "@jupyter-widgets/base",
          "model_name": "LayoutModel",
          "state": {
            "_view_name": "LayoutView",
            "grid_template_rows": null,
            "right": null,
            "justify_content": null,
            "_view_module": "@jupyter-widgets/base",
            "overflow": null,
            "_model_module_version": "1.2.0",
            "_view_count": null,
            "flex_flow": null,
            "width": null,
            "min_width": null,
            "border": null,
            "align_items": null,
            "bottom": null,
            "_model_module": "@jupyter-widgets/base",
            "top": null,
            "grid_column": null,
            "overflow_y": null,
            "overflow_x": null,
            "grid_auto_flow": null,
            "grid_area": null,
            "grid_template_columns": null,
            "flex": null,
            "_model_name": "LayoutModel",
            "justify_items": null,
            "grid_row": null,
            "max_height": null,
            "align_content": null,
            "visibility": null,
            "align_self": null,
            "height": null,
            "min_height": null,
            "padding": null,
            "grid_auto_rows": null,
            "grid_gap": null,
            "max_width": null,
            "order": null,
            "_view_module_version": "1.2.0",
            "grid_template_areas": null,
            "object_position": null,
            "object_fit": null,
            "grid_auto_columns": null,
            "margin": null,
            "display": null,
            "left": null
          }
        },
        "a44aa98bd2014e6d9debe9fc785c8a8e": {
          "model_module": "@jupyter-widgets/base",
          "model_name": "LayoutModel",
          "state": {
            "_view_name": "LayoutView",
            "grid_template_rows": null,
            "right": null,
            "justify_content": null,
            "_view_module": "@jupyter-widgets/base",
            "overflow": null,
            "_model_module_version": "1.2.0",
            "_view_count": null,
            "flex_flow": null,
            "width": null,
            "min_width": null,
            "border": null,
            "align_items": null,
            "bottom": null,
            "_model_module": "@jupyter-widgets/base",
            "top": null,
            "grid_column": null,
            "overflow_y": null,
            "overflow_x": null,
            "grid_auto_flow": null,
            "grid_area": null,
            "grid_template_columns": null,
            "flex": null,
            "_model_name": "LayoutModel",
            "justify_items": null,
            "grid_row": null,
            "max_height": null,
            "align_content": null,
            "visibility": null,
            "align_self": null,
            "height": null,
            "min_height": null,
            "padding": null,
            "grid_auto_rows": null,
            "grid_gap": null,
            "max_width": null,
            "order": null,
            "_view_module_version": "1.2.0",
            "grid_template_areas": null,
            "object_position": null,
            "object_fit": null,
            "grid_auto_columns": null,
            "margin": null,
            "display": null,
            "left": null
          }
        },
        "fdbb011c71384ab1a6e680a956cf98a7": {
          "model_module": "@jupyter-widgets/controls",
          "model_name": "VBoxModel",
          "state": {
            "_view_name": "VBoxView",
            "_dom_classes": [
              "widget-interact"
            ],
            "_model_name": "VBoxModel",
            "_view_module": "@jupyter-widgets/controls",
            "_model_module_version": "1.5.0",
            "_view_count": null,
            "_view_module_version": "1.5.0",
            "box_style": "",
            "layout": "IPY_MODEL_38033e97633d42f6815eb9812cfdd890",
            "_model_module": "@jupyter-widgets/controls",
            "children": [
              "IPY_MODEL_ff6d1ab8d330435094cb090b13c95ae3",
              "IPY_MODEL_30289ecd264948ffa294feb7c67e0503"
            ]
          }
        },
        "38033e97633d42f6815eb9812cfdd890": {
          "model_module": "@jupyter-widgets/base",
          "model_name": "LayoutModel",
          "state": {
            "_view_name": "LayoutView",
            "grid_template_rows": null,
            "right": null,
            "justify_content": null,
            "_view_module": "@jupyter-widgets/base",
            "overflow": null,
            "_model_module_version": "1.2.0",
            "_view_count": null,
            "flex_flow": null,
            "width": null,
            "min_width": null,
            "border": null,
            "align_items": null,
            "bottom": null,
            "_model_module": "@jupyter-widgets/base",
            "top": null,
            "grid_column": null,
            "overflow_y": null,
            "overflow_x": null,
            "grid_auto_flow": null,
            "grid_area": null,
            "grid_template_columns": null,
            "flex": null,
            "_model_name": "LayoutModel",
            "justify_items": null,
            "grid_row": null,
            "max_height": null,
            "align_content": null,
            "visibility": null,
            "align_self": null,
            "height": null,
            "min_height": null,
            "padding": null,
            "grid_auto_rows": null,
            "grid_gap": null,
            "max_width": null,
            "order": null,
            "_view_module_version": "1.2.0",
            "grid_template_areas": null,
            "object_position": null,
            "object_fit": null,
            "grid_auto_columns": null,
            "margin": null,
            "display": null,
            "left": null
          }
        },
        "ff6d1ab8d330435094cb090b13c95ae3": {
          "model_module": "@jupyter-widgets/controls",
          "model_name": "IntSliderModel",
          "state": {
            "_view_name": "IntSliderView",
            "style": "IPY_MODEL_16dd5a9501724381a5cb9604e56a2db3",
            "_dom_classes": [],
            "description": "x",
            "step": 1,
            "_model_name": "IntSliderModel",
            "orientation": "horizontal",
            "max": 99,
            "_view_module": "@jupyter-widgets/controls",
            "_model_module_version": "1.5.0",
            "value": -1,
            "_view_count": null,
            "disabled": false,
            "_view_module_version": "1.5.0",
            "min": -100,
            "continuous_update": true,
            "readout_format": "d",
            "description_tooltip": null,
            "readout": true,
            "_model_module": "@jupyter-widgets/controls",
            "layout": "IPY_MODEL_dfd30f1f296f4ea88480cb56d12e5ecc"
          }
        },
        "30289ecd264948ffa294feb7c67e0503": {
          "model_module": "@jupyter-widgets/output",
          "model_name": "OutputModel",
          "state": {
            "_view_name": "OutputView",
            "msg_id": "",
            "_dom_classes": [],
            "_model_name": "OutputModel",
            "outputs": [
              {
                "output_type": "display_data",
                "metadata": {
                  "tags": [],
                  "needs_background": "light"
                },
                "image/png": "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\n",
                "text/plain": "<Figure size 432x288 with 1 Axes>"
              }
            ],
            "_view_module": "@jupyter-widgets/output",
            "_model_module_version": "1.0.0",
            "_view_count": null,
            "_view_module_version": "1.0.0",
            "layout": "IPY_MODEL_e45de77c7ee24845ad0abed74774df35",
            "_model_module": "@jupyter-widgets/output"
          }
        },
        "16dd5a9501724381a5cb9604e56a2db3": {
          "model_module": "@jupyter-widgets/controls",
          "model_name": "SliderStyleModel",
          "state": {
            "_view_name": "StyleView",
            "handle_color": null,
            "_model_name": "SliderStyleModel",
            "description_width": "",
            "_view_module": "@jupyter-widgets/base",
            "_model_module_version": "1.5.0",
            "_view_count": null,
            "_view_module_version": "1.2.0",
            "_model_module": "@jupyter-widgets/controls"
          }
        },
        "dfd30f1f296f4ea88480cb56d12e5ecc": {
          "model_module": "@jupyter-widgets/base",
          "model_name": "LayoutModel",
          "state": {
            "_view_name": "LayoutView",
            "grid_template_rows": null,
            "right": null,
            "justify_content": null,
            "_view_module": "@jupyter-widgets/base",
            "overflow": null,
            "_model_module_version": "1.2.0",
            "_view_count": null,
            "flex_flow": null,
            "width": null,
            "min_width": null,
            "border": null,
            "align_items": null,
            "bottom": null,
            "_model_module": "@jupyter-widgets/base",
            "top": null,
            "grid_column": null,
            "overflow_y": null,
            "overflow_x": null,
            "grid_auto_flow": null,
            "grid_area": null,
            "grid_template_columns": null,
            "flex": null,
            "_model_name": "LayoutModel",
            "justify_items": null,
            "grid_row": null,
            "max_height": null,
            "align_content": null,
            "visibility": null,
            "align_self": null,
            "height": null,
            "min_height": null,
            "padding": null,
            "grid_auto_rows": null,
            "grid_gap": null,
            "max_width": null,
            "order": null,
            "_view_module_version": "1.2.0",
            "grid_template_areas": null,
            "object_position": null,
            "object_fit": null,
            "grid_auto_columns": null,
            "margin": null,
            "display": null,
            "left": null
          }
        },
        "e45de77c7ee24845ad0abed74774df35": {
          "model_module": "@jupyter-widgets/base",
          "model_name": "LayoutModel",
          "state": {
            "_view_name": "LayoutView",
            "grid_template_rows": null,
            "right": null,
            "justify_content": null,
            "_view_module": "@jupyter-widgets/base",
            "overflow": null,
            "_model_module_version": "1.2.0",
            "_view_count": null,
            "flex_flow": null,
            "width": null,
            "min_width": null,
            "border": null,
            "align_items": null,
            "bottom": null,
            "_model_module": "@jupyter-widgets/base",
            "top": null,
            "grid_column": null,
            "overflow_y": null,
            "overflow_x": null,
            "grid_auto_flow": null,
            "grid_area": null,
            "grid_template_columns": null,
            "flex": null,
            "_model_name": "LayoutModel",
            "justify_items": null,
            "grid_row": null,
            "max_height": null,
            "align_content": null,
            "visibility": null,
            "align_self": null,
            "height": null,
            "min_height": null,
            "padding": null,
            "grid_auto_rows": null,
            "grid_gap": null,
            "max_width": null,
            "order": null,
            "_view_module_version": "1.2.0",
            "grid_template_areas": null,
            "object_position": null,
            "object_fit": null,
            "grid_auto_columns": null,
            "margin": null,
            "display": null,
            "left": null
          }
        },
        "a43fd828d9e844e29c8b9a944e612d26": {
          "model_module": "@jupyter-widgets/controls",
          "model_name": "VBoxModel",
          "state": {
            "_view_name": "VBoxView",
            "_dom_classes": [
              "widget-interact"
            ],
            "_model_name": "VBoxModel",
            "_view_module": "@jupyter-widgets/controls",
            "_model_module_version": "1.5.0",
            "_view_count": null,
            "_view_module_version": "1.5.0",
            "box_style": "",
            "layout": "IPY_MODEL_3646673e589a499a8618d450589b2fb8",
            "_model_module": "@jupyter-widgets/controls",
            "children": [
              "IPY_MODEL_2b8a078e66f248c49b2899f212a94865",
              "IPY_MODEL_3357201d51c6406380f636a04b83a95e"
            ]
          }
        },
        "3646673e589a499a8618d450589b2fb8": {
          "model_module": "@jupyter-widgets/base",
          "model_name": "LayoutModel",
          "state": {
            "_view_name": "LayoutView",
            "grid_template_rows": null,
            "right": null,
            "justify_content": null,
            "_view_module": "@jupyter-widgets/base",
            "overflow": null,
            "_model_module_version": "1.2.0",
            "_view_count": null,
            "flex_flow": null,
            "width": null,
            "min_width": null,
            "border": null,
            "align_items": null,
            "bottom": null,
            "_model_module": "@jupyter-widgets/base",
            "top": null,
            "grid_column": null,
            "overflow_y": null,
            "overflow_x": null,
            "grid_auto_flow": null,
            "grid_area": null,
            "grid_template_columns": null,
            "flex": null,
            "_model_name": "LayoutModel",
            "justify_items": null,
            "grid_row": null,
            "max_height": null,
            "align_content": null,
            "visibility": null,
            "align_self": null,
            "height": null,
            "min_height": null,
            "padding": null,
            "grid_auto_rows": null,
            "grid_gap": null,
            "max_width": null,
            "order": null,
            "_view_module_version": "1.2.0",
            "grid_template_areas": null,
            "object_position": null,
            "object_fit": null,
            "grid_auto_columns": null,
            "margin": null,
            "display": null,
            "left": null
          }
        },
        "2b8a078e66f248c49b2899f212a94865": {
          "model_module": "@jupyter-widgets/controls",
          "model_name": "IntSliderModel",
          "state": {
            "_view_name": "IntSliderView",
            "style": "IPY_MODEL_8e4864c291ed42cfbc6003af77a3983b",
            "_dom_classes": [],
            "description": "x",
            "step": 1,
            "_model_name": "IntSliderModel",
            "orientation": "horizontal",
            "max": 99,
            "_view_module": "@jupyter-widgets/controls",
            "_model_module_version": "1.5.0",
            "value": -25,
            "_view_count": null,
            "disabled": false,
            "_view_module_version": "1.5.0",
            "min": -100,
            "continuous_update": true,
            "readout_format": "d",
            "description_tooltip": null,
            "readout": true,
            "_model_module": "@jupyter-widgets/controls",
            "layout": "IPY_MODEL_ad87271c7e0141218132cd003eb582da"
          }
        },
        "3357201d51c6406380f636a04b83a95e": {
          "model_module": "@jupyter-widgets/output",
          "model_name": "OutputModel",
          "state": {
            "_view_name": "OutputView",
            "msg_id": "",
            "_dom_classes": [],
            "_model_name": "OutputModel",
            "outputs": [
              {
                "output_type": "display_data",
                "metadata": {
                  "tags": [],
                  "needs_background": "light"
                },
                "image/png": "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\n",
                "text/plain": "<Figure size 432x288 with 1 Axes>"
              }
            ],
            "_view_module": "@jupyter-widgets/output",
            "_model_module_version": "1.0.0",
            "_view_count": null,
            "_view_module_version": "1.0.0",
            "layout": "IPY_MODEL_7ac8ae54c0f547cb8f41decae35987a4",
            "_model_module": "@jupyter-widgets/output"
          }
        },
        "8e4864c291ed42cfbc6003af77a3983b": {
          "model_module": "@jupyter-widgets/controls",
          "model_name": "SliderStyleModel",
          "state": {
            "_view_name": "StyleView",
            "handle_color": null,
            "_model_name": "SliderStyleModel",
            "description_width": "",
            "_view_module": "@jupyter-widgets/base",
            "_model_module_version": "1.5.0",
            "_view_count": null,
            "_view_module_version": "1.2.0",
            "_model_module": "@jupyter-widgets/controls"
          }
        },
        "ad87271c7e0141218132cd003eb582da": {
          "model_module": "@jupyter-widgets/base",
          "model_name": "LayoutModel",
          "state": {
            "_view_name": "LayoutView",
            "grid_template_rows": null,
            "right": null,
            "justify_content": null,
            "_view_module": "@jupyter-widgets/base",
            "overflow": null,
            "_model_module_version": "1.2.0",
            "_view_count": null,
            "flex_flow": null,
            "width": null,
            "min_width": null,
            "border": null,
            "align_items": null,
            "bottom": null,
            "_model_module": "@jupyter-widgets/base",
            "top": null,
            "grid_column": null,
            "overflow_y": null,
            "overflow_x": null,
            "grid_auto_flow": null,
            "grid_area": null,
            "grid_template_columns": null,
            "flex": null,
            "_model_name": "LayoutModel",
            "justify_items": null,
            "grid_row": null,
            "max_height": null,
            "align_content": null,
            "visibility": null,
            "align_self": null,
            "height": null,
            "min_height": null,
            "padding": null,
            "grid_auto_rows": null,
            "grid_gap": null,
            "max_width": null,
            "order": null,
            "_view_module_version": "1.2.0",
            "grid_template_areas": null,
            "object_position": null,
            "object_fit": null,
            "grid_auto_columns": null,
            "margin": null,
            "display": null,
            "left": null
          }
        },
        "7ac8ae54c0f547cb8f41decae35987a4": {
          "model_module": "@jupyter-widgets/base",
          "model_name": "LayoutModel",
          "state": {
            "_view_name": "LayoutView",
            "grid_template_rows": null,
            "right": null,
            "justify_content": null,
            "_view_module": "@jupyter-widgets/base",
            "overflow": null,
            "_model_module_version": "1.2.0",
            "_view_count": null,
            "flex_flow": null,
            "width": null,
            "min_width": null,
            "border": null,
            "align_items": null,
            "bottom": null,
            "_model_module": "@jupyter-widgets/base",
            "top": null,
            "grid_column": null,
            "overflow_y": null,
            "overflow_x": null,
            "grid_auto_flow": null,
            "grid_area": null,
            "grid_template_columns": null,
            "flex": null,
            "_model_name": "LayoutModel",
            "justify_items": null,
            "grid_row": null,
            "max_height": null,
            "align_content": null,
            "visibility": null,
            "align_self": null,
            "height": null,
            "min_height": null,
            "padding": null,
            "grid_auto_rows": null,
            "grid_gap": null,
            "max_width": null,
            "order": null,
            "_view_module_version": "1.2.0",
            "grid_template_areas": null,
            "object_position": null,
            "object_fit": null,
            "grid_auto_columns": null,
            "margin": null,
            "display": null,
            "left": null
          }
        }
      }
    }
  },
  "cells": [
    {
      "cell_type": "markdown",
      "metadata": {
        "id": "9XF-TuNgXuA0"
      },
      "source": [
        "# Fourier methods for solvinge PDEs\r\n",
        "In the problem set you looked the diffusion advection equation and how thios can be solved by Fourier methods. You solved this for an initial condition of a point source of dye.\r\n",
        "\r\n",
        "In the second part you looked at generalising this method and found that for a general initial condition the evolution can be expressed through convolutions. This workbook allows you to investigate some standard example numerically."
      ]
    },
    {
      "cell_type": "markdown",
      "metadata": {
        "id": "rsPKEaz7-ABt"
      },
      "source": [
        "## Initialisation code\r\n",
        "\r\n",
        "These few cells produce some functions for finding (to a good approximation) the various functions that we're interested in.  You don't need to understand the details of how any of this works, but feel free to ask.\r\n",
        "\r\n",
        "**You need to run all the cells in this section for anything to work.**"
      ]
    },
    {
      "cell_type": "code",
      "metadata": {
        "id": "f3fHrzs7-JGn"
      },
      "source": [
        "%matplotlib inline\r\n",
        "from matplotlib import pyplot\r\n",
        "import matplotlib\r\n",
        "import scipy.signal\r\n",
        "import numpy as np\r\n",
        "import ipywidgets"
      ],
      "execution_count": 1,
      "outputs": []
    },
    {
      "cell_type": "markdown",
      "metadata": {
        "id": "5Z3jdTNpEv2C"
      },
      "source": [
        "### Initial conditions"
      ]
    },
    {
      "cell_type": "code",
      "metadata": {
        "id": "ve5VqHWY_Ldp"
      },
      "source": [
        "def top_hat(x, width, amplitude = 1, centre = 0):\r\n",
        "  r\"\"\"\r\n",
        "    Generate a top hat function \r\n",
        "    \"\"\"\r\n",
        "  th = np.zeros(x.shape)\r\n",
        "  th[(x >= centre - width/2) & (x < centre + width/2)] = amplitude\r\n",
        "  return th\r\n",
        "\r\n",
        "def top_hat2D(x, y, width_x, width_y, centre = 0, amplitude = 1):\r\n",
        "  return top_hat(x, width_x, amplitude, centre) * top_hat(y, width_y, amplitude, centre)\r\n",
        "\r\n",
        "def approximateDiracDelta(x, amplitude = 1, centre = 0):\r\n",
        "  r\"\"\"\r\n",
        "    Generate a narrow top hat to approximate a delta\r\n",
        "    \"\"\"\r\n",
        "  return top_hat(x, 1, amplitude, centre)\r\n",
        "\r\n",
        "def approximateDiracDelta2D(x, y, amplitude = 1, centre = 0):\r\n",
        "  r\"\"\"\r\n",
        "    Generate a narrow top hat to approximate a delta\r\n",
        "    \"\"\"\r\n",
        "  return top_hat2D(x, y, 1, 1, centre, amplitude)\r\n",
        "\r\n",
        "def gauss_function(x, a, x0, sigma):\r\n",
        "  r\"\"\"\r\n",
        "    Generate a narrow top hat to approximate a delta\r\n",
        "    \"\"\"\r\n",
        "  return a / (np.sqrt(2 * np.pi) * sigma) * np.exp(-(x-x0)**2/(2*sigma**2))\r\n",
        "\r\n",
        "def gauss_function2D(x,y,a,x0,y0,sigma_x, sigma_y):\r\n",
        "  z = (1/(2*np.pi*sigma_x*sigma_y) * np.exp(-((x-x0)**2/(2*sigma_x**2)\r\n",
        "     + (y-y0)**2/(2*sigma_y**2))))\r\n",
        "  return z\r\n"
      ],
      "execution_count": 2,
      "outputs": []
    },
    {
      "cell_type": "markdown",
      "metadata": {
        "id": "5MHMIM4oE2kO"
      },
      "source": [
        "### Diffusion equations"
      ]
    },
    {
      "cell_type": "code",
      "metadata": {
        "id": "mlo2LJ2UAOiN"
      },
      "source": [
        "def diffusion1D(x, D, t = 0, x0 = 0, a = 1):\r\n",
        "  r'''\r\n",
        "  returns a Gaussian this is to be convolved with the initial condition\r\n",
        "  '''\r\n",
        "  #if t == 0: # treat time point one as a delta\r\n",
        "  #  g = approximateDiracDelta(x)\r\n",
        "  #else:\r\n",
        "  sigma = np.sqrt(2 * D * t)\r\n",
        "  g = gauss_function(x, a, x0, sigma)\r\n",
        "  return g\r\n",
        "\r\n",
        "def diffusion2D(x, y, Dx, Dy, t = 0, x0 = 0, y0= 0, a = 1):\r\n",
        "  r'''\r\n",
        "  returns a Gaussian this is to be convolved with the initial condition\r\n",
        "  '''\r\n",
        "  #if t == 0: # treat time point one as a delta\r\n",
        "  #  g = approximateDiracDelta2D(x, y, amplitude = 1, centre = 0)\r\n",
        "  #else:\r\n",
        "  sigma_x = np.sqrt(2 * Dx * t)\r\n",
        "  sigma_y = np.sqrt(2 * Dy * t)\r\n",
        "  g = gauss_function2D(x,y,a,x0,y0,sigma_x, sigma_y)\r\n",
        "  return g\r\n",
        "\r\n",
        "def getDiffusionAsFunctionOfTime(xs, ts, n0, g, D, c = 0):\r\n",
        "  gs = g(xs, D, ts, x0 = c * ts, a = 1)\r\n",
        "  diffusion = np.apply_along_axis(lambda m: np.convolve(m, n0, mode='same'), axis=0, arr=gs)\r\n",
        "  return diffusion\r\n",
        "\r\n"
      ],
      "execution_count": 3,
      "outputs": []
    },
    {
      "cell_type": "code",
      "metadata": {
        "id": "DEn-iwyIASXx"
      },
      "source": [
        "def diffusionplot(xs, n0, g, t, D = 10, x0 = 0):\r\n",
        "    r\"\"\"\r\n",
        "    Plot a function ``f`` and its Legendre-, Taylor- and Fourier-series\r\n",
        "    approximations of the given order on the interval ..math:`[-1, 1)`.\r\n",
        "    \"\"\"\r\n",
        "    cm = matplotlib.cm.viridis\r\n",
        "    _, axes = pyplot.subplots()\r\n",
        "    gs = g(xs, D, t, x0 = x0)  # np.array([for x in xs])\r\n",
        "    diffusion = np.convolve(gs, n0, mode = 'same')\r\n",
        "    axes.plot(xs, diffusion, label=\"n(x,t)\", linewidth=2)\r\n",
        "    axes.plot(xs, gs, label=\"g(x,t)\", linewidth=2, dashes=(5, 5))\r\n",
        "    axes.plot(xs, n0, label=\"n_0(x)\", linewidth=2, dashes=(5, 5))\r\n",
        "    axes.set_xlim((xs[0] - 0.03*(xs[-1]-xs[0]), xs[-1] + 0.03*(xs[-1]-xs[0])))\r\n",
        "    axes.set_xlabel('x')\r\n",
        "    axes.set_ylabel('n(x,t)')\r\n",
        "    mn, mx = np.min(n0), np.max(n0)\r\n",
        "    axes.legend()\r\n",
        "\r\n",
        "def diffusionplot2D(xs, ys, n0, g, t, Dx = 10, Dy = 1):\r\n",
        "  r\"\"\"\r\n",
        "  Plot a function ``f`` and its Legendre-, Taylor- and Fourier-series\r\n",
        "  approximations of the given order on the interval ..math:`[-1, 1)`.\r\n",
        "  \"\"\"\r\n",
        "  cm = matplotlib.cm.viridis\r\n",
        "  _, axes = pyplot.subplots(figsize = [10,10])\r\n",
        "  gs = g(xs, ys, Dx, Dy, t)  # np.array([for x in xs])\r\n",
        "  diffusion = scipy.signal.convolve2d(gs, n0, mode = 'same')\r\n",
        "  axes.contourf(x, y, diffusion, cmap='Blues')\r\n",
        "\r\n",
        "def diffusionPlotTime(x,xs,ts,diffusion):\r\n",
        "  _, axes = pyplot.subplots()\r\n",
        "  axes.plot(ts[xs==x], diffusion[xs==x])\r\n",
        "  mn, mx = np.min(diffusion), np.max(diffusion)\r\n",
        "  axes.set_ylim((mn - 0.1*(mx-mn), mx + 0.1*(mx-mn)))"
      ],
      "execution_count": 4,
      "outputs": []
    },
    {
      "cell_type": "markdown",
      "metadata": {
        "id": "-64GW_vIfJRE"
      },
      "source": [
        "# Investigating diffusion with different initial conditions"
      ]
    },
    {
      "cell_type": "markdown",
      "metadata": {
        "id": "SUEMqd35fPHD"
      },
      "source": [
        "## Infinitely small point (delta function)"
      ]
    },
    {
      "cell_type": "code",
      "metadata": {
        "colab": {
          "base_uri": "https://localhost:8080/",
          "height": 1000,
          "referenced_widgets": [
            "de8ba534d24744ceb217378f8d25ccd0",
            "17951e5ad7224f43ad3d068e7968b376",
            "27f79d70944a4e9999180b8c6b8a026e",
            "c0148ab96f2f46028f1ee1ee2b1dcc43",
            "4df9f2b8ce094639b4354503b0a2ff9d",
            "f322ffbef8934d25a50529cd6d55f80e",
            "febba0bd66df427cba8be09a5703aded"
          ]
        },
        "id": "trEbNmCDQU1t",
        "outputId": "954e04e5-3cf9-4a27-82ce-a27c7a752ae2"
      },
      "source": [
        "xs = np.linspace(-30, 30, 101)\r\n",
        "\r\n",
        "ipywidgets.interact(\r\n",
        "    lambda t: diffusionplot(xs, approximateDiracDelta(xs), diffusion1D, t, D = 0.1, x0 = 0),\r\n",
        "    t=(1, 50, 1),\r\n",
        ");"
      ],
      "execution_count": 5,
      "outputs": [
        {
          "output_type": "display_data",
          "data": {
            "application/vnd.jupyter.widget-view+json": {
              "model_id": "de8ba534d24744ceb217378f8d25ccd0",
              "version_minor": 0,
              "version_major": 2
            },
            "text/plain": [
              "interactive(children=(IntSlider(value=25, description='t', max=50, min=1), Output()), _dom_classes=('widget-in…"
            ]
          },
          "metadata": {
            "tags": []
          }
        },
        {
          "output_type": "display_data",
          "data": {
            "image/png": "[encoded data removed]",
            "text/plain": [
              "<Figure size 432x288 with 1 Axes>"
            ]
          },
          "metadata": {
            "tags": [],
            "needs_background": "light"
          }
        },
        {
          "output_type": "display_data",
          "data": {
            "image/png": "[encoded data removed]",
            "text/plain": [
              "<Figure size 432x288 with 1 Axes>"
            ]
          },
          "metadata": {
            "tags": [],
            "needs_background": "light"
          }
        },
        {
          "output_type": "display_data",
          "data": {
            "image/png": "[encoded data removed]",
            "text/plain": [
              "<Figure size 432x288 with 1 Axes>"
            ]
          },
          "metadata": {
            "tags": [],
            "needs_background": "light"
          }
        },
        {
          "output_type": "display_data",
          "data": {
            "image/png": "[encoded data removed]",
            "text/plain": [
              "<Figure size 432x288 with 1 Axes>"
            ]
          },
          "metadata": {
            "tags": [],
            "needs_background": "light"
          }
        },
        {
          "output_type": "display_data",
          "data": {
            "image/png": "[encoded data removed]",
            "text/plain": [
              "<Figure size 432x288 with 1 Axes>"
            ]
          },
          "metadata": {
            "tags": [],
            "needs_background": "light"
          }
        }
      ]
    },
    {
      "cell_type": "markdown",
      "metadata": {
        "id": "s1H5Ns-6faRe"
      },
      "source": [
        "## Top hat function"
      ]
    },
    {
      "cell_type": "code",
      "metadata": {
        "colab": {
          "base_uri": "https://localhost:8080/",
          "height": 958,
          "referenced_widgets": [
            "02ed5e0f86a94cc780b500f6535bf76a",
            "658d842ada3b4b4a8a2c6544773699e2",
            "b92783de11ce4d10872edf8bfe1a9a75",
            "6494659c1ac545a39a3184d73480a76b",
            "6e19aac1b35941db8dec5388b41ecb6e",
            "882f14b8faa94da38e818b640bdc0026",
            "dceb27a91d044c7d945993f3ed8c2e2c"
          ]
        },
        "id": "G2iyPAuPJW4j",
        "outputId": "8d517445-f63a-4ad1-f487-a065a80c134c"
      },
      "source": [
        "xs = np.linspace(-50, 50, 101)\r\n",
        "\r\n",
        "ipywidgets.interact(\r\n",
        "    lambda t: diffusionplot(xs, top_hat(xs, 10, 1), diffusion1D, t, D = 0.1),\r\n",
        "    t=(1, 50, 1),\r\n",
        ");"
      ],
      "execution_count": 6,
      "outputs": [
        {
          "output_type": "display_data",
          "data": {
            "application/vnd.jupyter.widget-view+json": {
              "model_id": "02ed5e0f86a94cc780b500f6535bf76a",
              "version_minor": 0,
              "version_major": 2
            },
            "text/plain": [
              "interactive(children=(IntSlider(value=25, description='t', max=50, min=1), Output()), _dom_classes=('widget-in…"
            ]
          },
          "metadata": {
            "tags": []
          }
        },
        {
          "output_type": "display_data",
          "data": {
            "image/png": "[encoded data removed]",
            "text/plain": [
              "<Figure size 432x288 with 1 Axes>"
            ]
          },
          "metadata": {
            "tags": [],
            "needs_background": "light"
          }
        },
        {
          "output_type": "display_data",
          "data": {
            "image/png": "[encoded data removed]",
            "text/plain": [
              "<Figure size 432x288 with 1 Axes>"
            ]
          },
          "metadata": {
            "tags": [],
            "needs_background": "light"
          }
        }
      ]
    },
    {
      "cell_type": "markdown",
      "metadata": {
        "id": "wZxCKK1-ffkj"
      },
      "source": [
        "## Two points next to one another\r\n",
        "Consider two infinitely small ink drops in water seperated by distance r. If the ink diffusesd with constant D consider the time at which the two ink drops become indistiguishable.\r\n",
        "\r\n",
        "**Note:** There are a range of definitions on when two neighbouring Gaussians become indistinguishable. For simplicity consider two Gaussians (of amplitude A) to be seperate when the sum of the two Gaussians at x = 0 is 80 % of the peak amplitude. "
      ]
    },
    {
      "cell_type": "code",
      "metadata": {
        "colab": {
          "base_uri": "https://localhost:8080/",
          "height": 958,
          "referenced_widgets": [
            "8ccfd6caa83b40f09e33d64cb3dab3db",
            "f098125857e549a69d8330287db654e5",
            "f1cc16dea6f4444eb2d323da2f590231",
            "0596ee02c73b4f18958b00f67fe45e6b",
            "0a4c9c7423824ec4bd7265b99bde25cb",
            "217ac63b10594482a3af10853f90991c",
            "c0e4fb8fc422404d8f13d919987ed090"
          ]
        },
        "id": "Pz_EzazIQVh1",
        "outputId": "00dbfec4-a1f6-4cf8-f48a-5cb9fa140374"
      },
      "source": [
        "xs = np.linspace(-30, 30, 101)\r\n",
        "\r\n",
        "ipywidgets.interact(\r\n",
        "    lambda t: diffusionplot(xs, approximateDiracDelta(xs, centre = -5) + approximateDiracDelta(xs, centre = 5), diffusion1D, t, D = 0.1),\r\n",
        "    t=(1, 100, 1),\r\n",
        ");"
      ],
      "execution_count": 7,
      "outputs": [
        {
          "output_type": "display_data",
          "data": {
            "application/vnd.jupyter.widget-view+json": {
              "model_id": "8ccfd6caa83b40f09e33d64cb3dab3db",
              "version_minor": 0,
              "version_major": 2
            },
            "text/plain": [
              "interactive(children=(IntSlider(value=50, description='t', min=1), Output()), _dom_classes=('widget-interact',…"
            ]
          },
          "metadata": {
            "tags": []
          }
        },
        {
          "output_type": "display_data",
          "data": {
            "image/png": "[encoded data removed]",
            "text/plain": [
              "<Figure size 432x288 with 1 Axes>"
            ]
          },
          "metadata": {
            "tags": [],
            "needs_background": "light"
          }
        },
        {
          "output_type": "display_data",
          "data": {
            "image/png": "[encoded data removed]",
            "text/plain": [
              "<Figure size 432x288 with 1 Axes>"
            ]
          },
          "metadata": {
            "tags": [],
            "needs_background": "light"
          }
        }
      ]
    },
    {
      "cell_type": "markdown",
      "metadata": {
        "id": "1amlMrECuB83"
      },
      "source": [
        "# Diffusion in 2D with different coefficients"
      ]
    },
    {
      "cell_type": "code",
      "metadata": {
        "colab": {
          "base_uri": "https://localhost:8080/",
          "height": 628,
          "referenced_widgets": [
            "956ac020017c4ded946248bc976431f7",
            "7ada7bdec6934256ad7310dba430576a",
            "86b1189e176545edaf0a4e420a031a7d",
            "52ff524067914551ada3ad135700fe4a",
            "d62171136f084fa98f22315f99a9723f",
            "8bd7173423e3430692194e99d2116e2e",
            "ba1a446eb779454a8be872e19a568d66"
          ]
        },
        "id": "OOYEtjt9oeQH",
        "outputId": "0fd1a558-9f4e-4b9c-eb7b-0bf3653a7695"
      },
      "source": [
        "size = 100\r\n",
        "x = np.linspace(-100, 100, size)\r\n",
        "y = np.linspace(-100, 100, size)\r\n",
        "x, y = np.meshgrid(x, y)\r\n",
        "\r\n",
        "width_x = 15\r\n",
        "width_y = 100\r\n",
        "\r\n",
        "D_x = 100\r\n",
        "D_y = 2\r\n",
        "\r\n",
        "ipywidgets.interact(\r\n",
        "    lambda t: diffusionplot2D(x,y, top_hat2D(x, y, width_x, width_y), diffusion2D, t, D_x, D_y),\r\n",
        "    t=(1, 50, 1),\r\n",
        ");"
      ],
      "execution_count": 8,
      "outputs": [
        {
          "output_type": "display_data",
          "data": {
            "application/vnd.jupyter.widget-view+json": {
              "model_id": "956ac020017c4ded946248bc976431f7",
              "version_minor": 0,
              "version_major": 2
            },
            "text/plain": [
              "interactive(children=(IntSlider(value=25, description='t', max=50, min=1), Output()), _dom_classes=('widget-in…"
            ]
          },
          "metadata": {
            "tags": []
          }
        }
      ]
    },
    {
      "cell_type": "markdown",
      "metadata": {
        "id": "QNKQPjWYNRkL"
      },
      "source": [
        "# Diffusion advection\r\n",
        "The above methods can be applied in the diffusion advection problem from the problem sheet. Below are examples of n(x,t)  "
      ]
    },
    {
      "cell_type": "markdown",
      "metadata": {
        "id": "6WtUVTETDGTm"
      },
      "source": [
        "## Spatial profile at different times\r\n",
        "### Diffusion from a point"
      ]
    },
    {
      "cell_type": "code",
      "metadata": {
        "colab": {
          "base_uri": "https://localhost:8080/",
          "height": 311,
          "referenced_widgets": [
            "d43d6841c7be400981af469a7a1d7884",
            "dd5f20c862464cd1bb68547711b9e9e1",
            "8bb1ceb32c6d41a9888be0f1a0f1f857",
            "095f371774fe444182a5f25a832fb5c7",
            "53ba49776d3345ecbee7436c068c0b09",
            "6c90be9ad91c4c26a5562fdb4becdc54",
            "a44aa98bd2014e6d9debe9fc785c8a8e"
          ]
        },
        "id": "ykB8Iy9HN5gg",
        "outputId": "1082c15a-cdc5-4717-930d-376edfa9586f"
      },
      "source": [
        "xs = np.linspace(-30, 30, 101)\r\n",
        "c = 0.2\r\n",
        "\r\n",
        "ipywidgets.interact(\r\n",
        "    lambda t: diffusionplot(xs, approximateDiracDelta(xs), diffusion1D, t, D = 0.1, x0 = c * t),\r\n",
        "    t=(0, 50, 1),\r\n",
        ");"
      ],
      "execution_count": 9,
      "outputs": [
        {
          "output_type": "display_data",
          "data": {
            "application/vnd.jupyter.widget-view+json": {
              "model_id": "d43d6841c7be400981af469a7a1d7884",
              "version_minor": 0,
              "version_major": 2
            },
            "text/plain": [
              "interactive(children=(IntSlider(value=25, description='t', max=50), Output()), _dom_classes=('widget-interact'…"
            ]
          },
          "metadata": {
            "tags": []
          }
        }
      ]
    },
    {
      "cell_type": "markdown",
      "metadata": {
        "id": "guBr7xxyDXhe"
      },
      "source": [
        "## Temporal profile at different positions\r\n",
        "### Diffusion from a point"
      ]
    },
    {
      "cell_type": "code",
      "metadata": {
        "colab": {
          "base_uri": "https://localhost:8080/",
          "height": 297,
          "referenced_widgets": [
            "fdbb011c71384ab1a6e680a956cf98a7",
            "38033e97633d42f6815eb9812cfdd890",
            "ff6d1ab8d330435094cb090b13c95ae3",
            "30289ecd264948ffa294feb7c67e0503",
            "16dd5a9501724381a5cb9604e56a2db3",
            "dfd30f1f296f4ea88480cb56d12e5ecc",
            "e45de77c7ee24845ad0abed74774df35"
          ]
        },
        "id": "6--mHWIODiEi",
        "outputId": "557238b4-7b36-43d8-be9c-95c12db1bee1"
      },
      "source": [
        "width = 10\r\n",
        "size = 300\r\n",
        "D = 1\r\n",
        "c = 0.5\r\n",
        "\r\n",
        "xs = np.arange(-100, 100)\r\n",
        "n0 = approximateDiracDelta(xs)\r\n",
        "ts = np.arange(1, 201)\r\n",
        "xs, ts = np.meshgrid(xs, ts)\r\n",
        "diffusionDD = getDiffusionAsFunctionOfTime(xs, ts, n0, diffusion1D, D, c)\r\n",
        "\r\n",
        "\r\n",
        "ipywidgets.interact(\r\n",
        "    lambda x: diffusionPlotTime(x,xs,ts,diffusionDD),\r\n",
        "    x=(np.min(xs), np.max(xs), 1),\r\n",
        ");"
      ],
      "execution_count": 10,
      "outputs": [
        {
          "output_type": "display_data",
          "data": {
            "application/vnd.jupyter.widget-view+json": {
              "model_id": "fdbb011c71384ab1a6e680a956cf98a7",
              "version_minor": 0,
              "version_major": 2
            },
            "text/plain": [
              "interactive(children=(IntSlider(value=-1, description='x', max=99, min=-100), Output()), _dom_classes=('widget…"
            ]
          },
          "metadata": {
            "tags": []
          }
        }
      ]
    },
    {
      "cell_type": "markdown",
      "metadata": {
        "id": "L9YjPRwADiT3"
      },
      "source": [
        "### Diffusion from a top hat"
      ]
    },
    {
      "cell_type": "code",
      "metadata": {
        "id": "VrNxxUpxdk5-",
        "colab": {
          "base_uri": "https://localhost:8080/",
          "height": 297,
          "referenced_widgets": [
            "a43fd828d9e844e29c8b9a944e612d26",
            "3646673e589a499a8618d450589b2fb8",
            "2b8a078e66f248c49b2899f212a94865",
            "3357201d51c6406380f636a04b83a95e",
            "8e4864c291ed42cfbc6003af77a3983b",
            "ad87271c7e0141218132cd003eb582da",
            "7ac8ae54c0f547cb8f41decae35987a4"
          ]
        },
        "outputId": "97df24ed-a2b5-4499-f864-d5ba723418e6"
      },
      "source": [
        "width = 10\r\n",
        "size = 300\r\n",
        "D = 1\r\n",
        "c = 0.5\r\n",
        "\r\n",
        "xs = np.arange(-100, 100)\r\n",
        "n0 = top_hat(xs, width, amplitude = 1, centre = 0)\r\n",
        "ts = np.arange(1, 201)\r\n",
        "xs, ts = np.meshgrid(xs, ts)\r\n",
        "diffusionTH = getDiffusionAsFunctionOfTime(xs, ts, n0, diffusion1D, D, c)\r\n",
        "\r\n",
        "\r\n",
        "ipywidgets.interact(\r\n",
        "    lambda x: diffusionPlotTime(x,xs,ts,diffusionTH),\r\n",
        "    x=(np.min(xs), np.max(xs), 1),\r\n",
        ");\r\n"
      ],
      "execution_count": 11,
      "outputs": [
        {
          "output_type": "display_data",
          "data": {
            "application/vnd.jupyter.widget-view+json": {
              "model_id": "a43fd828d9e844e29c8b9a944e612d26",
              "version_minor": 0,
              "version_major": 2
            },
            "text/plain": [
              "interactive(children=(IntSlider(value=-1, description='x', max=99, min=-100), Output()), _dom_classes=('widget…"
            ]
          },
          "metadata": {
            "tags": []
          }
        }
      ]
    },
    {
      "cell_type": "code",
      "metadata": {
        "id": "BOywoPjwnxbx"
      },
      "source": [
        ""
      ],
      "execution_count": 11,
      "outputs": []
    },
    {
      "cell_type": "code",
      "metadata": {
        "id": "uEXNpfhN7qWx"
      },
      "source": [
        ""
      ],
      "execution_count": 11,
      "outputs": []
    }
  ]
}