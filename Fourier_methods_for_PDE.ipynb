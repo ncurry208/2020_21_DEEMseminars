{
  "nbformat": 4,
  "nbformat_minor": 0,
  "metadata": {
    "colab": {
      "name": "Fourier methods for PDE.ipynb",
      "provenance": [],
      "collapsed_sections": [],
      "toc_visible": true
    },
    "kernelspec": {
      "name": "python3",
      "display_name": "Python 3"
    },
    "widgets": {
      "application/vnd.jupyter.widget-state+json": {
        "9b119e14673d47df8309a897a1b2bce7": {
          "model_module": "@jupyter-widgets/controls",
          "model_name": "VBoxModel",
          "state": {
            "_view_name": "VBoxView",
            "_dom_classes": [
              "widget-interact"
            ],
            "_model_name": "VBoxModel",
            "_view_module": "@jupyter-widgets/controls",
            "_model_module_version": "1.5.0",
            "_view_count": null,
            "_view_module_version": "1.5.0",
            "box_style": "",
            "layout": "IPY_MODEL_31ed899283034454a98b53ef107fb259",
            "_model_module": "@jupyter-widgets/controls",
            "children": [
              "IPY_MODEL_93e0b78f32f643ac8553d4d7026bebbf",
              "IPY_MODEL_18f7bcb0f52040489604f005e1edd901"
            ]
          }
        },
        "31ed899283034454a98b53ef107fb259": {
          "model_module": "@jupyter-widgets/base",
          "model_name": "LayoutModel",
          "state": {
            "_view_name": "LayoutView",
            "grid_template_rows": null,
            "right": null,
            "justify_content": null,
            "_view_module": "@jupyter-widgets/base",
            "overflow": null,
            "_model_module_version": "1.2.0",
            "_view_count": null,
            "flex_flow": null,
            "width": null,
            "min_width": null,
            "border": null,
            "align_items": null,
            "bottom": null,
            "_model_module": "@jupyter-widgets/base",
            "top": null,
            "grid_column": null,
            "overflow_y": null,
            "overflow_x": null,
            "grid_auto_flow": null,
            "grid_area": null,
            "grid_template_columns": null,
            "flex": null,
            "_model_name": "LayoutModel",
            "justify_items": null,
            "grid_row": null,
            "max_height": null,
            "align_content": null,
            "visibility": null,
            "align_self": null,
            "height": null,
            "min_height": null,
            "padding": null,
            "grid_auto_rows": null,
            "grid_gap": null,
            "max_width": null,
            "order": null,
            "_view_module_version": "1.2.0",
            "grid_template_areas": null,
            "object_position": null,
            "object_fit": null,
            "grid_auto_columns": null,
            "margin": null,
            "display": null,
            "left": null
          }
        },
        "93e0b78f32f643ac8553d4d7026bebbf": {
          "model_module": "@jupyter-widgets/controls",
          "model_name": "IntSliderModel",
          "state": {
            "_view_name": "IntSliderView",
            "style": "IPY_MODEL_e1d192690fba491687b5b1e925e6f1ef",
            "_dom_classes": [],
            "description": "t",
            "step": 1,
            "_model_name": "IntSliderModel",
            "orientation": "horizontal",
            "max": 50,
            "_view_module": "@jupyter-widgets/controls",
            "_model_module_version": "1.5.0",
            "value": 25,
            "_view_count": null,
            "disabled": false,
            "_view_module_version": "1.5.0",
            "min": 1,
            "continuous_update": true,
            "readout_format": "d",
            "description_tooltip": null,
            "readout": true,
            "_model_module": "@jupyter-widgets/controls",
            "layout": "IPY_MODEL_a955bad9ed6e48829fe86adaecb1f051"
          }
        },
        "18f7bcb0f52040489604f005e1edd901": {
          "model_module": "@jupyter-widgets/output",
          "model_name": "OutputModel",
          "state": {
            "_view_name": "OutputView",
            "msg_id": "",
            "_dom_classes": [],
            "_model_name": "OutputModel",
            "outputs": [
              {
                "output_type": "display_data",
                "metadata": {
                  "tags": [],
                  "needs_background": "light"
                },
                "image/png": "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\n",
                "text/plain": "<Figure size 432x288 with 1 Axes>"
              }
            ],
            "_view_module": "@jupyter-widgets/output",
            "_model_module_version": "1.0.0",
            "_view_count": null,
            "_view_module_version": "1.0.0",
            "layout": "IPY_MODEL_6a4b3339bbb24d4ebb20b4d16b1c1b7f",
            "_model_module": "@jupyter-widgets/output"
          }
        },
        "e1d192690fba491687b5b1e925e6f1ef": {
          "model_module": "@jupyter-widgets/controls",
          "model_name": "SliderStyleModel",
          "state": {
            "_view_name": "StyleView",
            "handle_color": null,
            "_model_name": "SliderStyleModel",
            "description_width": "",
            "_view_module": "@jupyter-widgets/base",
            "_model_module_version": "1.5.0",
            "_view_count": null,
            "_view_module_version": "1.2.0",
            "_model_module": "@jupyter-widgets/controls"
          }
        },
        "a955bad9ed6e48829fe86adaecb1f051": {
          "model_module": "@jupyter-widgets/base",
          "model_name": "LayoutModel",
          "state": {
            "_view_name": "LayoutView",
            "grid_template_rows": null,
            "right": null,
            "justify_content": null,
            "_view_module": "@jupyter-widgets/base",
            "overflow": null,
            "_model_module_version": "1.2.0",
            "_view_count": null,
            "flex_flow": null,
            "width": null,
            "min_width": null,
            "border": null,
            "align_items": null,
            "bottom": null,
            "_model_module": "@jupyter-widgets/base",
            "top": null,
            "grid_column": null,
            "overflow_y": null,
            "overflow_x": null,
            "grid_auto_flow": null,
            "grid_area": null,
            "grid_template_columns": null,
            "flex": null,
            "_model_name": "LayoutModel",
            "justify_items": null,
            "grid_row": null,
            "max_height": null,
            "align_content": null,
            "visibility": null,
            "align_self": null,
            "height": null,
            "min_height": null,
            "padding": null,
            "grid_auto_rows": null,
            "grid_gap": null,
            "max_width": null,
            "order": null,
            "_view_module_version": "1.2.0",
            "grid_template_areas": null,
            "object_position": null,
            "object_fit": null,
            "grid_auto_columns": null,
            "margin": null,
            "display": null,
            "left": null
          }
        },
        "6a4b3339bbb24d4ebb20b4d16b1c1b7f": {
          "model_module": "@jupyter-widgets/base",
          "model_name": "LayoutModel",
          "state": {
            "_view_name": "LayoutView",
            "grid_template_rows": null,
            "right": null,
            "justify_content": null,
            "_view_module": "@jupyter-widgets/base",
            "overflow": null,
            "_model_module_version": "1.2.0",
            "_view_count": null,
            "flex_flow": null,
            "width": null,
            "min_width": null,
            "border": null,
            "align_items": null,
            "bottom": null,
            "_model_module": "@jupyter-widgets/base",
            "top": null,
            "grid_column": null,
            "overflow_y": null,
            "overflow_x": null,
            "grid_auto_flow": null,
            "grid_area": null,
            "grid_template_columns": null,
            "flex": null,
            "_model_name": "LayoutModel",
            "justify_items": null,
            "grid_row": null,
            "max_height": null,
            "align_content": null,
            "visibility": null,
            "align_self": null,
            "height": null,
            "min_height": null,
            "padding": null,
            "grid_auto_rows": null,
            "grid_gap": null,
            "max_width": null,
            "order": null,
            "_view_module_version": "1.2.0",
            "grid_template_areas": null,
            "object_position": null,
            "object_fit": null,
            "grid_auto_columns": null,
            "margin": null,
            "display": null,
            "left": null
          }
        },
        "e864d3ad864b4a56a9671b3614409f1b": {
          "model_module": "@jupyter-widgets/controls",
          "model_name": "VBoxModel",
          "state": {
            "_view_name": "VBoxView",
            "_dom_classes": [
              "widget-interact"
            ],
            "_model_name": "VBoxModel",
            "_view_module": "@jupyter-widgets/controls",
            "_model_module_version": "1.5.0",
            "_view_count": null,
            "_view_module_version": "1.5.0",
            "box_style": "",
            "layout": "IPY_MODEL_5ef0023ef50b4728a1cc22d99ad15615",
            "_model_module": "@jupyter-widgets/controls",
            "children": [
              "IPY_MODEL_a8ae73a28bd6418892417d2ec32afcad",
              "IPY_MODEL_fab3c6455e0b4cb1ba2082585f189b1f"
            ]
          }
        },
        "5ef0023ef50b4728a1cc22d99ad15615": {
          "model_module": "@jupyter-widgets/base",
          "model_name": "LayoutModel",
          "state": {
            "_view_name": "LayoutView",
            "grid_template_rows": null,
            "right": null,
            "justify_content": null,
            "_view_module": "@jupyter-widgets/base",
            "overflow": null,
            "_model_module_version": "1.2.0",
            "_view_count": null,
            "flex_flow": null,
            "width": null,
            "min_width": null,
            "border": null,
            "align_items": null,
            "bottom": null,
            "_model_module": "@jupyter-widgets/base",
            "top": null,
            "grid_column": null,
            "overflow_y": null,
            "overflow_x": null,
            "grid_auto_flow": null,
            "grid_area": null,
            "grid_template_columns": null,
            "flex": null,
            "_model_name": "LayoutModel",
            "justify_items": null,
            "grid_row": null,
            "max_height": null,
            "align_content": null,
            "visibility": null,
            "align_self": null,
            "height": null,
            "min_height": null,
            "padding": null,
            "grid_auto_rows": null,
            "grid_gap": null,
            "max_width": null,
            "order": null,
            "_view_module_version": "1.2.0",
            "grid_template_areas": null,
            "object_position": null,
            "object_fit": null,
            "grid_auto_columns": null,
            "margin": null,
            "display": null,
            "left": null
          }
        },
        "a8ae73a28bd6418892417d2ec32afcad": {
          "model_module": "@jupyter-widgets/controls",
          "model_name": "IntSliderModel",
          "state": {
            "_view_name": "IntSliderView",
            "style": "IPY_MODEL_134c985cf88d4d72b3bf1715465ba452",
            "_dom_classes": [],
            "description": "t",
            "step": 1,
            "_model_name": "IntSliderModel",
            "orientation": "horizontal",
            "max": 50,
            "_view_module": "@jupyter-widgets/controls",
            "_model_module_version": "1.5.0",
            "value": 13,
            "_view_count": null,
            "disabled": false,
            "_view_module_version": "1.5.0",
            "min": 1,
            "continuous_update": true,
            "readout_format": "d",
            "description_tooltip": null,
            "readout": true,
            "_model_module": "@jupyter-widgets/controls",
            "layout": "IPY_MODEL_20ae88bf4f494ffbac3a2c3be243c44f"
          }
        },
        "fab3c6455e0b4cb1ba2082585f189b1f": {
          "model_module": "@jupyter-widgets/output",
          "model_name": "OutputModel",
          "state": {
            "_view_name": "OutputView",
            "msg_id": "",
            "_dom_classes": [],
            "_model_name": "OutputModel",
            "outputs": [
              {
                "output_type": "display_data",
                "metadata": {
                  "tags": [],
                  "needs_background": "light"
                },
                "image/png": "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\n",
                "text/plain": "<Figure size 432x288 with 1 Axes>"
              }
            ],
            "_view_module": "@jupyter-widgets/output",
            "_model_module_version": "1.0.0",
            "_view_count": null,
            "_view_module_version": "1.0.0",
            "layout": "IPY_MODEL_ff592fc71bf34560af185dc36e480414",
            "_model_module": "@jupyter-widgets/output"
          }
        },
        "134c985cf88d4d72b3bf1715465ba452": {
          "model_module": "@jupyter-widgets/controls",
          "model_name": "SliderStyleModel",
          "state": {
            "_view_name": "StyleView",
            "handle_color": null,
            "_model_name": "SliderStyleModel",
            "description_width": "",
            "_view_module": "@jupyter-widgets/base",
            "_model_module_version": "1.5.0",
            "_view_count": null,
            "_view_module_version": "1.2.0",
            "_model_module": "@jupyter-widgets/controls"
          }
        },
        "20ae88bf4f494ffbac3a2c3be243c44f": {
          "model_module": "@jupyter-widgets/base",
          "model_name": "LayoutModel",
          "state": {
            "_view_name": "LayoutView",
            "grid_template_rows": null,
            "right": null,
            "justify_content": null,
            "_view_module": "@jupyter-widgets/base",
            "overflow": null,
            "_model_module_version": "1.2.0",
            "_view_count": null,
            "flex_flow": null,
            "width": null,
            "min_width": null,
            "border": null,
            "align_items": null,
            "bottom": null,
            "_model_module": "@jupyter-widgets/base",
            "top": null,
            "grid_column": null,
            "overflow_y": null,
            "overflow_x": null,
            "grid_auto_flow": null,
            "grid_area": null,
            "grid_template_columns": null,
            "flex": null,
            "_model_name": "LayoutModel",
            "justify_items": null,
            "grid_row": null,
            "max_height": null,
            "align_content": null,
            "visibility": null,
            "align_self": null,
            "height": null,
            "min_height": null,
            "padding": null,
            "grid_auto_rows": null,
            "grid_gap": null,
            "max_width": null,
            "order": null,
            "_view_module_version": "1.2.0",
            "grid_template_areas": null,
            "object_position": null,
            "object_fit": null,
            "grid_auto_columns": null,
            "margin": null,
            "display": null,
            "left": null
          }
        },
        "ff592fc71bf34560af185dc36e480414": {
          "model_module": "@jupyter-widgets/base",
          "model_name": "LayoutModel",
          "state": {
            "_view_name": "LayoutView",
            "grid_template_rows": null,
            "right": null,
            "justify_content": null,
            "_view_module": "@jupyter-widgets/base",
            "overflow": null,
            "_model_module_version": "1.2.0",
            "_view_count": null,
            "flex_flow": null,
            "width": null,
            "min_width": null,
            "border": null,
            "align_items": null,
            "bottom": null,
            "_model_module": "@jupyter-widgets/base",
            "top": null,
            "grid_column": null,
            "overflow_y": null,
            "overflow_x": null,
            "grid_auto_flow": null,
            "grid_area": null,
            "grid_template_columns": null,
            "flex": null,
            "_model_name": "LayoutModel",
            "justify_items": null,
            "grid_row": null,
            "max_height": null,
            "align_content": null,
            "visibility": null,
            "align_self": null,
            "height": null,
            "min_height": null,
            "padding": null,
            "grid_auto_rows": null,
            "grid_gap": null,
            "max_width": null,
            "order": null,
            "_view_module_version": "1.2.0",
            "grid_template_areas": null,
            "object_position": null,
            "object_fit": null,
            "grid_auto_columns": null,
            "margin": null,
            "display": null,
            "left": null
          }
        },
        "ef074ff89e614b33a32fd1428474a28d": {
          "model_module": "@jupyter-widgets/controls",
          "model_name": "VBoxModel",
          "state": {
            "_view_name": "VBoxView",
            "_dom_classes": [
              "widget-interact"
            ],
            "_model_name": "VBoxModel",
            "_view_module": "@jupyter-widgets/controls",
            "_model_module_version": "1.5.0",
            "_view_count": null,
            "_view_module_version": "1.5.0",
            "box_style": "",
            "layout": "IPY_MODEL_40ac30da5af94c5db60a23c64ba61ce5",
            "_model_module": "@jupyter-widgets/controls",
            "children": [
              "IPY_MODEL_98ca557db27944fb88c68464a861c792",
              "IPY_MODEL_9d8071d04d7b4df1854ce9947976eaf4"
            ]
          }
        },
        "40ac30da5af94c5db60a23c64ba61ce5": {
          "model_module": "@jupyter-widgets/base",
          "model_name": "LayoutModel",
          "state": {
            "_view_name": "LayoutView",
            "grid_template_rows": null,
            "right": null,
            "justify_content": null,
            "_view_module": "@jupyter-widgets/base",
            "overflow": null,
            "_model_module_version": "1.2.0",
            "_view_count": null,
            "flex_flow": null,
            "width": null,
            "min_width": null,
            "border": null,
            "align_items": null,
            "bottom": null,
            "_model_module": "@jupyter-widgets/base",
            "top": null,
            "grid_column": null,
            "overflow_y": null,
            "overflow_x": null,
            "grid_auto_flow": null,
            "grid_area": null,
            "grid_template_columns": null,
            "flex": null,
            "_model_name": "LayoutModel",
            "justify_items": null,
            "grid_row": null,
            "max_height": null,
            "align_content": null,
            "visibility": null,
            "align_self": null,
            "height": null,
            "min_height": null,
            "padding": null,
            "grid_auto_rows": null,
            "grid_gap": null,
            "max_width": null,
            "order": null,
            "_view_module_version": "1.2.0",
            "grid_template_areas": null,
            "object_position": null,
            "object_fit": null,
            "grid_auto_columns": null,
            "margin": null,
            "display": null,
            "left": null
          }
        },
        "98ca557db27944fb88c68464a861c792": {
          "model_module": "@jupyter-widgets/controls",
          "model_name": "IntSliderModel",
          "state": {
            "_view_name": "IntSliderView",
            "style": "IPY_MODEL_910390a947fc4e9eb318b4aa540e6a37",
            "_dom_classes": [],
            "description": "t",
            "step": 1,
            "_model_name": "IntSliderModel",
            "orientation": "horizontal",
            "max": 100,
            "_view_module": "@jupyter-widgets/controls",
            "_model_module_version": "1.5.0",
            "value": 100,
            "_view_count": null,
            "disabled": false,
            "_view_module_version": "1.5.0",
            "min": 1,
            "continuous_update": true,
            "readout_format": "d",
            "description_tooltip": null,
            "readout": true,
            "_model_module": "@jupyter-widgets/controls",
            "layout": "IPY_MODEL_fbad429117114138a3b28d62095e7afd"
          }
        },
        "9d8071d04d7b4df1854ce9947976eaf4": {
          "model_module": "@jupyter-widgets/output",
          "model_name": "OutputModel",
          "state": {
            "_view_name": "OutputView",
            "msg_id": "",
            "_dom_classes": [],
            "_model_name": "OutputModel",
            "outputs": [
              {
                "output_type": "display_data",
                "metadata": {
                  "tags": [],
                  "needs_background": "light"
                },
                "image/png": "iVBORw0KGgoAAAANSUhEUgAAAYIAAAEGCAYAAABo25JHAAAABHNCSVQICAgIfAhkiAAAAAlwSFlzAAALEgAACxIB0t1+/AAAADh0RVh0U29mdHdhcmUAbWF0cGxvdGxpYiB2ZXJzaW9uMy4yLjIsIGh0dHA6Ly9tYXRwbG90bGliLm9yZy+WH4yJAAAgAElEQVR4nO3de3xU1bn4/88zk8k9IZBwCUkgAQKCoFzCRUUEAQu9QFu1FW29obQVLT1Wzw/b87M9tL/fUSvWWrWK1m+p1Votx0oVxRuKokBAbgIC4R4gEAIEyHUu6/vHTIYQciUzzOyd5/16zcvM3js7z8Jknr3W2ns9YoxBKaVUx+WIdABKKaUiSxOBUkp1cJoIlFKqg9NEoJRSHZwmAqWU6uBiIh1AW2VkZJjc3NxIh6GUUpaydu3ao8aYro3ts1wiyM3NZc2aNZEOQymlLEVE9ja1T4eGlFKqg9NEoJRSHZwmAqWU6uAsN0eglFKNcbvdFBcXU11dHelQIio+Pp7s7GxcLlerv0cTgVLKFoqLi0lJSSE3NxcRiXQ4EWGMoaysjOLiYvLy8lr9fWEbGhKRF0TkiIh82cR+EZEnRKRIRDaKyPBwxaKUsr/q6mrS09M7bBIAEBHS09Pb3CsK5xzBX4ApzeyfCuQHXrOAP4UxFqVUB9CRk0Cd8/k3CNvQkDFmuYjkNnPIdOCvxr8O9koRSRORTGPMoXDFpDqOhZsX8uG+D4Pvc1Jy+PXlvybGYd3R0BpvDQ+ueJCSipLgtm/0+QbfG/C9CEal7CCSfxVZwP5674sD285JBCIyC3+vgV69el2Q4JS1Pb3+aSo9lcH3Xxz5ghkXzeDijIsjGFX7bDiygSW7lwTf3zX0Lvp37h/BiJRdWOL2UWPMAmNMgTGmoGvXRp+QVuostb5aAJ675jn6pfUDwO1zRzKkdqtr0+D0wfyfr/0fxmePZ2i3oRGOSrXWz372M5YvX97q4x9//HEqK89czEyaNInjx4+HI7SIJoIDQE6999mBbUq1m9fnBWBk95Gkxqb6txlvJENqt7o2dUnoQkGPAgamD4xwRKq1ysrKWLlyJePGjWv19zRMBD/84Q95+umnwxFeRIeGFgN3i8grwGigXOcHVCj4jA+DvwSrQxz8aZL/PoQ4Z1wkw2o3j/EA4BRnhCOJfrlz3wrLefc89I3m9+/Zw9SpUxk7diyfffYZWVlZvPHGGyxatIgpU/z3zpSXlzNq1CgWL17MgAEDmDFjBldffTV33nln8DxPPPEEBw8eZMKECWRkZLBs2TKmTZvGlVdeyS9/+cuQtyuct4/+HfgcGCAixSIyU0R+LCI/DhyyBNgFFAHPAXeFKxbVsQjCs5Oe5emJTyMiJLoSSXQl4nRY+wO0rkdg5QnvjmDHjh3Mnj2bzZs3k5aWxqJFi1ixYgUjRowAoFOnTjz55JPceuutvPLKKxw/fvysJADw05/+lJ49e7Js2TKWLVsGQOfOnampqaGsrCzkMYfzrqEZLew3wOxw/XzVcYkIl2ddHukwQq5uaEt7BC1r6co9nPLy8hg61D93M2LECPbs2cOhQ4eoP785efJkXnvtNWbPns2GDRtafe5u3bpx8OBB0tPTQxqzJSaLlVLg8QWGhizes7G7uLgzQ5BOpxOPx0NCQsJZD3n5fD62bt1KYmJimyaAq6urSUhICGm8oIlAKcuYmjeVlTeu5MExD0Y6FNVGAwcOpKioKPj+97//PQMHDuTll1/mtttuw+3239F28803s3r1agBSUlI4depU8HuMMZSUlBCOwlyaCJSyiBhHDEmuJBJdiZEORbXRN77xDT766CMAtm3bxvPPP8/8+fO58sorGTduHL/97W8B2LhxIz179gRg1qxZTJkyhQkTJgCwdu1axowZQ0xM6Ef0xT9Ubx0FBQVGK5QppRraunUrAwdG7y21Y8eO5c033yQtLa3R/SdPnmTmzJm89tprje6fM2cO06ZNY+LEiS3+rMb+LURkrTGmoLHjtUeglEXd+9G93PHuHVS4KyIdimqF+fPns2/fvib3p6amNpkEAAYPHtyqJHA+9D40pSyqsKSQEzUnqPHWkORKinQ4qgWjR49u1/c3vMU0lLRHoJRF1T1PUPd8gVLnSxOBsr1HCh9h1EujeHXbq5EOJaTqniew+tIZKvI0ESjb2X9yP3e+eye/Xem/E8Pr81LlqaLWWxvhyEKrrkdQ93yBUudLE4GynZPuk6w8tJKNpRuBMw9g2e3KWXsE1hHNK4+CJgJlQ3Vj5nUflHa9cg4mOJ0jiGrRvvIoaCJQNlR3hVyXAGIk5qztVvXEF08w+qXRvLjlReBMoqtblVRF3m9+8xsGDBjA2LFjmTFjBo8++ug5K48OGDCAbdu2ATBjxgyee+65s85Rf+XRuofJpk2bxt///vewxa23jyrbabgmj12unGu8NVR6KvEZH6B3DbXo151aeVx5SH5cYWEhixYtYsOGDbjdboYPH86IESNYsWIF1113HXD2yqNz5sxpcuXRxx57jGXLlpGRkQGcvfJoqBecA+0RKBsK9ggCPQG7XDk3XH1U5wiiy4oVK5g+fTrx8fGkpKTwrW99C6DRlUeHDBnC7Nmzef7551t9/rqVR8NBewTKdoJzBI6z5wisfuXcsKczd9RcqjxV9E7tHcmwoleIrvTbq6WVR7Ozs1t1nnCtPAraI1A2ZNcr54btGtptKJf1vIyU2JRIhqUCrrjiCv79739TXV3N6dOnefPNN4HoX3kUNBEoGzpnjqBuaMjidw1phbLoNnLkSKZNm8Yll1zC1KlTGTJkCJ06dYr6lUdBh4aUDTWcI7jhohu4rv91uJyuSIbVblqhLPrdd999/PrXv6ayspJx48YxYsQIhg8fzgMPPMCJEycYMGAAW7duDR7/2GOPAf6VR/Pz84PDRPfccw/33HNP8LgXX3yRu+4KXzVfTQTKdoZ1G8azk56lc3xnAGKdscQ6YyMcVftphbLoN2vWLLZs2UJ1dTW33HILw4cPB86sPNrUEtSRXHkUNBEoG8pIyCAjKyPSYYRcw56Oij4vv/xyo9ujeeVR0DkCpSyj4d1QSoWKXlooZREPj3sYt89NrMP6w1wqumgiUMoi7DLXoaKPDg0ppVQHp4lAKYtauHkhd7x7B8uLW7+8sVKN0USglEXtLt/NqkOrOFx5ONKhqPNw7NgxJk+eTH5+PpMnTz6r3sC//vUv5s2b1+z333fffXz44YchiUUTgVIWZZc1lDqqhx56iIkTJ7Jjxw4mTpzIQw89FNz3yCOPtPgA2T333HPW97SHThYr2yssKWT2B7MZ3n04z0x6JtLhhEwwEVh8DaVwGbJwSKuO23TLppD9zD179jB16lTGjh3LZ599RlZWFm+88Uaji8W98cYbwaUnbrnlFsaPH8/DDz/M9u3biYuLCy5BPX36dK699lpuvvlmnn32WZYvX85LL71E7969KSsro6SkhB49erQrbu0RKNt5o+gNZr07izd3vRncVuWpotpT3cx3WY9d1lCymx07djB79mw2b95MWloaixYtavS4w4cPk5mZCUCPHj04fNg/xLdixYrgE8kACxYsYN68eXzyySfMnz+fP/7xj8F9w4cPZ8WKFe2OWXsEynb2ntzL54c+Z0T3EUC91UdtNoRi11rMoRLKK/22yMvLY+jQoQCMGDGCPXv2tPg9IoKIAOfWL+jevTvz5s1jwoQJvP7663Tp0iW4L1Q1CrRHoGynrgDNOfUIbPaBGSzBabMEZ3VxcXHBr51OJx5P4z227t27c+jQIcD/4d+tWzfg3PoFAJs2bSI9Pf2cD/1Q1SgIayIQkSkisk1EikRkbiP7e4nIMhFZJyIbReTr4YxHdQx1H4wuh3+10bqEYPUhlO8u/i5jXh7DvpP7gHrtsnjltY5q2rRpLFy4EICFCxcyffp04Nz6BatXr+btt99m3bp1PProo+zevTu4b/v27QwePLjdsYQtEYiIE3gKmAoMAmaIyKAGh/0X8KoxZhhwA/B0uOJRHUfD5ZrtUry+0l1JhbsiOIRg1yGvjmLu3Lm899575Ofn8/777zN3rv9aedy4caxbtw5jDDU1Ndx555288MIL9OzZk/nz53P77bdjjMHtdlNUVERBQUG7YwnnHMEooMgYswtARF4BpgNb6h1jgNTA152A8BTkVB1KU4VprP6BWdeuusRm1yEvK8vNzeXLL78Mvr/vvvuaPDY9PZ0PPvjgnO2JiYlMmjSJDz74gEmTJrFhw4bgvmnTpjFt2jQA3nzzTa677rqQFKsJZyLIAvbXe18MNFyL9dfAuyJyD5AETGrsRCIyC5gF0KtXr5AHquzlnFKVNplUDS5DHUgAX8v9GoPSB5Gd3Lqat8o6fvGLX7Bq1apmj/F4PPz85z8Pyc+L9F1DM4C/GGPmi8hlwIsiMtgY46t/kDFmAbAAoKCgwEQgTmUhDUs61l1BW32OoOEy1DkpOeSk5EQyJNUKs2fPPucWzzlz5nDbbbc1+T3du3cPXvk35frrrw9JfBDeRHAAqP9bmh3YVt9MYAqAMeZzEYkHMoAjYYxL2ZxdewTBu6G0VGWTjDHBOZRo8dRTT13Qn2dM26+Vw5kICoF8EcnDnwBuAG5scMw+YCLwFxEZCMQDpWGMSXUADecIeiT1YNWNqyxf0EWL1zcvPj6esrIy0tPToy4ZXCjGGMrKyoiPj2/T94XtN8oY4xGRu4GlgBN4wRizWUTmAWuMMYuBnwPPich/4J84vtWcTzpTqp47htzBtL7TyO+cD4BDHCS6EiMcVftp8frmZWdnU1xcTGlpx76WjI+PJzu7bfNGYb20MMYsAZY02PZgva+3AFeEMwbV8eR3zg8mATvRUpXNc7lc5OXlRToMS9Ini5WyAGOMzhGosNHBRqUsYvVNq/H4PDhEr99UaGkiUMoCRISEmPavKaNUY/TSQimlOjhNBEpZ1MbSjdz57p08vvbxSIeiLE6HhpSyqPKaclYeWqmTx6rdtEeglEXVPVimy1Cr9tJEoDqEq1+9mhEvjuBU7alIhxIyWrxehYomAmU7v/rsV/zovR9RfKo4uK3GW0Otr9ZWH5rB5bUtvoaSijydI1C2s/7IenaV76LGWxPcZsdhlOBiejZKbioytEegbKfhuv1gz/q+weW1bZTcVGRoIlC2E1x9tN7dNFZfirroeBEj/zaSG986s4Cv9ghUqGgiULbTWI/A6uUq3T431d5qar21wW06R6BCRROBsp3gKp31egRWnyMILkHtOLeXY/XKayrydLJY2U6jH5oW7xEEC9fX6+X0SOzBs5OfJTHG+rUWVGRpIlC2Y8c5guBwl5z5k010JXJ5z8sjFZKyER0aUrbT3ByBZYeGtCiNCiPtESjbaWyOYOHUhTjEgcvhilRY7aJFaVQ4aSJQtvPkxCfx+DzEOmOD26y+lr/2CFQ4aSJQtjM6c3SkQwi5xuYIlAoVnSNQygIaG+5SKlT08kIpCxifM55VN65CRCIdirIhTQRKWYDT4STRoc8LqPDQoSGllOrgNBEoZWE/ef8nzFw6E7fPHelQlIXp0JBSFlZYUkiNtwaPz2PZZyRU5GmPQCkL03KVKhQ0EagOYd7n8yj4WwFvFL0R6VBCSpeiVqGgiUDZyuGKw9yx9A7+69P/Omu713ip8dbYbiw9uLy2LkWt2kHnCJStVHgqWFWyitzU3LO2W30Z6qZoj0CFQlh7BCIyRUS2iUiRiMxt4pjvicgWEdksIi+HMx5lf3Uf9PVXHq3/3qqrjzZFy1WqUAhbIhARJ/AUMBUYBMwQkUENjskHHgCuMMZcDPwsXPGojiFYlKbBUgxW7xEs2LiAUS+NYsHGBWdtt/ry2io6hLNHMAooMsbsMsbUAq8A0xsccyfwlDHmOIAx5kgY41EdQFOrdAbvrrHoEEqNt4YqT9U58etdQyoUwpkIsoD99d4XB7bV1x/oLyIrRGSliExp7EQiMktE1ojImtLS0jCFq+yg7sq44SqdVh9LDw552axdKjpEerI4BsgHxgPZwHIRGWKMOVH/IGPMAmABQEFBgbnQQSrraKpHYPVC741VXQP478v/mxpvDZlJmZEIS9lEOBPBASCn3vvswLb6ioFVxhg3sFtEtuNPDIVhjEvZWFNzBHVX0la9cm6sDjPA0G5DIxGOsplwDg0VAvkikiciscANwOIGx/wLf28AEcnAP1S0K4wxKZsLfmA20SOw6lh6MMFphTIVBmHrERhjPCJyN7AUcAIvGGM2i8g8YI0xZnFg3zUisgXwAvcbY8rCFZOyv6Yqed128W3cPOjmc4ZWrKKpOQKlQiGsv1XGmCXAkgbbHqz3tQHuDbyUareL0y9mweQFpMalnrXd5XThwrqLsmmPQIWTXl4oW+kc35nLel4W6TBCrqk5AqVCQdcaUsoCmrprSKlQEP/ojHUUFBSYNWvWRDoMpS4ot9eN2+f2D3Fp3QF1HkRkrTGmoLF9bbq8EJHOQE+gCthjjPGFID6lVAtcThcupyYAFR4tJgIR6QTMBmYAsUApEA90F5GVwNPGmGVhjVIppVTYtKZH8E/gr8CVDZ/4FZEC4Aci0scY8+dwBKiUatqCjQtYdWgVd15yJ2Myx0Q6HGVRLSYCY8zkZvatAXTAXqkI2XliJ6tLVvPtft+OdCjKwlp915CIfNCabUqpC8fqq6qq6NBiIhCReBHpAmSISGcR6RJ45XLuaqJKRaXlxcsp+FsBcz6cE+lQQkqXoVah0Jo5gh/hLxjTE1gLSGD7SeDJMMWl1Hl5e/fbLNqxiKm5U7m2/7Vn7avx1lDrq41QZOGhy1CrUGjNHMEfgD+IyD3GmD9egJiUOm/Fp4pZdWgVg9MHn7U9uPqoza6cgxXKLLq8tooOrZ4jaJgERKRARHqGPiSlzl+wME0TNYvtduVs13apC6s9S0zcA7wlIv8IVTBKtZddC9PMeHMGo14axbZj287abvVazCo6nPfCJcaYWwBEJCV04SjVPk0tQ231sfQqTxVVnioccva1WzDBafF61Q5tuX10ZoP3ThH5lTHmVOjDUur8tFi83qJXzk0tQ609AhUKbekRTBSRa4GZQBfgL8DH4QhKqfNVd2XccLlmq/cI6oa0XHL2ekPf7vdtRmWOIiclp7FvU6pVWp0IjDE3isj3gU1ABXCjMWZF2CJT6jwEK3k1mCy2+hBKUz2CXqm96JXaKxIhKRtpy9BQPjAHWATsBX4oIonhCkyp89Fi8XqLDqEEh7y0MI0Kg7YMDf0bmG2M+UBEBH95yULg4rBEptR5aKp4fW6nXFbftNqyNX+DQ15aqlKFQVv+KkYZY05CsNbwfBH5d3jCUur83DzoZq7JvYY+nfqctd0hDhJiEiIUVfs1dTeUUqHQmnoEY40xn9YlgfqMMdtFJBXoZYz5MiwRKtUGfdL60CetT8sHWkxTd0MpFQqtuby4VkQeAd7Bv9ZQXWGafsAEoDfw87BFqJRqcu5DqVBozVpD/xFYffRa4HqgB/5SlVuBZ/TOIaXC75MbPsHr81p6eEtFr1YNOBpjjonIX4FKILfe900ENBEoFWZxzjjQzoAKk7bMPL0BnAC+AKrDE45SSqkLrS2JINsYMyVskSil2qywpJBnNzzL8O7DuWvoXZEOR1lUWxLBZyIyxBizKWzRKKXa5ETNCVaVrCI5NjnSoSgLa0siGAvcKiK7gRr8lcqMMeaSsESmlGqR1Z+YVtGhLYlgatiiUOoCGP3SaGp9tRTeVHjOWkRWZfU1lFR0aMuic3vDGYhSofDblb9l78m9PDDqgXMeLHP73Hh8HrzGS8z5l+KIKtojUKFgj78GpQI2Hd3ElrItVHoqz9kX44jB7XP7PzRtcitmXY/Aqstrq+jQnlKVLRKRKSKyTUSKRGRuM8ddKyJGRArCGY+yv6aWoYYzV892GkbR4vUqFMKWCETECTyFf25hEDBDRAY1clwK/uWtV4UrFtVxNLcUQ/Dq2WLDKPtP7WfEiyP4zhvfOWefFq9XoRDOHsEooMgYs8sYUwu8Akxv5LjfAA+jD6mpEGhqGWqwbpUyr89Lra8Wt899zj4tValCIZyJIAvYX+99cWBbkIgMB3KMMW81dyIRmSUia0RkTWlpaegjVbbR3HLNwTtsLDaM0ppejp2Gu9SFF7HJYhFxAI8Bt7Z0rDFmAbAAoKCgwIQ3MmVlzS3XHLzDxmI9guZ6Ob1Te/PcNc+R4kq50GEpGwlnIjgA1K+onR3YVicFGAx85C94Rg9gsYhMM8asCWNcysaaKl4P1p0jaK6Xk+RKYkzmmAsdkrKZcA4NFQL5IpInIrHADcDiup3GmHJjTIYxJtcYkwusBDQJqHZp7q6h4B02FhtG0XrFKtzC1iMwxnhE5G5gKf67tl8wxmwWkXnAGmPM4ubPoFTbNTee/tq3XsMpTss9VRxsk1YnU2ES1r8IY8wSYEmDbQ82cez4cMaiOobfj/89tb7aRhdhi4+Jj0BE7RecI9AegQoTa10aKdWCgh72eyYxOEdgsZ6Mso6wPlmslGo/nSNQ4aaXGEpFuTE9x1B4U2Gkw1A2polAqSjnEIdl5zeUNejQkFJKdXCaCJSyMK/Pyx1L72Dm0pmRDkVZmA4NKWVhDnGwqsS/cK8xhsBT+kq1ifYIlLIwEbHsqqoqemgiUB3G3E/mMvzF4SzdszTSoYSUJgLVXpoIlG0crz7OzKUzuf/j+xvd7/P5gnWL7cSqi+mp6KFzBMo2qj3VrC5ZTffE7o3ut2s1LzuW4FQXlvYIlG3UfRA2tRSDXa+c7doudeFoIlC20dwS1GDdZagXbl7IiBdH8Pjaxxvdr3MEqr00ESjbaG4Jaqg3NGSxK2e3z02trxYfvkb3W7UEp4oemgiUbTRX0hGse+Uc7Ok0UqGs/nartUtFD50sVrbRXElHsO6Vc0vLUD807iE8Pg/p8ekXMixlI5oIlG20tFyzVa+cWypMM6zbsAsZjrIhHRpSttFSSUer3l2jpSpVuGmPQNlGS1fOd116Fz+59CeWq/TV0hyBUu2lv1nKNvp36c/z1zxPsuvcesUALqfrAkcUGtojUOGmiUDZRmpsKqMzR0c6jJDT4vUq3HSOQKkop8XrVbiJMSbSMbRJQUGBWbNmTaTDUOqC8fg8eHwenA4nLoc1h7dU5InIWmNMQWP79BJDqSgX44jR3oAKKx0aUkqpDk4TgVIW98QXT3DbO7ex7si6SIeiLEoTgVIWV3SiiDWH13Cs6likQ1EWpYlAKYurmz+w2vLaKnpoIlAdxjt73mH4i8P5z+X/GelQQiq4hpLFls5Q0UMTgbKN9/e+z8ylM3lp60uN7hfE3jWLLbaYnooeYU0EIjJFRLaJSJGIzG1k/70iskVENorIByLSO5zxKHs7VHGI1SWr2X9qf6P7g0ModksEYs3ltVX0CFsiEBEn8BQwFRgEzBCRQQ0OWwcUGGMuAf4JPBKueJT92XUZ6pYEK6/ZrF3qwglnj2AUUGSM2WWMqQVeAabXP8AYs8wYUxl4uxLIDmM8yubqJkvttgz1re/cysi/jWT9kfWN7g9WXrNYu1T0CGciyALq99GLA9uaMhN4u7EdIjJLRNaIyJrS0tIQhqjspKXlmq1avL7GU0O1txqHNP7nGqy8ZrF2qegRFZPFIvIDoAD4XWP7jTELjDEFxpiCrl27XtjglGW0tFyzVYvXt1hwR+cIVDuFcwGTA0BOvffZgW1nEZFJwC+Bq4wxNWGMR9lcS8s1h7p4vddnqHJ78Xh9eHwGn8/gcAguh4MYp5DgcuJwSLt/Tt2VflM9nRsuuoGre11NTkpOo/uVakk4E0EhkC8iefgTwA3AjfUPEJFhwLPAFGPMkTDGojqAlpZrbu0cgddnKD5eyd6ySvYfr2T/sSoOn6ym9FQNR0/XcLyyltPVHipqW04oyXExJMfFkJboomtKHF2T4+jRKZ7szonkdEkgNz2JrLSEZhNGcMiriXb1Tu1N71S94U6dv7AlAmOMR0TuBpYCTuAFY8xmEZkHrDHGLMY/FJQMvCYiAPuMMdPCFZOyt9beNVR/LL3a7WXzwZNsLD7BpgPlbCs5xc7S01S7fS3+PBFIcDmJcQgupwOHQ/D5DG6vD7fX31s4XePhdI2HkpPVfFVyqtHzJLic9OuWzIAeKQzJ6sQl2Z0YmJlKvOvsHowWplHhEta1bY0xS4AlDbY9WO/rSeH8+apjaekD86IuF7H8eyv5Yu9JHn7nK1buKmNTcTke37k1OXqkxpOXkUROlwSyOyeS2SmerilxZCTH0SUplpT4GJJiY5q9kvf5DBW1Hk5VezhWUUvp6RpKT9ZwqLw60NOoZPfRCo6cqmHTgXI2HSjnn2uLAXA5hUuz0xjTJ53TNbX+dmmpShUmusi5so0bLrqBq3KuoldKr7O27z9WyftbD7NsWykrd5VR6zlzte8QGNA9hUuyO3FJThqDMlPo1y2FTgntLwDjcAgp8S5S4l30TEto8rgTlbXsOHKarYdOsmF/ORuKT7Cz9DRr9h5nzd7jJPWrxOGCuYs2M2WAl4kDuzd7PqXaSiuUKVvaV1bJW5sOsWTTITYdKD9r3yXZnbisbzpj8tIpyO1MSnz0Vf0qr3RTuOcYK3eV8VrpLHyOck7v+AXGkwrAsF5pfH1wJl+/JJMsTQqqFZqrUKaJQNlGeZWbJZsO8b9fFFO453hwe1Ksk/EXdWPiRd0Y178rGclxEYyy7a76x1Ucqz7GvQNeZtWOWj7afuSsOYzL+qTz3eFZTB2SSXKcdvJV4zQRKNsyxrB+/wleWrWPf284SE1g2CfB5eSai7vzjSGZjOvfNTjxakVurxuP8RDvjEdEqKz18PG2Ut7cdIj3txwOtjkx1sn0oVncNLoXg7M6RThqFW00ESjbqXZ7+feGg/zlsz1sPngyuP2yPulcOyKbqYN7kNQBro5PVrtZsvEQixr0gi7NSeP2K3KZOjiT2JioeG5URZgmAmUbZadr+Ovne3lp1V6OnvbfTdM50cX3CnKYMaoXuRlJEY4wcoqOnOKlVftYtLaYk9X+W2S7p8Zx82W5/GB0bzolRt9ciLpwNBEoyys+Xsnzn+zmlcJ9wfHxgZmpzJ++FpYAABeNSURBVBybxzcvybT00E97fXrgU1748gUu73k5dwy5g6paL/9af4AXPt3NjiOnAf88yY2jezFzbB96dIqPcMQqEppLBPbvOytL2320gqeWFfH6ugN4A/f7TxjQlVnj+jKmTxcCDyJ2aMeqj1FYUkj3xO4AJMQ6mTGqFzeMzOGTHUd57pNdgf/u5i+f7eG6ETncNb4vOV0SIxy5ihaaCFRU2lV6mic/LOJf6w/gM+B0CN8ZlsWPrurDRT1SIx1eVGmqVKWIMK5/V8b178qm4nKe+XgnS748xN9X7+O1Nfu5dng2d1/dTxOC0kSgosu+skr+8MEOXl9XjM9AjEO4fkQ2syf0o1d6+z6war21XPbyZYgIa35gn+HF1ixDPSS7E0/dNJyiI6d5epk/wf5jzX4WfVHM9QU53HN1P31IrQPTRKCiQkl5NU98uINXC/fj8RliHML3R2Zz1/jWX7E+vPphth/fzs8Lfs6g9IbF8PxLT9T6ahHsNZzUluL1/bol89j3h3LPxHz++OEO/rXuAH9f7Z9gvnF0L2ZP6EfXFGs9Z6HaTxOBiqjjFbX86eOdLPxsDzUeHw6B7w7PYs7EfHqnt+0OoK3HtrL28Foq3BWN7nc6nAiCweAzviYLvVjN+RSvz8tI4rHvDeWu8f14/P3tvLnxEH/5bA+vrtnP7Vfkcee4PiFZZkNZgyYCFREVNR5e+HQ3C5bv4lSNf0jj60N6cO/k/vTrlnJe52xpuWbwf2h6fB68Pi8Op00SQTsqr/XrlsyTNw5n9oSTzH93G+9vPcKTy4p4ceVe7hrfl1suz+3Qd2R1FJoI1AVV6/Hx99X7+OOHO4LPAYzr35X7rxnAkOz2PQ3bmuWaYyQGDx48xoOL6L/iPVp1lMn/nEy3hG4svW5po8eEohbzwMxUnr9lJGv3HueRd75i1e5j/M/bX/HCit3Mmdif6wuycdkkcapzaSJQF4TXZ1i84QDz391O8fEqwL9w2n9+7SIu65sekp8RrFDWzHLNTocTvNYpV+nxeYKvpgTnCEJQeW1E7868MmsMy3cc5ZF3vmLzwZP84vVNPP/JLn5+zQCmDu4RkqprKrpoIlBhZYzh/a1HmP/utmBhlvxuydz3tQFcM6h7SJ8DCFYoa6KkI4S+XGW4tVR1DerdNRSimsUiwlX9u3Jlvwze2nSI+e9uY9fRCma//AVDsjpx39cGMC4/Q5/hsBFNBCpsPtt5lN8t3ca6fScAyEpL4D8m9+c7w7JwhuGqsqUKZXDmA9Uqhd6DbWqml5PfOZ8/X/NnUuNC+3yFwyF869KeTBncg1fX7OcP7+9g04FybnlhNaPzunD/1wZQkNslpD9TRYYmAhVya/ceY/672/lsZxkA6UmxzJ7QjxtH9wrrxGNwjqC5oSGL9QjqJoCbS26psamMyhwVthhcTgc3je7Nd4dls/DzPfzpo52s2n2M6575nPEDunLv5P5ckp0Wtp+vwk8TgQqZ9ftP8Pv3tvPx9lIAUuJj+NG4Ptx2Rd4FWQm07iq/2aGhEEysXkituRPqQkmIdfLjq/py4+hePL98F3/+dDcfbSvlo22lTB7UnZ9Nyufinrr8tRVF/rdLWd7avcf4wwdFLA8kgKRYJ7ePzeOOsX0u6IqXwavnZnoEb33nLRzisEwh+GgsXJ8a7+LeawZw6xV5PPvxThZ+vof3thzmvS2HmTSwOz+d2E97CBajiUCdF2MMnxYd5U8f7QwOASXFOvnhZbnMGteHLkmxFzym3437HdXeatITmr4LKdZ5HnF53f5XbCuecN7zKez8EBwu//FxKRCXCgmdIanrmZezdX96rZkjiJQuSbE88PWBzLwyj2c+2sXLq/fy/tbDvL/1MFf178pPxvdldJ4uDGgFmghUm3i8Pt7+soRnPt4ZLAiTEhfDrVfkcvsVeXSOQAKoM7Tb0PP/5ppTULodyor8r2M74cR+KC+GU4fgqv+ECb9o+Tz7VsIn85s/Rhww9l6Y+P+2eLq6Xk5zw12R1i0lnge/NYifjO/L85/u4sXP9/Lx9lI+3l7KsF5p/GhcXyYP6h6WGwRUaETvb5eKKuVVbl5ZvY+Fn+3hYHk1ABnJcdw+NpcfjOlNahQWgG+Vja/Bh/PgxL5mDhJwV7bufLljYcJ/gbfW/z01p6DmJFQeg4qjUHHE/9/41o2le08eBKJraKgpXVPieGDqQH48ri9//Xwvf/lsN+v2neDHf1tLry6J3Hp5Lt8bmaN1laOQFqZRzfryQDl/W7mXN9YfpMrtH6bok5HE7WPzuG5EtvWXH9j8L3jtFnDGQno+ZORDel/o0hc650KnbEjtCc4QJjpPLfg8rRpqMovn4PniL/gS04nrOQx6DofsAsgqgKTQPIgXLpW1Hv5RuJ8XVuxm/zH/Q4TJcTF8Z1gWN43ppcuJX2BaoUy1SXmVmzc3HuTVwv1sKC4Pbr+iXzozx+Yxvn+36Hy61OuGw1/C/kIwXhjzk5a/p7ocTpVAlz6h/bAPlbf/H9j0GlSWnbuvSx/IHul/DZwGKd0vfHyt4PUZ3t96mD9/upvVu48Ftxf07sz3CnL4+iWZ2ku4ADQRqBbVenx8sqOUN9YfZOnmEmo8/nKQqfExXDcihxtH96Jft+QIR9lA5TEoLoT9q2D/ajiw9swQTkom3LsV7DBRaYx/6OrgF/42HvjC//JUnTnmjg/8PYUo91XJSV5auY/X1x3gdGCxwQSXk6mDezB9WBaX903XNY3CRBOBalS128vnO8t458sS3tlcQnmVO7jv8r7pXF+QzZSLM0mIjaLhn9pKWHK//8O/bMe5+7v0gZzRkDMKht8CUXi3TUh43XB4MxQXUrl/FXcneYh1xvPM5Gea/z5joiI5VtR4eGvTIf65ppjVe870Ejonupg6JJMpF/dgTJ90YmM0KYSKJgIVVFJezSc7SvnwqyN8vL2UytozD1Zd1COFb16SybeHZZHdOUrLFxoDv+sHlUchJh56Dgt88Ac+/JMyIh3hBVfprmT0y6NJiElg9U2rmz7QUwu/vxi6DYSsEf5Xz2H+OZAIJoc9Ryt4fd0B3tx4kJ2lZ2pJpMTFcNWArlx9UTfG5mfQLSU+YjHagSaCDuzo6RoKdx9j1e5jfLbzKNsPnz5r/6DMVCYP6s43L8kkv/v51QFoF58Pju2Cko3QZzwktmLtmq+W+MfDuw+BmMjdrhotar21jPjbCFwOF1/88IumDzy4HhZcde72pG7QcyhkXgo9hkCPS6BLXvgCboIxhq9KTvHWxkO8t+Uw2w6fOmv/RT1SuKJfBqPyujAyt0tEnlWxMk0EHURFjYevSk6xsfgEG4vLWb//BLuPnl2tKzHWyWV90hnXvysTB3a7cFf+Pi+c2Ou/V//odij9Co5sgdJtZ8b1b3wV+n8trGHM+XAOy4uX8/iEx7kqp5EPRQvy+rwMfXEoDnGw4eYNzR988mBgjmGt/3VovX/CvL6ew2DWR+EKt9X2lVXy3tbDfLKjlJW7yqh2+87a37drEpfmpDE0J40hWZ0Y0COFxFiddG5Kc4lA/9UsxhjDsYpa9h6rZFdpBbtKT1N05DTbDp9ib9m597onuJyM6N2ZkbldGN2nC8N7db7w467vPACFz/vvrW9MSk//lajr/JNSpbuS2R/MJtmVzB8n/rHJ43z48BjPeVXzilZ1JTd9xtdyCc7Unv7XwG/63xsDx3f7ewslm/x3XXU7t95zo0q3wa6PIa2X/9Upy/8UdYiGmXqlJzJzbB4zx+ZR7fbyxd7jrNx9jNW7y1i37wQ7SyvYWVrB/35xAPD/2Nz0JAZ0T6Fft2T6dE2iT9dkendJJC3RpU84NyOsiUBEpgB/AJzA88aYhxrsjwP+CowAyoDvG2P2hDOmaGWM4XSNhxOVbsoqajl6qoajp2s4cqqGQ+XVHD5ZzcETVew/VklFbeMLpsU6HfTtlsyQrFQuzUnj0uw0BvRIOf+7MLweqD4BVSeg6rh/XL7i6Jn/9p0A/Sa1fB5Xgj8JpGYF7tPPh24X+T9wul7UuuGgFtR6a1lzeA2psc3fm+5y+G8Rtcqic60hIv7Ka8aD13jbVotZxD/B3qUPDP5u237w7uXw9v1nb4tN9iealB6Q3N3/6jMe8ie37dwNxLucXN4vg8v7+eeAaj0+vio5yYb9J1i/v5wvD5Szs/Q0u49W+HvBm8/+/uS4GLI7J5CVlkCPTvFkdoqna0ocGcn+V3pyLGmJsSTFOjtkwghbIhARJ/AUMBkoBgpFZLExZku9w2YCx40x/UTkBuBh4Pvt+bkVNR7Kyo9QU+2/EyE48GXAYDDmzDaXK5W4hK7+3QZ8xmAI/NcYfIFt1VXHqakuw+fz4TUGn8/g9Rl8PvAY8Pp8eLwGryRjXF2o9fio9fqo9fio8fioqvVS5fa/Kms8/nNVl1JZ66Gy2k1lrZeKGjde40MAwSAYTnk7cdycO/mZEh9DTudE+nRNom/XZPITDpMbc4huyU5iOA3eYvC5ocTNqQNu8NSA10N8z6Ek9p3Y4r9h1ae/p+qTR1t8mjZeHCS2IhFUjZpFVcFtENdEMfrA/6t4ZzyJregVVHmqqKp/6yRwvPo40PIqnXVP6JbXlnOs+szdKgkxCSTEJLT4syvdlVR7q1s8LpTna82/i9PhxOP1cLTyKJ3jOxMf0/LEaoW7ghpvTYvHJcYkNn6+rgNgxG3+W1tP7KPi1EFqPJVwrMj/quNzQ86Ils+38VVY9zeITQJXIhWuWGpi4sAZDzFx4IoDR5x/PiNrGNkZkJ2RyvUjexAfE0+tx8fO0tNsKznFrtLTlB3cw6mj+yk55aai1oe71MOeoz52B//CwIdwwiRzCv/vZoxTSI1L8r/iY0iOjyEpNoakuBjSnDV0clQTH+skLsaJcdTicHqIdTpwOhy4nA5iYhw4XIkQl0yMQ3CKkORKJN4VT4xDcEjg5QCnp4oYTyUigohQ5anEYzzBDpVIoHPlTMDEJvrfIyS6EohzxlM/XaXEu9p1d184ewSjgCJjzC4AEXkFmA7UTwTTgV8Hvv4n8KSIiGnHxMXLq/bx8eqfsaHr7haPHXY8neUl97d43NiMZ0N6visznmF91z2QADSz0sCEmkyyez1BZqd4uqfG0zMtgZzOiees6LnwzYd5oKyZu0UCbj7cl/tbkQheLd/Koz27AM1fqd8cU0HLrYVX9y3l0TWPthzfoJu5f2TLZ3x126tNnq+lpRjqFm+b9/k85n0+L7h9zvA53DHkjhZ/9oKNC/jzl39u8bhQn++mgTcxd9TcJvfXtfuaRdfwq8t+xXX9r2vxnL8r/B2Ldixq8bgmz5c3zv+qO9+KX7Go6H/PPe7I2/CPt1s+X1kR7P74zPkyurAopZFnV3Y1Hl9sjIOBmakMzAz0Cj96Hfb8DwgQB79u6nxA/a0nD32XsqPn1nf4Wcw/+VnMmfY1d776qg99F/eJc883x7mI/3Cd+fdvz/n+/+8M4cbRvVr83qaEMxFkAfvrvS8GRjd1jDHGIyLlQDpwtP5BIjILmAXQq1fzjU2IdRLriKeT19fscQCxjniy0hICP4NAtvZ3tR2B9yKQ4kxs9HwNO5BdEpL5zrAsYhxCnMtBXIyTuBgH8S4nCS4n8S4HSXEx7CnqyZ6K3Y2c5+wz9u/ejbunXNRiO+KSutG5zNHg++tdVgTeJ6T1bvFcAHG5Y+l8amsjLTxbQuc+rTufM47OcZ1bPK41V9AtnW9a32nNfu+kXpMoLCnE7XWftT3OGdeqn50Qk9CqtoTyfHExcYzNGtvsMdP7Teed3e+E/Ge36XyuxPadb+hN0GsM1FaAu4qEfW/R+cQWf3cdCHTr/U+A11tFtsnzJXf3T3wbH/h8JLgq6Wzc9YYJAlzxEPjdM8CPv3kpo7tdxalqN6eqPVTWeqio8dJ7+xoqdmf4v90YYoglzVsvtoBaiaNGzsTUu0sqSSlpeH0+fD7/KIPPGJKqUzhe2yn47Q6fq9HPmRriqOZMe1Pi4nGmnN3meFf75v3CdteQiFwHTDHG3BF4/0NgtDHm7nrHfBk4pjjwfmfgmKONnRP0riGllDofzd01FM7bRw4AOfXeZwe2NXqMiMTgHyhpZFEVpZRS4RLORFAI5ItInojEAjcAixscsxi4JfD1dcCH7ZkfUEop1XZhmyMIjPnfDSzFf/voC8aYzSIyD1hjjFkM/Bl4UUSKgGP4k4VSSqkLKKzPERhjlgBLGmx7sN7X1cD14YxBKaVU83RpP6WU6uA0ESilVAeniUAppTo4TQRKKdXBWW4ZahEpBfa24tAMGjyhbHF2aw/Yr012aw9om6ygte3pbYzp2tgOyyWC1hKRNU09RWdFdmsP2K9NdmsPaJusIBTt0aEhpZTq4DQRKKVUB2fnRLAg0gGEmN3aA/Zrk93aA9omK2h3e2w7R6CUUqp17NwjUEop1QqaCJRSqoOzVSIQkd+IyEYRWS8i74pIz8B2EZEnRKQosH94pGNtLRH5nYh8FYj7dRFJq7fvgUCbtonI1yIZZ2uJyPUisllEfCJS0GCf5dpTR0SmBOIuEpGma0pGMRF5QUSOBApG1W3rIiLviciOwH9bLkEWJUQkR0SWiciWwO/cnMB2K7cpXkRWi8iGQJv+O7A9T0RWBX7//hFY+r/1TKBQux1eQGq9r38KPBP4+uvA2/hrL44BVkU61ja06RogJvD1w8DDga8HARuAOCAP2Ak4Ix1vK9ozEBgAfAQU1NtuyfYEYncG4u0DxAbaMSjScZ1HO8YBw4Ev6217BJgb+Hpu3e+fFV5AJjA88HUKsD3we2blNgmQHPjaBawKfKa9CtwQ2P4M8JO2nNdWPQJjzMl6b5M4U0h0OvBX47cSSBORzAse4HkwxrxrjPEE3q7EX+kN/G16xRhTY4zZDRQB51bIjjLGmK3GmG2N7LJkewJGAUXGmF3GmFrgFfztsRRjzHL8dUHqmw4sDHy9EPj2BQ2qHYwxh4wxXwS+PgVsxV8n3cptMsaY04G3rsDLAFcD/wxsb3ObbJUIAETk/xOR/cBNQF3tgyxgf73DigPbrOZ2/D0bsE+b6li5PVaOvSXdjTGHAl+XAN0jGcz5EpFcYBj+K2hLt0lEnCKyHjgCvIe/N3qi3gVjm3//LJcIROR9Efmykdd0AGPML40xOcBLwN2RjbZ1WmpT4JhfAh787YpqrWmPsh7jH3ew3P3mIpIMLAJ+1mDUwJJtMsZ4jTFD8Y8OjAIuau85w1qhLByMMZNaeehL+Kuj/Qo4AOTU25cd2BYVWmqTiNwKfBOYGPjFhShuUxv+H9UXte1pBSvH3pLDIpJpjDkUGE49EumA2kJEXPiTwEvGmP8NbLZ0m+oYY06IyDLgMvzD3TGBXkGbf/8s1yNojojk13s7Hfgq8PVi4ObA3UNjgPJ6XcOoJiJTgP8EphljKuvtWgzcICJxIpIH5AOrIxFjiFi5PYVAfuDOjVj8tbcXRzimUFkM3BL4+hbgjQjG0iYiIvjrom81xjxWb5eV29S17s5BEUkAJuOf+1gGXBc4rO1tivQseIhn1BcBXwIbgX8DWfVm2p/CP5a2iXp3q0T7C/+k6X5gfeD1TL19vwy0aRswNdKxtrI938E/hlkDHAaWWrk99WL/Ov67UnYCv4x0POfZhr8DhwB34P/RTCAd+ADYAbwPdIl0nG1oz1j8wz4b6/39fN3ibboEWBdo05fAg4HtffBfOBUBrwFxbTmvLjGhlFIdnK2GhpRSSrWdJgKllOrgNBEopVQHp4lAKaU6OE0ESinVwWkiUEqpDk4TgVJKdXCaCJRqJxEZGagXES8iSYF14gdHOi6lWksfKFMqBETkt0A8kAAUG2P+J8IhKdVqmgiUCoHAGkOFQDVwuTHGG+GQlGo1HRpSKjTSgWT8lbDiIxyLUm2iPQKlQkBEFuOvTJYHZBpjLFELQymwYD0CpaKNiNwMuI0xL4uIE/hMRK42xnwY6diUag3tESilVAencwRKKdXBaSJQSqkOThOBUkp1cJoIlFKqg9NEoJRSHZwmAqWU6uA0ESilVAf3fwGPK30Mmn58nwAAAABJRU5ErkJggg==\n",
                "text/plain": "<Figure size 432x288 with 1 Axes>"
              }
            ],
            "_view_module": "@jupyter-widgets/output",
            "_model_module_version": "1.0.0",
            "_view_count": null,
            "_view_module_version": "1.0.0",
            "layout": "IPY_MODEL_06c37c93fe594b52b9e7f8e0aeec76ec",
            "_model_module": "@jupyter-widgets/output"
          }
        },
        "910390a947fc4e9eb318b4aa540e6a37": {
          "model_module": "@jupyter-widgets/controls",
          "model_name": "SliderStyleModel",
          "state": {
            "_view_name": "StyleView",
            "handle_color": null,
            "_model_name": "SliderStyleModel",
            "description_width": "",
            "_view_module": "@jupyter-widgets/base",
            "_model_module_version": "1.5.0",
            "_view_count": null,
            "_view_module_version": "1.2.0",
            "_model_module": "@jupyter-widgets/controls"
          }
        },
        "fbad429117114138a3b28d62095e7afd": {
          "model_module": "@jupyter-widgets/base",
          "model_name": "LayoutModel",
          "state": {
            "_view_name": "LayoutView",
            "grid_template_rows": null,
            "right": null,
            "justify_content": null,
            "_view_module": "@jupyter-widgets/base",
            "overflow": null,
            "_model_module_version": "1.2.0",
            "_view_count": null,
            "flex_flow": null,
            "width": null,
            "min_width": null,
            "border": null,
            "align_items": null,
            "bottom": null,
            "_model_module": "@jupyter-widgets/base",
            "top": null,
            "grid_column": null,
            "overflow_y": null,
            "overflow_x": null,
            "grid_auto_flow": null,
            "grid_area": null,
            "grid_template_columns": null,
            "flex": null,
            "_model_name": "LayoutModel",
            "justify_items": null,
            "grid_row": null,
            "max_height": null,
            "align_content": null,
            "visibility": null,
            "align_self": null,
            "height": null,
            "min_height": null,
            "padding": null,
            "grid_auto_rows": null,
            "grid_gap": null,
            "max_width": null,
            "order": null,
            "_view_module_version": "1.2.0",
            "grid_template_areas": null,
            "object_position": null,
            "object_fit": null,
            "grid_auto_columns": null,
            "margin": null,
            "display": null,
            "left": null
          }
        },
        "06c37c93fe594b52b9e7f8e0aeec76ec": {
          "model_module": "@jupyter-widgets/base",
          "model_name": "LayoutModel",
          "state": {
            "_view_name": "LayoutView",
            "grid_template_rows": null,
            "right": null,
            "justify_content": null,
            "_view_module": "@jupyter-widgets/base",
            "overflow": null,
            "_model_module_version": "1.2.0",
            "_view_count": null,
            "flex_flow": null,
            "width": null,
            "min_width": null,
            "border": null,
            "align_items": null,
            "bottom": null,
            "_model_module": "@jupyter-widgets/base",
            "top": null,
            "grid_column": null,
            "overflow_y": null,
            "overflow_x": null,
            "grid_auto_flow": null,
            "grid_area": null,
            "grid_template_columns": null,
            "flex": null,
            "_model_name": "LayoutModel",
            "justify_items": null,
            "grid_row": null,
            "max_height": null,
            "align_content": null,
            "visibility": null,
            "align_self": null,
            "height": null,
            "min_height": null,
            "padding": null,
            "grid_auto_rows": null,
            "grid_gap": null,
            "max_width": null,
            "order": null,
            "_view_module_version": "1.2.0",
            "grid_template_areas": null,
            "object_position": null,
            "object_fit": null,
            "grid_auto_columns": null,
            "margin": null,
            "display": null,
            "left": null
          }
        },
        "90c9b4ed54f74c1da371963e5aa4a6be": {
          "model_module": "@jupyter-widgets/controls",
          "model_name": "VBoxModel",
          "state": {
            "_view_name": "VBoxView",
            "_dom_classes": [
              "widget-interact"
            ],
            "_model_name": "VBoxModel",
            "_view_module": "@jupyter-widgets/controls",
            "_model_module_version": "1.5.0",
            "_view_count": null,
            "_view_module_version": "1.5.0",
            "box_style": "",
            "layout": "IPY_MODEL_28725abcd0a04f21b16212d08c8ba09f",
            "_model_module": "@jupyter-widgets/controls",
            "children": [
              "IPY_MODEL_d3a7f50e3e224554baac9e73255d3325",
              "IPY_MODEL_502acd415e694e66af8d9ed5e4c937a7"
            ]
          }
        },
        "28725abcd0a04f21b16212d08c8ba09f": {
          "model_module": "@jupyter-widgets/base",
          "model_name": "LayoutModel",
          "state": {
            "_view_name": "LayoutView",
            "grid_template_rows": null,
            "right": null,
            "justify_content": null,
            "_view_module": "@jupyter-widgets/base",
            "overflow": null,
            "_model_module_version": "1.2.0",
            "_view_count": null,
            "flex_flow": null,
            "width": null,
            "min_width": null,
            "border": null,
            "align_items": null,
            "bottom": null,
            "_model_module": "@jupyter-widgets/base",
            "top": null,
            "grid_column": null,
            "overflow_y": null,
            "overflow_x": null,
            "grid_auto_flow": null,
            "grid_area": null,
            "grid_template_columns": null,
            "flex": null,
            "_model_name": "LayoutModel",
            "justify_items": null,
            "grid_row": null,
            "max_height": null,
            "align_content": null,
            "visibility": null,
            "align_self": null,
            "height": null,
            "min_height": null,
            "padding": null,
            "grid_auto_rows": null,
            "grid_gap": null,
            "max_width": null,
            "order": null,
            "_view_module_version": "1.2.0",
            "grid_template_areas": null,
            "object_position": null,
            "object_fit": null,
            "grid_auto_columns": null,
            "margin": null,
            "display": null,
            "left": null
          }
        },
        "d3a7f50e3e224554baac9e73255d3325": {
          "model_module": "@jupyter-widgets/controls",
          "model_name": "IntSliderModel",
          "state": {
            "_view_name": "IntSliderView",
            "style": "IPY_MODEL_8af90431c0344b4abfd7d87864b68009",
            "_dom_classes": [],
            "description": "t",
            "step": 1,
            "_model_name": "IntSliderModel",
            "orientation": "horizontal",
            "max": 50,
            "_view_module": "@jupyter-widgets/controls",
            "_model_module_version": "1.5.0",
            "value": 5,
            "_view_count": null,
            "disabled": false,
            "_view_module_version": "1.5.0",
            "min": 0,
            "continuous_update": true,
            "readout_format": "d",
            "description_tooltip": null,
            "readout": true,
            "_model_module": "@jupyter-widgets/controls",
            "layout": "IPY_MODEL_812c35967ea64fe9bf0c3078802ad76e"
          }
        },
        "502acd415e694e66af8d9ed5e4c937a7": {
          "model_module": "@jupyter-widgets/output",
          "model_name": "OutputModel",
          "state": {
            "_view_name": "OutputView",
            "msg_id": "",
            "_dom_classes": [],
            "_model_name": "OutputModel",
            "outputs": [
              {
                "output_type": "display_data",
                "metadata": {
                  "tags": [],
                  "needs_background": "light"
                },
                "image/png": "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\n",
                "text/plain": "<Figure size 432x288 with 1 Axes>"
              }
            ],
            "_view_module": "@jupyter-widgets/output",
            "_model_module_version": "1.0.0",
            "_view_count": null,
            "_view_module_version": "1.0.0",
            "layout": "IPY_MODEL_4dcfa23c67064f35a2fae9d835296fb3",
            "_model_module": "@jupyter-widgets/output"
          }
        },
        "8af90431c0344b4abfd7d87864b68009": {
          "model_module": "@jupyter-widgets/controls",
          "model_name": "SliderStyleModel",
          "state": {
            "_view_name": "StyleView",
            "handle_color": null,
            "_model_name": "SliderStyleModel",
            "description_width": "",
            "_view_module": "@jupyter-widgets/base",
            "_model_module_version": "1.5.0",
            "_view_count": null,
            "_view_module_version": "1.2.0",
            "_model_module": "@jupyter-widgets/controls"
          }
        },
        "812c35967ea64fe9bf0c3078802ad76e": {
          "model_module": "@jupyter-widgets/base",
          "model_name": "LayoutModel",
          "state": {
            "_view_name": "LayoutView",
            "grid_template_rows": null,
            "right": null,
            "justify_content": null,
            "_view_module": "@jupyter-widgets/base",
            "overflow": null,
            "_model_module_version": "1.2.0",
            "_view_count": null,
            "flex_flow": null,
            "width": null,
            "min_width": null,
            "border": null,
            "align_items": null,
            "bottom": null,
            "_model_module": "@jupyter-widgets/base",
            "top": null,
            "grid_column": null,
            "overflow_y": null,
            "overflow_x": null,
            "grid_auto_flow": null,
            "grid_area": null,
            "grid_template_columns": null,
            "flex": null,
            "_model_name": "LayoutModel",
            "justify_items": null,
            "grid_row": null,
            "max_height": null,
            "align_content": null,
            "visibility": null,
            "align_self": null,
            "height": null,
            "min_height": null,
            "padding": null,
            "grid_auto_rows": null,
            "grid_gap": null,
            "max_width": null,
            "order": null,
            "_view_module_version": "1.2.0",
            "grid_template_areas": null,
            "object_position": null,
            "object_fit": null,
            "grid_auto_columns": null,
            "margin": null,
            "display": null,
            "left": null
          }
        },
        "4dcfa23c67064f35a2fae9d835296fb3": {
          "model_module": "@jupyter-widgets/base",
          "model_name": "LayoutModel",
          "state": {
            "_view_name": "LayoutView",
            "grid_template_rows": null,
            "right": null,
            "justify_content": null,
            "_view_module": "@jupyter-widgets/base",
            "overflow": null,
            "_model_module_version": "1.2.0",
            "_view_count": null,
            "flex_flow": null,
            "width": null,
            "min_width": null,
            "border": null,
            "align_items": null,
            "bottom": null,
            "_model_module": "@jupyter-widgets/base",
            "top": null,
            "grid_column": null,
            "overflow_y": null,
            "overflow_x": null,
            "grid_auto_flow": null,
            "grid_area": null,
            "grid_template_columns": null,
            "flex": null,
            "_model_name": "LayoutModel",
            "justify_items": null,
            "grid_row": null,
            "max_height": null,
            "align_content": null,
            "visibility": null,
            "align_self": null,
            "height": null,
            "min_height": null,
            "padding": null,
            "grid_auto_rows": null,
            "grid_gap": null,
            "max_width": null,
            "order": null,
            "_view_module_version": "1.2.0",
            "grid_template_areas": null,
            "object_position": null,
            "object_fit": null,
            "grid_auto_columns": null,
            "margin": null,
            "display": null,
            "left": null
          }
        },
        "8395ab3033624350a9f925b7586602b9": {
          "model_module": "@jupyter-widgets/controls",
          "model_name": "VBoxModel",
          "state": {
            "_view_name": "VBoxView",
            "_dom_classes": [
              "widget-interact"
            ],
            "_model_name": "VBoxModel",
            "_view_module": "@jupyter-widgets/controls",
            "_model_module_version": "1.5.0",
            "_view_count": null,
            "_view_module_version": "1.5.0",
            "box_style": "",
            "layout": "IPY_MODEL_12480c8e244f41ce9709769dfd958bf9",
            "_model_module": "@jupyter-widgets/controls",
            "children": [
              "IPY_MODEL_4d371f4dff194ac6936040c7e27e6880",
              "IPY_MODEL_48b964a1f6ed454da765a4596c11f997"
            ]
          }
        },
        "12480c8e244f41ce9709769dfd958bf9": {
          "model_module": "@jupyter-widgets/base",
          "model_name": "LayoutModel",
          "state": {
            "_view_name": "LayoutView",
            "grid_template_rows": null,
            "right": null,
            "justify_content": null,
            "_view_module": "@jupyter-widgets/base",
            "overflow": null,
            "_model_module_version": "1.2.0",
            "_view_count": null,
            "flex_flow": null,
            "width": null,
            "min_width": null,
            "border": null,
            "align_items": null,
            "bottom": null,
            "_model_module": "@jupyter-widgets/base",
            "top": null,
            "grid_column": null,
            "overflow_y": null,
            "overflow_x": null,
            "grid_auto_flow": null,
            "grid_area": null,
            "grid_template_columns": null,
            "flex": null,
            "_model_name": "LayoutModel",
            "justify_items": null,
            "grid_row": null,
            "max_height": null,
            "align_content": null,
            "visibility": null,
            "align_self": null,
            "height": null,
            "min_height": null,
            "padding": null,
            "grid_auto_rows": null,
            "grid_gap": null,
            "max_width": null,
            "order": null,
            "_view_module_version": "1.2.0",
            "grid_template_areas": null,
            "object_position": null,
            "object_fit": null,
            "grid_auto_columns": null,
            "margin": null,
            "display": null,
            "left": null
          }
        },
        "4d371f4dff194ac6936040c7e27e6880": {
          "model_module": "@jupyter-widgets/controls",
          "model_name": "IntSliderModel",
          "state": {
            "_view_name": "IntSliderView",
            "style": "IPY_MODEL_0c0bab8735744d47b3cf6aace6f76248",
            "_dom_classes": [],
            "description": "x",
            "step": 1,
            "_model_name": "IntSliderModel",
            "orientation": "horizontal",
            "max": 99,
            "_view_module": "@jupyter-widgets/controls",
            "_model_module_version": "1.5.0",
            "value": 61,
            "_view_count": null,
            "disabled": false,
            "_view_module_version": "1.5.0",
            "min": -100,
            "continuous_update": true,
            "readout_format": "d",
            "description_tooltip": null,
            "readout": true,
            "_model_module": "@jupyter-widgets/controls",
            "layout": "IPY_MODEL_908f1ca1abb84d0eb2980bc32452d802"
          }
        },
        "48b964a1f6ed454da765a4596c11f997": {
          "model_module": "@jupyter-widgets/output",
          "model_name": "OutputModel",
          "state": {
            "_view_name": "OutputView",
            "msg_id": "",
            "_dom_classes": [],
            "_model_name": "OutputModel",
            "outputs": [
              {
                "output_type": "display_data",
                "metadata": {
                  "tags": [],
                  "needs_background": "light"
                },
                "image/png": "iVBORw0KGgoAAAANSUhEUgAAAYgAAAEGCAYAAAB/+QKOAAAABHNCSVQICAgIfAhkiAAAAAlwSFlzAAALEgAACxIB0t1+/AAAADh0RVh0U29mdHdhcmUAbWF0cGxvdGxpYiB2ZXJzaW9uMy4yLjIsIGh0dHA6Ly9tYXRwbG90bGliLm9yZy+WH4yJAAAbkUlEQVR4nO3dfZBdd33f8fdnn5+lXe3qAT3Lki0JQixnsaEGHPADhikWLbQISismnnHS4jSUZjrOMC3U6R88TDJDG7fgFk+BCTGBhInSljo2JqEQDFrZBluWZK9kPaKVVlo9rHZX+/jtH/dIXK1+K+9ae/autJ/XzJ17zu/8zr1fnXt1P3t+59xzFRGYmZmNV1bqAszMbHZyQJiZWZIDwszMkhwQZmaW5IAwM7OkilIXMF1aW1tj1apVpS7DzOyasmPHjhMR0ZZadt0ExKpVq+jo6Ch1GWZm1xRJByZa5iEmMzNLckCYmVmSA8LMzJIcEGZmluSAMDOzJAeEmZklOSDMzCzJAWFmZkkOCDMzS3JAmJlZkgPCzMySHBBmZpbkgDAzsyQHhJmZJTkgzMwsyQFhZmZJDggzM0tyQJiZWZIDwszMkhwQZmaW5IAwM7MkB4SZmSU5IMzMLMkBYWZmSbkGhKR7Je2R1CnpocTyT0l6SdIvJH1f0sqiZaOSns9u2/Ks08zMLleR1wNLKgceAe4GDgPbJW2LiJeKuj0HtEdEv6R/CXwB+HC2bCAibs6rPjMzu7I89yBuBTojYl9EDAGPA5uLO0TEDyKiP5t9BliWYz1mZjYFeQbEUuBQ0fzhrG0i9wPfK5qvkdQh6RlJH0itIOmBrE9Hd3f31VdsZmYX5TbENBWSPga0A3cUNa+MiCOS1gBPS3ohIvYWrxcRjwKPArS3t8eMFWxmNgfkuQdxBFheNL8sa7uEpLuATwP3RcTghfaIOJLd7wP+FtiUY61mZjZOngGxHVgnabWkKmALcMnZSJI2AV+hEA7Hi9qbJVVn063A7UDxwW0zM8tZbkNMETEi6UHgCaAceCwidkp6GOiIiG3AF4EG4NuSAA5GxH3ABuArksYohNjnxp39ZGZmOVPE9TF0397eHh0dHaUuw8zsmiJpR0S0p5b5m9RmZpbkgDAzsyQHhJmZJTkgzMwsyQFhZmZJDggzM0tyQJiZWZIDwszMkhwQZmaW5IAwM7MkB4SZmSU5IMzMLMkBYWZmSQ4IMzNLckCYmVmSA8LMzJIcEGZmluSAMDOzJAeEmZklOSDMzCzJAWFmZkkOCDMzS3JAmJlZkgPCzMySHBBmZpaUa0BIulfSHkmdkh5KLP+UpJck/ULS9yWtLFq2VdIr2W1rnnWamdnlcgsISeXAI8B7gY3ARyRtHNftOaA9It4MfAf4QrZuC/AZ4DbgVuAzkprzqtXMzC6X5x7ErUBnROyLiCHgcWBzcYeI+EFE9GezzwDLsun3AE9GRE9EnAKeBO7NsVYzMxsnz4BYChwqmj+ctU3kfuB7U1lX0gOSOiR1dHd3X2W5ZmZWbFYcpJb0MaAd+OJU1ouIRyOiPSLa29ra8inOzGyOyjMgjgDLi+aXZW2XkHQX8GngvogYnMq6ZmaWnzwDYjuwTtJqSVXAFmBbcQdJm4CvUAiH40WLngDukdScHZy+J2szM7MZUpHXA0fEiKQHKXywlwOPRcROSQ8DHRGxjcKQUgPwbUkAByPivojokfSHFEIG4OGI6MmrVjMzu5wiotQ1TIv29vbo6OgodRlmZtcUSTsioj21bFYcpDYzs9nHAWFmZkkOCDMzS3JAmJlZkgPCzMySHBBmZpbkgDAzsyQHhJmZJTkgzMwsyQFhZmZJDggzM0tyQJiZWZIDwszMkhwQZmaW5IAwM7MkB4SZmSU5IMzMLMkBYWZmSQ4IMzNLckCYmVmSA8LMzJIcEGZmluSAMDOzJAeEmZklOSDMzCwp14CQdK+kPZI6JT2UWP5OSc9KGpH0oXHLRiU9n9225VmnmZldriKvB5ZUDjwC3A0cBrZL2hYRLxV1Owh8HPj9xEMMRMTNedVnZmZXlltAALcCnRGxD0DS48Bm4GJARMT+bNlYjnWYmdnrkOcQ01LgUNH84axtsmokdUh6RtIHUh0kPZD16eju7r6aWs3MbJwp7UFIagbeAAwA+yMiz7/8V0bEEUlrgKclvRARe4s7RMSjwKMA7e3tkWMtZmZzzmsGhKR5wCeAjwBVQDdQAyyS9AzwXyPiB4lVjwDLi+aXZW2TEhFHsvt9kv4W2ATsveJKZmY2bSazB/Ed4OvAOyLidPECSe3AxyStiYivjltvO7BO0moKwbAF+Ohkisr2VPojYlBSK3A78IXJrGtmZtPjNQMiIu6+wrIOoGOCZSOSHgSeAMqBxyJip6SHgY6I2CbpLcB3gWbg/ZL+Y0S8EdgAfCU7eF0GfG7c2U9mZpYzRUxu6F7S9yPiztdqK5X29vbo6EhmlZmZTUDSjohoTy2bzDGIGqAOaM2GfpQtamJqZyWZmdk1ZDLHIH4b+CSFs5d28KuAOAv8SU51mZlZiU3mGMSXgC9J+t2I+C8zUJOZmc0Ck/6i3PhwkNQu6Q3TX5KZmc0GV/NN6t8F/rekb01XMWZmNnu87msxRcRWAEmN01eOmZnNFpPeg5B0/7j5ckmfiYje6S/LzMxKbSpDTHdK+j+Slkh6I/AM4L0HM7Pr1KSHmCLio5I+DLwA9AEfjYgf51aZmZmV1FSGmNYBvwf8BXAA+OeS6vIqzMzMSmsqQ0x/Dfz7iPht4A7gFQoX5DMzs+vQVM5iujUizgJE4QJOfyTpr/Mpy8zMSu019yAkvR3gQjgUi4iXJTVJelMexZmZWelMZg/ig5K+APxfCtdiuvCDQWuBdwErgX+bW4VmZlYSk7kW07+R1AJ8EPgnwGIKPzm6C/iyz2QyM7s+TeoYRET0SPo60A+sKlrvTsABYWZ2HZrKQeq/Ak4DzwLn8ynHzMxmi6kExLKIuDe3SszMbFaZyvcg/l7Sr+VWiZmZzSpT2YN4O/BxSa8CgxR+WS4i4s25VGZmZiU1lYB4b25VmJnZrDOVi/UdyLMQMzObXa7mF+XMzOw65oAwM7MkB4SZmSXlGhCS7pW0R1KnpIcSy98p6VlJI5I+NG7ZVkmvZLetedZpZmaXyy0gJJUDj1A4+2kj8BFJG8d1Owh8HPjmuHVbgM8AtwG3Ap+R1JxXrWZmdrk89yBuBTojYl9EDAGPA5uLO0TE/oj4BTA2bt33AE9GRE9EnAKeBPwtbjOzGZRnQCwFDhXNH87apm1dSQ9I6pDU0d3d/boLNTOzy13TB6kj4tGIaI+I9ra2tlKXY2Z2XckzII4Ay4vml2Vtea9rZmbTIM+A2A6sk7RaUhWwBdg2yXWfAO6R1JwdnL4nazMzsxmSW0BExAjwIIUP9l3An0fETkkPS7oPQNJbJB2m8Et1X5G0M1u3B/hDCiGzHXg4azMzsxmiiCh1DdOivb09Ojo6Sl2Gmdk1RdKOiGhPLbumD1KbmVl+HBBmZpbkgDAzsyQHhJmZJTkgzMwsyQFhZmZJDggzM0tyQJiZWZIDwszMkhwQZmaW5IAwM7MkB4SZmSU5IMzMLMkBYWZmSQ4IMzNLckCYmVmSA8LMzJIcEGZmluSAMDOzJAeEmZklOSDMzCzJAWFmZkkOCDMzS3JAmJlZkgPCzMyScg0ISfdK2iOpU9JDieXVkr6VLf+ppFVZ+ypJA5Kez25fzrNOMzO7XEVeDyypHHgEuBs4DGyXtC0iXirqdj9wKiLWStoCfB74cLZsb0TcnFd9ZmZ2ZXnuQdwKdEbEvogYAh4HNo/rsxn4Wjb9HeBOScqxJjMzm6Q8A2IpcKho/nDWluwTESPAGWBBtmy1pOck/Z2kd6SeQNIDkjokdXR3d09v9WZmc9xsPUh9FFgREZuATwHflNQ0vlNEPBoR7RHR3tbWNuNFmpldz/IMiCPA8qL5ZVlbso+kCmAecDIiBiPiJEBE7AD2AjfmWKuZmY2TZ0BsB9ZJWi2pCtgCbBvXZxuwNZv+EPB0RISktuwgN5LWAOuAfTnWamZm4+R2FlNEjEh6EHgCKAcei4idkh4GOiJiG/BV4BuSOoEeCiEC8E7gYUnDwBjwOxHRk1etZmZ2OUVEqWuYFu3t7dHR0VHqMszMrimSdkREe2rZbD1IbWZmJeaAMDOzJAeEmZklOSDMzCzJAWFmZkkOCDMzS3JAmJlZkgPCzMySHBBmZpbkgDAzs6TcrsVkZlPXNzjCL08P0N07SPe5QU6cG+LEuUHODAzTPzhC39AofYMj9A+NMhZBBIxFMBZQJqipLKemsozaynKqK8upqSinobqc5voqWuqraK6rYkF9Fc31VSxoqKK1vpqyMv9Gl6U5IMxm2MjoGPtP9rG7q5eXu3rZf7Kfgz39HOrp52Tf0GX9K8vFvNpK6qoqqK+uoL6qnMaaCsrLRJlEmUASY2PB+ZFRzg+Pcbp/mIHhUQaHxzg3OMKZgeFkLZXlYsm8WpbMq2Hp/FrekN1WLahjdVs9ixprHCBzmAPCLEdjY0Fn9zmeO3iK5w6e5oUjZ3jl+DmGRsaAwl/9S5trWdFSxz1vXMTyljqWNdfR1lBNW2MVrQ3VzKut5Gp/iXdkdIzTA8P09A3R0zfEqb4hus8N8svT5zl6ZoBfnh7gp6/20HX2PKNjv7qAZ21lOSsX1LGmrZ5VC+pZ3VrPDQsbWLewgcaayquqyWY/B4TZNDo/PMr2/T1sf7WH5w6d5vmDp+kdHAFgXm0lb142j61vW8lNi5tYv7iRtQsbqKksz72uivIyWhuqaW2ovmK/kdExjvUOsv9EH/tO9PFqdx/7T/ax62gvT+w8dkl4LJ1fy02LG7lxUSPrs/sbFtZTXZH/v8dmhgPC7CqMjgUvHDnDjztP8KNXTrDj4CmGRsYoE6xf3MR9N7+BTSuauWXFfFa31l/1nkDeKsrLWDq/lqXza7l9besly4ZHxzjU08/e7j5ePtbLnq7C7YcvdzOSBUd5mVi1oI71i5u4cVEjNy1uZMOSRpY313mo6hrk34Mwm6KeviGe3n2cp146xo/3nqD3fGEPYcOSJt6+dgG3r23lLataqK+eG39/DY0Ujqns6eq9GBwvH+vlQE8/Fz5e6qrKuXFRISzWZ3tP6xc3Ma/Ow1SldqXfg5gb72Czq7Sv+xxP7TrGUy8dp+NAD2MBi5qqed+blnD7ulb+wQ0LXnP45npVVVHGjYsKQ0zF+odGeOXYOXZ3nWV3Vy+7j/byvRe7+LOfHbrYZ8m8mkJYLPlVaKxpq6ey3GfgzwYOCLOE0bHg2YOneOqlYzy56xj7uvuAwl7Cg+9ay90bF/OmpU2zfsiolOqqKvj15fP59eXzL7ZFBMd7B9l19Cx7unrZ3dXLrqNn+VHnCYZHC7sbleVi7cJGNiwuDFGtX9LEhsWNtDVWe3vPMAeEWaZvcIT/98oJntp1jKd3H6enb4iKMvG2Gxaw9W2ruHPDQpY115W6zGuaJBY11bCoqYbfvGnhxfahkTH2nTjHnq5edh3tZXfXWf5+70n+8rkjF/u01Fdx06JG1i9pZMPiJtYvaWTdwkZqq3xQPC8OCJvTjp09nw0dHePHe08yNDJGU00F71q/kLs2LOKOm9po8umcuauqKMuOTTSx+eZftZ/uH8qGpwrDVLu6enn8Z4cYGB4FQILVC+pZX3RsY92iRpY311LhYaqr5oCwOWVsLNj5y7MX9xJeOHIGgOUttXzstpXctXEhb1nV4jHwWWJ+XRVvXbOAt65ZcLFtbCw42NPP7q6zF/c2dv7yLN97seviQfHKcrGipY41bQ2saavnhtbC/Zq2Blrqq0r0r7n2+Cwmu+4NDI3yo84TPL37GN/fdZzjvYNIcMuKZt69fiF3b1zEuoUNHt++xvUNjvDysV46j59j34k+9nWfY193HwdO9jM0Onax3/y6Sta0FsJiRUsdK1rqWN5Sy/KWwhcU59r7wGcx2ZwyNhbs7uotfDeh8wTP7DvJ4MgYDdUV3HFjG+9ev5DfvKmNBXP0rKPrVX11BZtWNLNpRfMl7SOjYxw+NcC+E4XA2NtdCI8fvtzN8d7BS/rWVJaxvLmO5VlwLMu+5b6suY4l82qYX3f132q/ljgg7JoXURhy+Mnek/yo8wQ/2Xvy4jWN1i5s4KO3reCuDYt4y6oWqio8dDTXVJSXsaq1nlWt9bx7/aXLzg+PcvjUhWthDXCoJ5s+NcDPXu3hXPYt+AuqK8pYMq+GxfNqWNxUw+LsOlYX5pfMq2FBQzXl18mXAh0Qds3pHxrh54fO8NyhUzx74DTPHzrFiXOFQFjUVM0dN7Zx+9pWbl/byuJ5NSWu1mazmspy1i5sZO3CxsuWRQSn+4c5dKqfw6cG6Dpznq6z5zl65jxdZwboOHCKY2ePXjw994IyFc64am2oLlwxt6GaBfXVtDYWrp7b2liVzVfTXFdJbWX5rN0rcUDYrBURdJ8bZHd2IHJ3dgrky8d6L14TaE1rPXfcuJBNK+Zz2+oW1vpYgk0TSTRnl0Z/87L5yT5jY8HJviG6zhQueth19jzdvYOcKLpU+3MHT3Pi3CD9Q6PJxyhcrbeKebUVzK+rYn5tJfNqK5lXV7ifX1vJ/Loq5tVW0lRbQUN1JQ01FTTWVFBfVZHr3kquASHpXuBLQDnwPyLic+OWVwNfB34DOAl8OCL2Z8v+ALgfGAX+dUQ8kWetNvMiglP9wxw7e57jvYMcO3OeAz2Fg4oHTvaz/2TfxctYQGHv4KbFTdy1YSG3rGjm5uXzafYZKVZCZWWirbGatsZqfm3ZvCv27R8a4WQWGifODXHy3CCnB4Y53T/MmYFhzgwMcbp/mK6z59nd1cuZgeHLhrhS6qvKaV/Vwtd+69bp+mddlFtASCoHHgHuBg4D2yVti4iXirrdD5yKiLWStgCfBz4saSOwBXgj8AbgKUk3RkQ6gq/C2FhcvFZ+8Y7i+LO7Ll1W3B7JTpPpHxP2T/e5pJ6recwJHodJPc6lzzs8EgyOjDI0MsbgyBiDI6PZ/Rjnh0fpPT/C2fPDhfuBwv3pgWFO9A5yvPf8Zbvn5WViWXMtKxfUsym7wN2F89sdBnYtq6uqoK6lguUtk/+y5fDoGGcHhi8GybnBEXrPD3Pu/Eg2Xbhf2JjPCRd57kHcCnRGxD4ASY8Dm4HigNgMfDab/g7wJyqMD2wGHo+IQeBVSZ3Z4/1kuos81T/Eb/ynp6b7Ya1IVXkZTbUVNNZU0lRTQVNtJTe01bOwsYaFjdUsaqphYVM1ixprWDK/xt9BMMtUlpexoKG6ZGfc5RkQS4FDRfOHgdsm6hMRI5LOAAuy9mfGrbt0/BNIegB4AGDFihWvq8j66go++/6NxY9ZND3u+S598mR78Toi/ViT6T/B5KX1TfQ4k6ih2KQec4LHqSwvo7qicKuqKKO6ojy7L6OmsvDLZzPxewdmNv2u6YPUEfEo8CgUvij3eh6jprKcj9++elrrMjO7HuS5L38EWF40vyxrS/aRVAHMo3CwejLrmplZjvIMiO3AOkmrJVVROOi8bVyfbcDWbPpDwNNROJq6DdgiqVrSamAd8LMcazUzs3FyG2LKjik8CDxB4TTXxyJip6SHgY6I2AZ8FfhGdhC6h0KIkPX7cwoHtEeAT+RxBpOZmU3MF+szM5vDrnSxPp9PaGZmSQ4IMzNLckCYmVmSA8LMzJIcEGZmluSAMDOzJAeEmZklOSDMzCzJAWFmZkkOCDMzS3JAmJlZkgPCzMySrpuL9UnqBg68jlVbgRPTXM50mK11weytzXVNzWytC2ZvbddjXSsjoi214LoJiNdLUsdEVzIspdlaF8ze2lzX1MzWumD21jbX6vIQk5mZJTkgzMwsyQEBj5a6gAnM1rpg9tbmuqZmttYFs7e2OVXXnD8GYWZmad6DMDOzJAeEmZklzemAkHSvpD2SOiU9VMI6lkv6gaSXJO2U9HtZ+2clHZH0fHZ7Xwlq2y/phez5O7K2FklPSnolu2+e4ZpuKtomz0s6K+mTpdpekh6TdFzSi0VtyW2kgv+cved+IemWGa7ri5J2Z8/9XUnzs/ZVkgaKtt2XZ7iuCV87SX+Qba89kt4zw3V9q6im/ZKez9pncntN9PmQ/3ssIubkDSgH9gJrgCrg58DGEtWyBLglm24EXgY2Ap8Ffr/E22k/0Dqu7QvAQ9n0Q8DnS/w6dgErS7W9gHcCtwAvvtY2At4HfA8Q8FbgpzNc1z1ARTb9+aK6VhX3K8H2Sr522f+DnwPVwOrs/2z5TNU1bvkfAf+hBNtros+H3N9jc3kP4lagMyL2RcQQ8DiwuRSFRMTRiHg2m+4FdgFLS1HLJG0GvpZNfw34QAlruRPYGxGv51v00yIifgj0jGueaBttBr4eBc8A8yUtmam6IuJvImIkm30GWJbHc0+1rivYDDweEYMR8SrQSeH/7ozWJUnAPwX+LI/nvpIrfD7k/h6bywGxFDhUNH+YWfChLGkVsAn4adb0YLab+NhMD+VkAvgbSTskPZC1LYqIo9l0F7CoBHVdsIVL/9OWentdMNE2mk3vu9+i8JfmBaslPSfp7yS9owT1pF672bK93gEci4hXitpmfHuN+3zI/T02lwNi1pHUAPwF8MmIOAv8N+AG4GbgKIVd3Jn29oi4BXgv8AlJ7yxeGIV92pKcKy2pCrgP+HbWNBu212VKuY0mIunTwAjwp1nTUWBFRGwCPgV8U1LTDJY0K1+7Ih/h0j9EZnx7JT4fLsrrPTaXA+IIsLxoflnWVhKSKim8+H8aEX8JEBHHImI0IsaA/05Ou9ZXEhFHsvvjwHezGo5d2GXN7o/PdF2Z9wLPRsSxrMaSb68iE22jkr/vJH0c+IfAP8s+WMiGcE5m0zsojPXfOFM1XeG1mw3bqwL4x8C3LrTN9PZKfT4wA++xuRwQ24F1klZnf4luAbaVopBsfPOrwK6I+OOi9uJxw38EvDh+3ZzrqpfUeGGawgHOFylsp61Zt63AX81kXUUu+auu1NtrnIm20TbgX2RnmrwVOFM0TJA7SfcC/w64LyL6i9rbJJVn02uAdcC+GaxrotduG7BFUrWk1VldP5upujJ3Absj4vCFhpncXhN9PjAT77GZOAo/W28Ujva/TCH9P13COt5OYffwF8Dz2e19wDeAF7L2bcCSGa5rDYUzSH4O7LywjYAFwPeBV4CngJYSbLN64CQwr6itJNuLQkgdBYYpjPfeP9E2onBmySPZe+4FoH2G6+qkMD594X325azvB7PX+HngWeD9M1zXhK8d8Olse+0B3juTdWXt/xP4nXF9Z3J7TfT5kPt7zJfaMDOzpLk8xGRmZlfggDAzsyQHhJmZJTkgzMwsyQFhZmZJDgizHEmaL+lflboOs9fDAWGWr/mAA8KuSQ4Is3x9Drgh+82AL5a6GLOp8BflzHKUXX3zf0XEm0pcitmUeQ/CzMySHBBmZpbkgDDLVy+Fn4k0u+Y4IMxyFIXfDPixpBd9kNquNT5IbWZmSd6DMDOzJAeEmZklOSDMzCzJAWFmZkkOCDMzS3JAmJlZkgPCzMyS/j9/rIR1gPCIYwAAAABJRU5ErkJggg==\n",
                "text/plain": "<Figure size 432x288 with 1 Axes>"
              }
            ],
            "_view_module": "@jupyter-widgets/output",
            "_model_module_version": "1.0.0",
            "_view_count": null,
            "_view_module_version": "1.0.0",
            "layout": "IPY_MODEL_5c03a7773fa8425c86f78c23af13ada5",
            "_model_module": "@jupyter-widgets/output"
          }
        },
        "0c0bab8735744d47b3cf6aace6f76248": {
          "model_module": "@jupyter-widgets/controls",
          "model_name": "SliderStyleModel",
          "state": {
            "_view_name": "StyleView",
            "handle_color": null,
            "_model_name": "SliderStyleModel",
            "description_width": "",
            "_view_module": "@jupyter-widgets/base",
            "_model_module_version": "1.5.0",
            "_view_count": null,
            "_view_module_version": "1.2.0",
            "_model_module": "@jupyter-widgets/controls"
          }
        },
        "908f1ca1abb84d0eb2980bc32452d802": {
          "model_module": "@jupyter-widgets/base",
          "model_name": "LayoutModel",
          "state": {
            "_view_name": "LayoutView",
            "grid_template_rows": null,
            "right": null,
            "justify_content": null,
            "_view_module": "@jupyter-widgets/base",
            "overflow": null,
            "_model_module_version": "1.2.0",
            "_view_count": null,
            "flex_flow": null,
            "width": null,
            "min_width": null,
            "border": null,
            "align_items": null,
            "bottom": null,
            "_model_module": "@jupyter-widgets/base",
            "top": null,
            "grid_column": null,
            "overflow_y": null,
            "overflow_x": null,
            "grid_auto_flow": null,
            "grid_area": null,
            "grid_template_columns": null,
            "flex": null,
            "_model_name": "LayoutModel",
            "justify_items": null,
            "grid_row": null,
            "max_height": null,
            "align_content": null,
            "visibility": null,
            "align_self": null,
            "height": null,
            "min_height": null,
            "padding": null,
            "grid_auto_rows": null,
            "grid_gap": null,
            "max_width": null,
            "order": null,
            "_view_module_version": "1.2.0",
            "grid_template_areas": null,
            "object_position": null,
            "object_fit": null,
            "grid_auto_columns": null,
            "margin": null,
            "display": null,
            "left": null
          }
        },
        "5c03a7773fa8425c86f78c23af13ada5": {
          "model_module": "@jupyter-widgets/base",
          "model_name": "LayoutModel",
          "state": {
            "_view_name": "LayoutView",
            "grid_template_rows": null,
            "right": null,
            "justify_content": null,
            "_view_module": "@jupyter-widgets/base",
            "overflow": null,
            "_model_module_version": "1.2.0",
            "_view_count": null,
            "flex_flow": null,
            "width": null,
            "min_width": null,
            "border": null,
            "align_items": null,
            "bottom": null,
            "_model_module": "@jupyter-widgets/base",
            "top": null,
            "grid_column": null,
            "overflow_y": null,
            "overflow_x": null,
            "grid_auto_flow": null,
            "grid_area": null,
            "grid_template_columns": null,
            "flex": null,
            "_model_name": "LayoutModel",
            "justify_items": null,
            "grid_row": null,
            "max_height": null,
            "align_content": null,
            "visibility": null,
            "align_self": null,
            "height": null,
            "min_height": null,
            "padding": null,
            "grid_auto_rows": null,
            "grid_gap": null,
            "max_width": null,
            "order": null,
            "_view_module_version": "1.2.0",
            "grid_template_areas": null,
            "object_position": null,
            "object_fit": null,
            "grid_auto_columns": null,
            "margin": null,
            "display": null,
            "left": null
          }
        },
        "4ac98df6506947c7bb8ea30efc3cfdd7": {
          "model_module": "@jupyter-widgets/controls",
          "model_name": "VBoxModel",
          "state": {
            "_view_name": "VBoxView",
            "_dom_classes": [
              "widget-interact"
            ],
            "_model_name": "VBoxModel",
            "_view_module": "@jupyter-widgets/controls",
            "_model_module_version": "1.5.0",
            "_view_count": null,
            "_view_module_version": "1.5.0",
            "box_style": "",
            "layout": "IPY_MODEL_6c9cb099afb44497a6aeb960b001c4d1",
            "_model_module": "@jupyter-widgets/controls",
            "children": [
              "IPY_MODEL_f764d7915919417a8aa33fe8cdb4c56a",
              "IPY_MODEL_91e34894f92446f1b8935f0018e0f38c"
            ]
          }
        },
        "6c9cb099afb44497a6aeb960b001c4d1": {
          "model_module": "@jupyter-widgets/base",
          "model_name": "LayoutModel",
          "state": {
            "_view_name": "LayoutView",
            "grid_template_rows": null,
            "right": null,
            "justify_content": null,
            "_view_module": "@jupyter-widgets/base",
            "overflow": null,
            "_model_module_version": "1.2.0",
            "_view_count": null,
            "flex_flow": null,
            "width": null,
            "min_width": null,
            "border": null,
            "align_items": null,
            "bottom": null,
            "_model_module": "@jupyter-widgets/base",
            "top": null,
            "grid_column": null,
            "overflow_y": null,
            "overflow_x": null,
            "grid_auto_flow": null,
            "grid_area": null,
            "grid_template_columns": null,
            "flex": null,
            "_model_name": "LayoutModel",
            "justify_items": null,
            "grid_row": null,
            "max_height": null,
            "align_content": null,
            "visibility": null,
            "align_self": null,
            "height": null,
            "min_height": null,
            "padding": null,
            "grid_auto_rows": null,
            "grid_gap": null,
            "max_width": null,
            "order": null,
            "_view_module_version": "1.2.0",
            "grid_template_areas": null,
            "object_position": null,
            "object_fit": null,
            "grid_auto_columns": null,
            "margin": null,
            "display": null,
            "left": null
          }
        },
        "f764d7915919417a8aa33fe8cdb4c56a": {
          "model_module": "@jupyter-widgets/controls",
          "model_name": "IntSliderModel",
          "state": {
            "_view_name": "IntSliderView",
            "style": "IPY_MODEL_ce192b66b8c5454b97ce4fe15eddf2d7",
            "_dom_classes": [],
            "description": "x",
            "step": 1,
            "_model_name": "IntSliderModel",
            "orientation": "horizontal",
            "max": 99,
            "_view_module": "@jupyter-widgets/controls",
            "_model_module_version": "1.5.0",
            "value": -100,
            "_view_count": null,
            "disabled": false,
            "_view_module_version": "1.5.0",
            "min": -100,
            "continuous_update": true,
            "readout_format": "d",
            "description_tooltip": null,
            "readout": true,
            "_model_module": "@jupyter-widgets/controls",
            "layout": "IPY_MODEL_524042eaa9a540049430de8bf0b4db35"
          }
        },
        "91e34894f92446f1b8935f0018e0f38c": {
          "model_module": "@jupyter-widgets/output",
          "model_name": "OutputModel",
          "state": {
            "_view_name": "OutputView",
            "msg_id": "",
            "_dom_classes": [],
            "_model_name": "OutputModel",
            "outputs": [
              {
                "output_type": "display_data",
                "metadata": {
                  "tags": [],
                  "needs_background": "light"
                },
                "image/png": "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\n",
                "text/plain": "<Figure size 432x288 with 1 Axes>"
              }
            ],
            "_view_module": "@jupyter-widgets/output",
            "_model_module_version": "1.0.0",
            "_view_count": null,
            "_view_module_version": "1.0.0",
            "layout": "IPY_MODEL_5a8811f1c6da4922945bf6b0ad1ca4af",
            "_model_module": "@jupyter-widgets/output"
          }
        },
        "ce192b66b8c5454b97ce4fe15eddf2d7": {
          "model_module": "@jupyter-widgets/controls",
          "model_name": "SliderStyleModel",
          "state": {
            "_view_name": "StyleView",
            "handle_color": null,
            "_model_name": "SliderStyleModel",
            "description_width": "",
            "_view_module": "@jupyter-widgets/base",
            "_model_module_version": "1.5.0",
            "_view_count": null,
            "_view_module_version": "1.2.0",
            "_model_module": "@jupyter-widgets/controls"
          }
        },
        "524042eaa9a540049430de8bf0b4db35": {
          "model_module": "@jupyter-widgets/base",
          "model_name": "LayoutModel",
          "state": {
            "_view_name": "LayoutView",
            "grid_template_rows": null,
            "right": null,
            "justify_content": null,
            "_view_module": "@jupyter-widgets/base",
            "overflow": null,
            "_model_module_version": "1.2.0",
            "_view_count": null,
            "flex_flow": null,
            "width": null,
            "min_width": null,
            "border": null,
            "align_items": null,
            "bottom": null,
            "_model_module": "@jupyter-widgets/base",
            "top": null,
            "grid_column": null,
            "overflow_y": null,
            "overflow_x": null,
            "grid_auto_flow": null,
            "grid_area": null,
            "grid_template_columns": null,
            "flex": null,
            "_model_name": "LayoutModel",
            "justify_items": null,
            "grid_row": null,
            "max_height": null,
            "align_content": null,
            "visibility": null,
            "align_self": null,
            "height": null,
            "min_height": null,
            "padding": null,
            "grid_auto_rows": null,
            "grid_gap": null,
            "max_width": null,
            "order": null,
            "_view_module_version": "1.2.0",
            "grid_template_areas": null,
            "object_position": null,
            "object_fit": null,
            "grid_auto_columns": null,
            "margin": null,
            "display": null,
            "left": null
          }
        },
        "5a8811f1c6da4922945bf6b0ad1ca4af": {
          "model_module": "@jupyter-widgets/base",
          "model_name": "LayoutModel",
          "state": {
            "_view_name": "LayoutView",
            "grid_template_rows": null,
            "right": null,
            "justify_content": null,
            "_view_module": "@jupyter-widgets/base",
            "overflow": null,
            "_model_module_version": "1.2.0",
            "_view_count": null,
            "flex_flow": null,
            "width": null,
            "min_width": null,
            "border": null,
            "align_items": null,
            "bottom": null,
            "_model_module": "@jupyter-widgets/base",
            "top": null,
            "grid_column": null,
            "overflow_y": null,
            "overflow_x": null,
            "grid_auto_flow": null,
            "grid_area": null,
            "grid_template_columns": null,
            "flex": null,
            "_model_name": "LayoutModel",
            "justify_items": null,
            "grid_row": null,
            "max_height": null,
            "align_content": null,
            "visibility": null,
            "align_self": null,
            "height": null,
            "min_height": null,
            "padding": null,
            "grid_auto_rows": null,
            "grid_gap": null,
            "max_width": null,
            "order": null,
            "_view_module_version": "1.2.0",
            "grid_template_areas": null,
            "object_position": null,
            "object_fit": null,
            "grid_auto_columns": null,
            "margin": null,
            "display": null,
            "left": null
          }
        },
        "1dabdba7d50341c4882798a300a6f196": {
          "model_module": "@jupyter-widgets/controls",
          "model_name": "VBoxModel",
          "state": {
            "_view_name": "VBoxView",
            "_dom_classes": [
              "widget-interact"
            ],
            "_model_name": "VBoxModel",
            "_view_module": "@jupyter-widgets/controls",
            "_model_module_version": "1.5.0",
            "_view_count": null,
            "_view_module_version": "1.5.0",
            "box_style": "",
            "layout": "IPY_MODEL_a752f049f65b4262a5e5311e332c3214",
            "_model_module": "@jupyter-widgets/controls",
            "children": [
              "IPY_MODEL_87e34bbcd66e45b2aa7be4a0f090482a",
              "IPY_MODEL_c60bdb92fff6461381549ec4c5b43aee"
            ]
          }
        },
        "a752f049f65b4262a5e5311e332c3214": {
          "model_module": "@jupyter-widgets/base",
          "model_name": "LayoutModel",
          "state": {
            "_view_name": "LayoutView",
            "grid_template_rows": null,
            "right": null,
            "justify_content": null,
            "_view_module": "@jupyter-widgets/base",
            "overflow": null,
            "_model_module_version": "1.2.0",
            "_view_count": null,
            "flex_flow": null,
            "width": null,
            "min_width": null,
            "border": null,
            "align_items": null,
            "bottom": null,
            "_model_module": "@jupyter-widgets/base",
            "top": null,
            "grid_column": null,
            "overflow_y": null,
            "overflow_x": null,
            "grid_auto_flow": null,
            "grid_area": null,
            "grid_template_columns": null,
            "flex": null,
            "_model_name": "LayoutModel",
            "justify_items": null,
            "grid_row": null,
            "max_height": null,
            "align_content": null,
            "visibility": null,
            "align_self": null,
            "height": null,
            "min_height": null,
            "padding": null,
            "grid_auto_rows": null,
            "grid_gap": null,
            "max_width": null,
            "order": null,
            "_view_module_version": "1.2.0",
            "grid_template_areas": null,
            "object_position": null,
            "object_fit": null,
            "grid_auto_columns": null,
            "margin": null,
            "display": null,
            "left": null
          }
        },
        "87e34bbcd66e45b2aa7be4a0f090482a": {
          "model_module": "@jupyter-widgets/controls",
          "model_name": "IntSliderModel",
          "state": {
            "_view_name": "IntSliderView",
            "style": "IPY_MODEL_15a5455a47744816b344aee388290d7b",
            "_dom_classes": [],
            "description": "t",
            "step": 1,
            "_model_name": "IntSliderModel",
            "orientation": "horizontal",
            "max": 50,
            "_view_module": "@jupyter-widgets/controls",
            "_model_module_version": "1.5.0",
            "value": 13,
            "_view_count": null,
            "disabled": false,
            "_view_module_version": "1.5.0",
            "min": 1,
            "continuous_update": true,
            "readout_format": "d",
            "description_tooltip": null,
            "readout": true,
            "_model_module": "@jupyter-widgets/controls",
            "layout": "IPY_MODEL_3bb7ef7dfee04140b4112eaf4922b1e3"
          }
        },
        "c60bdb92fff6461381549ec4c5b43aee": {
          "model_module": "@jupyter-widgets/output",
          "model_name": "OutputModel",
          "state": {
            "_view_name": "OutputView",
            "msg_id": "",
            "_dom_classes": [],
            "_model_name": "OutputModel",
            "outputs": [
              {
                "output_type": "display_data",
                "metadata": {
                  "tags": [],
                  "needs_background": "light"
                },
                "image/png": "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\n",
                "text/plain": "<Figure size 720x720 with 1 Axes>"
              }
            ],
            "_view_module": "@jupyter-widgets/output",
            "_model_module_version": "1.0.0",
            "_view_count": null,
            "_view_module_version": "1.0.0",
            "layout": "IPY_MODEL_1f7741fa1e4046bb8297ebda3132a68e",
            "_model_module": "@jupyter-widgets/output"
          }
        },
        "15a5455a47744816b344aee388290d7b": {
          "model_module": "@jupyter-widgets/controls",
          "model_name": "SliderStyleModel",
          "state": {
            "_view_name": "StyleView",
            "handle_color": null,
            "_model_name": "SliderStyleModel",
            "description_width": "",
            "_view_module": "@jupyter-widgets/base",
            "_model_module_version": "1.5.0",
            "_view_count": null,
            "_view_module_version": "1.2.0",
            "_model_module": "@jupyter-widgets/controls"
          }
        },
        "3bb7ef7dfee04140b4112eaf4922b1e3": {
          "model_module": "@jupyter-widgets/base",
          "model_name": "LayoutModel",
          "state": {
            "_view_name": "LayoutView",
            "grid_template_rows": null,
            "right": null,
            "justify_content": null,
            "_view_module": "@jupyter-widgets/base",
            "overflow": null,
            "_model_module_version": "1.2.0",
            "_view_count": null,
            "flex_flow": null,
            "width": null,
            "min_width": null,
            "border": null,
            "align_items": null,
            "bottom": null,
            "_model_module": "@jupyter-widgets/base",
            "top": null,
            "grid_column": null,
            "overflow_y": null,
            "overflow_x": null,
            "grid_auto_flow": null,
            "grid_area": null,
            "grid_template_columns": null,
            "flex": null,
            "_model_name": "LayoutModel",
            "justify_items": null,
            "grid_row": null,
            "max_height": null,
            "align_content": null,
            "visibility": null,
            "align_self": null,
            "height": null,
            "min_height": null,
            "padding": null,
            "grid_auto_rows": null,
            "grid_gap": null,
            "max_width": null,
            "order": null,
            "_view_module_version": "1.2.0",
            "grid_template_areas": null,
            "object_position": null,
            "object_fit": null,
            "grid_auto_columns": null,
            "margin": null,
            "display": null,
            "left": null
          }
        },
        "1f7741fa1e4046bb8297ebda3132a68e": {
          "model_module": "@jupyter-widgets/base",
          "model_name": "LayoutModel",
          "state": {
            "_view_name": "LayoutView",
            "grid_template_rows": null,
            "right": null,
            "justify_content": null,
            "_view_module": "@jupyter-widgets/base",
            "overflow": null,
            "_model_module_version": "1.2.0",
            "_view_count": null,
            "flex_flow": null,
            "width": null,
            "min_width": null,
            "border": null,
            "align_items": null,
            "bottom": null,
            "_model_module": "@jupyter-widgets/base",
            "top": null,
            "grid_column": null,
            "overflow_y": null,
            "overflow_x": null,
            "grid_auto_flow": null,
            "grid_area": null,
            "grid_template_columns": null,
            "flex": null,
            "_model_name": "LayoutModel",
            "justify_items": null,
            "grid_row": null,
            "max_height": null,
            "align_content": null,
            "visibility": null,
            "align_self": null,
            "height": null,
            "min_height": null,
            "padding": null,
            "grid_auto_rows": null,
            "grid_gap": null,
            "max_width": null,
            "order": null,
            "_view_module_version": "1.2.0",
            "grid_template_areas": null,
            "object_position": null,
            "object_fit": null,
            "grid_auto_columns": null,
            "margin": null,
            "display": null,
            "left": null
          }
        }
      }
    }
  },
  "cells": [
    {
      "cell_type": "markdown",
      "metadata": {
        "id": "9XF-TuNgXuA0"
      },
      "source": [
        "# Fourier methods for solvinge PDEs\r\n",
        "In the problem set you looked the diffusion advection equation and how thios can be solved by Fourier methods. You solved this for an initial condition of a point source of dye.\r\n",
        "\r\n",
        "In the second part you looked at generalising this method and found that for a general initial condition the evolution can be expressed through convolutions. This workbook allows you to investigate some standard example numerically."
      ]
    },
    {
      "cell_type": "markdown",
      "metadata": {
        "id": "rsPKEaz7-ABt"
      },
      "source": [
        "## Initialisation code\r\n",
        "\r\n",
        "These few cells produce some functions for finding (to a good approximation) the various functions that we're interested in.  You don't need to understand the details of how any of this works, but feel free to ask.\r\n",
        "\r\n",
        "**You need to run all the cells in this section for anything to work.**"
      ]
    },
    {
      "cell_type": "code",
      "metadata": {
        "id": "f3fHrzs7-JGn"
      },
      "source": [
        "%matplotlib inline\r\n",
        "from matplotlib import pyplot\r\n",
        "import matplotlib\r\n",
        "import scipy.signal\r\n",
        "import numpy as np\r\n",
        "import ipywidgets"
      ],
      "execution_count": 1,
      "outputs": []
    },
    {
      "cell_type": "markdown",
      "metadata": {
        "id": "5Z3jdTNpEv2C"
      },
      "source": [
        "### Initial conditions"
      ]
    },
    {
      "cell_type": "code",
      "metadata": {
        "id": "ve5VqHWY_Ldp"
      },
      "source": [
        "def top_hat(x, width, amplitude = 1, centre = 0):\r\n",
        "  r\"\"\"\r\n",
        "    Generate a top hat function \r\n",
        "    \"\"\"\r\n",
        "  th = np.zeros(x.shape)\r\n",
        "  th[(x >= centre - width/2) & (x < centre + width/2)] = amplitude\r\n",
        "  return th\r\n",
        "\r\n",
        "def top_hat2D(x, y, width_x, width_y, centre = 0, amplitude = 1):\r\n",
        "  return top_hat(x, width_x, amplitude, centre) * top_hat(y, width_y, amplitude, centre)\r\n",
        "\r\n",
        "def approximateDiracDelta(x, amplitude = 1, centre = 0):\r\n",
        "  r\"\"\"\r\n",
        "    Generate a narrow top hat to approximate a delta\r\n",
        "    \"\"\"\r\n",
        "  return top_hat(x, 1, amplitude, centre)\r\n",
        "\r\n",
        "def approximateDiracDelta2D(x, y, amplitude = 1, centre = 0):\r\n",
        "  r\"\"\"\r\n",
        "    Generate a narrow top hat to approximate a delta\r\n",
        "    \"\"\"\r\n",
        "  return top_hat2D(x, y, 1, 1, centre, amplitude)\r\n",
        "\r\n",
        "def gauss_function(x, a, x0, sigma):\r\n",
        "  r\"\"\"\r\n",
        "    Generate a narrow top hat to approximate a delta\r\n",
        "    \"\"\"\r\n",
        "  return a / (np.sqrt(2 * np.pi) * sigma) * np.exp(-(x-x0)**2/(2*sigma**2))\r\n",
        "\r\n",
        "def gauss_function2D(x,y,a,x0,y0,sigma_x, sigma_y):\r\n",
        "  z = (1/(2*np.pi*sigma_x*sigma_y) * np.exp(-((x-x0)**2/(2*sigma_x**2)\r\n",
        "     + (y-y0)**2/(2*sigma_y**2))))\r\n",
        "  return z\r\n"
      ],
      "execution_count": 2,
      "outputs": []
    },
    {
      "cell_type": "markdown",
      "metadata": {
        "id": "5MHMIM4oE2kO"
      },
      "source": [
        "### Diffusion equations"
      ]
    },
    {
      "cell_type": "code",
      "metadata": {
        "id": "mlo2LJ2UAOiN"
      },
      "source": [
        "def diffusion1D(x, D, t = 0, x0 = 0, a = 1):\r\n",
        "  r'''\r\n",
        "  returns a Gaussian this is to be convolved with the initial condition\r\n",
        "  '''\r\n",
        "  #if t == 0: # treat time point one as a delta\r\n",
        "  #  g = approximateDiracDelta(x)\r\n",
        "  #else:\r\n",
        "  sigma = np.sqrt(2 * D * t)\r\n",
        "  g = gauss_function(x, a, x0, sigma)\r\n",
        "  return g\r\n",
        "\r\n",
        "def diffusion2D(x, y, Dx, Dy, t = 0, x0 = 0, y0= 0, a = 1):\r\n",
        "  r'''\r\n",
        "  returns a Gaussian this is to be convolved with the initial condition\r\n",
        "  '''\r\n",
        "  #if t == 0: # treat time point one as a delta\r\n",
        "  #  g = approximateDiracDelta2D(x, y, amplitude = 1, centre = 0)\r\n",
        "  #else:\r\n",
        "  sigma_x = np.sqrt(2 * Dx * t)\r\n",
        "  sigma_y = np.sqrt(2 * Dy * t)\r\n",
        "  g = gauss_function2D(x,y,a,x0,y0,sigma_x, sigma_y)\r\n",
        "  return g\r\n",
        "\r\n",
        "def getDiffusionAsFunctionOfTime(xs, ts, n0, g, D, c = 0):\r\n",
        "  gs = g(xs, D, ts, x0 = c * ts, a = 1)\r\n",
        "  diffusion = np.apply_along_axis(lambda m: np.convolve(m, n0, mode='same'), axis=1, arr=gs)\r\n",
        "  return diffusion\r\n",
        "\r\n"
      ],
      "execution_count": 3,
      "outputs": []
    },
    {
      "cell_type": "code",
      "metadata": {
        "id": "DEn-iwyIASXx"
      },
      "source": [
        "def diffusionplot(xs, n0, g, t, D = 10, x0 = 0):\r\n",
        "    r\"\"\"\r\n",
        "    Plot a function ``f`` and its Legendre-, Taylor- and Fourier-series\r\n",
        "    approximations of the given order on the interval ..math:`[-1, 1)`.\r\n",
        "    \"\"\"\r\n",
        "    cm = matplotlib.cm.viridis\r\n",
        "    _, axes = pyplot.subplots()\r\n",
        "    gs = g(xs, D, t, x0 = x0)  # np.array([for x in xs])\r\n",
        "    diffusion = np.convolve(gs, n0, mode = 'same')\r\n",
        "    axes.plot(xs, diffusion, label=\"n(x,t)\", linewidth=2)\r\n",
        "    axes.plot(xs, gs, label=\"g(x,t)\", linewidth=2, dashes=(5, 5))\r\n",
        "    axes.plot(xs, n0, label=\"n_0(x)\", linewidth=2, dashes=(5, 5))\r\n",
        "    axes.set_xlim((xs[0] - 0.03*(xs[-1]-xs[0]), xs[-1] + 0.03*(xs[-1]-xs[0])))\r\n",
        "    axes.set_xlabel('x')\r\n",
        "    axes.set_ylabel('n(x,t)')\r\n",
        "    mn, mx = np.min(n0), np.max(n0)\r\n",
        "    axes.legend()\r\n",
        "\r\n",
        "def diffusionplot2D(xs, ys, n0, g, t, Dx = 10, Dy = 1):\r\n",
        "  r\"\"\"\r\n",
        "  Plot a function ``f`` and its Legendre-, Taylor- and Fourier-series\r\n",
        "  approximations of the given order on the interval ..math:`[-1, 1)`.\r\n",
        "  \"\"\"\r\n",
        "  cm = matplotlib.cm.viridis\r\n",
        "  _, axes = pyplot.subplots(figsize = [10,10])\r\n",
        "  gs = g(xs, ys, Dx, Dy, t)  # np.array([for x in xs])\r\n",
        "  diffusion = scipy.signal.convolve2d(gs, n0, mode = 'same')\r\n",
        "  axes.contourf(xs, ys, diffusion, cmap='Blues')\r\n",
        "\r\n",
        "def diffusionPlotTime(x,xs,ts,diffusion):\r\n",
        "  _, axes = pyplot.subplots()\r\n",
        "  axes.plot(ts[xs==x], diffusion[xs==x])\r\n",
        "  mn, mx = np.min(diffusion), np.max(diffusion)\r\n",
        "  axes.set_ylim((mn - 0.1*(mx-mn), mx + 0.1*(mx-mn)))\r\n",
        "  axes.set_xlabel('t')\r\n",
        "  axes.set_ylabel('n(x,t)')"
      ],
      "execution_count": 4,
      "outputs": []
    },
    {
      "cell_type": "markdown",
      "metadata": {
        "id": "-64GW_vIfJRE"
      },
      "source": [
        "# Investigating diffusion with different initial conditions"
      ]
    },
    {
      "cell_type": "markdown",
      "metadata": {
        "id": "SUEMqd35fPHD"
      },
      "source": [
        "## Infinitely small point (delta function)"
      ]
    },
    {
      "cell_type": "code",
      "metadata": {
        "colab": {
          "base_uri": "https://localhost:8080/",
          "height": 311,
          "referenced_widgets": [
            "9b119e14673d47df8309a897a1b2bce7",
            "31ed899283034454a98b53ef107fb259",
            "93e0b78f32f643ac8553d4d7026bebbf",
            "18f7bcb0f52040489604f005e1edd901",
            "e1d192690fba491687b5b1e925e6f1ef",
            "a955bad9ed6e48829fe86adaecb1f051",
            "6a4b3339bbb24d4ebb20b4d16b1c1b7f"
          ]
        },
        "id": "trEbNmCDQU1t",
        "outputId": "3ba6f302-6ef6-419d-d6de-c56bd79fc638"
      },
      "source": [
        "x = np.linspace(-30, 30, 101)\r\n",
        "\r\n",
        "ipywidgets.interact(\r\n",
        "    lambda t: diffusionplot(x, approximateDiracDelta(x), diffusion1D, t, D = 0.1, x0 = 0),\r\n",
        "    t=(1, 50, 1),\r\n",
        ");"
      ],
      "execution_count": 5,
      "outputs": [
        {
          "output_type": "display_data",
          "data": {
            "application/vnd.jupyter.widget-view+json": {
              "model_id": "9b119e14673d47df8309a897a1b2bce7",
              "version_minor": 0,
              "version_major": 2
            },
            "text/plain": [
              "interactive(children=(IntSlider(value=25, description='t', max=50, min=1), Output()), _dom_classes=('widget-in…"
            ]
          },
          "metadata": {
            "tags": []
          }
        }
      ]
    },
    {
      "cell_type": "markdown",
      "metadata": {
        "id": "s1H5Ns-6faRe"
      },
      "source": [
        "## Top hat function"
      ]
    },
    {
      "cell_type": "code",
      "metadata": {
        "colab": {
          "base_uri": "https://localhost:8080/",
          "height": 311,
          "referenced_widgets": [
            "e864d3ad864b4a56a9671b3614409f1b",
            "5ef0023ef50b4728a1cc22d99ad15615",
            "a8ae73a28bd6418892417d2ec32afcad",
            "fab3c6455e0b4cb1ba2082585f189b1f",
            "134c985cf88d4d72b3bf1715465ba452",
            "20ae88bf4f494ffbac3a2c3be243c44f",
            "ff592fc71bf34560af185dc36e480414"
          ]
        },
        "id": "G2iyPAuPJW4j",
        "outputId": "249fde32-cd2b-4c8d-8cd0-969da56f35c5"
      },
      "source": [
        "x = np.linspace(-50, 50, 101)\r\n",
        "\r\n",
        "ipywidgets.interact(\r\n",
        "    lambda t: diffusionplot(x, top_hat(x, 10, 1), diffusion1D, t, D = 0.1),\r\n",
        "    t=(1, 50, 1),\r\n",
        ");"
      ],
      "execution_count": 6,
      "outputs": [
        {
          "output_type": "display_data",
          "data": {
            "application/vnd.jupyter.widget-view+json": {
              "model_id": "e864d3ad864b4a56a9671b3614409f1b",
              "version_minor": 0,
              "version_major": 2
            },
            "text/plain": [
              "interactive(children=(IntSlider(value=25, description='t', max=50, min=1), Output()), _dom_classes=('widget-in…"
            ]
          },
          "metadata": {
            "tags": []
          }
        }
      ]
    },
    {
      "cell_type": "markdown",
      "metadata": {
        "id": "wZxCKK1-ffkj"
      },
      "source": [
        "## Two points next to one another\r\n",
        "Consider two infinitely small ink drops in water seperated by distance r. If the ink diffusesd with constant D consider the time at which the two ink drops become indistiguishable.\r\n",
        "\r\n",
        "**Note:** There are a range of definitions on when two neighbouring Gaussians become indistinguishable. For simplicity consider two Gaussians (of amplitude A) to be seperate when the sum of the two Gaussians at x = 0 is 80 % of the peak amplitude. "
      ]
    },
    {
      "cell_type": "code",
      "metadata": {
        "colab": {
          "base_uri": "https://localhost:8080/",
          "height": 311,
          "referenced_widgets": [
            "ef074ff89e614b33a32fd1428474a28d",
            "40ac30da5af94c5db60a23c64ba61ce5",
            "98ca557db27944fb88c68464a861c792",
            "9d8071d04d7b4df1854ce9947976eaf4",
            "910390a947fc4e9eb318b4aa540e6a37",
            "fbad429117114138a3b28d62095e7afd",
            "06c37c93fe594b52b9e7f8e0aeec76ec"
          ]
        },
        "id": "Pz_EzazIQVh1",
        "outputId": "e698ad38-8959-4200-ef91-8fdd21435070"
      },
      "source": [
        "x = np.linspace(-30, 30, 101)\r\n",
        "\r\n",
        "ipywidgets.interact(\r\n",
        "    lambda t: diffusionplot(x, approximateDiracDelta(x, centre = -5) + approximateDiracDelta(x, centre = 5, amplitude = 1), diffusion1D, t, D = 0.2),\r\n",
        "    t=(1, 100, 1),\r\n",
        ");"
      ],
      "execution_count": 15,
      "outputs": [
        {
          "output_type": "display_data",
          "data": {
            "application/vnd.jupyter.widget-view+json": {
              "model_id": "ef074ff89e614b33a32fd1428474a28d",
              "version_minor": 0,
              "version_major": 2
            },
            "text/plain": [
              "interactive(children=(IntSlider(value=50, description='t', min=1), Output()), _dom_classes=('widget-interact',…"
            ]
          },
          "metadata": {
            "tags": []
          }
        }
      ]
    },
    {
      "cell_type": "markdown",
      "metadata": {
        "id": "QNKQPjWYNRkL"
      },
      "source": [
        "# Diffusion advection\r\n",
        "The above methods can be applied in the diffusion advection problem from the problem sheet. Below are examples of n(x,t)  "
      ]
    },
    {
      "cell_type": "markdown",
      "metadata": {
        "id": "6WtUVTETDGTm"
      },
      "source": [
        "## Spatial profile at different times\r\n",
        "### Diffusion from a point"
      ]
    },
    {
      "cell_type": "code",
      "metadata": {
        "colab": {
          "base_uri": "https://localhost:8080/",
          "height": 311,
          "referenced_widgets": [
            "90c9b4ed54f74c1da371963e5aa4a6be",
            "28725abcd0a04f21b16212d08c8ba09f",
            "d3a7f50e3e224554baac9e73255d3325",
            "502acd415e694e66af8d9ed5e4c937a7",
            "8af90431c0344b4abfd7d87864b68009",
            "812c35967ea64fe9bf0c3078802ad76e",
            "4dcfa23c67064f35a2fae9d835296fb3"
          ]
        },
        "id": "ykB8Iy9HN5gg",
        "outputId": "6a45eae3-6947-4bc5-e687-81e5d87d84b9"
      },
      "source": [
        "xtime = np.linspace(-30, 30, 101)\r\n",
        "c = 0.2\r\n",
        "\r\n",
        "ipywidgets.interact(\r\n",
        "    lambda t: diffusionplot(xtime, approximateDiracDelta(xtime), diffusion1D, t, D = 0.1, x0 = c * t),\r\n",
        "    t=(0, 50, 1),\r\n",
        ");"
      ],
      "execution_count": 9,
      "outputs": [
        {
          "output_type": "display_data",
          "data": {
            "application/vnd.jupyter.widget-view+json": {
              "model_id": "90c9b4ed54f74c1da371963e5aa4a6be",
              "version_minor": 0,
              "version_major": 2
            },
            "text/plain": [
              "interactive(children=(IntSlider(value=25, description='t', max=50), Output()), _dom_classes=('widget-interact'…"
            ]
          },
          "metadata": {
            "tags": []
          }
        }
      ]
    },
    {
      "cell_type": "markdown",
      "metadata": {
        "id": "guBr7xxyDXhe"
      },
      "source": [
        "## Temporal profile at different positions\r\n",
        "### Diffusion from a point"
      ]
    },
    {
      "cell_type": "code",
      "metadata": {
        "colab": {
          "base_uri": "https://localhost:8080/",
          "height": 311,
          "referenced_widgets": [
            "8395ab3033624350a9f925b7586602b9",
            "12480c8e244f41ce9709769dfd958bf9",
            "4d371f4dff194ac6936040c7e27e6880",
            "48b964a1f6ed454da765a4596c11f997",
            "0c0bab8735744d47b3cf6aace6f76248",
            "908f1ca1abb84d0eb2980bc32452d802",
            "5c03a7773fa8425c86f78c23af13ada5"
          ]
        },
        "id": "6--mHWIODiEi",
        "outputId": "617789f0-e2d6-4ff3-d8ab-eba200c39c99"
      },
      "source": [
        "width = 10\r\n",
        "size = 300\r\n",
        "D = 1\r\n",
        "c = 0.5\r\n",
        "\r\n",
        "xs = np.arange(-100, 100)\r\n",
        "n0 = approximateDiracDelta(xs)\r\n",
        "ts = np.arange(1, 201)\r\n",
        "xs, ts = np.meshgrid(xs, ts)\r\n",
        "diffusionDD = getDiffusionAsFunctionOfTime(xs, ts, n0, diffusion1D, D, c)\r\n",
        "\r\n",
        "\r\n",
        "ipywidgets.interact(\r\n",
        "    lambda x: diffusionPlotTime(x,xs,ts,diffusionDD),\r\n",
        "    x=(np.min(xs), np.max(xs), 1),\r\n",
        ");"
      ],
      "execution_count": 10,
      "outputs": [
        {
          "output_type": "display_data",
          "data": {
            "application/vnd.jupyter.widget-view+json": {
              "model_id": "8395ab3033624350a9f925b7586602b9",
              "version_minor": 0,
              "version_major": 2
            },
            "text/plain": [
              "interactive(children=(IntSlider(value=-1, description='x', max=99, min=-100), Output()), _dom_classes=('widget…"
            ]
          },
          "metadata": {
            "tags": []
          }
        }
      ]
    },
    {
      "cell_type": "markdown",
      "metadata": {
        "id": "L9YjPRwADiT3"
      },
      "source": [
        "### Diffusion from neighbouring top hats"
      ]
    },
    {
      "cell_type": "code",
      "metadata": {
        "id": "VrNxxUpxdk5-",
        "colab": {
          "base_uri": "https://localhost:8080/",
          "height": 613
        },
        "outputId": "97c9259d-cd1f-4f61-b508-954c3eee5819"
      },
      "source": [
        "width = 10\r\n",
        "size = 300\r\n",
        "D = 0.5\r\n",
        "c = 0.5\r\n",
        "\r\n",
        "xs = np.arange(-100, 100)\r\n",
        "n0 = top_hat(xs, width, amplitude = 1, centre = -10) +  top_hat(xs, width, amplitude = 1, centre = +10)\r\n",
        "ts = np.arange(1, 201)\r\n",
        "xs, ts = np.meshgrid(xs, ts)\r\n",
        "diffusionTH = getDiffusionAsFunctionOfTime(xs, ts, n0, diffusion1D, D, c)\r\n",
        "\r\n",
        "\r\n",
        "_, axes = pyplot.subplots(figsize = [10,10])\r\n",
        "axes.contourf(xs, ts, diffusionTH, cmap='Blues')\r\n"
      ],
      "execution_count": 11,
      "outputs": [
        {
          "output_type": "execute_result",
          "data": {
            "text/plain": [
              "<matplotlib.contour.QuadContourSet at 0x7f81d81dec18>"
            ]
          },
          "metadata": {
            "tags": []
          },
          "execution_count": 11
        },
        {
          "output_type": "display_data",
          "data": {
            "image/png": "[encoded data removed]",
            "text/plain": [
              "<Figure size 720x720 with 1 Axes>"
            ]
          },
          "metadata": {
            "tags": [],
            "needs_background": "light"
          }
        }
      ]
    },
    {
      "cell_type": "code",
      "metadata": {
        "id": "BOywoPjwnxbx",
        "colab": {
          "base_uri": "https://localhost:8080/",
          "height": 311,
          "referenced_widgets": [
            "4ac98df6506947c7bb8ea30efc3cfdd7",
            "6c9cb099afb44497a6aeb960b001c4d1",
            "f764d7915919417a8aa33fe8cdb4c56a",
            "91e34894f92446f1b8935f0018e0f38c",
            "ce192b66b8c5454b97ce4fe15eddf2d7",
            "524042eaa9a540049430de8bf0b4db35",
            "5a8811f1c6da4922945bf6b0ad1ca4af"
          ]
        },
        "outputId": "25d0fc90-5775-493f-daeb-5a21879c1907"
      },
      "source": [
        "ipywidgets.interact(\r\n",
        "    lambda x: diffusionPlotTime(x,xs,ts,diffusionTH),\r\n",
        "    x=(np.min(xs), np.max(xs), 1),\r\n",
        ");"
      ],
      "execution_count": 12,
      "outputs": [
        {
          "output_type": "display_data",
          "data": {
            "application/vnd.jupyter.widget-view+json": {
              "model_id": "4ac98df6506947c7bb8ea30efc3cfdd7",
              "version_minor": 0,
              "version_major": 2
            },
            "text/plain": [
              "interactive(children=(IntSlider(value=-1, description='x', max=99, min=-100), Output()), _dom_classes=('widget…"
            ]
          },
          "metadata": {
            "tags": []
          }
        }
      ]
    },
    {
      "cell_type": "markdown",
      "metadata": {
        "id": "1amlMrECuB83"
      },
      "source": [
        "# Diffusion in 2D with different coefficients"
      ]
    },
    {
      "cell_type": "code",
      "metadata": {
        "colab": {
          "base_uri": "https://localhost:8080/",
          "height": 624,
          "referenced_widgets": [
            "1dabdba7d50341c4882798a300a6f196",
            "a752f049f65b4262a5e5311e332c3214",
            "87e34bbcd66e45b2aa7be4a0f090482a",
            "c60bdb92fff6461381549ec4c5b43aee",
            "15a5455a47744816b344aee388290d7b",
            "3bb7ef7dfee04140b4112eaf4922b1e3",
            "1f7741fa1e4046bb8297ebda3132a68e"
          ]
        },
        "id": "OOYEtjt9oeQH",
        "outputId": "6d6154f9-c6f3-41e1-928f-82625170d044"
      },
      "source": [
        "size = 101\r\n",
        "x2D = np.linspace(-50, 50, size)\r\n",
        "y2D = np.linspace(-50, 50, size)\r\n",
        "x2D, y2D = np.meshgrid(x2D, y2D)\r\n",
        "\r\n",
        "width_x = 10\r\n",
        "width_y = 1\r\n",
        "\r\n",
        "D_x = 2\r\n",
        "D_y = 5\r\n",
        "\r\n",
        "ipywidgets.interact(\r\n",
        "    lambda t: diffusionplot2D(x2D,y2D, top_hat2D(x2D, y2D, width_x, width_y), diffusion2D, t, D_x, D_y),\r\n",
        "    t=(1, 50, 1),\r\n",
        ");"
      ],
      "execution_count": 8,
      "outputs": [
        {
          "output_type": "display_data",
          "data": {
            "application/vnd.jupyter.widget-view+json": {
              "model_id": "1dabdba7d50341c4882798a300a6f196",
              "version_minor": 0,
              "version_major": 2
            },
            "text/plain": [
              "interactive(children=(IntSlider(value=25, description='t', max=50, min=1), Output()), _dom_classes=('widget-in…"
            ]
          },
          "metadata": {
            "tags": []
          }
        }
      ]
    }
  ]
}